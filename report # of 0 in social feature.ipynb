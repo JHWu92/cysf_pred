{
 "cells": [
  {
   "cell_type": "code",
   "execution_count": 25,
   "metadata": {
    "collapsed": true
   },
   "outputs": [],
   "source": [
    "import pandas as pd\n",
    "import pickle\n",
    "%matplotlib inline"
   ]
  },
  {
   "cell_type": "code",
   "execution_count": 9,
   "metadata": {
    "collapsed": true
   },
   "outputs": [],
   "source": [
    "# load features\n",
    "x_type = pd.read_csv('data/x_NO_TOTAL_~2014.csv')\n",
    "category_type = pickle.load(open('data/x_NO_TOTAL_~2014_cols_by_type.pkl','rb'))\n",
    "x_total = pd.read_csv('data/x_TOTAL_~2014.csv')\n",
    "category_total = pickle.load(open('data/x_TOTAL_~2014_cols_by_type.pkl','rb'))"
   ]
  },
  {
   "cell_type": "code",
   "execution_count": 21,
   "metadata": {},
   "outputs": [
    {
     "data": {
      "text/plain": [
       "72"
      ]
     },
     "execution_count": 21,
     "metadata": {},
     "output_type": "execute_result"
    }
   ],
   "source": [
    "len(category_type['311'])"
   ]
  },
  {
   "cell_type": "code",
   "execution_count": 49,
   "metadata": {},
   "outputs": [],
   "source": [
    "def social_ftr_cols(category):\n",
    "    return category['311'] + category['crime'] + category['v0']\\\n",
    "            + category['moving'] + category['parking'] + category['crash'] + category['poi']\n",
    "def find_col_type(column, category):\n",
    "    for t, array in category.items():\n",
    "        if column in array:\n",
    "            return t\n",
    "    return 'None'"
   ]
  },
  {
   "cell_type": "code",
   "execution_count": 50,
   "metadata": {
    "collapsed": true
   },
   "outputs": [],
   "source": [
    "social_ftr_by_type = social_ftr_cols(category_type)\n",
    "social_ftr_by_total = social_ftr_cols(category_total)"
   ]
  },
  {
   "cell_type": "code",
   "execution_count": null,
   "metadata": {
    "collapsed": true
   },
   "outputs": [],
   "source": []
  },
  {
   "cell_type": "code",
   "execution_count": null,
   "metadata": {
    "collapsed": true
   },
   "outputs": [],
   "source": []
  },
  {
   "cell_type": "code",
   "execution_count": 51,
   "metadata": {},
   "outputs": [
    {
     "data": {
      "text/plain": [
       "311_total                      0.060124\n",
       "311_total_not_parking_meter    0.702707\n",
       "crime_total                    0.036755\n",
       "v0_total                       0.648647\n",
       "moving_total                   0.002514\n",
       "parking_total                  0.002514\n",
       "crash_total                    0.000000\n",
       "poi_total                      0.092146\n",
       "dtype: float64"
      ]
     },
     "execution_count": 51,
     "metadata": {},
     "output_type": "execute_result"
    }
   ],
   "source": [
    "(x_total[social_ftr_by_total]==0).mean()"
   ]
  },
  {
   "cell_type": "code",
   "execution_count": null,
   "metadata": {
    "collapsed": true
   },
   "outputs": [],
   "source": []
  },
  {
   "cell_type": "code",
   "execution_count": 52,
   "metadata": {
    "collapsed": true
   },
   "outputs": [],
   "source": [
    "stats = (x_type[social_ftr_by_type]==0).mean().to_frame().reset_index()\n",
    "stats.columns = ['col', 'pcnt']\n",
    "stats['feature'] = stats.col.apply(lambda x: find_col_type(x, category_type))"
   ]
  },
  {
   "cell_type": "code",
   "execution_count": 53,
   "metadata": {
    "collapsed": true
   },
   "outputs": [],
   "source": [
    "stats.to_csv('deliverables/experiment_1001/sparsity-per-type.csv')"
   ]
  }
 ],
 "metadata": {
  "kernelspec": {
   "display_name": "Python 3",
   "language": "python",
   "name": "python3"
  },
  "language_info": {
   "codemirror_mode": {
    "name": "ipython",
    "version": 3
   },
   "file_extension": ".py",
   "mimetype": "text/x-python",
   "name": "python",
   "nbconvert_exporter": "python",
   "pygments_lexer": "ipython3",
   "version": "3.6.1"
  }
 },
 "nbformat": 4,
 "nbformat_minor": 2
}
