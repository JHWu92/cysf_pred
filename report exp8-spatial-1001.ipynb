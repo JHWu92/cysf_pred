{
 "cells": [
  {
   "cell_type": "code",
   "execution_count": 1,
   "metadata": {
    "collapsed": true
   },
   "outputs": [],
   "source": [
    "from src.experiment_based_function import SEEDS\n",
    "import pandas as pd\n",
    "%matplotlib inline"
   ]
  },
  {
   "cell_type": "code",
   "execution_count": 2,
   "metadata": {
    "collapsed": true
   },
   "outputs": [],
   "source": [
    "import os\n",
    "import glob\n"
   ]
  },
  {
   "cell_type": "code",
   "execution_count": 3,
   "metadata": {
    "collapsed": true
   },
   "outputs": [],
   "source": [
    "eval_or_grid='eval'"
   ]
  },
  {
   "cell_type": "code",
   "execution_count": 4,
   "metadata": {
    "collapsed": true
   },
   "outputs": [],
   "source": [
    "def get_exp8_result(eval_or_grid='eval'):\n",
    "    res = []    \n",
    "    for fn in glob.glob('experiment_1001/exp8-spatial/*/%s_res.csv' % eval_or_grid):\n",
    "        _, seed, _ = fn.split(os.path.sep)\n",
    "        seed = seed.replace('seed_','')\n",
    "        df = pd.read_csv(fn, index_col=0)\n",
    "        df['seed'] = seed\n",
    "        res.append(df)\n",
    "    return pd.concat(res)"
   ]
  },
  {
   "cell_type": "code",
   "execution_count": 5,
   "metadata": {
    "collapsed": true
   },
   "outputs": [],
   "source": [
    "col_mapping = {' ': ' ',\n",
    " 'RoadNet': 'RoadNet+Spatial',\n",
    " 'Segment_NO_TOTAL_~2014+Spatial': 'Social type+Spatial', \n",
    " 'Segment_TOTAL_~2014+Spatial': 'Social total+Spatial',\n",
    " 'RoadNet+Segment_NO_TOTAL_~2014+Spatial': 'RoadNet+Social type+Spatial', \n",
    " 'RoadNet+Segment_TOTAL_~2014+Spatial': 'RoadNet+Social total+Spatial'}\n"
   ]
  },
  {
   "cell_type": "code",
   "execution_count": 6,
   "metadata": {
    "collapsed": true
   },
   "outputs": [],
   "source": [
    "eval_res = get_exp8_result('eval')\n",
    "\n",
    "eval_res.ftr_combo_name = eval_res.ftr_combo_name.apply(lambda x: col_mapping[x])"
   ]
  },
  {
   "cell_type": "code",
   "execution_count": 7,
   "metadata": {
    "scrolled": true
   },
   "outputs": [
    {
     "data": {
      "text/plain": [
       "(Index(['#ftr_all', '#ftr_keep', '#test_sample', '#train_sample',\n",
       "        'ftr_combo_name', 'model_name', 'test_acc', 'test_f1_macro',\n",
       "        'test_f1_micro', 'test_f1_weighted', 'test_mse', 'test_n_classes',\n",
       "        'train_acc', 'train_f1_macro', 'train_f1_micro', 'train_f1_weighted',\n",
       "        'train_mse', 'train_n_classes', 'y_dist', 'seed'],\n",
       "       dtype='object'), (100, 20))"
      ]
     },
     "execution_count": 7,
     "metadata": {},
     "output_type": "execute_result"
    }
   ],
   "source": [
    "eval_res.columns, eval_res.shape"
   ]
  },
  {
   "cell_type": "code",
   "execution_count": 8,
   "metadata": {},
   "outputs": [
    {
     "name": "stdout",
     "output_type": "stream",
     "text": [
      "train {5: 100}\n",
      "test {5: 80, 4: 20}\n",
      "train test\n",
      "(5, 5)    80\n",
      "(5, 4)    20\n",
      "dtype: int64\n"
     ]
    }
   ],
   "source": [
    "print('train', eval_res.train_n_classes.value_counts().to_dict())\n",
    "print('test', eval_res.test_n_classes.value_counts().to_dict())\n",
    "\n",
    "\n",
    "print('train', 'test')\n",
    "print(eval_res.apply(lambda x: (x.train_n_classes, x.test_n_classes), axis=1).value_counts())"
   ]
  },
  {
   "cell_type": "code",
   "execution_count": 9,
   "metadata": {
    "collapsed": true
   },
   "outputs": [],
   "source": [
    "f1_choices = ['test_f1_weighted', 'test_f1_macro', 'test_f1_micro']"
   ]
  },
  {
   "cell_type": "code",
   "execution_count": 10,
   "metadata": {
    "collapsed": true
   },
   "outputs": [],
   "source": [
    "keys = ['ftr_combo_name', 'model_name']\n",
    "means = eval_res.groupby(keys).mean()[f1_choices]\n",
    "stds = eval_res.groupby(keys).std()[f1_choices]\n"
   ]
  },
  {
   "cell_type": "code",
   "execution_count": 11,
   "metadata": {
    "collapsed": true
   },
   "outputs": [],
   "source": [
    "def deliverable_table(table):\n",
    "    table = table[['RoadNet+Spatial', 'Social total+Spatial', 'Social type+Spatial', 'RoadNet+Social total+Spatial', 'RoadNet+Social type+Spatial']]\n",
    "    \n",
    "    return table"
   ]
  },
  {
   "cell_type": "code",
   "execution_count": 14,
   "metadata": {},
   "outputs": [
    {
     "data": {
      "text/html": [
       "<div>\n",
       "<style>\n",
       "    .dataframe thead tr:only-child th {\n",
       "        text-align: right;\n",
       "    }\n",
       "\n",
       "    .dataframe thead th {\n",
       "        text-align: left;\n",
       "    }\n",
       "\n",
       "    .dataframe tbody tr th {\n",
       "        vertical-align: top;\n",
       "    }\n",
       "</style>\n",
       "<table border=\"1\" class=\"dataframe\">\n",
       "  <thead>\n",
       "    <tr style=\"text-align: right;\">\n",
       "      <th>test_f1_macro</th>\n",
       "      <th>RoadNet+Spatial</th>\n",
       "      <th>Social total+Spatial</th>\n",
       "      <th>Social type+Spatial</th>\n",
       "      <th>RoadNet+Social total+Spatial</th>\n",
       "      <th>RoadNet+Social type+Spatial</th>\n",
       "    </tr>\n",
       "  </thead>\n",
       "  <tbody>\n",
       "    <tr>\n",
       "      <th>BAGcls</th>\n",
       "      <td>0.376816</td>\n",
       "      <td>0.319912</td>\n",
       "      <td>0.384396</td>\n",
       "      <td>0.407164</td>\n",
       "      <td>0.402601</td>\n",
       "    </tr>\n",
       "    <tr>\n",
       "      <th>XGBcls</th>\n",
       "      <td>0.366969</td>\n",
       "      <td>0.335349</td>\n",
       "      <td>0.408165</td>\n",
       "      <td>0.381941</td>\n",
       "      <td>0.421244</td>\n",
       "    </tr>\n",
       "  </tbody>\n",
       "</table>\n",
       "</div>"
      ],
      "text/plain": [
       "test_f1_macro  RoadNet+Spatial  Social total+Spatial  Social type+Spatial  \\\n",
       "BAGcls                0.376816              0.319912             0.384396   \n",
       "XGBcls                0.366969              0.335349             0.408165   \n",
       "\n",
       "test_f1_macro  RoadNet+Social total+Spatial  RoadNet+Social type+Spatial  \n",
       "BAGcls                             0.407164                     0.402601  \n",
       "XGBcls                             0.381941                     0.421244  "
      ]
     },
     "execution_count": 14,
     "metadata": {},
     "output_type": "execute_result"
    }
   ],
   "source": [
    "f1_type = f1_choices[1]\n",
    "table = means.reset_index().pivot(index='model_name', columns='ftr_combo_name', values=f1_type)\n",
    "\n",
    "dtb = deliverable_table(table)\n",
    "dtb.index.name=None\n",
    "dtb.columns.name=f1_type\n",
    "dtb\n"
   ]
  },
  {
   "cell_type": "code",
   "execution_count": null,
   "metadata": {
    "collapsed": true
   },
   "outputs": [],
   "source": []
  }
 ],
 "metadata": {
  "kernelspec": {
   "display_name": "Python 3",
   "language": "python",
   "name": "python3"
  },
  "language_info": {
   "codemirror_mode": {
    "name": "ipython",
    "version": 3
   },
   "file_extension": ".py",
   "mimetype": "text/x-python",
   "name": "python",
   "nbconvert_exporter": "python",
   "pygments_lexer": "ipython3",
   "version": "3.6.1"
  }
 },
 "nbformat": 4,
 "nbformat_minor": 2
}
