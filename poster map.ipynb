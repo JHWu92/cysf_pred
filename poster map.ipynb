{
 "cells": [
  {
   "cell_type": "code",
   "execution_count": 1,
   "metadata": {},
   "outputs": [],
   "source": [
    "import pandas as pd\n",
    "from wKit.ML.sk_ml import grid_cv_a_model, grid_cv_default_params\n",
    "import warnings\n",
    "from sklearn.exceptions import UndefinedMetricWarning\n",
    "warnings.filterwarnings(\"ignore\", category=UndefinedMetricWarning)\n",
    "from sklearn.metrics import f1_score\n",
    "\n",
    "import xgboost"
   ]
  },
  {
   "cell_type": "code",
   "execution_count": 2,
   "metadata": {
    "collapsed": true
   },
   "outputs": [],
   "source": [
    "def load_data():\n",
    "    Xs = {'RoadNet': pd.read_csv('data/x_RoadNet.csv', index_col=0)}\n",
    "\n",
    "    for ftr_type in ['Segment', 'RoadNet+Segment']:\n",
    "        for total_or_not in ['NO_TOTAL', 'TOTAL']:\n",
    "            feature_combo_name = '%s_%s_%s' % (ftr_type, total_or_not, '~2014')\n",
    "            Xs[feature_combo_name] = pd.read_csv('data/x_%s.csv' % feature_combo_name, index_col=0)\n",
    "\n",
    "    return Xs"
   ]
  },
  {
   "cell_type": "code",
   "execution_count": 3,
   "metadata": {},
   "outputs": [],
   "source": [
    "Xs = load_data()"
   ]
  },
  {
   "cell_type": "code",
   "execution_count": 4,
   "metadata": {
    "collapsed": true
   },
   "outputs": [],
   "source": [
    "y = pd.read_csv('data/y_csl_all-2017-10-01.csv', index_col=0).csl.round()"
   ]
  },
  {
   "cell_type": "code",
   "execution_count": 5,
   "metadata": {},
   "outputs": [],
   "source": [
    "X = Xs['RoadNet+Segment_NO_TOTAL_~2014']\n",
    "X = X.loc[y.index]"
   ]
  },
  {
   "cell_type": "code",
   "execution_count": 7,
   "metadata": {},
   "outputs": [
    {
     "name": "stdout",
     "output_type": "stream",
     "text": [
      "2017-10-21 10:36:05.917203 CVing: kind = cls, model = XGBcls\n",
      "Fitting 5 folds for each of 64 candidates, totalling 320 fits\n"
     ]
    },
    {
     "name": "stderr",
     "output_type": "stream",
     "text": [
      "[Parallel(n_jobs=4)]: Done  42 tasks      | elapsed:   40.1s\n",
      "[Parallel(n_jobs=4)]: Done 192 tasks      | elapsed:  2.9min\n",
      "[Parallel(n_jobs=4)]: Done 320 out of 320 | elapsed:  5.3min finished\n"
     ]
    },
    {
     "name": "stdout",
     "output_type": "stream",
     "text": [
      "2017-10-21 10:41:29.966753 CVing: kind = cls, model = XGBcls\n",
      "Fitting 5 folds for each of 64 candidates, totalling 320 fits\n"
     ]
    },
    {
     "name": "stderr",
     "output_type": "stream",
     "text": [
      "[Parallel(n_jobs=4)]: Done  42 tasks      | elapsed:   46.1s\n",
      "[Parallel(n_jobs=4)]: Done 192 tasks      | elapsed:  3.2min\n",
      "[Parallel(n_jobs=4)]: Done 320 out of 320 | elapsed:  5.5min finished\n"
     ]
    },
    {
     "name": "stdout",
     "output_type": "stream",
     "text": [
      "2017-10-21 10:47:06.125333 CVing: kind = cls, model = XGBcls\n",
      "Fitting 5 folds for each of 64 candidates, totalling 320 fits\n"
     ]
    },
    {
     "name": "stderr",
     "output_type": "stream",
     "text": [
      "/home/jhwu92/miniconda3/lib/python3.6/site-packages/sklearn/model_selection/_split.py:597: Warning: The least populated class in y has only 3 members, which is too few. The minimum number of members in any class cannot be less than n_splits=5.\n",
      "  % (min_groups, self.n_splits)), Warning)\n",
      "[Parallel(n_jobs=4)]: Done  42 tasks      | elapsed:   41.3s\n",
      "[Parallel(n_jobs=4)]: Done 192 tasks      | elapsed:  2.9min\n",
      "[Parallel(n_jobs=4)]: Done 320 out of 320 | elapsed:  5.0min finished\n"
     ]
    },
    {
     "name": "stdout",
     "output_type": "stream",
     "text": [
      "2017-10-21 10:52:10.964233 CVing: kind = cls, model = XGBcls\n",
      "Fitting 5 folds for each of 64 candidates, totalling 320 fits\n"
     ]
    },
    {
     "name": "stderr",
     "output_type": "stream",
     "text": [
      "[Parallel(n_jobs=4)]: Done  42 tasks      | elapsed:   39.6s\n",
      "[Parallel(n_jobs=4)]: Done 192 tasks      | elapsed:  2.8min\n",
      "[Parallel(n_jobs=4)]: Done 320 out of 320 | elapsed:  4.9min finished\n"
     ]
    },
    {
     "name": "stdout",
     "output_type": "stream",
     "text": [
      "2017-10-21 10:57:10.145836 CVing: kind = cls, model = XGBcls\n",
      "Fitting 5 folds for each of 64 candidates, totalling 320 fits\n"
     ]
    },
    {
     "name": "stderr",
     "output_type": "stream",
     "text": [
      "[Parallel(n_jobs=4)]: Done  42 tasks      | elapsed:   39.7s\n",
      "[Parallel(n_jobs=4)]: Done 192 tasks      | elapsed:  2.8min\n",
      "[Parallel(n_jobs=4)]: Done 320 out of 320 | elapsed:  5.0min finished\n"
     ]
    }
   ],
   "source": [
    "idx_list = y.index.tolist()\n",
    "pd.np.random.shuffle(idx_list)\n",
    "\n",
    "df_all = []\n",
    "f1_micro = []\n",
    "f1_macro = []\n",
    "for idx in pd.np.array_split(idx_list,5):\n",
    "    test_y = y.loc[idx]\n",
    "    train_y = y[~y.index.isin(idx)]\n",
    "    test_X = X.loc[idx]\n",
    "    train_X = X[~X.index.isin(idx)]\n",
    "    cls = xgboost.XGBClassifier()\n",
    "    params = grid_cv_default_params()['cls']['XGBcls']\n",
    "    res = grid_cv_a_model(train_X, train_y, cls, params, 'cls', 'XGBcls', save_res=False)    \n",
    "    best_cls = res['best_model']\n",
    "    pred = best_cls.predict(test_X)\n",
    "    f1_micro.append(f1_score(test_y, pred, average='micro'))\n",
    "    f1_macro.append(f1_score(test_y, pred, average='macro'))\n",
    "    df_true_pred = test_y.to_frame()\n",
    "    df_true_pred['pred'] = pred\n",
    "    df_all.append(df_true_pred)\n",
    "df_all=pd.concat(df_all)"
   ]
  },
  {
   "cell_type": "code",
   "execution_count": 14,
   "metadata": {},
   "outputs": [],
   "source": [
    "df_all.to_csv('poster used true and pred.csv')"
   ]
  },
  {
   "cell_type": "code",
   "execution_count": 11,
   "metadata": {
    "scrolled": true
   },
   "outputs": [
    {
     "data": {
      "text/plain": [
       "0.61990950226244346"
      ]
     },
     "execution_count": 11,
     "metadata": {},
     "output_type": "execute_result"
    }
   ],
   "source": [
    "f1_score(df_all.csl, df_all.pred, average='micro')"
   ]
  },
  {
   "cell_type": "code",
   "execution_count": 12,
   "metadata": {},
   "outputs": [
    {
     "ename": "ModuleNotFoundError",
     "evalue": "No module named 'geopandas'",
     "output_type": "error",
     "traceback": [
      "\u001b[0;31m---------------------------------------------------------------------------\u001b[0m",
      "\u001b[0;31mModuleNotFoundError\u001b[0m                       Traceback (most recent call last)",
      "\u001b[0;32m<ipython-input-12-f8b81fe8ca07>\u001b[0m in \u001b[0;36m<module>\u001b[0;34m()\u001b[0m\n\u001b[0;32m----> 1\u001b[0;31m \u001b[0;32mimport\u001b[0m \u001b[0mgeopandas\u001b[0m \u001b[0;32mas\u001b[0m \u001b[0mgpd\u001b[0m\u001b[0;34m\u001b[0m\u001b[0m\n\u001b[0m",
      "\u001b[0;31mModuleNotFoundError\u001b[0m: No module named 'geopandas'"
     ]
    }
   ],
   "source": [
    "import geopandas as gpd"
   ]
  }
 ],
 "metadata": {
  "kernelspec": {
   "display_name": "Python [default]",
   "language": "python",
   "name": "python3"
  },
  "language_info": {
   "codemirror_mode": {
    "name": "ipython",
    "version": 3
   },
   "file_extension": ".py",
   "mimetype": "text/x-python",
   "name": "python",
   "nbconvert_exporter": "python",
   "pygments_lexer": "ipython3",
   "version": "3.6.2"
  }
 },
 "nbformat": 4,
 "nbformat_minor": 2
}
