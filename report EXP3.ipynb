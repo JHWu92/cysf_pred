{
 "cells": [
  {
   "cell_type": "code",
   "execution_count": null,
   "metadata": {
    "collapsed": true
   },
   "outputs": [],
   "source": [
    "# best 3 solutions based on EXP1 in turns of f1 weighted is:\n",
    "# XGBcls, RoadNet+Segment TOTAL, 0.5284741533025521\n",
    "# XGBreg, RoadNet+Segment NO_TOTAL, 0.541270\n",
    "# GDBcls, RoadNet+Segment TOTAL, 0.5107103184755486\n",
    "# with ~2014, min-max, no feature selection"
   ]
  },
  {
   "cell_type": "code",
   "execution_count": 1,
   "metadata": {
    "collapsed": true
   },
   "outputs": [],
   "source": [
    "import pandas as pd\n",
    "%matplotlib inline"
   ]
  },
  {
   "cell_type": "code",
   "execution_count": 3,
   "metadata": {},
   "outputs": [],
   "source": [
    "from src.experiment_based_function import SEEDS"
   ]
  },
  {
   "cell_type": "code",
   "execution_count": null,
   "metadata": {
    "collapsed": true
   },
   "outputs": [],
   "source": []
  },
  {
   "cell_type": "code",
   "execution_count": 101,
   "metadata": {},
   "outputs": [],
   "source": [
    "def get_result(upsample_type, eval_or_grid):\n",
    "    res = []\n",
    "\n",
    "    for smote_kind in ['regular', 'svm']:\n",
    "        for seed in SEEDS:\n",
    "            exp_path = 'data/up_down_experiment/seed_%d' % seed\n",
    "            smote_path = '%s/%s_%s' % (exp_path, upsample_type, smote_kind)\n",
    "            try:\n",
    "                df = pd.read_csv('%s/%s_res.csv' % (smote_path, eval_or_grid), index_col=0)\n",
    "                df['seed'] = seed\n",
    "                df['smote_kind'] = smote_kind\n",
    "                res.append(df)\n",
    "            except FileNotFoundError:\n",
    "                print('no %s_res in' % eval_or_grid, smote_path)\n",
    "\n",
    "    res = pd.concat(res, ignore_index=True)\n",
    "    return res"
   ]
  },
  {
   "cell_type": "code",
   "execution_count": null,
   "metadata": {
    "collapsed": true
   },
   "outputs": [],
   "source": [
    "f1_choices = ['test_f1_weighted', 'test_f1_macro', 'test_f1_micro']\n",
    "keys = ['smote_kind', 'model_name', 'feature_selection']"
   ]
  },
  {
   "cell_type": "markdown",
   "metadata": {},
   "source": [
    "# smote on train only"
   ]
  },
  {
   "cell_type": "markdown",
   "metadata": {},
   "source": [
    "## evaluation on origin test set"
   ]
  },
  {
   "cell_type": "code",
   "execution_count": 102,
   "metadata": {
    "scrolled": true
   },
   "outputs": [
    {
     "name": "stdout",
     "output_type": "stream",
     "text": [
      "no eval_res in data/up_down_experiment/seed_789729423/upsample_smote_regular\n",
      "no eval_res in data/up_down_experiment/seed_291592/upsample_smote_svm\n",
      "no eval_res in data/up_down_experiment/seed_789729423/upsample_smote_svm\n"
     ]
    }
   ],
   "source": [
    "on_train_eval_res = get_result('upsample_smote', 'eval')"
   ]
  },
  {
   "cell_type": "code",
   "execution_count": 103,
   "metadata": {},
   "outputs": [],
   "source": [
    "means = on_train_eval_res.groupby(keys).mean()[f1_choices]\n",
    "stds = on_train_eval_res.groupby(keys).std()[f1_choices]"
   ]
  },
  {
   "cell_type": "code",
   "execution_count": 104,
   "metadata": {
    "collapsed": true
   },
   "outputs": [],
   "source": [
    "f1_choices = ['test_f1_weighted', 'test_f1_macro', 'test_f1_micro']\n",
    "keys = ['smote_kind', 'model_name', 'feature_selection']\n",
    "means = eval_res.groupby(keys).mean()[f1_choices]\n",
    "stds = eval_res.groupby(keys).std()[f1_choices]"
   ]
  },
  {
   "cell_type": "code",
   "execution_count": 105,
   "metadata": {
    "collapsed": true
   },
   "outputs": [
    {
     "name": "stdout",
     "output_type": "stream",
     "text": [
      "f1_type = test_f1_weighted\n"
     ]
    },
    {
     "data": {
      "text/html": [
       "<div>\n",
       "<style>\n",
       "    .dataframe thead tr:only-child th {\n",
       "        text-align: right;\n",
       "    }\n",
       "\n",
       "    .dataframe thead th {\n",
       "        text-align: left;\n",
       "    }\n",
       "\n",
       "    .dataframe tbody tr th {\n",
       "        vertical-align: top;\n",
       "    }\n",
       "</style>\n",
       "<table border=\"1\" class=\"dataframe\">\n",
       "  <thead>\n",
       "    <tr style=\"text-align: right;\">\n",
       "      <th></th>\n",
       "      <th></th>\n",
       "      <th></th>\n",
       "      <th>test_f1_weighted</th>\n",
       "    </tr>\n",
       "    <tr>\n",
       "      <th>smote_kind</th>\n",
       "      <th>model_name</th>\n",
       "      <th>feature_selection</th>\n",
       "      <th></th>\n",
       "    </tr>\n",
       "  </thead>\n",
       "  <tbody>\n",
       "    <tr>\n",
       "      <th rowspan=\"2\" valign=\"top\">svm</th>\n",
       "      <th>XGBcls</th>\n",
       "      <th>None</th>\n",
       "      <td>0.539658</td>\n",
       "    </tr>\n",
       "    <tr>\n",
       "      <th>GDBcls</th>\n",
       "      <th>mrmr</th>\n",
       "      <td>0.533029</td>\n",
       "    </tr>\n",
       "  </tbody>\n",
       "</table>\n",
       "</div>"
      ],
      "text/plain": [
       "                                         test_f1_weighted\n",
       "smote_kind model_name feature_selection                  \n",
       "svm        XGBcls     None                       0.539658\n",
       "           GDBcls     mrmr                       0.533029"
      ]
     },
     "execution_count": 105,
     "metadata": {},
     "output_type": "execute_result"
    },
    {
     "data": {
      "image/png": "[encoded data removed]",
      "text/plain": [
       "<matplotlib.figure.Figure at 0x2af52ede198>"
      ]
     },
     "metadata": {},
     "output_type": "display_data"
    }
   ],
   "source": [
    "f1_type = f1_choices[0]\n",
    "print('f1_type =', f1_type)\n",
    "\n",
    "means_to_plot = means[[f1_type]].sort_values(f1_type, ascending=True)\n",
    "stds_to_plot = stds[[f1_type]]\n",
    "\n",
    "means_to_plot.plot(kind='barh', figsize=(10,7), xerr=stds_to_plot)\n",
    "means_to_plot.iloc[:-3:-1,:]"
   ]
  },
  {
   "cell_type": "markdown",
   "metadata": {},
   "source": [
    "## CV mean test score"
   ]
  },
  {
   "cell_type": "code",
   "execution_count": 100,
   "metadata": {
    "scrolled": true
   },
   "outputs": [
    {
     "name": "stdout",
     "output_type": "stream",
     "text": [
      "no grid_res in data/up_down_experiment/seed_789729423/upsample_smote_regular\n",
      "no grid_res in data/up_down_experiment/seed_291592/upsample_smote_svm\n",
      "no grid_res in data/up_down_experiment/seed_789729423/upsample_smote_svm\n"
     ]
    }
   ],
   "source": [
    "on_train_grid_res = get_result('upsample_smote', 'grid')"
   ]
  },
  {
   "cell_type": "code",
   "execution_count": 97,
   "metadata": {
    "collapsed": true
   },
   "outputs": [
    {
     "data": {
      "text/html": [
       "<div>\n",
       "<style>\n",
       "    .dataframe thead tr:only-child th {\n",
       "        text-align: right;\n",
       "    }\n",
       "\n",
       "    .dataframe thead th {\n",
       "        text-align: left;\n",
       "    }\n",
       "\n",
       "    .dataframe tbody tr th {\n",
       "        vertical-align: top;\n",
       "    }\n",
       "</style>\n",
       "<table border=\"1\" class=\"dataframe\">\n",
       "  <thead>\n",
       "    <tr style=\"text-align: right;\">\n",
       "      <th></th>\n",
       "      <th></th>\n",
       "      <th></th>\n",
       "      <th>mean_test</th>\n",
       "    </tr>\n",
       "    <tr>\n",
       "      <th>smote_kind</th>\n",
       "      <th>model_name</th>\n",
       "      <th>feature_selection</th>\n",
       "      <th></th>\n",
       "    </tr>\n",
       "  </thead>\n",
       "  <tbody>\n",
       "    <tr>\n",
       "      <th rowspan=\"6\" valign=\"top\">regular</th>\n",
       "      <th rowspan=\"3\" valign=\"top\">GDBcls</th>\n",
       "      <th>None</th>\n",
       "      <td>0.822321</td>\n",
       "    </tr>\n",
       "    <tr>\n",
       "      <th>mrmr</th>\n",
       "      <td>0.823867</td>\n",
       "    </tr>\n",
       "    <tr>\n",
       "      <th>rfecv_linsvc</th>\n",
       "      <td>0.824360</td>\n",
       "    </tr>\n",
       "    <tr>\n",
       "      <th rowspan=\"3\" valign=\"top\">XGBcls</th>\n",
       "      <th>None</th>\n",
       "      <td>0.810496</td>\n",
       "    </tr>\n",
       "    <tr>\n",
       "      <th>mrmr</th>\n",
       "      <td>0.806648</td>\n",
       "    </tr>\n",
       "    <tr>\n",
       "      <th>rfecv_linsvc</th>\n",
       "      <td>0.806186</td>\n",
       "    </tr>\n",
       "    <tr>\n",
       "      <th rowspan=\"6\" valign=\"top\">svm</th>\n",
       "      <th rowspan=\"3\" valign=\"top\">GDBcls</th>\n",
       "      <th>None</th>\n",
       "      <td>0.758647</td>\n",
       "    </tr>\n",
       "    <tr>\n",
       "      <th>mrmr</th>\n",
       "      <td>0.754129</td>\n",
       "    </tr>\n",
       "    <tr>\n",
       "      <th>rfecv_linsvc</th>\n",
       "      <td>0.754451</td>\n",
       "    </tr>\n",
       "    <tr>\n",
       "      <th rowspan=\"3\" valign=\"top\">XGBcls</th>\n",
       "      <th>None</th>\n",
       "      <td>0.746947</td>\n",
       "    </tr>\n",
       "    <tr>\n",
       "      <th>mrmr</th>\n",
       "      <td>0.746208</td>\n",
       "    </tr>\n",
       "    <tr>\n",
       "      <th>rfecv_linsvc</th>\n",
       "      <td>0.743170</td>\n",
       "    </tr>\n",
       "  </tbody>\n",
       "</table>\n",
       "</div>"
      ],
      "text/plain": [
       "                                         mean_test\n",
       "smote_kind model_name feature_selection           \n",
       "regular    GDBcls     None                0.822321\n",
       "                      mrmr                0.823867\n",
       "                      rfecv_linsvc        0.824360\n",
       "           XGBcls     None                0.810496\n",
       "                      mrmr                0.806648\n",
       "                      rfecv_linsvc        0.806186\n",
       "svm        GDBcls     None                0.758647\n",
       "                      mrmr                0.754129\n",
       "                      rfecv_linsvc        0.754451\n",
       "           XGBcls     None                0.746947\n",
       "                      mrmr                0.746208\n",
       "                      rfecv_linsvc        0.743170"
      ]
     },
     "execution_count": 97,
     "metadata": {},
     "output_type": "execute_result"
    }
   ],
   "source": [
    "on_train_grid_res[on_train_grid_res['kind']=='cls'].groupby(keys).mean()[['mean_test']]"
   ]
  },
  {
   "cell_type": "markdown",
   "metadata": {},
   "source": [
    "# smote on whole dataset"
   ]
  },
  {
   "cell_type": "markdown",
   "metadata": {},
   "source": [
    "## evaluation on smoted test set"
   ]
  },
  {
   "cell_type": "code",
   "execution_count": 106,
   "metadata": {
    "scrolled": true
   },
   "outputs": [],
   "source": [
    "on_all_eval_res = get_result('upsample_smote_onall', 'eval')"
   ]
  },
  {
   "cell_type": "code",
   "execution_count": 107,
   "metadata": {
    "collapsed": true
   },
   "outputs": [],
   "source": [
    "means = on_all_eval_res.groupby(keys).mean()[f1_choices]\n",
    "stds = on_all_eval_res.groupby(keys).std()[f1_choices]"
   ]
  },
  {
   "cell_type": "code",
   "execution_count": 108,
   "metadata": {},
   "outputs": [
    {
     "name": "stdout",
     "output_type": "stream",
     "text": [
      "f1_type = test_f1_weighted\n"
     ]
    },
    {
     "data": {
      "text/html": [
       "<div>\n",
       "<style>\n",
       "    .dataframe thead tr:only-child th {\n",
       "        text-align: right;\n",
       "    }\n",
       "\n",
       "    .dataframe thead th {\n",
       "        text-align: left;\n",
       "    }\n",
       "\n",
       "    .dataframe tbody tr th {\n",
       "        vertical-align: top;\n",
       "    }\n",
       "</style>\n",
       "<table border=\"1\" class=\"dataframe\">\n",
       "  <thead>\n",
       "    <tr style=\"text-align: right;\">\n",
       "      <th></th>\n",
       "      <th></th>\n",
       "      <th></th>\n",
       "      <th>test_f1_weighted</th>\n",
       "    </tr>\n",
       "    <tr>\n",
       "      <th>smote_kind</th>\n",
       "      <th>model_name</th>\n",
       "      <th>feature_selection</th>\n",
       "      <th></th>\n",
       "    </tr>\n",
       "  </thead>\n",
       "  <tbody>\n",
       "    <tr>\n",
       "      <th rowspan=\"2\" valign=\"top\">regular</th>\n",
       "      <th rowspan=\"2\" valign=\"top\">GDBcls</th>\n",
       "      <th>rfecv_linsvc</th>\n",
       "      <td>0.825399</td>\n",
       "    </tr>\n",
       "    <tr>\n",
       "      <th>None</th>\n",
       "      <td>0.818661</td>\n",
       "    </tr>\n",
       "  </tbody>\n",
       "</table>\n",
       "</div>"
      ],
      "text/plain": [
       "                                         test_f1_weighted\n",
       "smote_kind model_name feature_selection                  \n",
       "regular    GDBcls     rfecv_linsvc               0.825399\n",
       "                      None                       0.818661"
      ]
     },
     "execution_count": 108,
     "metadata": {},
     "output_type": "execute_result"
    },
    {
     "data": {
      "image/png": "[encoded data removed]",
      "text/plain": [
       "<matplotlib.figure.Figure at 0x2af536aaa58>"
      ]
     },
     "metadata": {},
     "output_type": "display_data"
    }
   ],
   "source": [
    "f1_type = f1_choices[0]\n",
    "print('f1_type =', f1_type)\n",
    "\n",
    "means_to_plot = means[[f1_type]].sort_values(f1_type, ascending=True)\n",
    "stds_to_plot = stds[[f1_type]]\n",
    "\n",
    "means_to_plot.plot(kind='barh', figsize=(10,7), xerr=stds_to_plot)\n",
    "means_to_plot.iloc[:-3:-1,:]"
   ]
  },
  {
   "cell_type": "markdown",
   "metadata": {},
   "source": [
    "## CV mean test score"
   ]
  },
  {
   "cell_type": "code",
   "execution_count": 109,
   "metadata": {
    "scrolled": true
   },
   "outputs": [],
   "source": [
    "on_all_grid_res = get_result('upsample_smote_onall', 'grid')"
   ]
  },
  {
   "cell_type": "code",
   "execution_count": 110,
   "metadata": {},
   "outputs": [
    {
     "data": {
      "text/html": [
       "<div>\n",
       "<style>\n",
       "    .dataframe thead tr:only-child th {\n",
       "        text-align: right;\n",
       "    }\n",
       "\n",
       "    .dataframe thead th {\n",
       "        text-align: left;\n",
       "    }\n",
       "\n",
       "    .dataframe tbody tr th {\n",
       "        vertical-align: top;\n",
       "    }\n",
       "</style>\n",
       "<table border=\"1\" class=\"dataframe\">\n",
       "  <thead>\n",
       "    <tr style=\"text-align: right;\">\n",
       "      <th></th>\n",
       "      <th></th>\n",
       "      <th></th>\n",
       "      <th>mean_test</th>\n",
       "    </tr>\n",
       "    <tr>\n",
       "      <th>smote_kind</th>\n",
       "      <th>model_name</th>\n",
       "      <th>feature_selection</th>\n",
       "      <th></th>\n",
       "    </tr>\n",
       "  </thead>\n",
       "  <tbody>\n",
       "    <tr>\n",
       "      <th rowspan=\"6\" valign=\"top\">regular</th>\n",
       "      <th rowspan=\"3\" valign=\"top\">GDBcls</th>\n",
       "      <th>None</th>\n",
       "      <td>0.806133</td>\n",
       "    </tr>\n",
       "    <tr>\n",
       "      <th>mrmr</th>\n",
       "      <td>0.807918</td>\n",
       "    </tr>\n",
       "    <tr>\n",
       "      <th>rfecv_linsvc</th>\n",
       "      <td>0.804298</td>\n",
       "    </tr>\n",
       "    <tr>\n",
       "      <th rowspan=\"3\" valign=\"top\">XGBcls</th>\n",
       "      <th>None</th>\n",
       "      <td>0.794837</td>\n",
       "    </tr>\n",
       "    <tr>\n",
       "      <th>mrmr</th>\n",
       "      <td>0.796576</td>\n",
       "    </tr>\n",
       "    <tr>\n",
       "      <th>rfecv_linsvc</th>\n",
       "      <td>0.785247</td>\n",
       "    </tr>\n",
       "    <tr>\n",
       "      <th rowspan=\"6\" valign=\"top\">svm</th>\n",
       "      <th rowspan=\"3\" valign=\"top\">GDBcls</th>\n",
       "      <th>None</th>\n",
       "      <td>0.726119</td>\n",
       "    </tr>\n",
       "    <tr>\n",
       "      <th>mrmr</th>\n",
       "      <td>0.727299</td>\n",
       "    </tr>\n",
       "    <tr>\n",
       "      <th>rfecv_linsvc</th>\n",
       "      <td>0.724671</td>\n",
       "    </tr>\n",
       "    <tr>\n",
       "      <th rowspan=\"3\" valign=\"top\">XGBcls</th>\n",
       "      <th>None</th>\n",
       "      <td>0.726523</td>\n",
       "    </tr>\n",
       "    <tr>\n",
       "      <th>mrmr</th>\n",
       "      <td>0.725789</td>\n",
       "    </tr>\n",
       "    <tr>\n",
       "      <th>rfecv_linsvc</th>\n",
       "      <td>0.716802</td>\n",
       "    </tr>\n",
       "  </tbody>\n",
       "</table>\n",
       "</div>"
      ],
      "text/plain": [
       "                                         mean_test\n",
       "smote_kind model_name feature_selection           \n",
       "regular    GDBcls     None                0.806133\n",
       "                      mrmr                0.807918\n",
       "                      rfecv_linsvc        0.804298\n",
       "           XGBcls     None                0.794837\n",
       "                      mrmr                0.796576\n",
       "                      rfecv_linsvc        0.785247\n",
       "svm        GDBcls     None                0.726119\n",
       "                      mrmr                0.727299\n",
       "                      rfecv_linsvc        0.724671\n",
       "           XGBcls     None                0.726523\n",
       "                      mrmr                0.725789\n",
       "                      rfecv_linsvc        0.716802"
      ]
     },
     "execution_count": 110,
     "metadata": {},
     "output_type": "execute_result"
    }
   ],
   "source": [
    "on_all_grid_res[on_all_grid_res['kind']=='cls'].groupby(keys).mean()[['mean_test']]"
   ]
  }
 ],
 "metadata": {
  "kernelspec": {
   "display_name": "Python 3",
   "language": "python",
   "name": "python3"
  },
  "language_info": {
   "codemirror_mode": {
    "name": "ipython",
    "version": 3
   },
   "file_extension": ".py",
   "mimetype": "text/x-python",
   "name": "python",
   "nbconvert_exporter": "python",
   "pygments_lexer": "ipython3",
   "version": "3.6.1"
  }
 },
 "nbformat": 4,
 "nbformat_minor": 2
}
