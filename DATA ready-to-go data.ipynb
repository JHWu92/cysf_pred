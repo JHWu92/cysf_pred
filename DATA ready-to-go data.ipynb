{
 "cells": [
  {
   "cell_type": "code",
   "execution_count": 1,
   "metadata": {},
   "outputs": [
    {
     "name": "stdout",
     "output_type": "stream",
     "text": [
      "filter columns with > 90% NAs 828 -> 230\n",
      "['moving', 'parking', 'crash'] replace NA by seg type\n",
      "fill the rest NA with 0\n",
      "filter columns with > 90% NAs 828 -> 178\n",
      "['moving', 'parking', 'crash'] replace NA by seg type\n",
      "fill the rest NA with 0\n",
      "filter columns with > 90% NAs 65 -> 65\n",
      "['moving', 'parking', 'crash'] replace NA by seg type\n",
      "fill the rest NA with 0\n",
      "filter columns with > 90% NAs 65 -> 64\n",
      "['moving', 'parking', 'crash'] replace NA by seg type\n",
      "fill the rest NA with 0\n"
     ]
    }
   ],
   "source": [
    "from src.ftr_aggregate import load_features\n",
    "import pandas as pd\n",
    "from src.constants import dir_data, fn_target_lts_dc\n",
    "lts = pd.read_csv(dir_data + fn_target_lts_dc, index_col=0)\n",
    "totals = ['NO_TOTAL', 'TOTAL']\n",
    "years_choices = [('~2014', (2014, 2015, 2016, 2017)), ('~2016', (2016, 2017)), ]\n",
    "features = {}\n",
    "for total_or_not in totals:\n",
    "    for year_type, years in years_choices:\n",
    "        ftrs, cols_by_type = load_features(lts, how=total_or_not, years=years)\n",
    "        features[(total_or_not, year_type)] = (ftrs, cols_by_type)\n",
    "\n",
    "ys = lts.LTS\n"
   ]
  },
  {
   "cell_type": "code",
   "execution_count": 8,
   "metadata": {},
   "outputs": [],
   "source": [
    "features[('NO_TOTAL', '~2014')][0].to_csv('data/x_nototal_2014.csv')"
   ]
  },
  {
   "cell_type": "code",
   "execution_count": 9,
   "metadata": {
    "collapsed": true
   },
   "outputs": [],
   "source": [
    "features[('TOTAL', '~2014')][0].to_csv('data/x_total_2014.csv')"
   ]
  },
  {
   "cell_type": "code",
   "execution_count": 10,
   "metadata": {
    "collapsed": true
   },
   "outputs": [],
   "source": [
    "features[('NO_TOTAL', '~2016')][0].to_csv('data/x_nototal_2016.csv')"
   ]
  },
  {
   "cell_type": "code",
   "execution_count": 11,
   "metadata": {
    "collapsed": true
   },
   "outputs": [],
   "source": [
    "features[('TOTAL', '~2016')][0].to_csv('data/x_total_2016.csv')"
   ]
  },
  {
   "cell_type": "code",
   "execution_count": 7,
   "metadata": {},
   "outputs": [],
   "source": [
    "lts.to_csv('data/y.csv')"
   ]
  }
 ],
 "metadata": {
  "kernelspec": {
   "display_name": "Python 3",
   "language": "python",
   "name": "python3"
  },
  "language_info": {
   "codemirror_mode": {
    "name": "ipython",
    "version": 3
   },
   "file_extension": ".py",
   "mimetype": "text/x-python",
   "name": "python",
   "nbconvert_exporter": "python",
   "pygments_lexer": "ipython3",
   "version": "3.6.1"
  }
 },
 "nbformat": 4,
 "nbformat_minor": 2
}
