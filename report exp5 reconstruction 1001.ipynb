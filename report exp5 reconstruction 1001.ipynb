{
 "cells": [
  {
   "cell_type": "code",
   "execution_count": null,
   "metadata": {
    "collapsed": true
   },
   "outputs": [],
   "source": [
    "# best 3 solutions based on EXP1 in turns of f1 micro is:\n",
    "# XGBcls: RoadNet+Social type, 0.6561797753\n",
    "# BAGcls: RoadNet+Social type, 0.6539325843\n",
    "# RFreg: RoadNet+Social total, 0.6494382022\n",
    "# with ~2014, min-max, no feature selection"
   ]
  },
  {
   "cell_type": "code",
   "execution_count": 1,
   "metadata": {
    "collapsed": true
   },
   "outputs": [],
   "source": [
    "from src.experiment_based_function import SEEDS\n",
    "import pandas as pd\n",
    "%matplotlib inline\n",
    "import os\n",
    "import glob"
   ]
  },
  {
   "cell_type": "code",
   "execution_count": 2,
   "metadata": {
    "collapsed": true
   },
   "outputs": [],
   "source": [
    "def get_exp5_result(eval_or_grid='eval'):\n",
    "    res = []\n",
    "    for directoy in glob.glob('experiment_1001/exp5_recon/*'):\n",
    "#         print(directoy)\n",
    "        df = pd.read_csv('%s/%s_res.csv' % (directoy, eval_or_grid), index_col=0)\n",
    "        frac, sample_seed = directoy.replace('experiment_1001/exp5_recon/', '').split('#')\n",
    "        df['frac'] = frac\n",
    "        df['sample_seed'] = sample_seed\n",
    "        res.append(df)\n",
    "    return pd.concat(res, ignore_index=0)"
   ]
  },
  {
   "cell_type": "code",
   "execution_count": 45,
   "metadata": {},
   "outputs": [],
   "source": [
    "eval_res = get_exp5_result()\n",
    "eval_res = eval_res[eval_res.model_name!='GBDcls']"
   ]
  },
  {
   "cell_type": "code",
   "execution_count": 46,
   "metadata": {
    "collapsed": true,
    "scrolled": true
   },
   "outputs": [],
   "source": [
    "cols = ['frac', 'sample_seed', 'upsample', 'ftr_combo_name', 'model_name', 'feature_selection','test_f1_weighted', 'test_f1_macro', 'test_f1_micro']"
   ]
  },
  {
   "cell_type": "code",
   "execution_count": 47,
   "metadata": {},
   "outputs": [
    {
     "data": {
      "text/plain": [
       "Index(['#ftr_all', '#ftr_keep', '#test_sample', '#train_sample',\n",
       "       'feature_selection', 'ftr_combo_name', 'model_name', 'test_acc',\n",
       "       'test_f1_macro', 'test_f1_micro', 'test_f1_weighted', 'test_mse',\n",
       "       'test_n_classes', 'train_acc', 'train_f1_macro', 'train_f1_micro',\n",
       "       'train_f1_weighted', 'train_mse', 'train_n_classes', 'upsample',\n",
       "       'y_dist', 'y_dist_up', 'frac', 'sample_seed'],\n",
       "      dtype='object')"
      ]
     },
     "execution_count": 47,
     "metadata": {},
     "output_type": "execute_result"
    }
   ],
   "source": [
    "eval_res.columns"
   ]
  },
  {
   "cell_type": "code",
   "execution_count": 48,
   "metadata": {},
   "outputs": [
    {
     "name": "stdout",
     "output_type": "stream",
     "text": [
      "train {5: 640}\n",
      "test {5: 640}\n",
      "train test\n",
      "(5, 5)    640\n",
      "dtype: int64\n"
     ]
    }
   ],
   "source": [
    "print('train', eval_res.train_n_classes.value_counts().to_dict())\n",
    "print('test', eval_res.test_n_classes.value_counts().to_dict())\n",
    "\n",
    "print('train', 'test')\n",
    "print(eval_res.apply(lambda x: (x.train_n_classes, x.test_n_classes), axis=1).value_counts())"
   ]
  },
  {
   "cell_type": "code",
   "execution_count": 49,
   "metadata": {
    "collapsed": true
   },
   "outputs": [],
   "source": [
    "f1_choices = ['test_f1_macro', 'test_f1_micro']"
   ]
  },
  {
   "cell_type": "code",
   "execution_count": 50,
   "metadata": {
    "collapsed": true
   },
   "outputs": [],
   "source": [
    "keys = ['frac', 'ftr_combo_name', 'model_name']"
   ]
  },
  {
   "cell_type": "code",
   "execution_count": 51,
   "metadata": {
    "collapsed": true
   },
   "outputs": [],
   "source": [
    "info = eval_res.groupby(['frac','upsample']).mean()[['#test_sample', '#train_sample','test_n_classes','train_n_classes', ]]"
   ]
  },
  {
   "cell_type": "code",
   "execution_count": 52,
   "metadata": {
    "collapsed": true
   },
   "outputs": [],
   "source": [
    "means = eval_res.groupby(keys).mean()[f1_choices]\n",
    "stds = eval_res.groupby(keys).std()[f1_choices]\n",
    "means = means.reset_index().merge(info.reset_index(), how='left').set_index(keys)"
   ]
  },
  {
   "cell_type": "code",
   "execution_count": 53,
   "metadata": {
    "collapsed": true
   },
   "outputs": [],
   "source": [
    "def get_paper_table(means, f1_type, index_cols, column_col='ftr_combo_name'):\n",
    "    cols_name_convert = {'RoadNet': '1RoadNet', 'RoadNet+Segment_NO_TOTAL_~2014': '5RoadNet+Segment type',\n",
    "     'RoadNet+Segment_TOTAL_~2014': '4RoadNet+Segment total', 'Segment_NO_TOTAL_~2014': '3Segment type',\n",
    "     'Segment_TOTAL_~2014': '2Segment total'}\n",
    "    means_for_pivot = means.reset_index()\n",
    "    means_for_pivot['ftr_combo_name'] = means_for_pivot['ftr_combo_name'].apply(lambda x: cols_name_convert[x])\n",
    "    means_for_pivot['key'] = means_for_pivot.apply(lambda x: tuple([x[col] for col in index_cols]), axis=1)\n",
    "    table = means_for_pivot.reset_index().pivot(index='key', columns=column_col, values=f1_type)\n",
    "    table.index = pd.MultiIndex.from_tuples(table.index, names=index_cols)    \n",
    "    return table"
   ]
  },
  {
   "cell_type": "code",
   "execution_count": 55,
   "metadata": {},
   "outputs": [
    {
     "name": "stdout",
     "output_type": "stream",
     "text": [
      "test_f1_micro\n"
     ]
    }
   ],
   "source": [
    "f1_type = f1_choices[1]\n",
    "print(f1_type)\n",
    "index_cols = [k for k in keys if k!='frac']\n",
    "# ['test_n_classes','train_n_classes']+\n",
    "table = get_paper_table(means, f1_type, index_cols, column_col='frac')"
   ]
  },
  {
   "cell_type": "code",
   "execution_count": 40,
   "metadata": {
    "collapsed": true
   },
   "outputs": [],
   "source": [
    "%matplotlib inline"
   ]
  },
  {
   "cell_type": "code",
   "execution_count": 56,
   "metadata": {},
   "outputs": [
    {
     "data": {
      "text/html": [
       "<div>\n",
       "<style>\n",
       "    .dataframe thead tr:only-child th {\n",
       "        text-align: right;\n",
       "    }\n",
       "\n",
       "    .dataframe thead th {\n",
       "        text-align: left;\n",
       "    }\n",
       "\n",
       "    .dataframe tbody tr th {\n",
       "        vertical-align: top;\n",
       "    }\n",
       "</style>\n",
       "<table border=\"1\" class=\"dataframe\">\n",
       "  <thead>\n",
       "    <tr style=\"text-align: right;\">\n",
       "      <th></th>\n",
       "      <th>frac</th>\n",
       "      <th>10</th>\n",
       "      <th>20</th>\n",
       "      <th>30</th>\n",
       "      <th>40</th>\n",
       "      <th>50</th>\n",
       "      <th>60</th>\n",
       "      <th>70</th>\n",
       "      <th>80</th>\n",
       "      <th>90</th>\n",
       "    </tr>\n",
       "    <tr>\n",
       "      <th>ftr_combo_name</th>\n",
       "      <th>model_name</th>\n",
       "      <th></th>\n",
       "      <th></th>\n",
       "      <th></th>\n",
       "      <th></th>\n",
       "      <th></th>\n",
       "      <th></th>\n",
       "      <th></th>\n",
       "      <th></th>\n",
       "      <th></th>\n",
       "    </tr>\n",
       "  </thead>\n",
       "  <tbody>\n",
       "    <tr>\n",
       "      <th rowspan=\"4\" valign=\"top\">1RoadNet</th>\n",
       "      <th>BAGcls</th>\n",
       "      <td>0.519457</td>\n",
       "      <td>0.552036</td>\n",
       "      <td>0.605769</td>\n",
       "      <td>0.663650</td>\n",
       "      <td>0.717195</td>\n",
       "      <td>0.757919</td>\n",
       "      <td>0.819005</td>\n",
       "      <td>0.875566</td>\n",
       "      <td>0.920814</td>\n",
       "    </tr>\n",
       "    <tr>\n",
       "      <th>GDBcls</th>\n",
       "      <td>0.526471</td>\n",
       "      <td>0.566063</td>\n",
       "      <td>0.630090</td>\n",
       "      <td>0.633484</td>\n",
       "      <td>0.693439</td>\n",
       "      <td>0.696833</td>\n",
       "      <td>0.707014</td>\n",
       "      <td>0.720588</td>\n",
       "      <td>0.733032</td>\n",
       "    </tr>\n",
       "    <tr>\n",
       "      <th>RFreg</th>\n",
       "      <td>0.556561</td>\n",
       "      <td>0.597738</td>\n",
       "      <td>0.634615</td>\n",
       "      <td>0.677979</td>\n",
       "      <td>0.727376</td>\n",
       "      <td>0.730769</td>\n",
       "      <td>0.747738</td>\n",
       "      <td>0.813348</td>\n",
       "      <td>0.800905</td>\n",
       "    </tr>\n",
       "    <tr>\n",
       "      <th>XGBcls</th>\n",
       "      <td>0.508371</td>\n",
       "      <td>0.550679</td>\n",
       "      <td>0.609163</td>\n",
       "      <td>0.650830</td>\n",
       "      <td>0.696833</td>\n",
       "      <td>0.726244</td>\n",
       "      <td>0.771493</td>\n",
       "      <td>0.745475</td>\n",
       "      <td>0.864253</td>\n",
       "    </tr>\n",
       "    <tr>\n",
       "      <th rowspan=\"4\" valign=\"top\">2Segment total</th>\n",
       "      <th>BAGcls</th>\n",
       "      <td>0.492760</td>\n",
       "      <td>0.536652</td>\n",
       "      <td>0.603507</td>\n",
       "      <td>0.658371</td>\n",
       "      <td>0.714932</td>\n",
       "      <td>0.757919</td>\n",
       "      <td>0.822398</td>\n",
       "      <td>0.864253</td>\n",
       "      <td>0.932127</td>\n",
       "    </tr>\n",
       "    <tr>\n",
       "      <th>GDBcls</th>\n",
       "      <td>0.497964</td>\n",
       "      <td>0.547511</td>\n",
       "      <td>0.592760</td>\n",
       "      <td>0.607843</td>\n",
       "      <td>0.709276</td>\n",
       "      <td>0.763575</td>\n",
       "      <td>0.822398</td>\n",
       "      <td>0.704751</td>\n",
       "      <td>0.788462</td>\n",
       "    </tr>\n",
       "    <tr>\n",
       "      <th>RFreg</th>\n",
       "      <td>0.542308</td>\n",
       "      <td>0.577828</td>\n",
       "      <td>0.620475</td>\n",
       "      <td>0.665158</td>\n",
       "      <td>0.702489</td>\n",
       "      <td>0.733032</td>\n",
       "      <td>0.757919</td>\n",
       "      <td>0.787330</td>\n",
       "      <td>0.860860</td>\n",
       "    </tr>\n",
       "    <tr>\n",
       "      <th>XGBcls</th>\n",
       "      <td>0.499548</td>\n",
       "      <td>0.537104</td>\n",
       "      <td>0.603507</td>\n",
       "      <td>0.610106</td>\n",
       "      <td>0.687783</td>\n",
       "      <td>0.763575</td>\n",
       "      <td>0.708145</td>\n",
       "      <td>0.713801</td>\n",
       "      <td>0.737557</td>\n",
       "    </tr>\n",
       "    <tr>\n",
       "      <th rowspan=\"4\" valign=\"top\">3Segment type</th>\n",
       "      <th>BAGcls</th>\n",
       "      <td>0.509729</td>\n",
       "      <td>0.560181</td>\n",
       "      <td>0.618778</td>\n",
       "      <td>0.665913</td>\n",
       "      <td>0.705882</td>\n",
       "      <td>0.765837</td>\n",
       "      <td>0.826923</td>\n",
       "      <td>0.876697</td>\n",
       "      <td>0.937783</td>\n",
       "    </tr>\n",
       "    <tr>\n",
       "      <th>GDBcls</th>\n",
       "      <td>0.526018</td>\n",
       "      <td>0.578281</td>\n",
       "      <td>0.619344</td>\n",
       "      <td>0.668175</td>\n",
       "      <td>0.718326</td>\n",
       "      <td>0.764706</td>\n",
       "      <td>0.826923</td>\n",
       "      <td>0.877828</td>\n",
       "      <td>0.898190</td>\n",
       "    </tr>\n",
       "    <tr>\n",
       "      <th>RFreg</th>\n",
       "      <td>0.544796</td>\n",
       "      <td>0.589140</td>\n",
       "      <td>0.635747</td>\n",
       "      <td>0.684012</td>\n",
       "      <td>0.722851</td>\n",
       "      <td>0.756787</td>\n",
       "      <td>0.805430</td>\n",
       "      <td>0.828054</td>\n",
       "      <td>0.912896</td>\n",
       "    </tr>\n",
       "    <tr>\n",
       "      <th>XGBcls</th>\n",
       "      <td>0.517195</td>\n",
       "      <td>0.558824</td>\n",
       "      <td>0.610860</td>\n",
       "      <td>0.666667</td>\n",
       "      <td>0.708145</td>\n",
       "      <td>0.748869</td>\n",
       "      <td>0.823529</td>\n",
       "      <td>0.876697</td>\n",
       "      <td>0.937783</td>\n",
       "    </tr>\n",
       "    <tr>\n",
       "      <th rowspan=\"4\" valign=\"top\">4RoadNet+Segment total</th>\n",
       "      <th>BAGcls</th>\n",
       "      <td>0.539819</td>\n",
       "      <td>0.558371</td>\n",
       "      <td>0.622738</td>\n",
       "      <td>0.655354</td>\n",
       "      <td>0.704751</td>\n",
       "      <td>0.763575</td>\n",
       "      <td>0.820136</td>\n",
       "      <td>0.873303</td>\n",
       "      <td>0.937783</td>\n",
       "    </tr>\n",
       "    <tr>\n",
       "      <th>GDBcls</th>\n",
       "      <td>0.546154</td>\n",
       "      <td>0.589593</td>\n",
       "      <td>0.639706</td>\n",
       "      <td>0.674208</td>\n",
       "      <td>0.721719</td>\n",
       "      <td>0.693439</td>\n",
       "      <td>0.711538</td>\n",
       "      <td>0.774887</td>\n",
       "      <td>0.806561</td>\n",
       "    </tr>\n",
       "    <tr>\n",
       "      <th>RFreg</th>\n",
       "      <td>0.570814</td>\n",
       "      <td>0.602262</td>\n",
       "      <td>0.641403</td>\n",
       "      <td>0.673454</td>\n",
       "      <td>0.714932</td>\n",
       "      <td>0.763575</td>\n",
       "      <td>0.769231</td>\n",
       "      <td>0.817873</td>\n",
       "      <td>0.893665</td>\n",
       "    </tr>\n",
       "    <tr>\n",
       "      <th>XGBcls</th>\n",
       "      <td>0.522172</td>\n",
       "      <td>0.558824</td>\n",
       "      <td>0.625566</td>\n",
       "      <td>0.647813</td>\n",
       "      <td>0.711538</td>\n",
       "      <td>0.738688</td>\n",
       "      <td>0.762443</td>\n",
       "      <td>0.778281</td>\n",
       "      <td>0.829186</td>\n",
       "    </tr>\n",
       "    <tr>\n",
       "      <th rowspan=\"4\" valign=\"top\">5RoadNet+Segment type</th>\n",
       "      <th>BAGcls</th>\n",
       "      <td>0.525566</td>\n",
       "      <td>0.583258</td>\n",
       "      <td>0.625566</td>\n",
       "      <td>0.671192</td>\n",
       "      <td>0.713801</td>\n",
       "      <td>0.765837</td>\n",
       "      <td>0.822398</td>\n",
       "      <td>0.876697</td>\n",
       "      <td>0.937783</td>\n",
       "    </tr>\n",
       "    <tr>\n",
       "      <th>GDBcls</th>\n",
       "      <td>0.542308</td>\n",
       "      <td>0.571493</td>\n",
       "      <td>0.648756</td>\n",
       "      <td>0.684766</td>\n",
       "      <td>0.713801</td>\n",
       "      <td>0.756787</td>\n",
       "      <td>0.808824</td>\n",
       "      <td>0.857466</td>\n",
       "      <td>0.884615</td>\n",
       "    </tr>\n",
       "    <tr>\n",
       "      <th>RFreg</th>\n",
       "      <td>0.553394</td>\n",
       "      <td>0.596380</td>\n",
       "      <td>0.638009</td>\n",
       "      <td>0.681750</td>\n",
       "      <td>0.726244</td>\n",
       "      <td>0.760181</td>\n",
       "      <td>0.800905</td>\n",
       "      <td>0.817873</td>\n",
       "      <td>0.912896</td>\n",
       "    </tr>\n",
       "    <tr>\n",
       "      <th>XGBcls</th>\n",
       "      <td>0.521267</td>\n",
       "      <td>0.569231</td>\n",
       "      <td>0.616516</td>\n",
       "      <td>0.673454</td>\n",
       "      <td>0.709276</td>\n",
       "      <td>0.764706</td>\n",
       "      <td>0.823529</td>\n",
       "      <td>0.860860</td>\n",
       "      <td>0.912896</td>\n",
       "    </tr>\n",
       "  </tbody>\n",
       "</table>\n",
       "</div>"
      ],
      "text/plain": [
       "frac                                     10        20        30        40  \\\n",
       "ftr_combo_name         model_name                                           \n",
       "1RoadNet               BAGcls      0.519457  0.552036  0.605769  0.663650   \n",
       "                       GDBcls      0.526471  0.566063  0.630090  0.633484   \n",
       "                       RFreg       0.556561  0.597738  0.634615  0.677979   \n",
       "                       XGBcls      0.508371  0.550679  0.609163  0.650830   \n",
       "2Segment total         BAGcls      0.492760  0.536652  0.603507  0.658371   \n",
       "                       GDBcls      0.497964  0.547511  0.592760  0.607843   \n",
       "                       RFreg       0.542308  0.577828  0.620475  0.665158   \n",
       "                       XGBcls      0.499548  0.537104  0.603507  0.610106   \n",
       "3Segment type          BAGcls      0.509729  0.560181  0.618778  0.665913   \n",
       "                       GDBcls      0.526018  0.578281  0.619344  0.668175   \n",
       "                       RFreg       0.544796  0.589140  0.635747  0.684012   \n",
       "                       XGBcls      0.517195  0.558824  0.610860  0.666667   \n",
       "4RoadNet+Segment total BAGcls      0.539819  0.558371  0.622738  0.655354   \n",
       "                       GDBcls      0.546154  0.589593  0.639706  0.674208   \n",
       "                       RFreg       0.570814  0.602262  0.641403  0.673454   \n",
       "                       XGBcls      0.522172  0.558824  0.625566  0.647813   \n",
       "5RoadNet+Segment type  BAGcls      0.525566  0.583258  0.625566  0.671192   \n",
       "                       GDBcls      0.542308  0.571493  0.648756  0.684766   \n",
       "                       RFreg       0.553394  0.596380  0.638009  0.681750   \n",
       "                       XGBcls      0.521267  0.569231  0.616516  0.673454   \n",
       "\n",
       "frac                                     50        60        70        80  \\\n",
       "ftr_combo_name         model_name                                           \n",
       "1RoadNet               BAGcls      0.717195  0.757919  0.819005  0.875566   \n",
       "                       GDBcls      0.693439  0.696833  0.707014  0.720588   \n",
       "                       RFreg       0.727376  0.730769  0.747738  0.813348   \n",
       "                       XGBcls      0.696833  0.726244  0.771493  0.745475   \n",
       "2Segment total         BAGcls      0.714932  0.757919  0.822398  0.864253   \n",
       "                       GDBcls      0.709276  0.763575  0.822398  0.704751   \n",
       "                       RFreg       0.702489  0.733032  0.757919  0.787330   \n",
       "                       XGBcls      0.687783  0.763575  0.708145  0.713801   \n",
       "3Segment type          BAGcls      0.705882  0.765837  0.826923  0.876697   \n",
       "                       GDBcls      0.718326  0.764706  0.826923  0.877828   \n",
       "                       RFreg       0.722851  0.756787  0.805430  0.828054   \n",
       "                       XGBcls      0.708145  0.748869  0.823529  0.876697   \n",
       "4RoadNet+Segment total BAGcls      0.704751  0.763575  0.820136  0.873303   \n",
       "                       GDBcls      0.721719  0.693439  0.711538  0.774887   \n",
       "                       RFreg       0.714932  0.763575  0.769231  0.817873   \n",
       "                       XGBcls      0.711538  0.738688  0.762443  0.778281   \n",
       "5RoadNet+Segment type  BAGcls      0.713801  0.765837  0.822398  0.876697   \n",
       "                       GDBcls      0.713801  0.756787  0.808824  0.857466   \n",
       "                       RFreg       0.726244  0.760181  0.800905  0.817873   \n",
       "                       XGBcls      0.709276  0.764706  0.823529  0.860860   \n",
       "\n",
       "frac                                     90  \n",
       "ftr_combo_name         model_name            \n",
       "1RoadNet               BAGcls      0.920814  \n",
       "                       GDBcls      0.733032  \n",
       "                       RFreg       0.800905  \n",
       "                       XGBcls      0.864253  \n",
       "2Segment total         BAGcls      0.932127  \n",
       "                       GDBcls      0.788462  \n",
       "                       RFreg       0.860860  \n",
       "                       XGBcls      0.737557  \n",
       "3Segment type          BAGcls      0.937783  \n",
       "                       GDBcls      0.898190  \n",
       "                       RFreg       0.912896  \n",
       "                       XGBcls      0.937783  \n",
       "4RoadNet+Segment total BAGcls      0.937783  \n",
       "                       GDBcls      0.806561  \n",
       "                       RFreg       0.893665  \n",
       "                       XGBcls      0.829186  \n",
       "5RoadNet+Segment type  BAGcls      0.937783  \n",
       "                       GDBcls      0.884615  \n",
       "                       RFreg       0.912896  \n",
       "                       XGBcls      0.912896  "
      ]
     },
     "execution_count": 56,
     "metadata": {},
     "output_type": "execute_result"
    }
   ],
   "source": [
    "table[table['90']>0.9]\n",
    "table"
   ]
  },
  {
   "cell_type": "code",
   "execution_count": 58,
   "metadata": {},
   "outputs": [
    {
     "data": {
      "text/plain": [
       "<matplotlib.axes._subplots.AxesSubplot at 0x7f2a30cbc630>"
      ]
     },
     "execution_count": 58,
     "metadata": {},
     "output_type": "execute_result"
    },
    {
     "data": {
      "image/png": "[encoded data removed]",
      "text/plain": [
       "<matplotlib.figure.Figure at 0x7f2a30cc5a20>"
      ]
     },
     "metadata": {},
     "output_type": "display_data"
    }
   ],
   "source": [
    "table.T.plot(legend=False, figsize=(8,8))"
   ]
  }
 ],
 "metadata": {
  "kernelspec": {
   "display_name": "Python [default]",
   "language": "python",
   "name": "python3"
  },
  "language_info": {
   "codemirror_mode": {
    "name": "ipython",
    "version": 3
   },
   "file_extension": ".py",
   "mimetype": "text/x-python",
   "name": "python",
   "nbconvert_exporter": "python",
   "pygments_lexer": "ipython3",
   "version": "3.6.2"
  }
 },
 "nbformat": 4,
 "nbformat_minor": 2
}
