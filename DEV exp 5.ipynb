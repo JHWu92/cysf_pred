{
 "cells": [
  {
   "cell_type": "code",
   "execution_count": 8,
   "metadata": {
    "collapsed": true
   },
   "outputs": [],
   "source": [
    "from src.experiment_based_function import SEEDS\n",
    "from csl_exp5 import load_data"
   ]
  },
  {
   "cell_type": "code",
   "execution_count": 2,
   "metadata": {
    "collapsed": true
   },
   "outputs": [],
   "source": [
    "Xs, y = load_data()"
   ]
  },
  {
   "cell_type": "code",
   "execution_count": 9,
   "metadata": {
    "collapsed": true
   },
   "outputs": [],
   "source": [
    "import numpy as np"
   ]
  },
  {
   "cell_type": "code",
   "execution_count": 14,
   "metadata": {
    "collapsed": true
   },
   "outputs": [],
   "source": [
    "sampling_seeds = [ 502, 7081, 5128, 5561, 6711]"
   ]
  },
  {
   "cell_type": "code",
   "execution_count": null,
   "metadata": {
    "collapsed": true
   },
   "outputs": [],
   "source": [
    "for frac in range(100, 0, -10):\n",
    "    for sample_seed in sampling_seeds:\n",
    "        sampled_y = y.sample(frac=frac/100.0) if frac!==100 else y\n"
   ]
  },
  {
   "cell_type": "code",
   "execution_count": 33,
   "metadata": {},
   "outputs": [
    {
     "data": {
      "text/plain": [
       "index_seg\n",
       "1001     2.000000\n",
       "1002     2.000000\n",
       "1003     2.533333\n",
       "1004     2.833333\n",
       "101      2.611111\n",
       "10393    4.000000\n",
       "10394    3.636364\n",
       "10403    4.000000\n",
       "10448    4.157895\n",
       "10449    5.000000\n",
       "10452    3.000000\n",
       "10454    2.000000\n",
       "10505    3.000000\n",
       "10595    3.111111\n",
       "11287    4.000000\n",
       "11288    4.000000\n",
       "11289    4.000000\n",
       "11484    2.800000\n",
       "11485    3.000000\n",
       "11886    3.000000\n",
       "11960    2.800000\n",
       "1204     4.000000\n",
       "12047    1.500000\n",
       "12064    4.000000\n",
       "12065    3.000000\n",
       "12261    4.000000\n",
       "12263    4.000000\n",
       "12264    4.000000\n",
       "12265    4.000000\n",
       "12565    1.000000\n",
       "           ...   \n",
       "9605     3.000000\n",
       "9606     3.000000\n",
       "968      3.000000\n",
       "969      1.909091\n",
       "97       3.333333\n",
       "970      2.058824\n",
       "971      2.500000\n",
       "972      3.062500\n",
       "973      3.785714\n",
       "974      3.500000\n",
       "975      2.200000\n",
       "9750     4.000000\n",
       "9751     2.666667\n",
       "976      2.772727\n",
       "9768     3.000000\n",
       "977      2.500000\n",
       "98       3.000000\n",
       "9822     1.000000\n",
       "9855     3.500000\n",
       "9856     4.000000\n",
       "9857     3.000000\n",
       "9858     3.250000\n",
       "9859     2.900000\n",
       "9860     3.357143\n",
       "9861     4.300000\n",
       "9873     3.000000\n",
       "9874     3.000000\n",
       "9875     3.000000\n",
       "9881     2.000000\n",
       "9882     1.333333\n",
       "Name: csl, Length: 314, dtype: float64"
      ]
     },
     "execution_count": 33,
     "metadata": {},
     "output_type": "execute_result"
    }
   ],
   "source": [
    "frac = 100\n",
    "sampled_y = y.sample(frac=frac/100.0, random_state=502) if frac!=100 else y\n",
    "sampled_y"
   ]
  },
  {
   "cell_type": "code",
   "execution_count": null,
   "metadata": {
    "collapsed": true
   },
   "outputs": [],
   "source": [
    "def exp5_one_frac(Xs, y, frac):\n",
    "    for seed in SEEDS:\n",
    "        # set up experiment path\n",
    "        exp_path = 'data/exp5/frac_%d/seed_%d' % (frac, seed)\n",
    "        mkdirs_if_not_exist(exp_path)\n",
    "        # get train/test index\n",
    "        idx_fn = '%s/%s' % (exp_path, 'indices.txt')\n",
    "        train_idx, test_idx = get_idx(y.index, idx_fn, seed)\n",
    "        print('\\n====begin one run exp, in exp_path=%s' % exp_path)\n",
    "        exp5_one_run(exp_path, Xs, y, train_idx, test_idx)\n",
    "        # break  # run one seed  \n",
    "        "
   ]
  },
  {
   "cell_type": "code",
   "execution_count": null,
   "metadata": {
    "collapsed": true
   },
   "outputs": [],
   "source": [
    "\n",
    "def exp5_one_run(exp_path, Xs, y, train_idx, test_idx):\n",
    "    \n",
    "    # get train_y and test_y\n",
    "    train_y, test_y = y.loc[train_idx], y.loc[test_idx]\n",
    "    train_n_classes = train_y.round().nunique()\n",
    "    test_n_classes = test_y.round().nunique()\n",
    "    print('\\n========n classes, train: %d, test: %d' % (train_n_classes, test_n_classes))\n",
    "    y_dist = train_y.round().value_counts().to_dict()\n",
    "    print('\\n========train_y: distr=%s' % (y_dist))\n",
    "\n",
    "    # store result\n",
    "    grid_res_list, eval_res_list = [], []\n"
   ]
  }
 ],
 "metadata": {
  "kernelspec": {
   "display_name": "Python [default]",
   "language": "python",
   "name": "python3"
  },
  "language_info": {
   "codemirror_mode": {
    "name": "ipython",
    "version": 3
   },
   "file_extension": ".py",
   "mimetype": "text/x-python",
   "name": "python",
   "nbconvert_exporter": "python",
   "pygments_lexer": "ipython3",
   "version": "3.6.2"
  }
 },
 "nbformat": 4,
 "nbformat_minor": 2
}
