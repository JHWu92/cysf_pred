{
 "cells": [
  {
   "cell_type": "code",
   "execution_count": 1,
   "metadata": {
    "collapsed": true
   },
   "outputs": [],
   "source": [
    "# best 3 solutions based on EXP1 in turns of f1 micro is:\n",
    "# XGBcls: RoadNet+Social type, 0.6561797753\n",
    "# BAGcls: RoadNet+Social type, 0.6539325843\n",
    "# RFreg: RoadNet+Social total, 0.6494382022\n",
    "# with ~2014, min-max, no feature selection"
   ]
  },
  {
   "cell_type": "code",
   "execution_count": 2,
   "metadata": {
    "collapsed": true
   },
   "outputs": [],
   "source": [
    "from src.experiment_based_function import SEEDS\n",
    "import pandas as pd\n",
    "%matplotlib inline"
   ]
  },
  {
   "cell_type": "code",
   "execution_count": 3,
   "metadata": {
    "collapsed": true
   },
   "outputs": [],
   "source": [
    "import os\n",
    "import glob\n",
    "from zipfile import ZipFile\n",
    "import re\n",
    "from pandas.compat import StringIO"
   ]
  },
  {
   "cell_type": "code",
   "execution_count": 4,
   "metadata": {},
   "outputs": [],
   "source": [
    "eval_or_grid='eval'"
   ]
  },
  {
   "cell_type": "code",
   "execution_count": 5,
   "metadata": {
    "collapsed": true
   },
   "outputs": [],
   "source": [
    "def get_exp4_result(eval_or_grid='eval', zipname='exp4+RFreg-res.zip'):\n",
    "    res = []    \n",
    "    with ZipFile('experiment_1001/'+zipname) as myzip:\n",
    "        for fn in myzip.namelist():\n",
    "            if not re.match('.*/%s_res.csv' % eval_or_grid, fn):\n",
    "                continue\n",
    "            _, qa, seed, _ = fn.split('/')\n",
    "            q, a = qa.split('#')\n",
    "            seed = seed.replace('seed_', '')\n",
    "\n",
    "            df = pd.read_csv(StringIO(myzip.read(fn).decode('utf-8')), index_col=0)\n",
    "            df['q'] = q\n",
    "            df['a'] = a\n",
    "            df['seed'] = seed\n",
    "            res.append(df)\n",
    "    return pd.concat(res)"
   ]
  },
  {
   "cell_type": "code",
   "execution_count": 6,
   "metadata": {
    "collapsed": true
   },
   "outputs": [],
   "source": [
    "eval_res = get_exp4_result('eval', 'exp4-XGB-BAG-GDB.zip')"
   ]
  },
  {
   "cell_type": "code",
   "execution_count": 7,
   "metadata": {
    "scrolled": true
   },
   "outputs": [
    {
     "data": {
      "text/plain": [
       "(Index(['#ftr_all', '#ftr_keep', '#test_sample', '#train_sample',\n",
       "        'feature_selection', 'ftr_combo_name', 'model_name', 'test_acc',\n",
       "        'test_f1_macro', 'test_f1_micro', 'test_f1_weighted', 'test_mse',\n",
       "        'test_n_classes', 'train_acc', 'train_f1_macro', 'train_f1_micro',\n",
       "        'train_f1_weighted', 'train_mse', 'train_n_classes', 'upsample',\n",
       "        'y_dist', 'y_dist_up', 'q', 'a', 'seed'],\n",
       "       dtype='object'), (3300, 25))"
      ]
     },
     "execution_count": 7,
     "metadata": {},
     "output_type": "execute_result"
    }
   ],
   "source": [
    "eval_res.columns, eval_res.shape"
   ]
  },
  {
   "cell_type": "code",
   "execution_count": 8,
   "metadata": {},
   "outputs": [
    {
     "data": {
      "text/plain": [
       "(2200, 25)"
      ]
     },
     "execution_count": 8,
     "metadata": {},
     "output_type": "execute_result"
    }
   ],
   "source": [
    "eval_res = eval_res[eval_res.model_name!='GDBcls']\n",
    "eval_res.shape"
   ]
  },
  {
   "cell_type": "code",
   "execution_count": 9,
   "metadata": {},
   "outputs": [
    {
     "name": "stdout",
     "output_type": "stream",
     "text": [
      "train {5: 2190, 4: 10}\n",
      "test {5: 1230, 4: 860, 3: 110}\n",
      "train test\n",
      "(5, 5)    1230\n",
      "(5, 4)     850\n",
      "(5, 3)     110\n",
      "(4, 4)      10\n",
      "dtype: int64\n"
     ]
    }
   ],
   "source": [
    "print('train', eval_res.train_n_classes.value_counts().to_dict())\n",
    "print('test', eval_res.test_n_classes.value_counts().to_dict())\n",
    "\n",
    "print('train', 'test')\n",
    "print(eval_res.apply(lambda x: (x.train_n_classes, x.test_n_classes), axis=1).value_counts())"
   ]
  },
  {
   "cell_type": "code",
   "execution_count": 10,
   "metadata": {
    "collapsed": true
   },
   "outputs": [],
   "source": [
    "f1_choices = ['test_f1_weighted', 'test_f1_macro', 'test_f1_micro']"
   ]
  },
  {
   "cell_type": "code",
   "execution_count": 11,
   "metadata": {
    "collapsed": true
   },
   "outputs": [],
   "source": [
    "keys = ['q', 'a', 'upsample', 'ftr_combo_name', 'model_name', 'feature_selection']\n"
   ]
  },
  {
   "cell_type": "code",
   "execution_count": 12,
   "metadata": {
    "collapsed": true,
    "scrolled": true
   },
   "outputs": [],
   "source": [
    "info = eval_res.groupby(['q','a','upsample']).mean()[['#test_sample', '#train_sample','test_n_classes','train_n_classes', ]]"
   ]
  },
  {
   "cell_type": "code",
   "execution_count": 13,
   "metadata": {
    "collapsed": true
   },
   "outputs": [],
   "source": [
    "means = eval_res.groupby(keys).mean()[f1_choices]\n",
    "stds = eval_res.groupby(keys).std()[f1_choices]\n",
    "means = means.reset_index().merge(info.reset_index(), how='left').set_index(keys)"
   ]
  },
  {
   "cell_type": "code",
   "execution_count": 44,
   "metadata": {},
   "outputs": [
    {
     "name": "stdout",
     "output_type": "stream",
     "text": [
      "f1_type = test_f1_micro\n"
     ]
    },
    {
     "data": {
      "text/html": [
       "<div>\n",
       "<style>\n",
       "    .dataframe thead tr:only-child th {\n",
       "        text-align: right;\n",
       "    }\n",
       "\n",
       "    .dataframe thead th {\n",
       "        text-align: left;\n",
       "    }\n",
       "\n",
       "    .dataframe tbody tr th {\n",
       "        vertical-align: top;\n",
       "    }\n",
       "</style>\n",
       "<table border=\"1\" class=\"dataframe\">\n",
       "  <thead>\n",
       "    <tr style=\"text-align: right;\">\n",
       "      <th></th>\n",
       "      <th></th>\n",
       "      <th></th>\n",
       "      <th></th>\n",
       "      <th></th>\n",
       "      <th></th>\n",
       "      <th>test_f1_micro</th>\n",
       "      <th>#test_sample</th>\n",
       "      <th>#train_sample</th>\n",
       "      <th>test_n_classes</th>\n",
       "      <th>train_n_classes</th>\n",
       "    </tr>\n",
       "    <tr>\n",
       "      <th>q</th>\n",
       "      <th>a</th>\n",
       "      <th>upsample</th>\n",
       "      <th>ftr_combo_name</th>\n",
       "      <th>model_name</th>\n",
       "      <th>feature_selection</th>\n",
       "      <th></th>\n",
       "      <th></th>\n",
       "      <th></th>\n",
       "      <th></th>\n",
       "      <th></th>\n",
       "    </tr>\n",
       "  </thead>\n",
       "  <tbody>\n",
       "    <tr>\n",
       "      <th rowspan=\"2\" valign=\"top\">household_income</th>\n",
       "      <th rowspan=\"2\" valign=\"top\">$150,000 or more</th>\n",
       "      <th rowspan=\"2\" valign=\"top\">None</th>\n",
       "      <th>RoadNet+Segment_TOTAL_~2014</th>\n",
       "      <th>BAGcls</th>\n",
       "      <th>None</th>\n",
       "      <td>0.608333</td>\n",
       "      <td>72.0</td>\n",
       "      <td>288.0</td>\n",
       "      <td>4.2</td>\n",
       "      <td>5.0</td>\n",
       "    </tr>\n",
       "    <tr>\n",
       "      <th>RoadNet+Segment_NO_TOTAL_~2014</th>\n",
       "      <th>BAGcls</th>\n",
       "      <th>None</th>\n",
       "      <td>0.597222</td>\n",
       "      <td>72.0</td>\n",
       "      <td>288.0</td>\n",
       "      <td>4.2</td>\n",
       "      <td>5.0</td>\n",
       "    </tr>\n",
       "    <tr>\n",
       "      <th rowspan=\"7\" valign=\"top\">experienceLevel</th>\n",
       "      <th rowspan=\"6\" valign=\"top\">fearless</th>\n",
       "      <th rowspan=\"6\" valign=\"top\">None</th>\n",
       "      <th rowspan=\"2\" valign=\"top\">RoadNet+Segment_TOTAL_~2014</th>\n",
       "      <th>XGBcls</th>\n",
       "      <th>None</th>\n",
       "      <td>0.587179</td>\n",
       "      <td>78.0</td>\n",
       "      <td>310.0</td>\n",
       "      <td>4.4</td>\n",
       "      <td>5.0</td>\n",
       "    </tr>\n",
       "    <tr>\n",
       "      <th>RFreg</th>\n",
       "      <th>None</th>\n",
       "      <td>0.584615</td>\n",
       "      <td>78.0</td>\n",
       "      <td>310.0</td>\n",
       "      <td>4.4</td>\n",
       "      <td>5.0</td>\n",
       "    </tr>\n",
       "    <tr>\n",
       "      <th>RoadNet+Segment_NO_TOTAL_~2014</th>\n",
       "      <th>BAGcls</th>\n",
       "      <th>None</th>\n",
       "      <td>0.580769</td>\n",
       "      <td>78.0</td>\n",
       "      <td>310.0</td>\n",
       "      <td>4.4</td>\n",
       "      <td>5.0</td>\n",
       "    </tr>\n",
       "    <tr>\n",
       "      <th rowspan=\"2\" valign=\"top\">RoadNet</th>\n",
       "      <th>RFreg</th>\n",
       "      <th>None</th>\n",
       "      <td>0.579487</td>\n",
       "      <td>78.0</td>\n",
       "      <td>310.0</td>\n",
       "      <td>4.4</td>\n",
       "      <td>5.0</td>\n",
       "    </tr>\n",
       "    <tr>\n",
       "      <th>BAGcls</th>\n",
       "      <th>None</th>\n",
       "      <td>0.576923</td>\n",
       "      <td>78.0</td>\n",
       "      <td>310.0</td>\n",
       "      <td>4.4</td>\n",
       "      <td>5.0</td>\n",
       "    </tr>\n",
       "    <tr>\n",
       "      <th>RoadNet+Segment_TOTAL_~2014</th>\n",
       "      <th>BAGcls</th>\n",
       "      <th>None</th>\n",
       "      <td>0.575641</td>\n",
       "      <td>78.0</td>\n",
       "      <td>310.0</td>\n",
       "      <td>4.4</td>\n",
       "      <td>5.0</td>\n",
       "    </tr>\n",
       "    <tr>\n",
       "      <th>interested</th>\n",
       "      <th>None</th>\n",
       "      <th>RoadNet</th>\n",
       "      <th>RFreg</th>\n",
       "      <th>None</th>\n",
       "      <td>0.575000</td>\n",
       "      <td>24.0</td>\n",
       "      <td>92.0</td>\n",
       "      <td>4.2</td>\n",
       "      <td>4.9</td>\n",
       "    </tr>\n",
       "    <tr>\n",
       "      <th>household_income</th>\n",
       "      <th>$150,000 or more</th>\n",
       "      <th>None</th>\n",
       "      <th>RoadNet</th>\n",
       "      <th>BAGcls</th>\n",
       "      <th>None</th>\n",
       "      <td>0.572222</td>\n",
       "      <td>72.0</td>\n",
       "      <td>288.0</td>\n",
       "      <td>4.2</td>\n",
       "      <td>5.0</td>\n",
       "    </tr>\n",
       "  </tbody>\n",
       "</table>\n",
       "</div>"
      ],
      "text/plain": [
       "                                                                                                        test_f1_micro  \\\n",
       "q                a                upsample ftr_combo_name                 model_name feature_selection                  \n",
       "household_income $150,000 or more None     RoadNet+Segment_TOTAL_~2014    BAGcls     None                    0.608333   \n",
       "                                           RoadNet+Segment_NO_TOTAL_~2014 BAGcls     None                    0.597222   \n",
       "experienceLevel  fearless         None     RoadNet+Segment_TOTAL_~2014    XGBcls     None                    0.587179   \n",
       "                                                                          RFreg      None                    0.584615   \n",
       "                                           RoadNet+Segment_NO_TOTAL_~2014 BAGcls     None                    0.580769   \n",
       "                                           RoadNet                        RFreg      None                    0.579487   \n",
       "                                                                          BAGcls     None                    0.576923   \n",
       "                                           RoadNet+Segment_TOTAL_~2014    BAGcls     None                    0.575641   \n",
       "                 interested       None     RoadNet                        RFreg      None                    0.575000   \n",
       "household_income $150,000 or more None     RoadNet                        BAGcls     None                    0.572222   \n",
       "\n",
       "                                                                                                        #test_sample  \\\n",
       "q                a                upsample ftr_combo_name                 model_name feature_selection                 \n",
       "household_income $150,000 or more None     RoadNet+Segment_TOTAL_~2014    BAGcls     None                       72.0   \n",
       "                                           RoadNet+Segment_NO_TOTAL_~2014 BAGcls     None                       72.0   \n",
       "experienceLevel  fearless         None     RoadNet+Segment_TOTAL_~2014    XGBcls     None                       78.0   \n",
       "                                                                          RFreg      None                       78.0   \n",
       "                                           RoadNet+Segment_NO_TOTAL_~2014 BAGcls     None                       78.0   \n",
       "                                           RoadNet                        RFreg      None                       78.0   \n",
       "                                                                          BAGcls     None                       78.0   \n",
       "                                           RoadNet+Segment_TOTAL_~2014    BAGcls     None                       78.0   \n",
       "                 interested       None     RoadNet                        RFreg      None                       24.0   \n",
       "household_income $150,000 or more None     RoadNet                        BAGcls     None                       72.0   \n",
       "\n",
       "                                                                                                        #train_sample  \\\n",
       "q                a                upsample ftr_combo_name                 model_name feature_selection                  \n",
       "household_income $150,000 or more None     RoadNet+Segment_TOTAL_~2014    BAGcls     None                       288.0   \n",
       "                                           RoadNet+Segment_NO_TOTAL_~2014 BAGcls     None                       288.0   \n",
       "experienceLevel  fearless         None     RoadNet+Segment_TOTAL_~2014    XGBcls     None                       310.0   \n",
       "                                                                          RFreg      None                       310.0   \n",
       "                                           RoadNet+Segment_NO_TOTAL_~2014 BAGcls     None                       310.0   \n",
       "                                           RoadNet                        RFreg      None                       310.0   \n",
       "                                                                          BAGcls     None                       310.0   \n",
       "                                           RoadNet+Segment_TOTAL_~2014    BAGcls     None                       310.0   \n",
       "                 interested       None     RoadNet                        RFreg      None                        92.0   \n",
       "household_income $150,000 or more None     RoadNet                        BAGcls     None                       288.0   \n",
       "\n",
       "                                                                                                        test_n_classes  \\\n",
       "q                a                upsample ftr_combo_name                 model_name feature_selection                   \n",
       "household_income $150,000 or more None     RoadNet+Segment_TOTAL_~2014    BAGcls     None                          4.2   \n",
       "                                           RoadNet+Segment_NO_TOTAL_~2014 BAGcls     None                          4.2   \n",
       "experienceLevel  fearless         None     RoadNet+Segment_TOTAL_~2014    XGBcls     None                          4.4   \n",
       "                                                                          RFreg      None                          4.4   \n",
       "                                           RoadNet+Segment_NO_TOTAL_~2014 BAGcls     None                          4.4   \n",
       "                                           RoadNet                        RFreg      None                          4.4   \n",
       "                                                                          BAGcls     None                          4.4   \n",
       "                                           RoadNet+Segment_TOTAL_~2014    BAGcls     None                          4.4   \n",
       "                 interested       None     RoadNet                        RFreg      None                          4.2   \n",
       "household_income $150,000 or more None     RoadNet                        BAGcls     None                          4.2   \n",
       "\n",
       "                                                                                                        train_n_classes  \n",
       "q                a                upsample ftr_combo_name                 model_name feature_selection                   \n",
       "household_income $150,000 or more None     RoadNet+Segment_TOTAL_~2014    BAGcls     None                           5.0  \n",
       "                                           RoadNet+Segment_NO_TOTAL_~2014 BAGcls     None                           5.0  \n",
       "experienceLevel  fearless         None     RoadNet+Segment_TOTAL_~2014    XGBcls     None                           5.0  \n",
       "                                                                          RFreg      None                           5.0  \n",
       "                                           RoadNet+Segment_NO_TOTAL_~2014 BAGcls     None                           5.0  \n",
       "                                           RoadNet                        RFreg      None                           5.0  \n",
       "                                                                          BAGcls     None                           5.0  \n",
       "                                           RoadNet+Segment_TOTAL_~2014    BAGcls     None                           5.0  \n",
       "                 interested       None     RoadNet                        RFreg      None                           4.9  \n",
       "household_income $150,000 or more None     RoadNet                        BAGcls     None                           5.0  "
      ]
     },
     "execution_count": 44,
     "metadata": {},
     "output_type": "execute_result"
    },
    {
     "data": {
      "image/png": "[encoded data removed]",
      "text/plain": [
       "<matplotlib.figure.Figure at 0x7f1774d2bdd8>"
      ]
     },
     "metadata": {},
     "output_type": "display_data"
    }
   ],
   "source": [
    "f1_type = f1_choices[2]\n",
    "print('f1_type =', f1_type)\n",
    "\n",
    "means_to_plot = means[[f1_type]].sort_values(f1_type, ascending=True)\n",
    "stds_to_plot = stds[[f1_type]]\n",
    "\n",
    "df_top_n = 10\n",
    "plot_top_n = 5\n",
    "means_to_plot.iloc[-plot_top_n:].plot(kind='barh', figsize=(10,7), xerr=stds_to_plot)\n",
    "means.loc[means_to_plot.iloc[:-(df_top_n+1):-1,:].index].drop([x for x in f1_choices if x != f1_type], axis=1)"
   ]
  },
  {
   "cell_type": "code",
   "execution_count": 44,
   "metadata": {},
   "outputs": [
    {
     "name": "stdout",
     "output_type": "stream",
     "text": [
      "f1_type = test_f1_micro\n"
     ]
    },
    {
     "data": {
      "text/html": [
       "<div>\n",
       "<style>\n",
       "    .dataframe thead tr:only-child th {\n",
       "        text-align: right;\n",
       "    }\n",
       "\n",
       "    .dataframe thead th {\n",
       "        text-align: left;\n",
       "    }\n",
       "\n",
       "    .dataframe tbody tr th {\n",
       "        vertical-align: top;\n",
       "    }\n",
       "</style>\n",
       "<table border=\"1\" class=\"dataframe\">\n",
       "  <thead>\n",
       "    <tr style=\"text-align: right;\">\n",
       "      <th></th>\n",
       "      <th></th>\n",
       "      <th></th>\n",
       "      <th></th>\n",
       "      <th></th>\n",
       "      <th></th>\n",
       "      <th>test_f1_micro</th>\n",
       "      <th>#test_sample</th>\n",
       "      <th>#train_sample</th>\n",
       "      <th>test_n_classes</th>\n",
       "      <th>train_n_classes</th>\n",
       "    </tr>\n",
       "    <tr>\n",
       "      <th>q</th>\n",
       "      <th>a</th>\n",
       "      <th>upsample</th>\n",
       "      <th>ftr_combo_name</th>\n",
       "      <th>model_name</th>\n",
       "      <th>feature_selection</th>\n",
       "      <th></th>\n",
       "      <th></th>\n",
       "      <th></th>\n",
       "      <th></th>\n",
       "      <th></th>\n",
       "    </tr>\n",
       "  </thead>\n",
       "  <tbody>\n",
       "    <tr>\n",
       "      <th rowspan=\"2\" valign=\"top\">household_income</th>\n",
       "      <th rowspan=\"2\" valign=\"top\">$150,000 or more</th>\n",
       "      <th rowspan=\"2\" valign=\"top\">None</th>\n",
       "      <th>RoadNet+Segment_TOTAL_~2014</th>\n",
       "      <th>BAGcls</th>\n",
       "      <th>None</th>\n",
       "      <td>0.608333</td>\n",
       "      <td>72.0</td>\n",
       "      <td>288.0</td>\n",
       "      <td>4.2</td>\n",
       "      <td>5.0</td>\n",
       "    </tr>\n",
       "    <tr>\n",
       "      <th>RoadNet+Segment_NO_TOTAL_~2014</th>\n",
       "      <th>BAGcls</th>\n",
       "      <th>None</th>\n",
       "      <td>0.597222</td>\n",
       "      <td>72.0</td>\n",
       "      <td>288.0</td>\n",
       "      <td>4.2</td>\n",
       "      <td>5.0</td>\n",
       "    </tr>\n",
       "    <tr>\n",
       "      <th rowspan=\"7\" valign=\"top\">experienceLevel</th>\n",
       "      <th rowspan=\"6\" valign=\"top\">fearless</th>\n",
       "      <th rowspan=\"6\" valign=\"top\">None</th>\n",
       "      <th rowspan=\"2\" valign=\"top\">RoadNet+Segment_TOTAL_~2014</th>\n",
       "      <th>XGBcls</th>\n",
       "      <th>None</th>\n",
       "      <td>0.587179</td>\n",
       "      <td>78.0</td>\n",
       "      <td>310.0</td>\n",
       "      <td>4.4</td>\n",
       "      <td>5.0</td>\n",
       "    </tr>\n",
       "    <tr>\n",
       "      <th>RFreg</th>\n",
       "      <th>None</th>\n",
       "      <td>0.584615</td>\n",
       "      <td>78.0</td>\n",
       "      <td>310.0</td>\n",
       "      <td>4.4</td>\n",
       "      <td>5.0</td>\n",
       "    </tr>\n",
       "    <tr>\n",
       "      <th>RoadNet+Segment_NO_TOTAL_~2014</th>\n",
       "      <th>BAGcls</th>\n",
       "      <th>None</th>\n",
       "      <td>0.580769</td>\n",
       "      <td>78.0</td>\n",
       "      <td>310.0</td>\n",
       "      <td>4.4</td>\n",
       "      <td>5.0</td>\n",
       "    </tr>\n",
       "    <tr>\n",
       "      <th rowspan=\"2\" valign=\"top\">RoadNet</th>\n",
       "      <th>RFreg</th>\n",
       "      <th>None</th>\n",
       "      <td>0.579487</td>\n",
       "      <td>78.0</td>\n",
       "      <td>310.0</td>\n",
       "      <td>4.4</td>\n",
       "      <td>5.0</td>\n",
       "    </tr>\n",
       "    <tr>\n",
       "      <th>BAGcls</th>\n",
       "      <th>None</th>\n",
       "      <td>0.576923</td>\n",
       "      <td>78.0</td>\n",
       "      <td>310.0</td>\n",
       "      <td>4.4</td>\n",
       "      <td>5.0</td>\n",
       "    </tr>\n",
       "    <tr>\n",
       "      <th>RoadNet+Segment_TOTAL_~2014</th>\n",
       "      <th>BAGcls</th>\n",
       "      <th>None</th>\n",
       "      <td>0.575641</td>\n",
       "      <td>78.0</td>\n",
       "      <td>310.0</td>\n",
       "      <td>4.4</td>\n",
       "      <td>5.0</td>\n",
       "    </tr>\n",
       "    <tr>\n",
       "      <th>interested</th>\n",
       "      <th>None</th>\n",
       "      <th>RoadNet</th>\n",
       "      <th>RFreg</th>\n",
       "      <th>None</th>\n",
       "      <td>0.575000</td>\n",
       "      <td>24.0</td>\n",
       "      <td>92.0</td>\n",
       "      <td>4.2</td>\n",
       "      <td>4.9</td>\n",
       "    </tr>\n",
       "    <tr>\n",
       "      <th>household_income</th>\n",
       "      <th>$150,000 or more</th>\n",
       "      <th>None</th>\n",
       "      <th>RoadNet</th>\n",
       "      <th>BAGcls</th>\n",
       "      <th>None</th>\n",
       "      <td>0.572222</td>\n",
       "      <td>72.0</td>\n",
       "      <td>288.0</td>\n",
       "      <td>4.2</td>\n",
       "      <td>5.0</td>\n",
       "    </tr>\n",
       "  </tbody>\n",
       "</table>\n",
       "</div>"
      ],
      "text/plain": [
       "                                                                                                        test_f1_micro  \\\n",
       "q                a                upsample ftr_combo_name                 model_name feature_selection                  \n",
       "household_income $150,000 or more None     RoadNet+Segment_TOTAL_~2014    BAGcls     None                    0.608333   \n",
       "                                           RoadNet+Segment_NO_TOTAL_~2014 BAGcls     None                    0.597222   \n",
       "experienceLevel  fearless         None     RoadNet+Segment_TOTAL_~2014    XGBcls     None                    0.587179   \n",
       "                                                                          RFreg      None                    0.584615   \n",
       "                                           RoadNet+Segment_NO_TOTAL_~2014 BAGcls     None                    0.580769   \n",
       "                                           RoadNet                        RFreg      None                    0.579487   \n",
       "                                                                          BAGcls     None                    0.576923   \n",
       "                                           RoadNet+Segment_TOTAL_~2014    BAGcls     None                    0.575641   \n",
       "                 interested       None     RoadNet                        RFreg      None                    0.575000   \n",
       "household_income $150,000 or more None     RoadNet                        BAGcls     None                    0.572222   \n",
       "\n",
       "                                                                                                        #test_sample  \\\n",
       "q                a                upsample ftr_combo_name                 model_name feature_selection                 \n",
       "household_income $150,000 or more None     RoadNet+Segment_TOTAL_~2014    BAGcls     None                       72.0   \n",
       "                                           RoadNet+Segment_NO_TOTAL_~2014 BAGcls     None                       72.0   \n",
       "experienceLevel  fearless         None     RoadNet+Segment_TOTAL_~2014    XGBcls     None                       78.0   \n",
       "                                                                          RFreg      None                       78.0   \n",
       "                                           RoadNet+Segment_NO_TOTAL_~2014 BAGcls     None                       78.0   \n",
       "                                           RoadNet                        RFreg      None                       78.0   \n",
       "                                                                          BAGcls     None                       78.0   \n",
       "                                           RoadNet+Segment_TOTAL_~2014    BAGcls     None                       78.0   \n",
       "                 interested       None     RoadNet                        RFreg      None                       24.0   \n",
       "household_income $150,000 or more None     RoadNet                        BAGcls     None                       72.0   \n",
       "\n",
       "                                                                                                        #train_sample  \\\n",
       "q                a                upsample ftr_combo_name                 model_name feature_selection                  \n",
       "household_income $150,000 or more None     RoadNet+Segment_TOTAL_~2014    BAGcls     None                       288.0   \n",
       "                                           RoadNet+Segment_NO_TOTAL_~2014 BAGcls     None                       288.0   \n",
       "experienceLevel  fearless         None     RoadNet+Segment_TOTAL_~2014    XGBcls     None                       310.0   \n",
       "                                                                          RFreg      None                       310.0   \n",
       "                                           RoadNet+Segment_NO_TOTAL_~2014 BAGcls     None                       310.0   \n",
       "                                           RoadNet                        RFreg      None                       310.0   \n",
       "                                                                          BAGcls     None                       310.0   \n",
       "                                           RoadNet+Segment_TOTAL_~2014    BAGcls     None                       310.0   \n",
       "                 interested       None     RoadNet                        RFreg      None                        92.0   \n",
       "household_income $150,000 or more None     RoadNet                        BAGcls     None                       288.0   \n",
       "\n",
       "                                                                                                        test_n_classes  \\\n",
       "q                a                upsample ftr_combo_name                 model_name feature_selection                   \n",
       "household_income $150,000 or more None     RoadNet+Segment_TOTAL_~2014    BAGcls     None                          4.2   \n",
       "                                           RoadNet+Segment_NO_TOTAL_~2014 BAGcls     None                          4.2   \n",
       "experienceLevel  fearless         None     RoadNet+Segment_TOTAL_~2014    XGBcls     None                          4.4   \n",
       "                                                                          RFreg      None                          4.4   \n",
       "                                           RoadNet+Segment_NO_TOTAL_~2014 BAGcls     None                          4.4   \n",
       "                                           RoadNet                        RFreg      None                          4.4   \n",
       "                                                                          BAGcls     None                          4.4   \n",
       "                                           RoadNet+Segment_TOTAL_~2014    BAGcls     None                          4.4   \n",
       "                 interested       None     RoadNet                        RFreg      None                          4.2   \n",
       "household_income $150,000 or more None     RoadNet                        BAGcls     None                          4.2   \n",
       "\n",
       "                                                                                                        train_n_classes  \n",
       "q                a                upsample ftr_combo_name                 model_name feature_selection                   \n",
       "household_income $150,000 or more None     RoadNet+Segment_TOTAL_~2014    BAGcls     None                           5.0  \n",
       "                                           RoadNet+Segment_NO_TOTAL_~2014 BAGcls     None                           5.0  \n",
       "experienceLevel  fearless         None     RoadNet+Segment_TOTAL_~2014    XGBcls     None                           5.0  \n",
       "                                                                          RFreg      None                           5.0  \n",
       "                                           RoadNet+Segment_NO_TOTAL_~2014 BAGcls     None                           5.0  \n",
       "                                           RoadNet                        RFreg      None                           5.0  \n",
       "                                                                          BAGcls     None                           5.0  \n",
       "                                           RoadNet+Segment_TOTAL_~2014    BAGcls     None                           5.0  \n",
       "                 interested       None     RoadNet                        RFreg      None                           4.9  \n",
       "household_income $150,000 or more None     RoadNet                        BAGcls     None                           5.0  "
      ]
     },
     "execution_count": 44,
     "metadata": {},
     "output_type": "execute_result"
    },
    {
     "data": {
      "image/png": "[encoded data removed]",
      "text/plain": [
       "<matplotlib.figure.Figure at 0x7f1774d2bdd8>"
      ]
     },
     "metadata": {},
     "output_type": "display_data"
    }
   ],
   "source": [
    "f1_type = f1_choices[2]\n",
    "print('f1_type =', f1_type)\n",
    "\n",
    "means_to_plot = means[[f1_type]].sort_values(f1_type, ascending=True)\n",
    "stds_to_plot = stds[[f1_type]]\n",
    "\n",
    "df_top_n = 10\n",
    "plot_top_n = 5\n",
    "means_to_plot.iloc[-plot_top_n:].plot(kind='barh', figsize=(10,7), xerr=stds_to_plot)\n",
    "means.loc[means_to_plot.iloc[:-(df_top_n+1):-1,:].index].drop([x for x in f1_choices if x != f1_type], axis=1)"
   ]
  },
  {
   "cell_type": "code",
   "execution_count": 45,
   "metadata": {
    "collapsed": true
   },
   "outputs": [],
   "source": [
    "def get_paper_table(means, f1_type, key_cols):\n",
    "    cols_name_convert = {'RoadNet': 'RoadNet', 'RoadNet+Segment_NO_TOTAL_~2014': 'RoadNet+Segment type',\n",
    "     'RoadNet+Segment_TOTAL_~2014': 'RoadNet+Segment total', 'Segment_NO_TOTAL_~2014': 'Segment type',\n",
    "     'Segment_TOTAL_~2014': 'Segment total'}\n",
    "    means_for_pivot = means.reset_index()\n",
    "    means_for_pivot['key'] = means_for_pivot.apply(lambda x: tuple([x[col] for col in key_cols]), axis=1)\n",
    "    table = means_for_pivot.reset_index().pivot(index='key', columns='ftr_combo_name', values=f1_type)\n",
    "    table.index = pd.MultiIndex.from_tuples(table.index, names=key_cols)    \n",
    "    table.columns.name = f1_type\n",
    "    table.columns = [cols_name_convert[col] for col in table.columns]\n",
    "    return table[['RoadNet', 'Segment total', 'Segment type', 'RoadNet+Segment total', 'RoadNet+Segment type']]"
   ]
  },
  {
   "cell_type": "code",
   "execution_count": 46,
   "metadata": {
    "collapsed": true
   },
   "outputs": [],
   "source": [
    "key_cols = [k for k in keys if k!='ftr_combo_name']+['#test_sample', '#train_sample','test_n_classes','train_n_classes']\n",
    "table = get_paper_table(means, f1_type, key_cols)"
   ]
  },
  {
   "cell_type": "code",
   "execution_count": 47,
   "metadata": {
    "collapsed": true
   },
   "outputs": [],
   "source": [
    "table.to_csv('deliverables/experiment_1001/exp4.csv', encoding='utf8')"
   ]
  },
  {
   "cell_type": "code",
   "execution_count": null,
   "metadata": {
    "collapsed": true
   },
   "outputs": [],
   "source": []
  }
 ],
 "metadata": {
  "kernelspec": {
   "display_name": "Python [default]",
   "language": "python",
   "name": "python3"
  },
  "language_info": {
   "codemirror_mode": {
    "name": "ipython",
    "version": 3
   },
   "file_extension": ".py",
   "mimetype": "text/x-python",
   "name": "python",
   "nbconvert_exporter": "python",
   "pygments_lexer": "ipython3",
   "version": "3.6.2"
  }
 },
 "nbformat": 4,
 "nbformat_minor": 2
}
