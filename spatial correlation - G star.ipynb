{
 "cells": [
  {
   "cell_type": "code",
   "execution_count": 1,
   "metadata": {
    "collapsed": true
   },
   "outputs": [],
   "source": [
    "from pysal.esda.getisord import G_Local\n",
    "import geopandas as gpd\n",
    "import pandas as pd\n",
    "import pysal\n",
    "import numpy as np\n",
    "%matplotlib inline"
   ]
  },
  {
   "cell_type": "code",
   "execution_count": 2,
   "metadata": {
    "collapsed": true
   },
   "outputs": [],
   "source": [
    "def crs_prepossess(gpdf, bfr_crs, init_crs=4326):\n",
    "    \"\"\"\n",
    "    create a shallow copy of gpdf; check the init crs of gpdf, if None, assign init_crs; change crs of copy to bfr_crs\n",
    "    :param gpdf: geopandas.GeoDataFrame\n",
    "    :param init_crs: init_crs epsg code\n",
    "    :param bfr_crs: target crs epsg code used for buffering\n",
    "    :return: a shallow copy of gpdf in bfr_crs\n",
    "    \"\"\"\n",
    "    gpdf_crs = gpdf.copy()\n",
    "    if gpdf_crs.crs == None:\n",
    "        gpdf_crs.crs = {'init': u'epsg:{}'.format(init_crs)}\n",
    "    return gpdf_crs.to_crs(epsg=bfr_crs)"
   ]
  },
  {
   "cell_type": "code",
   "execution_count": 3,
   "metadata": {
    "collapsed": true
   },
   "outputs": [],
   "source": [
    "seg = gpd.read_file('d:/★★学习工作/Life in Maryland/Research Project：CyclingSafe/Cycling_safety/open_data_analysis/data/segments_dc.geojson')\n",
    "csl = pd.read_csv('data/y_csl_all-2017-11-07.csv',index_col=0)\n",
    "x = pd.read_csv('data/x_NO_TOTAL_~2014.csv',index_col=0)\n",
    "csl.index.name = 'index'\n",
    "x.index.name = 'index'\n",
    "geom_seg = crs_prepossess(seg[['geometry']], 3559)"
   ]
  },
  {
   "cell_type": "code",
   "execution_count": 8,
   "metadata": {
    "collapsed": true
   },
   "outputs": [],
   "source": [
    "dbs = [10, 50, 100, 150, 200, 300, 400]"
   ]
  },
  {
   "cell_type": "markdown",
   "metadata": {},
   "source": [
    "# G* for CSL"
   ]
  },
  {
   "cell_type": "code",
   "execution_count": 100,
   "metadata": {
    "collapsed": true
   },
   "outputs": [],
   "source": [
    "seg_csl = csl.join(geom_seg).reset_index()\n",
    "y = seg_csl.csl"
   ]
  },
  {
   "cell_type": "code",
   "execution_count": 28,
   "metadata": {},
   "outputs": [
    {
     "name": "stdout",
     "output_type": "stream",
     "text": [
      "d: 10\n",
      "d: 50\n",
      "d: 100\n",
      "d: 150\n",
      "d: 200\n",
      "d: 300\n",
      "d: 400\n"
     ]
    }
   ],
   "source": [
    "binary=True\n",
    "lgstars = {}\n",
    "\n",
    "for d in dbs:\n",
    "    w = pysal.weights.DistanceBand.from_dataframe(seg_csl, threshold=d, binary=binary, silent=True)\n",
    "    lgstar = G_Local(y, w, star=True, transform='B')\n",
    "    lgstars[d] = lgstar"
   ]
  },
  {
   "cell_type": "code",
   "execution_count": 54,
   "metadata": {
    "collapsed": true
   },
   "outputs": [],
   "source": [
    "def count_spots(lgstars, dbs):\n",
    "    res = []\n",
    "    for d in dbs:\n",
    "        lgstar = lgstars[d]\n",
    "        sig_norm = lgstar.p_norm<0.05\n",
    "        neg_Zs = lgstar.Zs<0\n",
    "        pos_Zs = lgstar.Zs>0\n",
    "        res.append({\n",
    "            'dist band(m)': d,\n",
    "            'hot': (sig_norm & pos_Zs).sum(),\n",
    "            'cold': (sig_norm & neg_Zs).sum(),\n",
    "            'total': sig_norm.sum()\n",
    "        })\n",
    "    df = pd.DataFrame(res)\n",
    "    return df[['dist band(m)', 'total', 'hot', 'cold']]"
   ]
  },
  {
   "cell_type": "code",
   "execution_count": 55,
   "metadata": {},
   "outputs": [
    {
     "data": {
      "text/html": [
       "<div>\n",
       "<style>\n",
       "    .dataframe thead tr:only-child th {\n",
       "        text-align: right;\n",
       "    }\n",
       "\n",
       "    .dataframe thead th {\n",
       "        text-align: left;\n",
       "    }\n",
       "\n",
       "    .dataframe tbody tr th {\n",
       "        vertical-align: top;\n",
       "    }\n",
       "</style>\n",
       "<table border=\"1\" class=\"dataframe\">\n",
       "  <thead>\n",
       "    <tr style=\"text-align: right;\">\n",
       "      <th></th>\n",
       "      <th>dist band(m)</th>\n",
       "      <th>total</th>\n",
       "      <th>hot</th>\n",
       "      <th>cold</th>\n",
       "    </tr>\n",
       "  </thead>\n",
       "  <tbody>\n",
       "    <tr>\n",
       "      <th>0</th>\n",
       "      <td>10</td>\n",
       "      <td>45</td>\n",
       "      <td>16</td>\n",
       "      <td>29</td>\n",
       "    </tr>\n",
       "    <tr>\n",
       "      <th>1</th>\n",
       "      <td>50</td>\n",
       "      <td>48</td>\n",
       "      <td>16</td>\n",
       "      <td>32</td>\n",
       "    </tr>\n",
       "    <tr>\n",
       "      <th>2</th>\n",
       "      <td>100</td>\n",
       "      <td>81</td>\n",
       "      <td>32</td>\n",
       "      <td>49</td>\n",
       "    </tr>\n",
       "    <tr>\n",
       "      <th>3</th>\n",
       "      <td>150</td>\n",
       "      <td>121</td>\n",
       "      <td>61</td>\n",
       "      <td>60</td>\n",
       "    </tr>\n",
       "    <tr>\n",
       "      <th>4</th>\n",
       "      <td>200</td>\n",
       "      <td>130</td>\n",
       "      <td>62</td>\n",
       "      <td>68</td>\n",
       "    </tr>\n",
       "    <tr>\n",
       "      <th>5</th>\n",
       "      <td>300</td>\n",
       "      <td>161</td>\n",
       "      <td>79</td>\n",
       "      <td>82</td>\n",
       "    </tr>\n",
       "    <tr>\n",
       "      <th>6</th>\n",
       "      <td>400</td>\n",
       "      <td>166</td>\n",
       "      <td>71</td>\n",
       "      <td>95</td>\n",
       "    </tr>\n",
       "  </tbody>\n",
       "</table>\n",
       "</div>"
      ],
      "text/plain": [
       "   dist band(m)  total  hot  cold\n",
       "0            10     45   16    29\n",
       "1            50     48   16    32\n",
       "2           100     81   32    49\n",
       "3           150    121   61    60\n",
       "4           200    130   62    68\n",
       "5           300    161   79    82\n",
       "6           400    166   71    95"
      ]
     },
     "execution_count": 55,
     "metadata": {},
     "output_type": "execute_result"
    }
   ],
   "source": [
    "count_spots(lgstars, dbs)"
   ]
  },
  {
   "cell_type": "code",
   "execution_count": 162,
   "metadata": {},
   "outputs": [],
   "source": [
    "lgstar150 = lgstars[150]\n",
    "sig_norm = lgstar150.p_norm<0.05\n",
    "neg_Zs = lgstar150.Zs<0\n",
    "pos_Zs = lgstar150.Zs>0\n",
    "seg_csl_temp = seg_csl\n",
    "seg_csl_temp['p_norm'] = lgstar150.p_norm\n",
    "seg_csl_temp['hot'] = sig_norm & pos_Zs\n",
    "seg_csl_temp['cold']= sig_norm & neg_Zs\n",
    "seg_csl_temp['spot'] = seg_csl.apply(lambda x: 'hot' if x.hot else 'cold' if x.cold else 'None', axis=1)\n",
    "seg_csl_temp['Zs'] = lgstar150.Zs\n",
    "seg_csl_temp.drop(['hot', 'cold'], axis=1, inplace=True)"
   ]
  },
  {
   "cell_type": "code",
   "execution_count": 163,
   "metadata": {},
   "outputs": [],
   "source": [
    "gpdf = gpd.GeoDataFrame(seg_csl_temp)"
   ]
  },
  {
   "cell_type": "code",
   "execution_count": 164,
   "metadata": {},
   "outputs": [],
   "source": [
    "gpdf = crs_prepossess(gpdf, bfr_crs=4326, init_crs=3559)"
   ]
  },
  {
   "cell_type": "code",
   "execution_count": 165,
   "metadata": {
    "collapsed": true
   },
   "outputs": [],
   "source": [
    "colors ={\n",
    "    'hot':['#fddbc7', '#ef8a62', '#b2182b'],\n",
    "    'cold': ['#d1e5f0', '#67a9cf', '#2166ac'],\n",
    "    'None': '#f7f7f7'\n",
    "} \n",
    "\n",
    "def get_sig_lvl(p):\n",
    "    if p<0.001:\n",
    "        return 2\n",
    "    if p<0.01:\n",
    "        return 1\n",
    "    if p<0.05:\n",
    "        return 0\n",
    "    return -1\n",
    "\n",
    "def get_color(row):\n",
    "    if row.spot=='None': \n",
    "        return colors['None']\n",
    "    return colors[row.spot][row.sig_lvl]\n"
   ]
  },
  {
   "cell_type": "code",
   "execution_count": 166,
   "metadata": {
    "scrolled": true
   },
   "outputs": [],
   "source": [
    "gpdf['sig_lvl'] = gpdf.p_norm.apply(get_sig_lvl)"
   ]
  },
  {
   "cell_type": "code",
   "execution_count": 167,
   "metadata": {},
   "outputs": [],
   "source": [
    "gpdf['color']= gpdf.apply(get_color, axis=1)"
   ]
  },
  {
   "cell_type": "code",
   "execution_count": 169,
   "metadata": {},
   "outputs": [],
   "source": [
    "from importlib import reload\n",
    "import src.leaflet_creation;reload(src.leaflet_creation)\n",
    "from src.leaflet_creation import create_map_visualization, MAP_LAYERS\n",
    "\n",
    "html_title = 'localgstar'\n",
    "file_path = ''\n",
    "file_name = 'localgstar'\n",
    "lon, lat = -77.018479, 38.913237 #D.C.\n",
    "zoom = 13\n",
    "map_layers = MAP_LAYERS.keys()\n",
    "init_layers = [list(map_layers)[0], 'csl']\n",
    "binding_data=[['csl','spots of csl']]\n",
    "# gpdf1['color'] = '#aa0'\n",
    "# gpdf2['color'] = '#0a0'\n",
    "gpdfs = [gpdf]\n",
    "create_map_visualization(html_title, file_path, file_name, lat, lon, zoom, init_layers, map_layers, binding_data, gpdfs)"
   ]
  },
  {
   "cell_type": "markdown",
   "metadata": {},
   "source": [
    "# G* for x"
   ]
  },
  {
   "cell_type": "code",
   "execution_count": 4,
   "metadata": {},
   "outputs": [
    {
     "name": "stderr",
     "output_type": "stream",
     "text": [
      "D:\\ProgramFiles\\Anaconda3\\lib\\site-packages\\scipy\\sparse\\data.py:103: RuntimeWarning: divide by zero encountered in reciprocal\n",
      "  return self._with_data(data ** n)\n"
     ]
    },
    {
     "data": {
      "text/html": [
       "<div>\n",
       "<style>\n",
       "    .dataframe thead tr:only-child th {\n",
       "        text-align: right;\n",
       "    }\n",
       "\n",
       "    .dataframe thead th {\n",
       "        text-align: left;\n",
       "    }\n",
       "\n",
       "    .dataframe tbody tr th {\n",
       "        vertical-align: top;\n",
       "    }\n",
       "</style>\n",
       "<table border=\"1\" class=\"dataframe\">\n",
       "  <thead>\n",
       "    <tr style=\"text-align: right;\">\n",
       "      <th>band</th>\n",
       "      <th>10</th>\n",
       "      <th>50</th>\n",
       "      <th>100</th>\n",
       "      <th>150</th>\n",
       "      <th>200</th>\n",
       "      <th>300</th>\n",
       "      <th>400</th>\n",
       "    </tr>\n",
       "  </thead>\n",
       "  <tbody>\n",
       "    <tr>\n",
       "      <th>num_islands</th>\n",
       "      <td>13469</td>\n",
       "      <td>10234</td>\n",
       "      <td>1436</td>\n",
       "      <td>211</td>\n",
       "      <td>79</td>\n",
       "      <td>21</td>\n",
       "      <td>11</td>\n",
       "    </tr>\n",
       "  </tbody>\n",
       "</table>\n",
       "</div>"
      ],
      "text/plain": [
       "band           10     50    100  150  200  300  400\n",
       "num_islands  13469  10234  1436  211   79   21   11"
      ]
     },
     "execution_count": 4,
     "metadata": {},
     "output_type": "execute_result"
    }
   ],
   "source": [
    "ws_db_notbinary = {db: pysal.weights.DistanceBand.from_dataframe(geom_seg[['geometry']], threshold=db, binary=False, silent=True) for db in dbs}\n",
    "ws_db_binary = {db: pysal.weights.DistanceBand.from_dataframe(geom_seg[['geometry']], threshold=db, binary=True, silent=True) for db in dbs}\n",
    "islands = [ws_db_notbinary[db].islands.__len__() for db in dbs]\n",
    "pd.DataFrame(list(zip(dbs, islands)), columns=['band', 'num_islands']).set_index('band').T"
   ]
  },
  {
   "cell_type": "code",
   "execution_count": 5,
   "metadata": {},
   "outputs": [],
   "source": [
    "np.random.seed(12345)"
   ]
  },
  {
   "cell_type": "code",
   "execution_count": null,
   "metadata": {
    "collapsed": true
   },
   "outputs": [],
   "source": [
    "def compute_gstar(ws, param_list, x, pname):\n",
    "    res = []\n",
    "\n",
    "    for i, cname in enumerate(x):\n",
    "        if i % 40 == 0:\n",
    "            print('i=', i, cname)\n",
    "            \n",
    "        data = x[cname]\n",
    "        for p in param_list:\n",
    "            w = ws[p]\n",
    "            lgstar = G_Local(data, w, star=True)\n",
    "            res.append({\n",
    "                'column':cname, \n",
    "                pname:p,\n",
    "                'I': lgstar.I, \n",
    "                'EI': lgstar.EI, \n",
    "                'p_norm': lgstar.p_norm,\n",
    "                'p_sim': lgstar.p_sim, \n",
    "                'p_z_sim': lgstar.p_z_sim,\n",
    "                'z_sim': lgstar.z_sim,\n",
    "            })\n",
    "            \n",
    "        if i==3:\n",
    "            break\n",
    "        \n",
    "    print('done computing', pname)\n",
    "    df = pd.DataFrame(res)\n",
    "    return df[['column', pname, 'I', 'EI', 'p_norm', 'p_sim', 'p_z_sim']]"
   ]
  },
  {
   "cell_type": "code",
   "execution_count": 6,
   "metadata": {},
   "outputs": [],
   "source": [
    "lgstar = G_Local(x.iloc[:,0], ws_db_notbinary[400], star=True)"
   ]
  },
  {
   "cell_type": "code",
   "execution_count": 7,
   "metadata": {},
   "outputs": [
    {
     "data": {
      "text/plain": [
       "array([-0.04506776, -0.27665844, -0.41146641, ..., -0.94539   ,\n",
       "       -1.04936944, -0.80452967])"
      ]
     },
     "execution_count": 7,
     "metadata": {},
     "output_type": "execute_result"
    }
   ],
   "source": [
    "lgstar.z_sim"
   ]
  },
  {
   "cell_type": "code",
   "execution_count": 31,
   "metadata": {},
   "outputs": [
    {
     "name": "stdout",
     "output_type": "stream",
     "text": [
      "13522\n"
     ]
    }
   ],
   "source": [
    "print(lgstar.n)\n",
    "sig_idx = lgstar.p_sim<0.05"
   ]
  },
  {
   "cell_type": "code",
   "execution_count": 40,
   "metadata": {},
   "outputs": [
    {
     "data": {
      "text/plain": [
       "array([[  6.17692347e-05,   6.75426033e-05,   6.92409602e-05, ...,\n",
       "          5.87880409e-05,   7.94592202e-05,   7.03180119e-05],\n",
       "       [  8.02922328e-05,   8.27343635e-05,   6.45908786e-05, ...,\n",
       "          8.21329489e-05,   8.51683943e-05,   7.35560014e-05],\n",
       "       [  7.93291058e-05,   6.37967295e-05,   6.96868674e-05, ...,\n",
       "          6.77063365e-05,   7.34398502e-05,   6.20829392e-05],\n",
       "       ..., \n",
       "       [  7.44000119e-05,   7.96296715e-05,   6.47336769e-05, ...,\n",
       "          6.31136754e-05,   1.10739563e-04,   6.88068830e-05],\n",
       "       [  7.40024631e-05,   7.13604056e-05,   7.87851248e-05, ...,\n",
       "          8.10049649e-05,   6.86135790e-05,   6.60940628e-05],\n",
       "       [  6.67903241e-05,   7.33421899e-05,   7.92006309e-05, ...,\n",
       "          1.06916012e-04,   8.09085826e-05,   7.82284953e-05]])"
      ]
     },
     "execution_count": 40,
     "metadata": {},
     "output_type": "execute_result"
    }
   ],
   "source": [
    "lgstar.sim"
   ]
  },
  {
   "cell_type": "code",
   "execution_count": 33,
   "metadata": {},
   "outputs": [
    {
     "data": {
      "text/plain": [
       "<matplotlib.axes._subplots.AxesSubplot at 0x15a0009def0>"
      ]
     },
     "execution_count": 33,
     "metadata": {},
     "output_type": "execute_result"
    },
    {
     "data": {
      "image/png": "[encoded data removed]",
      "text/plain": [
       "<matplotlib.figure.Figure at 0x15a000c1358>"
      ]
     },
     "metadata": {},
     "output_type": "display_data"
    }
   ],
   "source": [
    "pd.Series(lgstar.Gs).hist()\n",
    "pd.Series(lgstar.Gs[sig_idx]).hist()"
   ]
  },
  {
   "cell_type": "code",
   "execution_count": 34,
   "metadata": {},
   "outputs": [
    {
     "data": {
      "text/plain": [
       "<matplotlib.axes._subplots.AxesSubplot at 0x15a003ecb00>"
      ]
     },
     "execution_count": 34,
     "metadata": {},
     "output_type": "execute_result"
    },
    {
     "data": {
      "image/png": "[encoded data removed]",
      "text/plain": [
       "<matplotlib.figure.Figure at 0x15a70c6b630>"
      ]
     },
     "metadata": {},
     "output_type": "display_data"
    }
   ],
   "source": [
    "pd.Series(lgstar.z_sim).hist()\n",
    "pd.Series(lgstar.z_sim[sig_idx]).hist()"
   ]
  },
  {
   "cell_type": "code",
   "execution_count": 38,
   "metadata": {},
   "outputs": [
    {
     "data": {
      "text/plain": [
       "<matplotlib.axes._subplots.AxesSubplot at 0x15a004d49e8>"
      ]
     },
     "execution_count": 38,
     "metadata": {},
     "output_type": "execute_result"
    },
    {
     "data": {
      "image/png": "[encoded data removed]",
      "text/plain": [
       "<matplotlib.figure.Figure at 0x15a00448898>"
      ]
     },
     "metadata": {},
     "output_type": "display_data"
    }
   ],
   "source": [
    "pd.Series(lgstar.z_sim[lgstar.z_sim<0]).hist()"
   ]
  }
 ],
 "metadata": {
  "kernelspec": {
   "display_name": "Python 3",
   "language": "python",
   "name": "python3"
  },
  "language_info": {
   "codemirror_mode": {
    "name": "ipython",
    "version": 3
   },
   "file_extension": ".py",
   "mimetype": "text/x-python",
   "name": "python",
   "nbconvert_exporter": "python",
   "pygments_lexer": "ipython3",
   "version": "3.6.1"
  }
 },
 "nbformat": 4,
 "nbformat_minor": 2
}
