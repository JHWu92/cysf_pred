{
 "cells": [
  {
   "cell_type": "code",
   "execution_count": null,
   "metadata": {
    "collapsed": true
   },
   "outputs": [],
   "source": [
    "# best 3 solutions based on EXP1 & 3 in turns of f1 weighted is:\n",
    "# XGBcls, RoadNet+Segment TOTAL, 0.5284741533025521; + smote_svm: 0.5396583161\n",
    "# XGBreg, RoadNet+Segment NO_TOTAL, 0.512063968; type instead of total + smote_svm: 0.533828674; + smote_svm+mrmr: 0.5330293468\n",
    "# GDBcls, RoadNet+Segment TOTAL, 0.5107103184755486; +smote_svm + rfecv_linsvm: 0.5178884611"
   ]
  },
  {
   "cell_type": "code",
   "execution_count": null,
   "metadata": {
    "collapsed": true
   },
   "outputs": [],
   "source": [
    "from src.experiment_based_function import SEEDS\n",
    "import pandas as pd\n",
    "%matplotlib inline\n",
    "import os\n",
    "import glob"
   ]
  },
  {
   "cell_type": "code",
   "execution_count": null,
   "metadata": {
    "collapsed": true
   },
   "outputs": [],
   "source": [
    "def get_exp5_result(eval_or_grid):\n",
    "    res = []\n",
    "    for directoy in glob.glob('data/exp5/*'):\n",
    "        qa = os.path.basename(directoy)\n",
    "        q, a = qa.split('#')\n",
    "        for seed in SEEDS:\n",
    "            df = pd.read_csv('%s/seed_%d/%s_res.csv' % (directoy, seed, eval_or_grid), index_col=0)\n",
    "            df['q'] = q\n",
    "            df['a'] = a\n",
    "            df['seed'] = seed\n",
    "            res.append(df)\n",
    "    return pd.concat(res)"
   ]
  },
  {
   "cell_type": "code",
   "execution_count": null,
   "metadata": {},
   "outputs": [],
   "source": [
    "def get_exp5_result(eval_or_grid='eval'):\n",
    "    res = []\n",
    "    for directoy in glob.glob('data/exp5/*/*/*'):\n",
    "#         print(directoy)\n",
    "        df = pd.read_csv('%s/%s_res.csv' % (directoy, eval_or_grid), index_col=0)\n",
    "        frac, sample_seed, train_test_seed = directoy.replace('data/exp5/', '').split('/')\n",
    "        df['frac'] = int(frac[5:])\n",
    "        df['sample_seed'] = int(sample_seed[7:])\n",
    "        df['train_test_seed'] = int(train_test_seed[5:])\n",
    "        res.append(df)\n",
    "    return pd.concat(res, ignore_index=0)"
   ]
  },
  {
   "cell_type": "code",
   "execution_count": null,
   "metadata": {},
   "outputs": [],
   "source": [
    "eval_res = get_exp5_result()"
   ]
  },
  {
   "cell_type": "code",
   "execution_count": null,
   "metadata": {},
   "outputs": [],
   "source": [
    "eval_res.columns"
   ]
  },
  {
   "cell_type": "code",
   "execution_count": null,
   "metadata": {},
   "outputs": [],
   "source": [
    "print('train', eval_res.train_n_classes.value_counts().to_dict())\n",
    "print('test', eval_res.test_n_classes.value_counts().to_dict())\n",
    "\n",
    "print('train', 'test')\n",
    "print(eval_res.apply(lambda x: (x.train_n_classes, x.test_n_classes), axis=1).value_counts())"
   ]
  },
  {
   "cell_type": "code",
   "execution_count": null,
   "metadata": {
    "collapsed": true
   },
   "outputs": [],
   "source": [
    "f1_choices = ['test_f1_weighted', 'test_f1_macro', 'test_f1_micro']"
   ]
  },
  {
   "cell_type": "code",
   "execution_count": null,
   "metadata": {
    "collapsed": true
   },
   "outputs": [],
   "source": [
    "keys = ['frac', 'upsample', 'ftr_combo_name', 'model_name', 'feature_selection']"
   ]
  },
  {
   "cell_type": "code",
   "execution_count": null,
   "metadata": {},
   "outputs": [],
   "source": [
    "info = eval_res.groupby(['frac','upsample']).mean()[['#test_sample', '#train_sample','test_n_classes','train_n_classes', ]]"
   ]
  },
  {
   "cell_type": "code",
   "execution_count": null,
   "metadata": {},
   "outputs": [],
   "source": [
    "means = eval_res.groupby(keys+['sample_seed']).mean()[f1_choices].groupby(keys).mean()\n",
    "stds = eval_res.groupby(keys+['sample_seed']).std()[f1_choices].groupby(keys).std()\n",
    "means = means.reset_index().merge(info.reset_index(), how='left').set_index(keys)"
   ]
  },
  {
   "cell_type": "code",
   "execution_count": null,
   "metadata": {
    "collapsed": true
   },
   "outputs": [],
   "source": [
    "def get_paper_table(means, f1_type, index_cols, column_col='ftr_combo_name'):\n",
    "    cols_name_convert = {'RoadNet': '1RoadNet', 'RoadNet+Segment_NO_TOTAL_~2014': '5RoadNet+Segment type',\n",
    "     'RoadNet+Segment_TOTAL_~2014': '4RoadNet+Segment total', 'Segment_NO_TOTAL_~2014': '3Segment type',\n",
    "     'Segment_TOTAL_~2014': '2Segment total'}\n",
    "    means_for_pivot = means.reset_index()\n",
    "    means_for_pivot['ftr_combo_name'] = means_for_pivot['ftr_combo_name'].apply(lambda x: cols_name_convert[x])\n",
    "    means_for_pivot['key'] = means_for_pivot.apply(lambda x: tuple([x[col] for col in index_cols]), axis=1)\n",
    "    table = means_for_pivot.reset_index().pivot(index='key', columns=column_col, values=f1_type)\n",
    "    table.index = pd.MultiIndex.from_tuples(table.index, names=index_cols)    \n",
    "    return table"
   ]
  },
  {
   "cell_type": "code",
   "execution_count": null,
   "metadata": {},
   "outputs": [],
   "source": [
    "index_cols = [k for k in keys if k!='frac']\n",
    "# ['test_n_classes','train_n_classes']+\n",
    "table = get_paper_table(means, f1_type, index_cols, column_col='frac')"
   ]
  },
  {
   "cell_type": "code",
   "execution_count": null,
   "metadata": {},
   "outputs": [],
   "source": [
    "table"
   ]
  },
  {
   "cell_type": "code",
   "execution_count": null,
   "metadata": {
    "collapsed": true
   },
   "outputs": [],
   "source": []
  },
  {
   "cell_type": "code",
   "execution_count": null,
   "metadata": {
    "collapsed": true
   },
   "outputs": [],
   "source": []
  },
  {
   "cell_type": "code",
   "execution_count": null,
   "metadata": {
    "collapsed": true
   },
   "outputs": [],
   "source": []
  },
  {
   "cell_type": "code",
   "execution_count": null,
   "metadata": {
    "collapsed": true
   },
   "outputs": [],
   "source": []
  }
 ],
 "metadata": {
  "kernelspec": {
   "display_name": "Python [default]",
   "language": "python",
   "name": "python3"
  },
  "language_info": {
   "codemirror_mode": {
    "name": "ipython",
    "version": 3
   },
   "file_extension": ".py",
   "mimetype": "text/x-python",
   "name": "python",
   "nbconvert_exporter": "python",
   "pygments_lexer": "ipython3",
   "version": "3.6.2"
  }
 },
 "nbformat": 4,
 "nbformat_minor": 2
}
