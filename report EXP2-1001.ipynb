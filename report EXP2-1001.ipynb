{
 "cells": [
  {
   "cell_type": "code",
   "execution_count": 1,
   "metadata": {
    "collapsed": true
   },
   "outputs": [],
   "source": [
    "# best 3 solutions based on EXP1 in turns of f1 micro is:\n",
    "# XGBcls: RoadNet+Social type, 0.6561797753\n",
    "# BAGcls: RoadNet+Social type, 0.6539325843\n",
    "# RFreg: RoadNet+Social total, 0.6494382022\n",
    "# with ~2014, min-max, no feature selection"
   ]
  },
  {
   "cell_type": "code",
   "execution_count": 2,
   "metadata": {
    "collapsed": true
   },
   "outputs": [],
   "source": [
    "import matplotlib.pyplot as plt\n",
    "import numpy as np\n",
    "from collections import defaultdict\n",
    "import pandas as pd\n",
    "%matplotlib inline\n"
   ]
  },
  {
   "cell_type": "code",
   "execution_count": 3,
   "metadata": {
    "collapsed": true
   },
   "outputs": [],
   "source": [
    "def train_test_idx(seed):\n",
    "    idx_fn = 'experiment_1001/exp1/seed_%d/indices.txt' % seed\n",
    "    with open(idx_fn) as f:\n",
    "        lines = f.readlines()\n",
    "        train_idx = lines[0].strip().split('\\t')[1].split(',')\n",
    "        train_idx = [int(x) for x in train_idx]\n",
    "        test_idx = lines[1].strip().split('\\t')[1].split(',')\n",
    "        test_idx = [int(x) for x in test_idx]\n",
    "    return train_idx, test_idx"
   ]
  },
  {
   "cell_type": "code",
   "execution_count": 4,
   "metadata": {
    "collapsed": true
   },
   "outputs": [],
   "source": [
    "seeds = [0, 100, 972, 5258, 7821, 40918, 57852, 168352, 291592, 789729423]\n",
    "combo = [('NO_TOTAL', 'XGBcls'), ('NO_TOTAL', 'BAGcls'), ('TOTAL', 'RFreg')]"
   ]
  },
  {
   "cell_type": "code",
   "execution_count": 5,
   "metadata": {
    "collapsed": true
   },
   "outputs": [],
   "source": [
    "import glob"
   ]
  },
  {
   "cell_type": "code",
   "execution_count": 6,
   "metadata": {
    "collapsed": true
   },
   "outputs": [],
   "source": [
    "import os"
   ]
  },
  {
   "cell_type": "code",
   "execution_count": 7,
   "metadata": {},
   "outputs": [
    {
     "name": "stdout",
     "output_type": "stream",
     "text": [
      "====== 0 89\n",
      "BAGcls no feature importance\n",
      "====== 100 89\n",
      "BAGcls no feature importance\n",
      "====== 972 89\n",
      "BAGcls no feature importance\n",
      "====== 5258 89\n",
      "BAGcls no feature importance\n",
      "====== 7821 89\n",
      "BAGcls no feature importance\n",
      "====== 40918 89\n",
      "BAGcls no feature importance\n",
      "====== 57852 89\n",
      "BAGcls no feature importance\n",
      "====== 168352 89\n",
      "BAGcls no feature importance\n",
      "====== 291592 89\n",
      "BAGcls no feature importance\n",
      "====== 789729423 89\n",
      "BAGcls no feature importance\n"
     ]
    }
   ],
   "source": [
    "imps = defaultdict(list)\n",
    "cfsns = defaultdict(list)\n",
    "\n",
    "for seed in seeds:\n",
    "    train_idx, test_idx = train_test_idx(seed)\n",
    "    print('======', seed, len(test_idx))\n",
    "    exp_path = 'experiment_1001/exp1/seed_%d' % seed\n",
    "    for total_or_not, name in combo:\n",
    "        exp_param_path = '%s/%s' % (exp_path, 'RoadNet+Segment#%s#~2014#min-max#None' % total_or_not)\n",
    "        try:\n",
    "            imp = pd.read_csv('%s/imp_%s.csv' %(exp_param_path, name), index_col=0)\n",
    "            imp.columns = ['label', 'importance_%d' % seed]\n",
    "            imps[name].append(imp)\n",
    "        except FileNotFoundError:\n",
    "            print(name, 'no feature importance')\n",
    "            \n",
    "        cfsn = pd.read_csv('%s/cfsn_%s.csv' %(exp_param_path, name), header=[0,1], index_col=[0,1])\n",
    "        cfsns[name].append(cfsn)\n",
    "#     break"
   ]
  },
  {
   "cell_type": "markdown",
   "metadata": {},
   "source": [
    "# confusion matrix"
   ]
  },
  {
   "cell_type": "code",
   "execution_count": 58,
   "metadata": {
    "collapsed": true
   },
   "outputs": [],
   "source": [
    "import seaborn as sns\n",
    "import matplotlib.pyplot as plt"
   ]
  },
  {
   "cell_type": "code",
   "execution_count": 64,
   "metadata": {
    "collapsed": true
   },
   "outputs": [],
   "source": [
    "def save_heatmap(df, fn):\n",
    "    sns.set(font_scale=2)\n",
    "    ax = sns.heatmap(df, annot=True, cmap='Greens', annot_kws={\"size\": 23})\n",
    "    ax.set_xlabel('')\n",
    "    ax.set_ylabel('')\n",
    "    fig = ax.get_figure()\n",
    "    fig.set_size_inches(10,8)\n",
    "    fig.savefig('%s.eps' % fn, format='eps', bbox_inches='tight', pad_inches=0.05)\n",
    "    fig.savefig('%s.png' % fn, format='png', bbox_inches='tight', pad_inches=0.05)\n",
    "#     plt.show()\n",
    "    plt.close()"
   ]
  },
  {
   "cell_type": "code",
   "execution_count": 65,
   "metadata": {},
   "outputs": [
    {
     "name": "stdout",
     "output_type": "stream",
     "text": [
      "deliverables/experiment_1001/EXP2 average_confusion_matrix_XGBcls_type\n",
      "deliverables/experiment_1001/EXP2 average_confusion_matrix_BAGcls_type\n",
      "deliverables/experiment_1001/EXP2 average_confusion_matrix_RFreg_total\n"
     ]
    }
   ],
   "source": [
    "for total_or_not, name in combo:\n",
    "    total_or_type = {'TOTAL': 'total', 'NO_TOTAL': 'type'}[total_or_not]\n",
    "    cfsn = sum(cfsns[name])/len(cfsns[name])\n",
    "    cfsn.index = pd.MultiIndex.from_tuples([('true', x[1]) for x in cfsn.index])    \n",
    "    fn = 'deliverables/experiment_1001/EXP2 average_confusion_matrix_%s_%s' % (name, total_or_type)\n",
    "    print(fn)\n",
    "#     cfsn.to_csv('deliverables/experiment_1001/EXP2 average_confusion_matrix_%s_%s.csv' % (name, total_or_type))\n",
    "    save_heatmap(cfsn, fn)\n",
    "    \n",
    "    cfsn_pcnt_per_row = cfsn.apply(lambda x: x / x.sum(), axis=1)\n",
    "    fn = 'deliverables/experiment_1001/EXP2 average_confusion_matrix_as_pcnt_per_row_%s_%s' % (name, total_or_type)\n",
    "#     cfsn_pcnt_per_row.to_csv('deliverables/experiment_1001/EXP2 average_confusion_matrix_as_pcnt_per_row_%s_%s.csv' % (name, total_or_type))\n",
    "    save_heatmap(cfsn_pcnt_per_row, fn)\n",
    "#     break"
   ]
  },
  {
   "cell_type": "code",
   "execution_count": 22,
   "metadata": {
    "collapsed": true
   },
   "outputs": [],
   "source": [
    "def cal_neighbor_miss_pcnt(cfsn):\n",
    "    non_dia = pd.DataFrame(np.where(np.eye(np.min(cfsn.shape)), np.nan, cfsn.values), cfsn.index, cfsn.columns)\n",
    "    sum_missed_classified = non_dia.sum().sum()\n",
    "\n",
    "    sum_next_class = 0\n",
    "    sum_prev_class = 0\n",
    "    for i in range(cfsn.shape[0]):\n",
    "        print(i, end=' ')\n",
    "        if i>0:\n",
    "            prev_class = cfsn.iloc[i, i-1]\n",
    "            sum_prev_class+=prev_class\n",
    "            print('prev', prev_class,end=' ')\n",
    "        if i+1<cfsn.shape[0]:\n",
    "            next_class = cfsn.iloc[i, i+1]\n",
    "            sum_next_class+=next_class\n",
    "            print('next', next_class,end=' ')\n",
    "        print()\n",
    "    print(sum_prev_class, sum_next_class)\n",
    "    print(\n",
    "          'both_way', (sum_prev_class+sum_next_class)/sum_missed_classified,'\\n',\n",
    "          'more_dangerous', sum_prev_class/sum_missed_classified, '\\n',\n",
    "          'safer', sum_next_class/sum_missed_classified, '\\n',)"
   ]
  },
  {
   "cell_type": "code",
   "execution_count": 23,
   "metadata": {
    "collapsed": true
   },
   "outputs": [],
   "source": [
    "from IPython.display import display"
   ]
  },
  {
   "cell_type": "code",
   "execution_count": 24,
   "metadata": {},
   "outputs": [
    {
     "name": "stdout",
     "output_type": "stream",
     "text": [
      "XGBcls\n"
     ]
    },
    {
     "data": {
      "text/html": [
       "<div>\n",
       "<style>\n",
       "    .dataframe thead tr:only-child th {\n",
       "        text-align: right;\n",
       "    }\n",
       "\n",
       "    .dataframe thead th {\n",
       "        text-align: left;\n",
       "    }\n",
       "\n",
       "    .dataframe tbody tr th {\n",
       "        vertical-align: top;\n",
       "    }\n",
       "</style>\n",
       "<table border=\"1\" class=\"dataframe\">\n",
       "  <thead>\n",
       "    <tr>\n",
       "      <th></th>\n",
       "      <th></th>\n",
       "      <th colspan=\"5\" halign=\"left\">pred</th>\n",
       "    </tr>\n",
       "    <tr>\n",
       "      <th></th>\n",
       "      <th></th>\n",
       "      <th>1</th>\n",
       "      <th>2</th>\n",
       "      <th>3</th>\n",
       "      <th>4</th>\n",
       "      <th>5</th>\n",
       "    </tr>\n",
       "  </thead>\n",
       "  <tbody>\n",
       "    <tr>\n",
       "      <th rowspan=\"5\" valign=\"top\">True</th>\n",
       "      <th>1</th>\n",
       "      <td>0.4</td>\n",
       "      <td>1.0</td>\n",
       "      <td>0.9</td>\n",
       "      <td>0.0</td>\n",
       "      <td>0.0</td>\n",
       "    </tr>\n",
       "    <tr>\n",
       "      <th>2</th>\n",
       "      <td>0.6</td>\n",
       "      <td>3.1</td>\n",
       "      <td>6.9</td>\n",
       "      <td>2.2</td>\n",
       "      <td>0.0</td>\n",
       "    </tr>\n",
       "    <tr>\n",
       "      <th>3</th>\n",
       "      <td>0.0</td>\n",
       "      <td>1.8</td>\n",
       "      <td>32.1</td>\n",
       "      <td>6.7</td>\n",
       "      <td>0.0</td>\n",
       "    </tr>\n",
       "    <tr>\n",
       "      <th>4</th>\n",
       "      <td>0.0</td>\n",
       "      <td>0.4</td>\n",
       "      <td>9.0</td>\n",
       "      <td>22.5</td>\n",
       "      <td>0.0</td>\n",
       "    </tr>\n",
       "    <tr>\n",
       "      <th>5</th>\n",
       "      <td>0.0</td>\n",
       "      <td>0.2</td>\n",
       "      <td>0.4</td>\n",
       "      <td>0.5</td>\n",
       "      <td>0.3</td>\n",
       "    </tr>\n",
       "  </tbody>\n",
       "</table>\n",
       "</div>"
      ],
      "text/plain": [
       "       pred                      \n",
       "          1    2     3     4    5\n",
       "True 1  0.4  1.0   0.9   0.0  0.0\n",
       "     2  0.6  3.1   6.9   2.2  0.0\n",
       "     3  0.0  1.8  32.1   6.7  0.0\n",
       "     4  0.0  0.4   9.0  22.5  0.0\n",
       "     5  0.0  0.2   0.4   0.5  0.3"
      ]
     },
     "metadata": {},
     "output_type": "display_data"
    },
    {
     "name": "stdout",
     "output_type": "stream",
     "text": [
      "0 next 1.0 \n",
      "1 prev 0.6 next 6.9 \n",
      "2 prev 1.8 next 6.7 \n",
      "3 prev 9.0 next 0.0 \n",
      "4 prev 0.5 \n",
      "11.9 14.6\n",
      "both_way 0.866013071895 \n",
      " more_dangerous 0.388888888889 \n",
      " safer 0.477124183007 \n",
      "\n",
      "BAGcls\n"
     ]
    },
    {
     "data": {
      "text/html": [
       "<div>\n",
       "<style>\n",
       "    .dataframe thead tr:only-child th {\n",
       "        text-align: right;\n",
       "    }\n",
       "\n",
       "    .dataframe thead th {\n",
       "        text-align: left;\n",
       "    }\n",
       "\n",
       "    .dataframe tbody tr th {\n",
       "        vertical-align: top;\n",
       "    }\n",
       "</style>\n",
       "<table border=\"1\" class=\"dataframe\">\n",
       "  <thead>\n",
       "    <tr>\n",
       "      <th></th>\n",
       "      <th></th>\n",
       "      <th colspan=\"5\" halign=\"left\">pred</th>\n",
       "    </tr>\n",
       "    <tr>\n",
       "      <th></th>\n",
       "      <th></th>\n",
       "      <th>1</th>\n",
       "      <th>2</th>\n",
       "      <th>3</th>\n",
       "      <th>4</th>\n",
       "      <th>5</th>\n",
       "    </tr>\n",
       "  </thead>\n",
       "  <tbody>\n",
       "    <tr>\n",
       "      <th rowspan=\"5\" valign=\"top\">True</th>\n",
       "      <th>1</th>\n",
       "      <td>0.2</td>\n",
       "      <td>1.0</td>\n",
       "      <td>1.1</td>\n",
       "      <td>0.0</td>\n",
       "      <td>0.0</td>\n",
       "    </tr>\n",
       "    <tr>\n",
       "      <th>2</th>\n",
       "      <td>0.3</td>\n",
       "      <td>2.8</td>\n",
       "      <td>7.9</td>\n",
       "      <td>1.8</td>\n",
       "      <td>0.0</td>\n",
       "    </tr>\n",
       "    <tr>\n",
       "      <th>3</th>\n",
       "      <td>0.0</td>\n",
       "      <td>1.0</td>\n",
       "      <td>32.9</td>\n",
       "      <td>6.7</td>\n",
       "      <td>0.0</td>\n",
       "    </tr>\n",
       "    <tr>\n",
       "      <th>4</th>\n",
       "      <td>0.0</td>\n",
       "      <td>0.0</td>\n",
       "      <td>9.9</td>\n",
       "      <td>22.0</td>\n",
       "      <td>0.0</td>\n",
       "    </tr>\n",
       "    <tr>\n",
       "      <th>5</th>\n",
       "      <td>0.0</td>\n",
       "      <td>0.1</td>\n",
       "      <td>0.9</td>\n",
       "      <td>0.1</td>\n",
       "      <td>0.3</td>\n",
       "    </tr>\n",
       "  </tbody>\n",
       "</table>\n",
       "</div>"
      ],
      "text/plain": [
       "       pred                      \n",
       "          1    2     3     4    5\n",
       "True 1  0.2  1.0   1.1   0.0  0.0\n",
       "     2  0.3  2.8   7.9   1.8  0.0\n",
       "     3  0.0  1.0  32.9   6.7  0.0\n",
       "     4  0.0  0.0   9.9  22.0  0.0\n",
       "     5  0.0  0.1   0.9   0.1  0.3"
      ]
     },
     "metadata": {},
     "output_type": "display_data"
    },
    {
     "name": "stdout",
     "output_type": "stream",
     "text": [
      "0 next 1.0 \n",
      "1 prev 0.3 next 7.9 \n",
      "2 prev 1.0 next 6.7 \n",
      "3 prev 9.9 next 0.0 \n",
      "4 prev 0.1 \n",
      "11.3 15.6\n",
      "both_way 0.873376623377 \n",
      " more_dangerous 0.366883116883 \n",
      " safer 0.506493506494 \n",
      "\n",
      "RFreg\n"
     ]
    },
    {
     "data": {
      "text/html": [
       "<div>\n",
       "<style>\n",
       "    .dataframe thead tr:only-child th {\n",
       "        text-align: right;\n",
       "    }\n",
       "\n",
       "    .dataframe thead th {\n",
       "        text-align: left;\n",
       "    }\n",
       "\n",
       "    .dataframe tbody tr th {\n",
       "        vertical-align: top;\n",
       "    }\n",
       "</style>\n",
       "<table border=\"1\" class=\"dataframe\">\n",
       "  <thead>\n",
       "    <tr>\n",
       "      <th></th>\n",
       "      <th></th>\n",
       "      <th colspan=\"5\" halign=\"left\">pred</th>\n",
       "    </tr>\n",
       "    <tr>\n",
       "      <th></th>\n",
       "      <th></th>\n",
       "      <th>1</th>\n",
       "      <th>2</th>\n",
       "      <th>3</th>\n",
       "      <th>4</th>\n",
       "      <th>5</th>\n",
       "    </tr>\n",
       "  </thead>\n",
       "  <tbody>\n",
       "    <tr>\n",
       "      <th rowspan=\"5\" valign=\"top\">True</th>\n",
       "      <th>1</th>\n",
       "      <td>0.0</td>\n",
       "      <td>1.4</td>\n",
       "      <td>0.9</td>\n",
       "      <td>0.0</td>\n",
       "      <td>0.0</td>\n",
       "    </tr>\n",
       "    <tr>\n",
       "      <th>2</th>\n",
       "      <td>0.1</td>\n",
       "      <td>2.8</td>\n",
       "      <td>9.2</td>\n",
       "      <td>0.7</td>\n",
       "      <td>0.0</td>\n",
       "    </tr>\n",
       "    <tr>\n",
       "      <th>3</th>\n",
       "      <td>0.0</td>\n",
       "      <td>0.4</td>\n",
       "      <td>37.5</td>\n",
       "      <td>2.7</td>\n",
       "      <td>0.0</td>\n",
       "    </tr>\n",
       "    <tr>\n",
       "      <th>4</th>\n",
       "      <td>0.0</td>\n",
       "      <td>0.1</td>\n",
       "      <td>14.3</td>\n",
       "      <td>17.5</td>\n",
       "      <td>0.0</td>\n",
       "    </tr>\n",
       "    <tr>\n",
       "      <th>5</th>\n",
       "      <td>0.0</td>\n",
       "      <td>0.0</td>\n",
       "      <td>1.0</td>\n",
       "      <td>0.4</td>\n",
       "      <td>0.0</td>\n",
       "    </tr>\n",
       "  </tbody>\n",
       "</table>\n",
       "</div>"
      ],
      "text/plain": [
       "       pred                      \n",
       "          1    2     3     4    5\n",
       "True 1  0.0  1.4   0.9   0.0  0.0\n",
       "     2  0.1  2.8   9.2   0.7  0.0\n",
       "     3  0.0  0.4  37.5   2.7  0.0\n",
       "     4  0.0  0.1  14.3  17.5  0.0\n",
       "     5  0.0  0.0   1.0   0.4  0.0"
      ]
     },
     "metadata": {},
     "output_type": "display_data"
    },
    {
     "name": "stdout",
     "output_type": "stream",
     "text": [
      "0 next 1.4 \n",
      "1 prev 0.1 next 9.2 \n",
      "2 prev 0.4 next 2.7 \n",
      "3 prev 14.3 next 0.0 \n",
      "4 prev 0.4 \n",
      "15.2 13.3\n",
      "both_way 0.913461538462 \n",
      " more_dangerous 0.487179487179 \n",
      " safer 0.426282051282 \n",
      "\n"
     ]
    }
   ],
   "source": [
    "for total_or_not, name in combo:\n",
    "    print(name)\n",
    "    total_or_type = {'TOTAL': 'total', 'NO_TOTAL': 'type'}[total_or_not]\n",
    "    cfsn = pd.read_csv('deliverables/experiment_1001/EXP2 average_confusion_matrix_%s_%s.csv' % (name, total_or_type), index_col=[0,1], header=[0,1])\n",
    "    display(cfsn)\n",
    "    cal_neighbor_miss_pcnt(cfsn)"
   ]
  },
  {
   "cell_type": "code",
   "execution_count": 25,
   "metadata": {
    "collapsed": true
   },
   "outputs": [],
   "source": [
    "def plot_imp(list_imp, name, total_or_type, top=10):\n",
    "    imp = pd.DataFrame(columns=['label'])\n",
    "    for df in list_imp:\n",
    "        imp = imp.merge(df, on='label', how='outer')\n",
    "\n",
    "    imp = imp.set_index('label')\n",
    "    means = imp.mean(axis=1)\n",
    "    stds = imp.std(axis=1)\n",
    "    means_to_plot = means.sort_values(ascending=False).head(top)\n",
    "    index_to_plot = means_to_plot.index\n",
    "    stds_to_plot = stds.loc[index_to_plot]\n",
    "    ax = means_to_plot.sort_values().plot(kind='barh', xerr=stds_to_plot, figsize=(10,7))\n",
    "    ax.set_xlabel('importance with std as errorbar')\n",
    "    ax.set_ylabel('feature')\n",
    "    fig = ax.get_figure()\n",
    "    fig.savefig(u'deliverables/experiment_1001/EXP2 feature importance - %s_RoadNet+social_%s.png' % (name, total_or_type), format='png', bbox_inches='tight', pad_inches=0)\n",
    "    "
   ]
  },
  {
   "cell_type": "code",
   "execution_count": 11,
   "metadata": {},
   "outputs": [],
   "source": [
    "total_or_not, name = combo[0]\n",
    "total_or_type = {'TOTAL': 'total', 'NO_TOTAL': 'type'}[total_or_not]\n",
    "# plot_imp(imps[name], name, total_or_type, 10)\n",
    "imp = pd.DataFrame(columns=['label'])\n",
    "for df in imps[name]:\n",
    "    imp = imp.merge(df, on='label', how='outer')"
   ]
  },
  {
   "cell_type": "code",
   "execution_count": 19,
   "metadata": {},
   "outputs": [
    {
     "data": {
      "text/plain": [
       "label\n",
       "SHAPE_Length                 0.037010\n",
       "cycling facilities           0.022104\n",
       "d_page_rank_SgAsNd           0.022485\n",
       "NO PARKING ANYTIME           0.018013\n",
       "crime_ofn_THEFT/OTHER        0.020020\n",
       "d_auth_score_SgAsNd          0.017915\n",
       "ud_page_rank_SgAsNd          0.018829\n",
       "311_STREETLIGHT REPAIR       0.016944\n",
       "crime_ofn_BURGLARY           0.018117\n",
       "FAILURE TO SECURE DC TAGS    0.013864\n",
       "dtype: float64"
      ]
     },
     "execution_count": 19,
     "metadata": {},
     "output_type": "execute_result"
    }
   ],
   "source": [
    "\n",
    "imp.mean(axis=1).head(10)"
   ]
  },
  {
   "cell_type": "code",
   "execution_count": 27,
   "metadata": {},
   "outputs": [
    {
     "name": "stdout",
     "output_type": "stream",
     "text": [
      "RFreg\n"
     ]
    },
    {
     "data": {
      "image/png": "[encoded data removed]",
      "text/plain": [
       "<matplotlib.figure.Figure at 0x7f991aecaf98>"
      ]
     },
     "metadata": {},
     "output_type": "display_data"
    }
   ],
   "source": [
    "total_or_not, name = combo[2]\n",
    "print(name)\n",
    "total_or_type = {'TOTAL': 'total', 'NO_TOTAL': 'type'}[total_or_not]\n",
    "plot_imp(imps[name], name, total_or_type, 10)"
   ]
  },
  {
   "cell_type": "code",
   "execution_count": null,
   "metadata": {
    "collapsed": true
   },
   "outputs": [],
   "source": []
  }
 ],
 "metadata": {
  "kernelspec": {
   "display_name": "Python [default]",
   "language": "python",
   "name": "python3"
  },
  "language_info": {
   "codemirror_mode": {
    "name": "ipython",
    "version": 3
   },
   "file_extension": ".py",
   "mimetype": "text/x-python",
   "name": "python",
   "nbconvert_exporter": "python",
   "pygments_lexer": "ipython3",
   "version": "3.6.2"
  }
 },
 "nbformat": 4,
 "nbformat_minor": 2
}
