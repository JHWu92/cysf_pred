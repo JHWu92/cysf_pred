{
 "cells": [
  {
   "cell_type": "code",
   "execution_count": 2,
   "metadata": {
    "collapsed": true
   },
   "outputs": [],
   "source": [
    "import pandas as pd\n",
    "import pickle\n",
    "ROAD_NET_FTR = ['seg_attr', 'net_SaN', 'net_SaE', 'bk_osm', 'bk_opendc', 'elevation']\n",
    "SEGMENT_FTR = ['poi', 'crash', '311', 'v0', 'crime', 'moving', 'parking']"
   ]
  },
  {
   "cell_type": "code",
   "execution_count": 6,
   "metadata": {
    "collapsed": true
   },
   "outputs": [],
   "source": [
    "def features(keep_categories, cols_dict):\n",
    "    keep_ftr = []\n",
    "    for ftr_type, ftr_cols in cols_dict.items():\n",
    "        if ftr_type in keep_categories:\n",
    "            keep_ftr += ftr_cols\n",
    "    return keep_ftr"
   ]
  },
  {
   "cell_type": "code",
   "execution_count": 46,
   "metadata": {
    "collapsed": true
   },
   "outputs": [],
   "source": [
    "\n",
    "cols_by_type=pickle.load(open('data/x_NO_TOTAL_~2014_cols_by_type.pkl' , 'rb'))\n",
    "x = pd.read_csv('data/x_NO_TOTAL_~2014.csv',index_col=0)\n",
    "x_neighbor = pd.read_csv('spatial-corr/x-neighbor-db-150-binary.csv', index_col=0).fillna(0)\n",
    "\n",
    "road_net = features(ROAD_NET_FTR, cols_by_type)\n",
    "social = features(SEGMENT_FTR, cols_by_type)\n",
    "\n",
    "road_net_neighbor = [c + '_neighbor' for c in road_net if c + '_neighbor' in x_neighbor.columns]\n",
    "social_neighbor = [c + '_neighbor' for c in social if c + '_neighbor' in x_neighbor.columns]"
   ]
  },
  {
   "cell_type": "code",
   "execution_count": 23,
   "metadata": {
    "scrolled": true
   },
   "outputs": [
    {
     "data": {
      "text/plain": [
       "(168, 63, 143, 61)"
      ]
     },
     "execution_count": 23,
     "metadata": {},
     "output_type": "execute_result"
    }
   ],
   "source": [
    "len(social), len(road_net), len(social_neighbor), len(road_net_neighbor)"
   ]
  },
  {
   "cell_type": "code",
   "execution_count": 60,
   "metadata": {},
   "outputs": [],
   "source": [
    "x_new_road = x[road_net].join(x_neighbor[road_net_neighbor])\n",
    "x_new_social = x[social].join(x_neighbor[social_neighbor])\n",
    "x_new_road_social = x[road_net+social].join(x_neighbor[road_net_neighbor+social_neighbor])"
   ]
  },
  {
   "cell_type": "code",
   "execution_count": 61,
   "metadata": {
    "collapsed": true
   },
   "outputs": [],
   "source": [
    "x_new_road.to_csv('data/x_RoadNet+Spatial.csv')\n",
    "x_new_social.to_csv('data/x_Segment_NO_TOTAL_~2014+Spatial.csv')\n",
    "x_new_road_social.to_csv('data/x_RoadNet+Segment_NO_TOTAL_~2014+Spatial.csv')"
   ]
  },
  {
   "cell_type": "code",
   "execution_count": 48,
   "metadata": {
    "collapsed": true
   },
   "outputs": [],
   "source": [
    "\n",
    "cols_by_type_total=pickle.load(open('data/x_TOTAL_~2014_cols_by_type.pkl' , 'rb'))\n",
    "x_total = pd.read_csv('data/x_TOTAL_~2014.csv',index_col=0)\n",
    "x_total_neighbor = pd.read_csv('spatial-corr/x_total-neighbor-db-150-binary.csv', index_col=0).fillna(0)\n",
    "\n",
    "road_net_total = features(ROAD_NET_FTR, cols_by_type_total)\n",
    "social_total = features(SEGMENT_FTR, cols_by_type_total)\n",
    "\n",
    "road_net_total_neighbor = [c + '_neighbor' for c in road_net_total if c + '_neighbor' in x_total_neighbor.columns]\n",
    "social_total_neighbor = [c + '_neighbor' for c in social_total if c + '_neighbor' in x_total_neighbor.columns]"
   ]
  },
  {
   "cell_type": "code",
   "execution_count": 65,
   "metadata": {
    "scrolled": true
   },
   "outputs": [
    {
     "data": {
      "text/plain": [
       "(8, 58, 8, 56)"
      ]
     },
     "execution_count": 65,
     "metadata": {},
     "output_type": "execute_result"
    }
   ],
   "source": [
    "len(social_total), len(road_net_total), len(social_total_neighbor), len(road_net_total_neighbor)"
   ]
  },
  {
   "cell_type": "code",
   "execution_count": 63,
   "metadata": {},
   "outputs": [],
   "source": [
    "x_new_social_total = x_total[social_total].join(x_total_neighbor[social_total_neighbor])\n",
    "x_new_road_social_total = x_total[road_net_total+social_total].join(x_total_neighbor[road_net_total_neighbor+social_total_neighbor])"
   ]
  },
  {
   "cell_type": "code",
   "execution_count": 64,
   "metadata": {
    "collapsed": true
   },
   "outputs": [],
   "source": [
    "x_new_social_total.to_csv('data/x_Segment_TOTAL_~2014+Spatial.csv')\n",
    "x_new_road_social_total.to_csv('data/x_RoadNet+Segment_TOTAL_~2014+Spatial.csv')"
   ]
  },
  {
   "cell_type": "code",
   "execution_count": 66,
   "metadata": {
    "collapsed": true
   },
   "outputs": [],
   "source": [
    "    Xs = {'RoadNet': pd.read_csv('data/x_RoadNet+Spatial.csv', index_col=0)}\n",
    "\n",
    "    for ftr_type in ['Segment', 'RoadNet+Segment']:\n",
    "        for total_or_not in ['NO_TOTAL', 'TOTAL']:\n",
    "            feature_combo_name = '%s_%s_%s+Spatial' % (ftr_type, total_or_not, '~2014')\n",
    "            Xs[feature_combo_name] = pd.read_csv('data/x_%s.csv' % feature_combo_name, index_col=0)\n"
   ]
  },
  {
   "cell_type": "code",
   "execution_count": 70,
   "metadata": {},
   "outputs": [
    {
     "data": {
      "text/plain": [
       "((13522, 124), (13522, 435), (13522, 130), (13522, 311), (13522, 16))"
      ]
     },
     "execution_count": 70,
     "metadata": {},
     "output_type": "execute_result"
    }
   ],
   "source": [
    "x_new_road.shape, x_new_road_social.shape, x_new_road_social_total.shape, x_new_social.shape, x_new_social_total.shape"
   ]
  },
  {
   "cell_type": "code",
   "execution_count": 67,
   "metadata": {},
   "outputs": [
    {
     "name": "stdout",
     "output_type": "stream",
     "text": [
      "(13522, 124)\n",
      "(13522, 311)\n",
      "(13522, 16)\n",
      "(13522, 435)\n",
      "(13522, 130)\n"
     ]
    }
   ],
   "source": [
    "for df in Xs.values():\n",
    "    print(df.shape)"
   ]
  }
 ],
 "metadata": {
  "kernelspec": {
   "display_name": "Python 3",
   "language": "python",
   "name": "python3"
  },
  "language_info": {
   "codemirror_mode": {
    "name": "ipython",
    "version": 3
   },
   "file_extension": ".py",
   "mimetype": "text/x-python",
   "name": "python",
   "nbconvert_exporter": "python",
   "pygments_lexer": "ipython3",
   "version": "3.6.1"
  }
 },
 "nbformat": 4,
 "nbformat_minor": 2
}
