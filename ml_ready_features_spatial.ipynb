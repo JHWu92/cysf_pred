{
 "cells": [
  {
   "cell_type": "code",
   "execution_count": 1,
   "metadata": {
    "collapsed": true
   },
   "outputs": [],
   "source": [
    "import pandas as pd\n",
    "import pickle\n",
    "ROAD_NET_FTR = ['seg_attr', 'net_SaN', 'net_SaE', 'bk_osm', 'bk_opendc', 'elevation']\n",
    "SEGMENT_FTR = ['poi', 'crash', '311', 'v0', 'crime', 'moving', 'parking']"
   ]
  },
  {
   "cell_type": "code",
   "execution_count": 2,
   "metadata": {
    "collapsed": true
   },
   "outputs": [],
   "source": [
    "def features(keep_categories, cols_dict):\n",
    "    keep_ftr = []\n",
    "    for ftr_type, ftr_cols in cols_dict.items():\n",
    "        if ftr_type in keep_categories:\n",
    "            keep_ftr += ftr_cols\n",
    "    return keep_ftr"
   ]
  },
  {
   "cell_type": "markdown",
   "metadata": {},
   "source": [
    "# per type"
   ]
  },
  {
   "cell_type": "code",
   "execution_count": 3,
   "metadata": {},
   "outputs": [
    {
     "data": {
      "text/plain": [
       "(168, 63)"
      ]
     },
     "execution_count": 3,
     "metadata": {},
     "output_type": "execute_result"
    }
   ],
   "source": [
    "\n",
    "cols_by_type=pickle.load(open('data/x_NO_TOTAL_~2014_cols_by_type.pkl' , 'rb'))\n",
    "x = pd.read_csv('data/x_NO_TOTAL_~2014.csv',index_col=0)\n",
    "\n",
    "road_net = features(ROAD_NET_FTR, cols_by_type)\n",
    "social = features(SEGMENT_FTR, cols_by_type)\n",
    "len(social), len(road_net)"
   ]
  },
  {
   "cell_type": "code",
   "execution_count": 15,
   "metadata": {},
   "outputs": [
    {
     "name": "stdout",
     "output_type": "stream",
     "text": [
      "0 143 61\n",
      "0.1 118 58\n",
      "0.3 49 20\n",
      "0.5 17 12\n",
      "0.7 11 3\n",
      "0.8 6 1\n"
     ]
    }
   ],
   "source": [
    "def get_by_type():\n",
    "    for i in [0, 0.1, 0.3, 0.5, 0.7, 0.8]:\n",
    "        i_tail = '' if i==0 else '-i-%0.1f' % i\n",
    "\n",
    "        x_neighbor = pd.read_csv('spatial-corr/x-neighbor-db-150-binary%s.csv' % i_tail, index_col=0).fillna(0)\n",
    "\n",
    "\n",
    "        road_net_neighbor = [c + '_neighbor' for c in road_net if c + '_neighbor' in x_neighbor.columns]\n",
    "        social_neighbor = [c + '_neighbor' for c in social if c + '_neighbor' in x_neighbor.columns]\n",
    "\n",
    "        print(i, len(social_neighbor), len(road_net_neighbor))\n",
    "\n",
    "        x_new_road = x[road_net].join(x_neighbor[road_net_neighbor])\n",
    "        x_new_social = x[social].join(x_neighbor[social_neighbor])\n",
    "        x_new_road_social = x[road_net+social].join(x_neighbor[road_net_neighbor+social_neighbor])\n",
    "\n",
    "    #     x_new_road.to_csv('data/x_RoadNet+Spatial%s.csv' % i_tail)\n",
    "    #     x_new_social.to_csv('data/x_Segment_NO_TOTAL_~2014+Spatial%s.csv' % i_tail)\n",
    "    #     x_new_road_social.to_csv('data/x_RoadNet+Segment_NO_TOTAL_~2014+Spatial%s.csv' % i_tail)\n",
    "\n",
    "# wrap namespace in function \n",
    "    \n",
    "get_by_type()"
   ]
  },
  {
   "cell_type": "code",
   "execution_count": 4,
   "metadata": {
    "collapsed": true
   },
   "outputs": [],
   "source": [
    "i_tail=''\n",
    "x_neighbor = pd.read_csv('spatial-corr/x-neighbor-db-150-binary%s.csv' % i_tail, index_col=0).fillna(0)\n",
    "\n",
    "road_net_neighbor = [c + '_neighbor' for c in road_net if c + '_neighbor' in x_neighbor.columns]\n",
    "social_neighbor = [c + '_neighbor' for c in social if c + '_neighbor' in x_neighbor.columns]\n",
    "\n",
    "x_neighbor[road_net_neighbor].to_csv('data/x_RoadNet+Spatial-Only%s.csv' % i_tail)\n",
    "x_neighbor[social_neighbor].to_csv('data/x_Segment_NO_TOTAL_~2014+Spatial-Only%s.csv' % i_tail)\n",
    "x_neighbor[road_net_neighbor+social_neighbor].to_csv('data/x_RoadNet+Segment_NO_TOTAL_~2014+Spatial-Only%s.csv' % i_tail)"
   ]
  },
  {
   "cell_type": "markdown",
   "metadata": {},
   "source": [
    "# total"
   ]
  },
  {
   "cell_type": "code",
   "execution_count": 5,
   "metadata": {},
   "outputs": [
    {
     "data": {
      "text/plain": [
       "(8, 58)"
      ]
     },
     "execution_count": 5,
     "metadata": {},
     "output_type": "execute_result"
    }
   ],
   "source": [
    "\n",
    "cols_by_type_total=pickle.load(open('data/x_TOTAL_~2014_cols_by_type.pkl' , 'rb'))\n",
    "x_total = pd.read_csv('data/x_TOTAL_~2014.csv',index_col=0)\n",
    "\n",
    "road_net_total = features(ROAD_NET_FTR, cols_by_type_total)\n",
    "social_total = features(SEGMENT_FTR, cols_by_type_total)\n",
    "len(social_total), len(road_net_total), "
   ]
  },
  {
   "cell_type": "code",
   "execution_count": 14,
   "metadata": {},
   "outputs": [
    {
     "name": "stdout",
     "output_type": "stream",
     "text": [
      "0 8 56\n",
      "0.1 7 53\n",
      "0.3 7 20\n",
      "0.5 4 12\n",
      "0.7 2 3\n",
      "0.8 1 1\n"
     ]
    }
   ],
   "source": [
    "   \n",
    "for i in [0, 0.1, 0.3, 0.5, 0.7, 0.8]:\n",
    "    i_tail = '' if i==0 else '-i-%0.1f' % i\n",
    "\n",
    "    x_total_neighbor = pd.read_csv('spatial-corr/x_total-neighbor-db-150-binary%s.csv' % i_tail, index_col=0).fillna(0)\n",
    "\n",
    "    road_net_total_neighbor = [c + '_neighbor' for c in road_net_total if c + '_neighbor' in x_total_neighbor.columns]\n",
    "    social_total_neighbor = [c + '_neighbor' for c in social_total if c + '_neighbor' in x_total_neighbor.columns]\n",
    "\n",
    "    print(i, len(social_total_neighbor), len(road_net_total_neighbor))\n",
    "    \n",
    "    x_new_social_total = x_total[social_total].join(x_total_neighbor[social_total_neighbor])\n",
    "    x_new_road_social_total = x_total[road_net_total+social_total].join(x_total_neighbor[road_net_total_neighbor+social_total_neighbor])\n",
    "\n",
    "#     x_new_social_total.to_csv('data/x_Segment_TOTAL_~2014+Spatial%s.csv' % i_tail)\n",
    "#     x_new_road_social_total.to_csv('data/x_RoadNet+Segment_TOTAL_~2014+Spatial%s.csv' % i_tail)\n",
    "\n"
   ]
  },
  {
   "cell_type": "code",
   "execution_count": 8,
   "metadata": {
    "collapsed": true
   },
   "outputs": [],
   "source": [
    "i_tail=''\n",
    "x_total_neighbor = pd.read_csv('spatial-corr/x_total-neighbor-db-150-binary%s.csv' % i_tail, index_col=0).fillna(0)\n",
    "\n",
    "i_tail='-Only'\n",
    "\n",
    "road_net_total_neighbor = [c + '_neighbor' for c in road_net_total if c + '_neighbor' in x_total_neighbor.columns]\n",
    "social_total_neighbor = [c + '_neighbor' for c in social_total if c + '_neighbor' in x_total_neighbor.columns]\n",
    "\n",
    "x_total_neighbor[social_total_neighbor].to_csv('data/x_Segment_TOTAL_~2014+Spatial%s.csv' % i_tail)\n",
    "x_total_neighbor[road_net_total_neighbor+social_total_neighbor].to_csv('data/x_RoadNet+Segment_TOTAL_~2014+Spatial%s.csv' % i_tail)\n"
   ]
  },
  {
   "cell_type": "code",
   "execution_count": null,
   "metadata": {
    "collapsed": true
   },
   "outputs": [],
   "source": []
  },
  {
   "cell_type": "code",
   "execution_count": null,
   "metadata": {
    "collapsed": true
   },
   "outputs": [],
   "source": []
  },
  {
   "cell_type": "code",
   "execution_count": null,
   "metadata": {
    "collapsed": true
   },
   "outputs": [],
   "source": []
  },
  {
   "cell_type": "code",
   "execution_count": null,
   "metadata": {
    "collapsed": true
   },
   "outputs": [],
   "source": []
  },
  {
   "cell_type": "code",
   "execution_count": 12,
   "metadata": {
    "collapsed": true
   },
   "outputs": [],
   "source": [
    "i_tail='-i-0.1'\n",
    "Xs = {'RoadNet': pd.read_csv('data/x_RoadNet+Spatial%s.csv' % i_tail, index_col=0)}\n",
    "\n",
    "for ftr_type in ['Segment', 'RoadNet+Segment']:\n",
    "    for total_or_not in ['NO_TOTAL', 'TOTAL']:\n",
    "        feature_combo_name = '%s_%s_%s+Spatial%s' % (ftr_type, total_or_not, '~2014', i_tail)\n",
    "        Xs[feature_combo_name] = pd.read_csv('data/x_%s.csv' % feature_combo_name, index_col=0)\n"
   ]
  },
  {
   "cell_type": "code",
   "execution_count": 10,
   "metadata": {},
   "outputs": [
    {
     "ename": "NameError",
     "evalue": "name 'x_new_road' is not defined",
     "output_type": "error",
     "traceback": [
      "\u001b[1;31m---------------------------------------------------------------------------\u001b[0m",
      "\u001b[1;31mNameError\u001b[0m                                 Traceback (most recent call last)",
      "\u001b[1;32m<ipython-input-10-2f6971d0b6d9>\u001b[0m in \u001b[0;36m<module>\u001b[1;34m()\u001b[0m\n\u001b[1;32m----> 1\u001b[1;33m \u001b[0mx_new_road\u001b[0m\u001b[1;33m.\u001b[0m\u001b[0mshape\u001b[0m\u001b[1;33m,\u001b[0m \u001b[0mx_new_road_social\u001b[0m\u001b[1;33m.\u001b[0m\u001b[0mshape\u001b[0m\u001b[1;33m,\u001b[0m \u001b[0mx_new_road_social_total\u001b[0m\u001b[1;33m.\u001b[0m\u001b[0mshape\u001b[0m\u001b[1;33m,\u001b[0m \u001b[0mx_new_social\u001b[0m\u001b[1;33m.\u001b[0m\u001b[0mshape\u001b[0m\u001b[1;33m,\u001b[0m \u001b[0mx_new_social_total\u001b[0m\u001b[1;33m.\u001b[0m\u001b[0mshape\u001b[0m\u001b[1;33m\u001b[0m\u001b[0m\n\u001b[0m",
      "\u001b[1;31mNameError\u001b[0m: name 'x_new_road' is not defined"
     ]
    }
   ],
   "source": [
    "x_new_road.shape, x_new_road_social.shape, x_new_road_social_total.shape, x_new_social.shape, x_new_social_total.shape"
   ]
  },
  {
   "cell_type": "code",
   "execution_count": 13,
   "metadata": {},
   "outputs": [
    {
     "name": "stdout",
     "output_type": "stream",
     "text": [
      "RoadNet (13522, 121)\n",
      "Segment_NO_TOTAL_~2014+Spatial-i-0.1 (13522, 286)\n",
      "Segment_TOTAL_~2014+Spatial-i-0.1 (13522, 15)\n",
      "RoadNet+Segment_NO_TOTAL_~2014+Spatial-i-0.1 (13522, 407)\n",
      "RoadNet+Segment_TOTAL_~2014+Spatial-i-0.1 (13522, 126)\n"
     ]
    }
   ],
   "source": [
    "for k, df in Xs.items():\n",
    "    print(k, df.shape)"
   ]
  }
 ],
 "metadata": {
  "kernelspec": {
   "display_name": "Python 3",
   "language": "python",
   "name": "python3"
  },
  "language_info": {
   "codemirror_mode": {
    "name": "ipython",
    "version": 3
   },
   "file_extension": ".py",
   "mimetype": "text/x-python",
   "name": "python",
   "nbconvert_exporter": "python",
   "pygments_lexer": "ipython3",
   "version": "3.6.1"
  }
 },
 "nbformat": 4,
 "nbformat_minor": 2
}
