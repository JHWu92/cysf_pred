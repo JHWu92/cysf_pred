{
 "cells": [
  {
   "cell_type": "code",
   "execution_count": 1,
   "metadata": {
    "collapsed": true
   },
   "outputs": [],
   "source": [
    "import glob\n",
    "import pandas as pd\n",
    "import os\n",
    "\n",
    "%matplotlib inline"
   ]
  },
  {
   "cell_type": "code",
   "execution_count": 2,
   "metadata": {
    "collapsed": true
   },
   "outputs": [],
   "source": [
    "def feature_counts(directory):\n",
    "    fn = directory+ '/feature_names.txt'\n",
    "    with open(fn) as f:\n",
    "        lines = f.readlines()\n",
    "        keep = int(lines[1].split('\\t')[1])\n",
    "        remove = int(lines[2].split('\\t')[1])\n",
    "    return keep, remove"
   ]
  },
  {
   "cell_type": "code",
   "execution_count": 3,
   "metadata": {
    "collapsed": true
   },
   "outputs": [],
   "source": [
    "def load_majority_vote(exp_path):\n",
    "    fn = exp_path+'/majority_vote.csv'\n",
    "    res = pd.read_csv(fn)\n",
    "    return res\n",
    "\n",
    "def load_roadnet(exp_path):\n",
    "    fselects = ['None']\n",
    "    res = []\n",
    "    for selection_type in fselects:\n",
    "        exp_param_path = '%s/%s#%s' %(exp_path, 'RoadNet', selection_type)\n",
    "        fn = '%s/cv_5_best_models_evaluation.csv' %(exp_param_path)\n",
    "        cv_res = pd.read_csv(fn)\n",
    "        cv_res.columns = ['kind', 'model'] + cv_res.columns[2:].tolist()\n",
    "        cv_res['feature_select'] = selection_type\n",
    "        cv_res['scale'] = 'min-max'\n",
    "        cv_res['feature'] = 'RoadNet'\n",
    "        keep, remove = feature_counts(exp_param_path)\n",
    "        cv_res['# ftr keep'] = keep\n",
    "        cv_res['# ftr remove'] = remove\n",
    "        res.append(cv_res)\n",
    "    res = pd.concat(res)\n",
    "    return res \n",
    "\n",
    "def load_else(exp_path):\n",
    "    \n",
    "    totals = ['NO_TOTAL', 'TOTAL']\n",
    "    years_choices = ['~2014']\n",
    "    feature_types = ['Segment', 'RoadNet+Segment']\n",
    "    res = []\n",
    "    for total_or_not in totals:\n",
    "        for year in years_choices:\n",
    "            for ftr_type in feature_types:\n",
    "                for max_cut in ( False,):\n",
    "                    for selection_type in ['None']:\n",
    "                        scale_type = 'max-cutoff' if max_cut else 'min-max'\n",
    "                        exp_param = '#'.join([ftr_type, total_or_not, year, scale_type, selection_type])\n",
    "                        fn = '%s/%s/cv_5_best_models_evaluation.csv' % (exp_path, exp_param)\n",
    "                        cv_res = pd.read_csv(fn)\n",
    "                        cv_res.columns = ['kind', 'model'] + cv_res.columns[2:].tolist()\n",
    "                        cv_res['feature_select'] = selection_type\n",
    "                        cv_res['scale'] = scale_type\n",
    "                        cv_res['feature'] = ftr_type\n",
    "                        cv_res['time period'] = year\n",
    "                        cv_res['total or by type'] = total_or_not\n",
    "                        keep, remove = feature_counts('%s/%s' % (exp_path, exp_param))\n",
    "                        cv_res['# ftr keep'] = keep\n",
    "                        cv_res['# ftr remove'] = remove\n",
    "                        res.append(cv_res)\n",
    "    res = pd.concat(res)\n",
    "\n",
    "    return res \n",
    "\n",
    "def load_one_run(seed):\n",
    "    exp_path = 'experiment_1001/exp1/seed_%d' % seed\n",
    "    major = load_majority_vote(exp_path)\n",
    "    roadnet = load_roadnet(exp_path)\n",
    "    res_else = load_else(exp_path)\n",
    "    res = pd.concat([major, roadnet, res_else], ignore_index=True)\n",
    "    res['seed'] = seed\n",
    "    return res"
   ]
  },
  {
   "cell_type": "code",
   "execution_count": 4,
   "metadata": {
    "collapsed": true
   },
   "outputs": [],
   "source": [
    "def load_all_run():\n",
    "    all_run = []\n",
    "    for seed in [0, 100, 972, 5258, 7821, 40918, 57852, 168352, 291592, 789729423]:\n",
    "        one_run_res = load_one_run(seed)\n",
    "        all_run.append(one_run_res)\n",
    "    all_run_res = pd.concat(all_run, ignore_index=True)\n",
    "    all_run_res.fillna('', inplace=True)\n",
    "    all_run_res['key'] = all_run_res.apply(lambda x: '%s %s %s %s %s %s'.strip() % (x['feature'], x['total or by type'], x['time period'], x['model'], x['scale'], x['feature_select']), axis=1)        \n",
    "#     all_run_res['key'] = all_run_res.apply(lambda x: '%s %s %s %s'.strip() % (x['feature'], x['total or by type'], x['model'], x['scale']), axis=1)        \n",
    "    return all_run_res"
   ]
  },
  {
   "cell_type": "code",
   "execution_count": 5,
   "metadata": {
    "collapsed": true
   },
   "outputs": [],
   "source": [
    "all_run_res = load_all_run()"
   ]
  },
  {
   "cell_type": "code",
   "execution_count": 6,
   "metadata": {
    "collapsed": true
   },
   "outputs": [],
   "source": [
    "all_run_res['col_name'] = all_run_res.apply(lambda x: x['feature']+' '+x['total or by type'],axis=1)"
   ]
  },
  {
   "cell_type": "markdown",
   "metadata": {},
   "source": [
    "# slice res by feature selection, time period and scale method"
   ]
  },
  {
   "cell_type": "code",
   "execution_count": 7,
   "metadata": {
    "collapsed": true
   },
   "outputs": [],
   "source": [
    "cond1 = (all_run_res['feature_select'] == 'None') | (all_run_res['feature_select'] == '')\n",
    "cond2 = (all_run_res['time period']=='~2014') | (all_run_res['time period'] == '')\n",
    "cond3 = (all_run_res['scale']=='min-max')  | (all_run_res['scale'] == '')\n",
    "slice_res = all_run_res[(cond1) & (cond2) & (cond3) ]"
   ]
  },
  {
   "cell_type": "code",
   "execution_count": 8,
   "metadata": {},
   "outputs": [
    {
     "data": {
      "text/plain": [
       "(1110, 22)"
      ]
     },
     "execution_count": 8,
     "metadata": {},
     "output_type": "execute_result"
    }
   ],
   "source": [
    "slice_res.shape"
   ]
  },
  {
   "cell_type": "markdown",
   "metadata": {},
   "source": [
    "Drop useless columns"
   ]
  },
  {
   "cell_type": "code",
   "execution_count": 35,
   "metadata": {
    "collapsed": true
   },
   "outputs": [],
   "source": [
    "col_mapping = {' ': ' ',\n",
    " 'RoadNet ': 'RoadNet',\n",
    " 'Segment NO_TOTAL': 'Social type', \n",
    " 'RoadNet+Segment NO_TOTAL': 'RoadNet+Social type',\n",
    " 'Segment TOTAL': 'Social total', \n",
    " 'RoadNet+Segment TOTAL': 'RoadNet+Social total'}\n"
   ]
  },
  {
   "cell_type": "code",
   "execution_count": 36,
   "metadata": {
    "collapsed": true
   },
   "outputs": [],
   "source": [
    "clean_res = slice_res.drop(['feature', 'total or by type', 'time period', 'scale', 'feature_select',\n",
    "                  'kind', '# ftr remove', '# ftr keep', \n",
    "                  'train_acc', 'train_f1_macro', 'train_f1_micro', 'train_f1_weighted', 'train_mse',\n",
    "                  'test_acc', 'test_mse',\n",
    "                  'seed',\n",
    "                  'key',\n",
    "                 ], axis=1)\n",
    "clean_res.col_name = clean_res.col_name.apply(lambda x: col_mapping[x])"
   ]
  },
  {
   "cell_type": "code",
   "execution_count": 37,
   "metadata": {
    "collapsed": true
   },
   "outputs": [],
   "source": [
    "means = clean_res.groupby(['col_name', 'model']).mean()\n",
    "stds = clean_res.groupby(['col_name', 'model']).std()"
   ]
  },
  {
   "cell_type": "markdown",
   "metadata": {},
   "source": [
    "## produce dtb(deliverable table) for paper"
   ]
  },
  {
   "cell_type": "code",
   "execution_count": 38,
   "metadata": {
    "collapsed": true
   },
   "outputs": [],
   "source": [
    "def deliverable_table(table):\n",
    "    table.loc['majority_vote'] = table.loc['majority_vote', ' ']\n",
    "    table.drop(' ', axis=1, inplace=True)\n",
    "#     table.columns = ['RoadNet', 'RoadNet+Social type', 'RoadNet+Social total', 'Social type', 'Social total']\n",
    "    table = table[['RoadNet', 'Social total', 'Social type', 'RoadNet+Social total', 'RoadNet+Social type']]\n",
    "    table = table.loc[['majority_vote', 'ols', 'lasso', 'ridge', 'logistics', 'linearSVM', 'linearSVR',\n",
    "               'SVM', 'SVR', 'MLPcls', 'MLPreg', 'DTcls', 'DTreg', 'RFcls', 'RFreg',\n",
    "               'ADAcls', 'ADAreg', 'BAGcls', 'BAGreg', 'GDBcls', 'GDBreg', 'XGBcls', 'XGBreg',\n",
    "          ]]\n",
    "    return table"
   ]
  },
  {
   "cell_type": "code",
   "execution_count": 39,
   "metadata": {
    "scrolled": true
   },
   "outputs": [
    {
     "data": {
      "text/html": [
       "<div>\n",
       "<style>\n",
       "    .dataframe thead tr:only-child th {\n",
       "        text-align: right;\n",
       "    }\n",
       "\n",
       "    .dataframe thead th {\n",
       "        text-align: left;\n",
       "    }\n",
       "\n",
       "    .dataframe tbody tr th {\n",
       "        vertical-align: top;\n",
       "    }\n",
       "</style>\n",
       "<table border=\"1\" class=\"dataframe\">\n",
       "  <thead>\n",
       "    <tr style=\"text-align: right;\">\n",
       "      <th>col_name</th>\n",
       "      <th>RoadNet</th>\n",
       "      <th>Social total</th>\n",
       "      <th>Social type</th>\n",
       "      <th>RoadNet+Social total</th>\n",
       "      <th>RoadNet+Social type</th>\n",
       "    </tr>\n",
       "    <tr>\n",
       "      <th>model</th>\n",
       "      <th></th>\n",
       "      <th></th>\n",
       "      <th></th>\n",
       "      <th></th>\n",
       "      <th></th>\n",
       "    </tr>\n",
       "  </thead>\n",
       "  <tbody>\n",
       "    <tr>\n",
       "      <th>majority_vote</th>\n",
       "      <td>0.286859</td>\n",
       "      <td>0.286859</td>\n",
       "      <td>0.286859</td>\n",
       "      <td>0.286859</td>\n",
       "      <td>0.286859</td>\n",
       "    </tr>\n",
       "    <tr>\n",
       "      <th>ols</th>\n",
       "      <td>0.537224</td>\n",
       "      <td>0.401091</td>\n",
       "      <td>0.449637</td>\n",
       "      <td>0.593512</td>\n",
       "      <td>0.420300</td>\n",
       "    </tr>\n",
       "    <tr>\n",
       "      <th>lasso</th>\n",
       "      <td>0.286859</td>\n",
       "      <td>0.286859</td>\n",
       "      <td>0.286859</td>\n",
       "      <td>0.286859</td>\n",
       "      <td>0.286859</td>\n",
       "    </tr>\n",
       "    <tr>\n",
       "      <th>ridge</th>\n",
       "      <td>0.524819</td>\n",
       "      <td>0.316935</td>\n",
       "      <td>0.464028</td>\n",
       "      <td>0.551342</td>\n",
       "      <td>0.565960</td>\n",
       "    </tr>\n",
       "    <tr>\n",
       "      <th>logistics</th>\n",
       "      <td>0.558133</td>\n",
       "      <td>0.488198</td>\n",
       "      <td>0.499182</td>\n",
       "      <td>0.580082</td>\n",
       "      <td>0.564957</td>\n",
       "    </tr>\n",
       "    <tr>\n",
       "      <th>linearSVM</th>\n",
       "      <td>0.550980</td>\n",
       "      <td>0.482630</td>\n",
       "      <td>0.521679</td>\n",
       "      <td>0.556236</td>\n",
       "      <td>0.565323</td>\n",
       "    </tr>\n",
       "    <tr>\n",
       "      <th>linearSVR</th>\n",
       "      <td>0.518166</td>\n",
       "      <td>0.364968</td>\n",
       "      <td>0.435283</td>\n",
       "      <td>0.524820</td>\n",
       "      <td>0.546088</td>\n",
       "    </tr>\n",
       "    <tr>\n",
       "      <th>SVM</th>\n",
       "      <td>0.619953</td>\n",
       "      <td>0.462727</td>\n",
       "      <td>0.476988</td>\n",
       "      <td>0.604980</td>\n",
       "      <td>0.557175</td>\n",
       "    </tr>\n",
       "    <tr>\n",
       "      <th>SVR</th>\n",
       "      <td>0.541658</td>\n",
       "      <td>0.352713</td>\n",
       "      <td>0.466910</td>\n",
       "      <td>0.569741</td>\n",
       "      <td>0.534237</td>\n",
       "    </tr>\n",
       "    <tr>\n",
       "      <th>MLPcls</th>\n",
       "      <td>0.592871</td>\n",
       "      <td>0.515235</td>\n",
       "      <td>0.490272</td>\n",
       "      <td>0.602097</td>\n",
       "      <td>0.533001</td>\n",
       "    </tr>\n",
       "    <tr>\n",
       "      <th>MLPreg</th>\n",
       "      <td>0.424291</td>\n",
       "      <td>0.418536</td>\n",
       "      <td>0.450103</td>\n",
       "      <td>0.550470</td>\n",
       "      <td>0.529524</td>\n",
       "    </tr>\n",
       "    <tr>\n",
       "      <th>DTcls</th>\n",
       "      <td>0.472508</td>\n",
       "      <td>0.453566</td>\n",
       "      <td>0.485906</td>\n",
       "      <td>0.540482</td>\n",
       "      <td>0.516480</td>\n",
       "    </tr>\n",
       "    <tr>\n",
       "      <th>DTreg</th>\n",
       "      <td>0.510227</td>\n",
       "      <td>0.341943</td>\n",
       "      <td>0.384575</td>\n",
       "      <td>0.503287</td>\n",
       "      <td>0.457762</td>\n",
       "    </tr>\n",
       "    <tr>\n",
       "      <th>RFcls</th>\n",
       "      <td>0.600044</td>\n",
       "      <td>0.524096</td>\n",
       "      <td>0.588468</td>\n",
       "      <td>0.605357</td>\n",
       "      <td>0.606223</td>\n",
       "    </tr>\n",
       "    <tr>\n",
       "      <th>RFreg</th>\n",
       "      <td>0.602142</td>\n",
       "      <td>0.468804</td>\n",
       "      <td>0.509212</td>\n",
       "      <td>0.611624</td>\n",
       "      <td>0.566963</td>\n",
       "    </tr>\n",
       "    <tr>\n",
       "      <th>ADAcls</th>\n",
       "      <td>0.432882</td>\n",
       "      <td>0.407162</td>\n",
       "      <td>0.411536</td>\n",
       "      <td>0.450883</td>\n",
       "      <td>0.464340</td>\n",
       "    </tr>\n",
       "    <tr>\n",
       "      <th>ADAreg</th>\n",
       "      <td>0.391491</td>\n",
       "      <td>0.370092</td>\n",
       "      <td>0.388365</td>\n",
       "      <td>0.455967</td>\n",
       "      <td>0.456354</td>\n",
       "    </tr>\n",
       "    <tr>\n",
       "      <th>BAGcls</th>\n",
       "      <td>0.587751</td>\n",
       "      <td>0.496594</td>\n",
       "      <td>0.592541</td>\n",
       "      <td>0.598177</td>\n",
       "      <td>0.627140</td>\n",
       "    </tr>\n",
       "    <tr>\n",
       "      <th>BAGreg</th>\n",
       "      <td>0.591215</td>\n",
       "      <td>0.493477</td>\n",
       "      <td>0.517351</td>\n",
       "      <td>0.604438</td>\n",
       "      <td>0.567617</td>\n",
       "    </tr>\n",
       "    <tr>\n",
       "      <th>GDBcls</th>\n",
       "      <td>0.584116</td>\n",
       "      <td>0.532705</td>\n",
       "      <td>0.600128</td>\n",
       "      <td>0.597920</td>\n",
       "      <td>0.624862</td>\n",
       "    </tr>\n",
       "    <tr>\n",
       "      <th>GDBreg</th>\n",
       "      <td>0.587489</td>\n",
       "      <td>0.465571</td>\n",
       "      <td>0.513226</td>\n",
       "      <td>0.604857</td>\n",
       "      <td>0.555312</td>\n",
       "    </tr>\n",
       "    <tr>\n",
       "      <th>XGBcls</th>\n",
       "      <td>0.550180</td>\n",
       "      <td>0.532600</td>\n",
       "      <td>0.577029</td>\n",
       "      <td>0.597400</td>\n",
       "      <td>0.633558</td>\n",
       "    </tr>\n",
       "    <tr>\n",
       "      <th>XGBreg</th>\n",
       "      <td>0.559081</td>\n",
       "      <td>0.462333</td>\n",
       "      <td>0.546780</td>\n",
       "      <td>0.581895</td>\n",
       "      <td>0.565515</td>\n",
       "    </tr>\n",
       "  </tbody>\n",
       "</table>\n",
       "</div>"
      ],
      "text/plain": [
       "col_name        RoadNet  Social total  Social type  RoadNet+Social total  \\\n",
       "model                                                                      \n",
       "majority_vote  0.286859      0.286859     0.286859              0.286859   \n",
       "ols            0.537224      0.401091     0.449637              0.593512   \n",
       "lasso          0.286859      0.286859     0.286859              0.286859   \n",
       "ridge          0.524819      0.316935     0.464028              0.551342   \n",
       "logistics      0.558133      0.488198     0.499182              0.580082   \n",
       "linearSVM      0.550980      0.482630     0.521679              0.556236   \n",
       "linearSVR      0.518166      0.364968     0.435283              0.524820   \n",
       "SVM            0.619953      0.462727     0.476988              0.604980   \n",
       "SVR            0.541658      0.352713     0.466910              0.569741   \n",
       "MLPcls         0.592871      0.515235     0.490272              0.602097   \n",
       "MLPreg         0.424291      0.418536     0.450103              0.550470   \n",
       "DTcls          0.472508      0.453566     0.485906              0.540482   \n",
       "DTreg          0.510227      0.341943     0.384575              0.503287   \n",
       "RFcls          0.600044      0.524096     0.588468              0.605357   \n",
       "RFreg          0.602142      0.468804     0.509212              0.611624   \n",
       "ADAcls         0.432882      0.407162     0.411536              0.450883   \n",
       "ADAreg         0.391491      0.370092     0.388365              0.455967   \n",
       "BAGcls         0.587751      0.496594     0.592541              0.598177   \n",
       "BAGreg         0.591215      0.493477     0.517351              0.604438   \n",
       "GDBcls         0.584116      0.532705     0.600128              0.597920   \n",
       "GDBreg         0.587489      0.465571     0.513226              0.604857   \n",
       "XGBcls         0.550180      0.532600     0.577029              0.597400   \n",
       "XGBreg         0.559081      0.462333     0.546780              0.581895   \n",
       "\n",
       "col_name       RoadNet+Social type  \n",
       "model                               \n",
       "majority_vote             0.286859  \n",
       "ols                       0.420300  \n",
       "lasso                     0.286859  \n",
       "ridge                     0.565960  \n",
       "logistics                 0.564957  \n",
       "linearSVM                 0.565323  \n",
       "linearSVR                 0.546088  \n",
       "SVM                       0.557175  \n",
       "SVR                       0.534237  \n",
       "MLPcls                    0.533001  \n",
       "MLPreg                    0.529524  \n",
       "DTcls                     0.516480  \n",
       "DTreg                     0.457762  \n",
       "RFcls                     0.606223  \n",
       "RFreg                     0.566963  \n",
       "ADAcls                    0.464340  \n",
       "ADAreg                    0.456354  \n",
       "BAGcls                    0.627140  \n",
       "BAGreg                    0.567617  \n",
       "GDBcls                    0.624862  \n",
       "GDBreg                    0.555312  \n",
       "XGBcls                    0.633558  \n",
       "XGBreg                    0.565515  "
      ]
     },
     "execution_count": 39,
     "metadata": {},
     "output_type": "execute_result"
    }
   ],
   "source": [
    "f1_choices = ['test_f1_weighted', 'test_f1_macro', 'test_f1_micro']\n",
    "f1_type = f1_choices[0]\n",
    "table = means.reset_index().pivot(index='model', columns='col_name', values=f1_type)\n",
    "\n",
    "dtb = deliverable_table(table)\n",
    "dtb.to_csv('deliverables/experiment_1001/EXP1 %s.csv' % f1_type)\n",
    "dtb\n"
   ]
  },
  {
   "cell_type": "code",
   "execution_count": 17,
   "metadata": {},
   "outputs": [
    {
     "data": {
      "text/html": [
       "<script>requirejs.config({paths: { 'plotly': ['https://cdn.plot.ly/plotly-latest.min']},});if(!window.Plotly) {{require(['plotly'],function(plotly) {window.Plotly=plotly;});}}</script>"
      ],
      "text/vnd.plotly.v1+html": [
       "<script>requirejs.config({paths: { 'plotly': ['https://cdn.plot.ly/plotly-latest.min']},});if(!window.Plotly) {{require(['plotly'],function(plotly) {window.Plotly=plotly;});}}</script>"
      ]
     },
     "metadata": {},
     "output_type": "display_data"
    }
   ],
   "source": [
    "from plotly.offline import init_notebook_mode, iplot\n",
    "import plotly.graph_objs as go\n",
    "init_notebook_mode(True)\n",
    "import plotly.figure_factory as ff"
   ]
  },
  {
   "cell_type": "code",
   "execution_count": 18,
   "metadata": {
    "collapsed": true
   },
   "outputs": [
    {
     "data": {
      "application/vnd.plotly.v1+json": {
       "data": [
        {
         "colorscale": "magma",
         "showscale": false,
         "type": "heatmap",
         "x": [
          "RoadNet",
          "Social total",
          "Social type",
          "RoadNet+Social total",
          "RoadNet+Social type"
         ],
         "y": [
          "majority_vote",
          "ols",
          "lasso",
          "ridge",
          "logistics",
          "linearSVM",
          "linearSVR",
          "SVM",
          "SVR",
          "MLPcls",
          "MLPreg",
          "DTcls",
          "DTreg",
          "RFcls",
          "RFreg",
          "ADAcls",
          "ADAreg",
          "BAGcls",
          "BAGreg",
          "GDBcls",
          "GDBreg",
          "XGBcls",
          "XGBreg"
         ],
         "z": [
          [
           0.2868586012276497,
           0.2868586012276497,
           0.2868586012276497,
           0.2868586012276497,
           0.2868586012276497
          ],
          [
           0.5372237214226729,
           0.4010912929673949,
           0.4496372235087079,
           0.5935122301498978,
           0.42029958826651326
          ],
          [
           0.2868586012276497,
           0.2868586012276497,
           0.2868586012276497,
           0.2868586012276497,
           0.2868586012276497
          ],
          [
           0.5248187850908512,
           0.3169348481959396,
           0.4640282555996498,
           0.5513424740930573,
           0.5659600828580339
          ],
          [
           0.5581329846183163,
           0.4881978781480944,
           0.4991819002477076,
           0.5800815628415998,
           0.5649566303922955
          ],
          [
           0.5509795377008321,
           0.4826299300515872,
           0.5216791995208357,
           0.5562358698133452,
           0.5653231534878307
          ],
          [
           0.5181664611217399,
           0.3649682076052843,
           0.435282801498807,
           0.524820293547599,
           0.5460884425424533
          ],
          [
           0.619952556059131,
           0.4627266941352143,
           0.4769878061728467,
           0.6049801024814375,
           0.557175316644715
          ],
          [
           0.5416575947596216,
           0.3527134401572292,
           0.46691019204598144,
           0.5697410390510745,
           0.5342371180021291
          ],
          [
           0.5928708524952737,
           0.5152353751050756,
           0.49027150793068913,
           0.6020968974817017,
           0.5330011208322802
          ],
          [
           0.42429118208044764,
           0.4185364590731987,
           0.4501026491314052,
           0.5504699563545793,
           0.5295237014624817
          ],
          [
           0.4725078763527083,
           0.4535664913572301,
           0.48590642762592057,
           0.5404822825780738,
           0.5164803716624442
          ],
          [
           0.5102274629007366,
           0.3419432098999508,
           0.3845752433989242,
           0.5032874744645934,
           0.45776175932435015
          ],
          [
           0.6000437507620453,
           0.5240957256424688,
           0.5884676791338538,
           0.6053574409061315,
           0.6062231666769065
          ],
          [
           0.6021420668498063,
           0.468804427195742,
           0.5092122218692116,
           0.6116241142310503,
           0.5669630628306183
          ],
          [
           0.4328821678634607,
           0.40716173536675654,
           0.41153630735501034,
           0.4508830166561526,
           0.46434011530908226
          ],
          [
           0.39149088704212376,
           0.37009163196123857,
           0.3883651017604777,
           0.4559671919069167,
           0.4563538266832228
          ],
          [
           0.5877514692569659,
           0.49659429023276214,
           0.5925408510912964,
           0.5981770779209554,
           0.6271404828895112
          ],
          [
           0.591214592464862,
           0.4934773674176756,
           0.5173511081010499,
           0.6044376159436575,
           0.5676172230509099
          ],
          [
           0.5841161533072039,
           0.532705359436932,
           0.6001282058579165,
           0.5979198519213553,
           0.6248620064171122
          ],
          [
           0.5874890008133633,
           0.4655709596298304,
           0.5132255654527885,
           0.6048573084968691,
           0.5553118141962318
          ],
          [
           0.5501795671949051,
           0.5326002446795312,
           0.5770290945974188,
           0.5974001568571105,
           0.6335576356156286
          ],
          [
           0.5590806867415898,
           0.4623332177762542,
           0.5467797389909934,
           0.5818946207504329,
           0.5655150622910575
          ]
         ]
        }
       ],
       "layout": {
        "annotations": [
         {
          "font": {
           "color": "#000000"
          },
          "showarrow": false,
          "text": "0.286858601228",
          "x": "RoadNet",
          "xref": "x1",
          "y": "majority_vote",
          "yref": "y1"
         },
         {
          "font": {
           "color": "#000000"
          },
          "showarrow": false,
          "text": "0.286858601228",
          "x": "Social total",
          "xref": "x1",
          "y": "majority_vote",
          "yref": "y1"
         },
         {
          "font": {
           "color": "#000000"
          },
          "showarrow": false,
          "text": "0.286858601228",
          "x": "Social type",
          "xref": "x1",
          "y": "majority_vote",
          "yref": "y1"
         },
         {
          "font": {
           "color": "#000000"
          },
          "showarrow": false,
          "text": "0.286858601228",
          "x": "RoadNet+Social total",
          "xref": "x1",
          "y": "majority_vote",
          "yref": "y1"
         },
         {
          "font": {
           "color": "#000000"
          },
          "showarrow": false,
          "text": "0.286858601228",
          "x": "RoadNet+Social type",
          "xref": "x1",
          "y": "majority_vote",
          "yref": "y1"
         },
         {
          "font": {
           "color": "#000000"
          },
          "showarrow": false,
          "text": "0.537223721423",
          "x": "RoadNet",
          "xref": "x1",
          "y": "ols",
          "yref": "y1"
         },
         {
          "font": {
           "color": "#000000"
          },
          "showarrow": false,
          "text": "0.401091292967",
          "x": "Social total",
          "xref": "x1",
          "y": "ols",
          "yref": "y1"
         },
         {
          "font": {
           "color": "#000000"
          },
          "showarrow": false,
          "text": "0.449637223509",
          "x": "Social type",
          "xref": "x1",
          "y": "ols",
          "yref": "y1"
         },
         {
          "font": {
           "color": "#000000"
          },
          "showarrow": false,
          "text": "0.59351223015",
          "x": "RoadNet+Social total",
          "xref": "x1",
          "y": "ols",
          "yref": "y1"
         },
         {
          "font": {
           "color": "#000000"
          },
          "showarrow": false,
          "text": "0.420299588267",
          "x": "RoadNet+Social type",
          "xref": "x1",
          "y": "ols",
          "yref": "y1"
         },
         {
          "font": {
           "color": "#000000"
          },
          "showarrow": false,
          "text": "0.286858601228",
          "x": "RoadNet",
          "xref": "x1",
          "y": "lasso",
          "yref": "y1"
         },
         {
          "font": {
           "color": "#000000"
          },
          "showarrow": false,
          "text": "0.286858601228",
          "x": "Social total",
          "xref": "x1",
          "y": "lasso",
          "yref": "y1"
         },
         {
          "font": {
           "color": "#000000"
          },
          "showarrow": false,
          "text": "0.286858601228",
          "x": "Social type",
          "xref": "x1",
          "y": "lasso",
          "yref": "y1"
         },
         {
          "font": {
           "color": "#000000"
          },
          "showarrow": false,
          "text": "0.286858601228",
          "x": "RoadNet+Social total",
          "xref": "x1",
          "y": "lasso",
          "yref": "y1"
         },
         {
          "font": {
           "color": "#000000"
          },
          "showarrow": false,
          "text": "0.286858601228",
          "x": "RoadNet+Social type",
          "xref": "x1",
          "y": "lasso",
          "yref": "y1"
         },
         {
          "font": {
           "color": "#000000"
          },
          "showarrow": false,
          "text": "0.524818785091",
          "x": "RoadNet",
          "xref": "x1",
          "y": "ridge",
          "yref": "y1"
         },
         {
          "font": {
           "color": "#000000"
          },
          "showarrow": false,
          "text": "0.316934848196",
          "x": "Social total",
          "xref": "x1",
          "y": "ridge",
          "yref": "y1"
         },
         {
          "font": {
           "color": "#000000"
          },
          "showarrow": false,
          "text": "0.4640282556",
          "x": "Social type",
          "xref": "x1",
          "y": "ridge",
          "yref": "y1"
         },
         {
          "font": {
           "color": "#000000"
          },
          "showarrow": false,
          "text": "0.551342474093",
          "x": "RoadNet+Social total",
          "xref": "x1",
          "y": "ridge",
          "yref": "y1"
         },
         {
          "font": {
           "color": "#000000"
          },
          "showarrow": false,
          "text": "0.565960082858",
          "x": "RoadNet+Social type",
          "xref": "x1",
          "y": "ridge",
          "yref": "y1"
         },
         {
          "font": {
           "color": "#000000"
          },
          "showarrow": false,
          "text": "0.558132984618",
          "x": "RoadNet",
          "xref": "x1",
          "y": "logistics",
          "yref": "y1"
         },
         {
          "font": {
           "color": "#000000"
          },
          "showarrow": false,
          "text": "0.488197878148",
          "x": "Social total",
          "xref": "x1",
          "y": "logistics",
          "yref": "y1"
         },
         {
          "font": {
           "color": "#000000"
          },
          "showarrow": false,
          "text": "0.499181900248",
          "x": "Social type",
          "xref": "x1",
          "y": "logistics",
          "yref": "y1"
         },
         {
          "font": {
           "color": "#000000"
          },
          "showarrow": false,
          "text": "0.580081562842",
          "x": "RoadNet+Social total",
          "xref": "x1",
          "y": "logistics",
          "yref": "y1"
         },
         {
          "font": {
           "color": "#000000"
          },
          "showarrow": false,
          "text": "0.564956630392",
          "x": "RoadNet+Social type",
          "xref": "x1",
          "y": "logistics",
          "yref": "y1"
         },
         {
          "font": {
           "color": "#000000"
          },
          "showarrow": false,
          "text": "0.550979537701",
          "x": "RoadNet",
          "xref": "x1",
          "y": "linearSVM",
          "yref": "y1"
         },
         {
          "font": {
           "color": "#000000"
          },
          "showarrow": false,
          "text": "0.482629930052",
          "x": "Social total",
          "xref": "x1",
          "y": "linearSVM",
          "yref": "y1"
         },
         {
          "font": {
           "color": "#000000"
          },
          "showarrow": false,
          "text": "0.521679199521",
          "x": "Social type",
          "xref": "x1",
          "y": "linearSVM",
          "yref": "y1"
         },
         {
          "font": {
           "color": "#000000"
          },
          "showarrow": false,
          "text": "0.556235869813",
          "x": "RoadNet+Social total",
          "xref": "x1",
          "y": "linearSVM",
          "yref": "y1"
         },
         {
          "font": {
           "color": "#000000"
          },
          "showarrow": false,
          "text": "0.565323153488",
          "x": "RoadNet+Social type",
          "xref": "x1",
          "y": "linearSVM",
          "yref": "y1"
         },
         {
          "font": {
           "color": "#000000"
          },
          "showarrow": false,
          "text": "0.518166461122",
          "x": "RoadNet",
          "xref": "x1",
          "y": "linearSVR",
          "yref": "y1"
         },
         {
          "font": {
           "color": "#000000"
          },
          "showarrow": false,
          "text": "0.364968207605",
          "x": "Social total",
          "xref": "x1",
          "y": "linearSVR",
          "yref": "y1"
         },
         {
          "font": {
           "color": "#000000"
          },
          "showarrow": false,
          "text": "0.435282801499",
          "x": "Social type",
          "xref": "x1",
          "y": "linearSVR",
          "yref": "y1"
         },
         {
          "font": {
           "color": "#000000"
          },
          "showarrow": false,
          "text": "0.524820293548",
          "x": "RoadNet+Social total",
          "xref": "x1",
          "y": "linearSVR",
          "yref": "y1"
         },
         {
          "font": {
           "color": "#000000"
          },
          "showarrow": false,
          "text": "0.546088442542",
          "x": "RoadNet+Social type",
          "xref": "x1",
          "y": "linearSVR",
          "yref": "y1"
         },
         {
          "font": {
           "color": "#000000"
          },
          "showarrow": false,
          "text": "0.619952556059",
          "x": "RoadNet",
          "xref": "x1",
          "y": "SVM",
          "yref": "y1"
         },
         {
          "font": {
           "color": "#000000"
          },
          "showarrow": false,
          "text": "0.462726694135",
          "x": "Social total",
          "xref": "x1",
          "y": "SVM",
          "yref": "y1"
         },
         {
          "font": {
           "color": "#000000"
          },
          "showarrow": false,
          "text": "0.476987806173",
          "x": "Social type",
          "xref": "x1",
          "y": "SVM",
          "yref": "y1"
         },
         {
          "font": {
           "color": "#000000"
          },
          "showarrow": false,
          "text": "0.604980102481",
          "x": "RoadNet+Social total",
          "xref": "x1",
          "y": "SVM",
          "yref": "y1"
         },
         {
          "font": {
           "color": "#000000"
          },
          "showarrow": false,
          "text": "0.557175316645",
          "x": "RoadNet+Social type",
          "xref": "x1",
          "y": "SVM",
          "yref": "y1"
         },
         {
          "font": {
           "color": "#000000"
          },
          "showarrow": false,
          "text": "0.54165759476",
          "x": "RoadNet",
          "xref": "x1",
          "y": "SVR",
          "yref": "y1"
         },
         {
          "font": {
           "color": "#000000"
          },
          "showarrow": false,
          "text": "0.352713440157",
          "x": "Social total",
          "xref": "x1",
          "y": "SVR",
          "yref": "y1"
         },
         {
          "font": {
           "color": "#000000"
          },
          "showarrow": false,
          "text": "0.466910192046",
          "x": "Social type",
          "xref": "x1",
          "y": "SVR",
          "yref": "y1"
         },
         {
          "font": {
           "color": "#000000"
          },
          "showarrow": false,
          "text": "0.569741039051",
          "x": "RoadNet+Social total",
          "xref": "x1",
          "y": "SVR",
          "yref": "y1"
         },
         {
          "font": {
           "color": "#000000"
          },
          "showarrow": false,
          "text": "0.534237118002",
          "x": "RoadNet+Social type",
          "xref": "x1",
          "y": "SVR",
          "yref": "y1"
         },
         {
          "font": {
           "color": "#000000"
          },
          "showarrow": false,
          "text": "0.592870852495",
          "x": "RoadNet",
          "xref": "x1",
          "y": "MLPcls",
          "yref": "y1"
         },
         {
          "font": {
           "color": "#000000"
          },
          "showarrow": false,
          "text": "0.515235375105",
          "x": "Social total",
          "xref": "x1",
          "y": "MLPcls",
          "yref": "y1"
         },
         {
          "font": {
           "color": "#000000"
          },
          "showarrow": false,
          "text": "0.490271507931",
          "x": "Social type",
          "xref": "x1",
          "y": "MLPcls",
          "yref": "y1"
         },
         {
          "font": {
           "color": "#000000"
          },
          "showarrow": false,
          "text": "0.602096897482",
          "x": "RoadNet+Social total",
          "xref": "x1",
          "y": "MLPcls",
          "yref": "y1"
         },
         {
          "font": {
           "color": "#000000"
          },
          "showarrow": false,
          "text": "0.533001120832",
          "x": "RoadNet+Social type",
          "xref": "x1",
          "y": "MLPcls",
          "yref": "y1"
         },
         {
          "font": {
           "color": "#000000"
          },
          "showarrow": false,
          "text": "0.42429118208",
          "x": "RoadNet",
          "xref": "x1",
          "y": "MLPreg",
          "yref": "y1"
         },
         {
          "font": {
           "color": "#000000"
          },
          "showarrow": false,
          "text": "0.418536459073",
          "x": "Social total",
          "xref": "x1",
          "y": "MLPreg",
          "yref": "y1"
         },
         {
          "font": {
           "color": "#000000"
          },
          "showarrow": false,
          "text": "0.450102649131",
          "x": "Social type",
          "xref": "x1",
          "y": "MLPreg",
          "yref": "y1"
         },
         {
          "font": {
           "color": "#000000"
          },
          "showarrow": false,
          "text": "0.550469956355",
          "x": "RoadNet+Social total",
          "xref": "x1",
          "y": "MLPreg",
          "yref": "y1"
         },
         {
          "font": {
           "color": "#000000"
          },
          "showarrow": false,
          "text": "0.529523701462",
          "x": "RoadNet+Social type",
          "xref": "x1",
          "y": "MLPreg",
          "yref": "y1"
         },
         {
          "font": {
           "color": "#000000"
          },
          "showarrow": false,
          "text": "0.472507876353",
          "x": "RoadNet",
          "xref": "x1",
          "y": "DTcls",
          "yref": "y1"
         },
         {
          "font": {
           "color": "#000000"
          },
          "showarrow": false,
          "text": "0.453566491357",
          "x": "Social total",
          "xref": "x1",
          "y": "DTcls",
          "yref": "y1"
         },
         {
          "font": {
           "color": "#000000"
          },
          "showarrow": false,
          "text": "0.485906427626",
          "x": "Social type",
          "xref": "x1",
          "y": "DTcls",
          "yref": "y1"
         },
         {
          "font": {
           "color": "#000000"
          },
          "showarrow": false,
          "text": "0.540482282578",
          "x": "RoadNet+Social total",
          "xref": "x1",
          "y": "DTcls",
          "yref": "y1"
         },
         {
          "font": {
           "color": "#000000"
          },
          "showarrow": false,
          "text": "0.516480371662",
          "x": "RoadNet+Social type",
          "xref": "x1",
          "y": "DTcls",
          "yref": "y1"
         },
         {
          "font": {
           "color": "#000000"
          },
          "showarrow": false,
          "text": "0.510227462901",
          "x": "RoadNet",
          "xref": "x1",
          "y": "DTreg",
          "yref": "y1"
         },
         {
          "font": {
           "color": "#000000"
          },
          "showarrow": false,
          "text": "0.3419432099",
          "x": "Social total",
          "xref": "x1",
          "y": "DTreg",
          "yref": "y1"
         },
         {
          "font": {
           "color": "#000000"
          },
          "showarrow": false,
          "text": "0.384575243399",
          "x": "Social type",
          "xref": "x1",
          "y": "DTreg",
          "yref": "y1"
         },
         {
          "font": {
           "color": "#000000"
          },
          "showarrow": false,
          "text": "0.503287474465",
          "x": "RoadNet+Social total",
          "xref": "x1",
          "y": "DTreg",
          "yref": "y1"
         },
         {
          "font": {
           "color": "#000000"
          },
          "showarrow": false,
          "text": "0.457761759324",
          "x": "RoadNet+Social type",
          "xref": "x1",
          "y": "DTreg",
          "yref": "y1"
         },
         {
          "font": {
           "color": "#000000"
          },
          "showarrow": false,
          "text": "0.600043750762",
          "x": "RoadNet",
          "xref": "x1",
          "y": "RFcls",
          "yref": "y1"
         },
         {
          "font": {
           "color": "#000000"
          },
          "showarrow": false,
          "text": "0.524095725642",
          "x": "Social total",
          "xref": "x1",
          "y": "RFcls",
          "yref": "y1"
         },
         {
          "font": {
           "color": "#000000"
          },
          "showarrow": false,
          "text": "0.588467679134",
          "x": "Social type",
          "xref": "x1",
          "y": "RFcls",
          "yref": "y1"
         },
         {
          "font": {
           "color": "#000000"
          },
          "showarrow": false,
          "text": "0.605357440906",
          "x": "RoadNet+Social total",
          "xref": "x1",
          "y": "RFcls",
          "yref": "y1"
         },
         {
          "font": {
           "color": "#000000"
          },
          "showarrow": false,
          "text": "0.606223166677",
          "x": "RoadNet+Social type",
          "xref": "x1",
          "y": "RFcls",
          "yref": "y1"
         },
         {
          "font": {
           "color": "#000000"
          },
          "showarrow": false,
          "text": "0.60214206685",
          "x": "RoadNet",
          "xref": "x1",
          "y": "RFreg",
          "yref": "y1"
         },
         {
          "font": {
           "color": "#000000"
          },
          "showarrow": false,
          "text": "0.468804427196",
          "x": "Social total",
          "xref": "x1",
          "y": "RFreg",
          "yref": "y1"
         },
         {
          "font": {
           "color": "#000000"
          },
          "showarrow": false,
          "text": "0.509212221869",
          "x": "Social type",
          "xref": "x1",
          "y": "RFreg",
          "yref": "y1"
         },
         {
          "font": {
           "color": "#000000"
          },
          "showarrow": false,
          "text": "0.611624114231",
          "x": "RoadNet+Social total",
          "xref": "x1",
          "y": "RFreg",
          "yref": "y1"
         },
         {
          "font": {
           "color": "#000000"
          },
          "showarrow": false,
          "text": "0.566963062831",
          "x": "RoadNet+Social type",
          "xref": "x1",
          "y": "RFreg",
          "yref": "y1"
         },
         {
          "font": {
           "color": "#000000"
          },
          "showarrow": false,
          "text": "0.432882167863",
          "x": "RoadNet",
          "xref": "x1",
          "y": "ADAcls",
          "yref": "y1"
         },
         {
          "font": {
           "color": "#000000"
          },
          "showarrow": false,
          "text": "0.407161735367",
          "x": "Social total",
          "xref": "x1",
          "y": "ADAcls",
          "yref": "y1"
         },
         {
          "font": {
           "color": "#000000"
          },
          "showarrow": false,
          "text": "0.411536307355",
          "x": "Social type",
          "xref": "x1",
          "y": "ADAcls",
          "yref": "y1"
         },
         {
          "font": {
           "color": "#000000"
          },
          "showarrow": false,
          "text": "0.450883016656",
          "x": "RoadNet+Social total",
          "xref": "x1",
          "y": "ADAcls",
          "yref": "y1"
         },
         {
          "font": {
           "color": "#000000"
          },
          "showarrow": false,
          "text": "0.464340115309",
          "x": "RoadNet+Social type",
          "xref": "x1",
          "y": "ADAcls",
          "yref": "y1"
         },
         {
          "font": {
           "color": "#000000"
          },
          "showarrow": false,
          "text": "0.391490887042",
          "x": "RoadNet",
          "xref": "x1",
          "y": "ADAreg",
          "yref": "y1"
         },
         {
          "font": {
           "color": "#000000"
          },
          "showarrow": false,
          "text": "0.370091631961",
          "x": "Social total",
          "xref": "x1",
          "y": "ADAreg",
          "yref": "y1"
         },
         {
          "font": {
           "color": "#000000"
          },
          "showarrow": false,
          "text": "0.38836510176",
          "x": "Social type",
          "xref": "x1",
          "y": "ADAreg",
          "yref": "y1"
         },
         {
          "font": {
           "color": "#000000"
          },
          "showarrow": false,
          "text": "0.455967191907",
          "x": "RoadNet+Social total",
          "xref": "x1",
          "y": "ADAreg",
          "yref": "y1"
         },
         {
          "font": {
           "color": "#000000"
          },
          "showarrow": false,
          "text": "0.456353826683",
          "x": "RoadNet+Social type",
          "xref": "x1",
          "y": "ADAreg",
          "yref": "y1"
         },
         {
          "font": {
           "color": "#000000"
          },
          "showarrow": false,
          "text": "0.587751469257",
          "x": "RoadNet",
          "xref": "x1",
          "y": "BAGcls",
          "yref": "y1"
         },
         {
          "font": {
           "color": "#000000"
          },
          "showarrow": false,
          "text": "0.496594290233",
          "x": "Social total",
          "xref": "x1",
          "y": "BAGcls",
          "yref": "y1"
         },
         {
          "font": {
           "color": "#000000"
          },
          "showarrow": false,
          "text": "0.592540851091",
          "x": "Social type",
          "xref": "x1",
          "y": "BAGcls",
          "yref": "y1"
         },
         {
          "font": {
           "color": "#000000"
          },
          "showarrow": false,
          "text": "0.598177077921",
          "x": "RoadNet+Social total",
          "xref": "x1",
          "y": "BAGcls",
          "yref": "y1"
         },
         {
          "font": {
           "color": "#000000"
          },
          "showarrow": false,
          "text": "0.62714048289",
          "x": "RoadNet+Social type",
          "xref": "x1",
          "y": "BAGcls",
          "yref": "y1"
         },
         {
          "font": {
           "color": "#000000"
          },
          "showarrow": false,
          "text": "0.591214592465",
          "x": "RoadNet",
          "xref": "x1",
          "y": "BAGreg",
          "yref": "y1"
         },
         {
          "font": {
           "color": "#000000"
          },
          "showarrow": false,
          "text": "0.493477367418",
          "x": "Social total",
          "xref": "x1",
          "y": "BAGreg",
          "yref": "y1"
         },
         {
          "font": {
           "color": "#000000"
          },
          "showarrow": false,
          "text": "0.517351108101",
          "x": "Social type",
          "xref": "x1",
          "y": "BAGreg",
          "yref": "y1"
         },
         {
          "font": {
           "color": "#000000"
          },
          "showarrow": false,
          "text": "0.604437615944",
          "x": "RoadNet+Social total",
          "xref": "x1",
          "y": "BAGreg",
          "yref": "y1"
         },
         {
          "font": {
           "color": "#000000"
          },
          "showarrow": false,
          "text": "0.567617223051",
          "x": "RoadNet+Social type",
          "xref": "x1",
          "y": "BAGreg",
          "yref": "y1"
         },
         {
          "font": {
           "color": "#000000"
          },
          "showarrow": false,
          "text": "0.584116153307",
          "x": "RoadNet",
          "xref": "x1",
          "y": "GDBcls",
          "yref": "y1"
         },
         {
          "font": {
           "color": "#000000"
          },
          "showarrow": false,
          "text": "0.532705359437",
          "x": "Social total",
          "xref": "x1",
          "y": "GDBcls",
          "yref": "y1"
         },
         {
          "font": {
           "color": "#000000"
          },
          "showarrow": false,
          "text": "0.600128205858",
          "x": "Social type",
          "xref": "x1",
          "y": "GDBcls",
          "yref": "y1"
         },
         {
          "font": {
           "color": "#000000"
          },
          "showarrow": false,
          "text": "0.597919851921",
          "x": "RoadNet+Social total",
          "xref": "x1",
          "y": "GDBcls",
          "yref": "y1"
         },
         {
          "font": {
           "color": "#000000"
          },
          "showarrow": false,
          "text": "0.624862006417",
          "x": "RoadNet+Social type",
          "xref": "x1",
          "y": "GDBcls",
          "yref": "y1"
         },
         {
          "font": {
           "color": "#000000"
          },
          "showarrow": false,
          "text": "0.587489000813",
          "x": "RoadNet",
          "xref": "x1",
          "y": "GDBreg",
          "yref": "y1"
         },
         {
          "font": {
           "color": "#000000"
          },
          "showarrow": false,
          "text": "0.46557095963",
          "x": "Social total",
          "xref": "x1",
          "y": "GDBreg",
          "yref": "y1"
         },
         {
          "font": {
           "color": "#000000"
          },
          "showarrow": false,
          "text": "0.513225565453",
          "x": "Social type",
          "xref": "x1",
          "y": "GDBreg",
          "yref": "y1"
         },
         {
          "font": {
           "color": "#000000"
          },
          "showarrow": false,
          "text": "0.604857308497",
          "x": "RoadNet+Social total",
          "xref": "x1",
          "y": "GDBreg",
          "yref": "y1"
         },
         {
          "font": {
           "color": "#000000"
          },
          "showarrow": false,
          "text": "0.555311814196",
          "x": "RoadNet+Social type",
          "xref": "x1",
          "y": "GDBreg",
          "yref": "y1"
         },
         {
          "font": {
           "color": "#000000"
          },
          "showarrow": false,
          "text": "0.550179567195",
          "x": "RoadNet",
          "xref": "x1",
          "y": "XGBcls",
          "yref": "y1"
         },
         {
          "font": {
           "color": "#000000"
          },
          "showarrow": false,
          "text": "0.53260024468",
          "x": "Social total",
          "xref": "x1",
          "y": "XGBcls",
          "yref": "y1"
         },
         {
          "font": {
           "color": "#000000"
          },
          "showarrow": false,
          "text": "0.577029094597",
          "x": "Social type",
          "xref": "x1",
          "y": "XGBcls",
          "yref": "y1"
         },
         {
          "font": {
           "color": "#000000"
          },
          "showarrow": false,
          "text": "0.597400156857",
          "x": "RoadNet+Social total",
          "xref": "x1",
          "y": "XGBcls",
          "yref": "y1"
         },
         {
          "font": {
           "color": "#000000"
          },
          "showarrow": false,
          "text": "0.633557635616",
          "x": "RoadNet+Social type",
          "xref": "x1",
          "y": "XGBcls",
          "yref": "y1"
         },
         {
          "font": {
           "color": "#000000"
          },
          "showarrow": false,
          "text": "0.559080686742",
          "x": "RoadNet",
          "xref": "x1",
          "y": "XGBreg",
          "yref": "y1"
         },
         {
          "font": {
           "color": "#000000"
          },
          "showarrow": false,
          "text": "0.462333217776",
          "x": "Social total",
          "xref": "x1",
          "y": "XGBreg",
          "yref": "y1"
         },
         {
          "font": {
           "color": "#000000"
          },
          "showarrow": false,
          "text": "0.546779738991",
          "x": "Social type",
          "xref": "x1",
          "y": "XGBreg",
          "yref": "y1"
         },
         {
          "font": {
           "color": "#000000"
          },
          "showarrow": false,
          "text": "0.58189462075",
          "x": "RoadNet+Social total",
          "xref": "x1",
          "y": "XGBreg",
          "yref": "y1"
         },
         {
          "font": {
           "color": "#000000"
          },
          "showarrow": false,
          "text": "0.565515062291",
          "x": "RoadNet+Social type",
          "xref": "x1",
          "y": "XGBreg",
          "yref": "y1"
         }
        ],
        "xaxis": {
         "dtick": 1,
         "gridcolor": "rgb(0, 0, 0)",
         "side": "top",
         "ticks": ""
        },
        "yaxis": {
         "autorange": "reversed",
         "dtick": 1,
         "ticks": "",
         "ticksuffix": "  "
        }
       }
      },
      "text/html": [
       "<div id=\"49c3ce2f-6975-4be1-a20a-a4c1f5bf6e09\" style=\"height: 525px; width: 100%;\" class=\"plotly-graph-div\"></div><script type=\"text/javascript\">require([\"plotly\"], function(Plotly) { window.PLOTLYENV=window.PLOTLYENV || {};window.PLOTLYENV.BASE_URL=\"https://plot.ly\";Plotly.newPlot(\"49c3ce2f-6975-4be1-a20a-a4c1f5bf6e09\", [{\"type\": \"heatmap\", \"z\": [[0.2868586012276497, 0.2868586012276497, 0.2868586012276497, 0.2868586012276497, 0.2868586012276497], [0.5372237214226729, 0.4010912929673949, 0.4496372235087079, 0.5935122301498978, 0.42029958826651326], [0.2868586012276497, 0.2868586012276497, 0.2868586012276497, 0.2868586012276497, 0.2868586012276497], [0.5248187850908512, 0.3169348481959396, 0.4640282555996498, 0.5513424740930573, 0.5659600828580339], [0.5581329846183163, 0.4881978781480944, 0.4991819002477076, 0.5800815628415998, 0.5649566303922955], [0.5509795377008321, 0.4826299300515872, 0.5216791995208357, 0.5562358698133452, 0.5653231534878307], [0.5181664611217399, 0.3649682076052843, 0.435282801498807, 0.524820293547599, 0.5460884425424533], [0.619952556059131, 0.4627266941352143, 0.4769878061728467, 0.6049801024814375, 0.557175316644715], [0.5416575947596216, 0.3527134401572292, 0.46691019204598144, 0.5697410390510745, 0.5342371180021291], [0.5928708524952737, 0.5152353751050756, 0.49027150793068913, 0.6020968974817017, 0.5330011208322802], [0.42429118208044764, 0.4185364590731987, 0.4501026491314052, 0.5504699563545793, 0.5295237014624817], [0.4725078763527083, 0.4535664913572301, 0.48590642762592057, 0.5404822825780738, 0.5164803716624442], [0.5102274629007366, 0.3419432098999508, 0.3845752433989242, 0.5032874744645934, 0.45776175932435015], [0.6000437507620453, 0.5240957256424688, 0.5884676791338538, 0.6053574409061315, 0.6062231666769065], [0.6021420668498063, 0.468804427195742, 0.5092122218692116, 0.6116241142310503, 0.5669630628306183], [0.4328821678634607, 0.40716173536675654, 0.41153630735501034, 0.4508830166561526, 0.46434011530908226], [0.39149088704212376, 0.37009163196123857, 0.3883651017604777, 0.4559671919069167, 0.4563538266832228], [0.5877514692569659, 0.49659429023276214, 0.5925408510912964, 0.5981770779209554, 0.6271404828895112], [0.591214592464862, 0.4934773674176756, 0.5173511081010499, 0.6044376159436575, 0.5676172230509099], [0.5841161533072039, 0.532705359436932, 0.6001282058579165, 0.5979198519213553, 0.6248620064171122], [0.5874890008133633, 0.4655709596298304, 0.5132255654527885, 0.6048573084968691, 0.5553118141962318], [0.5501795671949051, 0.5326002446795312, 0.5770290945974188, 0.5974001568571105, 0.6335576356156286], [0.5590806867415898, 0.4623332177762542, 0.5467797389909934, 0.5818946207504329, 0.5655150622910575]], \"x\": [\"RoadNet\", \"Social total\", \"Social type\", \"RoadNet+Social total\", \"RoadNet+Social type\"], \"y\": [\"majority_vote\", \"ols\", \"lasso\", \"ridge\", \"logistics\", \"linearSVM\", \"linearSVR\", \"SVM\", \"SVR\", \"MLPcls\", \"MLPreg\", \"DTcls\", \"DTreg\", \"RFcls\", \"RFreg\", \"ADAcls\", \"ADAreg\", \"BAGcls\", \"BAGreg\", \"GDBcls\", \"GDBreg\", \"XGBcls\", \"XGBreg\"], \"colorscale\": \"magma\", \"showscale\": false}], {\"annotations\": [{\"text\": \"0.286858601228\", \"x\": \"RoadNet\", \"y\": \"majority_vote\", \"xref\": \"x1\", \"yref\": \"y1\", \"font\": {\"color\": \"#000000\"}, \"showarrow\": false}, {\"text\": \"0.286858601228\", \"x\": \"Social total\", \"y\": \"majority_vote\", \"xref\": \"x1\", \"yref\": \"y1\", \"font\": {\"color\": \"#000000\"}, \"showarrow\": false}, {\"text\": \"0.286858601228\", \"x\": \"Social type\", \"y\": \"majority_vote\", \"xref\": \"x1\", \"yref\": \"y1\", \"font\": {\"color\": \"#000000\"}, \"showarrow\": false}, {\"text\": \"0.286858601228\", \"x\": \"RoadNet+Social total\", \"y\": \"majority_vote\", \"xref\": \"x1\", \"yref\": \"y1\", \"font\": {\"color\": \"#000000\"}, \"showarrow\": false}, {\"text\": \"0.286858601228\", \"x\": \"RoadNet+Social type\", \"y\": \"majority_vote\", \"xref\": \"x1\", \"yref\": \"y1\", \"font\": {\"color\": \"#000000\"}, \"showarrow\": false}, {\"text\": \"0.537223721423\", \"x\": \"RoadNet\", \"y\": \"ols\", \"xref\": \"x1\", \"yref\": \"y1\", \"font\": {\"color\": \"#000000\"}, \"showarrow\": false}, {\"text\": \"0.401091292967\", \"x\": \"Social total\", \"y\": \"ols\", \"xref\": \"x1\", \"yref\": \"y1\", \"font\": {\"color\": \"#000000\"}, \"showarrow\": false}, {\"text\": \"0.449637223509\", \"x\": \"Social type\", \"y\": \"ols\", \"xref\": \"x1\", \"yref\": \"y1\", \"font\": {\"color\": \"#000000\"}, \"showarrow\": false}, {\"text\": \"0.59351223015\", \"x\": \"RoadNet+Social total\", \"y\": \"ols\", \"xref\": \"x1\", \"yref\": \"y1\", \"font\": {\"color\": \"#000000\"}, \"showarrow\": false}, {\"text\": \"0.420299588267\", \"x\": \"RoadNet+Social type\", \"y\": \"ols\", \"xref\": \"x1\", \"yref\": \"y1\", \"font\": {\"color\": \"#000000\"}, \"showarrow\": false}, {\"text\": \"0.286858601228\", \"x\": \"RoadNet\", \"y\": \"lasso\", \"xref\": \"x1\", \"yref\": \"y1\", \"font\": {\"color\": \"#000000\"}, \"showarrow\": false}, {\"text\": \"0.286858601228\", \"x\": \"Social total\", \"y\": \"lasso\", \"xref\": \"x1\", \"yref\": \"y1\", \"font\": {\"color\": \"#000000\"}, \"showarrow\": false}, {\"text\": \"0.286858601228\", \"x\": \"Social type\", \"y\": \"lasso\", \"xref\": \"x1\", \"yref\": \"y1\", \"font\": {\"color\": \"#000000\"}, \"showarrow\": false}, {\"text\": \"0.286858601228\", \"x\": \"RoadNet+Social total\", \"y\": \"lasso\", \"xref\": \"x1\", \"yref\": \"y1\", \"font\": {\"color\": \"#000000\"}, \"showarrow\": false}, {\"text\": \"0.286858601228\", \"x\": \"RoadNet+Social type\", \"y\": \"lasso\", \"xref\": \"x1\", \"yref\": \"y1\", \"font\": {\"color\": \"#000000\"}, \"showarrow\": false}, {\"text\": \"0.524818785091\", \"x\": \"RoadNet\", \"y\": \"ridge\", \"xref\": \"x1\", \"yref\": \"y1\", \"font\": {\"color\": \"#000000\"}, \"showarrow\": false}, {\"text\": \"0.316934848196\", \"x\": \"Social total\", \"y\": \"ridge\", \"xref\": \"x1\", \"yref\": \"y1\", \"font\": {\"color\": \"#000000\"}, \"showarrow\": false}, {\"text\": \"0.4640282556\", \"x\": \"Social type\", \"y\": \"ridge\", \"xref\": \"x1\", \"yref\": \"y1\", \"font\": {\"color\": \"#000000\"}, \"showarrow\": false}, {\"text\": \"0.551342474093\", \"x\": \"RoadNet+Social total\", \"y\": \"ridge\", \"xref\": \"x1\", \"yref\": \"y1\", \"font\": {\"color\": \"#000000\"}, \"showarrow\": false}, {\"text\": \"0.565960082858\", \"x\": \"RoadNet+Social type\", \"y\": \"ridge\", \"xref\": \"x1\", \"yref\": \"y1\", \"font\": {\"color\": \"#000000\"}, \"showarrow\": false}, {\"text\": \"0.558132984618\", \"x\": \"RoadNet\", \"y\": \"logistics\", \"xref\": \"x1\", \"yref\": \"y1\", \"font\": {\"color\": \"#000000\"}, \"showarrow\": false}, {\"text\": \"0.488197878148\", \"x\": \"Social total\", \"y\": \"logistics\", \"xref\": \"x1\", \"yref\": \"y1\", \"font\": {\"color\": \"#000000\"}, \"showarrow\": false}, {\"text\": \"0.499181900248\", \"x\": \"Social type\", \"y\": \"logistics\", \"xref\": \"x1\", \"yref\": \"y1\", \"font\": {\"color\": \"#000000\"}, \"showarrow\": false}, {\"text\": \"0.580081562842\", \"x\": \"RoadNet+Social total\", \"y\": \"logistics\", \"xref\": \"x1\", \"yref\": \"y1\", \"font\": {\"color\": \"#000000\"}, \"showarrow\": false}, {\"text\": \"0.564956630392\", \"x\": \"RoadNet+Social type\", \"y\": \"logistics\", \"xref\": \"x1\", \"yref\": \"y1\", \"font\": {\"color\": \"#000000\"}, \"showarrow\": false}, {\"text\": \"0.550979537701\", \"x\": \"RoadNet\", \"y\": \"linearSVM\", \"xref\": \"x1\", \"yref\": \"y1\", \"font\": {\"color\": \"#000000\"}, \"showarrow\": false}, {\"text\": \"0.482629930052\", \"x\": \"Social total\", \"y\": \"linearSVM\", \"xref\": \"x1\", \"yref\": \"y1\", \"font\": {\"color\": \"#000000\"}, \"showarrow\": false}, {\"text\": \"0.521679199521\", \"x\": \"Social type\", \"y\": \"linearSVM\", \"xref\": \"x1\", \"yref\": \"y1\", \"font\": {\"color\": \"#000000\"}, \"showarrow\": false}, {\"text\": \"0.556235869813\", \"x\": \"RoadNet+Social total\", \"y\": \"linearSVM\", \"xref\": \"x1\", \"yref\": \"y1\", \"font\": {\"color\": \"#000000\"}, \"showarrow\": false}, {\"text\": \"0.565323153488\", \"x\": \"RoadNet+Social type\", \"y\": \"linearSVM\", \"xref\": \"x1\", \"yref\": \"y1\", \"font\": {\"color\": \"#000000\"}, \"showarrow\": false}, {\"text\": \"0.518166461122\", \"x\": \"RoadNet\", \"y\": \"linearSVR\", \"xref\": \"x1\", \"yref\": \"y1\", \"font\": {\"color\": \"#000000\"}, \"showarrow\": false}, {\"text\": \"0.364968207605\", \"x\": \"Social total\", \"y\": \"linearSVR\", \"xref\": \"x1\", \"yref\": \"y1\", \"font\": {\"color\": \"#000000\"}, \"showarrow\": false}, {\"text\": \"0.435282801499\", \"x\": \"Social type\", \"y\": \"linearSVR\", \"xref\": \"x1\", \"yref\": \"y1\", \"font\": {\"color\": \"#000000\"}, \"showarrow\": false}, {\"text\": \"0.524820293548\", \"x\": \"RoadNet+Social total\", \"y\": \"linearSVR\", \"xref\": \"x1\", \"yref\": \"y1\", \"font\": {\"color\": \"#000000\"}, \"showarrow\": false}, {\"text\": \"0.546088442542\", \"x\": \"RoadNet+Social type\", \"y\": \"linearSVR\", \"xref\": \"x1\", \"yref\": \"y1\", \"font\": {\"color\": \"#000000\"}, \"showarrow\": false}, {\"text\": \"0.619952556059\", \"x\": \"RoadNet\", \"y\": \"SVM\", \"xref\": \"x1\", \"yref\": \"y1\", \"font\": {\"color\": \"#000000\"}, \"showarrow\": false}, {\"text\": \"0.462726694135\", \"x\": \"Social total\", \"y\": \"SVM\", \"xref\": \"x1\", \"yref\": \"y1\", \"font\": {\"color\": \"#000000\"}, \"showarrow\": false}, {\"text\": \"0.476987806173\", \"x\": \"Social type\", \"y\": \"SVM\", \"xref\": \"x1\", \"yref\": \"y1\", \"font\": {\"color\": \"#000000\"}, \"showarrow\": false}, {\"text\": \"0.604980102481\", \"x\": \"RoadNet+Social total\", \"y\": \"SVM\", \"xref\": \"x1\", \"yref\": \"y1\", \"font\": {\"color\": \"#000000\"}, \"showarrow\": false}, {\"text\": \"0.557175316645\", \"x\": \"RoadNet+Social type\", \"y\": \"SVM\", \"xref\": \"x1\", \"yref\": \"y1\", \"font\": {\"color\": \"#000000\"}, \"showarrow\": false}, {\"text\": \"0.54165759476\", \"x\": \"RoadNet\", \"y\": \"SVR\", \"xref\": \"x1\", \"yref\": \"y1\", \"font\": {\"color\": \"#000000\"}, \"showarrow\": false}, {\"text\": \"0.352713440157\", \"x\": \"Social total\", \"y\": \"SVR\", \"xref\": \"x1\", \"yref\": \"y1\", \"font\": {\"color\": \"#000000\"}, \"showarrow\": false}, {\"text\": \"0.466910192046\", \"x\": \"Social type\", \"y\": \"SVR\", \"xref\": \"x1\", \"yref\": \"y1\", \"font\": {\"color\": \"#000000\"}, \"showarrow\": false}, {\"text\": \"0.569741039051\", \"x\": \"RoadNet+Social total\", \"y\": \"SVR\", \"xref\": \"x1\", \"yref\": \"y1\", \"font\": {\"color\": \"#000000\"}, \"showarrow\": false}, {\"text\": \"0.534237118002\", \"x\": \"RoadNet+Social type\", \"y\": \"SVR\", \"xref\": \"x1\", \"yref\": \"y1\", \"font\": {\"color\": \"#000000\"}, \"showarrow\": false}, {\"text\": \"0.592870852495\", \"x\": \"RoadNet\", \"y\": \"MLPcls\", \"xref\": \"x1\", \"yref\": \"y1\", \"font\": {\"color\": \"#000000\"}, \"showarrow\": false}, {\"text\": \"0.515235375105\", \"x\": \"Social total\", \"y\": \"MLPcls\", \"xref\": \"x1\", \"yref\": \"y1\", \"font\": {\"color\": \"#000000\"}, \"showarrow\": false}, {\"text\": \"0.490271507931\", \"x\": \"Social type\", \"y\": \"MLPcls\", \"xref\": \"x1\", \"yref\": \"y1\", \"font\": {\"color\": \"#000000\"}, \"showarrow\": false}, {\"text\": \"0.602096897482\", \"x\": \"RoadNet+Social total\", \"y\": \"MLPcls\", \"xref\": \"x1\", \"yref\": \"y1\", \"font\": {\"color\": \"#000000\"}, \"showarrow\": false}, {\"text\": \"0.533001120832\", \"x\": \"RoadNet+Social type\", \"y\": \"MLPcls\", \"xref\": \"x1\", \"yref\": \"y1\", \"font\": {\"color\": \"#000000\"}, \"showarrow\": false}, {\"text\": \"0.42429118208\", \"x\": \"RoadNet\", \"y\": \"MLPreg\", \"xref\": \"x1\", \"yref\": \"y1\", \"font\": {\"color\": \"#000000\"}, \"showarrow\": false}, {\"text\": \"0.418536459073\", \"x\": \"Social total\", \"y\": \"MLPreg\", \"xref\": \"x1\", \"yref\": \"y1\", \"font\": {\"color\": \"#000000\"}, \"showarrow\": false}, {\"text\": \"0.450102649131\", \"x\": \"Social type\", \"y\": \"MLPreg\", \"xref\": \"x1\", \"yref\": \"y1\", \"font\": {\"color\": \"#000000\"}, \"showarrow\": false}, {\"text\": \"0.550469956355\", \"x\": \"RoadNet+Social total\", \"y\": \"MLPreg\", \"xref\": \"x1\", \"yref\": \"y1\", \"font\": {\"color\": \"#000000\"}, \"showarrow\": false}, {\"text\": \"0.529523701462\", \"x\": \"RoadNet+Social type\", \"y\": \"MLPreg\", \"xref\": \"x1\", \"yref\": \"y1\", \"font\": {\"color\": \"#000000\"}, \"showarrow\": false}, {\"text\": \"0.472507876353\", \"x\": \"RoadNet\", \"y\": \"DTcls\", \"xref\": \"x1\", \"yref\": \"y1\", \"font\": {\"color\": \"#000000\"}, \"showarrow\": false}, {\"text\": \"0.453566491357\", \"x\": \"Social total\", \"y\": \"DTcls\", \"xref\": \"x1\", \"yref\": \"y1\", \"font\": {\"color\": \"#000000\"}, \"showarrow\": false}, {\"text\": \"0.485906427626\", \"x\": \"Social type\", \"y\": \"DTcls\", \"xref\": \"x1\", \"yref\": \"y1\", \"font\": {\"color\": \"#000000\"}, \"showarrow\": false}, {\"text\": \"0.540482282578\", \"x\": \"RoadNet+Social total\", \"y\": \"DTcls\", \"xref\": \"x1\", \"yref\": \"y1\", \"font\": {\"color\": \"#000000\"}, \"showarrow\": false}, {\"text\": \"0.516480371662\", \"x\": \"RoadNet+Social type\", \"y\": \"DTcls\", \"xref\": \"x1\", \"yref\": \"y1\", \"font\": {\"color\": \"#000000\"}, \"showarrow\": false}, {\"text\": \"0.510227462901\", \"x\": \"RoadNet\", \"y\": \"DTreg\", \"xref\": \"x1\", \"yref\": \"y1\", \"font\": {\"color\": \"#000000\"}, \"showarrow\": false}, {\"text\": \"0.3419432099\", \"x\": \"Social total\", \"y\": \"DTreg\", \"xref\": \"x1\", \"yref\": \"y1\", \"font\": {\"color\": \"#000000\"}, \"showarrow\": false}, {\"text\": \"0.384575243399\", \"x\": \"Social type\", \"y\": \"DTreg\", \"xref\": \"x1\", \"yref\": \"y1\", \"font\": {\"color\": \"#000000\"}, \"showarrow\": false}, {\"text\": \"0.503287474465\", \"x\": \"RoadNet+Social total\", \"y\": \"DTreg\", \"xref\": \"x1\", \"yref\": \"y1\", \"font\": {\"color\": \"#000000\"}, \"showarrow\": false}, {\"text\": \"0.457761759324\", \"x\": \"RoadNet+Social type\", \"y\": \"DTreg\", \"xref\": \"x1\", \"yref\": \"y1\", \"font\": {\"color\": \"#000000\"}, \"showarrow\": false}, {\"text\": \"0.600043750762\", \"x\": \"RoadNet\", \"y\": \"RFcls\", \"xref\": \"x1\", \"yref\": \"y1\", \"font\": {\"color\": \"#000000\"}, \"showarrow\": false}, {\"text\": \"0.524095725642\", \"x\": \"Social total\", \"y\": \"RFcls\", \"xref\": \"x1\", \"yref\": \"y1\", \"font\": {\"color\": \"#000000\"}, \"showarrow\": false}, {\"text\": \"0.588467679134\", \"x\": \"Social type\", \"y\": \"RFcls\", \"xref\": \"x1\", \"yref\": \"y1\", \"font\": {\"color\": \"#000000\"}, \"showarrow\": false}, {\"text\": \"0.605357440906\", \"x\": \"RoadNet+Social total\", \"y\": \"RFcls\", \"xref\": \"x1\", \"yref\": \"y1\", \"font\": {\"color\": \"#000000\"}, \"showarrow\": false}, {\"text\": \"0.606223166677\", \"x\": \"RoadNet+Social type\", \"y\": \"RFcls\", \"xref\": \"x1\", \"yref\": \"y1\", \"font\": {\"color\": \"#000000\"}, \"showarrow\": false}, {\"text\": \"0.60214206685\", \"x\": \"RoadNet\", \"y\": \"RFreg\", \"xref\": \"x1\", \"yref\": \"y1\", \"font\": {\"color\": \"#000000\"}, \"showarrow\": false}, {\"text\": \"0.468804427196\", \"x\": \"Social total\", \"y\": \"RFreg\", \"xref\": \"x1\", \"yref\": \"y1\", \"font\": {\"color\": \"#000000\"}, \"showarrow\": false}, {\"text\": \"0.509212221869\", \"x\": \"Social type\", \"y\": \"RFreg\", \"xref\": \"x1\", \"yref\": \"y1\", \"font\": {\"color\": \"#000000\"}, \"showarrow\": false}, {\"text\": \"0.611624114231\", \"x\": \"RoadNet+Social total\", \"y\": \"RFreg\", \"xref\": \"x1\", \"yref\": \"y1\", \"font\": {\"color\": \"#000000\"}, \"showarrow\": false}, {\"text\": \"0.566963062831\", \"x\": \"RoadNet+Social type\", \"y\": \"RFreg\", \"xref\": \"x1\", \"yref\": \"y1\", \"font\": {\"color\": \"#000000\"}, \"showarrow\": false}, {\"text\": \"0.432882167863\", \"x\": \"RoadNet\", \"y\": \"ADAcls\", \"xref\": \"x1\", \"yref\": \"y1\", \"font\": {\"color\": \"#000000\"}, \"showarrow\": false}, {\"text\": \"0.407161735367\", \"x\": \"Social total\", \"y\": \"ADAcls\", \"xref\": \"x1\", \"yref\": \"y1\", \"font\": {\"color\": \"#000000\"}, \"showarrow\": false}, {\"text\": \"0.411536307355\", \"x\": \"Social type\", \"y\": \"ADAcls\", \"xref\": \"x1\", \"yref\": \"y1\", \"font\": {\"color\": \"#000000\"}, \"showarrow\": false}, {\"text\": \"0.450883016656\", \"x\": \"RoadNet+Social total\", \"y\": \"ADAcls\", \"xref\": \"x1\", \"yref\": \"y1\", \"font\": {\"color\": \"#000000\"}, \"showarrow\": false}, {\"text\": \"0.464340115309\", \"x\": \"RoadNet+Social type\", \"y\": \"ADAcls\", \"xref\": \"x1\", \"yref\": \"y1\", \"font\": {\"color\": \"#000000\"}, \"showarrow\": false}, {\"text\": \"0.391490887042\", \"x\": \"RoadNet\", \"y\": \"ADAreg\", \"xref\": \"x1\", \"yref\": \"y1\", \"font\": {\"color\": \"#000000\"}, \"showarrow\": false}, {\"text\": \"0.370091631961\", \"x\": \"Social total\", \"y\": \"ADAreg\", \"xref\": \"x1\", \"yref\": \"y1\", \"font\": {\"color\": \"#000000\"}, \"showarrow\": false}, {\"text\": \"0.38836510176\", \"x\": \"Social type\", \"y\": \"ADAreg\", \"xref\": \"x1\", \"yref\": \"y1\", \"font\": {\"color\": \"#000000\"}, \"showarrow\": false}, {\"text\": \"0.455967191907\", \"x\": \"RoadNet+Social total\", \"y\": \"ADAreg\", \"xref\": \"x1\", \"yref\": \"y1\", \"font\": {\"color\": \"#000000\"}, \"showarrow\": false}, {\"text\": \"0.456353826683\", \"x\": \"RoadNet+Social type\", \"y\": \"ADAreg\", \"xref\": \"x1\", \"yref\": \"y1\", \"font\": {\"color\": \"#000000\"}, \"showarrow\": false}, {\"text\": \"0.587751469257\", \"x\": \"RoadNet\", \"y\": \"BAGcls\", \"xref\": \"x1\", \"yref\": \"y1\", \"font\": {\"color\": \"#000000\"}, \"showarrow\": false}, {\"text\": \"0.496594290233\", \"x\": \"Social total\", \"y\": \"BAGcls\", \"xref\": \"x1\", \"yref\": \"y1\", \"font\": {\"color\": \"#000000\"}, \"showarrow\": false}, {\"text\": \"0.592540851091\", \"x\": \"Social type\", \"y\": \"BAGcls\", \"xref\": \"x1\", \"yref\": \"y1\", \"font\": {\"color\": \"#000000\"}, \"showarrow\": false}, {\"text\": \"0.598177077921\", \"x\": \"RoadNet+Social total\", \"y\": \"BAGcls\", \"xref\": \"x1\", \"yref\": \"y1\", \"font\": {\"color\": \"#000000\"}, \"showarrow\": false}, {\"text\": \"0.62714048289\", \"x\": \"RoadNet+Social type\", \"y\": \"BAGcls\", \"xref\": \"x1\", \"yref\": \"y1\", \"font\": {\"color\": \"#000000\"}, \"showarrow\": false}, {\"text\": \"0.591214592465\", \"x\": \"RoadNet\", \"y\": \"BAGreg\", \"xref\": \"x1\", \"yref\": \"y1\", \"font\": {\"color\": \"#000000\"}, \"showarrow\": false}, {\"text\": \"0.493477367418\", \"x\": \"Social total\", \"y\": \"BAGreg\", \"xref\": \"x1\", \"yref\": \"y1\", \"font\": {\"color\": \"#000000\"}, \"showarrow\": false}, {\"text\": \"0.517351108101\", \"x\": \"Social type\", \"y\": \"BAGreg\", \"xref\": \"x1\", \"yref\": \"y1\", \"font\": {\"color\": \"#000000\"}, \"showarrow\": false}, {\"text\": \"0.604437615944\", \"x\": \"RoadNet+Social total\", \"y\": \"BAGreg\", \"xref\": \"x1\", \"yref\": \"y1\", \"font\": {\"color\": \"#000000\"}, \"showarrow\": false}, {\"text\": \"0.567617223051\", \"x\": \"RoadNet+Social type\", \"y\": \"BAGreg\", \"xref\": \"x1\", \"yref\": \"y1\", \"font\": {\"color\": \"#000000\"}, \"showarrow\": false}, {\"text\": \"0.584116153307\", \"x\": \"RoadNet\", \"y\": \"GDBcls\", \"xref\": \"x1\", \"yref\": \"y1\", \"font\": {\"color\": \"#000000\"}, \"showarrow\": false}, {\"text\": \"0.532705359437\", \"x\": \"Social total\", \"y\": \"GDBcls\", \"xref\": \"x1\", \"yref\": \"y1\", \"font\": {\"color\": \"#000000\"}, \"showarrow\": false}, {\"text\": \"0.600128205858\", \"x\": \"Social type\", \"y\": \"GDBcls\", \"xref\": \"x1\", \"yref\": \"y1\", \"font\": {\"color\": \"#000000\"}, \"showarrow\": false}, {\"text\": \"0.597919851921\", \"x\": \"RoadNet+Social total\", \"y\": \"GDBcls\", \"xref\": \"x1\", \"yref\": \"y1\", \"font\": {\"color\": \"#000000\"}, \"showarrow\": false}, {\"text\": \"0.624862006417\", \"x\": \"RoadNet+Social type\", \"y\": \"GDBcls\", \"xref\": \"x1\", \"yref\": \"y1\", \"font\": {\"color\": \"#000000\"}, \"showarrow\": false}, {\"text\": \"0.587489000813\", \"x\": \"RoadNet\", \"y\": \"GDBreg\", \"xref\": \"x1\", \"yref\": \"y1\", \"font\": {\"color\": \"#000000\"}, \"showarrow\": false}, {\"text\": \"0.46557095963\", \"x\": \"Social total\", \"y\": \"GDBreg\", \"xref\": \"x1\", \"yref\": \"y1\", \"font\": {\"color\": \"#000000\"}, \"showarrow\": false}, {\"text\": \"0.513225565453\", \"x\": \"Social type\", \"y\": \"GDBreg\", \"xref\": \"x1\", \"yref\": \"y1\", \"font\": {\"color\": \"#000000\"}, \"showarrow\": false}, {\"text\": \"0.604857308497\", \"x\": \"RoadNet+Social total\", \"y\": \"GDBreg\", \"xref\": \"x1\", \"yref\": \"y1\", \"font\": {\"color\": \"#000000\"}, \"showarrow\": false}, {\"text\": \"0.555311814196\", \"x\": \"RoadNet+Social type\", \"y\": \"GDBreg\", \"xref\": \"x1\", \"yref\": \"y1\", \"font\": {\"color\": \"#000000\"}, \"showarrow\": false}, {\"text\": \"0.550179567195\", \"x\": \"RoadNet\", \"y\": \"XGBcls\", \"xref\": \"x1\", \"yref\": \"y1\", \"font\": {\"color\": \"#000000\"}, \"showarrow\": false}, {\"text\": \"0.53260024468\", \"x\": \"Social total\", \"y\": \"XGBcls\", \"xref\": \"x1\", \"yref\": \"y1\", \"font\": {\"color\": \"#000000\"}, \"showarrow\": false}, {\"text\": \"0.577029094597\", \"x\": \"Social type\", \"y\": \"XGBcls\", \"xref\": \"x1\", \"yref\": \"y1\", \"font\": {\"color\": \"#000000\"}, \"showarrow\": false}, {\"text\": \"0.597400156857\", \"x\": \"RoadNet+Social total\", \"y\": \"XGBcls\", \"xref\": \"x1\", \"yref\": \"y1\", \"font\": {\"color\": \"#000000\"}, \"showarrow\": false}, {\"text\": \"0.633557635616\", \"x\": \"RoadNet+Social type\", \"y\": \"XGBcls\", \"xref\": \"x1\", \"yref\": \"y1\", \"font\": {\"color\": \"#000000\"}, \"showarrow\": false}, {\"text\": \"0.559080686742\", \"x\": \"RoadNet\", \"y\": \"XGBreg\", \"xref\": \"x1\", \"yref\": \"y1\", \"font\": {\"color\": \"#000000\"}, \"showarrow\": false}, {\"text\": \"0.462333217776\", \"x\": \"Social total\", \"y\": \"XGBreg\", \"xref\": \"x1\", \"yref\": \"y1\", \"font\": {\"color\": \"#000000\"}, \"showarrow\": false}, {\"text\": \"0.546779738991\", \"x\": \"Social type\", \"y\": \"XGBreg\", \"xref\": \"x1\", \"yref\": \"y1\", \"font\": {\"color\": \"#000000\"}, \"showarrow\": false}, {\"text\": \"0.58189462075\", \"x\": \"RoadNet+Social total\", \"y\": \"XGBreg\", \"xref\": \"x1\", \"yref\": \"y1\", \"font\": {\"color\": \"#000000\"}, \"showarrow\": false}, {\"text\": \"0.565515062291\", \"x\": \"RoadNet+Social type\", \"y\": \"XGBreg\", \"xref\": \"x1\", \"yref\": \"y1\", \"font\": {\"color\": \"#000000\"}, \"showarrow\": false}], \"xaxis\": {\"ticks\": \"\", \"dtick\": 1, \"side\": \"top\", \"gridcolor\": \"rgb(0, 0, 0)\"}, \"yaxis\": {\"ticks\": \"\", \"dtick\": 1, \"ticksuffix\": \"  \", \"autorange\": \"reversed\"}}, {\"showLink\": true, \"linkText\": \"Export to plot.ly\"})});</script>"
      ],
      "text/vnd.plotly.v1+html": [
       "<div id=\"49c3ce2f-6975-4be1-a20a-a4c1f5bf6e09\" style=\"height: 525px; width: 100%;\" class=\"plotly-graph-div\"></div><script type=\"text/javascript\">require([\"plotly\"], function(Plotly) { window.PLOTLYENV=window.PLOTLYENV || {};window.PLOTLYENV.BASE_URL=\"https://plot.ly\";Plotly.newPlot(\"49c3ce2f-6975-4be1-a20a-a4c1f5bf6e09\", [{\"type\": \"heatmap\", \"z\": [[0.2868586012276497, 0.2868586012276497, 0.2868586012276497, 0.2868586012276497, 0.2868586012276497], [0.5372237214226729, 0.4010912929673949, 0.4496372235087079, 0.5935122301498978, 0.42029958826651326], [0.2868586012276497, 0.2868586012276497, 0.2868586012276497, 0.2868586012276497, 0.2868586012276497], [0.5248187850908512, 0.3169348481959396, 0.4640282555996498, 0.5513424740930573, 0.5659600828580339], [0.5581329846183163, 0.4881978781480944, 0.4991819002477076, 0.5800815628415998, 0.5649566303922955], [0.5509795377008321, 0.4826299300515872, 0.5216791995208357, 0.5562358698133452, 0.5653231534878307], [0.5181664611217399, 0.3649682076052843, 0.435282801498807, 0.524820293547599, 0.5460884425424533], [0.619952556059131, 0.4627266941352143, 0.4769878061728467, 0.6049801024814375, 0.557175316644715], [0.5416575947596216, 0.3527134401572292, 0.46691019204598144, 0.5697410390510745, 0.5342371180021291], [0.5928708524952737, 0.5152353751050756, 0.49027150793068913, 0.6020968974817017, 0.5330011208322802], [0.42429118208044764, 0.4185364590731987, 0.4501026491314052, 0.5504699563545793, 0.5295237014624817], [0.4725078763527083, 0.4535664913572301, 0.48590642762592057, 0.5404822825780738, 0.5164803716624442], [0.5102274629007366, 0.3419432098999508, 0.3845752433989242, 0.5032874744645934, 0.45776175932435015], [0.6000437507620453, 0.5240957256424688, 0.5884676791338538, 0.6053574409061315, 0.6062231666769065], [0.6021420668498063, 0.468804427195742, 0.5092122218692116, 0.6116241142310503, 0.5669630628306183], [0.4328821678634607, 0.40716173536675654, 0.41153630735501034, 0.4508830166561526, 0.46434011530908226], [0.39149088704212376, 0.37009163196123857, 0.3883651017604777, 0.4559671919069167, 0.4563538266832228], [0.5877514692569659, 0.49659429023276214, 0.5925408510912964, 0.5981770779209554, 0.6271404828895112], [0.591214592464862, 0.4934773674176756, 0.5173511081010499, 0.6044376159436575, 0.5676172230509099], [0.5841161533072039, 0.532705359436932, 0.6001282058579165, 0.5979198519213553, 0.6248620064171122], [0.5874890008133633, 0.4655709596298304, 0.5132255654527885, 0.6048573084968691, 0.5553118141962318], [0.5501795671949051, 0.5326002446795312, 0.5770290945974188, 0.5974001568571105, 0.6335576356156286], [0.5590806867415898, 0.4623332177762542, 0.5467797389909934, 0.5818946207504329, 0.5655150622910575]], \"x\": [\"RoadNet\", \"Social total\", \"Social type\", \"RoadNet+Social total\", \"RoadNet+Social type\"], \"y\": [\"majority_vote\", \"ols\", \"lasso\", \"ridge\", \"logistics\", \"linearSVM\", \"linearSVR\", \"SVM\", \"SVR\", \"MLPcls\", \"MLPreg\", \"DTcls\", \"DTreg\", \"RFcls\", \"RFreg\", \"ADAcls\", \"ADAreg\", \"BAGcls\", \"BAGreg\", \"GDBcls\", \"GDBreg\", \"XGBcls\", \"XGBreg\"], \"colorscale\": \"magma\", \"showscale\": false}], {\"annotations\": [{\"text\": \"0.286858601228\", \"x\": \"RoadNet\", \"y\": \"majority_vote\", \"xref\": \"x1\", \"yref\": \"y1\", \"font\": {\"color\": \"#000000\"}, \"showarrow\": false}, {\"text\": \"0.286858601228\", \"x\": \"Social total\", \"y\": \"majority_vote\", \"xref\": \"x1\", \"yref\": \"y1\", \"font\": {\"color\": \"#000000\"}, \"showarrow\": false}, {\"text\": \"0.286858601228\", \"x\": \"Social type\", \"y\": \"majority_vote\", \"xref\": \"x1\", \"yref\": \"y1\", \"font\": {\"color\": \"#000000\"}, \"showarrow\": false}, {\"text\": \"0.286858601228\", \"x\": \"RoadNet+Social total\", \"y\": \"majority_vote\", \"xref\": \"x1\", \"yref\": \"y1\", \"font\": {\"color\": \"#000000\"}, \"showarrow\": false}, {\"text\": \"0.286858601228\", \"x\": \"RoadNet+Social type\", \"y\": \"majority_vote\", \"xref\": \"x1\", \"yref\": \"y1\", \"font\": {\"color\": \"#000000\"}, \"showarrow\": false}, {\"text\": \"0.537223721423\", \"x\": \"RoadNet\", \"y\": \"ols\", \"xref\": \"x1\", \"yref\": \"y1\", \"font\": {\"color\": \"#000000\"}, \"showarrow\": false}, {\"text\": \"0.401091292967\", \"x\": \"Social total\", \"y\": \"ols\", \"xref\": \"x1\", \"yref\": \"y1\", \"font\": {\"color\": \"#000000\"}, \"showarrow\": false}, {\"text\": \"0.449637223509\", \"x\": \"Social type\", \"y\": \"ols\", \"xref\": \"x1\", \"yref\": \"y1\", \"font\": {\"color\": \"#000000\"}, \"showarrow\": false}, {\"text\": \"0.59351223015\", \"x\": \"RoadNet+Social total\", \"y\": \"ols\", \"xref\": \"x1\", \"yref\": \"y1\", \"font\": {\"color\": \"#000000\"}, \"showarrow\": false}, {\"text\": \"0.420299588267\", \"x\": \"RoadNet+Social type\", \"y\": \"ols\", \"xref\": \"x1\", \"yref\": \"y1\", \"font\": {\"color\": \"#000000\"}, \"showarrow\": false}, {\"text\": \"0.286858601228\", \"x\": \"RoadNet\", \"y\": \"lasso\", \"xref\": \"x1\", \"yref\": \"y1\", \"font\": {\"color\": \"#000000\"}, \"showarrow\": false}, {\"text\": \"0.286858601228\", \"x\": \"Social total\", \"y\": \"lasso\", \"xref\": \"x1\", \"yref\": \"y1\", \"font\": {\"color\": \"#000000\"}, \"showarrow\": false}, {\"text\": \"0.286858601228\", \"x\": \"Social type\", \"y\": \"lasso\", \"xref\": \"x1\", \"yref\": \"y1\", \"font\": {\"color\": \"#000000\"}, \"showarrow\": false}, {\"text\": \"0.286858601228\", \"x\": \"RoadNet+Social total\", \"y\": \"lasso\", \"xref\": \"x1\", \"yref\": \"y1\", \"font\": {\"color\": \"#000000\"}, \"showarrow\": false}, {\"text\": \"0.286858601228\", \"x\": \"RoadNet+Social type\", \"y\": \"lasso\", \"xref\": \"x1\", \"yref\": \"y1\", \"font\": {\"color\": \"#000000\"}, \"showarrow\": false}, {\"text\": \"0.524818785091\", \"x\": \"RoadNet\", \"y\": \"ridge\", \"xref\": \"x1\", \"yref\": \"y1\", \"font\": {\"color\": \"#000000\"}, \"showarrow\": false}, {\"text\": \"0.316934848196\", \"x\": \"Social total\", \"y\": \"ridge\", \"xref\": \"x1\", \"yref\": \"y1\", \"font\": {\"color\": \"#000000\"}, \"showarrow\": false}, {\"text\": \"0.4640282556\", \"x\": \"Social type\", \"y\": \"ridge\", \"xref\": \"x1\", \"yref\": \"y1\", \"font\": {\"color\": \"#000000\"}, \"showarrow\": false}, {\"text\": \"0.551342474093\", \"x\": \"RoadNet+Social total\", \"y\": \"ridge\", \"xref\": \"x1\", \"yref\": \"y1\", \"font\": {\"color\": \"#000000\"}, \"showarrow\": false}, {\"text\": \"0.565960082858\", \"x\": \"RoadNet+Social type\", \"y\": \"ridge\", \"xref\": \"x1\", \"yref\": \"y1\", \"font\": {\"color\": \"#000000\"}, \"showarrow\": false}, {\"text\": \"0.558132984618\", \"x\": \"RoadNet\", \"y\": \"logistics\", \"xref\": \"x1\", \"yref\": \"y1\", \"font\": {\"color\": \"#000000\"}, \"showarrow\": false}, {\"text\": \"0.488197878148\", \"x\": \"Social total\", \"y\": \"logistics\", \"xref\": \"x1\", \"yref\": \"y1\", \"font\": {\"color\": \"#000000\"}, \"showarrow\": false}, {\"text\": \"0.499181900248\", \"x\": \"Social type\", \"y\": \"logistics\", \"xref\": \"x1\", \"yref\": \"y1\", \"font\": {\"color\": \"#000000\"}, \"showarrow\": false}, {\"text\": \"0.580081562842\", \"x\": \"RoadNet+Social total\", \"y\": \"logistics\", \"xref\": \"x1\", \"yref\": \"y1\", \"font\": {\"color\": \"#000000\"}, \"showarrow\": false}, {\"text\": \"0.564956630392\", \"x\": \"RoadNet+Social type\", \"y\": \"logistics\", \"xref\": \"x1\", \"yref\": \"y1\", \"font\": {\"color\": \"#000000\"}, \"showarrow\": false}, {\"text\": \"0.550979537701\", \"x\": \"RoadNet\", \"y\": \"linearSVM\", \"xref\": \"x1\", \"yref\": \"y1\", \"font\": {\"color\": \"#000000\"}, \"showarrow\": false}, {\"text\": \"0.482629930052\", \"x\": \"Social total\", \"y\": \"linearSVM\", \"xref\": \"x1\", \"yref\": \"y1\", \"font\": {\"color\": \"#000000\"}, \"showarrow\": false}, {\"text\": \"0.521679199521\", \"x\": \"Social type\", \"y\": \"linearSVM\", \"xref\": \"x1\", \"yref\": \"y1\", \"font\": {\"color\": \"#000000\"}, \"showarrow\": false}, {\"text\": \"0.556235869813\", \"x\": \"RoadNet+Social total\", \"y\": \"linearSVM\", \"xref\": \"x1\", \"yref\": \"y1\", \"font\": {\"color\": \"#000000\"}, \"showarrow\": false}, {\"text\": \"0.565323153488\", \"x\": \"RoadNet+Social type\", \"y\": \"linearSVM\", \"xref\": \"x1\", \"yref\": \"y1\", \"font\": {\"color\": \"#000000\"}, \"showarrow\": false}, {\"text\": \"0.518166461122\", \"x\": \"RoadNet\", \"y\": \"linearSVR\", \"xref\": \"x1\", \"yref\": \"y1\", \"font\": {\"color\": \"#000000\"}, \"showarrow\": false}, {\"text\": \"0.364968207605\", \"x\": \"Social total\", \"y\": \"linearSVR\", \"xref\": \"x1\", \"yref\": \"y1\", \"font\": {\"color\": \"#000000\"}, \"showarrow\": false}, {\"text\": \"0.435282801499\", \"x\": \"Social type\", \"y\": \"linearSVR\", \"xref\": \"x1\", \"yref\": \"y1\", \"font\": {\"color\": \"#000000\"}, \"showarrow\": false}, {\"text\": \"0.524820293548\", \"x\": \"RoadNet+Social total\", \"y\": \"linearSVR\", \"xref\": \"x1\", \"yref\": \"y1\", \"font\": {\"color\": \"#000000\"}, \"showarrow\": false}, {\"text\": \"0.546088442542\", \"x\": \"RoadNet+Social type\", \"y\": \"linearSVR\", \"xref\": \"x1\", \"yref\": \"y1\", \"font\": {\"color\": \"#000000\"}, \"showarrow\": false}, {\"text\": \"0.619952556059\", \"x\": \"RoadNet\", \"y\": \"SVM\", \"xref\": \"x1\", \"yref\": \"y1\", \"font\": {\"color\": \"#000000\"}, \"showarrow\": false}, {\"text\": \"0.462726694135\", \"x\": \"Social total\", \"y\": \"SVM\", \"xref\": \"x1\", \"yref\": \"y1\", \"font\": {\"color\": \"#000000\"}, \"showarrow\": false}, {\"text\": \"0.476987806173\", \"x\": \"Social type\", \"y\": \"SVM\", \"xref\": \"x1\", \"yref\": \"y1\", \"font\": {\"color\": \"#000000\"}, \"showarrow\": false}, {\"text\": \"0.604980102481\", \"x\": \"RoadNet+Social total\", \"y\": \"SVM\", \"xref\": \"x1\", \"yref\": \"y1\", \"font\": {\"color\": \"#000000\"}, \"showarrow\": false}, {\"text\": \"0.557175316645\", \"x\": \"RoadNet+Social type\", \"y\": \"SVM\", \"xref\": \"x1\", \"yref\": \"y1\", \"font\": {\"color\": \"#000000\"}, \"showarrow\": false}, {\"text\": \"0.54165759476\", \"x\": \"RoadNet\", \"y\": \"SVR\", \"xref\": \"x1\", \"yref\": \"y1\", \"font\": {\"color\": \"#000000\"}, \"showarrow\": false}, {\"text\": \"0.352713440157\", \"x\": \"Social total\", \"y\": \"SVR\", \"xref\": \"x1\", \"yref\": \"y1\", \"font\": {\"color\": \"#000000\"}, \"showarrow\": false}, {\"text\": \"0.466910192046\", \"x\": \"Social type\", \"y\": \"SVR\", \"xref\": \"x1\", \"yref\": \"y1\", \"font\": {\"color\": \"#000000\"}, \"showarrow\": false}, {\"text\": \"0.569741039051\", \"x\": \"RoadNet+Social total\", \"y\": \"SVR\", \"xref\": \"x1\", \"yref\": \"y1\", \"font\": {\"color\": \"#000000\"}, \"showarrow\": false}, {\"text\": \"0.534237118002\", \"x\": \"RoadNet+Social type\", \"y\": \"SVR\", \"xref\": \"x1\", \"yref\": \"y1\", \"font\": {\"color\": \"#000000\"}, \"showarrow\": false}, {\"text\": \"0.592870852495\", \"x\": \"RoadNet\", \"y\": \"MLPcls\", \"xref\": \"x1\", \"yref\": \"y1\", \"font\": {\"color\": \"#000000\"}, \"showarrow\": false}, {\"text\": \"0.515235375105\", \"x\": \"Social total\", \"y\": \"MLPcls\", \"xref\": \"x1\", \"yref\": \"y1\", \"font\": {\"color\": \"#000000\"}, \"showarrow\": false}, {\"text\": \"0.490271507931\", \"x\": \"Social type\", \"y\": \"MLPcls\", \"xref\": \"x1\", \"yref\": \"y1\", \"font\": {\"color\": \"#000000\"}, \"showarrow\": false}, {\"text\": \"0.602096897482\", \"x\": \"RoadNet+Social total\", \"y\": \"MLPcls\", \"xref\": \"x1\", \"yref\": \"y1\", \"font\": {\"color\": \"#000000\"}, \"showarrow\": false}, {\"text\": \"0.533001120832\", \"x\": \"RoadNet+Social type\", \"y\": \"MLPcls\", \"xref\": \"x1\", \"yref\": \"y1\", \"font\": {\"color\": \"#000000\"}, \"showarrow\": false}, {\"text\": \"0.42429118208\", \"x\": \"RoadNet\", \"y\": \"MLPreg\", \"xref\": \"x1\", \"yref\": \"y1\", \"font\": {\"color\": \"#000000\"}, \"showarrow\": false}, {\"text\": \"0.418536459073\", \"x\": \"Social total\", \"y\": \"MLPreg\", \"xref\": \"x1\", \"yref\": \"y1\", \"font\": {\"color\": \"#000000\"}, \"showarrow\": false}, {\"text\": \"0.450102649131\", \"x\": \"Social type\", \"y\": \"MLPreg\", \"xref\": \"x1\", \"yref\": \"y1\", \"font\": {\"color\": \"#000000\"}, \"showarrow\": false}, {\"text\": \"0.550469956355\", \"x\": \"RoadNet+Social total\", \"y\": \"MLPreg\", \"xref\": \"x1\", \"yref\": \"y1\", \"font\": {\"color\": \"#000000\"}, \"showarrow\": false}, {\"text\": \"0.529523701462\", \"x\": \"RoadNet+Social type\", \"y\": \"MLPreg\", \"xref\": \"x1\", \"yref\": \"y1\", \"font\": {\"color\": \"#000000\"}, \"showarrow\": false}, {\"text\": \"0.472507876353\", \"x\": \"RoadNet\", \"y\": \"DTcls\", \"xref\": \"x1\", \"yref\": \"y1\", \"font\": {\"color\": \"#000000\"}, \"showarrow\": false}, {\"text\": \"0.453566491357\", \"x\": \"Social total\", \"y\": \"DTcls\", \"xref\": \"x1\", \"yref\": \"y1\", \"font\": {\"color\": \"#000000\"}, \"showarrow\": false}, {\"text\": \"0.485906427626\", \"x\": \"Social type\", \"y\": \"DTcls\", \"xref\": \"x1\", \"yref\": \"y1\", \"font\": {\"color\": \"#000000\"}, \"showarrow\": false}, {\"text\": \"0.540482282578\", \"x\": \"RoadNet+Social total\", \"y\": \"DTcls\", \"xref\": \"x1\", \"yref\": \"y1\", \"font\": {\"color\": \"#000000\"}, \"showarrow\": false}, {\"text\": \"0.516480371662\", \"x\": \"RoadNet+Social type\", \"y\": \"DTcls\", \"xref\": \"x1\", \"yref\": \"y1\", \"font\": {\"color\": \"#000000\"}, \"showarrow\": false}, {\"text\": \"0.510227462901\", \"x\": \"RoadNet\", \"y\": \"DTreg\", \"xref\": \"x1\", \"yref\": \"y1\", \"font\": {\"color\": \"#000000\"}, \"showarrow\": false}, {\"text\": \"0.3419432099\", \"x\": \"Social total\", \"y\": \"DTreg\", \"xref\": \"x1\", \"yref\": \"y1\", \"font\": {\"color\": \"#000000\"}, \"showarrow\": false}, {\"text\": \"0.384575243399\", \"x\": \"Social type\", \"y\": \"DTreg\", \"xref\": \"x1\", \"yref\": \"y1\", \"font\": {\"color\": \"#000000\"}, \"showarrow\": false}, {\"text\": \"0.503287474465\", \"x\": \"RoadNet+Social total\", \"y\": \"DTreg\", \"xref\": \"x1\", \"yref\": \"y1\", \"font\": {\"color\": \"#000000\"}, \"showarrow\": false}, {\"text\": \"0.457761759324\", \"x\": \"RoadNet+Social type\", \"y\": \"DTreg\", \"xref\": \"x1\", \"yref\": \"y1\", \"font\": {\"color\": \"#000000\"}, \"showarrow\": false}, {\"text\": \"0.600043750762\", \"x\": \"RoadNet\", \"y\": \"RFcls\", \"xref\": \"x1\", \"yref\": \"y1\", \"font\": {\"color\": \"#000000\"}, \"showarrow\": false}, {\"text\": \"0.524095725642\", \"x\": \"Social total\", \"y\": \"RFcls\", \"xref\": \"x1\", \"yref\": \"y1\", \"font\": {\"color\": \"#000000\"}, \"showarrow\": false}, {\"text\": \"0.588467679134\", \"x\": \"Social type\", \"y\": \"RFcls\", \"xref\": \"x1\", \"yref\": \"y1\", \"font\": {\"color\": \"#000000\"}, \"showarrow\": false}, {\"text\": \"0.605357440906\", \"x\": \"RoadNet+Social total\", \"y\": \"RFcls\", \"xref\": \"x1\", \"yref\": \"y1\", \"font\": {\"color\": \"#000000\"}, \"showarrow\": false}, {\"text\": \"0.606223166677\", \"x\": \"RoadNet+Social type\", \"y\": \"RFcls\", \"xref\": \"x1\", \"yref\": \"y1\", \"font\": {\"color\": \"#000000\"}, \"showarrow\": false}, {\"text\": \"0.60214206685\", \"x\": \"RoadNet\", \"y\": \"RFreg\", \"xref\": \"x1\", \"yref\": \"y1\", \"font\": {\"color\": \"#000000\"}, \"showarrow\": false}, {\"text\": \"0.468804427196\", \"x\": \"Social total\", \"y\": \"RFreg\", \"xref\": \"x1\", \"yref\": \"y1\", \"font\": {\"color\": \"#000000\"}, \"showarrow\": false}, {\"text\": \"0.509212221869\", \"x\": \"Social type\", \"y\": \"RFreg\", \"xref\": \"x1\", \"yref\": \"y1\", \"font\": {\"color\": \"#000000\"}, \"showarrow\": false}, {\"text\": \"0.611624114231\", \"x\": \"RoadNet+Social total\", \"y\": \"RFreg\", \"xref\": \"x1\", \"yref\": \"y1\", \"font\": {\"color\": \"#000000\"}, \"showarrow\": false}, {\"text\": \"0.566963062831\", \"x\": \"RoadNet+Social type\", \"y\": \"RFreg\", \"xref\": \"x1\", \"yref\": \"y1\", \"font\": {\"color\": \"#000000\"}, \"showarrow\": false}, {\"text\": \"0.432882167863\", \"x\": \"RoadNet\", \"y\": \"ADAcls\", \"xref\": \"x1\", \"yref\": \"y1\", \"font\": {\"color\": \"#000000\"}, \"showarrow\": false}, {\"text\": \"0.407161735367\", \"x\": \"Social total\", \"y\": \"ADAcls\", \"xref\": \"x1\", \"yref\": \"y1\", \"font\": {\"color\": \"#000000\"}, \"showarrow\": false}, {\"text\": \"0.411536307355\", \"x\": \"Social type\", \"y\": \"ADAcls\", \"xref\": \"x1\", \"yref\": \"y1\", \"font\": {\"color\": \"#000000\"}, \"showarrow\": false}, {\"text\": \"0.450883016656\", \"x\": \"RoadNet+Social total\", \"y\": \"ADAcls\", \"xref\": \"x1\", \"yref\": \"y1\", \"font\": {\"color\": \"#000000\"}, \"showarrow\": false}, {\"text\": \"0.464340115309\", \"x\": \"RoadNet+Social type\", \"y\": \"ADAcls\", \"xref\": \"x1\", \"yref\": \"y1\", \"font\": {\"color\": \"#000000\"}, \"showarrow\": false}, {\"text\": \"0.391490887042\", \"x\": \"RoadNet\", \"y\": \"ADAreg\", \"xref\": \"x1\", \"yref\": \"y1\", \"font\": {\"color\": \"#000000\"}, \"showarrow\": false}, {\"text\": \"0.370091631961\", \"x\": \"Social total\", \"y\": \"ADAreg\", \"xref\": \"x1\", \"yref\": \"y1\", \"font\": {\"color\": \"#000000\"}, \"showarrow\": false}, {\"text\": \"0.38836510176\", \"x\": \"Social type\", \"y\": \"ADAreg\", \"xref\": \"x1\", \"yref\": \"y1\", \"font\": {\"color\": \"#000000\"}, \"showarrow\": false}, {\"text\": \"0.455967191907\", \"x\": \"RoadNet+Social total\", \"y\": \"ADAreg\", \"xref\": \"x1\", \"yref\": \"y1\", \"font\": {\"color\": \"#000000\"}, \"showarrow\": false}, {\"text\": \"0.456353826683\", \"x\": \"RoadNet+Social type\", \"y\": \"ADAreg\", \"xref\": \"x1\", \"yref\": \"y1\", \"font\": {\"color\": \"#000000\"}, \"showarrow\": false}, {\"text\": \"0.587751469257\", \"x\": \"RoadNet\", \"y\": \"BAGcls\", \"xref\": \"x1\", \"yref\": \"y1\", \"font\": {\"color\": \"#000000\"}, \"showarrow\": false}, {\"text\": \"0.496594290233\", \"x\": \"Social total\", \"y\": \"BAGcls\", \"xref\": \"x1\", \"yref\": \"y1\", \"font\": {\"color\": \"#000000\"}, \"showarrow\": false}, {\"text\": \"0.592540851091\", \"x\": \"Social type\", \"y\": \"BAGcls\", \"xref\": \"x1\", \"yref\": \"y1\", \"font\": {\"color\": \"#000000\"}, \"showarrow\": false}, {\"text\": \"0.598177077921\", \"x\": \"RoadNet+Social total\", \"y\": \"BAGcls\", \"xref\": \"x1\", \"yref\": \"y1\", \"font\": {\"color\": \"#000000\"}, \"showarrow\": false}, {\"text\": \"0.62714048289\", \"x\": \"RoadNet+Social type\", \"y\": \"BAGcls\", \"xref\": \"x1\", \"yref\": \"y1\", \"font\": {\"color\": \"#000000\"}, \"showarrow\": false}, {\"text\": \"0.591214592465\", \"x\": \"RoadNet\", \"y\": \"BAGreg\", \"xref\": \"x1\", \"yref\": \"y1\", \"font\": {\"color\": \"#000000\"}, \"showarrow\": false}, {\"text\": \"0.493477367418\", \"x\": \"Social total\", \"y\": \"BAGreg\", \"xref\": \"x1\", \"yref\": \"y1\", \"font\": {\"color\": \"#000000\"}, \"showarrow\": false}, {\"text\": \"0.517351108101\", \"x\": \"Social type\", \"y\": \"BAGreg\", \"xref\": \"x1\", \"yref\": \"y1\", \"font\": {\"color\": \"#000000\"}, \"showarrow\": false}, {\"text\": \"0.604437615944\", \"x\": \"RoadNet+Social total\", \"y\": \"BAGreg\", \"xref\": \"x1\", \"yref\": \"y1\", \"font\": {\"color\": \"#000000\"}, \"showarrow\": false}, {\"text\": \"0.567617223051\", \"x\": \"RoadNet+Social type\", \"y\": \"BAGreg\", \"xref\": \"x1\", \"yref\": \"y1\", \"font\": {\"color\": \"#000000\"}, \"showarrow\": false}, {\"text\": \"0.584116153307\", \"x\": \"RoadNet\", \"y\": \"GDBcls\", \"xref\": \"x1\", \"yref\": \"y1\", \"font\": {\"color\": \"#000000\"}, \"showarrow\": false}, {\"text\": \"0.532705359437\", \"x\": \"Social total\", \"y\": \"GDBcls\", \"xref\": \"x1\", \"yref\": \"y1\", \"font\": {\"color\": \"#000000\"}, \"showarrow\": false}, {\"text\": \"0.600128205858\", \"x\": \"Social type\", \"y\": \"GDBcls\", \"xref\": \"x1\", \"yref\": \"y1\", \"font\": {\"color\": \"#000000\"}, \"showarrow\": false}, {\"text\": \"0.597919851921\", \"x\": \"RoadNet+Social total\", \"y\": \"GDBcls\", \"xref\": \"x1\", \"yref\": \"y1\", \"font\": {\"color\": \"#000000\"}, \"showarrow\": false}, {\"text\": \"0.624862006417\", \"x\": \"RoadNet+Social type\", \"y\": \"GDBcls\", \"xref\": \"x1\", \"yref\": \"y1\", \"font\": {\"color\": \"#000000\"}, \"showarrow\": false}, {\"text\": \"0.587489000813\", \"x\": \"RoadNet\", \"y\": \"GDBreg\", \"xref\": \"x1\", \"yref\": \"y1\", \"font\": {\"color\": \"#000000\"}, \"showarrow\": false}, {\"text\": \"0.46557095963\", \"x\": \"Social total\", \"y\": \"GDBreg\", \"xref\": \"x1\", \"yref\": \"y1\", \"font\": {\"color\": \"#000000\"}, \"showarrow\": false}, {\"text\": \"0.513225565453\", \"x\": \"Social type\", \"y\": \"GDBreg\", \"xref\": \"x1\", \"yref\": \"y1\", \"font\": {\"color\": \"#000000\"}, \"showarrow\": false}, {\"text\": \"0.604857308497\", \"x\": \"RoadNet+Social total\", \"y\": \"GDBreg\", \"xref\": \"x1\", \"yref\": \"y1\", \"font\": {\"color\": \"#000000\"}, \"showarrow\": false}, {\"text\": \"0.555311814196\", \"x\": \"RoadNet+Social type\", \"y\": \"GDBreg\", \"xref\": \"x1\", \"yref\": \"y1\", \"font\": {\"color\": \"#000000\"}, \"showarrow\": false}, {\"text\": \"0.550179567195\", \"x\": \"RoadNet\", \"y\": \"XGBcls\", \"xref\": \"x1\", \"yref\": \"y1\", \"font\": {\"color\": \"#000000\"}, \"showarrow\": false}, {\"text\": \"0.53260024468\", \"x\": \"Social total\", \"y\": \"XGBcls\", \"xref\": \"x1\", \"yref\": \"y1\", \"font\": {\"color\": \"#000000\"}, \"showarrow\": false}, {\"text\": \"0.577029094597\", \"x\": \"Social type\", \"y\": \"XGBcls\", \"xref\": \"x1\", \"yref\": \"y1\", \"font\": {\"color\": \"#000000\"}, \"showarrow\": false}, {\"text\": \"0.597400156857\", \"x\": \"RoadNet+Social total\", \"y\": \"XGBcls\", \"xref\": \"x1\", \"yref\": \"y1\", \"font\": {\"color\": \"#000000\"}, \"showarrow\": false}, {\"text\": \"0.633557635616\", \"x\": \"RoadNet+Social type\", \"y\": \"XGBcls\", \"xref\": \"x1\", \"yref\": \"y1\", \"font\": {\"color\": \"#000000\"}, \"showarrow\": false}, {\"text\": \"0.559080686742\", \"x\": \"RoadNet\", \"y\": \"XGBreg\", \"xref\": \"x1\", \"yref\": \"y1\", \"font\": {\"color\": \"#000000\"}, \"showarrow\": false}, {\"text\": \"0.462333217776\", \"x\": \"Social total\", \"y\": \"XGBreg\", \"xref\": \"x1\", \"yref\": \"y1\", \"font\": {\"color\": \"#000000\"}, \"showarrow\": false}, {\"text\": \"0.546779738991\", \"x\": \"Social type\", \"y\": \"XGBreg\", \"xref\": \"x1\", \"yref\": \"y1\", \"font\": {\"color\": \"#000000\"}, \"showarrow\": false}, {\"text\": \"0.58189462075\", \"x\": \"RoadNet+Social total\", \"y\": \"XGBreg\", \"xref\": \"x1\", \"yref\": \"y1\", \"font\": {\"color\": \"#000000\"}, \"showarrow\": false}, {\"text\": \"0.565515062291\", \"x\": \"RoadNet+Social type\", \"y\": \"XGBreg\", \"xref\": \"x1\", \"yref\": \"y1\", \"font\": {\"color\": \"#000000\"}, \"showarrow\": false}], \"xaxis\": {\"ticks\": \"\", \"dtick\": 1, \"side\": \"top\", \"gridcolor\": \"rgb(0, 0, 0)\"}, \"yaxis\": {\"ticks\": \"\", \"dtick\": 1, \"ticksuffix\": \"  \", \"autorange\": \"reversed\"}}, {\"showLink\": true, \"linkText\": \"Export to plot.ly\"})});</script>"
      ]
     },
     "metadata": {},
     "output_type": "display_data"
    }
   ],
   "source": [
    "fig = ff.create_annotated_heatmap(z=dtb.values, x=dtb.columns.tolist(), y=dtb.index.tolist(), colorscale='magma')\n",
    "fig['layout'].update(yaxis=dict(autorange='reversed'))\n",
    "iplot(fig)"
   ]
  },
  {
   "cell_type": "markdown",
   "metadata": {},
   "source": [
    "## error bar of top N solution"
   ]
  },
  {
   "cell_type": "code",
   "execution_count": 46,
   "metadata": {},
   "outputs": [
    {
     "name": "stdout",
     "output_type": "stream",
     "text": [
      "test_f1_weighted\n"
     ]
    },
    {
     "data": {
      "text/html": [
       "<div>\n",
       "<style>\n",
       "    .dataframe thead tr:only-child th {\n",
       "        text-align: right;\n",
       "    }\n",
       "\n",
       "    .dataframe thead th {\n",
       "        text-align: left;\n",
       "    }\n",
       "\n",
       "    .dataframe tbody tr th {\n",
       "        vertical-align: top;\n",
       "    }\n",
       "</style>\n",
       "<table border=\"1\" class=\"dataframe\">\n",
       "  <thead>\n",
       "    <tr style=\"text-align: right;\">\n",
       "      <th></th>\n",
       "      <th></th>\n",
       "      <th>test_f1_macro</th>\n",
       "      <th>test_f1_micro</th>\n",
       "      <th>test_f1_weighted</th>\n",
       "    </tr>\n",
       "    <tr>\n",
       "      <th>col_name</th>\n",
       "      <th>model</th>\n",
       "      <th></th>\n",
       "      <th></th>\n",
       "      <th></th>\n",
       "    </tr>\n",
       "  </thead>\n",
       "  <tbody>\n",
       "    <tr>\n",
       "      <th rowspan=\"3\" valign=\"top\">RoadNet+Social type</th>\n",
       "      <th>XGBcls</th>\n",
       "      <td>0.441093</td>\n",
       "      <td>0.656180</td>\n",
       "      <td>0.633558</td>\n",
       "    </tr>\n",
       "    <tr>\n",
       "      <th>BAGcls</th>\n",
       "      <td>0.422470</td>\n",
       "      <td>0.653933</td>\n",
       "      <td>0.627140</td>\n",
       "    </tr>\n",
       "    <tr>\n",
       "      <th>GDBcls</th>\n",
       "      <td>0.444058</td>\n",
       "      <td>0.647191</td>\n",
       "      <td>0.624862</td>\n",
       "    </tr>\n",
       "  </tbody>\n",
       "</table>\n",
       "</div>"
      ],
      "text/plain": [
       "                            test_f1_macro  test_f1_micro  test_f1_weighted\n",
       "col_name            model                                                 \n",
       "RoadNet+Social type XGBcls       0.441093       0.656180          0.633558\n",
       "                    BAGcls       0.422470       0.653933          0.627140\n",
       "                    GDBcls       0.444058       0.647191          0.624862"
      ]
     },
     "execution_count": 46,
     "metadata": {},
     "output_type": "execute_result"
    }
   ],
   "source": [
    "f1_type = f1_choices[0]\n",
    "print(f1_type)\n",
    "means_to_plot = means.sort_values(f1_type, ascending=False).head(3)\n",
    "index_to_plot = means_to_plot.index\n",
    "stds_to_plot = stds.loc[index_to_plot]\n",
    "\n",
    "means_to_plot"
   ]
  },
  {
   "cell_type": "code",
   "execution_count": 42,
   "metadata": {
    "scrolled": true
   },
   "outputs": [
    {
     "data": {
      "text/plain": [
       "<matplotlib.axes._subplots.AxesSubplot at 0x134f80b24e0>"
      ]
     },
     "execution_count": 42,
     "metadata": {},
     "output_type": "execute_result"
    },
    {
     "data": {
      "image/png": "[encoded data removed]",
      "text/plain": [
       "<matplotlib.figure.Figure at 0x134f7f6ac50>"
      ]
     },
     "metadata": {},
     "output_type": "display_data"
    }
   ],
   "source": [
    "means_to_plot.sort_values(f1_type).plot(kind='barh', xerr=stds_to_plot, figsize=(10,7))"
   ]
  },
  {
   "cell_type": "code",
   "execution_count": null,
   "metadata": {
    "collapsed": true
   },
   "outputs": [],
   "source": []
  },
  {
   "cell_type": "markdown",
   "metadata": {},
   "source": [
    "# Deprecated"
   ]
  },
  {
   "cell_type": "markdown",
   "metadata": {},
   "source": [
    "# for the top 3 solution, see if period, feature selection and scale help\n",
    "not really"
   ]
  },
  {
   "cell_type": "code",
   "execution_count": 186,
   "metadata": {
    "collapsed": true
   },
   "outputs": [],
   "source": [
    "cond1 = (all_run_res.model == 'XGBreg') & (all_run_res.col_name=='RoadNet+Segment NO_TOTAL')\n",
    "cond2 = (all_run_res.model == 'XGBcls') & (all_run_res.col_name=='RoadNet+Segment TOTAL')\n",
    "cond3 = (all_run_res.model == 'GDBcls') & (all_run_res.col_name=='RoadNet+Segment TOTAL')\n",
    "cond4 = (all_run_res.model == 'ols') & (all_run_res.col_name=='RoadNet+Segment TOTAL')\n",
    "\n",
    "slice_res = all_run_res[(cond1) | (cond2) | (cond3) | (cond4)].drop(['feature', 'total or by type', 'seed', 'kind', '# ftr remove', \n",
    "                  'train_acc', 'train_f1_macro', 'train_f1_micro', 'train_f1_weighted', 'train_mse',\n",
    "                  'test_acc', 'test_mse'],axis=1).sort_values(['col_name', 'model'])"
   ]
  },
  {
   "cell_type": "code",
   "execution_count": 187,
   "metadata": {
    "scrolled": true
   },
   "outputs": [
    {
     "data": {
      "text/html": [
       "<div>\n",
       "<style>\n",
       "    .dataframe thead tr:only-child th {\n",
       "        text-align: right;\n",
       "    }\n",
       "\n",
       "    .dataframe thead th {\n",
       "        text-align: left;\n",
       "    }\n",
       "\n",
       "    .dataframe tbody tr th {\n",
       "        vertical-align: top;\n",
       "    }\n",
       "</style>\n",
       "<table border=\"1\" class=\"dataframe\">\n",
       "  <thead>\n",
       "    <tr style=\"text-align: right;\">\n",
       "      <th></th>\n",
       "      <th></th>\n",
       "      <th></th>\n",
       "      <th></th>\n",
       "      <th></th>\n",
       "      <th>test_f1_macro</th>\n",
       "      <th>test_f1_micro</th>\n",
       "      <th>test_f1_weighted</th>\n",
       "    </tr>\n",
       "    <tr>\n",
       "      <th>model</th>\n",
       "      <th>col_name</th>\n",
       "      <th>time period</th>\n",
       "      <th>feature_select</th>\n",
       "      <th>scale</th>\n",
       "      <th></th>\n",
       "      <th></th>\n",
       "      <th></th>\n",
       "    </tr>\n",
       "  </thead>\n",
       "  <tbody>\n",
       "    <tr>\n",
       "      <th rowspan=\"12\" valign=\"top\">GDBcls</th>\n",
       "      <th rowspan=\"12\" valign=\"top\">RoadNet+Segment TOTAL</th>\n",
       "      <th rowspan=\"6\" valign=\"top\">~2014</th>\n",
       "      <th rowspan=\"2\" valign=\"top\">None</th>\n",
       "      <th>max-cutoff</th>\n",
       "      <td>0.325695</td>\n",
       "      <td>0.549206</td>\n",
       "      <td>0.523662</td>\n",
       "    </tr>\n",
       "    <tr>\n",
       "      <th>min-max</th>\n",
       "      <td>0.309382</td>\n",
       "      <td>0.538095</td>\n",
       "      <td>0.511942</td>\n",
       "    </tr>\n",
       "    <tr>\n",
       "      <th rowspan=\"2\" valign=\"top\">mrmr</th>\n",
       "      <th>max-cutoff</th>\n",
       "      <td>0.316096</td>\n",
       "      <td>0.552381</td>\n",
       "      <td>0.518190</td>\n",
       "    </tr>\n",
       "    <tr>\n",
       "      <th>min-max</th>\n",
       "      <td>0.312272</td>\n",
       "      <td>0.526984</td>\n",
       "      <td>0.500566</td>\n",
       "    </tr>\n",
       "    <tr>\n",
       "      <th rowspan=\"2\" valign=\"top\">rfecv_linsvc</th>\n",
       "      <th>max-cutoff</th>\n",
       "      <td>0.279320</td>\n",
       "      <td>0.514286</td>\n",
       "      <td>0.484688</td>\n",
       "    </tr>\n",
       "    <tr>\n",
       "      <th>min-max</th>\n",
       "      <td>0.275626</td>\n",
       "      <td>0.495238</td>\n",
       "      <td>0.468772</td>\n",
       "    </tr>\n",
       "    <tr>\n",
       "      <th rowspan=\"6\" valign=\"top\">~2016</th>\n",
       "      <th rowspan=\"2\" valign=\"top\">None</th>\n",
       "      <th>max-cutoff</th>\n",
       "      <td>0.310844</td>\n",
       "      <td>0.530159</td>\n",
       "      <td>0.504872</td>\n",
       "    </tr>\n",
       "    <tr>\n",
       "      <th>min-max</th>\n",
       "      <td>0.301714</td>\n",
       "      <td>0.523810</td>\n",
       "      <td>0.495969</td>\n",
       "    </tr>\n",
       "    <tr>\n",
       "      <th rowspan=\"2\" valign=\"top\">mrmr</th>\n",
       "      <th>max-cutoff</th>\n",
       "      <td>0.301570</td>\n",
       "      <td>0.520635</td>\n",
       "      <td>0.492635</td>\n",
       "    </tr>\n",
       "    <tr>\n",
       "      <th>min-max</th>\n",
       "      <td>0.314554</td>\n",
       "      <td>0.522222</td>\n",
       "      <td>0.494691</td>\n",
       "    </tr>\n",
       "    <tr>\n",
       "      <th rowspan=\"2\" valign=\"top\">rfecv_linsvc</th>\n",
       "      <th>max-cutoff</th>\n",
       "      <td>0.297601</td>\n",
       "      <td>0.501587</td>\n",
       "      <td>0.482183</td>\n",
       "    </tr>\n",
       "    <tr>\n",
       "      <th>min-max</th>\n",
       "      <td>0.288727</td>\n",
       "      <td>0.512698</td>\n",
       "      <td>0.479516</td>\n",
       "    </tr>\n",
       "    <tr>\n",
       "      <th rowspan=\"12\" valign=\"top\">XGBcls</th>\n",
       "      <th rowspan=\"12\" valign=\"top\">RoadNet+Segment TOTAL</th>\n",
       "      <th rowspan=\"6\" valign=\"top\">~2014</th>\n",
       "      <th rowspan=\"2\" valign=\"top\">None</th>\n",
       "      <th>max-cutoff</th>\n",
       "      <td>0.319983</td>\n",
       "      <td>0.527778</td>\n",
       "      <td>0.516758</td>\n",
       "    </tr>\n",
       "    <tr>\n",
       "      <th>min-max</th>\n",
       "      <td>0.319983</td>\n",
       "      <td>0.527778</td>\n",
       "      <td>0.516758</td>\n",
       "    </tr>\n",
       "    <tr>\n",
       "      <th rowspan=\"2\" valign=\"top\">mrmr</th>\n",
       "      <th>max-cutoff</th>\n",
       "      <td>0.319983</td>\n",
       "      <td>0.527778</td>\n",
       "      <td>0.516758</td>\n",
       "    </tr>\n",
       "    <tr>\n",
       "      <th>min-max</th>\n",
       "      <td>0.319983</td>\n",
       "      <td>0.527778</td>\n",
       "      <td>0.516758</td>\n",
       "    </tr>\n",
       "    <tr>\n",
       "      <th rowspan=\"2\" valign=\"top\">rfecv_linsvc</th>\n",
       "      <th>max-cutoff</th>\n",
       "      <td>0.292758</td>\n",
       "      <td>0.503968</td>\n",
       "      <td>0.477009</td>\n",
       "    </tr>\n",
       "    <tr>\n",
       "      <th>min-max</th>\n",
       "      <td>0.280266</td>\n",
       "      <td>0.507937</td>\n",
       "      <td>0.479342</td>\n",
       "    </tr>\n",
       "    <tr>\n",
       "      <th rowspan=\"6\" valign=\"top\">~2016</th>\n",
       "      <th rowspan=\"2\" valign=\"top\">None</th>\n",
       "      <th>max-cutoff</th>\n",
       "      <td>0.272686</td>\n",
       "      <td>0.484127</td>\n",
       "      <td>0.464453</td>\n",
       "    </tr>\n",
       "    <tr>\n",
       "      <th>min-max</th>\n",
       "      <td>0.272686</td>\n",
       "      <td>0.484127</td>\n",
       "      <td>0.464453</td>\n",
       "    </tr>\n",
       "    <tr>\n",
       "      <th rowspan=\"2\" valign=\"top\">mrmr</th>\n",
       "      <th>max-cutoff</th>\n",
       "      <td>0.272686</td>\n",
       "      <td>0.484127</td>\n",
       "      <td>0.464453</td>\n",
       "    </tr>\n",
       "    <tr>\n",
       "      <th>min-max</th>\n",
       "      <td>0.272686</td>\n",
       "      <td>0.484127</td>\n",
       "      <td>0.464453</td>\n",
       "    </tr>\n",
       "    <tr>\n",
       "      <th rowspan=\"2\" valign=\"top\">rfecv_linsvc</th>\n",
       "      <th>max-cutoff</th>\n",
       "      <td>0.287765</td>\n",
       "      <td>0.500000</td>\n",
       "      <td>0.481267</td>\n",
       "    </tr>\n",
       "    <tr>\n",
       "      <th>min-max</th>\n",
       "      <td>0.298830</td>\n",
       "      <td>0.492063</td>\n",
       "      <td>0.469673</td>\n",
       "    </tr>\n",
       "    <tr>\n",
       "      <th rowspan=\"12\" valign=\"top\">XGBreg</th>\n",
       "      <th rowspan=\"12\" valign=\"top\">RoadNet+Segment NO_TOTAL</th>\n",
       "      <th rowspan=\"6\" valign=\"top\">~2014</th>\n",
       "      <th rowspan=\"2\" valign=\"top\">None</th>\n",
       "      <th>max-cutoff</th>\n",
       "      <td>0.317581</td>\n",
       "      <td>0.552381</td>\n",
       "      <td>0.532411</td>\n",
       "    </tr>\n",
       "    <tr>\n",
       "      <th>min-max</th>\n",
       "      <td>0.332753</td>\n",
       "      <td>0.555556</td>\n",
       "      <td>0.532707</td>\n",
       "    </tr>\n",
       "    <tr>\n",
       "      <th rowspan=\"2\" valign=\"top\">mrmr</th>\n",
       "      <th>max-cutoff</th>\n",
       "      <td>0.332753</td>\n",
       "      <td>0.555556</td>\n",
       "      <td>0.532707</td>\n",
       "    </tr>\n",
       "    <tr>\n",
       "      <th>min-max</th>\n",
       "      <td>0.332753</td>\n",
       "      <td>0.555556</td>\n",
       "      <td>0.532707</td>\n",
       "    </tr>\n",
       "    <tr>\n",
       "      <th rowspan=\"2\" valign=\"top\">rfecv_linsvc</th>\n",
       "      <th>max-cutoff</th>\n",
       "      <td>0.268482</td>\n",
       "      <td>0.495238</td>\n",
       "      <td>0.463545</td>\n",
       "    </tr>\n",
       "    <tr>\n",
       "      <th>min-max</th>\n",
       "      <td>0.254113</td>\n",
       "      <td>0.469841</td>\n",
       "      <td>0.439117</td>\n",
       "    </tr>\n",
       "    <tr>\n",
       "      <th rowspan=\"6\" valign=\"top\">~2016</th>\n",
       "      <th rowspan=\"2\" valign=\"top\">None</th>\n",
       "      <th>max-cutoff</th>\n",
       "      <td>0.293666</td>\n",
       "      <td>0.530159</td>\n",
       "      <td>0.500678</td>\n",
       "    </tr>\n",
       "    <tr>\n",
       "      <th>min-max</th>\n",
       "      <td>0.287858</td>\n",
       "      <td>0.530159</td>\n",
       "      <td>0.499794</td>\n",
       "    </tr>\n",
       "    <tr>\n",
       "      <th rowspan=\"2\" valign=\"top\">mrmr</th>\n",
       "      <th>max-cutoff</th>\n",
       "      <td>0.287858</td>\n",
       "      <td>0.530159</td>\n",
       "      <td>0.499794</td>\n",
       "    </tr>\n",
       "    <tr>\n",
       "      <th>min-max</th>\n",
       "      <td>0.283026</td>\n",
       "      <td>0.515873</td>\n",
       "      <td>0.486165</td>\n",
       "    </tr>\n",
       "    <tr>\n",
       "      <th rowspan=\"2\" valign=\"top\">rfecv_linsvc</th>\n",
       "      <th>max-cutoff</th>\n",
       "      <td>0.250856</td>\n",
       "      <td>0.479365</td>\n",
       "      <td>0.438836</td>\n",
       "    </tr>\n",
       "    <tr>\n",
       "      <th>min-max</th>\n",
       "      <td>0.271155</td>\n",
       "      <td>0.511111</td>\n",
       "      <td>0.475077</td>\n",
       "    </tr>\n",
       "    <tr>\n",
       "      <th rowspan=\"12\" valign=\"top\">ols</th>\n",
       "      <th rowspan=\"12\" valign=\"top\">RoadNet+Segment TOTAL</th>\n",
       "      <th rowspan=\"6\" valign=\"top\">~2014</th>\n",
       "      <th rowspan=\"2\" valign=\"top\">None</th>\n",
       "      <th>max-cutoff</th>\n",
       "      <td>0.293364</td>\n",
       "      <td>0.519048</td>\n",
       "      <td>0.498411</td>\n",
       "    </tr>\n",
       "    <tr>\n",
       "      <th>min-max</th>\n",
       "      <td>0.300342</td>\n",
       "      <td>0.530159</td>\n",
       "      <td>0.509801</td>\n",
       "    </tr>\n",
       "    <tr>\n",
       "      <th rowspan=\"2\" valign=\"top\">mrmr</th>\n",
       "      <th>max-cutoff</th>\n",
       "      <td>0.300342</td>\n",
       "      <td>0.530159</td>\n",
       "      <td>0.509801</td>\n",
       "    </tr>\n",
       "    <tr>\n",
       "      <th>min-max</th>\n",
       "      <td>0.300342</td>\n",
       "      <td>0.530159</td>\n",
       "      <td>0.509801</td>\n",
       "    </tr>\n",
       "    <tr>\n",
       "      <th rowspan=\"2\" valign=\"top\">rfecv_linsvc</th>\n",
       "      <th>max-cutoff</th>\n",
       "      <td>0.258690</td>\n",
       "      <td>0.495238</td>\n",
       "      <td>0.457272</td>\n",
       "    </tr>\n",
       "    <tr>\n",
       "      <th>min-max</th>\n",
       "      <td>0.281312</td>\n",
       "      <td>0.526984</td>\n",
       "      <td>0.493704</td>\n",
       "    </tr>\n",
       "    <tr>\n",
       "      <th rowspan=\"6\" valign=\"top\">~2016</th>\n",
       "      <th rowspan=\"2\" valign=\"top\">None</th>\n",
       "      <th>max-cutoff</th>\n",
       "      <td>0.306052</td>\n",
       "      <td>0.522222</td>\n",
       "      <td>0.499533</td>\n",
       "    </tr>\n",
       "    <tr>\n",
       "      <th>min-max</th>\n",
       "      <td>0.314275</td>\n",
       "      <td>0.533333</td>\n",
       "      <td>0.511256</td>\n",
       "    </tr>\n",
       "    <tr>\n",
       "      <th rowspan=\"2\" valign=\"top\">mrmr</th>\n",
       "      <th>max-cutoff</th>\n",
       "      <td>0.314275</td>\n",
       "      <td>0.533333</td>\n",
       "      <td>0.511256</td>\n",
       "    </tr>\n",
       "    <tr>\n",
       "      <th>min-max</th>\n",
       "      <td>0.314275</td>\n",
       "      <td>0.533333</td>\n",
       "      <td>0.511256</td>\n",
       "    </tr>\n",
       "    <tr>\n",
       "      <th rowspan=\"2\" valign=\"top\">rfecv_linsvc</th>\n",
       "      <th>max-cutoff</th>\n",
       "      <td>0.273010</td>\n",
       "      <td>0.522222</td>\n",
       "      <td>0.480860</td>\n",
       "    </tr>\n",
       "    <tr>\n",
       "      <th>min-max</th>\n",
       "      <td>0.257870</td>\n",
       "      <td>0.507937</td>\n",
       "      <td>0.462694</td>\n",
       "    </tr>\n",
       "  </tbody>\n",
       "</table>\n",
       "</div>"
      ],
      "text/plain": [
       "                                                                       test_f1_macro  \\\n",
       "model  col_name                 time period feature_select scale                       \n",
       "GDBcls RoadNet+Segment TOTAL    ~2014       None           max-cutoff       0.325695   \n",
       "                                                           min-max          0.309382   \n",
       "                                            mrmr           max-cutoff       0.316096   \n",
       "                                                           min-max          0.312272   \n",
       "                                            rfecv_linsvc   max-cutoff       0.279320   \n",
       "                                                           min-max          0.275626   \n",
       "                                ~2016       None           max-cutoff       0.310844   \n",
       "                                                           min-max          0.301714   \n",
       "                                            mrmr           max-cutoff       0.301570   \n",
       "                                                           min-max          0.314554   \n",
       "                                            rfecv_linsvc   max-cutoff       0.297601   \n",
       "                                                           min-max          0.288727   \n",
       "XGBcls RoadNet+Segment TOTAL    ~2014       None           max-cutoff       0.319983   \n",
       "                                                           min-max          0.319983   \n",
       "                                            mrmr           max-cutoff       0.319983   \n",
       "                                                           min-max          0.319983   \n",
       "                                            rfecv_linsvc   max-cutoff       0.292758   \n",
       "                                                           min-max          0.280266   \n",
       "                                ~2016       None           max-cutoff       0.272686   \n",
       "                                                           min-max          0.272686   \n",
       "                                            mrmr           max-cutoff       0.272686   \n",
       "                                                           min-max          0.272686   \n",
       "                                            rfecv_linsvc   max-cutoff       0.287765   \n",
       "                                                           min-max          0.298830   \n",
       "XGBreg RoadNet+Segment NO_TOTAL ~2014       None           max-cutoff       0.317581   \n",
       "                                                           min-max          0.332753   \n",
       "                                            mrmr           max-cutoff       0.332753   \n",
       "                                                           min-max          0.332753   \n",
       "                                            rfecv_linsvc   max-cutoff       0.268482   \n",
       "                                                           min-max          0.254113   \n",
       "                                ~2016       None           max-cutoff       0.293666   \n",
       "                                                           min-max          0.287858   \n",
       "                                            mrmr           max-cutoff       0.287858   \n",
       "                                                           min-max          0.283026   \n",
       "                                            rfecv_linsvc   max-cutoff       0.250856   \n",
       "                                                           min-max          0.271155   \n",
       "ols    RoadNet+Segment TOTAL    ~2014       None           max-cutoff       0.293364   \n",
       "                                                           min-max          0.300342   \n",
       "                                            mrmr           max-cutoff       0.300342   \n",
       "                                                           min-max          0.300342   \n",
       "                                            rfecv_linsvc   max-cutoff       0.258690   \n",
       "                                                           min-max          0.281312   \n",
       "                                ~2016       None           max-cutoff       0.306052   \n",
       "                                                           min-max          0.314275   \n",
       "                                            mrmr           max-cutoff       0.314275   \n",
       "                                                           min-max          0.314275   \n",
       "                                            rfecv_linsvc   max-cutoff       0.273010   \n",
       "                                                           min-max          0.257870   \n",
       "\n",
       "                                                                       test_f1_micro  \\\n",
       "model  col_name                 time period feature_select scale                       \n",
       "GDBcls RoadNet+Segment TOTAL    ~2014       None           max-cutoff       0.549206   \n",
       "                                                           min-max          0.538095   \n",
       "                                            mrmr           max-cutoff       0.552381   \n",
       "                                                           min-max          0.526984   \n",
       "                                            rfecv_linsvc   max-cutoff       0.514286   \n",
       "                                                           min-max          0.495238   \n",
       "                                ~2016       None           max-cutoff       0.530159   \n",
       "                                                           min-max          0.523810   \n",
       "                                            mrmr           max-cutoff       0.520635   \n",
       "                                                           min-max          0.522222   \n",
       "                                            rfecv_linsvc   max-cutoff       0.501587   \n",
       "                                                           min-max          0.512698   \n",
       "XGBcls RoadNet+Segment TOTAL    ~2014       None           max-cutoff       0.527778   \n",
       "                                                           min-max          0.527778   \n",
       "                                            mrmr           max-cutoff       0.527778   \n",
       "                                                           min-max          0.527778   \n",
       "                                            rfecv_linsvc   max-cutoff       0.503968   \n",
       "                                                           min-max          0.507937   \n",
       "                                ~2016       None           max-cutoff       0.484127   \n",
       "                                                           min-max          0.484127   \n",
       "                                            mrmr           max-cutoff       0.484127   \n",
       "                                                           min-max          0.484127   \n",
       "                                            rfecv_linsvc   max-cutoff       0.500000   \n",
       "                                                           min-max          0.492063   \n",
       "XGBreg RoadNet+Segment NO_TOTAL ~2014       None           max-cutoff       0.552381   \n",
       "                                                           min-max          0.555556   \n",
       "                                            mrmr           max-cutoff       0.555556   \n",
       "                                                           min-max          0.555556   \n",
       "                                            rfecv_linsvc   max-cutoff       0.495238   \n",
       "                                                           min-max          0.469841   \n",
       "                                ~2016       None           max-cutoff       0.530159   \n",
       "                                                           min-max          0.530159   \n",
       "                                            mrmr           max-cutoff       0.530159   \n",
       "                                                           min-max          0.515873   \n",
       "                                            rfecv_linsvc   max-cutoff       0.479365   \n",
       "                                                           min-max          0.511111   \n",
       "ols    RoadNet+Segment TOTAL    ~2014       None           max-cutoff       0.519048   \n",
       "                                                           min-max          0.530159   \n",
       "                                            mrmr           max-cutoff       0.530159   \n",
       "                                                           min-max          0.530159   \n",
       "                                            rfecv_linsvc   max-cutoff       0.495238   \n",
       "                                                           min-max          0.526984   \n",
       "                                ~2016       None           max-cutoff       0.522222   \n",
       "                                                           min-max          0.533333   \n",
       "                                            mrmr           max-cutoff       0.533333   \n",
       "                                                           min-max          0.533333   \n",
       "                                            rfecv_linsvc   max-cutoff       0.522222   \n",
       "                                                           min-max          0.507937   \n",
       "\n",
       "                                                                       test_f1_weighted  \n",
       "model  col_name                 time period feature_select scale                         \n",
       "GDBcls RoadNet+Segment TOTAL    ~2014       None           max-cutoff          0.523662  \n",
       "                                                           min-max             0.511942  \n",
       "                                            mrmr           max-cutoff          0.518190  \n",
       "                                                           min-max             0.500566  \n",
       "                                            rfecv_linsvc   max-cutoff          0.484688  \n",
       "                                                           min-max             0.468772  \n",
       "                                ~2016       None           max-cutoff          0.504872  \n",
       "                                                           min-max             0.495969  \n",
       "                                            mrmr           max-cutoff          0.492635  \n",
       "                                                           min-max             0.494691  \n",
       "                                            rfecv_linsvc   max-cutoff          0.482183  \n",
       "                                                           min-max             0.479516  \n",
       "XGBcls RoadNet+Segment TOTAL    ~2014       None           max-cutoff          0.516758  \n",
       "                                                           min-max             0.516758  \n",
       "                                            mrmr           max-cutoff          0.516758  \n",
       "                                                           min-max             0.516758  \n",
       "                                            rfecv_linsvc   max-cutoff          0.477009  \n",
       "                                                           min-max             0.479342  \n",
       "                                ~2016       None           max-cutoff          0.464453  \n",
       "                                                           min-max             0.464453  \n",
       "                                            mrmr           max-cutoff          0.464453  \n",
       "                                                           min-max             0.464453  \n",
       "                                            rfecv_linsvc   max-cutoff          0.481267  \n",
       "                                                           min-max             0.469673  \n",
       "XGBreg RoadNet+Segment NO_TOTAL ~2014       None           max-cutoff          0.532411  \n",
       "                                                           min-max             0.532707  \n",
       "                                            mrmr           max-cutoff          0.532707  \n",
       "                                                           min-max             0.532707  \n",
       "                                            rfecv_linsvc   max-cutoff          0.463545  \n",
       "                                                           min-max             0.439117  \n",
       "                                ~2016       None           max-cutoff          0.500678  \n",
       "                                                           min-max             0.499794  \n",
       "                                            mrmr           max-cutoff          0.499794  \n",
       "                                                           min-max             0.486165  \n",
       "                                            rfecv_linsvc   max-cutoff          0.438836  \n",
       "                                                           min-max             0.475077  \n",
       "ols    RoadNet+Segment TOTAL    ~2014       None           max-cutoff          0.498411  \n",
       "                                                           min-max             0.509801  \n",
       "                                            mrmr           max-cutoff          0.509801  \n",
       "                                                           min-max             0.509801  \n",
       "                                            rfecv_linsvc   max-cutoff          0.457272  \n",
       "                                                           min-max             0.493704  \n",
       "                                ~2016       None           max-cutoff          0.499533  \n",
       "                                                           min-max             0.511256  \n",
       "                                            mrmr           max-cutoff          0.511256  \n",
       "                                                           min-max             0.511256  \n",
       "                                            rfecv_linsvc   max-cutoff          0.480860  \n",
       "                                                           min-max             0.462694  "
      ]
     },
     "execution_count": 187,
     "metadata": {},
     "output_type": "execute_result"
    }
   ],
   "source": [
    "slice_res.groupby(['model', 'col_name', 'time period', 'feature_select', 'scale']).mean()"
   ]
  },
  {
   "cell_type": "code",
   "execution_count": null,
   "metadata": {
    "collapsed": true
   },
   "outputs": [],
   "source": []
  },
  {
   "cell_type": "code",
   "execution_count": null,
   "metadata": {
    "collapsed": true
   },
   "outputs": [],
   "source": []
  },
  {
   "cell_type": "code",
   "execution_count": 51,
   "metadata": {
    "collapsed": true
   },
   "outputs": [],
   "source": [
    "clean_res = all_run_res.drop(['feature', 'total or by type', 'time period', 'scale', 'feature_select',\n",
    "                  'kind', '# ftr remove', '# ftr keep', \n",
    "                  'train_acc', 'train_f1_macro', 'train_f1_micro', 'train_f1_weighted', 'train_mse',\n",
    "                  'test_acc', 'test_mse',\n",
    "                  'seed',\n",
    "                  'col_name', 'model'\n",
    "                 ], axis=1)"
   ]
  },
  {
   "cell_type": "code",
   "execution_count": 53,
   "metadata": {
    "collapsed": true
   },
   "outputs": [],
   "source": [
    "means = clean_res.groupby('key').mean().sort_values('test_f1_weighted', ascending=False)"
   ]
  },
  {
   "cell_type": "code",
   "execution_count": 55,
   "metadata": {
    "collapsed": true
   },
   "outputs": [],
   "source": [
    "stds = clean_res.groupby('key').std()"
   ]
  },
  {
   "cell_type": "code",
   "execution_count": 56,
   "metadata": {
    "collapsed": true
   },
   "outputs": [],
   "source": [
    "%matplotlib inline"
   ]
  },
  {
   "cell_type": "code",
   "execution_count": 62,
   "metadata": {},
   "outputs": [
    {
     "data": {
      "text/html": [
       "<div>\n",
       "<style>\n",
       "    .dataframe thead tr:only-child th {\n",
       "        text-align: right;\n",
       "    }\n",
       "\n",
       "    .dataframe thead th {\n",
       "        text-align: left;\n",
       "    }\n",
       "\n",
       "    .dataframe tbody tr th {\n",
       "        vertical-align: top;\n",
       "    }\n",
       "</style>\n",
       "<table border=\"1\" class=\"dataframe\">\n",
       "  <thead>\n",
       "    <tr style=\"text-align: right;\">\n",
       "      <th></th>\n",
       "      <th>test_f1_macro</th>\n",
       "      <th>test_f1_micro</th>\n",
       "      <th>test_f1_weighted</th>\n",
       "    </tr>\n",
       "    <tr>\n",
       "      <th>key</th>\n",
       "      <th></th>\n",
       "      <th></th>\n",
       "      <th></th>\n",
       "    </tr>\n",
       "  </thead>\n",
       "  <tbody>\n",
       "    <tr>\n",
       "      <th>RoadNet+Segment NO_TOTAL ~2014 XGBreg min-max mrmr</th>\n",
       "      <td>0.040526</td>\n",
       "      <td>0.079365</td>\n",
       "      <td>0.068269</td>\n",
       "    </tr>\n",
       "    <tr>\n",
       "      <th>RoadNet+Segment NO_TOTAL ~2014 XGBreg min-max None</th>\n",
       "      <td>0.040526</td>\n",
       "      <td>0.079365</td>\n",
       "      <td>0.068269</td>\n",
       "    </tr>\n",
       "    <tr>\n",
       "      <th>RoadNet+Segment NO_TOTAL ~2014 XGBreg max-cutoff mrmr</th>\n",
       "      <td>0.040526</td>\n",
       "      <td>0.079365</td>\n",
       "      <td>0.068269</td>\n",
       "    </tr>\n",
       "    <tr>\n",
       "      <th>RoadNet+Segment NO_TOTAL ~2014 XGBreg max-cutoff None</th>\n",
       "      <td>0.020002</td>\n",
       "      <td>0.055442</td>\n",
       "      <td>0.051565</td>\n",
       "    </tr>\n",
       "    <tr>\n",
       "      <th>RoadNet+Segment TOTAL ~2014 GDBcls max-cutoff None</th>\n",
       "      <td>0.056162</td>\n",
       "      <td>0.069873</td>\n",
       "      <td>0.066956</td>\n",
       "    </tr>\n",
       "    <tr>\n",
       "      <th>RoadNet+Segment NO_TOTAL ~2016 XGBcls min-max rfecv_linsvc</th>\n",
       "      <td>0.053360</td>\n",
       "      <td>0.080155</td>\n",
       "      <td>0.080876</td>\n",
       "    </tr>\n",
       "    <tr>\n",
       "      <th>RoadNet+Segment TOTAL ~2014 GDBcls max-cutoff mrmr</th>\n",
       "      <td>0.051958</td>\n",
       "      <td>0.052271</td>\n",
       "      <td>0.054188</td>\n",
       "    </tr>\n",
       "    <tr>\n",
       "      <th>RoadNet+Segment TOTAL ~2016 BAGcls max-cutoff mrmr</th>\n",
       "      <td>0.082135</td>\n",
       "      <td>0.076106</td>\n",
       "      <td>0.075219</td>\n",
       "    </tr>\n",
       "    <tr>\n",
       "      <th>RoadNet+Segment TOTAL ~2014 XGBcls min-max mrmr</th>\n",
       "      <td>0.028119</td>\n",
       "      <td>0.054023</td>\n",
       "      <td>0.059369</td>\n",
       "    </tr>\n",
       "    <tr>\n",
       "      <th>RoadNet+Segment TOTAL ~2014 XGBcls min-max None</th>\n",
       "      <td>0.028119</td>\n",
       "      <td>0.054023</td>\n",
       "      <td>0.059369</td>\n",
       "    </tr>\n",
       "  </tbody>\n",
       "</table>\n",
       "</div>"
      ],
      "text/plain": [
       "                                                    test_f1_macro  \\\n",
       "key                                                                 \n",
       "RoadNet+Segment NO_TOTAL ~2014 XGBreg min-max mrmr       0.040526   \n",
       "RoadNet+Segment NO_TOTAL ~2014 XGBreg min-max None       0.040526   \n",
       "RoadNet+Segment NO_TOTAL ~2014 XGBreg max-cutof...       0.040526   \n",
       "RoadNet+Segment NO_TOTAL ~2014 XGBreg max-cutof...       0.020002   \n",
       "RoadNet+Segment TOTAL ~2014 GDBcls max-cutoff None       0.056162   \n",
       "RoadNet+Segment NO_TOTAL ~2016 XGBcls min-max r...       0.053360   \n",
       "RoadNet+Segment TOTAL ~2014 GDBcls max-cutoff mrmr       0.051958   \n",
       "RoadNet+Segment TOTAL ~2016 BAGcls max-cutoff mrmr       0.082135   \n",
       "RoadNet+Segment TOTAL ~2014 XGBcls min-max mrmr          0.028119   \n",
       "RoadNet+Segment TOTAL ~2014 XGBcls min-max None          0.028119   \n",
       "\n",
       "                                                    test_f1_micro  \\\n",
       "key                                                                 \n",
       "RoadNet+Segment NO_TOTAL ~2014 XGBreg min-max mrmr       0.079365   \n",
       "RoadNet+Segment NO_TOTAL ~2014 XGBreg min-max None       0.079365   \n",
       "RoadNet+Segment NO_TOTAL ~2014 XGBreg max-cutof...       0.079365   \n",
       "RoadNet+Segment NO_TOTAL ~2014 XGBreg max-cutof...       0.055442   \n",
       "RoadNet+Segment TOTAL ~2014 GDBcls max-cutoff None       0.069873   \n",
       "RoadNet+Segment NO_TOTAL ~2016 XGBcls min-max r...       0.080155   \n",
       "RoadNet+Segment TOTAL ~2014 GDBcls max-cutoff mrmr       0.052271   \n",
       "RoadNet+Segment TOTAL ~2016 BAGcls max-cutoff mrmr       0.076106   \n",
       "RoadNet+Segment TOTAL ~2014 XGBcls min-max mrmr          0.054023   \n",
       "RoadNet+Segment TOTAL ~2014 XGBcls min-max None          0.054023   \n",
       "\n",
       "                                                    test_f1_weighted  \n",
       "key                                                                   \n",
       "RoadNet+Segment NO_TOTAL ~2014 XGBreg min-max mrmr          0.068269  \n",
       "RoadNet+Segment NO_TOTAL ~2014 XGBreg min-max None          0.068269  \n",
       "RoadNet+Segment NO_TOTAL ~2014 XGBreg max-cutof...          0.068269  \n",
       "RoadNet+Segment NO_TOTAL ~2014 XGBreg max-cutof...          0.051565  \n",
       "RoadNet+Segment TOTAL ~2014 GDBcls max-cutoff None          0.066956  \n",
       "RoadNet+Segment NO_TOTAL ~2016 XGBcls min-max r...          0.080876  \n",
       "RoadNet+Segment TOTAL ~2014 GDBcls max-cutoff mrmr          0.054188  \n",
       "RoadNet+Segment TOTAL ~2016 BAGcls max-cutoff mrmr          0.075219  \n",
       "RoadNet+Segment TOTAL ~2014 XGBcls min-max mrmr             0.059369  \n",
       "RoadNet+Segment TOTAL ~2014 XGBcls min-max None             0.059369  "
      ]
     },
     "execution_count": 62,
     "metadata": {},
     "output_type": "execute_result"
    }
   ],
   "source": [
    "means_to_plot = means.head(10)\n",
    "index_to_plot = means_to_plot.index\n",
    "\n",
    "stds_to_plot = stds.loc[index_to_plot]\n",
    "stds_to_plot"
   ]
  },
  {
   "cell_type": "code",
   "execution_count": 63,
   "metadata": {},
   "outputs": [
    {
     "data": {
      "text/html": [
       "<div>\n",
       "<style>\n",
       "    .dataframe thead tr:only-child th {\n",
       "        text-align: right;\n",
       "    }\n",
       "\n",
       "    .dataframe thead th {\n",
       "        text-align: left;\n",
       "    }\n",
       "\n",
       "    .dataframe tbody tr th {\n",
       "        vertical-align: top;\n",
       "    }\n",
       "</style>\n",
       "<table border=\"1\" class=\"dataframe\">\n",
       "  <thead>\n",
       "    <tr style=\"text-align: right;\">\n",
       "      <th></th>\n",
       "      <th>test_f1_macro</th>\n",
       "      <th>test_f1_micro</th>\n",
       "      <th>test_f1_weighted</th>\n",
       "    </tr>\n",
       "    <tr>\n",
       "      <th>key</th>\n",
       "      <th></th>\n",
       "      <th></th>\n",
       "      <th></th>\n",
       "    </tr>\n",
       "  </thead>\n",
       "  <tbody>\n",
       "    <tr>\n",
       "      <th>RoadNet+Segment NO_TOTAL ~2014 XGBreg min-max mrmr</th>\n",
       "      <td>0.332753</td>\n",
       "      <td>0.555556</td>\n",
       "      <td>0.532707</td>\n",
       "    </tr>\n",
       "    <tr>\n",
       "      <th>RoadNet+Segment NO_TOTAL ~2014 XGBreg min-max None</th>\n",
       "      <td>0.332753</td>\n",
       "      <td>0.555556</td>\n",
       "      <td>0.532707</td>\n",
       "    </tr>\n",
       "    <tr>\n",
       "      <th>RoadNet+Segment NO_TOTAL ~2014 XGBreg max-cutoff mrmr</th>\n",
       "      <td>0.332753</td>\n",
       "      <td>0.555556</td>\n",
       "      <td>0.532707</td>\n",
       "    </tr>\n",
       "    <tr>\n",
       "      <th>RoadNet+Segment NO_TOTAL ~2014 XGBreg max-cutoff None</th>\n",
       "      <td>0.317581</td>\n",
       "      <td>0.552381</td>\n",
       "      <td>0.532411</td>\n",
       "    </tr>\n",
       "    <tr>\n",
       "      <th>RoadNet+Segment TOTAL ~2014 GDBcls max-cutoff None</th>\n",
       "      <td>0.325695</td>\n",
       "      <td>0.549206</td>\n",
       "      <td>0.523662</td>\n",
       "    </tr>\n",
       "    <tr>\n",
       "      <th>RoadNet+Segment NO_TOTAL ~2016 XGBcls min-max rfecv_linsvc</th>\n",
       "      <td>0.321872</td>\n",
       "      <td>0.539683</td>\n",
       "      <td>0.520465</td>\n",
       "    </tr>\n",
       "    <tr>\n",
       "      <th>RoadNet+Segment TOTAL ~2014 GDBcls max-cutoff mrmr</th>\n",
       "      <td>0.316096</td>\n",
       "      <td>0.552381</td>\n",
       "      <td>0.518190</td>\n",
       "    </tr>\n",
       "    <tr>\n",
       "      <th>RoadNet+Segment TOTAL ~2016 BAGcls max-cutoff mrmr</th>\n",
       "      <td>0.330260</td>\n",
       "      <td>0.541270</td>\n",
       "      <td>0.516796</td>\n",
       "    </tr>\n",
       "    <tr>\n",
       "      <th>RoadNet+Segment TOTAL ~2014 XGBcls min-max mrmr</th>\n",
       "      <td>0.319983</td>\n",
       "      <td>0.527778</td>\n",
       "      <td>0.516758</td>\n",
       "    </tr>\n",
       "    <tr>\n",
       "      <th>RoadNet+Segment TOTAL ~2014 XGBcls min-max None</th>\n",
       "      <td>0.319983</td>\n",
       "      <td>0.527778</td>\n",
       "      <td>0.516758</td>\n",
       "    </tr>\n",
       "  </tbody>\n",
       "</table>\n",
       "</div>"
      ],
      "text/plain": [
       "                                                    test_f1_macro  \\\n",
       "key                                                                 \n",
       "RoadNet+Segment NO_TOTAL ~2014 XGBreg min-max mrmr       0.332753   \n",
       "RoadNet+Segment NO_TOTAL ~2014 XGBreg min-max None       0.332753   \n",
       "RoadNet+Segment NO_TOTAL ~2014 XGBreg max-cutof...       0.332753   \n",
       "RoadNet+Segment NO_TOTAL ~2014 XGBreg max-cutof...       0.317581   \n",
       "RoadNet+Segment TOTAL ~2014 GDBcls max-cutoff None       0.325695   \n",
       "RoadNet+Segment NO_TOTAL ~2016 XGBcls min-max r...       0.321872   \n",
       "RoadNet+Segment TOTAL ~2014 GDBcls max-cutoff mrmr       0.316096   \n",
       "RoadNet+Segment TOTAL ~2016 BAGcls max-cutoff mrmr       0.330260   \n",
       "RoadNet+Segment TOTAL ~2014 XGBcls min-max mrmr          0.319983   \n",
       "RoadNet+Segment TOTAL ~2014 XGBcls min-max None          0.319983   \n",
       "\n",
       "                                                    test_f1_micro  \\\n",
       "key                                                                 \n",
       "RoadNet+Segment NO_TOTAL ~2014 XGBreg min-max mrmr       0.555556   \n",
       "RoadNet+Segment NO_TOTAL ~2014 XGBreg min-max None       0.555556   \n",
       "RoadNet+Segment NO_TOTAL ~2014 XGBreg max-cutof...       0.555556   \n",
       "RoadNet+Segment NO_TOTAL ~2014 XGBreg max-cutof...       0.552381   \n",
       "RoadNet+Segment TOTAL ~2014 GDBcls max-cutoff None       0.549206   \n",
       "RoadNet+Segment NO_TOTAL ~2016 XGBcls min-max r...       0.539683   \n",
       "RoadNet+Segment TOTAL ~2014 GDBcls max-cutoff mrmr       0.552381   \n",
       "RoadNet+Segment TOTAL ~2016 BAGcls max-cutoff mrmr       0.541270   \n",
       "RoadNet+Segment TOTAL ~2014 XGBcls min-max mrmr          0.527778   \n",
       "RoadNet+Segment TOTAL ~2014 XGBcls min-max None          0.527778   \n",
       "\n",
       "                                                    test_f1_weighted  \n",
       "key                                                                   \n",
       "RoadNet+Segment NO_TOTAL ~2014 XGBreg min-max mrmr          0.532707  \n",
       "RoadNet+Segment NO_TOTAL ~2014 XGBreg min-max None          0.532707  \n",
       "RoadNet+Segment NO_TOTAL ~2014 XGBreg max-cutof...          0.532707  \n",
       "RoadNet+Segment NO_TOTAL ~2014 XGBreg max-cutof...          0.532411  \n",
       "RoadNet+Segment TOTAL ~2014 GDBcls max-cutoff None          0.523662  \n",
       "RoadNet+Segment NO_TOTAL ~2016 XGBcls min-max r...          0.520465  \n",
       "RoadNet+Segment TOTAL ~2014 GDBcls max-cutoff mrmr          0.518190  \n",
       "RoadNet+Segment TOTAL ~2016 BAGcls max-cutoff mrmr          0.516796  \n",
       "RoadNet+Segment TOTAL ~2014 XGBcls min-max mrmr             0.516758  \n",
       "RoadNet+Segment TOTAL ~2014 XGBcls min-max None             0.516758  "
      ]
     },
     "execution_count": 63,
     "metadata": {},
     "output_type": "execute_result"
    }
   ],
   "source": [
    "means_to_plot"
   ]
  },
  {
   "cell_type": "code",
   "execution_count": 64,
   "metadata": {
    "scrolled": true
   },
   "outputs": [
    {
     "data": {
      "text/plain": [
       "<matplotlib.axes._subplots.AxesSubplot at 0x28aa5386c50>"
      ]
     },
     "execution_count": 64,
     "metadata": {},
     "output_type": "execute_result"
    },
    {
     "data": {
      "image/png": "[encoded data removed]",
      "text/plain": [
       "<matplotlib.figure.Figure at 0x28aa53863c8>"
      ]
     },
     "metadata": {},
     "output_type": "display_data"
    }
   ],
   "source": [
    "means_to_plot.plot(kind='barh', xerr=stds_to_plot, figsize=(10,5))"
   ]
  },
  {
   "cell_type": "code",
   "execution_count": 33,
   "metadata": {},
   "outputs": [
    {
     "data": {
      "text/html": [
       "<div>\n",
       "<style>\n",
       "    .dataframe thead tr:only-child th {\n",
       "        text-align: right;\n",
       "    }\n",
       "\n",
       "    .dataframe thead th {\n",
       "        text-align: left;\n",
       "    }\n",
       "\n",
       "    .dataframe tbody tr th {\n",
       "        vertical-align: top;\n",
       "    }\n",
       "</style>\n",
       "<table border=\"1\" class=\"dataframe\">\n",
       "  <thead>\n",
       "    <tr style=\"text-align: right;\">\n",
       "      <th></th>\n",
       "      <th>test_f1_macro</th>\n",
       "      <th>test_f1_micro</th>\n",
       "      <th>test_f1_weighted</th>\n",
       "      <th>key</th>\n",
       "    </tr>\n",
       "  </thead>\n",
       "  <tbody>\n",
       "    <tr>\n",
       "      <th>707</th>\n",
       "      <td>0.312994</td>\n",
       "      <td>0.619048</td>\n",
       "      <td>0.590639</td>\n",
       "      <td>RoadNet+Segment TOTAL ~2014 GDBcls max-cutoff ...</td>\n",
       "    </tr>\n",
       "    <tr>\n",
       "      <th>1723</th>\n",
       "      <td>0.329147</td>\n",
       "      <td>0.476190</td>\n",
       "      <td>0.458477</td>\n",
       "      <td>RoadNet+Segment TOTAL ~2014 GDBcls max-cutoff ...</td>\n",
       "    </tr>\n",
       "    <tr>\n",
       "      <th>2744</th>\n",
       "      <td>0.316695</td>\n",
       "      <td>0.571429</td>\n",
       "      <td>0.551029</td>\n",
       "      <td>RoadNet+Segment TOTAL ~2014 GDBcls max-cutoff ...</td>\n",
       "    </tr>\n",
       "    <tr>\n",
       "      <th>3774</th>\n",
       "      <td>0.290438</td>\n",
       "      <td>0.507937</td>\n",
       "      <td>0.476017</td>\n",
       "      <td>RoadNet+Segment TOTAL ~2014 GDBcls max-cutoff ...</td>\n",
       "    </tr>\n",
       "    <tr>\n",
       "      <th>4787</th>\n",
       "      <td>0.439818</td>\n",
       "      <td>0.650794</td>\n",
       "      <td>0.616350</td>\n",
       "      <td>RoadNet+Segment TOTAL ~2014 GDBcls max-cutoff ...</td>\n",
       "    </tr>\n",
       "    <tr>\n",
       "      <th>5808</th>\n",
       "      <td>0.330880</td>\n",
       "      <td>0.571429</td>\n",
       "      <td>0.537587</td>\n",
       "      <td>RoadNet+Segment TOTAL ~2014 GDBcls max-cutoff ...</td>\n",
       "    </tr>\n",
       "    <tr>\n",
       "      <th>6832</th>\n",
       "      <td>0.264004</td>\n",
       "      <td>0.507937</td>\n",
       "      <td>0.455709</td>\n",
       "      <td>RoadNet+Segment TOTAL ~2014 GDBcls max-cutoff ...</td>\n",
       "    </tr>\n",
       "    <tr>\n",
       "      <th>7853</th>\n",
       "      <td>0.296735</td>\n",
       "      <td>0.539683</td>\n",
       "      <td>0.526903</td>\n",
       "      <td>RoadNet+Segment TOTAL ~2014 GDBcls max-cutoff ...</td>\n",
       "    </tr>\n",
       "    <tr>\n",
       "      <th>8869</th>\n",
       "      <td>0.282423</td>\n",
       "      <td>0.555556</td>\n",
       "      <td>0.490979</td>\n",
       "      <td>RoadNet+Segment TOTAL ~2014 GDBcls max-cutoff ...</td>\n",
       "    </tr>\n",
       "    <tr>\n",
       "      <th>9891</th>\n",
       "      <td>0.321478</td>\n",
       "      <td>0.555556</td>\n",
       "      <td>0.518747</td>\n",
       "      <td>RoadNet+Segment TOTAL ~2014 GDBcls max-cutoff ...</td>\n",
       "    </tr>\n",
       "  </tbody>\n",
       "</table>\n",
       "</div>"
      ],
      "text/plain": [
       "      test_f1_macro  test_f1_micro  test_f1_weighted  \\\n",
       "707        0.312994       0.619048          0.590639   \n",
       "1723       0.329147       0.476190          0.458477   \n",
       "2744       0.316695       0.571429          0.551029   \n",
       "3774       0.290438       0.507937          0.476017   \n",
       "4787       0.439818       0.650794          0.616350   \n",
       "5808       0.330880       0.571429          0.537587   \n",
       "6832       0.264004       0.507937          0.455709   \n",
       "7853       0.296735       0.539683          0.526903   \n",
       "8869       0.282423       0.555556          0.490979   \n",
       "9891       0.321478       0.555556          0.518747   \n",
       "\n",
       "                                                    key  \n",
       "707   RoadNet+Segment TOTAL ~2014 GDBcls max-cutoff ...  \n",
       "1723  RoadNet+Segment TOTAL ~2014 GDBcls max-cutoff ...  \n",
       "2744  RoadNet+Segment TOTAL ~2014 GDBcls max-cutoff ...  \n",
       "3774  RoadNet+Segment TOTAL ~2014 GDBcls max-cutoff ...  \n",
       "4787  RoadNet+Segment TOTAL ~2014 GDBcls max-cutoff ...  \n",
       "5808  RoadNet+Segment TOTAL ~2014 GDBcls max-cutoff ...  \n",
       "6832  RoadNet+Segment TOTAL ~2014 GDBcls max-cutoff ...  \n",
       "7853  RoadNet+Segment TOTAL ~2014 GDBcls max-cutoff ...  \n",
       "8869  RoadNet+Segment TOTAL ~2014 GDBcls max-cutoff ...  \n",
       "9891  RoadNet+Segment TOTAL ~2014 GDBcls max-cutoff ...  "
      ]
     },
     "execution_count": 33,
     "metadata": {},
     "output_type": "execute_result"
    }
   ],
   "source": [
    "clean_res[clean_res.key.isin(index_to_plot[:1])]"
   ]
  },
  {
   "cell_type": "code",
   "execution_count": null,
   "metadata": {
    "collapsed": true
   },
   "outputs": [],
   "source": []
  },
  {
   "cell_type": "code",
   "execution_count": null,
   "metadata": {
    "collapsed": true
   },
   "outputs": [],
   "source": []
  }
 ],
 "metadata": {
  "kernelspec": {
   "display_name": "Python 3",
   "language": "python",
   "name": "python3"
  },
  "language_info": {
   "codemirror_mode": {
    "name": "ipython",
    "version": 3
   },
   "file_extension": ".py",
   "mimetype": "text/x-python",
   "name": "python",
   "nbconvert_exporter": "python",
   "pygments_lexer": "ipython3",
   "version": "3.6.1"
  }
 },
 "nbformat": 4,
 "nbformat_minor": 2
}
