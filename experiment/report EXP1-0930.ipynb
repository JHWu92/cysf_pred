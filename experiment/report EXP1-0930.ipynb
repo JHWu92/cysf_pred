{
 "cells": [
  {
   "cell_type": "code",
   "execution_count": 1,
   "metadata": {
    "collapsed": true
   },
   "outputs": [],
   "source": [
    "import glob\n",
    "import pandas as pd\n",
    "import os"
   ]
  },
  {
   "cell_type": "code",
   "execution_count": 2,
   "metadata": {
    "collapsed": true
   },
   "outputs": [],
   "source": [
    "def feature_counts(directory):\n",
    "    fn = directory+ '/feature_names.txt'\n",
    "    with open(fn) as f:\n",
    "        lines = f.readlines()\n",
    "        keep = int(lines[1].split('\\t')[1])\n",
    "        remove = int(lines[2].split('\\t')[1])\n",
    "    return keep, remove"
   ]
  },
  {
   "cell_type": "code",
   "execution_count": 3,
   "metadata": {
    "collapsed": true
   },
   "outputs": [],
   "source": [
    "def load_majority_vote(exp_path):\n",
    "    fn = exp_path+'/majority_vote.csv'\n",
    "    res = pd.read_csv(fn)\n",
    "    return res\n",
    "\n",
    "def load_roadnet(exp_path):\n",
    "    fselects = ['None', 'rfecv_linsvc', 'mrmr']\n",
    "    res = []\n",
    "    for selection_type in fselects:\n",
    "        exp_param_path = '%s/%s#%s' %(exp_path, 'RoadNet', selection_type)\n",
    "        fn = '%s/cv_5_best_models_evaluation.csv' %(exp_param_path)\n",
    "        cv_res = pd.read_csv(fn)\n",
    "        cv_res.columns = ['kind', 'model'] + cv_res.columns[2:].tolist()\n",
    "        cv_res['feature_select'] = selection_type\n",
    "        cv_res['scale'] = 'min-max'\n",
    "        cv_res['feature'] = 'RoadNet'\n",
    "        keep, remove = feature_counts(exp_param_path)\n",
    "        cv_res['# ftr keep'] = keep\n",
    "        cv_res['# ftr remove'] = remove\n",
    "        res.append(cv_res)\n",
    "    res = pd.concat(res)\n",
    "    return res \n",
    "\n",
    "def load_else(exp_path):\n",
    "    \n",
    "    totals = ['NO_TOTAL', 'TOTAL']\n",
    "    years_choices = ['~2014', '~2016']\n",
    "    feature_types = ['Segment', 'RoadNet+Segment']\n",
    "    res = []\n",
    "    for total_or_not in totals:\n",
    "        for year in years_choices:\n",
    "            for ftr_type in feature_types:\n",
    "                for max_cut in (True, False,):\n",
    "                    for selection_type in ['None', 'rfecv_linsvc', 'mrmr']:\n",
    "                        scale_type = 'max-cutoff' if max_cut else 'min-max'\n",
    "                        exp_param = '#'.join([ftr_type, total_or_not, year, scale_type, selection_type])\n",
    "                        fn = '%s/%s/cv_5_best_models_evaluation.csv' % (exp_path, exp_param)\n",
    "                        cv_res = pd.read_csv(fn)\n",
    "                        cv_res.columns = ['kind', 'model'] + cv_res.columns[2:].tolist()\n",
    "                        cv_res['feature_select'] = selection_type\n",
    "                        cv_res['scale'] = scale_type\n",
    "                        cv_res['feature'] = ftr_type\n",
    "                        cv_res['time period'] = year\n",
    "                        cv_res['total or by type'] = total_or_not\n",
    "                        keep, remove = feature_counts('%s/%s' % (exp_path, exp_param))\n",
    "                        cv_res['# ftr keep'] = keep\n",
    "                        cv_res['# ftr remove'] = remove\n",
    "                        res.append(cv_res)\n",
    "    res = pd.concat(res)\n",
    "\n",
    "    return res \n",
    "\n",
    "def load_one_run(seed):\n",
    "    exp_path = 'exp1/seed_%d' % seed\n",
    "    major = load_majority_vote(exp_path)\n",
    "    roadnet = load_roadnet(exp_path)\n",
    "    res_else = load_else(exp_path)\n",
    "    res = pd.concat([major, roadnet, res_else], ignore_index=True)\n",
    "    res['seed'] = seed\n",
    "    return res"
   ]
  },
  {
   "cell_type": "code",
   "execution_count": 4,
   "metadata": {
    "collapsed": true
   },
   "outputs": [],
   "source": [
    "def load_all_run():\n",
    "    all_run = []\n",
    "    for seed in [0, 100, 972, 5258, 7821, 40918, 57852, 168352, 291592, 789729423]:\n",
    "        one_run_res = load_one_run(seed)\n",
    "        all_run.append(one_run_res)\n",
    "    all_run_res = pd.concat(all_run, ignore_index=True)\n",
    "    all_run_res.fillna('', inplace=True)\n",
    "    all_run_res['key'] = all_run_res.apply(lambda x: '%s %s %s %s %s %s'.strip() % (x['feature'], x['total or by type'], x['time period'], x['model'], x['scale'], x['feature_select']), axis=1)        \n",
    "#     all_run_res['key'] = all_run_res.apply(lambda x: '%s %s %s %s'.strip() % (x['feature'], x['total or by type'], x['model'], x['scale']), axis=1)        \n",
    "    return all_run_res"
   ]
  },
  {
   "cell_type": "code",
   "execution_count": 5,
   "metadata": {
    "collapsed": true
   },
   "outputs": [],
   "source": [
    "all_run_res = load_all_run()"
   ]
  },
  {
   "cell_type": "code",
   "execution_count": 6,
   "metadata": {
    "collapsed": true
   },
   "outputs": [],
   "source": [
    "all_run_res['col_name'] = all_run_res.apply(lambda x: x['feature']+' '+x['total or by type'],axis=1)"
   ]
  },
  {
   "cell_type": "markdown",
   "metadata": {},
   "source": [
    "# slice res by feature selection, time period and scale method"
   ]
  },
  {
   "cell_type": "code",
   "execution_count": 7,
   "metadata": {
    "collapsed": true
   },
   "outputs": [],
   "source": [
    "cond1 = (all_run_res['feature_select'] == 'None') | (all_run_res['feature_select'] == '')\n",
    "cond2 = (all_run_res['time period']=='~2014') | (all_run_res['time period'] == '')\n",
    "cond3 = (all_run_res['scale']=='min-max')  | (all_run_res['scale'] == '')\n",
    "slice_res = all_run_res[(cond1) & (cond2) & (cond3) ]"
   ]
  },
  {
   "cell_type": "code",
   "execution_count": 8,
   "metadata": {},
   "outputs": [
    {
     "data": {
      "text/plain": [
       "(1110, 22)"
      ]
     },
     "execution_count": 8,
     "metadata": {},
     "output_type": "execute_result"
    }
   ],
   "source": [
    "slice_res.shape"
   ]
  },
  {
   "cell_type": "code",
   "execution_count": 36,
   "metadata": {
    "collapsed": true
   },
   "outputs": [
    {
     "data": {
      "text/html": [
       "<div>\n",
       "<style>\n",
       "    .dataframe thead tr:only-child th {\n",
       "        text-align: right;\n",
       "    }\n",
       "\n",
       "    .dataframe thead th {\n",
       "        text-align: left;\n",
       "    }\n",
       "\n",
       "    .dataframe tbody tr th {\n",
       "        vertical-align: top;\n",
       "    }\n",
       "</style>\n",
       "<table border=\"1\" class=\"dataframe\">\n",
       "  <thead>\n",
       "    <tr style=\"text-align: right;\">\n",
       "      <th></th>\n",
       "      <th>test_f1_weighted</th>\n",
       "      <th>test_f1_macro</th>\n",
       "      <th>test_f1_micro</th>\n",
       "      <th>seed</th>\n",
       "    </tr>\n",
       "  </thead>\n",
       "  <tbody>\n",
       "    <tr>\n",
       "      <th>265</th>\n",
       "      <td>0.569861</td>\n",
       "      <td>0.433776</td>\n",
       "      <td>0.573171</td>\n",
       "      <td>0</td>\n",
       "    </tr>\n",
       "    <tr>\n",
       "      <th>1389</th>\n",
       "      <td>0.590583</td>\n",
       "      <td>0.465914</td>\n",
       "      <td>0.597561</td>\n",
       "      <td>100</td>\n",
       "    </tr>\n",
       "    <tr>\n",
       "      <th>2513</th>\n",
       "      <td>0.591394</td>\n",
       "      <td>0.542771</td>\n",
       "      <td>0.597561</td>\n",
       "      <td>972</td>\n",
       "    </tr>\n",
       "    <tr>\n",
       "      <th>3644</th>\n",
       "      <td>0.559451</td>\n",
       "      <td>0.382090</td>\n",
       "      <td>0.573171</td>\n",
       "      <td>5258</td>\n",
       "    </tr>\n",
       "    <tr>\n",
       "      <th>4759</th>\n",
       "      <td>0.474793</td>\n",
       "      <td>0.318481</td>\n",
       "      <td>0.500000</td>\n",
       "      <td>7821</td>\n",
       "    </tr>\n",
       "    <tr>\n",
       "      <th>5887</th>\n",
       "      <td>0.467120</td>\n",
       "      <td>0.425332</td>\n",
       "      <td>0.475610</td>\n",
       "      <td>40918</td>\n",
       "    </tr>\n",
       "    <tr>\n",
       "      <th>7008</th>\n",
       "      <td>0.535363</td>\n",
       "      <td>0.326504</td>\n",
       "      <td>0.548780</td>\n",
       "      <td>57852</td>\n",
       "    </tr>\n",
       "    <tr>\n",
       "      <th>8129</th>\n",
       "      <td>0.533703</td>\n",
       "      <td>0.493904</td>\n",
       "      <td>0.536585</td>\n",
       "      <td>168352</td>\n",
       "    </tr>\n",
       "    <tr>\n",
       "      <th>9249</th>\n",
       "      <td>0.635053</td>\n",
       "      <td>0.460003</td>\n",
       "      <td>0.646341</td>\n",
       "      <td>291592</td>\n",
       "    </tr>\n",
       "    <tr>\n",
       "      <th>10372</th>\n",
       "      <td>0.574699</td>\n",
       "      <td>0.451382</td>\n",
       "      <td>0.597561</td>\n",
       "      <td>789729423</td>\n",
       "    </tr>\n",
       "  </tbody>\n",
       "</table>\n",
       "</div>"
      ],
      "text/plain": [
       "       test_f1_weighted  test_f1_macro  test_f1_micro       seed\n",
       "265            0.569861       0.433776       0.573171          0\n",
       "1389           0.590583       0.465914       0.597561        100\n",
       "2513           0.591394       0.542771       0.597561        972\n",
       "3644           0.559451       0.382090       0.573171       5258\n",
       "4759           0.474793       0.318481       0.500000       7821\n",
       "5887           0.467120       0.425332       0.475610      40918\n",
       "7008           0.535363       0.326504       0.548780      57852\n",
       "8129           0.533703       0.493904       0.536585     168352\n",
       "9249           0.635053       0.460003       0.646341     291592\n",
       "10372          0.574699       0.451382       0.597561  789729423"
      ]
     },
     "execution_count": 36,
     "metadata": {},
     "output_type": "execute_result"
    }
   ],
   "source": [
    "slice_res[(slice_res['model']=='SVM') & (slice_res['col_name']=='RoadNet+Segment NO_TOTAL')][f1_choices+['seed']]"
   ]
  },
  {
   "cell_type": "markdown",
   "metadata": {},
   "source": [
    "Drop useless columns"
   ]
  },
  {
   "cell_type": "code",
   "execution_count": 9,
   "metadata": {
    "collapsed": true
   },
   "outputs": [],
   "source": [
    "clean_res = slice_res.drop(['feature', 'total or by type', 'time period', 'scale', 'feature_select',\n",
    "                  'kind', '# ftr remove', '# ftr keep', \n",
    "                  'train_acc', 'train_f1_macro', 'train_f1_micro', 'train_f1_weighted', 'train_mse',\n",
    "                  'test_acc', 'test_mse',\n",
    "                  'seed',\n",
    "                  'key',\n",
    "                 ], axis=1)"
   ]
  },
  {
   "cell_type": "code",
   "execution_count": 10,
   "metadata": {
    "collapsed": true
   },
   "outputs": [],
   "source": [
    "means = clean_res.groupby(['col_name', 'model']).mean()\n",
    "stds = clean_res.groupby(['col_name', 'model']).std()"
   ]
  },
  {
   "cell_type": "markdown",
   "metadata": {},
   "source": [
    "## produce dtb(deliverable table) for paper"
   ]
  },
  {
   "cell_type": "code",
   "execution_count": 11,
   "metadata": {
    "collapsed": true
   },
   "outputs": [],
   "source": [
    "def deliverable_table(table):\n",
    "    table.loc['majority_vote'] = table.loc['majority_vote', ' ']\n",
    "    table.drop(' ', axis=1, inplace=True)\n",
    "    table.columns = ['RoadNet', 'RoadNet+Social type', 'RoadNet+Social total', 'Social type', 'Social total']\n",
    "    table = table[['RoadNet', 'Social total', 'Social type', 'RoadNet+Social total', 'RoadNet+Social type']]\n",
    "    table = table.loc[['majority_vote', 'ols', 'lasso', 'ridge', 'logistics', 'linearSVM', 'linearSVR',\n",
    "               'SVM', 'SVR', 'MLPcls', 'MLPreg', 'DTcls', 'DTreg', 'RFcls', 'RFreg',\n",
    "               'ADAcls', 'ADAreg', 'BAGcls', 'BAGreg', 'GDBcls', 'GDBreg', 'XGBcls', 'XGBreg',\n",
    "          ]]\n",
    "    return table"
   ]
  },
  {
   "cell_type": "code",
   "execution_count": 13,
   "metadata": {
    "scrolled": true
   },
   "outputs": [
    {
     "data": {
      "text/html": [
       "<div>\n",
       "<style>\n",
       "    .dataframe thead tr:only-child th {\n",
       "        text-align: right;\n",
       "    }\n",
       "\n",
       "    .dataframe thead th {\n",
       "        text-align: left;\n",
       "    }\n",
       "\n",
       "    .dataframe tbody tr th {\n",
       "        vertical-align: top;\n",
       "    }\n",
       "</style>\n",
       "<table border=\"1\" class=\"dataframe\">\n",
       "  <thead>\n",
       "    <tr style=\"text-align: right;\">\n",
       "      <th></th>\n",
       "      <th>RoadNet</th>\n",
       "      <th>Social total</th>\n",
       "      <th>Social type</th>\n",
       "      <th>RoadNet+Social total</th>\n",
       "      <th>RoadNet+Social type</th>\n",
       "    </tr>\n",
       "    <tr>\n",
       "      <th>model</th>\n",
       "      <th></th>\n",
       "      <th></th>\n",
       "      <th></th>\n",
       "      <th></th>\n",
       "      <th></th>\n",
       "    </tr>\n",
       "  </thead>\n",
       "  <tbody>\n",
       "    <tr>\n",
       "      <th>majority_vote</th>\n",
       "      <td>0.371951</td>\n",
       "      <td>0.371951</td>\n",
       "      <td>0.371951</td>\n",
       "      <td>0.371951</td>\n",
       "      <td>0.371951</td>\n",
       "    </tr>\n",
       "    <tr>\n",
       "      <th>ols</th>\n",
       "      <td>0.468293</td>\n",
       "      <td>0.407317</td>\n",
       "      <td>0.350000</td>\n",
       "      <td>0.489024</td>\n",
       "      <td>0.391463</td>\n",
       "    </tr>\n",
       "    <tr>\n",
       "      <th>lasso</th>\n",
       "      <td>0.379268</td>\n",
       "      <td>0.379268</td>\n",
       "      <td>0.379268</td>\n",
       "      <td>0.379268</td>\n",
       "      <td>0.379268</td>\n",
       "    </tr>\n",
       "    <tr>\n",
       "      <th>ridge</th>\n",
       "      <td>0.480488</td>\n",
       "      <td>0.397561</td>\n",
       "      <td>0.428049</td>\n",
       "      <td>0.487805</td>\n",
       "      <td>0.497561</td>\n",
       "    </tr>\n",
       "    <tr>\n",
       "      <th>logistics</th>\n",
       "      <td>0.467073</td>\n",
       "      <td>0.439024</td>\n",
       "      <td>0.489024</td>\n",
       "      <td>0.534146</td>\n",
       "      <td>0.531707</td>\n",
       "    </tr>\n",
       "    <tr>\n",
       "      <th>linearSVM</th>\n",
       "      <td>0.480488</td>\n",
       "      <td>0.429268</td>\n",
       "      <td>0.517073</td>\n",
       "      <td>0.535366</td>\n",
       "      <td>0.541463</td>\n",
       "    </tr>\n",
       "    <tr>\n",
       "      <th>linearSVR</th>\n",
       "      <td>0.479268</td>\n",
       "      <td>0.403659</td>\n",
       "      <td>0.421951</td>\n",
       "      <td>0.498780</td>\n",
       "      <td>0.503659</td>\n",
       "    </tr>\n",
       "    <tr>\n",
       "      <th>SVM</th>\n",
       "      <td>0.509756</td>\n",
       "      <td>0.452439</td>\n",
       "      <td>0.493902</td>\n",
       "      <td>0.514634</td>\n",
       "      <td>0.564634</td>\n",
       "    </tr>\n",
       "    <tr>\n",
       "      <th>SVR</th>\n",
       "      <td>0.504878</td>\n",
       "      <td>0.393902</td>\n",
       "      <td>0.428049</td>\n",
       "      <td>0.508537</td>\n",
       "      <td>0.484146</td>\n",
       "    </tr>\n",
       "    <tr>\n",
       "      <th>MLPcls</th>\n",
       "      <td>0.491463</td>\n",
       "      <td>0.450000</td>\n",
       "      <td>0.467073</td>\n",
       "      <td>0.509756</td>\n",
       "      <td>0.541463</td>\n",
       "    </tr>\n",
       "    <tr>\n",
       "      <th>MLPreg</th>\n",
       "      <td>0.467073</td>\n",
       "      <td>0.421951</td>\n",
       "      <td>0.380488</td>\n",
       "      <td>0.435366</td>\n",
       "      <td>0.424390</td>\n",
       "    </tr>\n",
       "    <tr>\n",
       "      <th>DTcls</th>\n",
       "      <td>0.453659</td>\n",
       "      <td>0.412195</td>\n",
       "      <td>0.368293</td>\n",
       "      <td>0.464634</td>\n",
       "      <td>0.458537</td>\n",
       "    </tr>\n",
       "    <tr>\n",
       "      <th>DTreg</th>\n",
       "      <td>0.456098</td>\n",
       "      <td>0.408537</td>\n",
       "      <td>0.421951</td>\n",
       "      <td>0.500000</td>\n",
       "      <td>0.447561</td>\n",
       "    </tr>\n",
       "    <tr>\n",
       "      <th>RFcls</th>\n",
       "      <td>0.548780</td>\n",
       "      <td>0.458537</td>\n",
       "      <td>0.497561</td>\n",
       "      <td>0.565854</td>\n",
       "      <td>0.537805</td>\n",
       "    </tr>\n",
       "    <tr>\n",
       "      <th>RFreg</th>\n",
       "      <td>0.500000</td>\n",
       "      <td>0.428049</td>\n",
       "      <td>0.424390</td>\n",
       "      <td>0.525610</td>\n",
       "      <td>0.464634</td>\n",
       "    </tr>\n",
       "    <tr>\n",
       "      <th>ADAcls</th>\n",
       "      <td>0.439024</td>\n",
       "      <td>0.401220</td>\n",
       "      <td>0.401220</td>\n",
       "      <td>0.493902</td>\n",
       "      <td>0.456098</td>\n",
       "    </tr>\n",
       "    <tr>\n",
       "      <th>ADAreg</th>\n",
       "      <td>0.435366</td>\n",
       "      <td>0.378049</td>\n",
       "      <td>0.409756</td>\n",
       "      <td>0.419512</td>\n",
       "      <td>0.415854</td>\n",
       "    </tr>\n",
       "    <tr>\n",
       "      <th>BAGcls</th>\n",
       "      <td>0.546341</td>\n",
       "      <td>0.445122</td>\n",
       "      <td>0.481707</td>\n",
       "      <td>0.521951</td>\n",
       "      <td>0.553659</td>\n",
       "    </tr>\n",
       "    <tr>\n",
       "      <th>BAGreg</th>\n",
       "      <td>0.528049</td>\n",
       "      <td>0.417073</td>\n",
       "      <td>0.423171</td>\n",
       "      <td>0.534146</td>\n",
       "      <td>0.479268</td>\n",
       "    </tr>\n",
       "    <tr>\n",
       "      <th>GDBcls</th>\n",
       "      <td>0.548780</td>\n",
       "      <td>0.432927</td>\n",
       "      <td>0.487805</td>\n",
       "      <td>0.554878</td>\n",
       "      <td>0.551220</td>\n",
       "    </tr>\n",
       "    <tr>\n",
       "      <th>GDBreg</th>\n",
       "      <td>0.526829</td>\n",
       "      <td>0.420732</td>\n",
       "      <td>0.428049</td>\n",
       "      <td>0.542683</td>\n",
       "      <td>0.487805</td>\n",
       "    </tr>\n",
       "    <tr>\n",
       "      <th>XGBcls</th>\n",
       "      <td>0.518293</td>\n",
       "      <td>0.469512</td>\n",
       "      <td>0.457317</td>\n",
       "      <td>0.529268</td>\n",
       "      <td>0.542683</td>\n",
       "    </tr>\n",
       "    <tr>\n",
       "      <th>XGBreg</th>\n",
       "      <td>0.508537</td>\n",
       "      <td>0.409756</td>\n",
       "      <td>0.429268</td>\n",
       "      <td>0.518293</td>\n",
       "      <td>0.504878</td>\n",
       "    </tr>\n",
       "  </tbody>\n",
       "</table>\n",
       "</div>"
      ],
      "text/plain": [
       "                RoadNet  Social total  Social type  RoadNet+Social total  \\\n",
       "model                                                                      \n",
       "majority_vote  0.371951      0.371951     0.371951              0.371951   \n",
       "ols            0.468293      0.407317     0.350000              0.489024   \n",
       "lasso          0.379268      0.379268     0.379268              0.379268   \n",
       "ridge          0.480488      0.397561     0.428049              0.487805   \n",
       "logistics      0.467073      0.439024     0.489024              0.534146   \n",
       "linearSVM      0.480488      0.429268     0.517073              0.535366   \n",
       "linearSVR      0.479268      0.403659     0.421951              0.498780   \n",
       "SVM            0.509756      0.452439     0.493902              0.514634   \n",
       "SVR            0.504878      0.393902     0.428049              0.508537   \n",
       "MLPcls         0.491463      0.450000     0.467073              0.509756   \n",
       "MLPreg         0.467073      0.421951     0.380488              0.435366   \n",
       "DTcls          0.453659      0.412195     0.368293              0.464634   \n",
       "DTreg          0.456098      0.408537     0.421951              0.500000   \n",
       "RFcls          0.548780      0.458537     0.497561              0.565854   \n",
       "RFreg          0.500000      0.428049     0.424390              0.525610   \n",
       "ADAcls         0.439024      0.401220     0.401220              0.493902   \n",
       "ADAreg         0.435366      0.378049     0.409756              0.419512   \n",
       "BAGcls         0.546341      0.445122     0.481707              0.521951   \n",
       "BAGreg         0.528049      0.417073     0.423171              0.534146   \n",
       "GDBcls         0.548780      0.432927     0.487805              0.554878   \n",
       "GDBreg         0.526829      0.420732     0.428049              0.542683   \n",
       "XGBcls         0.518293      0.469512     0.457317              0.529268   \n",
       "XGBreg         0.508537      0.409756     0.429268              0.518293   \n",
       "\n",
       "               RoadNet+Social type  \n",
       "model                               \n",
       "majority_vote             0.371951  \n",
       "ols                       0.391463  \n",
       "lasso                     0.379268  \n",
       "ridge                     0.497561  \n",
       "logistics                 0.531707  \n",
       "linearSVM                 0.541463  \n",
       "linearSVR                 0.503659  \n",
       "SVM                       0.564634  \n",
       "SVR                       0.484146  \n",
       "MLPcls                    0.541463  \n",
       "MLPreg                    0.424390  \n",
       "DTcls                     0.458537  \n",
       "DTreg                     0.447561  \n",
       "RFcls                     0.537805  \n",
       "RFreg                     0.464634  \n",
       "ADAcls                    0.456098  \n",
       "ADAreg                    0.415854  \n",
       "BAGcls                    0.553659  \n",
       "BAGreg                    0.479268  \n",
       "GDBcls                    0.551220  \n",
       "GDBreg                    0.487805  \n",
       "XGBcls                    0.542683  \n",
       "XGBreg                    0.504878  "
      ]
     },
     "execution_count": 13,
     "metadata": {},
     "output_type": "execute_result"
    }
   ],
   "source": [
    "f1_choices = ['test_f1_weighted', 'test_f1_macro', 'test_f1_micro']\n",
    "f1_type = f1_choices[2]\n",
    "table = means.reset_index().pivot(index='model', columns='col_name', values=f1_type)\n",
    "\n",
    "dtb = deliverable_table(table)\n",
    "dtb.to_csv('deliverables/EXP1-%s.csv' % f1_type)\n",
    "dtb\n"
   ]
  },
  {
   "cell_type": "code",
   "execution_count": 19,
   "metadata": {},
   "outputs": [
    {
     "data": {
      "text/html": [
       "<script>requirejs.config({paths: { 'plotly': ['https://cdn.plot.ly/plotly-latest.min']},});if(!window.Plotly) {{require(['plotly'],function(plotly) {window.Plotly=plotly;});}}</script>"
      ],
      "text/vnd.plotly.v1+html": [
       "<script>requirejs.config({paths: { 'plotly': ['https://cdn.plot.ly/plotly-latest.min']},});if(!window.Plotly) {{require(['plotly'],function(plotly) {window.Plotly=plotly;});}}</script>"
      ]
     },
     "metadata": {},
     "output_type": "display_data"
    }
   ],
   "source": [
    "from plotly.offline import init_notebook_mode, iplot\n",
    "import plotly.graph_objs as go\n",
    "init_notebook_mode(True)\n",
    "import plotly.figure_factory as ff"
   ]
  },
  {
   "cell_type": "code",
   "execution_count": 20,
   "metadata": {},
   "outputs": [
    {
     "data": {
      "application/vnd.plotly.v1+json": {
       "data": [
        {
         "colorscale": "magma",
         "showscale": false,
         "type": "heatmap",
         "x": [
          "RoadNet",
          "Social total",
          "Social type",
          "RoadNet+Social total",
          "RoadNet+Social type"
         ],
         "y": [
          "majority_vote",
          "ols",
          "lasso",
          "ridge",
          "logistics",
          "linearSVM",
          "linearSVR",
          "SVM",
          "SVR",
          "MLPcls",
          "MLPreg",
          "DTcls",
          "DTreg",
          "RFcls",
          "RFreg",
          "ADAcls",
          "ADAreg",
          "BAGcls",
          "BAGreg",
          "GDBcls",
          "GDBreg",
          "XGBcls",
          "XGBreg"
         ],
         "z": [
          [
           0.20485418857127255,
           0.20485418857127255,
           0.20485418857127255,
           0.20485418857127255,
           0.20485418857127255
          ],
          [
           0.4423121055366345,
           0.3221696919788529,
           0.35137806974931773,
           0.4789950858542511,
           0.40741156832397846
          ],
          [
           0.20942344598847948,
           0.20942344598847948,
           0.20942344598847948,
           0.20942344598847948,
           0.20942344598847948
          ],
          [
           0.4157741559325559,
           0.2922439036393246,
           0.3570857917851189,
           0.4408222915941648,
           0.4543618624801754
          ],
          [
           0.43274033518959304,
           0.41303618829473676,
           0.4776205730802408,
           0.5110148854993138,
           0.5183359453804026
          ],
          [
           0.43212256776588465,
           0.38989179330218615,
           0.49011768535484046,
           0.507741866179745,
           0.5258389210136333
          ],
          [
           0.4141892610989646,
           0.3240061001251927,
           0.38173893092240285,
           0.43688387226934944,
           0.47384400947541777
          ],
          [
           0.508314555336165,
           0.4226247461320436,
           0.4740013635489362,
           0.5059791525409854,
           0.5532019100291253
          ],
          [
           0.4493690576357464,
           0.2720191452157583,
           0.3688303261446938,
           0.4458884521909061,
           0.4598776070643506
          ],
          [
           0.48029029202877804,
           0.4306324980487874,
           0.4605747392736272,
           0.4956322681860691,
           0.5364775944654945
          ],
          [
           0.3876685475370916,
           0.33469109356231164,
           0.3380645025253121,
           0.3511594771542912,
           0.346864551752239
          ],
          [
           0.4518091263177135,
           0.38867533001129917,
           0.3516903600377524,
           0.46454070141980647,
           0.44876875091876184
          ],
          [
           0.39981212319271203,
           0.32304741619719324,
           0.3495292725104894,
           0.46267777919247743,
           0.40720814529386906
          ],
          [
           0.5378713691678834,
           0.4381618339672845,
           0.4752939539122328,
           0.5477419283913074,
           0.5193639606330521
          ],
          [
           0.46212231668491216,
           0.36870076449876465,
           0.353103995804107,
           0.4873782296381604,
           0.4048187619623674
          ],
          [
           0.3944657978930282,
           0.3629723035074953,
           0.37389735098780585,
           0.43325319256634975,
           0.4233854897090774
          ],
          [
           0.3445092114975338,
           0.2682039207753718,
           0.290603706417898,
           0.3337427880995075,
           0.32210763190509445
          ],
          [
           0.5325148607076406,
           0.43193712151831887,
           0.46447360437017693,
           0.5100113099654442,
           0.5378944288979524
          ],
          [
           0.4979634124117224,
           0.36352361120486293,
           0.36489739210377203,
           0.5073514715600338,
           0.4342273157491907
          ],
          [
           0.5414577012930163,
           0.4171804093285541,
           0.47254262399238145,
           0.5420301776031973,
           0.5352993238167992
          ],
          [
           0.5006211725782319,
           0.35681619555961996,
           0.37011485758685714,
           0.5148370207336302,
           0.448058551820555
          ],
          [
           0.5066088107071465,
           0.45679735768186436,
           0.4457134979327496,
           0.5182613365262343,
           0.5294764884656742
          ],
          [
           0.4808329795391323,
           0.3496770264221844,
           0.3916396016334319,
           0.4947217853328028,
           0.47948025877637346
          ]
         ]
        }
       ],
       "layout": {
        "annotations": [
         {
          "font": {
           "color": "#000000"
          },
          "showarrow": false,
          "text": "0.204854188571",
          "x": "RoadNet",
          "xref": "x1",
          "y": "majority_vote",
          "yref": "y1"
         },
         {
          "font": {
           "color": "#000000"
          },
          "showarrow": false,
          "text": "0.204854188571",
          "x": "Social total",
          "xref": "x1",
          "y": "majority_vote",
          "yref": "y1"
         },
         {
          "font": {
           "color": "#000000"
          },
          "showarrow": false,
          "text": "0.204854188571",
          "x": "Social type",
          "xref": "x1",
          "y": "majority_vote",
          "yref": "y1"
         },
         {
          "font": {
           "color": "#000000"
          },
          "showarrow": false,
          "text": "0.204854188571",
          "x": "RoadNet+Social total",
          "xref": "x1",
          "y": "majority_vote",
          "yref": "y1"
         },
         {
          "font": {
           "color": "#000000"
          },
          "showarrow": false,
          "text": "0.204854188571",
          "x": "RoadNet+Social type",
          "xref": "x1",
          "y": "majority_vote",
          "yref": "y1"
         },
         {
          "font": {
           "color": "#000000"
          },
          "showarrow": false,
          "text": "0.442312105537",
          "x": "RoadNet",
          "xref": "x1",
          "y": "ols",
          "yref": "y1"
         },
         {
          "font": {
           "color": "#000000"
          },
          "showarrow": false,
          "text": "0.322169691979",
          "x": "Social total",
          "xref": "x1",
          "y": "ols",
          "yref": "y1"
         },
         {
          "font": {
           "color": "#000000"
          },
          "showarrow": false,
          "text": "0.351378069749",
          "x": "Social type",
          "xref": "x1",
          "y": "ols",
          "yref": "y1"
         },
         {
          "font": {
           "color": "#000000"
          },
          "showarrow": false,
          "text": "0.478995085854",
          "x": "RoadNet+Social total",
          "xref": "x1",
          "y": "ols",
          "yref": "y1"
         },
         {
          "font": {
           "color": "#000000"
          },
          "showarrow": false,
          "text": "0.407411568324",
          "x": "RoadNet+Social type",
          "xref": "x1",
          "y": "ols",
          "yref": "y1"
         },
         {
          "font": {
           "color": "#000000"
          },
          "showarrow": false,
          "text": "0.209423445988",
          "x": "RoadNet",
          "xref": "x1",
          "y": "lasso",
          "yref": "y1"
         },
         {
          "font": {
           "color": "#000000"
          },
          "showarrow": false,
          "text": "0.209423445988",
          "x": "Social total",
          "xref": "x1",
          "y": "lasso",
          "yref": "y1"
         },
         {
          "font": {
           "color": "#000000"
          },
          "showarrow": false,
          "text": "0.209423445988",
          "x": "Social type",
          "xref": "x1",
          "y": "lasso",
          "yref": "y1"
         },
         {
          "font": {
           "color": "#000000"
          },
          "showarrow": false,
          "text": "0.209423445988",
          "x": "RoadNet+Social total",
          "xref": "x1",
          "y": "lasso",
          "yref": "y1"
         },
         {
          "font": {
           "color": "#000000"
          },
          "showarrow": false,
          "text": "0.209423445988",
          "x": "RoadNet+Social type",
          "xref": "x1",
          "y": "lasso",
          "yref": "y1"
         },
         {
          "font": {
           "color": "#000000"
          },
          "showarrow": false,
          "text": "0.415774155933",
          "x": "RoadNet",
          "xref": "x1",
          "y": "ridge",
          "yref": "y1"
         },
         {
          "font": {
           "color": "#000000"
          },
          "showarrow": false,
          "text": "0.292243903639",
          "x": "Social total",
          "xref": "x1",
          "y": "ridge",
          "yref": "y1"
         },
         {
          "font": {
           "color": "#000000"
          },
          "showarrow": false,
          "text": "0.357085791785",
          "x": "Social type",
          "xref": "x1",
          "y": "ridge",
          "yref": "y1"
         },
         {
          "font": {
           "color": "#000000"
          },
          "showarrow": false,
          "text": "0.440822291594",
          "x": "RoadNet+Social total",
          "xref": "x1",
          "y": "ridge",
          "yref": "y1"
         },
         {
          "font": {
           "color": "#000000"
          },
          "showarrow": false,
          "text": "0.45436186248",
          "x": "RoadNet+Social type",
          "xref": "x1",
          "y": "ridge",
          "yref": "y1"
         },
         {
          "font": {
           "color": "#000000"
          },
          "showarrow": false,
          "text": "0.43274033519",
          "x": "RoadNet",
          "xref": "x1",
          "y": "logistics",
          "yref": "y1"
         },
         {
          "font": {
           "color": "#000000"
          },
          "showarrow": false,
          "text": "0.413036188295",
          "x": "Social total",
          "xref": "x1",
          "y": "logistics",
          "yref": "y1"
         },
         {
          "font": {
           "color": "#000000"
          },
          "showarrow": false,
          "text": "0.47762057308",
          "x": "Social type",
          "xref": "x1",
          "y": "logistics",
          "yref": "y1"
         },
         {
          "font": {
           "color": "#000000"
          },
          "showarrow": false,
          "text": "0.511014885499",
          "x": "RoadNet+Social total",
          "xref": "x1",
          "y": "logistics",
          "yref": "y1"
         },
         {
          "font": {
           "color": "#000000"
          },
          "showarrow": false,
          "text": "0.51833594538",
          "x": "RoadNet+Social type",
          "xref": "x1",
          "y": "logistics",
          "yref": "y1"
         },
         {
          "font": {
           "color": "#000000"
          },
          "showarrow": false,
          "text": "0.432122567766",
          "x": "RoadNet",
          "xref": "x1",
          "y": "linearSVM",
          "yref": "y1"
         },
         {
          "font": {
           "color": "#000000"
          },
          "showarrow": false,
          "text": "0.389891793302",
          "x": "Social total",
          "xref": "x1",
          "y": "linearSVM",
          "yref": "y1"
         },
         {
          "font": {
           "color": "#000000"
          },
          "showarrow": false,
          "text": "0.490117685355",
          "x": "Social type",
          "xref": "x1",
          "y": "linearSVM",
          "yref": "y1"
         },
         {
          "font": {
           "color": "#000000"
          },
          "showarrow": false,
          "text": "0.50774186618",
          "x": "RoadNet+Social total",
          "xref": "x1",
          "y": "linearSVM",
          "yref": "y1"
         },
         {
          "font": {
           "color": "#000000"
          },
          "showarrow": false,
          "text": "0.525838921014",
          "x": "RoadNet+Social type",
          "xref": "x1",
          "y": "linearSVM",
          "yref": "y1"
         },
         {
          "font": {
           "color": "#000000"
          },
          "showarrow": false,
          "text": "0.414189261099",
          "x": "RoadNet",
          "xref": "x1",
          "y": "linearSVR",
          "yref": "y1"
         },
         {
          "font": {
           "color": "#000000"
          },
          "showarrow": false,
          "text": "0.324006100125",
          "x": "Social total",
          "xref": "x1",
          "y": "linearSVR",
          "yref": "y1"
         },
         {
          "font": {
           "color": "#000000"
          },
          "showarrow": false,
          "text": "0.381738930922",
          "x": "Social type",
          "xref": "x1",
          "y": "linearSVR",
          "yref": "y1"
         },
         {
          "font": {
           "color": "#000000"
          },
          "showarrow": false,
          "text": "0.436883872269",
          "x": "RoadNet+Social total",
          "xref": "x1",
          "y": "linearSVR",
          "yref": "y1"
         },
         {
          "font": {
           "color": "#000000"
          },
          "showarrow": false,
          "text": "0.473844009475",
          "x": "RoadNet+Social type",
          "xref": "x1",
          "y": "linearSVR",
          "yref": "y1"
         },
         {
          "font": {
           "color": "#000000"
          },
          "showarrow": false,
          "text": "0.508314555336",
          "x": "RoadNet",
          "xref": "x1",
          "y": "SVM",
          "yref": "y1"
         },
         {
          "font": {
           "color": "#000000"
          },
          "showarrow": false,
          "text": "0.422624746132",
          "x": "Social total",
          "xref": "x1",
          "y": "SVM",
          "yref": "y1"
         },
         {
          "font": {
           "color": "#000000"
          },
          "showarrow": false,
          "text": "0.474001363549",
          "x": "Social type",
          "xref": "x1",
          "y": "SVM",
          "yref": "y1"
         },
         {
          "font": {
           "color": "#000000"
          },
          "showarrow": false,
          "text": "0.505979152541",
          "x": "RoadNet+Social total",
          "xref": "x1",
          "y": "SVM",
          "yref": "y1"
         },
         {
          "font": {
           "color": "#000000"
          },
          "showarrow": false,
          "text": "0.553201910029",
          "x": "RoadNet+Social type",
          "xref": "x1",
          "y": "SVM",
          "yref": "y1"
         },
         {
          "font": {
           "color": "#000000"
          },
          "showarrow": false,
          "text": "0.449369057636",
          "x": "RoadNet",
          "xref": "x1",
          "y": "SVR",
          "yref": "y1"
         },
         {
          "font": {
           "color": "#000000"
          },
          "showarrow": false,
          "text": "0.272019145216",
          "x": "Social total",
          "xref": "x1",
          "y": "SVR",
          "yref": "y1"
         },
         {
          "font": {
           "color": "#000000"
          },
          "showarrow": false,
          "text": "0.368830326145",
          "x": "Social type",
          "xref": "x1",
          "y": "SVR",
          "yref": "y1"
         },
         {
          "font": {
           "color": "#000000"
          },
          "showarrow": false,
          "text": "0.445888452191",
          "x": "RoadNet+Social total",
          "xref": "x1",
          "y": "SVR",
          "yref": "y1"
         },
         {
          "font": {
           "color": "#000000"
          },
          "showarrow": false,
          "text": "0.459877607064",
          "x": "RoadNet+Social type",
          "xref": "x1",
          "y": "SVR",
          "yref": "y1"
         },
         {
          "font": {
           "color": "#000000"
          },
          "showarrow": false,
          "text": "0.480290292029",
          "x": "RoadNet",
          "xref": "x1",
          "y": "MLPcls",
          "yref": "y1"
         },
         {
          "font": {
           "color": "#000000"
          },
          "showarrow": false,
          "text": "0.430632498049",
          "x": "Social total",
          "xref": "x1",
          "y": "MLPcls",
          "yref": "y1"
         },
         {
          "font": {
           "color": "#000000"
          },
          "showarrow": false,
          "text": "0.460574739274",
          "x": "Social type",
          "xref": "x1",
          "y": "MLPcls",
          "yref": "y1"
         },
         {
          "font": {
           "color": "#000000"
          },
          "showarrow": false,
          "text": "0.495632268186",
          "x": "RoadNet+Social total",
          "xref": "x1",
          "y": "MLPcls",
          "yref": "y1"
         },
         {
          "font": {
           "color": "#000000"
          },
          "showarrow": false,
          "text": "0.536477594465",
          "x": "RoadNet+Social type",
          "xref": "x1",
          "y": "MLPcls",
          "yref": "y1"
         },
         {
          "font": {
           "color": "#000000"
          },
          "showarrow": false,
          "text": "0.387668547537",
          "x": "RoadNet",
          "xref": "x1",
          "y": "MLPreg",
          "yref": "y1"
         },
         {
          "font": {
           "color": "#000000"
          },
          "showarrow": false,
          "text": "0.334691093562",
          "x": "Social total",
          "xref": "x1",
          "y": "MLPreg",
          "yref": "y1"
         },
         {
          "font": {
           "color": "#000000"
          },
          "showarrow": false,
          "text": "0.338064502525",
          "x": "Social type",
          "xref": "x1",
          "y": "MLPreg",
          "yref": "y1"
         },
         {
          "font": {
           "color": "#000000"
          },
          "showarrow": false,
          "text": "0.351159477154",
          "x": "RoadNet+Social total",
          "xref": "x1",
          "y": "MLPreg",
          "yref": "y1"
         },
         {
          "font": {
           "color": "#000000"
          },
          "showarrow": false,
          "text": "0.346864551752",
          "x": "RoadNet+Social type",
          "xref": "x1",
          "y": "MLPreg",
          "yref": "y1"
         },
         {
          "font": {
           "color": "#000000"
          },
          "showarrow": false,
          "text": "0.451809126318",
          "x": "RoadNet",
          "xref": "x1",
          "y": "DTcls",
          "yref": "y1"
         },
         {
          "font": {
           "color": "#000000"
          },
          "showarrow": false,
          "text": "0.388675330011",
          "x": "Social total",
          "xref": "x1",
          "y": "DTcls",
          "yref": "y1"
         },
         {
          "font": {
           "color": "#000000"
          },
          "showarrow": false,
          "text": "0.351690360038",
          "x": "Social type",
          "xref": "x1",
          "y": "DTcls",
          "yref": "y1"
         },
         {
          "font": {
           "color": "#000000"
          },
          "showarrow": false,
          "text": "0.46454070142",
          "x": "RoadNet+Social total",
          "xref": "x1",
          "y": "DTcls",
          "yref": "y1"
         },
         {
          "font": {
           "color": "#000000"
          },
          "showarrow": false,
          "text": "0.448768750919",
          "x": "RoadNet+Social type",
          "xref": "x1",
          "y": "DTcls",
          "yref": "y1"
         },
         {
          "font": {
           "color": "#000000"
          },
          "showarrow": false,
          "text": "0.399812123193",
          "x": "RoadNet",
          "xref": "x1",
          "y": "DTreg",
          "yref": "y1"
         },
         {
          "font": {
           "color": "#000000"
          },
          "showarrow": false,
          "text": "0.323047416197",
          "x": "Social total",
          "xref": "x1",
          "y": "DTreg",
          "yref": "y1"
         },
         {
          "font": {
           "color": "#000000"
          },
          "showarrow": false,
          "text": "0.34952927251",
          "x": "Social type",
          "xref": "x1",
          "y": "DTreg",
          "yref": "y1"
         },
         {
          "font": {
           "color": "#000000"
          },
          "showarrow": false,
          "text": "0.462677779192",
          "x": "RoadNet+Social total",
          "xref": "x1",
          "y": "DTreg",
          "yref": "y1"
         },
         {
          "font": {
           "color": "#000000"
          },
          "showarrow": false,
          "text": "0.407208145294",
          "x": "RoadNet+Social type",
          "xref": "x1",
          "y": "DTreg",
          "yref": "y1"
         },
         {
          "font": {
           "color": "#000000"
          },
          "showarrow": false,
          "text": "0.537871369168",
          "x": "RoadNet",
          "xref": "x1",
          "y": "RFcls",
          "yref": "y1"
         },
         {
          "font": {
           "color": "#000000"
          },
          "showarrow": false,
          "text": "0.438161833967",
          "x": "Social total",
          "xref": "x1",
          "y": "RFcls",
          "yref": "y1"
         },
         {
          "font": {
           "color": "#000000"
          },
          "showarrow": false,
          "text": "0.475293953912",
          "x": "Social type",
          "xref": "x1",
          "y": "RFcls",
          "yref": "y1"
         },
         {
          "font": {
           "color": "#000000"
          },
          "showarrow": false,
          "text": "0.547741928391",
          "x": "RoadNet+Social total",
          "xref": "x1",
          "y": "RFcls",
          "yref": "y1"
         },
         {
          "font": {
           "color": "#000000"
          },
          "showarrow": false,
          "text": "0.519363960633",
          "x": "RoadNet+Social type",
          "xref": "x1",
          "y": "RFcls",
          "yref": "y1"
         },
         {
          "font": {
           "color": "#000000"
          },
          "showarrow": false,
          "text": "0.462122316685",
          "x": "RoadNet",
          "xref": "x1",
          "y": "RFreg",
          "yref": "y1"
         },
         {
          "font": {
           "color": "#000000"
          },
          "showarrow": false,
          "text": "0.368700764499",
          "x": "Social total",
          "xref": "x1",
          "y": "RFreg",
          "yref": "y1"
         },
         {
          "font": {
           "color": "#000000"
          },
          "showarrow": false,
          "text": "0.353103995804",
          "x": "Social type",
          "xref": "x1",
          "y": "RFreg",
          "yref": "y1"
         },
         {
          "font": {
           "color": "#000000"
          },
          "showarrow": false,
          "text": "0.487378229638",
          "x": "RoadNet+Social total",
          "xref": "x1",
          "y": "RFreg",
          "yref": "y1"
         },
         {
          "font": {
           "color": "#000000"
          },
          "showarrow": false,
          "text": "0.404818761962",
          "x": "RoadNet+Social type",
          "xref": "x1",
          "y": "RFreg",
          "yref": "y1"
         },
         {
          "font": {
           "color": "#000000"
          },
          "showarrow": false,
          "text": "0.394465797893",
          "x": "RoadNet",
          "xref": "x1",
          "y": "ADAcls",
          "yref": "y1"
         },
         {
          "font": {
           "color": "#000000"
          },
          "showarrow": false,
          "text": "0.362972303507",
          "x": "Social total",
          "xref": "x1",
          "y": "ADAcls",
          "yref": "y1"
         },
         {
          "font": {
           "color": "#000000"
          },
          "showarrow": false,
          "text": "0.373897350988",
          "x": "Social type",
          "xref": "x1",
          "y": "ADAcls",
          "yref": "y1"
         },
         {
          "font": {
           "color": "#000000"
          },
          "showarrow": false,
          "text": "0.433253192566",
          "x": "RoadNet+Social total",
          "xref": "x1",
          "y": "ADAcls",
          "yref": "y1"
         },
         {
          "font": {
           "color": "#000000"
          },
          "showarrow": false,
          "text": "0.423385489709",
          "x": "RoadNet+Social type",
          "xref": "x1",
          "y": "ADAcls",
          "yref": "y1"
         },
         {
          "font": {
           "color": "#000000"
          },
          "showarrow": false,
          "text": "0.344509211498",
          "x": "RoadNet",
          "xref": "x1",
          "y": "ADAreg",
          "yref": "y1"
         },
         {
          "font": {
           "color": "#000000"
          },
          "showarrow": false,
          "text": "0.268203920775",
          "x": "Social total",
          "xref": "x1",
          "y": "ADAreg",
          "yref": "y1"
         },
         {
          "font": {
           "color": "#000000"
          },
          "showarrow": false,
          "text": "0.290603706418",
          "x": "Social type",
          "xref": "x1",
          "y": "ADAreg",
          "yref": "y1"
         },
         {
          "font": {
           "color": "#000000"
          },
          "showarrow": false,
          "text": "0.3337427881",
          "x": "RoadNet+Social total",
          "xref": "x1",
          "y": "ADAreg",
          "yref": "y1"
         },
         {
          "font": {
           "color": "#000000"
          },
          "showarrow": false,
          "text": "0.322107631905",
          "x": "RoadNet+Social type",
          "xref": "x1",
          "y": "ADAreg",
          "yref": "y1"
         },
         {
          "font": {
           "color": "#000000"
          },
          "showarrow": false,
          "text": "0.532514860708",
          "x": "RoadNet",
          "xref": "x1",
          "y": "BAGcls",
          "yref": "y1"
         },
         {
          "font": {
           "color": "#000000"
          },
          "showarrow": false,
          "text": "0.431937121518",
          "x": "Social total",
          "xref": "x1",
          "y": "BAGcls",
          "yref": "y1"
         },
         {
          "font": {
           "color": "#000000"
          },
          "showarrow": false,
          "text": "0.46447360437",
          "x": "Social type",
          "xref": "x1",
          "y": "BAGcls",
          "yref": "y1"
         },
         {
          "font": {
           "color": "#000000"
          },
          "showarrow": false,
          "text": "0.510011309965",
          "x": "RoadNet+Social total",
          "xref": "x1",
          "y": "BAGcls",
          "yref": "y1"
         },
         {
          "font": {
           "color": "#000000"
          },
          "showarrow": false,
          "text": "0.537894428898",
          "x": "RoadNet+Social type",
          "xref": "x1",
          "y": "BAGcls",
          "yref": "y1"
         },
         {
          "font": {
           "color": "#000000"
          },
          "showarrow": false,
          "text": "0.497963412412",
          "x": "RoadNet",
          "xref": "x1",
          "y": "BAGreg",
          "yref": "y1"
         },
         {
          "font": {
           "color": "#000000"
          },
          "showarrow": false,
          "text": "0.363523611205",
          "x": "Social total",
          "xref": "x1",
          "y": "BAGreg",
          "yref": "y1"
         },
         {
          "font": {
           "color": "#000000"
          },
          "showarrow": false,
          "text": "0.364897392104",
          "x": "Social type",
          "xref": "x1",
          "y": "BAGreg",
          "yref": "y1"
         },
         {
          "font": {
           "color": "#000000"
          },
          "showarrow": false,
          "text": "0.50735147156",
          "x": "RoadNet+Social total",
          "xref": "x1",
          "y": "BAGreg",
          "yref": "y1"
         },
         {
          "font": {
           "color": "#000000"
          },
          "showarrow": false,
          "text": "0.434227315749",
          "x": "RoadNet+Social type",
          "xref": "x1",
          "y": "BAGreg",
          "yref": "y1"
         },
         {
          "font": {
           "color": "#000000"
          },
          "showarrow": false,
          "text": "0.541457701293",
          "x": "RoadNet",
          "xref": "x1",
          "y": "GDBcls",
          "yref": "y1"
         },
         {
          "font": {
           "color": "#000000"
          },
          "showarrow": false,
          "text": "0.417180409329",
          "x": "Social total",
          "xref": "x1",
          "y": "GDBcls",
          "yref": "y1"
         },
         {
          "font": {
           "color": "#000000"
          },
          "showarrow": false,
          "text": "0.472542623992",
          "x": "Social type",
          "xref": "x1",
          "y": "GDBcls",
          "yref": "y1"
         },
         {
          "font": {
           "color": "#000000"
          },
          "showarrow": false,
          "text": "0.542030177603",
          "x": "RoadNet+Social total",
          "xref": "x1",
          "y": "GDBcls",
          "yref": "y1"
         },
         {
          "font": {
           "color": "#000000"
          },
          "showarrow": false,
          "text": "0.535299323817",
          "x": "RoadNet+Social type",
          "xref": "x1",
          "y": "GDBcls",
          "yref": "y1"
         },
         {
          "font": {
           "color": "#000000"
          },
          "showarrow": false,
          "text": "0.500621172578",
          "x": "RoadNet",
          "xref": "x1",
          "y": "GDBreg",
          "yref": "y1"
         },
         {
          "font": {
           "color": "#000000"
          },
          "showarrow": false,
          "text": "0.35681619556",
          "x": "Social total",
          "xref": "x1",
          "y": "GDBreg",
          "yref": "y1"
         },
         {
          "font": {
           "color": "#000000"
          },
          "showarrow": false,
          "text": "0.370114857587",
          "x": "Social type",
          "xref": "x1",
          "y": "GDBreg",
          "yref": "y1"
         },
         {
          "font": {
           "color": "#000000"
          },
          "showarrow": false,
          "text": "0.514837020734",
          "x": "RoadNet+Social total",
          "xref": "x1",
          "y": "GDBreg",
          "yref": "y1"
         },
         {
          "font": {
           "color": "#000000"
          },
          "showarrow": false,
          "text": "0.448058551821",
          "x": "RoadNet+Social type",
          "xref": "x1",
          "y": "GDBreg",
          "yref": "y1"
         },
         {
          "font": {
           "color": "#000000"
          },
          "showarrow": false,
          "text": "0.506608810707",
          "x": "RoadNet",
          "xref": "x1",
          "y": "XGBcls",
          "yref": "y1"
         },
         {
          "font": {
           "color": "#000000"
          },
          "showarrow": false,
          "text": "0.456797357682",
          "x": "Social total",
          "xref": "x1",
          "y": "XGBcls",
          "yref": "y1"
         },
         {
          "font": {
           "color": "#000000"
          },
          "showarrow": false,
          "text": "0.445713497933",
          "x": "Social type",
          "xref": "x1",
          "y": "XGBcls",
          "yref": "y1"
         },
         {
          "font": {
           "color": "#000000"
          },
          "showarrow": false,
          "text": "0.518261336526",
          "x": "RoadNet+Social total",
          "xref": "x1",
          "y": "XGBcls",
          "yref": "y1"
         },
         {
          "font": {
           "color": "#000000"
          },
          "showarrow": false,
          "text": "0.529476488466",
          "x": "RoadNet+Social type",
          "xref": "x1",
          "y": "XGBcls",
          "yref": "y1"
         },
         {
          "font": {
           "color": "#000000"
          },
          "showarrow": false,
          "text": "0.480832979539",
          "x": "RoadNet",
          "xref": "x1",
          "y": "XGBreg",
          "yref": "y1"
         },
         {
          "font": {
           "color": "#000000"
          },
          "showarrow": false,
          "text": "0.349677026422",
          "x": "Social total",
          "xref": "x1",
          "y": "XGBreg",
          "yref": "y1"
         },
         {
          "font": {
           "color": "#000000"
          },
          "showarrow": false,
          "text": "0.391639601633",
          "x": "Social type",
          "xref": "x1",
          "y": "XGBreg",
          "yref": "y1"
         },
         {
          "font": {
           "color": "#000000"
          },
          "showarrow": false,
          "text": "0.494721785333",
          "x": "RoadNet+Social total",
          "xref": "x1",
          "y": "XGBreg",
          "yref": "y1"
         },
         {
          "font": {
           "color": "#000000"
          },
          "showarrow": false,
          "text": "0.479480258776",
          "x": "RoadNet+Social type",
          "xref": "x1",
          "y": "XGBreg",
          "yref": "y1"
         }
        ],
        "xaxis": {
         "dtick": 1,
         "gridcolor": "rgb(0, 0, 0)",
         "side": "top",
         "ticks": ""
        },
        "yaxis": {
         "autorange": "reversed",
         "dtick": 1,
         "ticks": "",
         "ticksuffix": "  "
        }
       }
      },
      "text/html": [
       "<div id=\"72673cd2-5f91-43fd-ac69-ecb6535c0980\" style=\"height: 525px; width: 100%;\" class=\"plotly-graph-div\"></div><script type=\"text/javascript\">require([\"plotly\"], function(Plotly) { window.PLOTLYENV=window.PLOTLYENV || {};window.PLOTLYENV.BASE_URL=\"https://plot.ly\";Plotly.newPlot(\"72673cd2-5f91-43fd-ac69-ecb6535c0980\", [{\"type\": \"heatmap\", \"z\": [[0.20485418857127255, 0.20485418857127255, 0.20485418857127255, 0.20485418857127255, 0.20485418857127255], [0.4423121055366345, 0.3221696919788529, 0.35137806974931773, 0.4789950858542511, 0.40741156832397846], [0.20942344598847948, 0.20942344598847948, 0.20942344598847948, 0.20942344598847948, 0.20942344598847948], [0.4157741559325559, 0.2922439036393246, 0.3570857917851189, 0.4408222915941648, 0.4543618624801754], [0.43274033518959304, 0.41303618829473676, 0.4776205730802408, 0.5110148854993138, 0.5183359453804026], [0.43212256776588465, 0.38989179330218615, 0.49011768535484046, 0.507741866179745, 0.5258389210136333], [0.4141892610989646, 0.3240061001251927, 0.38173893092240285, 0.43688387226934944, 0.47384400947541777], [0.508314555336165, 0.4226247461320436, 0.4740013635489362, 0.5059791525409854, 0.5532019100291253], [0.4493690576357464, 0.2720191452157583, 0.3688303261446938, 0.4458884521909061, 0.4598776070643506], [0.48029029202877804, 0.4306324980487874, 0.4605747392736272, 0.4956322681860691, 0.5364775944654945], [0.3876685475370916, 0.33469109356231164, 0.3380645025253121, 0.3511594771542912, 0.346864551752239], [0.4518091263177135, 0.38867533001129917, 0.3516903600377524, 0.46454070141980647, 0.44876875091876184], [0.39981212319271203, 0.32304741619719324, 0.3495292725104894, 0.46267777919247743, 0.40720814529386906], [0.5378713691678834, 0.4381618339672845, 0.4752939539122328, 0.5477419283913074, 0.5193639606330521], [0.46212231668491216, 0.36870076449876465, 0.353103995804107, 0.4873782296381604, 0.4048187619623674], [0.3944657978930282, 0.3629723035074953, 0.37389735098780585, 0.43325319256634975, 0.4233854897090774], [0.3445092114975338, 0.2682039207753718, 0.290603706417898, 0.3337427880995075, 0.32210763190509445], [0.5325148607076406, 0.43193712151831887, 0.46447360437017693, 0.5100113099654442, 0.5378944288979524], [0.4979634124117224, 0.36352361120486293, 0.36489739210377203, 0.5073514715600338, 0.4342273157491907], [0.5414577012930163, 0.4171804093285541, 0.47254262399238145, 0.5420301776031973, 0.5352993238167992], [0.5006211725782319, 0.35681619555961996, 0.37011485758685714, 0.5148370207336302, 0.448058551820555], [0.5066088107071465, 0.45679735768186436, 0.4457134979327496, 0.5182613365262343, 0.5294764884656742], [0.4808329795391323, 0.3496770264221844, 0.3916396016334319, 0.4947217853328028, 0.47948025877637346]], \"x\": [\"RoadNet\", \"Social total\", \"Social type\", \"RoadNet+Social total\", \"RoadNet+Social type\"], \"y\": [\"majority_vote\", \"ols\", \"lasso\", \"ridge\", \"logistics\", \"linearSVM\", \"linearSVR\", \"SVM\", \"SVR\", \"MLPcls\", \"MLPreg\", \"DTcls\", \"DTreg\", \"RFcls\", \"RFreg\", \"ADAcls\", \"ADAreg\", \"BAGcls\", \"BAGreg\", \"GDBcls\", \"GDBreg\", \"XGBcls\", \"XGBreg\"], \"colorscale\": \"magma\", \"showscale\": false}], {\"annotations\": [{\"text\": \"0.204854188571\", \"x\": \"RoadNet\", \"y\": \"majority_vote\", \"xref\": \"x1\", \"yref\": \"y1\", \"font\": {\"color\": \"#000000\"}, \"showarrow\": false}, {\"text\": \"0.204854188571\", \"x\": \"Social total\", \"y\": \"majority_vote\", \"xref\": \"x1\", \"yref\": \"y1\", \"font\": {\"color\": \"#000000\"}, \"showarrow\": false}, {\"text\": \"0.204854188571\", \"x\": \"Social type\", \"y\": \"majority_vote\", \"xref\": \"x1\", \"yref\": \"y1\", \"font\": {\"color\": \"#000000\"}, \"showarrow\": false}, {\"text\": \"0.204854188571\", \"x\": \"RoadNet+Social total\", \"y\": \"majority_vote\", \"xref\": \"x1\", \"yref\": \"y1\", \"font\": {\"color\": \"#000000\"}, \"showarrow\": false}, {\"text\": \"0.204854188571\", \"x\": \"RoadNet+Social type\", \"y\": \"majority_vote\", \"xref\": \"x1\", \"yref\": \"y1\", \"font\": {\"color\": \"#000000\"}, \"showarrow\": false}, {\"text\": \"0.442312105537\", \"x\": \"RoadNet\", \"y\": \"ols\", \"xref\": \"x1\", \"yref\": \"y1\", \"font\": {\"color\": \"#000000\"}, \"showarrow\": false}, {\"text\": \"0.322169691979\", \"x\": \"Social total\", \"y\": \"ols\", \"xref\": \"x1\", \"yref\": \"y1\", \"font\": {\"color\": \"#000000\"}, \"showarrow\": false}, {\"text\": \"0.351378069749\", \"x\": \"Social type\", \"y\": \"ols\", \"xref\": \"x1\", \"yref\": \"y1\", \"font\": {\"color\": \"#000000\"}, \"showarrow\": false}, {\"text\": \"0.478995085854\", \"x\": \"RoadNet+Social total\", \"y\": \"ols\", \"xref\": \"x1\", \"yref\": \"y1\", \"font\": {\"color\": \"#000000\"}, \"showarrow\": false}, {\"text\": \"0.407411568324\", \"x\": \"RoadNet+Social type\", \"y\": \"ols\", \"xref\": \"x1\", \"yref\": \"y1\", \"font\": {\"color\": \"#000000\"}, \"showarrow\": false}, {\"text\": \"0.209423445988\", \"x\": \"RoadNet\", \"y\": \"lasso\", \"xref\": \"x1\", \"yref\": \"y1\", \"font\": {\"color\": \"#000000\"}, \"showarrow\": false}, {\"text\": \"0.209423445988\", \"x\": \"Social total\", \"y\": \"lasso\", \"xref\": \"x1\", \"yref\": \"y1\", \"font\": {\"color\": \"#000000\"}, \"showarrow\": false}, {\"text\": \"0.209423445988\", \"x\": \"Social type\", \"y\": \"lasso\", \"xref\": \"x1\", \"yref\": \"y1\", \"font\": {\"color\": \"#000000\"}, \"showarrow\": false}, {\"text\": \"0.209423445988\", \"x\": \"RoadNet+Social total\", \"y\": \"lasso\", \"xref\": \"x1\", \"yref\": \"y1\", \"font\": {\"color\": \"#000000\"}, \"showarrow\": false}, {\"text\": \"0.209423445988\", \"x\": \"RoadNet+Social type\", \"y\": \"lasso\", \"xref\": \"x1\", \"yref\": \"y1\", \"font\": {\"color\": \"#000000\"}, \"showarrow\": false}, {\"text\": \"0.415774155933\", \"x\": \"RoadNet\", \"y\": \"ridge\", \"xref\": \"x1\", \"yref\": \"y1\", \"font\": {\"color\": \"#000000\"}, \"showarrow\": false}, {\"text\": \"0.292243903639\", \"x\": \"Social total\", \"y\": \"ridge\", \"xref\": \"x1\", \"yref\": \"y1\", \"font\": {\"color\": \"#000000\"}, \"showarrow\": false}, {\"text\": \"0.357085791785\", \"x\": \"Social type\", \"y\": \"ridge\", \"xref\": \"x1\", \"yref\": \"y1\", \"font\": {\"color\": \"#000000\"}, \"showarrow\": false}, {\"text\": \"0.440822291594\", \"x\": \"RoadNet+Social total\", \"y\": \"ridge\", \"xref\": \"x1\", \"yref\": \"y1\", \"font\": {\"color\": \"#000000\"}, \"showarrow\": false}, {\"text\": \"0.45436186248\", \"x\": \"RoadNet+Social type\", \"y\": \"ridge\", \"xref\": \"x1\", \"yref\": \"y1\", \"font\": {\"color\": \"#000000\"}, \"showarrow\": false}, {\"text\": \"0.43274033519\", \"x\": \"RoadNet\", \"y\": \"logistics\", \"xref\": \"x1\", \"yref\": \"y1\", \"font\": {\"color\": \"#000000\"}, \"showarrow\": false}, {\"text\": \"0.413036188295\", \"x\": \"Social total\", \"y\": \"logistics\", \"xref\": \"x1\", \"yref\": \"y1\", \"font\": {\"color\": \"#000000\"}, \"showarrow\": false}, {\"text\": \"0.47762057308\", \"x\": \"Social type\", \"y\": \"logistics\", \"xref\": \"x1\", \"yref\": \"y1\", \"font\": {\"color\": \"#000000\"}, \"showarrow\": false}, {\"text\": \"0.511014885499\", \"x\": \"RoadNet+Social total\", \"y\": \"logistics\", \"xref\": \"x1\", \"yref\": \"y1\", \"font\": {\"color\": \"#000000\"}, \"showarrow\": false}, {\"text\": \"0.51833594538\", \"x\": \"RoadNet+Social type\", \"y\": \"logistics\", \"xref\": \"x1\", \"yref\": \"y1\", \"font\": {\"color\": \"#000000\"}, \"showarrow\": false}, {\"text\": \"0.432122567766\", \"x\": \"RoadNet\", \"y\": \"linearSVM\", \"xref\": \"x1\", \"yref\": \"y1\", \"font\": {\"color\": \"#000000\"}, \"showarrow\": false}, {\"text\": \"0.389891793302\", \"x\": \"Social total\", \"y\": \"linearSVM\", \"xref\": \"x1\", \"yref\": \"y1\", \"font\": {\"color\": \"#000000\"}, \"showarrow\": false}, {\"text\": \"0.490117685355\", \"x\": \"Social type\", \"y\": \"linearSVM\", \"xref\": \"x1\", \"yref\": \"y1\", \"font\": {\"color\": \"#000000\"}, \"showarrow\": false}, {\"text\": \"0.50774186618\", \"x\": \"RoadNet+Social total\", \"y\": \"linearSVM\", \"xref\": \"x1\", \"yref\": \"y1\", \"font\": {\"color\": \"#000000\"}, \"showarrow\": false}, {\"text\": \"0.525838921014\", \"x\": \"RoadNet+Social type\", \"y\": \"linearSVM\", \"xref\": \"x1\", \"yref\": \"y1\", \"font\": {\"color\": \"#000000\"}, \"showarrow\": false}, {\"text\": \"0.414189261099\", \"x\": \"RoadNet\", \"y\": \"linearSVR\", \"xref\": \"x1\", \"yref\": \"y1\", \"font\": {\"color\": \"#000000\"}, \"showarrow\": false}, {\"text\": \"0.324006100125\", \"x\": \"Social total\", \"y\": \"linearSVR\", \"xref\": \"x1\", \"yref\": \"y1\", \"font\": {\"color\": \"#000000\"}, \"showarrow\": false}, {\"text\": \"0.381738930922\", \"x\": \"Social type\", \"y\": \"linearSVR\", \"xref\": \"x1\", \"yref\": \"y1\", \"font\": {\"color\": \"#000000\"}, \"showarrow\": false}, {\"text\": \"0.436883872269\", \"x\": \"RoadNet+Social total\", \"y\": \"linearSVR\", \"xref\": \"x1\", \"yref\": \"y1\", \"font\": {\"color\": \"#000000\"}, \"showarrow\": false}, {\"text\": \"0.473844009475\", \"x\": \"RoadNet+Social type\", \"y\": \"linearSVR\", \"xref\": \"x1\", \"yref\": \"y1\", \"font\": {\"color\": \"#000000\"}, \"showarrow\": false}, {\"text\": \"0.508314555336\", \"x\": \"RoadNet\", \"y\": \"SVM\", \"xref\": \"x1\", \"yref\": \"y1\", \"font\": {\"color\": \"#000000\"}, \"showarrow\": false}, {\"text\": \"0.422624746132\", \"x\": \"Social total\", \"y\": \"SVM\", \"xref\": \"x1\", \"yref\": \"y1\", \"font\": {\"color\": \"#000000\"}, \"showarrow\": false}, {\"text\": \"0.474001363549\", \"x\": \"Social type\", \"y\": \"SVM\", \"xref\": \"x1\", \"yref\": \"y1\", \"font\": {\"color\": \"#000000\"}, \"showarrow\": false}, {\"text\": \"0.505979152541\", \"x\": \"RoadNet+Social total\", \"y\": \"SVM\", \"xref\": \"x1\", \"yref\": \"y1\", \"font\": {\"color\": \"#000000\"}, \"showarrow\": false}, {\"text\": \"0.553201910029\", \"x\": \"RoadNet+Social type\", \"y\": \"SVM\", \"xref\": \"x1\", \"yref\": \"y1\", \"font\": {\"color\": \"#000000\"}, \"showarrow\": false}, {\"text\": \"0.449369057636\", \"x\": \"RoadNet\", \"y\": \"SVR\", \"xref\": \"x1\", \"yref\": \"y1\", \"font\": {\"color\": \"#000000\"}, \"showarrow\": false}, {\"text\": \"0.272019145216\", \"x\": \"Social total\", \"y\": \"SVR\", \"xref\": \"x1\", \"yref\": \"y1\", \"font\": {\"color\": \"#000000\"}, \"showarrow\": false}, {\"text\": \"0.368830326145\", \"x\": \"Social type\", \"y\": \"SVR\", \"xref\": \"x1\", \"yref\": \"y1\", \"font\": {\"color\": \"#000000\"}, \"showarrow\": false}, {\"text\": \"0.445888452191\", \"x\": \"RoadNet+Social total\", \"y\": \"SVR\", \"xref\": \"x1\", \"yref\": \"y1\", \"font\": {\"color\": \"#000000\"}, \"showarrow\": false}, {\"text\": \"0.459877607064\", \"x\": \"RoadNet+Social type\", \"y\": \"SVR\", \"xref\": \"x1\", \"yref\": \"y1\", \"font\": {\"color\": \"#000000\"}, \"showarrow\": false}, {\"text\": \"0.480290292029\", \"x\": \"RoadNet\", \"y\": \"MLPcls\", \"xref\": \"x1\", \"yref\": \"y1\", \"font\": {\"color\": \"#000000\"}, \"showarrow\": false}, {\"text\": \"0.430632498049\", \"x\": \"Social total\", \"y\": \"MLPcls\", \"xref\": \"x1\", \"yref\": \"y1\", \"font\": {\"color\": \"#000000\"}, \"showarrow\": false}, {\"text\": \"0.460574739274\", \"x\": \"Social type\", \"y\": \"MLPcls\", \"xref\": \"x1\", \"yref\": \"y1\", \"font\": {\"color\": \"#000000\"}, \"showarrow\": false}, {\"text\": \"0.495632268186\", \"x\": \"RoadNet+Social total\", \"y\": \"MLPcls\", \"xref\": \"x1\", \"yref\": \"y1\", \"font\": {\"color\": \"#000000\"}, \"showarrow\": false}, {\"text\": \"0.536477594465\", \"x\": \"RoadNet+Social type\", \"y\": \"MLPcls\", \"xref\": \"x1\", \"yref\": \"y1\", \"font\": {\"color\": \"#000000\"}, \"showarrow\": false}, {\"text\": \"0.387668547537\", \"x\": \"RoadNet\", \"y\": \"MLPreg\", \"xref\": \"x1\", \"yref\": \"y1\", \"font\": {\"color\": \"#000000\"}, \"showarrow\": false}, {\"text\": \"0.334691093562\", \"x\": \"Social total\", \"y\": \"MLPreg\", \"xref\": \"x1\", \"yref\": \"y1\", \"font\": {\"color\": \"#000000\"}, \"showarrow\": false}, {\"text\": \"0.338064502525\", \"x\": \"Social type\", \"y\": \"MLPreg\", \"xref\": \"x1\", \"yref\": \"y1\", \"font\": {\"color\": \"#000000\"}, \"showarrow\": false}, {\"text\": \"0.351159477154\", \"x\": \"RoadNet+Social total\", \"y\": \"MLPreg\", \"xref\": \"x1\", \"yref\": \"y1\", \"font\": {\"color\": \"#000000\"}, \"showarrow\": false}, {\"text\": \"0.346864551752\", \"x\": \"RoadNet+Social type\", \"y\": \"MLPreg\", \"xref\": \"x1\", \"yref\": \"y1\", \"font\": {\"color\": \"#000000\"}, \"showarrow\": false}, {\"text\": \"0.451809126318\", \"x\": \"RoadNet\", \"y\": \"DTcls\", \"xref\": \"x1\", \"yref\": \"y1\", \"font\": {\"color\": \"#000000\"}, \"showarrow\": false}, {\"text\": \"0.388675330011\", \"x\": \"Social total\", \"y\": \"DTcls\", \"xref\": \"x1\", \"yref\": \"y1\", \"font\": {\"color\": \"#000000\"}, \"showarrow\": false}, {\"text\": \"0.351690360038\", \"x\": \"Social type\", \"y\": \"DTcls\", \"xref\": \"x1\", \"yref\": \"y1\", \"font\": {\"color\": \"#000000\"}, \"showarrow\": false}, {\"text\": \"0.46454070142\", \"x\": \"RoadNet+Social total\", \"y\": \"DTcls\", \"xref\": \"x1\", \"yref\": \"y1\", \"font\": {\"color\": \"#000000\"}, \"showarrow\": false}, {\"text\": \"0.448768750919\", \"x\": \"RoadNet+Social type\", \"y\": \"DTcls\", \"xref\": \"x1\", \"yref\": \"y1\", \"font\": {\"color\": \"#000000\"}, \"showarrow\": false}, {\"text\": \"0.399812123193\", \"x\": \"RoadNet\", \"y\": \"DTreg\", \"xref\": \"x1\", \"yref\": \"y1\", \"font\": {\"color\": \"#000000\"}, \"showarrow\": false}, {\"text\": \"0.323047416197\", \"x\": \"Social total\", \"y\": \"DTreg\", \"xref\": \"x1\", \"yref\": \"y1\", \"font\": {\"color\": \"#000000\"}, \"showarrow\": false}, {\"text\": \"0.34952927251\", \"x\": \"Social type\", \"y\": \"DTreg\", \"xref\": \"x1\", \"yref\": \"y1\", \"font\": {\"color\": \"#000000\"}, \"showarrow\": false}, {\"text\": \"0.462677779192\", \"x\": \"RoadNet+Social total\", \"y\": \"DTreg\", \"xref\": \"x1\", \"yref\": \"y1\", \"font\": {\"color\": \"#000000\"}, \"showarrow\": false}, {\"text\": \"0.407208145294\", \"x\": \"RoadNet+Social type\", \"y\": \"DTreg\", \"xref\": \"x1\", \"yref\": \"y1\", \"font\": {\"color\": \"#000000\"}, \"showarrow\": false}, {\"text\": \"0.537871369168\", \"x\": \"RoadNet\", \"y\": \"RFcls\", \"xref\": \"x1\", \"yref\": \"y1\", \"font\": {\"color\": \"#000000\"}, \"showarrow\": false}, {\"text\": \"0.438161833967\", \"x\": \"Social total\", \"y\": \"RFcls\", \"xref\": \"x1\", \"yref\": \"y1\", \"font\": {\"color\": \"#000000\"}, \"showarrow\": false}, {\"text\": \"0.475293953912\", \"x\": \"Social type\", \"y\": \"RFcls\", \"xref\": \"x1\", \"yref\": \"y1\", \"font\": {\"color\": \"#000000\"}, \"showarrow\": false}, {\"text\": \"0.547741928391\", \"x\": \"RoadNet+Social total\", \"y\": \"RFcls\", \"xref\": \"x1\", \"yref\": \"y1\", \"font\": {\"color\": \"#000000\"}, \"showarrow\": false}, {\"text\": \"0.519363960633\", \"x\": \"RoadNet+Social type\", \"y\": \"RFcls\", \"xref\": \"x1\", \"yref\": \"y1\", \"font\": {\"color\": \"#000000\"}, \"showarrow\": false}, {\"text\": \"0.462122316685\", \"x\": \"RoadNet\", \"y\": \"RFreg\", \"xref\": \"x1\", \"yref\": \"y1\", \"font\": {\"color\": \"#000000\"}, \"showarrow\": false}, {\"text\": \"0.368700764499\", \"x\": \"Social total\", \"y\": \"RFreg\", \"xref\": \"x1\", \"yref\": \"y1\", \"font\": {\"color\": \"#000000\"}, \"showarrow\": false}, {\"text\": \"0.353103995804\", \"x\": \"Social type\", \"y\": \"RFreg\", \"xref\": \"x1\", \"yref\": \"y1\", \"font\": {\"color\": \"#000000\"}, \"showarrow\": false}, {\"text\": \"0.487378229638\", \"x\": \"RoadNet+Social total\", \"y\": \"RFreg\", \"xref\": \"x1\", \"yref\": \"y1\", \"font\": {\"color\": \"#000000\"}, \"showarrow\": false}, {\"text\": \"0.404818761962\", \"x\": \"RoadNet+Social type\", \"y\": \"RFreg\", \"xref\": \"x1\", \"yref\": \"y1\", \"font\": {\"color\": \"#000000\"}, \"showarrow\": false}, {\"text\": \"0.394465797893\", \"x\": \"RoadNet\", \"y\": \"ADAcls\", \"xref\": \"x1\", \"yref\": \"y1\", \"font\": {\"color\": \"#000000\"}, \"showarrow\": false}, {\"text\": \"0.362972303507\", \"x\": \"Social total\", \"y\": \"ADAcls\", \"xref\": \"x1\", \"yref\": \"y1\", \"font\": {\"color\": \"#000000\"}, \"showarrow\": false}, {\"text\": \"0.373897350988\", \"x\": \"Social type\", \"y\": \"ADAcls\", \"xref\": \"x1\", \"yref\": \"y1\", \"font\": {\"color\": \"#000000\"}, \"showarrow\": false}, {\"text\": \"0.433253192566\", \"x\": \"RoadNet+Social total\", \"y\": \"ADAcls\", \"xref\": \"x1\", \"yref\": \"y1\", \"font\": {\"color\": \"#000000\"}, \"showarrow\": false}, {\"text\": \"0.423385489709\", \"x\": \"RoadNet+Social type\", \"y\": \"ADAcls\", \"xref\": \"x1\", \"yref\": \"y1\", \"font\": {\"color\": \"#000000\"}, \"showarrow\": false}, {\"text\": \"0.344509211498\", \"x\": \"RoadNet\", \"y\": \"ADAreg\", \"xref\": \"x1\", \"yref\": \"y1\", \"font\": {\"color\": \"#000000\"}, \"showarrow\": false}, {\"text\": \"0.268203920775\", \"x\": \"Social total\", \"y\": \"ADAreg\", \"xref\": \"x1\", \"yref\": \"y1\", \"font\": {\"color\": \"#000000\"}, \"showarrow\": false}, {\"text\": \"0.290603706418\", \"x\": \"Social type\", \"y\": \"ADAreg\", \"xref\": \"x1\", \"yref\": \"y1\", \"font\": {\"color\": \"#000000\"}, \"showarrow\": false}, {\"text\": \"0.3337427881\", \"x\": \"RoadNet+Social total\", \"y\": \"ADAreg\", \"xref\": \"x1\", \"yref\": \"y1\", \"font\": {\"color\": \"#000000\"}, \"showarrow\": false}, {\"text\": \"0.322107631905\", \"x\": \"RoadNet+Social type\", \"y\": \"ADAreg\", \"xref\": \"x1\", \"yref\": \"y1\", \"font\": {\"color\": \"#000000\"}, \"showarrow\": false}, {\"text\": \"0.532514860708\", \"x\": \"RoadNet\", \"y\": \"BAGcls\", \"xref\": \"x1\", \"yref\": \"y1\", \"font\": {\"color\": \"#000000\"}, \"showarrow\": false}, {\"text\": \"0.431937121518\", \"x\": \"Social total\", \"y\": \"BAGcls\", \"xref\": \"x1\", \"yref\": \"y1\", \"font\": {\"color\": \"#000000\"}, \"showarrow\": false}, {\"text\": \"0.46447360437\", \"x\": \"Social type\", \"y\": \"BAGcls\", \"xref\": \"x1\", \"yref\": \"y1\", \"font\": {\"color\": \"#000000\"}, \"showarrow\": false}, {\"text\": \"0.510011309965\", \"x\": \"RoadNet+Social total\", \"y\": \"BAGcls\", \"xref\": \"x1\", \"yref\": \"y1\", \"font\": {\"color\": \"#000000\"}, \"showarrow\": false}, {\"text\": \"0.537894428898\", \"x\": \"RoadNet+Social type\", \"y\": \"BAGcls\", \"xref\": \"x1\", \"yref\": \"y1\", \"font\": {\"color\": \"#000000\"}, \"showarrow\": false}, {\"text\": \"0.497963412412\", \"x\": \"RoadNet\", \"y\": \"BAGreg\", \"xref\": \"x1\", \"yref\": \"y1\", \"font\": {\"color\": \"#000000\"}, \"showarrow\": false}, {\"text\": \"0.363523611205\", \"x\": \"Social total\", \"y\": \"BAGreg\", \"xref\": \"x1\", \"yref\": \"y1\", \"font\": {\"color\": \"#000000\"}, \"showarrow\": false}, {\"text\": \"0.364897392104\", \"x\": \"Social type\", \"y\": \"BAGreg\", \"xref\": \"x1\", \"yref\": \"y1\", \"font\": {\"color\": \"#000000\"}, \"showarrow\": false}, {\"text\": \"0.50735147156\", \"x\": \"RoadNet+Social total\", \"y\": \"BAGreg\", \"xref\": \"x1\", \"yref\": \"y1\", \"font\": {\"color\": \"#000000\"}, \"showarrow\": false}, {\"text\": \"0.434227315749\", \"x\": \"RoadNet+Social type\", \"y\": \"BAGreg\", \"xref\": \"x1\", \"yref\": \"y1\", \"font\": {\"color\": \"#000000\"}, \"showarrow\": false}, {\"text\": \"0.541457701293\", \"x\": \"RoadNet\", \"y\": \"GDBcls\", \"xref\": \"x1\", \"yref\": \"y1\", \"font\": {\"color\": \"#000000\"}, \"showarrow\": false}, {\"text\": \"0.417180409329\", \"x\": \"Social total\", \"y\": \"GDBcls\", \"xref\": \"x1\", \"yref\": \"y1\", \"font\": {\"color\": \"#000000\"}, \"showarrow\": false}, {\"text\": \"0.472542623992\", \"x\": \"Social type\", \"y\": \"GDBcls\", \"xref\": \"x1\", \"yref\": \"y1\", \"font\": {\"color\": \"#000000\"}, \"showarrow\": false}, {\"text\": \"0.542030177603\", \"x\": \"RoadNet+Social total\", \"y\": \"GDBcls\", \"xref\": \"x1\", \"yref\": \"y1\", \"font\": {\"color\": \"#000000\"}, \"showarrow\": false}, {\"text\": \"0.535299323817\", \"x\": \"RoadNet+Social type\", \"y\": \"GDBcls\", \"xref\": \"x1\", \"yref\": \"y1\", \"font\": {\"color\": \"#000000\"}, \"showarrow\": false}, {\"text\": \"0.500621172578\", \"x\": \"RoadNet\", \"y\": \"GDBreg\", \"xref\": \"x1\", \"yref\": \"y1\", \"font\": {\"color\": \"#000000\"}, \"showarrow\": false}, {\"text\": \"0.35681619556\", \"x\": \"Social total\", \"y\": \"GDBreg\", \"xref\": \"x1\", \"yref\": \"y1\", \"font\": {\"color\": \"#000000\"}, \"showarrow\": false}, {\"text\": \"0.370114857587\", \"x\": \"Social type\", \"y\": \"GDBreg\", \"xref\": \"x1\", \"yref\": \"y1\", \"font\": {\"color\": \"#000000\"}, \"showarrow\": false}, {\"text\": \"0.514837020734\", \"x\": \"RoadNet+Social total\", \"y\": \"GDBreg\", \"xref\": \"x1\", \"yref\": \"y1\", \"font\": {\"color\": \"#000000\"}, \"showarrow\": false}, {\"text\": \"0.448058551821\", \"x\": \"RoadNet+Social type\", \"y\": \"GDBreg\", \"xref\": \"x1\", \"yref\": \"y1\", \"font\": {\"color\": \"#000000\"}, \"showarrow\": false}, {\"text\": \"0.506608810707\", \"x\": \"RoadNet\", \"y\": \"XGBcls\", \"xref\": \"x1\", \"yref\": \"y1\", \"font\": {\"color\": \"#000000\"}, \"showarrow\": false}, {\"text\": \"0.456797357682\", \"x\": \"Social total\", \"y\": \"XGBcls\", \"xref\": \"x1\", \"yref\": \"y1\", \"font\": {\"color\": \"#000000\"}, \"showarrow\": false}, {\"text\": \"0.445713497933\", \"x\": \"Social type\", \"y\": \"XGBcls\", \"xref\": \"x1\", \"yref\": \"y1\", \"font\": {\"color\": \"#000000\"}, \"showarrow\": false}, {\"text\": \"0.518261336526\", \"x\": \"RoadNet+Social total\", \"y\": \"XGBcls\", \"xref\": \"x1\", \"yref\": \"y1\", \"font\": {\"color\": \"#000000\"}, \"showarrow\": false}, {\"text\": \"0.529476488466\", \"x\": \"RoadNet+Social type\", \"y\": \"XGBcls\", \"xref\": \"x1\", \"yref\": \"y1\", \"font\": {\"color\": \"#000000\"}, \"showarrow\": false}, {\"text\": \"0.480832979539\", \"x\": \"RoadNet\", \"y\": \"XGBreg\", \"xref\": \"x1\", \"yref\": \"y1\", \"font\": {\"color\": \"#000000\"}, \"showarrow\": false}, {\"text\": \"0.349677026422\", \"x\": \"Social total\", \"y\": \"XGBreg\", \"xref\": \"x1\", \"yref\": \"y1\", \"font\": {\"color\": \"#000000\"}, \"showarrow\": false}, {\"text\": \"0.391639601633\", \"x\": \"Social type\", \"y\": \"XGBreg\", \"xref\": \"x1\", \"yref\": \"y1\", \"font\": {\"color\": \"#000000\"}, \"showarrow\": false}, {\"text\": \"0.494721785333\", \"x\": \"RoadNet+Social total\", \"y\": \"XGBreg\", \"xref\": \"x1\", \"yref\": \"y1\", \"font\": {\"color\": \"#000000\"}, \"showarrow\": false}, {\"text\": \"0.479480258776\", \"x\": \"RoadNet+Social type\", \"y\": \"XGBreg\", \"xref\": \"x1\", \"yref\": \"y1\", \"font\": {\"color\": \"#000000\"}, \"showarrow\": false}], \"xaxis\": {\"ticks\": \"\", \"dtick\": 1, \"side\": \"top\", \"gridcolor\": \"rgb(0, 0, 0)\"}, \"yaxis\": {\"ticks\": \"\", \"dtick\": 1, \"ticksuffix\": \"  \", \"autorange\": \"reversed\"}}, {\"showLink\": true, \"linkText\": \"Export to plot.ly\"})});</script>"
      ],
      "text/vnd.plotly.v1+html": [
       "<div id=\"72673cd2-5f91-43fd-ac69-ecb6535c0980\" style=\"height: 525px; width: 100%;\" class=\"plotly-graph-div\"></div><script type=\"text/javascript\">require([\"plotly\"], function(Plotly) { window.PLOTLYENV=window.PLOTLYENV || {};window.PLOTLYENV.BASE_URL=\"https://plot.ly\";Plotly.newPlot(\"72673cd2-5f91-43fd-ac69-ecb6535c0980\", [{\"type\": \"heatmap\", \"z\": [[0.20485418857127255, 0.20485418857127255, 0.20485418857127255, 0.20485418857127255, 0.20485418857127255], [0.4423121055366345, 0.3221696919788529, 0.35137806974931773, 0.4789950858542511, 0.40741156832397846], [0.20942344598847948, 0.20942344598847948, 0.20942344598847948, 0.20942344598847948, 0.20942344598847948], [0.4157741559325559, 0.2922439036393246, 0.3570857917851189, 0.4408222915941648, 0.4543618624801754], [0.43274033518959304, 0.41303618829473676, 0.4776205730802408, 0.5110148854993138, 0.5183359453804026], [0.43212256776588465, 0.38989179330218615, 0.49011768535484046, 0.507741866179745, 0.5258389210136333], [0.4141892610989646, 0.3240061001251927, 0.38173893092240285, 0.43688387226934944, 0.47384400947541777], [0.508314555336165, 0.4226247461320436, 0.4740013635489362, 0.5059791525409854, 0.5532019100291253], [0.4493690576357464, 0.2720191452157583, 0.3688303261446938, 0.4458884521909061, 0.4598776070643506], [0.48029029202877804, 0.4306324980487874, 0.4605747392736272, 0.4956322681860691, 0.5364775944654945], [0.3876685475370916, 0.33469109356231164, 0.3380645025253121, 0.3511594771542912, 0.346864551752239], [0.4518091263177135, 0.38867533001129917, 0.3516903600377524, 0.46454070141980647, 0.44876875091876184], [0.39981212319271203, 0.32304741619719324, 0.3495292725104894, 0.46267777919247743, 0.40720814529386906], [0.5378713691678834, 0.4381618339672845, 0.4752939539122328, 0.5477419283913074, 0.5193639606330521], [0.46212231668491216, 0.36870076449876465, 0.353103995804107, 0.4873782296381604, 0.4048187619623674], [0.3944657978930282, 0.3629723035074953, 0.37389735098780585, 0.43325319256634975, 0.4233854897090774], [0.3445092114975338, 0.2682039207753718, 0.290603706417898, 0.3337427880995075, 0.32210763190509445], [0.5325148607076406, 0.43193712151831887, 0.46447360437017693, 0.5100113099654442, 0.5378944288979524], [0.4979634124117224, 0.36352361120486293, 0.36489739210377203, 0.5073514715600338, 0.4342273157491907], [0.5414577012930163, 0.4171804093285541, 0.47254262399238145, 0.5420301776031973, 0.5352993238167992], [0.5006211725782319, 0.35681619555961996, 0.37011485758685714, 0.5148370207336302, 0.448058551820555], [0.5066088107071465, 0.45679735768186436, 0.4457134979327496, 0.5182613365262343, 0.5294764884656742], [0.4808329795391323, 0.3496770264221844, 0.3916396016334319, 0.4947217853328028, 0.47948025877637346]], \"x\": [\"RoadNet\", \"Social total\", \"Social type\", \"RoadNet+Social total\", \"RoadNet+Social type\"], \"y\": [\"majority_vote\", \"ols\", \"lasso\", \"ridge\", \"logistics\", \"linearSVM\", \"linearSVR\", \"SVM\", \"SVR\", \"MLPcls\", \"MLPreg\", \"DTcls\", \"DTreg\", \"RFcls\", \"RFreg\", \"ADAcls\", \"ADAreg\", \"BAGcls\", \"BAGreg\", \"GDBcls\", \"GDBreg\", \"XGBcls\", \"XGBreg\"], \"colorscale\": \"magma\", \"showscale\": false}], {\"annotations\": [{\"text\": \"0.204854188571\", \"x\": \"RoadNet\", \"y\": \"majority_vote\", \"xref\": \"x1\", \"yref\": \"y1\", \"font\": {\"color\": \"#000000\"}, \"showarrow\": false}, {\"text\": \"0.204854188571\", \"x\": \"Social total\", \"y\": \"majority_vote\", \"xref\": \"x1\", \"yref\": \"y1\", \"font\": {\"color\": \"#000000\"}, \"showarrow\": false}, {\"text\": \"0.204854188571\", \"x\": \"Social type\", \"y\": \"majority_vote\", \"xref\": \"x1\", \"yref\": \"y1\", \"font\": {\"color\": \"#000000\"}, \"showarrow\": false}, {\"text\": \"0.204854188571\", \"x\": \"RoadNet+Social total\", \"y\": \"majority_vote\", \"xref\": \"x1\", \"yref\": \"y1\", \"font\": {\"color\": \"#000000\"}, \"showarrow\": false}, {\"text\": \"0.204854188571\", \"x\": \"RoadNet+Social type\", \"y\": \"majority_vote\", \"xref\": \"x1\", \"yref\": \"y1\", \"font\": {\"color\": \"#000000\"}, \"showarrow\": false}, {\"text\": \"0.442312105537\", \"x\": \"RoadNet\", \"y\": \"ols\", \"xref\": \"x1\", \"yref\": \"y1\", \"font\": {\"color\": \"#000000\"}, \"showarrow\": false}, {\"text\": \"0.322169691979\", \"x\": \"Social total\", \"y\": \"ols\", \"xref\": \"x1\", \"yref\": \"y1\", \"font\": {\"color\": \"#000000\"}, \"showarrow\": false}, {\"text\": \"0.351378069749\", \"x\": \"Social type\", \"y\": \"ols\", \"xref\": \"x1\", \"yref\": \"y1\", \"font\": {\"color\": \"#000000\"}, \"showarrow\": false}, {\"text\": \"0.478995085854\", \"x\": \"RoadNet+Social total\", \"y\": \"ols\", \"xref\": \"x1\", \"yref\": \"y1\", \"font\": {\"color\": \"#000000\"}, \"showarrow\": false}, {\"text\": \"0.407411568324\", \"x\": \"RoadNet+Social type\", \"y\": \"ols\", \"xref\": \"x1\", \"yref\": \"y1\", \"font\": {\"color\": \"#000000\"}, \"showarrow\": false}, {\"text\": \"0.209423445988\", \"x\": \"RoadNet\", \"y\": \"lasso\", \"xref\": \"x1\", \"yref\": \"y1\", \"font\": {\"color\": \"#000000\"}, \"showarrow\": false}, {\"text\": \"0.209423445988\", \"x\": \"Social total\", \"y\": \"lasso\", \"xref\": \"x1\", \"yref\": \"y1\", \"font\": {\"color\": \"#000000\"}, \"showarrow\": false}, {\"text\": \"0.209423445988\", \"x\": \"Social type\", \"y\": \"lasso\", \"xref\": \"x1\", \"yref\": \"y1\", \"font\": {\"color\": \"#000000\"}, \"showarrow\": false}, {\"text\": \"0.209423445988\", \"x\": \"RoadNet+Social total\", \"y\": \"lasso\", \"xref\": \"x1\", \"yref\": \"y1\", \"font\": {\"color\": \"#000000\"}, \"showarrow\": false}, {\"text\": \"0.209423445988\", \"x\": \"RoadNet+Social type\", \"y\": \"lasso\", \"xref\": \"x1\", \"yref\": \"y1\", \"font\": {\"color\": \"#000000\"}, \"showarrow\": false}, {\"text\": \"0.415774155933\", \"x\": \"RoadNet\", \"y\": \"ridge\", \"xref\": \"x1\", \"yref\": \"y1\", \"font\": {\"color\": \"#000000\"}, \"showarrow\": false}, {\"text\": \"0.292243903639\", \"x\": \"Social total\", \"y\": \"ridge\", \"xref\": \"x1\", \"yref\": \"y1\", \"font\": {\"color\": \"#000000\"}, \"showarrow\": false}, {\"text\": \"0.357085791785\", \"x\": \"Social type\", \"y\": \"ridge\", \"xref\": \"x1\", \"yref\": \"y1\", \"font\": {\"color\": \"#000000\"}, \"showarrow\": false}, {\"text\": \"0.440822291594\", \"x\": \"RoadNet+Social total\", \"y\": \"ridge\", \"xref\": \"x1\", \"yref\": \"y1\", \"font\": {\"color\": \"#000000\"}, \"showarrow\": false}, {\"text\": \"0.45436186248\", \"x\": \"RoadNet+Social type\", \"y\": \"ridge\", \"xref\": \"x1\", \"yref\": \"y1\", \"font\": {\"color\": \"#000000\"}, \"showarrow\": false}, {\"text\": \"0.43274033519\", \"x\": \"RoadNet\", \"y\": \"logistics\", \"xref\": \"x1\", \"yref\": \"y1\", \"font\": {\"color\": \"#000000\"}, \"showarrow\": false}, {\"text\": \"0.413036188295\", \"x\": \"Social total\", \"y\": \"logistics\", \"xref\": \"x1\", \"yref\": \"y1\", \"font\": {\"color\": \"#000000\"}, \"showarrow\": false}, {\"text\": \"0.47762057308\", \"x\": \"Social type\", \"y\": \"logistics\", \"xref\": \"x1\", \"yref\": \"y1\", \"font\": {\"color\": \"#000000\"}, \"showarrow\": false}, {\"text\": \"0.511014885499\", \"x\": \"RoadNet+Social total\", \"y\": \"logistics\", \"xref\": \"x1\", \"yref\": \"y1\", \"font\": {\"color\": \"#000000\"}, \"showarrow\": false}, {\"text\": \"0.51833594538\", \"x\": \"RoadNet+Social type\", \"y\": \"logistics\", \"xref\": \"x1\", \"yref\": \"y1\", \"font\": {\"color\": \"#000000\"}, \"showarrow\": false}, {\"text\": \"0.432122567766\", \"x\": \"RoadNet\", \"y\": \"linearSVM\", \"xref\": \"x1\", \"yref\": \"y1\", \"font\": {\"color\": \"#000000\"}, \"showarrow\": false}, {\"text\": \"0.389891793302\", \"x\": \"Social total\", \"y\": \"linearSVM\", \"xref\": \"x1\", \"yref\": \"y1\", \"font\": {\"color\": \"#000000\"}, \"showarrow\": false}, {\"text\": \"0.490117685355\", \"x\": \"Social type\", \"y\": \"linearSVM\", \"xref\": \"x1\", \"yref\": \"y1\", \"font\": {\"color\": \"#000000\"}, \"showarrow\": false}, {\"text\": \"0.50774186618\", \"x\": \"RoadNet+Social total\", \"y\": \"linearSVM\", \"xref\": \"x1\", \"yref\": \"y1\", \"font\": {\"color\": \"#000000\"}, \"showarrow\": false}, {\"text\": \"0.525838921014\", \"x\": \"RoadNet+Social type\", \"y\": \"linearSVM\", \"xref\": \"x1\", \"yref\": \"y1\", \"font\": {\"color\": \"#000000\"}, \"showarrow\": false}, {\"text\": \"0.414189261099\", \"x\": \"RoadNet\", \"y\": \"linearSVR\", \"xref\": \"x1\", \"yref\": \"y1\", \"font\": {\"color\": \"#000000\"}, \"showarrow\": false}, {\"text\": \"0.324006100125\", \"x\": \"Social total\", \"y\": \"linearSVR\", \"xref\": \"x1\", \"yref\": \"y1\", \"font\": {\"color\": \"#000000\"}, \"showarrow\": false}, {\"text\": \"0.381738930922\", \"x\": \"Social type\", \"y\": \"linearSVR\", \"xref\": \"x1\", \"yref\": \"y1\", \"font\": {\"color\": \"#000000\"}, \"showarrow\": false}, {\"text\": \"0.436883872269\", \"x\": \"RoadNet+Social total\", \"y\": \"linearSVR\", \"xref\": \"x1\", \"yref\": \"y1\", \"font\": {\"color\": \"#000000\"}, \"showarrow\": false}, {\"text\": \"0.473844009475\", \"x\": \"RoadNet+Social type\", \"y\": \"linearSVR\", \"xref\": \"x1\", \"yref\": \"y1\", \"font\": {\"color\": \"#000000\"}, \"showarrow\": false}, {\"text\": \"0.508314555336\", \"x\": \"RoadNet\", \"y\": \"SVM\", \"xref\": \"x1\", \"yref\": \"y1\", \"font\": {\"color\": \"#000000\"}, \"showarrow\": false}, {\"text\": \"0.422624746132\", \"x\": \"Social total\", \"y\": \"SVM\", \"xref\": \"x1\", \"yref\": \"y1\", \"font\": {\"color\": \"#000000\"}, \"showarrow\": false}, {\"text\": \"0.474001363549\", \"x\": \"Social type\", \"y\": \"SVM\", \"xref\": \"x1\", \"yref\": \"y1\", \"font\": {\"color\": \"#000000\"}, \"showarrow\": false}, {\"text\": \"0.505979152541\", \"x\": \"RoadNet+Social total\", \"y\": \"SVM\", \"xref\": \"x1\", \"yref\": \"y1\", \"font\": {\"color\": \"#000000\"}, \"showarrow\": false}, {\"text\": \"0.553201910029\", \"x\": \"RoadNet+Social type\", \"y\": \"SVM\", \"xref\": \"x1\", \"yref\": \"y1\", \"font\": {\"color\": \"#000000\"}, \"showarrow\": false}, {\"text\": \"0.449369057636\", \"x\": \"RoadNet\", \"y\": \"SVR\", \"xref\": \"x1\", \"yref\": \"y1\", \"font\": {\"color\": \"#000000\"}, \"showarrow\": false}, {\"text\": \"0.272019145216\", \"x\": \"Social total\", \"y\": \"SVR\", \"xref\": \"x1\", \"yref\": \"y1\", \"font\": {\"color\": \"#000000\"}, \"showarrow\": false}, {\"text\": \"0.368830326145\", \"x\": \"Social type\", \"y\": \"SVR\", \"xref\": \"x1\", \"yref\": \"y1\", \"font\": {\"color\": \"#000000\"}, \"showarrow\": false}, {\"text\": \"0.445888452191\", \"x\": \"RoadNet+Social total\", \"y\": \"SVR\", \"xref\": \"x1\", \"yref\": \"y1\", \"font\": {\"color\": \"#000000\"}, \"showarrow\": false}, {\"text\": \"0.459877607064\", \"x\": \"RoadNet+Social type\", \"y\": \"SVR\", \"xref\": \"x1\", \"yref\": \"y1\", \"font\": {\"color\": \"#000000\"}, \"showarrow\": false}, {\"text\": \"0.480290292029\", \"x\": \"RoadNet\", \"y\": \"MLPcls\", \"xref\": \"x1\", \"yref\": \"y1\", \"font\": {\"color\": \"#000000\"}, \"showarrow\": false}, {\"text\": \"0.430632498049\", \"x\": \"Social total\", \"y\": \"MLPcls\", \"xref\": \"x1\", \"yref\": \"y1\", \"font\": {\"color\": \"#000000\"}, \"showarrow\": false}, {\"text\": \"0.460574739274\", \"x\": \"Social type\", \"y\": \"MLPcls\", \"xref\": \"x1\", \"yref\": \"y1\", \"font\": {\"color\": \"#000000\"}, \"showarrow\": false}, {\"text\": \"0.495632268186\", \"x\": \"RoadNet+Social total\", \"y\": \"MLPcls\", \"xref\": \"x1\", \"yref\": \"y1\", \"font\": {\"color\": \"#000000\"}, \"showarrow\": false}, {\"text\": \"0.536477594465\", \"x\": \"RoadNet+Social type\", \"y\": \"MLPcls\", \"xref\": \"x1\", \"yref\": \"y1\", \"font\": {\"color\": \"#000000\"}, \"showarrow\": false}, {\"text\": \"0.387668547537\", \"x\": \"RoadNet\", \"y\": \"MLPreg\", \"xref\": \"x1\", \"yref\": \"y1\", \"font\": {\"color\": \"#000000\"}, \"showarrow\": false}, {\"text\": \"0.334691093562\", \"x\": \"Social total\", \"y\": \"MLPreg\", \"xref\": \"x1\", \"yref\": \"y1\", \"font\": {\"color\": \"#000000\"}, \"showarrow\": false}, {\"text\": \"0.338064502525\", \"x\": \"Social type\", \"y\": \"MLPreg\", \"xref\": \"x1\", \"yref\": \"y1\", \"font\": {\"color\": \"#000000\"}, \"showarrow\": false}, {\"text\": \"0.351159477154\", \"x\": \"RoadNet+Social total\", \"y\": \"MLPreg\", \"xref\": \"x1\", \"yref\": \"y1\", \"font\": {\"color\": \"#000000\"}, \"showarrow\": false}, {\"text\": \"0.346864551752\", \"x\": \"RoadNet+Social type\", \"y\": \"MLPreg\", \"xref\": \"x1\", \"yref\": \"y1\", \"font\": {\"color\": \"#000000\"}, \"showarrow\": false}, {\"text\": \"0.451809126318\", \"x\": \"RoadNet\", \"y\": \"DTcls\", \"xref\": \"x1\", \"yref\": \"y1\", \"font\": {\"color\": \"#000000\"}, \"showarrow\": false}, {\"text\": \"0.388675330011\", \"x\": \"Social total\", \"y\": \"DTcls\", \"xref\": \"x1\", \"yref\": \"y1\", \"font\": {\"color\": \"#000000\"}, \"showarrow\": false}, {\"text\": \"0.351690360038\", \"x\": \"Social type\", \"y\": \"DTcls\", \"xref\": \"x1\", \"yref\": \"y1\", \"font\": {\"color\": \"#000000\"}, \"showarrow\": false}, {\"text\": \"0.46454070142\", \"x\": \"RoadNet+Social total\", \"y\": \"DTcls\", \"xref\": \"x1\", \"yref\": \"y1\", \"font\": {\"color\": \"#000000\"}, \"showarrow\": false}, {\"text\": \"0.448768750919\", \"x\": \"RoadNet+Social type\", \"y\": \"DTcls\", \"xref\": \"x1\", \"yref\": \"y1\", \"font\": {\"color\": \"#000000\"}, \"showarrow\": false}, {\"text\": \"0.399812123193\", \"x\": \"RoadNet\", \"y\": \"DTreg\", \"xref\": \"x1\", \"yref\": \"y1\", \"font\": {\"color\": \"#000000\"}, \"showarrow\": false}, {\"text\": \"0.323047416197\", \"x\": \"Social total\", \"y\": \"DTreg\", \"xref\": \"x1\", \"yref\": \"y1\", \"font\": {\"color\": \"#000000\"}, \"showarrow\": false}, {\"text\": \"0.34952927251\", \"x\": \"Social type\", \"y\": \"DTreg\", \"xref\": \"x1\", \"yref\": \"y1\", \"font\": {\"color\": \"#000000\"}, \"showarrow\": false}, {\"text\": \"0.462677779192\", \"x\": \"RoadNet+Social total\", \"y\": \"DTreg\", \"xref\": \"x1\", \"yref\": \"y1\", \"font\": {\"color\": \"#000000\"}, \"showarrow\": false}, {\"text\": \"0.407208145294\", \"x\": \"RoadNet+Social type\", \"y\": \"DTreg\", \"xref\": \"x1\", \"yref\": \"y1\", \"font\": {\"color\": \"#000000\"}, \"showarrow\": false}, {\"text\": \"0.537871369168\", \"x\": \"RoadNet\", \"y\": \"RFcls\", \"xref\": \"x1\", \"yref\": \"y1\", \"font\": {\"color\": \"#000000\"}, \"showarrow\": false}, {\"text\": \"0.438161833967\", \"x\": \"Social total\", \"y\": \"RFcls\", \"xref\": \"x1\", \"yref\": \"y1\", \"font\": {\"color\": \"#000000\"}, \"showarrow\": false}, {\"text\": \"0.475293953912\", \"x\": \"Social type\", \"y\": \"RFcls\", \"xref\": \"x1\", \"yref\": \"y1\", \"font\": {\"color\": \"#000000\"}, \"showarrow\": false}, {\"text\": \"0.547741928391\", \"x\": \"RoadNet+Social total\", \"y\": \"RFcls\", \"xref\": \"x1\", \"yref\": \"y1\", \"font\": {\"color\": \"#000000\"}, \"showarrow\": false}, {\"text\": \"0.519363960633\", \"x\": \"RoadNet+Social type\", \"y\": \"RFcls\", \"xref\": \"x1\", \"yref\": \"y1\", \"font\": {\"color\": \"#000000\"}, \"showarrow\": false}, {\"text\": \"0.462122316685\", \"x\": \"RoadNet\", \"y\": \"RFreg\", \"xref\": \"x1\", \"yref\": \"y1\", \"font\": {\"color\": \"#000000\"}, \"showarrow\": false}, {\"text\": \"0.368700764499\", \"x\": \"Social total\", \"y\": \"RFreg\", \"xref\": \"x1\", \"yref\": \"y1\", \"font\": {\"color\": \"#000000\"}, \"showarrow\": false}, {\"text\": \"0.353103995804\", \"x\": \"Social type\", \"y\": \"RFreg\", \"xref\": \"x1\", \"yref\": \"y1\", \"font\": {\"color\": \"#000000\"}, \"showarrow\": false}, {\"text\": \"0.487378229638\", \"x\": \"RoadNet+Social total\", \"y\": \"RFreg\", \"xref\": \"x1\", \"yref\": \"y1\", \"font\": {\"color\": \"#000000\"}, \"showarrow\": false}, {\"text\": \"0.404818761962\", \"x\": \"RoadNet+Social type\", \"y\": \"RFreg\", \"xref\": \"x1\", \"yref\": \"y1\", \"font\": {\"color\": \"#000000\"}, \"showarrow\": false}, {\"text\": \"0.394465797893\", \"x\": \"RoadNet\", \"y\": \"ADAcls\", \"xref\": \"x1\", \"yref\": \"y1\", \"font\": {\"color\": \"#000000\"}, \"showarrow\": false}, {\"text\": \"0.362972303507\", \"x\": \"Social total\", \"y\": \"ADAcls\", \"xref\": \"x1\", \"yref\": \"y1\", \"font\": {\"color\": \"#000000\"}, \"showarrow\": false}, {\"text\": \"0.373897350988\", \"x\": \"Social type\", \"y\": \"ADAcls\", \"xref\": \"x1\", \"yref\": \"y1\", \"font\": {\"color\": \"#000000\"}, \"showarrow\": false}, {\"text\": \"0.433253192566\", \"x\": \"RoadNet+Social total\", \"y\": \"ADAcls\", \"xref\": \"x1\", \"yref\": \"y1\", \"font\": {\"color\": \"#000000\"}, \"showarrow\": false}, {\"text\": \"0.423385489709\", \"x\": \"RoadNet+Social type\", \"y\": \"ADAcls\", \"xref\": \"x1\", \"yref\": \"y1\", \"font\": {\"color\": \"#000000\"}, \"showarrow\": false}, {\"text\": \"0.344509211498\", \"x\": \"RoadNet\", \"y\": \"ADAreg\", \"xref\": \"x1\", \"yref\": \"y1\", \"font\": {\"color\": \"#000000\"}, \"showarrow\": false}, {\"text\": \"0.268203920775\", \"x\": \"Social total\", \"y\": \"ADAreg\", \"xref\": \"x1\", \"yref\": \"y1\", \"font\": {\"color\": \"#000000\"}, \"showarrow\": false}, {\"text\": \"0.290603706418\", \"x\": \"Social type\", \"y\": \"ADAreg\", \"xref\": \"x1\", \"yref\": \"y1\", \"font\": {\"color\": \"#000000\"}, \"showarrow\": false}, {\"text\": \"0.3337427881\", \"x\": \"RoadNet+Social total\", \"y\": \"ADAreg\", \"xref\": \"x1\", \"yref\": \"y1\", \"font\": {\"color\": \"#000000\"}, \"showarrow\": false}, {\"text\": \"0.322107631905\", \"x\": \"RoadNet+Social type\", \"y\": \"ADAreg\", \"xref\": \"x1\", \"yref\": \"y1\", \"font\": {\"color\": \"#000000\"}, \"showarrow\": false}, {\"text\": \"0.532514860708\", \"x\": \"RoadNet\", \"y\": \"BAGcls\", \"xref\": \"x1\", \"yref\": \"y1\", \"font\": {\"color\": \"#000000\"}, \"showarrow\": false}, {\"text\": \"0.431937121518\", \"x\": \"Social total\", \"y\": \"BAGcls\", \"xref\": \"x1\", \"yref\": \"y1\", \"font\": {\"color\": \"#000000\"}, \"showarrow\": false}, {\"text\": \"0.46447360437\", \"x\": \"Social type\", \"y\": \"BAGcls\", \"xref\": \"x1\", \"yref\": \"y1\", \"font\": {\"color\": \"#000000\"}, \"showarrow\": false}, {\"text\": \"0.510011309965\", \"x\": \"RoadNet+Social total\", \"y\": \"BAGcls\", \"xref\": \"x1\", \"yref\": \"y1\", \"font\": {\"color\": \"#000000\"}, \"showarrow\": false}, {\"text\": \"0.537894428898\", \"x\": \"RoadNet+Social type\", \"y\": \"BAGcls\", \"xref\": \"x1\", \"yref\": \"y1\", \"font\": {\"color\": \"#000000\"}, \"showarrow\": false}, {\"text\": \"0.497963412412\", \"x\": \"RoadNet\", \"y\": \"BAGreg\", \"xref\": \"x1\", \"yref\": \"y1\", \"font\": {\"color\": \"#000000\"}, \"showarrow\": false}, {\"text\": \"0.363523611205\", \"x\": \"Social total\", \"y\": \"BAGreg\", \"xref\": \"x1\", \"yref\": \"y1\", \"font\": {\"color\": \"#000000\"}, \"showarrow\": false}, {\"text\": \"0.364897392104\", \"x\": \"Social type\", \"y\": \"BAGreg\", \"xref\": \"x1\", \"yref\": \"y1\", \"font\": {\"color\": \"#000000\"}, \"showarrow\": false}, {\"text\": \"0.50735147156\", \"x\": \"RoadNet+Social total\", \"y\": \"BAGreg\", \"xref\": \"x1\", \"yref\": \"y1\", \"font\": {\"color\": \"#000000\"}, \"showarrow\": false}, {\"text\": \"0.434227315749\", \"x\": \"RoadNet+Social type\", \"y\": \"BAGreg\", \"xref\": \"x1\", \"yref\": \"y1\", \"font\": {\"color\": \"#000000\"}, \"showarrow\": false}, {\"text\": \"0.541457701293\", \"x\": \"RoadNet\", \"y\": \"GDBcls\", \"xref\": \"x1\", \"yref\": \"y1\", \"font\": {\"color\": \"#000000\"}, \"showarrow\": false}, {\"text\": \"0.417180409329\", \"x\": \"Social total\", \"y\": \"GDBcls\", \"xref\": \"x1\", \"yref\": \"y1\", \"font\": {\"color\": \"#000000\"}, \"showarrow\": false}, {\"text\": \"0.472542623992\", \"x\": \"Social type\", \"y\": \"GDBcls\", \"xref\": \"x1\", \"yref\": \"y1\", \"font\": {\"color\": \"#000000\"}, \"showarrow\": false}, {\"text\": \"0.542030177603\", \"x\": \"RoadNet+Social total\", \"y\": \"GDBcls\", \"xref\": \"x1\", \"yref\": \"y1\", \"font\": {\"color\": \"#000000\"}, \"showarrow\": false}, {\"text\": \"0.535299323817\", \"x\": \"RoadNet+Social type\", \"y\": \"GDBcls\", \"xref\": \"x1\", \"yref\": \"y1\", \"font\": {\"color\": \"#000000\"}, \"showarrow\": false}, {\"text\": \"0.500621172578\", \"x\": \"RoadNet\", \"y\": \"GDBreg\", \"xref\": \"x1\", \"yref\": \"y1\", \"font\": {\"color\": \"#000000\"}, \"showarrow\": false}, {\"text\": \"0.35681619556\", \"x\": \"Social total\", \"y\": \"GDBreg\", \"xref\": \"x1\", \"yref\": \"y1\", \"font\": {\"color\": \"#000000\"}, \"showarrow\": false}, {\"text\": \"0.370114857587\", \"x\": \"Social type\", \"y\": \"GDBreg\", \"xref\": \"x1\", \"yref\": \"y1\", \"font\": {\"color\": \"#000000\"}, \"showarrow\": false}, {\"text\": \"0.514837020734\", \"x\": \"RoadNet+Social total\", \"y\": \"GDBreg\", \"xref\": \"x1\", \"yref\": \"y1\", \"font\": {\"color\": \"#000000\"}, \"showarrow\": false}, {\"text\": \"0.448058551821\", \"x\": \"RoadNet+Social type\", \"y\": \"GDBreg\", \"xref\": \"x1\", \"yref\": \"y1\", \"font\": {\"color\": \"#000000\"}, \"showarrow\": false}, {\"text\": \"0.506608810707\", \"x\": \"RoadNet\", \"y\": \"XGBcls\", \"xref\": \"x1\", \"yref\": \"y1\", \"font\": {\"color\": \"#000000\"}, \"showarrow\": false}, {\"text\": \"0.456797357682\", \"x\": \"Social total\", \"y\": \"XGBcls\", \"xref\": \"x1\", \"yref\": \"y1\", \"font\": {\"color\": \"#000000\"}, \"showarrow\": false}, {\"text\": \"0.445713497933\", \"x\": \"Social type\", \"y\": \"XGBcls\", \"xref\": \"x1\", \"yref\": \"y1\", \"font\": {\"color\": \"#000000\"}, \"showarrow\": false}, {\"text\": \"0.518261336526\", \"x\": \"RoadNet+Social total\", \"y\": \"XGBcls\", \"xref\": \"x1\", \"yref\": \"y1\", \"font\": {\"color\": \"#000000\"}, \"showarrow\": false}, {\"text\": \"0.529476488466\", \"x\": \"RoadNet+Social type\", \"y\": \"XGBcls\", \"xref\": \"x1\", \"yref\": \"y1\", \"font\": {\"color\": \"#000000\"}, \"showarrow\": false}, {\"text\": \"0.480832979539\", \"x\": \"RoadNet\", \"y\": \"XGBreg\", \"xref\": \"x1\", \"yref\": \"y1\", \"font\": {\"color\": \"#000000\"}, \"showarrow\": false}, {\"text\": \"0.349677026422\", \"x\": \"Social total\", \"y\": \"XGBreg\", \"xref\": \"x1\", \"yref\": \"y1\", \"font\": {\"color\": \"#000000\"}, \"showarrow\": false}, {\"text\": \"0.391639601633\", \"x\": \"Social type\", \"y\": \"XGBreg\", \"xref\": \"x1\", \"yref\": \"y1\", \"font\": {\"color\": \"#000000\"}, \"showarrow\": false}, {\"text\": \"0.494721785333\", \"x\": \"RoadNet+Social total\", \"y\": \"XGBreg\", \"xref\": \"x1\", \"yref\": \"y1\", \"font\": {\"color\": \"#000000\"}, \"showarrow\": false}, {\"text\": \"0.479480258776\", \"x\": \"RoadNet+Social type\", \"y\": \"XGBreg\", \"xref\": \"x1\", \"yref\": \"y1\", \"font\": {\"color\": \"#000000\"}, \"showarrow\": false}], \"xaxis\": {\"ticks\": \"\", \"dtick\": 1, \"side\": \"top\", \"gridcolor\": \"rgb(0, 0, 0)\"}, \"yaxis\": {\"ticks\": \"\", \"dtick\": 1, \"ticksuffix\": \"  \", \"autorange\": \"reversed\"}}, {\"showLink\": true, \"linkText\": \"Export to plot.ly\"})});</script>"
      ]
     },
     "metadata": {},
     "output_type": "display_data"
    }
   ],
   "source": [
    "fig = ff.create_annotated_heatmap(z=dtb.values, x=dtb.columns.tolist(), y=dtb.index.tolist(), colorscale='magma')\n",
    "fig['layout'].update(yaxis=dict(autorange='reversed'))\n",
    "iplot(fig)"
   ]
  },
  {
   "cell_type": "markdown",
   "metadata": {},
   "source": [
    "## error bar of top N solution"
   ]
  },
  {
   "cell_type": "code",
   "execution_count": 23,
   "metadata": {},
   "outputs": [
    {
     "data": {
      "text/html": [
       "<div>\n",
       "<style>\n",
       "    .dataframe thead tr:only-child th {\n",
       "        text-align: right;\n",
       "    }\n",
       "\n",
       "    .dataframe thead th {\n",
       "        text-align: left;\n",
       "    }\n",
       "\n",
       "    .dataframe tbody tr th {\n",
       "        vertical-align: top;\n",
       "    }\n",
       "</style>\n",
       "<table border=\"1\" class=\"dataframe\">\n",
       "  <thead>\n",
       "    <tr style=\"text-align: right;\">\n",
       "      <th></th>\n",
       "      <th></th>\n",
       "      <th>test_f1_macro</th>\n",
       "      <th>test_f1_micro</th>\n",
       "      <th>test_f1_weighted</th>\n",
       "    </tr>\n",
       "    <tr>\n",
       "      <th>col_name</th>\n",
       "      <th>model</th>\n",
       "      <th></th>\n",
       "      <th></th>\n",
       "      <th></th>\n",
       "    </tr>\n",
       "  </thead>\n",
       "  <tbody>\n",
       "    <tr>\n",
       "      <th>RoadNet+Segment NO_TOTAL</th>\n",
       "      <th>SVM</th>\n",
       "      <td>0.430016</td>\n",
       "      <td>0.564634</td>\n",
       "      <td>0.553202</td>\n",
       "    </tr>\n",
       "    <tr>\n",
       "      <th rowspan=\"2\" valign=\"top\">RoadNet+Segment TOTAL</th>\n",
       "      <th>RFcls</th>\n",
       "      <td>0.386121</td>\n",
       "      <td>0.565854</td>\n",
       "      <td>0.547742</td>\n",
       "    </tr>\n",
       "    <tr>\n",
       "      <th>GDBcls</th>\n",
       "      <td>0.415486</td>\n",
       "      <td>0.554878</td>\n",
       "      <td>0.542030</td>\n",
       "    </tr>\n",
       "    <tr>\n",
       "      <th>RoadNet</th>\n",
       "      <th>GDBcls</th>\n",
       "      <td>0.415297</td>\n",
       "      <td>0.548780</td>\n",
       "      <td>0.541458</td>\n",
       "    </tr>\n",
       "  </tbody>\n",
       "</table>\n",
       "</div>"
      ],
      "text/plain": [
       "                                 test_f1_macro  test_f1_micro  \\\n",
       "col_name                 model                                  \n",
       "RoadNet+Segment NO_TOTAL SVM          0.430016       0.564634   \n",
       "RoadNet+Segment TOTAL    RFcls        0.386121       0.565854   \n",
       "                         GDBcls       0.415486       0.554878   \n",
       "RoadNet                  GDBcls       0.415297       0.548780   \n",
       "\n",
       "                                 test_f1_weighted  \n",
       "col_name                 model                     \n",
       "RoadNet+Segment NO_TOTAL SVM             0.553202  \n",
       "RoadNet+Segment TOTAL    RFcls           0.547742  \n",
       "                         GDBcls          0.542030  \n",
       "RoadNet                  GDBcls          0.541458  "
      ]
     },
     "execution_count": 23,
     "metadata": {},
     "output_type": "execute_result"
    }
   ],
   "source": [
    "f1_type = f1_choices[0]\n",
    "means_to_plot = means.sort_values(f1_type, ascending=False).head(4)\n",
    "index_to_plot = means_to_plot.index\n",
    "stds_to_plot = stds.loc[index_to_plot]\n",
    "\n",
    "means_to_plot"
   ]
  },
  {
   "cell_type": "code",
   "execution_count": 27,
   "metadata": {
    "collapsed": true
   },
   "outputs": [],
   "source": [
    "%matplotlib inline"
   ]
  },
  {
   "cell_type": "code",
   "execution_count": 28,
   "metadata": {},
   "outputs": [
    {
     "data": {
      "text/plain": [
       "<matplotlib.axes._subplots.AxesSubplot at 0x7f04d3d79710>"
      ]
     },
     "execution_count": 28,
     "metadata": {},
     "output_type": "execute_result"
    },
    {
     "data": {
      "image/png": "[encoded data removed]",
      "text/plain": [
       "<matplotlib.figure.Figure at 0x7f04d3d1b390>"
      ]
     },
     "metadata": {},
     "output_type": "display_data"
    }
   ],
   "source": [
    "means_to_plot.sort_values(f1_type).plot(kind='barh', xerr=stds_to_plot, figsize=(10,7))"
   ]
  },
  {
   "cell_type": "markdown",
   "metadata": {},
   "source": [
    "# for the top 3 solution, see if period, feature selection and scale help\n",
    "not really"
   ]
  },
  {
   "cell_type": "code",
   "execution_count": 186,
   "metadata": {
    "collapsed": true
   },
   "outputs": [],
   "source": [
    "cond1 = (all_run_res.model == 'XGBreg') & (all_run_res.col_name=='RoadNet+Segment NO_TOTAL')\n",
    "cond2 = (all_run_res.model == 'XGBcls') & (all_run_res.col_name=='RoadNet+Segment TOTAL')\n",
    "cond3 = (all_run_res.model == 'GDBcls') & (all_run_res.col_name=='RoadNet+Segment TOTAL')\n",
    "cond4 = (all_run_res.model == 'ols') & (all_run_res.col_name=='RoadNet+Segment TOTAL')\n",
    "\n",
    "slice_res = all_run_res[(cond1) | (cond2) | (cond3) | (cond4)].drop(['feature', 'total or by type', 'seed', 'kind', '# ftr remove', \n",
    "                  'train_acc', 'train_f1_macro', 'train_f1_micro', 'train_f1_weighted', 'train_mse',\n",
    "                  'test_acc', 'test_mse'],axis=1).sort_values(['col_name', 'model'])"
   ]
  },
  {
   "cell_type": "code",
   "execution_count": 187,
   "metadata": {
    "scrolled": true
   },
   "outputs": [
    {
     "data": {
      "text/html": [
       "<div>\n",
       "<style>\n",
       "    .dataframe thead tr:only-child th {\n",
       "        text-align: right;\n",
       "    }\n",
       "\n",
       "    .dataframe thead th {\n",
       "        text-align: left;\n",
       "    }\n",
       "\n",
       "    .dataframe tbody tr th {\n",
       "        vertical-align: top;\n",
       "    }\n",
       "</style>\n",
       "<table border=\"1\" class=\"dataframe\">\n",
       "  <thead>\n",
       "    <tr style=\"text-align: right;\">\n",
       "      <th></th>\n",
       "      <th></th>\n",
       "      <th></th>\n",
       "      <th></th>\n",
       "      <th></th>\n",
       "      <th>test_f1_macro</th>\n",
       "      <th>test_f1_micro</th>\n",
       "      <th>test_f1_weighted</th>\n",
       "    </tr>\n",
       "    <tr>\n",
       "      <th>model</th>\n",
       "      <th>col_name</th>\n",
       "      <th>time period</th>\n",
       "      <th>feature_select</th>\n",
       "      <th>scale</th>\n",
       "      <th></th>\n",
       "      <th></th>\n",
       "      <th></th>\n",
       "    </tr>\n",
       "  </thead>\n",
       "  <tbody>\n",
       "    <tr>\n",
       "      <th rowspan=\"12\" valign=\"top\">GDBcls</th>\n",
       "      <th rowspan=\"12\" valign=\"top\">RoadNet+Segment TOTAL</th>\n",
       "      <th rowspan=\"6\" valign=\"top\">~2014</th>\n",
       "      <th rowspan=\"2\" valign=\"top\">None</th>\n",
       "      <th>max-cutoff</th>\n",
       "      <td>0.325695</td>\n",
       "      <td>0.549206</td>\n",
       "      <td>0.523662</td>\n",
       "    </tr>\n",
       "    <tr>\n",
       "      <th>min-max</th>\n",
       "      <td>0.309382</td>\n",
       "      <td>0.538095</td>\n",
       "      <td>0.511942</td>\n",
       "    </tr>\n",
       "    <tr>\n",
       "      <th rowspan=\"2\" valign=\"top\">mrmr</th>\n",
       "      <th>max-cutoff</th>\n",
       "      <td>0.316096</td>\n",
       "      <td>0.552381</td>\n",
       "      <td>0.518190</td>\n",
       "    </tr>\n",
       "    <tr>\n",
       "      <th>min-max</th>\n",
       "      <td>0.312272</td>\n",
       "      <td>0.526984</td>\n",
       "      <td>0.500566</td>\n",
       "    </tr>\n",
       "    <tr>\n",
       "      <th rowspan=\"2\" valign=\"top\">rfecv_linsvc</th>\n",
       "      <th>max-cutoff</th>\n",
       "      <td>0.279320</td>\n",
       "      <td>0.514286</td>\n",
       "      <td>0.484688</td>\n",
       "    </tr>\n",
       "    <tr>\n",
       "      <th>min-max</th>\n",
       "      <td>0.275626</td>\n",
       "      <td>0.495238</td>\n",
       "      <td>0.468772</td>\n",
       "    </tr>\n",
       "    <tr>\n",
       "      <th rowspan=\"6\" valign=\"top\">~2016</th>\n",
       "      <th rowspan=\"2\" valign=\"top\">None</th>\n",
       "      <th>max-cutoff</th>\n",
       "      <td>0.310844</td>\n",
       "      <td>0.530159</td>\n",
       "      <td>0.504872</td>\n",
       "    </tr>\n",
       "    <tr>\n",
       "      <th>min-max</th>\n",
       "      <td>0.301714</td>\n",
       "      <td>0.523810</td>\n",
       "      <td>0.495969</td>\n",
       "    </tr>\n",
       "    <tr>\n",
       "      <th rowspan=\"2\" valign=\"top\">mrmr</th>\n",
       "      <th>max-cutoff</th>\n",
       "      <td>0.301570</td>\n",
       "      <td>0.520635</td>\n",
       "      <td>0.492635</td>\n",
       "    </tr>\n",
       "    <tr>\n",
       "      <th>min-max</th>\n",
       "      <td>0.314554</td>\n",
       "      <td>0.522222</td>\n",
       "      <td>0.494691</td>\n",
       "    </tr>\n",
       "    <tr>\n",
       "      <th rowspan=\"2\" valign=\"top\">rfecv_linsvc</th>\n",
       "      <th>max-cutoff</th>\n",
       "      <td>0.297601</td>\n",
       "      <td>0.501587</td>\n",
       "      <td>0.482183</td>\n",
       "    </tr>\n",
       "    <tr>\n",
       "      <th>min-max</th>\n",
       "      <td>0.288727</td>\n",
       "      <td>0.512698</td>\n",
       "      <td>0.479516</td>\n",
       "    </tr>\n",
       "    <tr>\n",
       "      <th rowspan=\"12\" valign=\"top\">XGBcls</th>\n",
       "      <th rowspan=\"12\" valign=\"top\">RoadNet+Segment TOTAL</th>\n",
       "      <th rowspan=\"6\" valign=\"top\">~2014</th>\n",
       "      <th rowspan=\"2\" valign=\"top\">None</th>\n",
       "      <th>max-cutoff</th>\n",
       "      <td>0.319983</td>\n",
       "      <td>0.527778</td>\n",
       "      <td>0.516758</td>\n",
       "    </tr>\n",
       "    <tr>\n",
       "      <th>min-max</th>\n",
       "      <td>0.319983</td>\n",
       "      <td>0.527778</td>\n",
       "      <td>0.516758</td>\n",
       "    </tr>\n",
       "    <tr>\n",
       "      <th rowspan=\"2\" valign=\"top\">mrmr</th>\n",
       "      <th>max-cutoff</th>\n",
       "      <td>0.319983</td>\n",
       "      <td>0.527778</td>\n",
       "      <td>0.516758</td>\n",
       "    </tr>\n",
       "    <tr>\n",
       "      <th>min-max</th>\n",
       "      <td>0.319983</td>\n",
       "      <td>0.527778</td>\n",
       "      <td>0.516758</td>\n",
       "    </tr>\n",
       "    <tr>\n",
       "      <th rowspan=\"2\" valign=\"top\">rfecv_linsvc</th>\n",
       "      <th>max-cutoff</th>\n",
       "      <td>0.292758</td>\n",
       "      <td>0.503968</td>\n",
       "      <td>0.477009</td>\n",
       "    </tr>\n",
       "    <tr>\n",
       "      <th>min-max</th>\n",
       "      <td>0.280266</td>\n",
       "      <td>0.507937</td>\n",
       "      <td>0.479342</td>\n",
       "    </tr>\n",
       "    <tr>\n",
       "      <th rowspan=\"6\" valign=\"top\">~2016</th>\n",
       "      <th rowspan=\"2\" valign=\"top\">None</th>\n",
       "      <th>max-cutoff</th>\n",
       "      <td>0.272686</td>\n",
       "      <td>0.484127</td>\n",
       "      <td>0.464453</td>\n",
       "    </tr>\n",
       "    <tr>\n",
       "      <th>min-max</th>\n",
       "      <td>0.272686</td>\n",
       "      <td>0.484127</td>\n",
       "      <td>0.464453</td>\n",
       "    </tr>\n",
       "    <tr>\n",
       "      <th rowspan=\"2\" valign=\"top\">mrmr</th>\n",
       "      <th>max-cutoff</th>\n",
       "      <td>0.272686</td>\n",
       "      <td>0.484127</td>\n",
       "      <td>0.464453</td>\n",
       "    </tr>\n",
       "    <tr>\n",
       "      <th>min-max</th>\n",
       "      <td>0.272686</td>\n",
       "      <td>0.484127</td>\n",
       "      <td>0.464453</td>\n",
       "    </tr>\n",
       "    <tr>\n",
       "      <th rowspan=\"2\" valign=\"top\">rfecv_linsvc</th>\n",
       "      <th>max-cutoff</th>\n",
       "      <td>0.287765</td>\n",
       "      <td>0.500000</td>\n",
       "      <td>0.481267</td>\n",
       "    </tr>\n",
       "    <tr>\n",
       "      <th>min-max</th>\n",
       "      <td>0.298830</td>\n",
       "      <td>0.492063</td>\n",
       "      <td>0.469673</td>\n",
       "    </tr>\n",
       "    <tr>\n",
       "      <th rowspan=\"12\" valign=\"top\">XGBreg</th>\n",
       "      <th rowspan=\"12\" valign=\"top\">RoadNet+Segment NO_TOTAL</th>\n",
       "      <th rowspan=\"6\" valign=\"top\">~2014</th>\n",
       "      <th rowspan=\"2\" valign=\"top\">None</th>\n",
       "      <th>max-cutoff</th>\n",
       "      <td>0.317581</td>\n",
       "      <td>0.552381</td>\n",
       "      <td>0.532411</td>\n",
       "    </tr>\n",
       "    <tr>\n",
       "      <th>min-max</th>\n",
       "      <td>0.332753</td>\n",
       "      <td>0.555556</td>\n",
       "      <td>0.532707</td>\n",
       "    </tr>\n",
       "    <tr>\n",
       "      <th rowspan=\"2\" valign=\"top\">mrmr</th>\n",
       "      <th>max-cutoff</th>\n",
       "      <td>0.332753</td>\n",
       "      <td>0.555556</td>\n",
       "      <td>0.532707</td>\n",
       "    </tr>\n",
       "    <tr>\n",
       "      <th>min-max</th>\n",
       "      <td>0.332753</td>\n",
       "      <td>0.555556</td>\n",
       "      <td>0.532707</td>\n",
       "    </tr>\n",
       "    <tr>\n",
       "      <th rowspan=\"2\" valign=\"top\">rfecv_linsvc</th>\n",
       "      <th>max-cutoff</th>\n",
       "      <td>0.268482</td>\n",
       "      <td>0.495238</td>\n",
       "      <td>0.463545</td>\n",
       "    </tr>\n",
       "    <tr>\n",
       "      <th>min-max</th>\n",
       "      <td>0.254113</td>\n",
       "      <td>0.469841</td>\n",
       "      <td>0.439117</td>\n",
       "    </tr>\n",
       "    <tr>\n",
       "      <th rowspan=\"6\" valign=\"top\">~2016</th>\n",
       "      <th rowspan=\"2\" valign=\"top\">None</th>\n",
       "      <th>max-cutoff</th>\n",
       "      <td>0.293666</td>\n",
       "      <td>0.530159</td>\n",
       "      <td>0.500678</td>\n",
       "    </tr>\n",
       "    <tr>\n",
       "      <th>min-max</th>\n",
       "      <td>0.287858</td>\n",
       "      <td>0.530159</td>\n",
       "      <td>0.499794</td>\n",
       "    </tr>\n",
       "    <tr>\n",
       "      <th rowspan=\"2\" valign=\"top\">mrmr</th>\n",
       "      <th>max-cutoff</th>\n",
       "      <td>0.287858</td>\n",
       "      <td>0.530159</td>\n",
       "      <td>0.499794</td>\n",
       "    </tr>\n",
       "    <tr>\n",
       "      <th>min-max</th>\n",
       "      <td>0.283026</td>\n",
       "      <td>0.515873</td>\n",
       "      <td>0.486165</td>\n",
       "    </tr>\n",
       "    <tr>\n",
       "      <th rowspan=\"2\" valign=\"top\">rfecv_linsvc</th>\n",
       "      <th>max-cutoff</th>\n",
       "      <td>0.250856</td>\n",
       "      <td>0.479365</td>\n",
       "      <td>0.438836</td>\n",
       "    </tr>\n",
       "    <tr>\n",
       "      <th>min-max</th>\n",
       "      <td>0.271155</td>\n",
       "      <td>0.511111</td>\n",
       "      <td>0.475077</td>\n",
       "    </tr>\n",
       "    <tr>\n",
       "      <th rowspan=\"12\" valign=\"top\">ols</th>\n",
       "      <th rowspan=\"12\" valign=\"top\">RoadNet+Segment TOTAL</th>\n",
       "      <th rowspan=\"6\" valign=\"top\">~2014</th>\n",
       "      <th rowspan=\"2\" valign=\"top\">None</th>\n",
       "      <th>max-cutoff</th>\n",
       "      <td>0.293364</td>\n",
       "      <td>0.519048</td>\n",
       "      <td>0.498411</td>\n",
       "    </tr>\n",
       "    <tr>\n",
       "      <th>min-max</th>\n",
       "      <td>0.300342</td>\n",
       "      <td>0.530159</td>\n",
       "      <td>0.509801</td>\n",
       "    </tr>\n",
       "    <tr>\n",
       "      <th rowspan=\"2\" valign=\"top\">mrmr</th>\n",
       "      <th>max-cutoff</th>\n",
       "      <td>0.300342</td>\n",
       "      <td>0.530159</td>\n",
       "      <td>0.509801</td>\n",
       "    </tr>\n",
       "    <tr>\n",
       "      <th>min-max</th>\n",
       "      <td>0.300342</td>\n",
       "      <td>0.530159</td>\n",
       "      <td>0.509801</td>\n",
       "    </tr>\n",
       "    <tr>\n",
       "      <th rowspan=\"2\" valign=\"top\">rfecv_linsvc</th>\n",
       "      <th>max-cutoff</th>\n",
       "      <td>0.258690</td>\n",
       "      <td>0.495238</td>\n",
       "      <td>0.457272</td>\n",
       "    </tr>\n",
       "    <tr>\n",
       "      <th>min-max</th>\n",
       "      <td>0.281312</td>\n",
       "      <td>0.526984</td>\n",
       "      <td>0.493704</td>\n",
       "    </tr>\n",
       "    <tr>\n",
       "      <th rowspan=\"6\" valign=\"top\">~2016</th>\n",
       "      <th rowspan=\"2\" valign=\"top\">None</th>\n",
       "      <th>max-cutoff</th>\n",
       "      <td>0.306052</td>\n",
       "      <td>0.522222</td>\n",
       "      <td>0.499533</td>\n",
       "    </tr>\n",
       "    <tr>\n",
       "      <th>min-max</th>\n",
       "      <td>0.314275</td>\n",
       "      <td>0.533333</td>\n",
       "      <td>0.511256</td>\n",
       "    </tr>\n",
       "    <tr>\n",
       "      <th rowspan=\"2\" valign=\"top\">mrmr</th>\n",
       "      <th>max-cutoff</th>\n",
       "      <td>0.314275</td>\n",
       "      <td>0.533333</td>\n",
       "      <td>0.511256</td>\n",
       "    </tr>\n",
       "    <tr>\n",
       "      <th>min-max</th>\n",
       "      <td>0.314275</td>\n",
       "      <td>0.533333</td>\n",
       "      <td>0.511256</td>\n",
       "    </tr>\n",
       "    <tr>\n",
       "      <th rowspan=\"2\" valign=\"top\">rfecv_linsvc</th>\n",
       "      <th>max-cutoff</th>\n",
       "      <td>0.273010</td>\n",
       "      <td>0.522222</td>\n",
       "      <td>0.480860</td>\n",
       "    </tr>\n",
       "    <tr>\n",
       "      <th>min-max</th>\n",
       "      <td>0.257870</td>\n",
       "      <td>0.507937</td>\n",
       "      <td>0.462694</td>\n",
       "    </tr>\n",
       "  </tbody>\n",
       "</table>\n",
       "</div>"
      ],
      "text/plain": [
       "                                                                       test_f1_macro  \\\n",
       "model  col_name                 time period feature_select scale                       \n",
       "GDBcls RoadNet+Segment TOTAL    ~2014       None           max-cutoff       0.325695   \n",
       "                                                           min-max          0.309382   \n",
       "                                            mrmr           max-cutoff       0.316096   \n",
       "                                                           min-max          0.312272   \n",
       "                                            rfecv_linsvc   max-cutoff       0.279320   \n",
       "                                                           min-max          0.275626   \n",
       "                                ~2016       None           max-cutoff       0.310844   \n",
       "                                                           min-max          0.301714   \n",
       "                                            mrmr           max-cutoff       0.301570   \n",
       "                                                           min-max          0.314554   \n",
       "                                            rfecv_linsvc   max-cutoff       0.297601   \n",
       "                                                           min-max          0.288727   \n",
       "XGBcls RoadNet+Segment TOTAL    ~2014       None           max-cutoff       0.319983   \n",
       "                                                           min-max          0.319983   \n",
       "                                            mrmr           max-cutoff       0.319983   \n",
       "                                                           min-max          0.319983   \n",
       "                                            rfecv_linsvc   max-cutoff       0.292758   \n",
       "                                                           min-max          0.280266   \n",
       "                                ~2016       None           max-cutoff       0.272686   \n",
       "                                                           min-max          0.272686   \n",
       "                                            mrmr           max-cutoff       0.272686   \n",
       "                                                           min-max          0.272686   \n",
       "                                            rfecv_linsvc   max-cutoff       0.287765   \n",
       "                                                           min-max          0.298830   \n",
       "XGBreg RoadNet+Segment NO_TOTAL ~2014       None           max-cutoff       0.317581   \n",
       "                                                           min-max          0.332753   \n",
       "                                            mrmr           max-cutoff       0.332753   \n",
       "                                                           min-max          0.332753   \n",
       "                                            rfecv_linsvc   max-cutoff       0.268482   \n",
       "                                                           min-max          0.254113   \n",
       "                                ~2016       None           max-cutoff       0.293666   \n",
       "                                                           min-max          0.287858   \n",
       "                                            mrmr           max-cutoff       0.287858   \n",
       "                                                           min-max          0.283026   \n",
       "                                            rfecv_linsvc   max-cutoff       0.250856   \n",
       "                                                           min-max          0.271155   \n",
       "ols    RoadNet+Segment TOTAL    ~2014       None           max-cutoff       0.293364   \n",
       "                                                           min-max          0.300342   \n",
       "                                            mrmr           max-cutoff       0.300342   \n",
       "                                                           min-max          0.300342   \n",
       "                                            rfecv_linsvc   max-cutoff       0.258690   \n",
       "                                                           min-max          0.281312   \n",
       "                                ~2016       None           max-cutoff       0.306052   \n",
       "                                                           min-max          0.314275   \n",
       "                                            mrmr           max-cutoff       0.314275   \n",
       "                                                           min-max          0.314275   \n",
       "                                            rfecv_linsvc   max-cutoff       0.273010   \n",
       "                                                           min-max          0.257870   \n",
       "\n",
       "                                                                       test_f1_micro  \\\n",
       "model  col_name                 time period feature_select scale                       \n",
       "GDBcls RoadNet+Segment TOTAL    ~2014       None           max-cutoff       0.549206   \n",
       "                                                           min-max          0.538095   \n",
       "                                            mrmr           max-cutoff       0.552381   \n",
       "                                                           min-max          0.526984   \n",
       "                                            rfecv_linsvc   max-cutoff       0.514286   \n",
       "                                                           min-max          0.495238   \n",
       "                                ~2016       None           max-cutoff       0.530159   \n",
       "                                                           min-max          0.523810   \n",
       "                                            mrmr           max-cutoff       0.520635   \n",
       "                                                           min-max          0.522222   \n",
       "                                            rfecv_linsvc   max-cutoff       0.501587   \n",
       "                                                           min-max          0.512698   \n",
       "XGBcls RoadNet+Segment TOTAL    ~2014       None           max-cutoff       0.527778   \n",
       "                                                           min-max          0.527778   \n",
       "                                            mrmr           max-cutoff       0.527778   \n",
       "                                                           min-max          0.527778   \n",
       "                                            rfecv_linsvc   max-cutoff       0.503968   \n",
       "                                                           min-max          0.507937   \n",
       "                                ~2016       None           max-cutoff       0.484127   \n",
       "                                                           min-max          0.484127   \n",
       "                                            mrmr           max-cutoff       0.484127   \n",
       "                                                           min-max          0.484127   \n",
       "                                            rfecv_linsvc   max-cutoff       0.500000   \n",
       "                                                           min-max          0.492063   \n",
       "XGBreg RoadNet+Segment NO_TOTAL ~2014       None           max-cutoff       0.552381   \n",
       "                                                           min-max          0.555556   \n",
       "                                            mrmr           max-cutoff       0.555556   \n",
       "                                                           min-max          0.555556   \n",
       "                                            rfecv_linsvc   max-cutoff       0.495238   \n",
       "                                                           min-max          0.469841   \n",
       "                                ~2016       None           max-cutoff       0.530159   \n",
       "                                                           min-max          0.530159   \n",
       "                                            mrmr           max-cutoff       0.530159   \n",
       "                                                           min-max          0.515873   \n",
       "                                            rfecv_linsvc   max-cutoff       0.479365   \n",
       "                                                           min-max          0.511111   \n",
       "ols    RoadNet+Segment TOTAL    ~2014       None           max-cutoff       0.519048   \n",
       "                                                           min-max          0.530159   \n",
       "                                            mrmr           max-cutoff       0.530159   \n",
       "                                                           min-max          0.530159   \n",
       "                                            rfecv_linsvc   max-cutoff       0.495238   \n",
       "                                                           min-max          0.526984   \n",
       "                                ~2016       None           max-cutoff       0.522222   \n",
       "                                                           min-max          0.533333   \n",
       "                                            mrmr           max-cutoff       0.533333   \n",
       "                                                           min-max          0.533333   \n",
       "                                            rfecv_linsvc   max-cutoff       0.522222   \n",
       "                                                           min-max          0.507937   \n",
       "\n",
       "                                                                       test_f1_weighted  \n",
       "model  col_name                 time period feature_select scale                         \n",
       "GDBcls RoadNet+Segment TOTAL    ~2014       None           max-cutoff          0.523662  \n",
       "                                                           min-max             0.511942  \n",
       "                                            mrmr           max-cutoff          0.518190  \n",
       "                                                           min-max             0.500566  \n",
       "                                            rfecv_linsvc   max-cutoff          0.484688  \n",
       "                                                           min-max             0.468772  \n",
       "                                ~2016       None           max-cutoff          0.504872  \n",
       "                                                           min-max             0.495969  \n",
       "                                            mrmr           max-cutoff          0.492635  \n",
       "                                                           min-max             0.494691  \n",
       "                                            rfecv_linsvc   max-cutoff          0.482183  \n",
       "                                                           min-max             0.479516  \n",
       "XGBcls RoadNet+Segment TOTAL    ~2014       None           max-cutoff          0.516758  \n",
       "                                                           min-max             0.516758  \n",
       "                                            mrmr           max-cutoff          0.516758  \n",
       "                                                           min-max             0.516758  \n",
       "                                            rfecv_linsvc   max-cutoff          0.477009  \n",
       "                                                           min-max             0.479342  \n",
       "                                ~2016       None           max-cutoff          0.464453  \n",
       "                                                           min-max             0.464453  \n",
       "                                            mrmr           max-cutoff          0.464453  \n",
       "                                                           min-max             0.464453  \n",
       "                                            rfecv_linsvc   max-cutoff          0.481267  \n",
       "                                                           min-max             0.469673  \n",
       "XGBreg RoadNet+Segment NO_TOTAL ~2014       None           max-cutoff          0.532411  \n",
       "                                                           min-max             0.532707  \n",
       "                                            mrmr           max-cutoff          0.532707  \n",
       "                                                           min-max             0.532707  \n",
       "                                            rfecv_linsvc   max-cutoff          0.463545  \n",
       "                                                           min-max             0.439117  \n",
       "                                ~2016       None           max-cutoff          0.500678  \n",
       "                                                           min-max             0.499794  \n",
       "                                            mrmr           max-cutoff          0.499794  \n",
       "                                                           min-max             0.486165  \n",
       "                                            rfecv_linsvc   max-cutoff          0.438836  \n",
       "                                                           min-max             0.475077  \n",
       "ols    RoadNet+Segment TOTAL    ~2014       None           max-cutoff          0.498411  \n",
       "                                                           min-max             0.509801  \n",
       "                                            mrmr           max-cutoff          0.509801  \n",
       "                                                           min-max             0.509801  \n",
       "                                            rfecv_linsvc   max-cutoff          0.457272  \n",
       "                                                           min-max             0.493704  \n",
       "                                ~2016       None           max-cutoff          0.499533  \n",
       "                                                           min-max             0.511256  \n",
       "                                            mrmr           max-cutoff          0.511256  \n",
       "                                                           min-max             0.511256  \n",
       "                                            rfecv_linsvc   max-cutoff          0.480860  \n",
       "                                                           min-max             0.462694  "
      ]
     },
     "execution_count": 187,
     "metadata": {},
     "output_type": "execute_result"
    }
   ],
   "source": [
    "slice_res.groupby(['model', 'col_name', 'time period', 'feature_select', 'scale']).mean()"
   ]
  },
  {
   "cell_type": "code",
   "execution_count": null,
   "metadata": {
    "collapsed": true
   },
   "outputs": [],
   "source": []
  },
  {
   "cell_type": "code",
   "execution_count": null,
   "metadata": {
    "collapsed": true
   },
   "outputs": [],
   "source": []
  },
  {
   "cell_type": "code",
   "execution_count": null,
   "metadata": {
    "collapsed": true
   },
   "outputs": [],
   "source": []
  },
  {
   "cell_type": "markdown",
   "metadata": {},
   "source": [
    "# Deprecated"
   ]
  },
  {
   "cell_type": "code",
   "execution_count": 51,
   "metadata": {
    "collapsed": true
   },
   "outputs": [],
   "source": [
    "clean_res = all_run_res.drop(['feature', 'total or by type', 'time period', 'scale', 'feature_select',\n",
    "                  'kind', '# ftr remove', '# ftr keep', \n",
    "                  'train_acc', 'train_f1_macro', 'train_f1_micro', 'train_f1_weighted', 'train_mse',\n",
    "                  'test_acc', 'test_mse',\n",
    "                  'seed',\n",
    "                  'col_name', 'model'\n",
    "                 ], axis=1)"
   ]
  },
  {
   "cell_type": "code",
   "execution_count": 53,
   "metadata": {
    "collapsed": true
   },
   "outputs": [],
   "source": [
    "means = clean_res.groupby('key').mean().sort_values('test_f1_weighted', ascending=False)"
   ]
  },
  {
   "cell_type": "code",
   "execution_count": 55,
   "metadata": {
    "collapsed": true
   },
   "outputs": [],
   "source": [
    "stds = clean_res.groupby('key').std()"
   ]
  },
  {
   "cell_type": "code",
   "execution_count": 56,
   "metadata": {
    "collapsed": true
   },
   "outputs": [],
   "source": [
    "%matplotlib inline"
   ]
  },
  {
   "cell_type": "code",
   "execution_count": 62,
   "metadata": {},
   "outputs": [
    {
     "data": {
      "text/html": [
       "<div>\n",
       "<style>\n",
       "    .dataframe thead tr:only-child th {\n",
       "        text-align: right;\n",
       "    }\n",
       "\n",
       "    .dataframe thead th {\n",
       "        text-align: left;\n",
       "    }\n",
       "\n",
       "    .dataframe tbody tr th {\n",
       "        vertical-align: top;\n",
       "    }\n",
       "</style>\n",
       "<table border=\"1\" class=\"dataframe\">\n",
       "  <thead>\n",
       "    <tr style=\"text-align: right;\">\n",
       "      <th></th>\n",
       "      <th>test_f1_macro</th>\n",
       "      <th>test_f1_micro</th>\n",
       "      <th>test_f1_weighted</th>\n",
       "    </tr>\n",
       "    <tr>\n",
       "      <th>key</th>\n",
       "      <th></th>\n",
       "      <th></th>\n",
       "      <th></th>\n",
       "    </tr>\n",
       "  </thead>\n",
       "  <tbody>\n",
       "    <tr>\n",
       "      <th>RoadNet+Segment NO_TOTAL ~2014 XGBreg min-max mrmr</th>\n",
       "      <td>0.040526</td>\n",
       "      <td>0.079365</td>\n",
       "      <td>0.068269</td>\n",
       "    </tr>\n",
       "    <tr>\n",
       "      <th>RoadNet+Segment NO_TOTAL ~2014 XGBreg min-max None</th>\n",
       "      <td>0.040526</td>\n",
       "      <td>0.079365</td>\n",
       "      <td>0.068269</td>\n",
       "    </tr>\n",
       "    <tr>\n",
       "      <th>RoadNet+Segment NO_TOTAL ~2014 XGBreg max-cutoff mrmr</th>\n",
       "      <td>0.040526</td>\n",
       "      <td>0.079365</td>\n",
       "      <td>0.068269</td>\n",
       "    </tr>\n",
       "    <tr>\n",
       "      <th>RoadNet+Segment NO_TOTAL ~2014 XGBreg max-cutoff None</th>\n",
       "      <td>0.020002</td>\n",
       "      <td>0.055442</td>\n",
       "      <td>0.051565</td>\n",
       "    </tr>\n",
       "    <tr>\n",
       "      <th>RoadNet+Segment TOTAL ~2014 GDBcls max-cutoff None</th>\n",
       "      <td>0.056162</td>\n",
       "      <td>0.069873</td>\n",
       "      <td>0.066956</td>\n",
       "    </tr>\n",
       "    <tr>\n",
       "      <th>RoadNet+Segment NO_TOTAL ~2016 XGBcls min-max rfecv_linsvc</th>\n",
       "      <td>0.053360</td>\n",
       "      <td>0.080155</td>\n",
       "      <td>0.080876</td>\n",
       "    </tr>\n",
       "    <tr>\n",
       "      <th>RoadNet+Segment TOTAL ~2014 GDBcls max-cutoff mrmr</th>\n",
       "      <td>0.051958</td>\n",
       "      <td>0.052271</td>\n",
       "      <td>0.054188</td>\n",
       "    </tr>\n",
       "    <tr>\n",
       "      <th>RoadNet+Segment TOTAL ~2016 BAGcls max-cutoff mrmr</th>\n",
       "      <td>0.082135</td>\n",
       "      <td>0.076106</td>\n",
       "      <td>0.075219</td>\n",
       "    </tr>\n",
       "    <tr>\n",
       "      <th>RoadNet+Segment TOTAL ~2014 XGBcls min-max mrmr</th>\n",
       "      <td>0.028119</td>\n",
       "      <td>0.054023</td>\n",
       "      <td>0.059369</td>\n",
       "    </tr>\n",
       "    <tr>\n",
       "      <th>RoadNet+Segment TOTAL ~2014 XGBcls min-max None</th>\n",
       "      <td>0.028119</td>\n",
       "      <td>0.054023</td>\n",
       "      <td>0.059369</td>\n",
       "    </tr>\n",
       "  </tbody>\n",
       "</table>\n",
       "</div>"
      ],
      "text/plain": [
       "                                                    test_f1_macro  \\\n",
       "key                                                                 \n",
       "RoadNet+Segment NO_TOTAL ~2014 XGBreg min-max mrmr       0.040526   \n",
       "RoadNet+Segment NO_TOTAL ~2014 XGBreg min-max None       0.040526   \n",
       "RoadNet+Segment NO_TOTAL ~2014 XGBreg max-cutof...       0.040526   \n",
       "RoadNet+Segment NO_TOTAL ~2014 XGBreg max-cutof...       0.020002   \n",
       "RoadNet+Segment TOTAL ~2014 GDBcls max-cutoff None       0.056162   \n",
       "RoadNet+Segment NO_TOTAL ~2016 XGBcls min-max r...       0.053360   \n",
       "RoadNet+Segment TOTAL ~2014 GDBcls max-cutoff mrmr       0.051958   \n",
       "RoadNet+Segment TOTAL ~2016 BAGcls max-cutoff mrmr       0.082135   \n",
       "RoadNet+Segment TOTAL ~2014 XGBcls min-max mrmr          0.028119   \n",
       "RoadNet+Segment TOTAL ~2014 XGBcls min-max None          0.028119   \n",
       "\n",
       "                                                    test_f1_micro  \\\n",
       "key                                                                 \n",
       "RoadNet+Segment NO_TOTAL ~2014 XGBreg min-max mrmr       0.079365   \n",
       "RoadNet+Segment NO_TOTAL ~2014 XGBreg min-max None       0.079365   \n",
       "RoadNet+Segment NO_TOTAL ~2014 XGBreg max-cutof...       0.079365   \n",
       "RoadNet+Segment NO_TOTAL ~2014 XGBreg max-cutof...       0.055442   \n",
       "RoadNet+Segment TOTAL ~2014 GDBcls max-cutoff None       0.069873   \n",
       "RoadNet+Segment NO_TOTAL ~2016 XGBcls min-max r...       0.080155   \n",
       "RoadNet+Segment TOTAL ~2014 GDBcls max-cutoff mrmr       0.052271   \n",
       "RoadNet+Segment TOTAL ~2016 BAGcls max-cutoff mrmr       0.076106   \n",
       "RoadNet+Segment TOTAL ~2014 XGBcls min-max mrmr          0.054023   \n",
       "RoadNet+Segment TOTAL ~2014 XGBcls min-max None          0.054023   \n",
       "\n",
       "                                                    test_f1_weighted  \n",
       "key                                                                   \n",
       "RoadNet+Segment NO_TOTAL ~2014 XGBreg min-max mrmr          0.068269  \n",
       "RoadNet+Segment NO_TOTAL ~2014 XGBreg min-max None          0.068269  \n",
       "RoadNet+Segment NO_TOTAL ~2014 XGBreg max-cutof...          0.068269  \n",
       "RoadNet+Segment NO_TOTAL ~2014 XGBreg max-cutof...          0.051565  \n",
       "RoadNet+Segment TOTAL ~2014 GDBcls max-cutoff None          0.066956  \n",
       "RoadNet+Segment NO_TOTAL ~2016 XGBcls min-max r...          0.080876  \n",
       "RoadNet+Segment TOTAL ~2014 GDBcls max-cutoff mrmr          0.054188  \n",
       "RoadNet+Segment TOTAL ~2016 BAGcls max-cutoff mrmr          0.075219  \n",
       "RoadNet+Segment TOTAL ~2014 XGBcls min-max mrmr             0.059369  \n",
       "RoadNet+Segment TOTAL ~2014 XGBcls min-max None             0.059369  "
      ]
     },
     "execution_count": 62,
     "metadata": {},
     "output_type": "execute_result"
    }
   ],
   "source": [
    "means_to_plot = means.head(10)\n",
    "index_to_plot = means_to_plot.index\n",
    "\n",
    "stds_to_plot = stds.loc[index_to_plot]\n",
    "stds_to_plot"
   ]
  },
  {
   "cell_type": "code",
   "execution_count": 63,
   "metadata": {},
   "outputs": [
    {
     "data": {
      "text/html": [
       "<div>\n",
       "<style>\n",
       "    .dataframe thead tr:only-child th {\n",
       "        text-align: right;\n",
       "    }\n",
       "\n",
       "    .dataframe thead th {\n",
       "        text-align: left;\n",
       "    }\n",
       "\n",
       "    .dataframe tbody tr th {\n",
       "        vertical-align: top;\n",
       "    }\n",
       "</style>\n",
       "<table border=\"1\" class=\"dataframe\">\n",
       "  <thead>\n",
       "    <tr style=\"text-align: right;\">\n",
       "      <th></th>\n",
       "      <th>test_f1_macro</th>\n",
       "      <th>test_f1_micro</th>\n",
       "      <th>test_f1_weighted</th>\n",
       "    </tr>\n",
       "    <tr>\n",
       "      <th>key</th>\n",
       "      <th></th>\n",
       "      <th></th>\n",
       "      <th></th>\n",
       "    </tr>\n",
       "  </thead>\n",
       "  <tbody>\n",
       "    <tr>\n",
       "      <th>RoadNet+Segment NO_TOTAL ~2014 XGBreg min-max mrmr</th>\n",
       "      <td>0.332753</td>\n",
       "      <td>0.555556</td>\n",
       "      <td>0.532707</td>\n",
       "    </tr>\n",
       "    <tr>\n",
       "      <th>RoadNet+Segment NO_TOTAL ~2014 XGBreg min-max None</th>\n",
       "      <td>0.332753</td>\n",
       "      <td>0.555556</td>\n",
       "      <td>0.532707</td>\n",
       "    </tr>\n",
       "    <tr>\n",
       "      <th>RoadNet+Segment NO_TOTAL ~2014 XGBreg max-cutoff mrmr</th>\n",
       "      <td>0.332753</td>\n",
       "      <td>0.555556</td>\n",
       "      <td>0.532707</td>\n",
       "    </tr>\n",
       "    <tr>\n",
       "      <th>RoadNet+Segment NO_TOTAL ~2014 XGBreg max-cutoff None</th>\n",
       "      <td>0.317581</td>\n",
       "      <td>0.552381</td>\n",
       "      <td>0.532411</td>\n",
       "    </tr>\n",
       "    <tr>\n",
       "      <th>RoadNet+Segment TOTAL ~2014 GDBcls max-cutoff None</th>\n",
       "      <td>0.325695</td>\n",
       "      <td>0.549206</td>\n",
       "      <td>0.523662</td>\n",
       "    </tr>\n",
       "    <tr>\n",
       "      <th>RoadNet+Segment NO_TOTAL ~2016 XGBcls min-max rfecv_linsvc</th>\n",
       "      <td>0.321872</td>\n",
       "      <td>0.539683</td>\n",
       "      <td>0.520465</td>\n",
       "    </tr>\n",
       "    <tr>\n",
       "      <th>RoadNet+Segment TOTAL ~2014 GDBcls max-cutoff mrmr</th>\n",
       "      <td>0.316096</td>\n",
       "      <td>0.552381</td>\n",
       "      <td>0.518190</td>\n",
       "    </tr>\n",
       "    <tr>\n",
       "      <th>RoadNet+Segment TOTAL ~2016 BAGcls max-cutoff mrmr</th>\n",
       "      <td>0.330260</td>\n",
       "      <td>0.541270</td>\n",
       "      <td>0.516796</td>\n",
       "    </tr>\n",
       "    <tr>\n",
       "      <th>RoadNet+Segment TOTAL ~2014 XGBcls min-max mrmr</th>\n",
       "      <td>0.319983</td>\n",
       "      <td>0.527778</td>\n",
       "      <td>0.516758</td>\n",
       "    </tr>\n",
       "    <tr>\n",
       "      <th>RoadNet+Segment TOTAL ~2014 XGBcls min-max None</th>\n",
       "      <td>0.319983</td>\n",
       "      <td>0.527778</td>\n",
       "      <td>0.516758</td>\n",
       "    </tr>\n",
       "  </tbody>\n",
       "</table>\n",
       "</div>"
      ],
      "text/plain": [
       "                                                    test_f1_macro  \\\n",
       "key                                                                 \n",
       "RoadNet+Segment NO_TOTAL ~2014 XGBreg min-max mrmr       0.332753   \n",
       "RoadNet+Segment NO_TOTAL ~2014 XGBreg min-max None       0.332753   \n",
       "RoadNet+Segment NO_TOTAL ~2014 XGBreg max-cutof...       0.332753   \n",
       "RoadNet+Segment NO_TOTAL ~2014 XGBreg max-cutof...       0.317581   \n",
       "RoadNet+Segment TOTAL ~2014 GDBcls max-cutoff None       0.325695   \n",
       "RoadNet+Segment NO_TOTAL ~2016 XGBcls min-max r...       0.321872   \n",
       "RoadNet+Segment TOTAL ~2014 GDBcls max-cutoff mrmr       0.316096   \n",
       "RoadNet+Segment TOTAL ~2016 BAGcls max-cutoff mrmr       0.330260   \n",
       "RoadNet+Segment TOTAL ~2014 XGBcls min-max mrmr          0.319983   \n",
       "RoadNet+Segment TOTAL ~2014 XGBcls min-max None          0.319983   \n",
       "\n",
       "                                                    test_f1_micro  \\\n",
       "key                                                                 \n",
       "RoadNet+Segment NO_TOTAL ~2014 XGBreg min-max mrmr       0.555556   \n",
       "RoadNet+Segment NO_TOTAL ~2014 XGBreg min-max None       0.555556   \n",
       "RoadNet+Segment NO_TOTAL ~2014 XGBreg max-cutof...       0.555556   \n",
       "RoadNet+Segment NO_TOTAL ~2014 XGBreg max-cutof...       0.552381   \n",
       "RoadNet+Segment TOTAL ~2014 GDBcls max-cutoff None       0.549206   \n",
       "RoadNet+Segment NO_TOTAL ~2016 XGBcls min-max r...       0.539683   \n",
       "RoadNet+Segment TOTAL ~2014 GDBcls max-cutoff mrmr       0.552381   \n",
       "RoadNet+Segment TOTAL ~2016 BAGcls max-cutoff mrmr       0.541270   \n",
       "RoadNet+Segment TOTAL ~2014 XGBcls min-max mrmr          0.527778   \n",
       "RoadNet+Segment TOTAL ~2014 XGBcls min-max None          0.527778   \n",
       "\n",
       "                                                    test_f1_weighted  \n",
       "key                                                                   \n",
       "RoadNet+Segment NO_TOTAL ~2014 XGBreg min-max mrmr          0.532707  \n",
       "RoadNet+Segment NO_TOTAL ~2014 XGBreg min-max None          0.532707  \n",
       "RoadNet+Segment NO_TOTAL ~2014 XGBreg max-cutof...          0.532707  \n",
       "RoadNet+Segment NO_TOTAL ~2014 XGBreg max-cutof...          0.532411  \n",
       "RoadNet+Segment TOTAL ~2014 GDBcls max-cutoff None          0.523662  \n",
       "RoadNet+Segment NO_TOTAL ~2016 XGBcls min-max r...          0.520465  \n",
       "RoadNet+Segment TOTAL ~2014 GDBcls max-cutoff mrmr          0.518190  \n",
       "RoadNet+Segment TOTAL ~2016 BAGcls max-cutoff mrmr          0.516796  \n",
       "RoadNet+Segment TOTAL ~2014 XGBcls min-max mrmr             0.516758  \n",
       "RoadNet+Segment TOTAL ~2014 XGBcls min-max None             0.516758  "
      ]
     },
     "execution_count": 63,
     "metadata": {},
     "output_type": "execute_result"
    }
   ],
   "source": [
    "means_to_plot"
   ]
  },
  {
   "cell_type": "code",
   "execution_count": 64,
   "metadata": {
    "scrolled": true
   },
   "outputs": [
    {
     "data": {
      "text/plain": [
       "<matplotlib.axes._subplots.AxesSubplot at 0x28aa5386c50>"
      ]
     },
     "execution_count": 64,
     "metadata": {},
     "output_type": "execute_result"
    },
    {
     "data": {
      "image/png": "[encoded data removed]",
      "text/plain": [
       "<matplotlib.figure.Figure at 0x28aa53863c8>"
      ]
     },
     "metadata": {},
     "output_type": "display_data"
    }
   ],
   "source": [
    "means_to_plot.plot(kind='barh', xerr=stds_to_plot, figsize=(10,5))"
   ]
  },
  {
   "cell_type": "code",
   "execution_count": 33,
   "metadata": {},
   "outputs": [
    {
     "data": {
      "text/html": [
       "<div>\n",
       "<style>\n",
       "    .dataframe thead tr:only-child th {\n",
       "        text-align: right;\n",
       "    }\n",
       "\n",
       "    .dataframe thead th {\n",
       "        text-align: left;\n",
       "    }\n",
       "\n",
       "    .dataframe tbody tr th {\n",
       "        vertical-align: top;\n",
       "    }\n",
       "</style>\n",
       "<table border=\"1\" class=\"dataframe\">\n",
       "  <thead>\n",
       "    <tr style=\"text-align: right;\">\n",
       "      <th></th>\n",
       "      <th>test_f1_macro</th>\n",
       "      <th>test_f1_micro</th>\n",
       "      <th>test_f1_weighted</th>\n",
       "      <th>key</th>\n",
       "    </tr>\n",
       "  </thead>\n",
       "  <tbody>\n",
       "    <tr>\n",
       "      <th>707</th>\n",
       "      <td>0.312994</td>\n",
       "      <td>0.619048</td>\n",
       "      <td>0.590639</td>\n",
       "      <td>RoadNet+Segment TOTAL ~2014 GDBcls max-cutoff ...</td>\n",
       "    </tr>\n",
       "    <tr>\n",
       "      <th>1723</th>\n",
       "      <td>0.329147</td>\n",
       "      <td>0.476190</td>\n",
       "      <td>0.458477</td>\n",
       "      <td>RoadNet+Segment TOTAL ~2014 GDBcls max-cutoff ...</td>\n",
       "    </tr>\n",
       "    <tr>\n",
       "      <th>2744</th>\n",
       "      <td>0.316695</td>\n",
       "      <td>0.571429</td>\n",
       "      <td>0.551029</td>\n",
       "      <td>RoadNet+Segment TOTAL ~2014 GDBcls max-cutoff ...</td>\n",
       "    </tr>\n",
       "    <tr>\n",
       "      <th>3774</th>\n",
       "      <td>0.290438</td>\n",
       "      <td>0.507937</td>\n",
       "      <td>0.476017</td>\n",
       "      <td>RoadNet+Segment TOTAL ~2014 GDBcls max-cutoff ...</td>\n",
       "    </tr>\n",
       "    <tr>\n",
       "      <th>4787</th>\n",
       "      <td>0.439818</td>\n",
       "      <td>0.650794</td>\n",
       "      <td>0.616350</td>\n",
       "      <td>RoadNet+Segment TOTAL ~2014 GDBcls max-cutoff ...</td>\n",
       "    </tr>\n",
       "    <tr>\n",
       "      <th>5808</th>\n",
       "      <td>0.330880</td>\n",
       "      <td>0.571429</td>\n",
       "      <td>0.537587</td>\n",
       "      <td>RoadNet+Segment TOTAL ~2014 GDBcls max-cutoff ...</td>\n",
       "    </tr>\n",
       "    <tr>\n",
       "      <th>6832</th>\n",
       "      <td>0.264004</td>\n",
       "      <td>0.507937</td>\n",
       "      <td>0.455709</td>\n",
       "      <td>RoadNet+Segment TOTAL ~2014 GDBcls max-cutoff ...</td>\n",
       "    </tr>\n",
       "    <tr>\n",
       "      <th>7853</th>\n",
       "      <td>0.296735</td>\n",
       "      <td>0.539683</td>\n",
       "      <td>0.526903</td>\n",
       "      <td>RoadNet+Segment TOTAL ~2014 GDBcls max-cutoff ...</td>\n",
       "    </tr>\n",
       "    <tr>\n",
       "      <th>8869</th>\n",
       "      <td>0.282423</td>\n",
       "      <td>0.555556</td>\n",
       "      <td>0.490979</td>\n",
       "      <td>RoadNet+Segment TOTAL ~2014 GDBcls max-cutoff ...</td>\n",
       "    </tr>\n",
       "    <tr>\n",
       "      <th>9891</th>\n",
       "      <td>0.321478</td>\n",
       "      <td>0.555556</td>\n",
       "      <td>0.518747</td>\n",
       "      <td>RoadNet+Segment TOTAL ~2014 GDBcls max-cutoff ...</td>\n",
       "    </tr>\n",
       "  </tbody>\n",
       "</table>\n",
       "</div>"
      ],
      "text/plain": [
       "      test_f1_macro  test_f1_micro  test_f1_weighted  \\\n",
       "707        0.312994       0.619048          0.590639   \n",
       "1723       0.329147       0.476190          0.458477   \n",
       "2744       0.316695       0.571429          0.551029   \n",
       "3774       0.290438       0.507937          0.476017   \n",
       "4787       0.439818       0.650794          0.616350   \n",
       "5808       0.330880       0.571429          0.537587   \n",
       "6832       0.264004       0.507937          0.455709   \n",
       "7853       0.296735       0.539683          0.526903   \n",
       "8869       0.282423       0.555556          0.490979   \n",
       "9891       0.321478       0.555556          0.518747   \n",
       "\n",
       "                                                    key  \n",
       "707   RoadNet+Segment TOTAL ~2014 GDBcls max-cutoff ...  \n",
       "1723  RoadNet+Segment TOTAL ~2014 GDBcls max-cutoff ...  \n",
       "2744  RoadNet+Segment TOTAL ~2014 GDBcls max-cutoff ...  \n",
       "3774  RoadNet+Segment TOTAL ~2014 GDBcls max-cutoff ...  \n",
       "4787  RoadNet+Segment TOTAL ~2014 GDBcls max-cutoff ...  \n",
       "5808  RoadNet+Segment TOTAL ~2014 GDBcls max-cutoff ...  \n",
       "6832  RoadNet+Segment TOTAL ~2014 GDBcls max-cutoff ...  \n",
       "7853  RoadNet+Segment TOTAL ~2014 GDBcls max-cutoff ...  \n",
       "8869  RoadNet+Segment TOTAL ~2014 GDBcls max-cutoff ...  \n",
       "9891  RoadNet+Segment TOTAL ~2014 GDBcls max-cutoff ...  "
      ]
     },
     "execution_count": 33,
     "metadata": {},
     "output_type": "execute_result"
    }
   ],
   "source": [
    "clean_res[clean_res.key.isin(index_to_plot[:1])]"
   ]
  },
  {
   "cell_type": "code",
   "execution_count": null,
   "metadata": {
    "collapsed": true
   },
   "outputs": [],
   "source": []
  },
  {
   "cell_type": "code",
   "execution_count": null,
   "metadata": {
    "collapsed": true
   },
   "outputs": [],
   "source": []
  }
 ],
 "metadata": {
  "kernelspec": {
   "display_name": "Python [default]",
   "language": "python",
   "name": "python3"
  },
  "language_info": {
   "codemirror_mode": {
    "name": "ipython",
    "version": 3
   },
   "file_extension": ".py",
   "mimetype": "text/x-python",
   "name": "python",
   "nbconvert_exporter": "python",
   "pygments_lexer": "ipython3",
   "version": "3.6.2"
  }
 },
 "nbformat": 4,
 "nbformat_minor": 2
}
