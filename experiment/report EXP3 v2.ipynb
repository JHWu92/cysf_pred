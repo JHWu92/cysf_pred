{
 "cells": [
  {
   "cell_type": "code",
   "execution_count": 1,
   "metadata": {
    "collapsed": true
   },
   "outputs": [],
   "source": [
    "# best 3 solutions based on EXP1 in turns of f1 weighted is:\n",
    "# SVM, RoadNet+Segment NO_TOTAL, 0.553202\n",
    "# RFcls, RoadNet+Segment TOTAL, 0.547742\n",
    "# GDBcls, RoadNet+Segment TOTAL, 0.542030\n",
    "# with ~2014, min-max, no feature selection"
   ]
  },
  {
   "cell_type": "code",
   "execution_count": 2,
   "metadata": {
    "collapsed": true
   },
   "outputs": [],
   "source": [
    "import pandas as pd\n",
    "%matplotlib inline"
   ]
  },
  {
   "cell_type": "code",
   "execution_count": 8,
   "metadata": {},
   "outputs": [],
   "source": [
    "SEEDS = [0, 100, 972, 5258, 7821, 40918, 57852, 168352, 291592, 789729423]\n"
   ]
  },
  {
   "cell_type": "code",
   "execution_count": 10,
   "metadata": {
    "collapsed": true
   },
   "outputs": [],
   "source": [
    "f1_choices = ['test_f1_weighted', 'test_f1_macro', 'test_f1_micro']"
   ]
  },
  {
   "cell_type": "code",
   "execution_count": 11,
   "metadata": {
    "collapsed": true
   },
   "outputs": [],
   "source": [
    "def get_paper_table(means, f1_type, key_cols):\n",
    "    cols_name_convert = {'RoadNet': 'RoadNet', 'RoadNet+Segment_NO_TOTAL_~2014': 'RoadNet+Segment type',\n",
    "     'RoadNet+Segment_TOTAL_~2014': 'RoadNet+Segment total', 'Segment_NO_TOTAL_~2014': 'Segment type',\n",
    "     'Segment_TOTAL_~2014': 'Segment total'}\n",
    "    means_for_pivot = means.reset_index()\n",
    "    means_for_pivot['key'] = means_for_pivot.apply(lambda x: tuple([x[col] for col in key_cols]), axis=1)\n",
    "    table = means_for_pivot.reset_index().pivot(index='key', columns='ftr_combo_name', values=f1_type)\n",
    "    table.index = pd.MultiIndex.from_tuples(table.index, names=key_cols)    \n",
    "    table.columns.name = f1_type\n",
    "    table.columns = [cols_name_convert[col] for col in table.columns]\n",
    "    return table[['RoadNet', 'Segment total', 'Segment type', 'RoadNet+Segment total', 'RoadNet+Segment type']]"
   ]
  },
  {
   "cell_type": "markdown",
   "metadata": {},
   "source": [
    "# Upsample result"
   ]
  },
  {
   "cell_type": "code",
   "execution_count": 15,
   "metadata": {
    "collapsed": true
   },
   "outputs": [],
   "source": [
    "def get_up_result(upsample_type, eval_or_grid):\n",
    "    res = []\n",
    "\n",
    "    for smote_kind in ['regular', 'svm']:\n",
    "        for seed in SEEDS:\n",
    "            exp_path = 'exp3/seed_%d' % seed\n",
    "            smote_path = '%s/%s_%s' % (exp_path, upsample_type, smote_kind)\n",
    "            try:\n",
    "                df = pd.read_csv('%s/%s_res.csv' % (smote_path, eval_or_grid), index_col=0)\n",
    "                df['seed'] = seed\n",
    "                df['smote_kind'] = smote_kind\n",
    "                res.append(df)\n",
    "            except FileNotFoundError:\n",
    "                print('no %s_res in' % eval_or_grid, smote_path)\n",
    "\n",
    "    res = pd.concat(res, ignore_index=True)\n",
    "    return res"
   ]
  },
  {
   "cell_type": "code",
   "execution_count": 16,
   "metadata": {
    "collapsed": true
   },
   "outputs": [],
   "source": [
    "keys = ['smote_kind', 'model_name', 'feature_selection', 'ftr_combo_name']"
   ]
  },
  {
   "cell_type": "code",
   "execution_count": 17,
   "metadata": {},
   "outputs": [
    {
     "name": "stdout",
     "output_type": "stream",
     "text": [
      "no eval_res in exp3/seed_972/upsample_smote_regular\n",
      "no eval_res in exp3/seed_7821/upsample_smote_regular\n",
      "no eval_res in exp3/seed_972/upsample_smote_svm\n",
      "no eval_res in exp3/seed_7821/upsample_smote_svm\n"
     ]
    }
   ],
   "source": [
    "up_eval_res = get_up_result('upsample_smote', 'eval')"
   ]
  },
  {
   "cell_type": "code",
   "execution_count": 10,
   "metadata": {
    "collapsed": true,
    "scrolled": true
   },
   "outputs": [],
   "source": [
    "# up_eval_res[['up_y_dist', 'y_dist']].iloc[::-1]"
   ]
  },
  {
   "cell_type": "code",
   "execution_count": 18,
   "metadata": {
    "collapsed": true
   },
   "outputs": [],
   "source": [
    "up_means = up_eval_res.groupby(keys).mean()[f1_choices]\n",
    "up_stds = up_eval_res.groupby(keys).std()[f1_choices]"
   ]
  },
  {
   "cell_type": "code",
   "execution_count": 19,
   "metadata": {
    "scrolled": true
   },
   "outputs": [
    {
     "name": "stdout",
     "output_type": "stream",
     "text": [
      "f1_type = test_f1_weighted\n"
     ]
    },
    {
     "data": {
      "text/html": [
       "<div>\n",
       "<style>\n",
       "    .dataframe thead tr:only-child th {\n",
       "        text-align: right;\n",
       "    }\n",
       "\n",
       "    .dataframe thead th {\n",
       "        text-align: left;\n",
       "    }\n",
       "\n",
       "    .dataframe tbody tr th {\n",
       "        vertical-align: top;\n",
       "    }\n",
       "</style>\n",
       "<table border=\"1\" class=\"dataframe\">\n",
       "  <thead>\n",
       "    <tr style=\"text-align: right;\">\n",
       "      <th></th>\n",
       "      <th></th>\n",
       "      <th></th>\n",
       "      <th></th>\n",
       "      <th>test_f1_weighted</th>\n",
       "    </tr>\n",
       "    <tr>\n",
       "      <th>smote_kind</th>\n",
       "      <th>model_name</th>\n",
       "      <th>feature_selection</th>\n",
       "      <th>ftr_combo_name</th>\n",
       "      <th></th>\n",
       "    </tr>\n",
       "  </thead>\n",
       "  <tbody>\n",
       "    <tr>\n",
       "      <th>svm</th>\n",
       "      <th>RFcls</th>\n",
       "      <th>mrmr</th>\n",
       "      <th>RoadNet</th>\n",
       "      <td>0.552031</td>\n",
       "    </tr>\n",
       "    <tr>\n",
       "      <th>regular</th>\n",
       "      <th>RFcls</th>\n",
       "      <th>None</th>\n",
       "      <th>RoadNet</th>\n",
       "      <td>0.551058</td>\n",
       "    </tr>\n",
       "  </tbody>\n",
       "</table>\n",
       "</div>"
      ],
      "text/plain": [
       "                                                        test_f1_weighted\n",
       "smote_kind model_name feature_selection ftr_combo_name                  \n",
       "svm        RFcls      mrmr              RoadNet                 0.552031\n",
       "regular    RFcls      None              RoadNet                 0.551058"
      ]
     },
     "execution_count": 19,
     "metadata": {},
     "output_type": "execute_result"
    },
    {
     "data": {
      "image/png": "[encoded data removed]",
      "text/plain": [
       "<matplotlib.figure.Figure at 0x7f458b5a89e8>"
      ]
     },
     "metadata": {},
     "output_type": "display_data"
    }
   ],
   "source": [
    "f1_type = f1_choices[0]\n",
    "print('f1_type =', f1_type)\n",
    "\n",
    "up_means_to_plot = up_means[[f1_type]].sort_values(f1_type, ascending=True)\n",
    "up_stds_to_plot = up_stds[[f1_type]]\n",
    "\n",
    "up_means_to_plot.iloc[-5:].plot(kind='barh', figsize=(10,7), xerr=up_stds_to_plot)\n",
    "up_means_to_plot.iloc[:-3:-1,:]"
   ]
  },
  {
   "cell_type": "code",
   "execution_count": 36,
   "metadata": {},
   "outputs": [
    {
     "name": "stdout",
     "output_type": "stream",
     "text": [
      "f1_type = test_f1_weighted\n"
     ]
    },
    {
     "data": {
      "text/html": [
       "<div>\n",
       "<style>\n",
       "    .dataframe thead tr:only-child th {\n",
       "        text-align: right;\n",
       "    }\n",
       "\n",
       "    .dataframe thead th {\n",
       "        text-align: left;\n",
       "    }\n",
       "\n",
       "    .dataframe tbody tr th {\n",
       "        vertical-align: top;\n",
       "    }\n",
       "</style>\n",
       "<table border=\"1\" class=\"dataframe\">\n",
       "  <thead>\n",
       "    <tr style=\"text-align: right;\">\n",
       "      <th></th>\n",
       "      <th></th>\n",
       "      <th></th>\n",
       "      <th>RoadNet</th>\n",
       "      <th>Segment total</th>\n",
       "      <th>Segment type</th>\n",
       "      <th>RoadNet+Segment total</th>\n",
       "      <th>RoadNet+Segment type</th>\n",
       "    </tr>\n",
       "    <tr>\n",
       "      <th>model_name</th>\n",
       "      <th>feature_selection</th>\n",
       "      <th>smote_kind</th>\n",
       "      <th></th>\n",
       "      <th></th>\n",
       "      <th></th>\n",
       "      <th></th>\n",
       "      <th></th>\n",
       "    </tr>\n",
       "  </thead>\n",
       "  <tbody>\n",
       "    <tr>\n",
       "      <th rowspan=\"6\" valign=\"top\">GDBcls</th>\n",
       "      <th rowspan=\"2\" valign=\"top\">None</th>\n",
       "      <th>regular</th>\n",
       "      <td>0.538220</td>\n",
       "      <td>0.416588</td>\n",
       "      <td>0.487142</td>\n",
       "      <td>0.542810</td>\n",
       "      <td>0.528099</td>\n",
       "    </tr>\n",
       "    <tr>\n",
       "      <th>svm</th>\n",
       "      <td>0.547187</td>\n",
       "      <td>0.449131</td>\n",
       "      <td>0.478661</td>\n",
       "      <td>0.517819</td>\n",
       "      <td>0.544495</td>\n",
       "    </tr>\n",
       "    <tr>\n",
       "      <th rowspan=\"2\" valign=\"top\">mrmr</th>\n",
       "      <th>regular</th>\n",
       "      <td>0.538220</td>\n",
       "      <td>0.397033</td>\n",
       "      <td>0.471068</td>\n",
       "      <td>0.539811</td>\n",
       "      <td>0.525914</td>\n",
       "    </tr>\n",
       "    <tr>\n",
       "      <th>svm</th>\n",
       "      <td>0.520802</td>\n",
       "      <td>0.417443</td>\n",
       "      <td>0.480710</td>\n",
       "      <td>0.520191</td>\n",
       "      <td>0.541541</td>\n",
       "    </tr>\n",
       "    <tr>\n",
       "      <th rowspan=\"2\" valign=\"top\">rfecv_linsvc</th>\n",
       "      <th>regular</th>\n",
       "      <td>0.540147</td>\n",
       "      <td>0.420008</td>\n",
       "      <td>0.460936</td>\n",
       "      <td>0.527798</td>\n",
       "      <td>0.524843</td>\n",
       "    </tr>\n",
       "    <tr>\n",
       "      <th>svm</th>\n",
       "      <td>0.539373</td>\n",
       "      <td>0.438101</td>\n",
       "      <td>0.462740</td>\n",
       "      <td>0.526951</td>\n",
       "      <td>0.515844</td>\n",
       "    </tr>\n",
       "    <tr>\n",
       "      <th rowspan=\"6\" valign=\"top\">RFcls</th>\n",
       "      <th rowspan=\"2\" valign=\"top\">None</th>\n",
       "      <th>regular</th>\n",
       "      <td>0.551058</td>\n",
       "      <td>0.410219</td>\n",
       "      <td>0.468483</td>\n",
       "      <td>0.530588</td>\n",
       "      <td>0.533790</td>\n",
       "    </tr>\n",
       "    <tr>\n",
       "      <th>svm</th>\n",
       "      <td>0.541390</td>\n",
       "      <td>0.424101</td>\n",
       "      <td>0.496011</td>\n",
       "      <td>0.515806</td>\n",
       "      <td>0.545825</td>\n",
       "    </tr>\n",
       "    <tr>\n",
       "      <th rowspan=\"2\" valign=\"top\">mrmr</th>\n",
       "      <th>regular</th>\n",
       "      <td>0.551058</td>\n",
       "      <td>0.412276</td>\n",
       "      <td>0.485038</td>\n",
       "      <td>0.523707</td>\n",
       "      <td>0.534823</td>\n",
       "    </tr>\n",
       "    <tr>\n",
       "      <th>svm</th>\n",
       "      <td>0.552031</td>\n",
       "      <td>0.401934</td>\n",
       "      <td>0.498734</td>\n",
       "      <td>0.541703</td>\n",
       "      <td>0.513732</td>\n",
       "    </tr>\n",
       "    <tr>\n",
       "      <th rowspan=\"2\" valign=\"top\">rfecv_linsvc</th>\n",
       "      <th>regular</th>\n",
       "      <td>0.543354</td>\n",
       "      <td>0.406523</td>\n",
       "      <td>0.470551</td>\n",
       "      <td>0.528422</td>\n",
       "      <td>0.518717</td>\n",
       "    </tr>\n",
       "    <tr>\n",
       "      <th>svm</th>\n",
       "      <td>0.548541</td>\n",
       "      <td>0.426363</td>\n",
       "      <td>0.481918</td>\n",
       "      <td>0.533841</td>\n",
       "      <td>0.510699</td>\n",
       "    </tr>\n",
       "    <tr>\n",
       "      <th rowspan=\"6\" valign=\"top\">SVM</th>\n",
       "      <th rowspan=\"2\" valign=\"top\">None</th>\n",
       "      <th>regular</th>\n",
       "      <td>0.494408</td>\n",
       "      <td>0.286852</td>\n",
       "      <td>0.442940</td>\n",
       "      <td>0.505888</td>\n",
       "      <td>0.533113</td>\n",
       "    </tr>\n",
       "    <tr>\n",
       "      <th>svm</th>\n",
       "      <td>0.492040</td>\n",
       "      <td>0.379164</td>\n",
       "      <td>0.445191</td>\n",
       "      <td>0.516485</td>\n",
       "      <td>0.506727</td>\n",
       "    </tr>\n",
       "    <tr>\n",
       "      <th rowspan=\"2\" valign=\"top\">mrmr</th>\n",
       "      <th>regular</th>\n",
       "      <td>0.494408</td>\n",
       "      <td>0.261276</td>\n",
       "      <td>0.446433</td>\n",
       "      <td>0.513720</td>\n",
       "      <td>0.533319</td>\n",
       "    </tr>\n",
       "    <tr>\n",
       "      <th>svm</th>\n",
       "      <td>0.491735</td>\n",
       "      <td>0.347065</td>\n",
       "      <td>0.444734</td>\n",
       "      <td>0.526295</td>\n",
       "      <td>0.515979</td>\n",
       "    </tr>\n",
       "    <tr>\n",
       "      <th rowspan=\"2\" valign=\"top\">rfecv_linsvc</th>\n",
       "      <th>regular</th>\n",
       "      <td>0.483561</td>\n",
       "      <td>0.271561</td>\n",
       "      <td>0.423016</td>\n",
       "      <td>0.471798</td>\n",
       "      <td>0.520610</td>\n",
       "    </tr>\n",
       "    <tr>\n",
       "      <th>svm</th>\n",
       "      <td>0.505340</td>\n",
       "      <td>0.365997</td>\n",
       "      <td>0.429072</td>\n",
       "      <td>0.489023</td>\n",
       "      <td>0.495072</td>\n",
       "    </tr>\n",
       "  </tbody>\n",
       "</table>\n",
       "</div>"
      ],
      "text/plain": [
       "                                          RoadNet  Segment total  \\\n",
       "model_name feature_selection smote_kind                            \n",
       "GDBcls     None              regular     0.538220       0.416588   \n",
       "                             svm         0.547187       0.449131   \n",
       "           mrmr              regular     0.538220       0.397033   \n",
       "                             svm         0.520802       0.417443   \n",
       "           rfecv_linsvc      regular     0.540147       0.420008   \n",
       "                             svm         0.539373       0.438101   \n",
       "RFcls      None              regular     0.551058       0.410219   \n",
       "                             svm         0.541390       0.424101   \n",
       "           mrmr              regular     0.551058       0.412276   \n",
       "                             svm         0.552031       0.401934   \n",
       "           rfecv_linsvc      regular     0.543354       0.406523   \n",
       "                             svm         0.548541       0.426363   \n",
       "SVM        None              regular     0.494408       0.286852   \n",
       "                             svm         0.492040       0.379164   \n",
       "           mrmr              regular     0.494408       0.261276   \n",
       "                             svm         0.491735       0.347065   \n",
       "           rfecv_linsvc      regular     0.483561       0.271561   \n",
       "                             svm         0.505340       0.365997   \n",
       "\n",
       "                                         Segment type  RoadNet+Segment total  \\\n",
       "model_name feature_selection smote_kind                                        \n",
       "GDBcls     None              regular         0.487142               0.542810   \n",
       "                             svm             0.478661               0.517819   \n",
       "           mrmr              regular         0.471068               0.539811   \n",
       "                             svm             0.480710               0.520191   \n",
       "           rfecv_linsvc      regular         0.460936               0.527798   \n",
       "                             svm             0.462740               0.526951   \n",
       "RFcls      None              regular         0.468483               0.530588   \n",
       "                             svm             0.496011               0.515806   \n",
       "           mrmr              regular         0.485038               0.523707   \n",
       "                             svm             0.498734               0.541703   \n",
       "           rfecv_linsvc      regular         0.470551               0.528422   \n",
       "                             svm             0.481918               0.533841   \n",
       "SVM        None              regular         0.442940               0.505888   \n",
       "                             svm             0.445191               0.516485   \n",
       "           mrmr              regular         0.446433               0.513720   \n",
       "                             svm             0.444734               0.526295   \n",
       "           rfecv_linsvc      regular         0.423016               0.471798   \n",
       "                             svm             0.429072               0.489023   \n",
       "\n",
       "                                         RoadNet+Segment type  \n",
       "model_name feature_selection smote_kind                        \n",
       "GDBcls     None              regular                 0.528099  \n",
       "                             svm                     0.544495  \n",
       "           mrmr              regular                 0.525914  \n",
       "                             svm                     0.541541  \n",
       "           rfecv_linsvc      regular                 0.524843  \n",
       "                             svm                     0.515844  \n",
       "RFcls      None              regular                 0.533790  \n",
       "                             svm                     0.545825  \n",
       "           mrmr              regular                 0.534823  \n",
       "                             svm                     0.513732  \n",
       "           rfecv_linsvc      regular                 0.518717  \n",
       "                             svm                     0.510699  \n",
       "SVM        None              regular                 0.533113  \n",
       "                             svm                     0.506727  \n",
       "           mrmr              regular                 0.533319  \n",
       "                             svm                     0.515979  \n",
       "           rfecv_linsvc      regular                 0.520610  \n",
       "                             svm                     0.495072  "
      ]
     },
     "execution_count": 36,
     "metadata": {},
     "output_type": "execute_result"
    }
   ],
   "source": [
    "f1_type = f1_choices[0]\n",
    "print('f1_type =', f1_type)\n",
    "\n",
    "key_cols = ['model_name', 'feature_selection', 'smote_kind']\n",
    "table = get_paper_table(up_means, f1_type, key_cols)\n",
    "table.to_csv('deliverables/EXP3 upsampling table %s.csv' % f1_type, encoding='utf8')\n",
    "table"
   ]
  },
  {
   "cell_type": "code",
   "execution_count": null,
   "metadata": {
    "collapsed": true
   },
   "outputs": [],
   "source": [
    "on_train_grid_res = get_up_result('upsample_smote', 'grid')"
   ]
  },
  {
   "cell_type": "code",
   "execution_count": null,
   "metadata": {
    "collapsed": true,
    "scrolled": true
   },
   "outputs": [],
   "source": [
    "on_train_grid_res[on_train_grid_res['kind']=='cls'].groupby(keys).mean()[['mean_test']]"
   ]
  },
  {
   "cell_type": "markdown",
   "metadata": {},
   "source": [
    "# downsample result"
   ]
  },
  {
   "cell_type": "code",
   "execution_count": 24,
   "metadata": {},
   "outputs": [],
   "source": [
    "DOWN_SEEDS = [1749556, 775107, 9410117, 7254933, 9096779, 266976, 3095841,\n",
    "              4282790, 7964599, 6116962, 2807671, 3038865, 5435116, 7262334,\n",
    "              3302627, 8296745, 1549265, 3226101, 5886901, 1986252]"
   ]
  },
  {
   "cell_type": "code",
   "execution_count": 25,
   "metadata": {
    "collapsed": true
   },
   "outputs": [],
   "source": [
    "def get_down_result(eval_or_grid):\n",
    "    res = []\n",
    "\n",
    "    for seed in SEEDS:\n",
    "        exp_path = 'exp3/seed_%d' % seed\n",
    "        smote_path = '%s/downsample' % (exp_path)\n",
    "\n",
    "        try:\n",
    "            df = pd.read_csv('%s/%s_res.csv' % (smote_path, eval_or_grid), index_col=0)\n",
    "            df['seed'] = seed\n",
    "            res.append(df)\n",
    "        except FileNotFoundError:\n",
    "            print('no %s_res in' % eval_or_grid, smote_path)\n",
    "\n",
    "    res = pd.concat(res, ignore_index=True)\n",
    "    return res"
   ]
  },
  {
   "cell_type": "code",
   "execution_count": 26,
   "metadata": {
    "collapsed": true
   },
   "outputs": [],
   "source": [
    "down_res = get_down_result('eval')"
   ]
  },
  {
   "cell_type": "code",
   "execution_count": 27,
   "metadata": {
    "collapsed": true
   },
   "outputs": [],
   "source": [
    "down_keys = ['model_name', 'feature_selection', 'ftr_combo_name']"
   ]
  },
  {
   "cell_type": "code",
   "execution_count": 28,
   "metadata": {
    "collapsed": true
   },
   "outputs": [],
   "source": [
    "down_means = down_res.groupby(down_keys).mean()[f1_choices]\n",
    "down_stds = down_res.groupby(down_keys).std()[f1_choices]"
   ]
  },
  {
   "cell_type": "code",
   "execution_count": 29,
   "metadata": {
    "collapsed": true,
    "scrolled": true
   },
   "outputs": [],
   "source": [
    "# down_res.groupby(down_keys).count()[f1_choices]"
   ]
  },
  {
   "cell_type": "code",
   "execution_count": 31,
   "metadata": {
    "collapsed": true
   },
   "outputs": [
    {
     "name": "stdout",
     "output_type": "stream",
     "text": [
      "f1_type = test_f1_weighted\n"
     ]
    },
    {
     "data": {
      "text/html": [
       "<div>\n",
       "<style>\n",
       "    .dataframe thead tr:only-child th {\n",
       "        text-align: right;\n",
       "    }\n",
       "\n",
       "    .dataframe thead th {\n",
       "        text-align: left;\n",
       "    }\n",
       "\n",
       "    .dataframe tbody tr th {\n",
       "        vertical-align: top;\n",
       "    }\n",
       "</style>\n",
       "<table border=\"1\" class=\"dataframe\">\n",
       "  <thead>\n",
       "    <tr style=\"text-align: right;\">\n",
       "      <th></th>\n",
       "      <th></th>\n",
       "      <th></th>\n",
       "      <th>test_f1_weighted</th>\n",
       "    </tr>\n",
       "    <tr>\n",
       "      <th>model_name</th>\n",
       "      <th>feature_selection</th>\n",
       "      <th>ftr_combo_name</th>\n",
       "      <th></th>\n",
       "    </tr>\n",
       "  </thead>\n",
       "  <tbody>\n",
       "    <tr>\n",
       "      <th rowspan=\"2\" valign=\"top\">GDBcls</th>\n",
       "      <th>None</th>\n",
       "      <th>RoadNet+Segment_TOTAL_~2014</th>\n",
       "      <td>0.356016</td>\n",
       "    </tr>\n",
       "    <tr>\n",
       "      <th>mrmr</th>\n",
       "      <th>RoadNet+Segment_TOTAL_~2014</th>\n",
       "      <td>0.356016</td>\n",
       "    </tr>\n",
       "  </tbody>\n",
       "</table>\n",
       "</div>"
      ],
      "text/plain": [
       "                                                          test_f1_weighted\n",
       "model_name feature_selection ftr_combo_name                               \n",
       "GDBcls     None              RoadNet+Segment_TOTAL_~2014          0.356016\n",
       "           mrmr              RoadNet+Segment_TOTAL_~2014          0.356016"
      ]
     },
     "execution_count": 31,
     "metadata": {},
     "output_type": "execute_result"
    },
    {
     "data": {
      "image/png": "[encoded data removed]",
      "text/plain": [
       "<matplotlib.figure.Figure at 0x7f4587f5f278>"
      ]
     },
     "metadata": {},
     "output_type": "display_data"
    }
   ],
   "source": [
    "f1_type = f1_choices[0]\n",
    "print('f1_type =', f1_type)\n",
    "\n",
    "down_means_to_plot = down_means[[f1_type]].sort_values(f1_type, ascending=True)\n",
    "down_stds_to_plot = down_stds[[f1_type]]\n",
    "\n",
    "down_means_to_plot.iloc[-5:].plot(kind='barh', figsize=(10,7), xerr=down_means_to_plot)\n",
    "down_means_to_plot.iloc[:-3:-1,:]"
   ]
  },
  {
   "cell_type": "code",
   "execution_count": 34,
   "metadata": {
    "scrolled": true
   },
   "outputs": [
    {
     "name": "stdout",
     "output_type": "stream",
     "text": [
      "f1_type = test_f1_macro\n"
     ]
    }
   ],
   "source": [
    "f1_type = f1_choices[1]\n",
    "print('f1_type =', f1_type)\n",
    "key_cols = ['model_name', 'feature_selection']\n",
    "table = get_paper_table(down_means, f1_type, key_cols)\n",
    "table.to_csv('deliverables/EXP3 downsampling table %s.csv' % f1_type, encoding='utf8')"
   ]
  },
  {
   "cell_type": "code",
   "execution_count": null,
   "metadata": {
    "collapsed": true
   },
   "outputs": [],
   "source": []
  }
 ],
 "metadata": {
  "kernelspec": {
   "display_name": "Python [default]",
   "language": "python",
   "name": "python3"
  }
 },
 "nbformat": 4,
 "nbformat_minor": 2
}
