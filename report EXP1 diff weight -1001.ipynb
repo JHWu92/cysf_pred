{
 "cells": [
  {
   "cell_type": "code",
   "execution_count": 1,
   "metadata": {
    "collapsed": true
   },
   "outputs": [],
   "source": [
    "import glob\n",
    "import pandas as pd\n",
    "import os\n",
    "\n",
    "%matplotlib inline"
   ]
  },
  {
   "cell_type": "code",
   "execution_count": 2,
   "metadata": {
    "collapsed": true
   },
   "outputs": [],
   "source": [
    "def feature_counts(directory):\n",
    "    fn = directory+ '/feature_names.txt'\n",
    "    with open(fn) as f:\n",
    "        lines = f.readlines()\n",
    "        keep = int(lines[1].split('\\t')[1])\n",
    "        remove = int(lines[2].split('\\t')[1])\n",
    "    return keep, remove"
   ]
  },
  {
   "cell_type": "code",
   "execution_count": 3,
   "metadata": {
    "collapsed": true
   },
   "outputs": [],
   "source": [
    "def load_majority_vote(exp_path):\n",
    "    fn = exp_path+'/majority_vote.csv'\n",
    "    res = pd.read_csv(fn)\n",
    "    return res\n",
    "\n",
    "def load_roadnet(exp_path):\n",
    "    fselects = ['None']\n",
    "    res = []\n",
    "    for selection_type in fselects:\n",
    "        exp_param_path = '%s/%s#%s' %(exp_path, 'RoadNet', selection_type)\n",
    "        fn = '%s/cv_5_best_models_evaluation.csv' %(exp_param_path)\n",
    "        cv_res = pd.read_csv(fn)\n",
    "        cv_res.columns = ['kind', 'model'] + cv_res.columns[2:].tolist()\n",
    "        cv_res['feature_select'] = selection_type\n",
    "        cv_res['scale'] = 'min-max'\n",
    "        cv_res['feature'] = 'RoadNet'\n",
    "        keep, remove = feature_counts(exp_param_path)\n",
    "        cv_res['# ftr keep'] = keep\n",
    "        cv_res['# ftr remove'] = remove\n",
    "        res.append(cv_res)\n",
    "    res = pd.concat(res)\n",
    "    return res \n",
    "\n",
    "def load_else(exp_path):\n",
    "    \n",
    "    totals = ['NO_TOTAL', 'TOTAL']\n",
    "    years_choices = ['~2014']\n",
    "    feature_types = ['Segment', 'RoadNet+Segment']\n",
    "    res = []\n",
    "    for total_or_not in totals:\n",
    "        for year in years_choices:\n",
    "            for ftr_type in feature_types:\n",
    "                for max_cut in ( False,):\n",
    "                    for selection_type in ['None']:\n",
    "                        scale_type = 'max-cutoff' if max_cut else 'min-max'\n",
    "                        exp_param = '#'.join([ftr_type, total_or_not, year, scale_type, selection_type])\n",
    "                        fn = '%s/%s/cv_5_best_models_evaluation.csv' % (exp_path, exp_param)\n",
    "                        cv_res = pd.read_csv(fn)\n",
    "                        cv_res.columns = ['kind', 'model'] + cv_res.columns[2:].tolist()\n",
    "                        cv_res['feature_select'] = selection_type\n",
    "                        cv_res['scale'] = scale_type\n",
    "                        cv_res['feature'] = ftr_type\n",
    "                        cv_res['time period'] = year\n",
    "                        cv_res['total or by type'] = total_or_not\n",
    "                        keep, remove = feature_counts('%s/%s' % (exp_path, exp_param))\n",
    "                        cv_res['# ftr keep'] = keep\n",
    "                        cv_res['# ftr remove'] = remove\n",
    "                        res.append(cv_res)\n",
    "    res = pd.concat(res)\n",
    "\n",
    "    return res \n",
    "\n",
    "def load_one_run(seed,weight_name):\n",
    "    if weight_name=='default_weight':\n",
    "        exp_path = 'experiment_1001/exp1/seed_%d' % (seed)\n",
    "    else:\n",
    "        exp_path = 'experiment_1001/exp1_diff_weight/%s/seed_%d' % (weight_name, seed)\n",
    "    major = load_majority_vote(exp_path)\n",
    "    roadnet = load_roadnet(exp_path)\n",
    "    res_else = load_else(exp_path)\n",
    "    res = pd.concat([major, roadnet, res_else], ignore_index=True)\n",
    "    res['seed'] = seed\n",
    "    res['weight_name'] = weight_name\n",
    "    return res\n",
    "\n",
    "def load_all_run(weight_name):\n",
    "    all_run = []\n",
    "    for seed in [0, 100, 972, 5258, 7821, 40918, 57852, 168352, 291592, 789729423]:\n",
    "        one_run_res = load_one_run(seed, weight_name)\n",
    "        all_run.append(one_run_res)\n",
    "    all_run_res = pd.concat(all_run, ignore_index=True)\n",
    "    all_run_res.fillna('', inplace=True)\n",
    "    all_run_res['key'] = all_run_res.apply(lambda x: '%s %s %s %s %s %s'.strip() % (x['feature'], x['total or by type'], x['time period'], x['model'], x['scale'], x['feature_select']), axis=1)        \n",
    "#     all_run_res['key'] = all_run_res.apply(lambda x: '%s %s %s %s'.strip() % (x['feature'], x['total or by type'], x['model'], x['scale']), axis=1)        \n",
    "    return all_run_res"
   ]
  },
  {
   "cell_type": "code",
   "execution_count": 4,
   "metadata": {
    "collapsed": true
   },
   "outputs": [],
   "source": [
    "WEIGHT_NAMES = [\n",
    "    'default_weight',\n",
    "    'lvl_fearless_1st', 'lvl_reluctant_1st', 'fam_include_noinfo', 'fam_exclude_noinfo',\n",
    "    'ext_lvl_fearless_1st', 'ext_lvl_reluctant_1st',\n",
    "    'ext_fam_include_noinfo', 'ext_fam_exclude_noinfo',\n",
    "    'lvl_fearless_1st_fam_include_noinfo', 'lvl_reluctant_1st_fam_include_noinfo',\n",
    "#     'f10_c1_i1_r10', 'nf30_f1_unk1',\n",
    "#     'gp_fam', 'gp_fam_f3-uk2-uf1', 'gp_fam_f100-uk50-uf1',\n",
    "    'gp_lvl', \n",
    "    'gp_lvl_f4-c3-i2-r1', \n",
    "    'gp_lvl_f100-c66-i33-r1',\n",
    "]"
   ]
  },
  {
   "cell_type": "code",
   "execution_count": 5,
   "metadata": {
    "collapsed": true
   },
   "outputs": [],
   "source": [
    "def get_all_res():\n",
    "    all_res = {}\n",
    "    for weight_name in WEIGHT_NAMES:\n",
    "        res = load_all_run(weight_name)\n",
    "        res['col_name'] = res.apply(lambda x: x['feature']+' '+x['total or by type'],axis=1)\n",
    "        all_res[weight_name] = res\n",
    "    return all_res"
   ]
  },
  {
   "cell_type": "code",
   "execution_count": 6,
   "metadata": {
    "collapsed": true
   },
   "outputs": [],
   "source": [
    "all_res = get_all_res()"
   ]
  },
  {
   "cell_type": "markdown",
   "metadata": {},
   "source": [
    "Drop useless columns"
   ]
  },
  {
   "cell_type": "code",
   "execution_count": 7,
   "metadata": {
    "collapsed": true
   },
   "outputs": [],
   "source": [
    "def clean_res(res):\n",
    "    col_mapping = {' ': ' ',\n",
    "     'RoadNet ': 'RoadNet',\n",
    "     'Segment NO_TOTAL': 'Social type', \n",
    "     'RoadNet+Segment NO_TOTAL': 'RoadNet+Social type',\n",
    "     'Segment TOTAL': 'Social total', \n",
    "     'RoadNet+Segment TOTAL': 'RoadNet+Social total'}\n",
    "    clean_res = res.drop(['feature', 'total or by type', 'time period', 'scale', 'feature_select',\n",
    "                      'kind', '# ftr remove', '# ftr keep', \n",
    "                      'train_acc', 'train_f1_macro', 'train_f1_micro', 'train_f1_weighted', 'train_mse',\n",
    "                      'test_acc', 'test_mse',\n",
    "                      'seed',\n",
    "                      'key',\n",
    "                     ], axis=1)\n",
    "    clean_res.col_name = clean_res.col_name.apply(lambda x: col_mapping[x])\n",
    "    return clean_res\n",
    "\n",
    "def get_clean_mean_std(all_res):\n",
    "    all_clean_res = {}\n",
    "    all_means = {}\n",
    "    all_stds = {}\n",
    "    for weight_name, res in all_res.items():\n",
    "        c_res = clean_res(res)\n",
    "        all_clean_res[weight_name] = c_res\n",
    "        means = c_res.groupby(['col_name', 'model']).mean()\n",
    "        all_means[weight_name] = means\n",
    "        stds = c_res.groupby(['col_name', 'model']).std()\n",
    "        all_stds[weight_name] = stds\n",
    "    return all_clean_res, all_means, all_stds\n"
   ]
  },
  {
   "cell_type": "code",
   "execution_count": 8,
   "metadata": {
    "collapsed": true
   },
   "outputs": [],
   "source": [
    "\n",
    "\n",
    "all_clean_res, all_means, all_stds = get_clean_mean_std(all_res)"
   ]
  },
  {
   "cell_type": "markdown",
   "metadata": {},
   "source": [
    "## produce dtb(deliverable table) for paper"
   ]
  },
  {
   "cell_type": "code",
   "execution_count": 9,
   "metadata": {
    "collapsed": true
   },
   "outputs": [],
   "source": [
    "def deliverable_table(table):\n",
    "    table.loc['majority_vote'] = table.loc['majority_vote', ' ']\n",
    "    table.drop(' ', axis=1, inplace=True)\n",
    "#     table.columns = ['RoadNet', 'RoadNet+Social type', 'RoadNet+Social total', 'Social type', 'Social total']\n",
    "    table = table[['RoadNet', 'Social total', 'Social type', 'RoadNet+Social total', 'RoadNet+Social type']]\n",
    "    table = table.loc[['majority_vote', 'ols', 'lasso', 'ridge', 'logistics', 'linearSVM', 'linearSVR',\n",
    "               'SVM', 'SVR', 'MLPcls', 'MLPreg', 'DTcls', 'DTreg', 'RFcls', 'RFreg',\n",
    "               'ADAcls', 'ADAreg', 'BAGcls', 'BAGreg', 'GDBcls', 'GDBreg', 'XGBcls', 'XGBreg',\n",
    "          ]]\n",
    "    return table"
   ]
  },
  {
   "cell_type": "code",
   "execution_count": 10,
   "metadata": {
    "collapsed": true,
    "scrolled": true
   },
   "outputs": [],
   "source": [
    "f1_choices = [ 'test_f1_micro', 'test_f1_macro',]\n",
    "for weight_name, means in all_means.items():\n",
    "    for f1_type in f1_choices:    \n",
    "        table = means.reset_index().pivot(index='model', columns='col_name', values=f1_type)\n",
    "        dtb = deliverable_table(table)\n",
    "#         dtb.to_csv('deliverables/experiment_1001/EXP1 %s %s.csv' % (weight_name, f1_type))\n"
   ]
  },
  {
   "cell_type": "markdown",
   "metadata": {},
   "source": [
    "## error bar of top N solution"
   ]
  },
  {
   "cell_type": "code",
   "execution_count": 11,
   "metadata": {
    "collapsed": true
   },
   "outputs": [],
   "source": [
    "from IPython.display import display"
   ]
  },
  {
   "cell_type": "code",
   "execution_count": 12,
   "metadata": {
    "collapsed": true
   },
   "outputs": [],
   "source": [
    "weight_names = ['3level', 'lvl_fearless_1st', 'lvl_reluctant_1st', 'fam_include_noinfo', 'fam_exclude_noinfo',\n",
    "                        'ext_lvl_fearless_1st', 'ext_lvl_reluctant_1st',\n",
    "                        'ext_fam_include_noinfo', 'ext_fam_exclude_noinfo', 'f10_c1_i1_r10']"
   ]
  },
  {
   "cell_type": "code",
   "execution_count": 13,
   "metadata": {
    "collapsed": true
   },
   "outputs": [],
   "source": [
    "mapping = {  \n",
    "    'default_weight': 'default_weight',\n",
    "    '3level': '3level',\n",
    "    'lvl_fearless_1st': 'fearless=4', 'lvl_reluctant_1st': 'reluctant=4', 'fam_include_noinfo': 'familarity=3',\n",
    "             'fam_exclude_noinfo': 'familarity=2',\n",
    "             'ext_lvl_fearless_1st': 'fearless=100',\n",
    "             'ext_lvl_reluctant_1st': 'reluctant=100',\n",
    "             'ext_fam_include_noinfo': 'familarity=100,unknown=50',\n",
    "             'ext_fam_exclude_noinfo': 'familarity=100,unknown=0',\n",
    "             'lvl_fearless_reluctant4': 'f=r=4,c=i=1',\n",
    "             'lvl_fearless_reluctant10': 'f=r=10,c=i=1',\n",
    "             'not_familiar_include_no_info': 'nf=30,f=unk=1',\n",
    "             'nf30_f10_unk1': 'nf30_f10_unk1',\n",
    "    'f10_c1_i1_r10': 'f10_c1_i1_r10',\n",
    "    'nf30_f1_unk1':'nf30_f1_unk1'\n",
    "\n",
    "}\n"
   ]
  },
  {
   "cell_type": "code",
   "execution_count": 14,
   "metadata": {
    "collapsed": true
   },
   "outputs": [],
   "source": [
    "max_res = []\n",
    "\n",
    "for weight_name in WEIGHT_NAMES:\n",
    "#     print(mapping[weight_name])\n",
    "    for f1_type in f1_choices:\n",
    "        means_to_plot = all_means[weight_name].sort_values(f1_type, ascending=False).head(3)\n",
    "        index_to_plot = means_to_plot.index\n",
    "        str_to_print = '; '.join(['%s %s %.3f' % (f, m, f1) for (f, m), f1 in means_to_plot[f1_type].iteritems()])\n",
    "#         print(f1_type+': ', str_to_print)\n",
    "\n",
    "        max_ = means_to_plot[f1_type].values[0]    \n",
    "        max_res.append({'f1_type': f1_type, 'name': mapping.get(weight_name, weight_name), 'max_':max_, 'str': str_to_print})"
   ]
  },
  {
   "cell_type": "code",
   "execution_count": 15,
   "metadata": {
    "collapsed": true
   },
   "outputs": [],
   "source": [
    "df = pd.DataFrame(max_res)\n",
    "df_micro = df[df.f1_type=='test_f1_micro']\n",
    "df_macro = df[df.f1_type=='test_f1_macro']"
   ]
  },
  {
   "cell_type": "code",
   "execution_count": 16,
   "metadata": {
    "collapsed": true
   },
   "outputs": [],
   "source": [
    "def formating(x):\n",
    "    return ','.join(['\"'+x['name']+'\"'] + x['str'].split(';')[0].rsplit(' ', 2))"
   ]
  },
  {
   "cell_type": "code",
   "execution_count": 17,
   "metadata": {
    "scrolled": true
   },
   "outputs": [
    {
     "name": "stdout",
     "output_type": "stream",
     "text": [
      "\"default_weight\",RoadNet+Social type,XGBcls,0.656\n",
      "\"fearless=4\",RoadNet+Social total,RFreg,0.646\n",
      "\"familarity=2\",RoadNet+Social total,RFreg,0.641\n",
      "\"fearless=100\",RoadNet+Social total,RFreg,0.637\n",
      "\"familarity=3\",RoadNet+Social total,GDBreg,0.636\n",
      "\"lvl_reluctant_1st_fam_include_noinfo\",RoadNet+Social type,XGBreg,0.636\n",
      "\"gp_lvl_f100-c66-i33-r1\",RoadNet+Social total,BAGreg,0.635\n",
      "\"gp_lvl_f4-c3-i2-r1\",RoadNet+Social total,ols,0.633\n",
      "\"reluctant=4\",RoadNet+Social type,GDBcls,0.628\n",
      "\"lvl_fearless_1st_fam_include_noinfo\",RoadNet,BAGreg,0.625\n",
      "\"gp_lvl\",RoadNet+Social type,GDBcls,0.621\n",
      "\"familarity=100,unknown=0\",RoadNet,RFreg,0.600\n",
      "\"familarity=100,unknown=50\",RoadNet+Social total,RFcls,0.594\n",
      "\"reluctant=100\",RoadNet,RFcls,0.590\n"
     ]
    }
   ],
   "source": [
    "df_micro.sort_values('max_', ascending=False)\n",
    "print('\\n'.join(df_micro.sort_values('max_', ascending=False).apply(formating, axis=1)))"
   ]
  },
  {
   "cell_type": "code",
   "execution_count": 18,
   "metadata": {},
   "outputs": [
    {
     "name": "stdout",
     "output_type": "stream",
     "text": [
      "\"lvl_fearless_1st_fam_include_noinfo\",RoadNet+Social type,SVM,0.485\n",
      "\"fearless=4\",RoadNet,RFcls,0.468\n",
      "\"gp_lvl_f4-c3-i2-r1\",RoadNet,BAGcls,0.467\n",
      "\"familarity=3\",RoadNet+Social type,SVM,0.461\n",
      "\"reluctant=4\",RoadNet,BAGcls,0.460\n",
      "\"default_weight\",RoadNet,RFcls,0.457\n",
      "\"gp_lvl\",RoadNet+Social type,GDBcls,0.448\n",
      "\"fearless=100\",RoadNet,RFcls,0.444\n",
      "\"lvl_reluctant_1st_fam_include_noinfo\",RoadNet,SVM,0.439\n",
      "\"familarity=100,unknown=0\",RoadNet+Social type,SVM,0.439\n",
      "\"familarity=100,unknown=50\",RoadNet+Social type,SVM,0.437\n",
      "\"gp_lvl_f100-c66-i33-r1\",RoadNet,GDBcls,0.426\n",
      "\"reluctant=100\",RoadNet,RFcls,0.425\n",
      "\"familarity=2\",RoadNet+Social type,RFcls,0.410\n"
     ]
    }
   ],
   "source": [
    "df_macro.sort_values('max_', ascending=False)\n",
    "print('\\n'.join(df_macro.sort_values('max_', ascending=False).apply(formating, axis=1)))"
   ]
  },
  {
   "cell_type": "code",
   "execution_count": 134,
   "metadata": {},
   "outputs": [
    {
     "name": "stdout",
     "output_type": "stream",
     "text": [
      "ext_lvl_fearless_1st test_f1_micro:  RoadNet+Social total RFreg 0.637; RoadNet+Social total BAGreg 0.631; RoadNet+Social type GDBcls 0.630\n"
     ]
    },
    {
     "data": {
      "text/html": [
       "<div>\n",
       "<style>\n",
       "    .dataframe thead tr:only-child th {\n",
       "        text-align: right;\n",
       "    }\n",
       "\n",
       "    .dataframe thead th {\n",
       "        text-align: left;\n",
       "    }\n",
       "\n",
       "    .dataframe tbody tr th {\n",
       "        vertical-align: top;\n",
       "    }\n",
       "</style>\n",
       "<table border=\"1\" class=\"dataframe\">\n",
       "  <thead>\n",
       "    <tr style=\"text-align: right;\">\n",
       "      <th></th>\n",
       "      <th></th>\n",
       "      <th>test_f1_macro</th>\n",
       "      <th>test_f1_micro</th>\n",
       "      <th>test_f1_weighted</th>\n",
       "    </tr>\n",
       "    <tr>\n",
       "      <th>col_name</th>\n",
       "      <th>model</th>\n",
       "      <th></th>\n",
       "      <th></th>\n",
       "      <th></th>\n",
       "    </tr>\n",
       "  </thead>\n",
       "  <tbody>\n",
       "    <tr>\n",
       "      <th rowspan=\"2\" valign=\"top\">RoadNet+Social total</th>\n",
       "      <th>RFreg</th>\n",
       "      <td>0.345680</td>\n",
       "      <td>0.637079</td>\n",
       "      <td>0.602066</td>\n",
       "    </tr>\n",
       "    <tr>\n",
       "      <th>BAGreg</th>\n",
       "      <td>0.354113</td>\n",
       "      <td>0.631461</td>\n",
       "      <td>0.602079</td>\n",
       "    </tr>\n",
       "    <tr>\n",
       "      <th>RoadNet+Social type</th>\n",
       "      <th>GDBcls</th>\n",
       "      <td>0.422776</td>\n",
       "      <td>0.630337</td>\n",
       "      <td>0.603720</td>\n",
       "    </tr>\n",
       "  </tbody>\n",
       "</table>\n",
       "</div>"
      ],
      "text/plain": [
       "                             test_f1_macro  test_f1_micro  test_f1_weighted\n",
       "col_name             model                                                 \n",
       "RoadNet+Social total RFreg        0.345680       0.637079          0.602066\n",
       "                     BAGreg       0.354113       0.631461          0.602079\n",
       "RoadNet+Social type  GDBcls       0.422776       0.630337          0.603720"
      ]
     },
     "metadata": {},
     "output_type": "display_data"
    },
    {
     "data": {
      "text/plain": [
       "<matplotlib.axes._subplots.AxesSubplot at 0x7fe72b482e10>"
      ]
     },
     "execution_count": 134,
     "metadata": {},
     "output_type": "execute_result"
    },
    {
     "data": {
      "image/png": "[encoded data removed]",
      "text/plain": [
       "<matplotlib.figure.Figure at 0x7fe727ab2ac8>"
      ]
     },
     "metadata": {},
     "output_type": "display_data"
    }
   ],
   "source": [
    "f1_type=f1_choices[0]\n",
    "weight_name = weight_names[5]\n",
    "means_to_plot = all_means[weight_name].sort_values(f1_type, ascending=False).head(3)\n",
    "index_to_plot = means_to_plot.index\n",
    "stds_to_plot = all_stds[weight_name].loc[index_to_plot]\n",
    "\n",
    "print(weight_name, f1_type+': ', '; '.join(['%s %s %.3f' % (f, m, f1) for (f, m), f1 in means_to_plot[f1_type].iteritems()]))\n",
    "\n",
    "display(means_to_plot)\n",
    "means_to_plot.sort_values(f1_type).plot(kind='barh', xerr=stds_to_plot, figsize=(10,7))"
   ]
  },
  {
   "cell_type": "code",
   "execution_count": null,
   "metadata": {
    "collapsed": true
   },
   "outputs": [],
   "source": []
  }
 ],
 "metadata": {
  "kernelspec": {
   "display_name": "Python [default]",
   "language": "python",
   "name": "python3"
  },
  "language_info": {
   "codemirror_mode": {
    "name": "ipython",
    "version": 3
   },
   "file_extension": ".py",
   "mimetype": "text/x-python",
   "name": "python",
   "nbconvert_exporter": "python",
   "pygments_lexer": "ipython3",
   "version": "3.6.2"
  }
 },
 "nbformat": 4,
 "nbformat_minor": 2
}
