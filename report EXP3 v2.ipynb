{
 "cells": [
  {
   "cell_type": "code",
   "execution_count": 1,
   "metadata": {
    "collapsed": true
   },
   "outputs": [],
   "source": [
    "# best 3 solutions based on EXP1 in turns of f1 weighted is:\n",
    "# XGBcls, RoadNet+Segment TOTAL, 0.5284741533025521\n",
    "# XGBreg, RoadNet+Segment NO_TOTAL, 0.541270\n",
    "# GDBcls, RoadNet+Segment TOTAL, 0.5107103184755486\n",
    "# with ~2014, min-max, no feature selection"
   ]
  },
  {
   "cell_type": "code",
   "execution_count": 2,
   "metadata": {
    "collapsed": true
   },
   "outputs": [],
   "source": [
    "import pandas as pd\n",
    "%matplotlib inline"
   ]
  },
  {
   "cell_type": "code",
   "execution_count": 3,
   "metadata": {
    "collapsed": true
   },
   "outputs": [],
   "source": [
    "from src.experiment_based_function import SEEDS"
   ]
  },
  {
   "cell_type": "code",
   "execution_count": 4,
   "metadata": {
    "collapsed": true
   },
   "outputs": [],
   "source": [
    "f1_choices = ['test_f1_weighted', 'test_f1_macro', 'test_f1_micro']"
   ]
  },
  {
   "cell_type": "code",
   "execution_count": 5,
   "metadata": {
    "collapsed": true
   },
   "outputs": [],
   "source": [
    "def get_paper_table(means, f1_type, key_cols):\n",
    "    cols_name_convert = {'RoadNet': 'RoadNet', 'RoadNet+Segment_NO_TOTAL_~2014': 'RoadNet+Segment type',\n",
    "     'RoadNet+Segment_TOTAL_~2014': 'RoadNet+Segment total', 'Segment_NO_TOTAL_~2014': 'Segment type',\n",
    "     'Segment_TOTAL_~2014': 'Segment total'}\n",
    "    means_for_pivot = means.reset_index()\n",
    "    means_for_pivot['key'] = means_for_pivot.apply(lambda x: tuple([x[col] for col in key_cols]), axis=1)\n",
    "    table = means_for_pivot.reset_index().pivot(index='key', columns='ftr_combo_name', values=f1_type)\n",
    "    table.index = pd.MultiIndex.from_tuples(table.index, names=key_cols)    \n",
    "    table.columns.name = f1_type\n",
    "    table.columns = [cols_name_convert[col] for col in table.columns]\n",
    "    return table[['RoadNet', 'Segment total', 'Segment type', 'RoadNet+Segment total', 'RoadNet+Segment type']]"
   ]
  },
  {
   "cell_type": "markdown",
   "metadata": {},
   "source": [
    "# Upsample result"
   ]
  },
  {
   "cell_type": "code",
   "execution_count": 6,
   "metadata": {
    "collapsed": true
   },
   "outputs": [],
   "source": [
    "def get_up_result(upsample_type, eval_or_grid):\n",
    "    res = []\n",
    "\n",
    "    for smote_kind in ['regular', 'svm']:\n",
    "        for seed in SEEDS:\n",
    "            exp_path = 'data/up_down_experiment_v2/seed_%d' % seed\n",
    "            smote_path = '%s/%s_%s' % (exp_path, upsample_type, smote_kind)\n",
    "            try:\n",
    "                df = pd.read_csv('%s/%s_res.csv' % (smote_path, eval_or_grid), index_col=0)\n",
    "                df['seed'] = seed\n",
    "                df['smote_kind'] = smote_kind\n",
    "                res.append(df)\n",
    "            except FileNotFoundError:\n",
    "                print('no %s_res in' % eval_or_grid, smote_path)\n",
    "\n",
    "    res = pd.concat(res, ignore_index=True)\n",
    "    return res"
   ]
  },
  {
   "cell_type": "code",
   "execution_count": 7,
   "metadata": {
    "collapsed": true
   },
   "outputs": [],
   "source": [
    "keys = ['smote_kind', 'model_name', 'feature_selection', 'ftr_combo_name']"
   ]
  },
  {
   "cell_type": "code",
   "execution_count": 8,
   "metadata": {},
   "outputs": [
    {
     "name": "stdout",
     "output_type": "stream",
     "text": [
      "no eval_res in data/up_down_experiment_v2/seed_789729423/upsample_smote_regular\n",
      "no eval_res in data/up_down_experiment_v2/seed_789729423/upsample_smote_svm\n"
     ]
    }
   ],
   "source": [
    "up_eval_res = get_up_result('upsample_smote', 'eval')"
   ]
  },
  {
   "cell_type": "code",
   "execution_count": 10,
   "metadata": {
    "scrolled": true
   },
   "outputs": [],
   "source": [
    "# up_eval_res[['up_y_dist', 'y_dist']].iloc[::-1]"
   ]
  },
  {
   "cell_type": "code",
   "execution_count": 11,
   "metadata": {
    "collapsed": true
   },
   "outputs": [],
   "source": [
    "up_means = up_eval_res.groupby(keys).mean()[f1_choices]\n",
    "up_stds = up_eval_res.groupby(keys).std()[f1_choices]"
   ]
  },
  {
   "cell_type": "code",
   "execution_count": 15,
   "metadata": {
    "scrolled": true
   },
   "outputs": [
    {
     "name": "stdout",
     "output_type": "stream",
     "text": [
      "f1_type = test_f1_weighted\n"
     ]
    },
    {
     "data": {
      "text/html": [
       "<div>\n",
       "<style>\n",
       "    .dataframe thead tr:only-child th {\n",
       "        text-align: right;\n",
       "    }\n",
       "\n",
       "    .dataframe thead th {\n",
       "        text-align: left;\n",
       "    }\n",
       "\n",
       "    .dataframe tbody tr th {\n",
       "        vertical-align: top;\n",
       "    }\n",
       "</style>\n",
       "<table border=\"1\" class=\"dataframe\">\n",
       "  <thead>\n",
       "    <tr style=\"text-align: right;\">\n",
       "      <th></th>\n",
       "      <th></th>\n",
       "      <th></th>\n",
       "      <th></th>\n",
       "      <th>test_f1_weighted</th>\n",
       "    </tr>\n",
       "    <tr>\n",
       "      <th>smote_kind</th>\n",
       "      <th>model_name</th>\n",
       "      <th>feature_selection</th>\n",
       "      <th>ftr_combo_name</th>\n",
       "      <th></th>\n",
       "    </tr>\n",
       "  </thead>\n",
       "  <tbody>\n",
       "    <tr>\n",
       "      <th rowspan=\"2\" valign=\"top\">svm</th>\n",
       "      <th>XGBcls</th>\n",
       "      <th>None</th>\n",
       "      <th>RoadNet+Segment_TOTAL_~2014</th>\n",
       "      <td>0.539658</td>\n",
       "    </tr>\n",
       "    <tr>\n",
       "      <th>GDBcls</th>\n",
       "      <th>None</th>\n",
       "      <th>RoadNet+Segment_NO_TOTAL_~2014</th>\n",
       "      <td>0.533829</td>\n",
       "    </tr>\n",
       "  </tbody>\n",
       "</table>\n",
       "</div>"
      ],
      "text/plain": [
       "                                                                        test_f1_weighted\n",
       "smote_kind model_name feature_selection ftr_combo_name                                  \n",
       "svm        XGBcls     None              RoadNet+Segment_TOTAL_~2014             0.539658\n",
       "           GDBcls     None              RoadNet+Segment_NO_TOTAL_~2014          0.533829"
      ]
     },
     "execution_count": 15,
     "metadata": {},
     "output_type": "execute_result"
    },
    {
     "data": {
      "image/png": "[encoded data removed]",
      "text/plain": [
       "<matplotlib.figure.Figure at 0x7ff6c592db38>"
      ]
     },
     "metadata": {},
     "output_type": "display_data"
    }
   ],
   "source": [
    "f1_type = f1_choices[0]\n",
    "print('f1_type =', f1_type)\n",
    "\n",
    "up_means_to_plot = up_means[[f1_type]].sort_values(f1_type, ascending=True)\n",
    "up_stds_to_plot = up_stds[[f1_type]]\n",
    "\n",
    "up_means_to_plot.iloc[-5:].plot(kind='barh', figsize=(10,7), xerr=up_stds_to_plot)\n",
    "up_means_to_plot.iloc[:-3:-1,:]"
   ]
  },
  {
   "cell_type": "code",
   "execution_count": 20,
   "metadata": {
    "collapsed": true
   },
   "outputs": [
    {
     "name": "stdout",
     "output_type": "stream",
     "text": [
      "f1_type = test_f1_micro\n"
     ]
    },
    {
     "data": {
      "text/html": [
       "<div>\n",
       "<style>\n",
       "    .dataframe thead tr:only-child th {\n",
       "        text-align: right;\n",
       "    }\n",
       "\n",
       "    .dataframe thead th {\n",
       "        text-align: left;\n",
       "    }\n",
       "\n",
       "    .dataframe tbody tr th {\n",
       "        vertical-align: top;\n",
       "    }\n",
       "</style>\n",
       "<table border=\"1\" class=\"dataframe\">\n",
       "  <thead>\n",
       "    <tr style=\"text-align: right;\">\n",
       "      <th></th>\n",
       "      <th></th>\n",
       "      <th></th>\n",
       "      <th>RoadNet</th>\n",
       "      <th>Segment total</th>\n",
       "      <th>Segment type</th>\n",
       "      <th>RoadNet+Segment total</th>\n",
       "      <th>RoadNet+Segment type</th>\n",
       "    </tr>\n",
       "    <tr>\n",
       "      <th>model_name</th>\n",
       "      <th>feature_selection</th>\n",
       "      <th>smote_kind</th>\n",
       "      <th></th>\n",
       "      <th></th>\n",
       "      <th></th>\n",
       "      <th></th>\n",
       "      <th></th>\n",
       "    </tr>\n",
       "  </thead>\n",
       "  <tbody>\n",
       "    <tr>\n",
       "      <th rowspan=\"6\" valign=\"top\">GDBcls</th>\n",
       "      <th rowspan=\"2\" valign=\"top\">None</th>\n",
       "      <th>regular</th>\n",
       "      <td>0.506173</td>\n",
       "      <td>0.409171</td>\n",
       "      <td>0.472663</td>\n",
       "      <td>0.523810</td>\n",
       "      <td>0.520282</td>\n",
       "    </tr>\n",
       "    <tr>\n",
       "      <th>svm</th>\n",
       "      <td>0.529762</td>\n",
       "      <td>0.428571</td>\n",
       "      <td>0.488536</td>\n",
       "      <td>0.539683</td>\n",
       "      <td>0.555556</td>\n",
       "    </tr>\n",
       "    <tr>\n",
       "      <th rowspan=\"2\" valign=\"top\">mrmr</th>\n",
       "      <th>regular</th>\n",
       "      <td>0.513228</td>\n",
       "      <td>0.276896</td>\n",
       "      <td>0.481481</td>\n",
       "      <td>0.543210</td>\n",
       "      <td>0.514991</td>\n",
       "    </tr>\n",
       "    <tr>\n",
       "      <th>svm</th>\n",
       "      <td>0.541667</td>\n",
       "      <td>0.412698</td>\n",
       "      <td>0.488536</td>\n",
       "      <td>0.545635</td>\n",
       "      <td>0.557540</td>\n",
       "    </tr>\n",
       "    <tr>\n",
       "      <th rowspan=\"2\" valign=\"top\">rfecv_linsvc</th>\n",
       "      <th>regular</th>\n",
       "      <td>0.509700</td>\n",
       "      <td>0.382716</td>\n",
       "      <td>0.458554</td>\n",
       "      <td>0.518519</td>\n",
       "      <td>0.527337</td>\n",
       "    </tr>\n",
       "    <tr>\n",
       "      <th>svm</th>\n",
       "      <td>0.529762</td>\n",
       "      <td>0.417989</td>\n",
       "      <td>0.470899</td>\n",
       "      <td>0.541667</td>\n",
       "      <td>0.519841</td>\n",
       "    </tr>\n",
       "    <tr>\n",
       "      <th rowspan=\"6\" valign=\"top\">XGBcls</th>\n",
       "      <th rowspan=\"2\" valign=\"top\">None</th>\n",
       "      <th>regular</th>\n",
       "      <td>0.516755</td>\n",
       "      <td>0.391534</td>\n",
       "      <td>0.462081</td>\n",
       "      <td>0.525573</td>\n",
       "      <td>0.530864</td>\n",
       "    </tr>\n",
       "    <tr>\n",
       "      <th>svm</th>\n",
       "      <td>0.494048</td>\n",
       "      <td>0.370370</td>\n",
       "      <td>0.467372</td>\n",
       "      <td>0.549603</td>\n",
       "      <td>0.533730</td>\n",
       "    </tr>\n",
       "    <tr>\n",
       "      <th rowspan=\"2\" valign=\"top\">mrmr</th>\n",
       "      <th>regular</th>\n",
       "      <td>0.486772</td>\n",
       "      <td>0.283951</td>\n",
       "      <td>0.477954</td>\n",
       "      <td>0.514991</td>\n",
       "      <td>0.532628</td>\n",
       "    </tr>\n",
       "    <tr>\n",
       "      <th>svm</th>\n",
       "      <td>0.490079</td>\n",
       "      <td>0.423280</td>\n",
       "      <td>0.477954</td>\n",
       "      <td>0.523810</td>\n",
       "      <td>0.517857</td>\n",
       "    </tr>\n",
       "    <tr>\n",
       "      <th rowspan=\"2\" valign=\"top\">rfecv_linsvc</th>\n",
       "      <th>regular</th>\n",
       "      <td>0.502646</td>\n",
       "      <td>0.396825</td>\n",
       "      <td>0.490300</td>\n",
       "      <td>0.525573</td>\n",
       "      <td>0.513228</td>\n",
       "    </tr>\n",
       "    <tr>\n",
       "      <th>svm</th>\n",
       "      <td>0.480159</td>\n",
       "      <td>0.380952</td>\n",
       "      <td>0.474427</td>\n",
       "      <td>0.535714</td>\n",
       "      <td>0.509921</td>\n",
       "    </tr>\n",
       "    <tr>\n",
       "      <th rowspan=\"6\" valign=\"top\">XGBreg</th>\n",
       "      <th rowspan=\"2\" valign=\"top\">None</th>\n",
       "      <th>regular</th>\n",
       "      <td>0.504409</td>\n",
       "      <td>0.352734</td>\n",
       "      <td>0.437390</td>\n",
       "      <td>0.507937</td>\n",
       "      <td>0.520282</td>\n",
       "    </tr>\n",
       "    <tr>\n",
       "      <th>svm</th>\n",
       "      <td>0.511905</td>\n",
       "      <td>0.375661</td>\n",
       "      <td>0.467372</td>\n",
       "      <td>0.507937</td>\n",
       "      <td>0.500000</td>\n",
       "    </tr>\n",
       "    <tr>\n",
       "      <th rowspan=\"2\" valign=\"top\">mrmr</th>\n",
       "      <th>regular</th>\n",
       "      <td>0.504409</td>\n",
       "      <td>0.395062</td>\n",
       "      <td>0.435626</td>\n",
       "      <td>0.493827</td>\n",
       "      <td>0.493827</td>\n",
       "    </tr>\n",
       "    <tr>\n",
       "      <th>svm</th>\n",
       "      <td>0.511905</td>\n",
       "      <td>0.396825</td>\n",
       "      <td>0.465608</td>\n",
       "      <td>0.513889</td>\n",
       "      <td>0.517857</td>\n",
       "    </tr>\n",
       "    <tr>\n",
       "      <th rowspan=\"2\" valign=\"top\">rfecv_linsvc</th>\n",
       "      <th>regular</th>\n",
       "      <td>0.488536</td>\n",
       "      <td>0.366843</td>\n",
       "      <td>0.444444</td>\n",
       "      <td>0.507937</td>\n",
       "      <td>0.502646</td>\n",
       "    </tr>\n",
       "    <tr>\n",
       "      <th>svm</th>\n",
       "      <td>0.494048</td>\n",
       "      <td>0.354497</td>\n",
       "      <td>0.437390</td>\n",
       "      <td>0.505952</td>\n",
       "      <td>0.537698</td>\n",
       "    </tr>\n",
       "  </tbody>\n",
       "</table>\n",
       "</div>"
      ],
      "text/plain": [
       "                                          RoadNet  Segment total  \\\n",
       "model_name feature_selection smote_kind                            \n",
       "GDBcls     None              regular     0.506173       0.409171   \n",
       "                             svm         0.529762       0.428571   \n",
       "           mrmr              regular     0.513228       0.276896   \n",
       "                             svm         0.541667       0.412698   \n",
       "           rfecv_linsvc      regular     0.509700       0.382716   \n",
       "                             svm         0.529762       0.417989   \n",
       "XGBcls     None              regular     0.516755       0.391534   \n",
       "                             svm         0.494048       0.370370   \n",
       "           mrmr              regular     0.486772       0.283951   \n",
       "                             svm         0.490079       0.423280   \n",
       "           rfecv_linsvc      regular     0.502646       0.396825   \n",
       "                             svm         0.480159       0.380952   \n",
       "XGBreg     None              regular     0.504409       0.352734   \n",
       "                             svm         0.511905       0.375661   \n",
       "           mrmr              regular     0.504409       0.395062   \n",
       "                             svm         0.511905       0.396825   \n",
       "           rfecv_linsvc      regular     0.488536       0.366843   \n",
       "                             svm         0.494048       0.354497   \n",
       "\n",
       "                                         Segment type  RoadNet+Segment total  \\\n",
       "model_name feature_selection smote_kind                                        \n",
       "GDBcls     None              regular         0.472663               0.523810   \n",
       "                             svm             0.488536               0.539683   \n",
       "           mrmr              regular         0.481481               0.543210   \n",
       "                             svm             0.488536               0.545635   \n",
       "           rfecv_linsvc      regular         0.458554               0.518519   \n",
       "                             svm             0.470899               0.541667   \n",
       "XGBcls     None              regular         0.462081               0.525573   \n",
       "                             svm             0.467372               0.549603   \n",
       "           mrmr              regular         0.477954               0.514991   \n",
       "                             svm             0.477954               0.523810   \n",
       "           rfecv_linsvc      regular         0.490300               0.525573   \n",
       "                             svm             0.474427               0.535714   \n",
       "XGBreg     None              regular         0.437390               0.507937   \n",
       "                             svm             0.467372               0.507937   \n",
       "           mrmr              regular         0.435626               0.493827   \n",
       "                             svm             0.465608               0.513889   \n",
       "           rfecv_linsvc      regular         0.444444               0.507937   \n",
       "                             svm             0.437390               0.505952   \n",
       "\n",
       "                                         RoadNet+Segment type  \n",
       "model_name feature_selection smote_kind                        \n",
       "GDBcls     None              regular                 0.520282  \n",
       "                             svm                     0.555556  \n",
       "           mrmr              regular                 0.514991  \n",
       "                             svm                     0.557540  \n",
       "           rfecv_linsvc      regular                 0.527337  \n",
       "                             svm                     0.519841  \n",
       "XGBcls     None              regular                 0.530864  \n",
       "                             svm                     0.533730  \n",
       "           mrmr              regular                 0.532628  \n",
       "                             svm                     0.517857  \n",
       "           rfecv_linsvc      regular                 0.513228  \n",
       "                             svm                     0.509921  \n",
       "XGBreg     None              regular                 0.520282  \n",
       "                             svm                     0.500000  \n",
       "           mrmr              regular                 0.493827  \n",
       "                             svm                     0.517857  \n",
       "           rfecv_linsvc      regular                 0.502646  \n",
       "                             svm                     0.537698  "
      ]
     },
     "execution_count": 20,
     "metadata": {},
     "output_type": "execute_result"
    }
   ],
   "source": [
    "f1_type = f1_choices[2]\n",
    "print('f1_type =', f1_type)\n",
    "\n",
    "key_cols = ['model_name', 'feature_selection', 'smote_kind']\n",
    "table = get_paper_table(up_means, f1_type, key_cols)\n",
    "table.to_csv('deliverables/EXP3 upsampling table %s.csv' % f1_type, encoding='utf8')\n",
    "table"
   ]
  },
  {
   "cell_type": "code",
   "execution_count": null,
   "metadata": {
    "collapsed": true
   },
   "outputs": [],
   "source": [
    "on_train_grid_res = get_up_result('upsample_smote', 'grid')"
   ]
  },
  {
   "cell_type": "code",
   "execution_count": null,
   "metadata": {
    "collapsed": true,
    "scrolled": true
   },
   "outputs": [],
   "source": [
    "on_train_grid_res[on_train_grid_res['kind']=='cls'].groupby(keys).mean()[['mean_test']]"
   ]
  },
  {
   "cell_type": "markdown",
   "metadata": {},
   "source": [
    "# downsample result"
   ]
  },
  {
   "cell_type": "code",
   "execution_count": 22,
   "metadata": {},
   "outputs": [],
   "source": [
    "from csl_exp3_v2_downsampling import DOWN_SEEDS"
   ]
  },
  {
   "cell_type": "code",
   "execution_count": 23,
   "metadata": {
    "collapsed": true
   },
   "outputs": [],
   "source": [
    "def get_down_result(eval_or_grid):\n",
    "    res = []\n",
    "\n",
    "    for seed in SEEDS:\n",
    "        exp_path = 'data/up_down_experiment_v2/seed_%d' % seed\n",
    "        smote_path = '%s/downsample' % (exp_path)\n",
    "\n",
    "        try:\n",
    "            df = pd.read_csv('%s/%s_res.csv' % (smote_path, eval_or_grid), index_col=0)\n",
    "            df['seed'] = seed\n",
    "            res.append(df)\n",
    "        except FileNotFoundError:\n",
    "            print('no %s_res in' % eval_or_grid, smote_path)\n",
    "\n",
    "    res = pd.concat(res, ignore_index=True)\n",
    "    return res"
   ]
  },
  {
   "cell_type": "code",
   "execution_count": 24,
   "metadata": {
    "collapsed": true
   },
   "outputs": [],
   "source": [
    "down_res = get_down_result('eval')"
   ]
  },
  {
   "cell_type": "code",
   "execution_count": 25,
   "metadata": {
    "collapsed": true
   },
   "outputs": [],
   "source": [
    "down_keys = ['model_name', 'feature_selection', 'ftr_combo_name']"
   ]
  },
  {
   "cell_type": "code",
   "execution_count": 26,
   "metadata": {
    "collapsed": true
   },
   "outputs": [],
   "source": [
    "down_means = down_res.groupby(down_keys).mean()[f1_choices]\n",
    "down_stds = down_res.groupby(down_keys).std()[f1_choices]"
   ]
  },
  {
   "cell_type": "code",
   "execution_count": 17,
   "metadata": {
    "collapsed": true,
    "scrolled": true
   },
   "outputs": [],
   "source": [
    "# down_res.groupby(down_keys).count()[f1_choices]"
   ]
  },
  {
   "cell_type": "code",
   "execution_count": 74,
   "metadata": {},
   "outputs": [
    {
     "name": "stdout",
     "output_type": "stream",
     "text": [
      "f1_type = test_f1_weighted\n"
     ]
    },
    {
     "data": {
      "text/html": [
       "<div>\n",
       "<style>\n",
       "    .dataframe thead tr:only-child th {\n",
       "        text-align: right;\n",
       "    }\n",
       "\n",
       "    .dataframe thead th {\n",
       "        text-align: left;\n",
       "    }\n",
       "\n",
       "    .dataframe tbody tr th {\n",
       "        vertical-align: top;\n",
       "    }\n",
       "</style>\n",
       "<table border=\"1\" class=\"dataframe\">\n",
       "  <thead>\n",
       "    <tr style=\"text-align: right;\">\n",
       "      <th></th>\n",
       "      <th></th>\n",
       "      <th></th>\n",
       "      <th>test_f1_weighted</th>\n",
       "    </tr>\n",
       "    <tr>\n",
       "      <th>model_name</th>\n",
       "      <th>feature_selection</th>\n",
       "      <th>ftr_combo_name</th>\n",
       "      <th></th>\n",
       "    </tr>\n",
       "  </thead>\n",
       "  <tbody>\n",
       "    <tr>\n",
       "      <th rowspan=\"2\" valign=\"top\">XGBreg</th>\n",
       "      <th>mrmr</th>\n",
       "      <th>RoadNet+Segment_TOTAL_~2014</th>\n",
       "      <td>0.391959</td>\n",
       "    </tr>\n",
       "    <tr>\n",
       "      <th>None</th>\n",
       "      <th>RoadNet+Segment_TOTAL_~2014</th>\n",
       "      <td>0.391959</td>\n",
       "    </tr>\n",
       "  </tbody>\n",
       "</table>\n",
       "</div>"
      ],
      "text/plain": [
       "                                                          test_f1_weighted\n",
       "model_name feature_selection ftr_combo_name                               \n",
       "XGBreg     mrmr              RoadNet+Segment_TOTAL_~2014          0.391959\n",
       "           None              RoadNet+Segment_TOTAL_~2014          0.391959"
      ]
     },
     "execution_count": 74,
     "metadata": {},
     "output_type": "execute_result"
    },
    {
     "data": {
      "image/png": "[encoded data removed]",
      "text/plain": [
       "<matplotlib.figure.Figure at 0x7f4dc4cec278>"
      ]
     },
     "metadata": {},
     "output_type": "display_data"
    }
   ],
   "source": [
    "f1_type = f1_choices[0]\n",
    "print('f1_type =', f1_type)\n",
    "\n",
    "down_means_to_plot = down_means[[f1_type]].sort_values(f1_type, ascending=True)\n",
    "down_stds_to_plot = down_stds[[f1_type]]\n",
    "\n",
    "down_means_to_plot.iloc[-5:].plot(kind='barh', figsize=(10,7), xerr=stds_to_plot)\n",
    "down_means_to_plot.iloc[:-3:-1,:]"
   ]
  },
  {
   "cell_type": "code",
   "execution_count": 29,
   "metadata": {
    "scrolled": true
   },
   "outputs": [
    {
     "name": "stdout",
     "output_type": "stream",
     "text": [
      "f1_type = test_f1_micro\n"
     ]
    }
   ],
   "source": [
    "f1_type = f1_choices[2]\n",
    "print('f1_type =', f1_type)\n",
    "key_cols = ['model_name', 'feature_selection']\n",
    "table = get_paper_table(down_means, f1_type, key_cols)\n",
    "table.to_csv('deliverables/EXP3 downsampling table %s.csv' % f1_type, encoding='utf8')"
   ]
  }
 ],
 "metadata": {
  "kernelspec": {
   "display_name": "Python [default]",
   "language": "python",
   "name": "python3"
  },
  "language_info": {
   "codemirror_mode": {
    "name": "ipython",
    "version": 3
   },
   "file_extension": ".py",
   "mimetype": "text/x-python",
   "name": "python",
   "nbconvert_exporter": "python",
   "pygments_lexer": "ipython3",
   "version": "3.6.2"
  }
 },
 "nbformat": 4,
 "nbformat_minor": 2
}
