{
 "cells": [
  {
   "cell_type": "code",
   "execution_count": 1,
   "metadata": {
    "collapsed": true
   },
   "outputs": [],
   "source": [
    "# best 3 solutions based on EXP1 in turns of f1 weighted is:\n",
    "# XGBcls, RoadNet+Segment TOTAL, 0.5284741533025521\n",
    "# XGBreg, RoadNet+Segment NO_TOTAL, 0.541270\n",
    "# GDBcls, RoadNet+Segment TOTAL, 0.5107103184755486\n",
    "# with ~2014, min-max, no feature selection"
   ]
  },
  {
   "cell_type": "code",
   "execution_count": 2,
   "metadata": {
    "collapsed": true
   },
   "outputs": [],
   "source": [
    "import pandas as pd\n",
    "%matplotlib inline"
   ]
  },
  {
   "cell_type": "code",
   "execution_count": 3,
   "metadata": {
    "collapsed": true
   },
   "outputs": [],
   "source": [
    "from src.experiment_based_function import SEEDS"
   ]
  },
  {
   "cell_type": "code",
   "execution_count": 4,
   "metadata": {
    "collapsed": true
   },
   "outputs": [],
   "source": [
    "f1_choices = ['test_f1_weighted', 'test_f1_macro', 'test_f1_micro']"
   ]
  },
  {
   "cell_type": "code",
   "execution_count": 65,
   "metadata": {
    "collapsed": true
   },
   "outputs": [],
   "source": [
    "def get_paper_table(means, f1_type, key_cols):\n",
    "    cols_name_convert = {'RoadNet': 'RoadNet', 'RoadNet+Segment_NO_TOTAL_~2014': 'RoadNet+Segment type',\n",
    "     'RoadNet+Segment_TOTAL_~2014': 'RoadNet+Segment total', 'Segment_NO_TOTAL_~2014': 'Segment type',\n",
    "     'Segment_TOTAL_~2014': 'Segment total'}\n",
    "    means_for_pivot = means.reset_index()\n",
    "    means_for_pivot['key'] = means_for_pivot.apply(lambda x: tuple([x[col] for col in key_cols]), axis=1)\n",
    "    table = means_for_pivot.reset_index().pivot(index='key', columns='ftr_combo_name', values=f1_type)\n",
    "    table.index = pd.MultiIndex.from_tuples(table.index, names=key_cols)    \n",
    "    table.columns.name = f1_type\n",
    "    table.columns = [cols_name_convert[col] for col in table.columns]\n",
    "    return table[['RoadNet', 'Segment total', 'Segment type', 'RoadNet+Segment total', 'RoadNet+Segment type']]"
   ]
  },
  {
   "cell_type": "markdown",
   "metadata": {},
   "source": [
    "# Upsample result"
   ]
  },
  {
   "cell_type": "code",
   "execution_count": 36,
   "metadata": {
    "collapsed": true
   },
   "outputs": [],
   "source": [
    "def get_up_result(upsample_type, eval_or_grid):\n",
    "    res = []\n",
    "\n",
    "    for smote_kind in ['regular', 'svm']:\n",
    "        for seed in SEEDS:\n",
    "            exp_path = 'data/up_down_experiment_v2/seed_%d' % seed\n",
    "            smote_path = '%s/%s_%s' % (exp_path, upsample_type, smote_kind)\n",
    "            try:\n",
    "                df = pd.read_csv('%s/%s_res.csv' % (smote_path, eval_or_grid), index_col=0)\n",
    "                df['seed'] = seed\n",
    "                df['smote_kind'] = smote_kind\n",
    "                res.append(df)\n",
    "            except FileNotFoundError:\n",
    "                print('no %s_res in' % eval_or_grid, smote_path)\n",
    "\n",
    "    res = pd.concat(res, ignore_index=True)\n",
    "    return res"
   ]
  },
  {
   "cell_type": "code",
   "execution_count": 37,
   "metadata": {
    "collapsed": true
   },
   "outputs": [],
   "source": [
    "keys = ['smote_kind', 'model_name', 'feature_selection', 'ftr_combo_name']"
   ]
  },
  {
   "cell_type": "code",
   "execution_count": 38,
   "metadata": {},
   "outputs": [
    {
     "name": "stdout",
     "output_type": "stream",
     "text": [
      "no eval_res in data/up_down_experiment_v2/seed_789729423/upsample_smote_regular\n",
      "no eval_res in data/up_down_experiment_v2/seed_789729423/upsample_smote_svm\n"
     ]
    }
   ],
   "source": [
    "up_eval_res = get_up_result('upsample_smote', 'eval')"
   ]
  },
  {
   "cell_type": "code",
   "execution_count": 39,
   "metadata": {
    "scrolled": true
   },
   "outputs": [
    {
     "data": {
      "text/html": [
       "<div>\n",
       "<style>\n",
       "    .dataframe thead tr:only-child th {\n",
       "        text-align: right;\n",
       "    }\n",
       "\n",
       "    .dataframe thead th {\n",
       "        text-align: left;\n",
       "    }\n",
       "\n",
       "    .dataframe tbody tr th {\n",
       "        vertical-align: top;\n",
       "    }\n",
       "</style>\n",
       "<table border=\"1\" class=\"dataframe\">\n",
       "  <thead>\n",
       "    <tr style=\"text-align: right;\">\n",
       "      <th></th>\n",
       "      <th>up_y_dist</th>\n",
       "      <th>y_dist</th>\n",
       "    </tr>\n",
       "  </thead>\n",
       "  <tbody>\n",
       "    <tr>\n",
       "      <th>728</th>\n",
       "      <td>{3: 109, 4: 108, 2: 79, 1: 60, 5: 52}</td>\n",
       "      <td>{3: 109, 4: 84, 2: 43, 1: 8, 5: 7}</td>\n",
       "    </tr>\n",
       "    <tr>\n",
       "      <th>727</th>\n",
       "      <td>{3: 109, 4: 108, 2: 79, 1: 60, 5: 52}</td>\n",
       "      <td>{3: 109, 4: 84, 2: 43, 1: 8, 5: 7}</td>\n",
       "    </tr>\n",
       "    <tr>\n",
       "      <th>726</th>\n",
       "      <td>{3: 109, 4: 108, 2: 79, 1: 60, 5: 52}</td>\n",
       "      <td>{3: 109, 4: 84, 2: 43, 1: 8, 5: 7}</td>\n",
       "    </tr>\n",
       "    <tr>\n",
       "      <th>725</th>\n",
       "      <td>{3: 109, 4: 108, 2: 79, 1: 60, 5: 52}</td>\n",
       "      <td>{3: 109, 4: 84, 2: 43, 1: 8, 5: 7}</td>\n",
       "    </tr>\n",
       "    <tr>\n",
       "      <th>724</th>\n",
       "      <td>{3: 109, 4: 108, 2: 79, 1: 60, 5: 52}</td>\n",
       "      <td>{3: 109, 4: 84, 2: 43, 1: 8, 5: 7}</td>\n",
       "    </tr>\n",
       "    <tr>\n",
       "      <th>723</th>\n",
       "      <td>{3: 109, 4: 108, 2: 79, 1: 60, 5: 52}</td>\n",
       "      <td>{3: 109, 4: 84, 2: 43, 1: 8, 5: 7}</td>\n",
       "    </tr>\n",
       "    <tr>\n",
       "      <th>722</th>\n",
       "      <td>{3: 109, 4: 108, 2: 79, 1: 60, 5: 52}</td>\n",
       "      <td>{3: 109, 4: 84, 2: 43, 1: 8, 5: 7}</td>\n",
       "    </tr>\n",
       "    <tr>\n",
       "      <th>721</th>\n",
       "      <td>{3: 109, 4: 108, 2: 79, 1: 60, 5: 52}</td>\n",
       "      <td>{3: 109, 4: 84, 2: 43, 1: 8, 5: 7}</td>\n",
       "    </tr>\n",
       "    <tr>\n",
       "      <th>720</th>\n",
       "      <td>{3: 109, 4: 108, 2: 79, 1: 60, 5: 52}</td>\n",
       "      <td>{3: 109, 4: 84, 2: 43, 1: 8, 5: 7}</td>\n",
       "    </tr>\n",
       "    <tr>\n",
       "      <th>719</th>\n",
       "      <td>{4: 111, 3: 111, 2: 86, 1: 61, 5: 53}</td>\n",
       "      <td>{3: 111, 4: 77, 2: 47, 1: 9, 5: 7}</td>\n",
       "    </tr>\n",
       "    <tr>\n",
       "      <th>718</th>\n",
       "      <td>{4: 111, 3: 111, 2: 86, 1: 61, 5: 53}</td>\n",
       "      <td>{3: 111, 4: 77, 2: 47, 1: 9, 5: 7}</td>\n",
       "    </tr>\n",
       "    <tr>\n",
       "      <th>717</th>\n",
       "      <td>{4: 111, 3: 111, 2: 86, 1: 61, 5: 53}</td>\n",
       "      <td>{3: 111, 4: 77, 2: 47, 1: 9, 5: 7}</td>\n",
       "    </tr>\n",
       "    <tr>\n",
       "      <th>716</th>\n",
       "      <td>{4: 111, 3: 111, 2: 86, 1: 61, 5: 53}</td>\n",
       "      <td>{3: 111, 4: 77, 2: 47, 1: 9, 5: 7}</td>\n",
       "    </tr>\n",
       "    <tr>\n",
       "      <th>715</th>\n",
       "      <td>{4: 111, 3: 111, 2: 86, 1: 61, 5: 53}</td>\n",
       "      <td>{3: 111, 4: 77, 2: 47, 1: 9, 5: 7}</td>\n",
       "    </tr>\n",
       "    <tr>\n",
       "      <th>714</th>\n",
       "      <td>{4: 111, 3: 111, 2: 86, 1: 61, 5: 53}</td>\n",
       "      <td>{3: 111, 4: 77, 2: 47, 1: 9, 5: 7}</td>\n",
       "    </tr>\n",
       "    <tr>\n",
       "      <th>713</th>\n",
       "      <td>{4: 111, 3: 111, 2: 86, 1: 61, 5: 53}</td>\n",
       "      <td>{3: 111, 4: 77, 2: 47, 1: 9, 5: 7}</td>\n",
       "    </tr>\n",
       "    <tr>\n",
       "      <th>712</th>\n",
       "      <td>{4: 111, 3: 111, 2: 86, 1: 61, 5: 53}</td>\n",
       "      <td>{3: 111, 4: 77, 2: 47, 1: 9, 5: 7}</td>\n",
       "    </tr>\n",
       "    <tr>\n",
       "      <th>711</th>\n",
       "      <td>{4: 111, 3: 111, 2: 86, 1: 61, 5: 53}</td>\n",
       "      <td>{3: 111, 4: 77, 2: 47, 1: 9, 5: 7}</td>\n",
       "    </tr>\n",
       "    <tr>\n",
       "      <th>710</th>\n",
       "      <td>{4: 111, 3: 111, 2: 86, 1: 61, 5: 53}</td>\n",
       "      <td>{3: 111, 4: 77, 2: 47, 1: 9, 5: 7}</td>\n",
       "    </tr>\n",
       "    <tr>\n",
       "      <th>709</th>\n",
       "      <td>{4: 111, 3: 111, 2: 86, 1: 61, 5: 53}</td>\n",
       "      <td>{3: 111, 4: 77, 2: 47, 1: 9, 5: 7}</td>\n",
       "    </tr>\n",
       "    <tr>\n",
       "      <th>708</th>\n",
       "      <td>{4: 111, 3: 111, 2: 86, 1: 61, 5: 53}</td>\n",
       "      <td>{3: 111, 4: 77, 2: 47, 1: 9, 5: 7}</td>\n",
       "    </tr>\n",
       "    <tr>\n",
       "      <th>707</th>\n",
       "      <td>{4: 111, 3: 111, 2: 86, 1: 61, 5: 53}</td>\n",
       "      <td>{3: 111, 4: 77, 2: 47, 1: 9, 5: 7}</td>\n",
       "    </tr>\n",
       "    <tr>\n",
       "      <th>706</th>\n",
       "      <td>{4: 111, 3: 111, 2: 86, 1: 61, 5: 53}</td>\n",
       "      <td>{3: 111, 4: 77, 2: 47, 1: 9, 5: 7}</td>\n",
       "    </tr>\n",
       "    <tr>\n",
       "      <th>705</th>\n",
       "      <td>{4: 111, 3: 111, 2: 86, 1: 61, 5: 53}</td>\n",
       "      <td>{3: 111, 4: 77, 2: 47, 1: 9, 5: 7}</td>\n",
       "    </tr>\n",
       "    <tr>\n",
       "      <th>704</th>\n",
       "      <td>{4: 111, 3: 111, 2: 86, 1: 61, 5: 53}</td>\n",
       "      <td>{3: 111, 4: 77, 2: 47, 1: 9, 5: 7}</td>\n",
       "    </tr>\n",
       "    <tr>\n",
       "      <th>703</th>\n",
       "      <td>{4: 111, 3: 111, 2: 86, 1: 61, 5: 53}</td>\n",
       "      <td>{3: 111, 4: 77, 2: 47, 1: 9, 5: 7}</td>\n",
       "    </tr>\n",
       "    <tr>\n",
       "      <th>702</th>\n",
       "      <td>{4: 111, 3: 111, 2: 86, 1: 61, 5: 53}</td>\n",
       "      <td>{3: 111, 4: 77, 2: 47, 1: 9, 5: 7}</td>\n",
       "    </tr>\n",
       "    <tr>\n",
       "      <th>701</th>\n",
       "      <td>{4: 111, 3: 111, 2: 86, 1: 61, 5: 53}</td>\n",
       "      <td>{3: 111, 4: 77, 2: 47, 1: 9, 5: 7}</td>\n",
       "    </tr>\n",
       "    <tr>\n",
       "      <th>700</th>\n",
       "      <td>{4: 111, 3: 111, 2: 86, 1: 61, 5: 53}</td>\n",
       "      <td>{3: 111, 4: 77, 2: 47, 1: 9, 5: 7}</td>\n",
       "    </tr>\n",
       "    <tr>\n",
       "      <th>699</th>\n",
       "      <td>{4: 111, 3: 111, 2: 86, 1: 61, 5: 53}</td>\n",
       "      <td>{3: 111, 4: 77, 2: 47, 1: 9, 5: 7}</td>\n",
       "    </tr>\n",
       "    <tr>\n",
       "      <th>...</th>\n",
       "      <td>...</td>\n",
       "      <td>...</td>\n",
       "    </tr>\n",
       "    <tr>\n",
       "      <th>29</th>\n",
       "      <td>{5: 107, 4: 107, 3: 107, 2: 107, 1: 107}</td>\n",
       "      <td>{3: 107, 4: 80, 2: 48, 1: 10, 5: 6}</td>\n",
       "    </tr>\n",
       "    <tr>\n",
       "      <th>28</th>\n",
       "      <td>{5: 107, 4: 107, 3: 107, 2: 107, 1: 107}</td>\n",
       "      <td>{3: 107, 4: 80, 2: 48, 1: 10, 5: 6}</td>\n",
       "    </tr>\n",
       "    <tr>\n",
       "      <th>27</th>\n",
       "      <td>{5: 107, 4: 107, 3: 107, 2: 107, 1: 107}</td>\n",
       "      <td>{3: 107, 4: 80, 2: 48, 1: 10, 5: 6}</td>\n",
       "    </tr>\n",
       "    <tr>\n",
       "      <th>26</th>\n",
       "      <td>{5: 107, 4: 107, 3: 107, 2: 107, 1: 107}</td>\n",
       "      <td>{3: 107, 4: 80, 2: 48, 1: 10, 5: 6}</td>\n",
       "    </tr>\n",
       "    <tr>\n",
       "      <th>25</th>\n",
       "      <td>{5: 107, 4: 107, 3: 107, 2: 107, 1: 107}</td>\n",
       "      <td>{3: 107, 4: 80, 2: 48, 1: 10, 5: 6}</td>\n",
       "    </tr>\n",
       "    <tr>\n",
       "      <th>24</th>\n",
       "      <td>{5: 107, 4: 107, 3: 107, 2: 107, 1: 107}</td>\n",
       "      <td>{3: 107, 4: 80, 2: 48, 1: 10, 5: 6}</td>\n",
       "    </tr>\n",
       "    <tr>\n",
       "      <th>23</th>\n",
       "      <td>{5: 107, 4: 107, 3: 107, 2: 107, 1: 107}</td>\n",
       "      <td>{3: 107, 4: 80, 2: 48, 1: 10, 5: 6}</td>\n",
       "    </tr>\n",
       "    <tr>\n",
       "      <th>22</th>\n",
       "      <td>{5: 107, 4: 107, 3: 107, 2: 107, 1: 107}</td>\n",
       "      <td>{3: 107, 4: 80, 2: 48, 1: 10, 5: 6}</td>\n",
       "    </tr>\n",
       "    <tr>\n",
       "      <th>21</th>\n",
       "      <td>{5: 107, 4: 107, 3: 107, 2: 107, 1: 107}</td>\n",
       "      <td>{3: 107, 4: 80, 2: 48, 1: 10, 5: 6}</td>\n",
       "    </tr>\n",
       "    <tr>\n",
       "      <th>20</th>\n",
       "      <td>{5: 107, 4: 107, 3: 107, 2: 107, 1: 107}</td>\n",
       "      <td>{3: 107, 4: 80, 2: 48, 1: 10, 5: 6}</td>\n",
       "    </tr>\n",
       "    <tr>\n",
       "      <th>19</th>\n",
       "      <td>{5: 107, 4: 107, 3: 107, 2: 107, 1: 107}</td>\n",
       "      <td>{3: 107, 4: 80, 2: 48, 1: 10, 5: 6}</td>\n",
       "    </tr>\n",
       "    <tr>\n",
       "      <th>18</th>\n",
       "      <td>{5: 107, 4: 107, 3: 107, 2: 107, 1: 107}</td>\n",
       "      <td>{3: 107, 4: 80, 2: 48, 1: 10, 5: 6}</td>\n",
       "    </tr>\n",
       "    <tr>\n",
       "      <th>17</th>\n",
       "      <td>{5: 107, 4: 107, 3: 107, 2: 107, 1: 107}</td>\n",
       "      <td>{3: 107, 4: 80, 2: 48, 1: 10, 5: 6}</td>\n",
       "    </tr>\n",
       "    <tr>\n",
       "      <th>16</th>\n",
       "      <td>{5: 107, 4: 107, 3: 107, 2: 107, 1: 107}</td>\n",
       "      <td>{3: 107, 4: 80, 2: 48, 1: 10, 5: 6}</td>\n",
       "    </tr>\n",
       "    <tr>\n",
       "      <th>15</th>\n",
       "      <td>{5: 107, 4: 107, 3: 107, 2: 107, 1: 107}</td>\n",
       "      <td>{3: 107, 4: 80, 2: 48, 1: 10, 5: 6}</td>\n",
       "    </tr>\n",
       "    <tr>\n",
       "      <th>14</th>\n",
       "      <td>{5: 107, 4: 107, 3: 107, 2: 107, 1: 107}</td>\n",
       "      <td>{3: 107, 4: 80, 2: 48, 1: 10, 5: 6}</td>\n",
       "    </tr>\n",
       "    <tr>\n",
       "      <th>13</th>\n",
       "      <td>{5: 107, 4: 107, 3: 107, 2: 107, 1: 107}</td>\n",
       "      <td>{3: 107, 4: 80, 2: 48, 1: 10, 5: 6}</td>\n",
       "    </tr>\n",
       "    <tr>\n",
       "      <th>12</th>\n",
       "      <td>{5: 107, 4: 107, 3: 107, 2: 107, 1: 107}</td>\n",
       "      <td>{3: 107, 4: 80, 2: 48, 1: 10, 5: 6}</td>\n",
       "    </tr>\n",
       "    <tr>\n",
       "      <th>11</th>\n",
       "      <td>{5: 107, 4: 107, 3: 107, 2: 107, 1: 107}</td>\n",
       "      <td>{3: 107, 4: 80, 2: 48, 1: 10, 5: 6}</td>\n",
       "    </tr>\n",
       "    <tr>\n",
       "      <th>10</th>\n",
       "      <td>{5: 107, 4: 107, 3: 107, 2: 107, 1: 107}</td>\n",
       "      <td>{3: 107, 4: 80, 2: 48, 1: 10, 5: 6}</td>\n",
       "    </tr>\n",
       "    <tr>\n",
       "      <th>9</th>\n",
       "      <td>{5: 107, 4: 107, 3: 107, 2: 107, 1: 107}</td>\n",
       "      <td>{3: 107, 4: 80, 2: 48, 1: 10, 5: 6}</td>\n",
       "    </tr>\n",
       "    <tr>\n",
       "      <th>8</th>\n",
       "      <td>{5: 107, 4: 107, 3: 107, 2: 107, 1: 107}</td>\n",
       "      <td>{3: 107, 4: 80, 2: 48, 1: 10, 5: 6}</td>\n",
       "    </tr>\n",
       "    <tr>\n",
       "      <th>7</th>\n",
       "      <td>{5: 107, 4: 107, 3: 107, 2: 107, 1: 107}</td>\n",
       "      <td>{3: 107, 4: 80, 2: 48, 1: 10, 5: 6}</td>\n",
       "    </tr>\n",
       "    <tr>\n",
       "      <th>6</th>\n",
       "      <td>{5: 107, 4: 107, 3: 107, 2: 107, 1: 107}</td>\n",
       "      <td>{3: 107, 4: 80, 2: 48, 1: 10, 5: 6}</td>\n",
       "    </tr>\n",
       "    <tr>\n",
       "      <th>5</th>\n",
       "      <td>{5: 107, 4: 107, 3: 107, 2: 107, 1: 107}</td>\n",
       "      <td>{3: 107, 4: 80, 2: 48, 1: 10, 5: 6}</td>\n",
       "    </tr>\n",
       "    <tr>\n",
       "      <th>4</th>\n",
       "      <td>{5: 107, 4: 107, 3: 107, 2: 107, 1: 107}</td>\n",
       "      <td>{3: 107, 4: 80, 2: 48, 1: 10, 5: 6}</td>\n",
       "    </tr>\n",
       "    <tr>\n",
       "      <th>3</th>\n",
       "      <td>{5: 107, 4: 107, 3: 107, 2: 107, 1: 107}</td>\n",
       "      <td>{3: 107, 4: 80, 2: 48, 1: 10, 5: 6}</td>\n",
       "    </tr>\n",
       "    <tr>\n",
       "      <th>2</th>\n",
       "      <td>{5: 107, 4: 107, 3: 107, 2: 107, 1: 107}</td>\n",
       "      <td>{3: 107, 4: 80, 2: 48, 1: 10, 5: 6}</td>\n",
       "    </tr>\n",
       "    <tr>\n",
       "      <th>1</th>\n",
       "      <td>{5: 107, 4: 107, 3: 107, 2: 107, 1: 107}</td>\n",
       "      <td>{3: 107, 4: 80, 2: 48, 1: 10, 5: 6}</td>\n",
       "    </tr>\n",
       "    <tr>\n",
       "      <th>0</th>\n",
       "      <td>{5: 107, 4: 107, 3: 107, 2: 107, 1: 107}</td>\n",
       "      <td>{3: 107, 4: 80, 2: 48, 1: 10, 5: 6}</td>\n",
       "    </tr>\n",
       "  </tbody>\n",
       "</table>\n",
       "<p>729 rows × 2 columns</p>\n",
       "</div>"
      ],
      "text/plain": [
       "                                    up_y_dist  \\\n",
       "728     {3: 109, 4: 108, 2: 79, 1: 60, 5: 52}   \n",
       "727     {3: 109, 4: 108, 2: 79, 1: 60, 5: 52}   \n",
       "726     {3: 109, 4: 108, 2: 79, 1: 60, 5: 52}   \n",
       "725     {3: 109, 4: 108, 2: 79, 1: 60, 5: 52}   \n",
       "724     {3: 109, 4: 108, 2: 79, 1: 60, 5: 52}   \n",
       "723     {3: 109, 4: 108, 2: 79, 1: 60, 5: 52}   \n",
       "722     {3: 109, 4: 108, 2: 79, 1: 60, 5: 52}   \n",
       "721     {3: 109, 4: 108, 2: 79, 1: 60, 5: 52}   \n",
       "720     {3: 109, 4: 108, 2: 79, 1: 60, 5: 52}   \n",
       "719     {4: 111, 3: 111, 2: 86, 1: 61, 5: 53}   \n",
       "718     {4: 111, 3: 111, 2: 86, 1: 61, 5: 53}   \n",
       "717     {4: 111, 3: 111, 2: 86, 1: 61, 5: 53}   \n",
       "716     {4: 111, 3: 111, 2: 86, 1: 61, 5: 53}   \n",
       "715     {4: 111, 3: 111, 2: 86, 1: 61, 5: 53}   \n",
       "714     {4: 111, 3: 111, 2: 86, 1: 61, 5: 53}   \n",
       "713     {4: 111, 3: 111, 2: 86, 1: 61, 5: 53}   \n",
       "712     {4: 111, 3: 111, 2: 86, 1: 61, 5: 53}   \n",
       "711     {4: 111, 3: 111, 2: 86, 1: 61, 5: 53}   \n",
       "710     {4: 111, 3: 111, 2: 86, 1: 61, 5: 53}   \n",
       "709     {4: 111, 3: 111, 2: 86, 1: 61, 5: 53}   \n",
       "708     {4: 111, 3: 111, 2: 86, 1: 61, 5: 53}   \n",
       "707     {4: 111, 3: 111, 2: 86, 1: 61, 5: 53}   \n",
       "706     {4: 111, 3: 111, 2: 86, 1: 61, 5: 53}   \n",
       "705     {4: 111, 3: 111, 2: 86, 1: 61, 5: 53}   \n",
       "704     {4: 111, 3: 111, 2: 86, 1: 61, 5: 53}   \n",
       "703     {4: 111, 3: 111, 2: 86, 1: 61, 5: 53}   \n",
       "702     {4: 111, 3: 111, 2: 86, 1: 61, 5: 53}   \n",
       "701     {4: 111, 3: 111, 2: 86, 1: 61, 5: 53}   \n",
       "700     {4: 111, 3: 111, 2: 86, 1: 61, 5: 53}   \n",
       "699     {4: 111, 3: 111, 2: 86, 1: 61, 5: 53}   \n",
       "..                                        ...   \n",
       "29   {5: 107, 4: 107, 3: 107, 2: 107, 1: 107}   \n",
       "28   {5: 107, 4: 107, 3: 107, 2: 107, 1: 107}   \n",
       "27   {5: 107, 4: 107, 3: 107, 2: 107, 1: 107}   \n",
       "26   {5: 107, 4: 107, 3: 107, 2: 107, 1: 107}   \n",
       "25   {5: 107, 4: 107, 3: 107, 2: 107, 1: 107}   \n",
       "24   {5: 107, 4: 107, 3: 107, 2: 107, 1: 107}   \n",
       "23   {5: 107, 4: 107, 3: 107, 2: 107, 1: 107}   \n",
       "22   {5: 107, 4: 107, 3: 107, 2: 107, 1: 107}   \n",
       "21   {5: 107, 4: 107, 3: 107, 2: 107, 1: 107}   \n",
       "20   {5: 107, 4: 107, 3: 107, 2: 107, 1: 107}   \n",
       "19   {5: 107, 4: 107, 3: 107, 2: 107, 1: 107}   \n",
       "18   {5: 107, 4: 107, 3: 107, 2: 107, 1: 107}   \n",
       "17   {5: 107, 4: 107, 3: 107, 2: 107, 1: 107}   \n",
       "16   {5: 107, 4: 107, 3: 107, 2: 107, 1: 107}   \n",
       "15   {5: 107, 4: 107, 3: 107, 2: 107, 1: 107}   \n",
       "14   {5: 107, 4: 107, 3: 107, 2: 107, 1: 107}   \n",
       "13   {5: 107, 4: 107, 3: 107, 2: 107, 1: 107}   \n",
       "12   {5: 107, 4: 107, 3: 107, 2: 107, 1: 107}   \n",
       "11   {5: 107, 4: 107, 3: 107, 2: 107, 1: 107}   \n",
       "10   {5: 107, 4: 107, 3: 107, 2: 107, 1: 107}   \n",
       "9    {5: 107, 4: 107, 3: 107, 2: 107, 1: 107}   \n",
       "8    {5: 107, 4: 107, 3: 107, 2: 107, 1: 107}   \n",
       "7    {5: 107, 4: 107, 3: 107, 2: 107, 1: 107}   \n",
       "6    {5: 107, 4: 107, 3: 107, 2: 107, 1: 107}   \n",
       "5    {5: 107, 4: 107, 3: 107, 2: 107, 1: 107}   \n",
       "4    {5: 107, 4: 107, 3: 107, 2: 107, 1: 107}   \n",
       "3    {5: 107, 4: 107, 3: 107, 2: 107, 1: 107}   \n",
       "2    {5: 107, 4: 107, 3: 107, 2: 107, 1: 107}   \n",
       "1    {5: 107, 4: 107, 3: 107, 2: 107, 1: 107}   \n",
       "0    {5: 107, 4: 107, 3: 107, 2: 107, 1: 107}   \n",
       "\n",
       "                                  y_dist  \n",
       "728   {3: 109, 4: 84, 2: 43, 1: 8, 5: 7}  \n",
       "727   {3: 109, 4: 84, 2: 43, 1: 8, 5: 7}  \n",
       "726   {3: 109, 4: 84, 2: 43, 1: 8, 5: 7}  \n",
       "725   {3: 109, 4: 84, 2: 43, 1: 8, 5: 7}  \n",
       "724   {3: 109, 4: 84, 2: 43, 1: 8, 5: 7}  \n",
       "723   {3: 109, 4: 84, 2: 43, 1: 8, 5: 7}  \n",
       "722   {3: 109, 4: 84, 2: 43, 1: 8, 5: 7}  \n",
       "721   {3: 109, 4: 84, 2: 43, 1: 8, 5: 7}  \n",
       "720   {3: 109, 4: 84, 2: 43, 1: 8, 5: 7}  \n",
       "719   {3: 111, 4: 77, 2: 47, 1: 9, 5: 7}  \n",
       "718   {3: 111, 4: 77, 2: 47, 1: 9, 5: 7}  \n",
       "717   {3: 111, 4: 77, 2: 47, 1: 9, 5: 7}  \n",
       "716   {3: 111, 4: 77, 2: 47, 1: 9, 5: 7}  \n",
       "715   {3: 111, 4: 77, 2: 47, 1: 9, 5: 7}  \n",
       "714   {3: 111, 4: 77, 2: 47, 1: 9, 5: 7}  \n",
       "713   {3: 111, 4: 77, 2: 47, 1: 9, 5: 7}  \n",
       "712   {3: 111, 4: 77, 2: 47, 1: 9, 5: 7}  \n",
       "711   {3: 111, 4: 77, 2: 47, 1: 9, 5: 7}  \n",
       "710   {3: 111, 4: 77, 2: 47, 1: 9, 5: 7}  \n",
       "709   {3: 111, 4: 77, 2: 47, 1: 9, 5: 7}  \n",
       "708   {3: 111, 4: 77, 2: 47, 1: 9, 5: 7}  \n",
       "707   {3: 111, 4: 77, 2: 47, 1: 9, 5: 7}  \n",
       "706   {3: 111, 4: 77, 2: 47, 1: 9, 5: 7}  \n",
       "705   {3: 111, 4: 77, 2: 47, 1: 9, 5: 7}  \n",
       "704   {3: 111, 4: 77, 2: 47, 1: 9, 5: 7}  \n",
       "703   {3: 111, 4: 77, 2: 47, 1: 9, 5: 7}  \n",
       "702   {3: 111, 4: 77, 2: 47, 1: 9, 5: 7}  \n",
       "701   {3: 111, 4: 77, 2: 47, 1: 9, 5: 7}  \n",
       "700   {3: 111, 4: 77, 2: 47, 1: 9, 5: 7}  \n",
       "699   {3: 111, 4: 77, 2: 47, 1: 9, 5: 7}  \n",
       "..                                   ...  \n",
       "29   {3: 107, 4: 80, 2: 48, 1: 10, 5: 6}  \n",
       "28   {3: 107, 4: 80, 2: 48, 1: 10, 5: 6}  \n",
       "27   {3: 107, 4: 80, 2: 48, 1: 10, 5: 6}  \n",
       "26   {3: 107, 4: 80, 2: 48, 1: 10, 5: 6}  \n",
       "25   {3: 107, 4: 80, 2: 48, 1: 10, 5: 6}  \n",
       "24   {3: 107, 4: 80, 2: 48, 1: 10, 5: 6}  \n",
       "23   {3: 107, 4: 80, 2: 48, 1: 10, 5: 6}  \n",
       "22   {3: 107, 4: 80, 2: 48, 1: 10, 5: 6}  \n",
       "21   {3: 107, 4: 80, 2: 48, 1: 10, 5: 6}  \n",
       "20   {3: 107, 4: 80, 2: 48, 1: 10, 5: 6}  \n",
       "19   {3: 107, 4: 80, 2: 48, 1: 10, 5: 6}  \n",
       "18   {3: 107, 4: 80, 2: 48, 1: 10, 5: 6}  \n",
       "17   {3: 107, 4: 80, 2: 48, 1: 10, 5: 6}  \n",
       "16   {3: 107, 4: 80, 2: 48, 1: 10, 5: 6}  \n",
       "15   {3: 107, 4: 80, 2: 48, 1: 10, 5: 6}  \n",
       "14   {3: 107, 4: 80, 2: 48, 1: 10, 5: 6}  \n",
       "13   {3: 107, 4: 80, 2: 48, 1: 10, 5: 6}  \n",
       "12   {3: 107, 4: 80, 2: 48, 1: 10, 5: 6}  \n",
       "11   {3: 107, 4: 80, 2: 48, 1: 10, 5: 6}  \n",
       "10   {3: 107, 4: 80, 2: 48, 1: 10, 5: 6}  \n",
       "9    {3: 107, 4: 80, 2: 48, 1: 10, 5: 6}  \n",
       "8    {3: 107, 4: 80, 2: 48, 1: 10, 5: 6}  \n",
       "7    {3: 107, 4: 80, 2: 48, 1: 10, 5: 6}  \n",
       "6    {3: 107, 4: 80, 2: 48, 1: 10, 5: 6}  \n",
       "5    {3: 107, 4: 80, 2: 48, 1: 10, 5: 6}  \n",
       "4    {3: 107, 4: 80, 2: 48, 1: 10, 5: 6}  \n",
       "3    {3: 107, 4: 80, 2: 48, 1: 10, 5: 6}  \n",
       "2    {3: 107, 4: 80, 2: 48, 1: 10, 5: 6}  \n",
       "1    {3: 107, 4: 80, 2: 48, 1: 10, 5: 6}  \n",
       "0    {3: 107, 4: 80, 2: 48, 1: 10, 5: 6}  \n",
       "\n",
       "[729 rows x 2 columns]"
      ]
     },
     "execution_count": 39,
     "metadata": {},
     "output_type": "execute_result"
    }
   ],
   "source": [
    "up_eval_res[['up_y_dist', 'y_dist']].iloc[::-1]"
   ]
  },
  {
   "cell_type": "code",
   "execution_count": 40,
   "metadata": {
    "collapsed": true
   },
   "outputs": [],
   "source": [
    "up_means = up_eval_res.groupby(keys).mean()[f1_choices]\n",
    "up_stds = up_eval_res.groupby(keys).std()[f1_choices]"
   ]
  },
  {
   "cell_type": "code",
   "execution_count": 41,
   "metadata": {
    "collapsed": true
   },
   "outputs": [
    {
     "name": "stdout",
     "output_type": "stream",
     "text": [
      "f1_type = test_f1_weighted\n"
     ]
    },
    {
     "data": {
      "text/html": [
       "<div>\n",
       "<style>\n",
       "    .dataframe thead tr:only-child th {\n",
       "        text-align: right;\n",
       "    }\n",
       "\n",
       "    .dataframe thead th {\n",
       "        text-align: left;\n",
       "    }\n",
       "\n",
       "    .dataframe tbody tr th {\n",
       "        vertical-align: top;\n",
       "    }\n",
       "</style>\n",
       "<table border=\"1\" class=\"dataframe\">\n",
       "  <thead>\n",
       "    <tr style=\"text-align: right;\">\n",
       "      <th></th>\n",
       "      <th></th>\n",
       "      <th></th>\n",
       "      <th></th>\n",
       "      <th>test_f1_weighted</th>\n",
       "    </tr>\n",
       "    <tr>\n",
       "      <th>smote_kind</th>\n",
       "      <th>model_name</th>\n",
       "      <th>feature_selection</th>\n",
       "      <th>ftr_combo_name</th>\n",
       "      <th></th>\n",
       "    </tr>\n",
       "  </thead>\n",
       "  <tbody>\n",
       "    <tr>\n",
       "      <th rowspan=\"2\" valign=\"top\">svm</th>\n",
       "      <th>XGBcls</th>\n",
       "      <th>None</th>\n",
       "      <th>RoadNet+Segment_TOTAL_~2014</th>\n",
       "      <td>0.539658</td>\n",
       "    </tr>\n",
       "    <tr>\n",
       "      <th>GDBcls</th>\n",
       "      <th>None</th>\n",
       "      <th>RoadNet+Segment_NO_TOTAL_~2014</th>\n",
       "      <td>0.533829</td>\n",
       "    </tr>\n",
       "  </tbody>\n",
       "</table>\n",
       "</div>"
      ],
      "text/plain": [
       "                                                                        test_f1_weighted\n",
       "smote_kind model_name feature_selection ftr_combo_name                                  \n",
       "svm        XGBcls     None              RoadNet+Segment_TOTAL_~2014             0.539658\n",
       "           GDBcls     None              RoadNet+Segment_NO_TOTAL_~2014          0.533829"
      ]
     },
     "execution_count": 41,
     "metadata": {},
     "output_type": "execute_result"
    },
    {
     "data": {
      "image/png": "[encoded data removed]",
      "text/plain": [
       "<matplotlib.figure.Figure at 0x7f4dc4e3f710>"
      ]
     },
     "metadata": {},
     "output_type": "display_data"
    }
   ],
   "source": [
    "f1_type = f1_choices[0]\n",
    "print('f1_type =', f1_type)\n",
    "\n",
    "up_means_to_plot = up_means[[f1_type]].sort_values(f1_type, ascending=True)\n",
    "up_stds_to_plot = up_stds[[f1_type]]\n",
    "\n",
    "up_means_to_plot.iloc[-5:].plot(kind='barh', figsize=(10,7), xerr=stds_to_plot)\n",
    "up_means_to_plot.iloc[:-3:-1,:]"
   ]
  },
  {
   "cell_type": "code",
   "execution_count": 30,
   "metadata": {},
   "outputs": [],
   "source": [
    "means_for_pivot = up_means.reset_index()\n",
    "means_for_pivot['key'] = means_for_pivot.apply(lambda x: (x.model_name, x.feature_selection), axis=1)\n",
    "table = means_for_pivot.reset_index().pivot(index='key', columns='ftr_combo_name', values=f1_type)\n",
    "table.columns.name = f1_type"
   ]
  },
  {
   "cell_type": "code",
   "execution_count": 67,
   "metadata": {
    "scrolled": true
   },
   "outputs": [],
   "source": [
    "key_cols = ['model_name', 'feature_selection', 'smote_kind']\n",
    "table = get_paper_table(up_means, f1_type, key_cols)\n",
    "table.to_csv('deliverables/EXP3 upsampling table.csv', encoding='utf8')"
   ]
  },
  {
   "cell_type": "code",
   "execution_count": null,
   "metadata": {
    "collapsed": true
   },
   "outputs": [],
   "source": [
    "on_train_grid_res = get_up_result('upsample_smote', 'grid')"
   ]
  },
  {
   "cell_type": "code",
   "execution_count": null,
   "metadata": {
    "collapsed": true,
    "scrolled": true
   },
   "outputs": [],
   "source": [
    "on_train_grid_res[on_train_grid_res['kind']=='cls'].groupby(keys).mean()[['mean_test']]"
   ]
  },
  {
   "cell_type": "markdown",
   "metadata": {},
   "source": [
    "# downsample result"
   ]
  },
  {
   "cell_type": "code",
   "execution_count": 68,
   "metadata": {
    "collapsed": true
   },
   "outputs": [],
   "source": [
    "from csl_downsampling_exp3_v2 import DOWN_SEEDS"
   ]
  },
  {
   "cell_type": "code",
   "execution_count": 69,
   "metadata": {
    "collapsed": true
   },
   "outputs": [],
   "source": [
    "def get_down_result(eval_or_grid):\n",
    "    res = []\n",
    "\n",
    "    for seed in SEEDS:\n",
    "        exp_path = 'data/up_down_experiment_v2/seed_%d' % seed\n",
    "        smote_path = '%s/downsample' % (exp_path)\n",
    "\n",
    "        try:\n",
    "            df = pd.read_csv('%s/%s_res.csv' % (smote_path, eval_or_grid), index_col=0)\n",
    "            df['seed'] = seed\n",
    "            res.append(df)\n",
    "        except FileNotFoundError:\n",
    "            print('no %s_res in' % eval_or_grid, smote_path)\n",
    "\n",
    "    res = pd.concat(res, ignore_index=True)\n",
    "    return res"
   ]
  },
  {
   "cell_type": "code",
   "execution_count": 70,
   "metadata": {
    "collapsed": true
   },
   "outputs": [],
   "source": [
    "down_res = get_down_result('eval')"
   ]
  },
  {
   "cell_type": "code",
   "execution_count": 71,
   "metadata": {
    "collapsed": true
   },
   "outputs": [],
   "source": [
    "down_keys = ['model_name', 'feature_selection', 'ftr_combo_name']"
   ]
  },
  {
   "cell_type": "code",
   "execution_count": 73,
   "metadata": {
    "collapsed": true
   },
   "outputs": [],
   "source": [
    "down_means = down_res.groupby(down_keys).mean()[f1_choices]\n",
    "down_stds = down_res.groupby(down_keys).std()[f1_choices]"
   ]
  },
  {
   "cell_type": "code",
   "execution_count": 17,
   "metadata": {
    "collapsed": true,
    "scrolled": true
   },
   "outputs": [],
   "source": [
    "# down_res.groupby(down_keys).count()[f1_choices]"
   ]
  },
  {
   "cell_type": "code",
   "execution_count": 74,
   "metadata": {},
   "outputs": [
    {
     "name": "stdout",
     "output_type": "stream",
     "text": [
      "f1_type = test_f1_weighted\n"
     ]
    },
    {
     "data": {
      "text/html": [
       "<div>\n",
       "<style>\n",
       "    .dataframe thead tr:only-child th {\n",
       "        text-align: right;\n",
       "    }\n",
       "\n",
       "    .dataframe thead th {\n",
       "        text-align: left;\n",
       "    }\n",
       "\n",
       "    .dataframe tbody tr th {\n",
       "        vertical-align: top;\n",
       "    }\n",
       "</style>\n",
       "<table border=\"1\" class=\"dataframe\">\n",
       "  <thead>\n",
       "    <tr style=\"text-align: right;\">\n",
       "      <th></th>\n",
       "      <th></th>\n",
       "      <th></th>\n",
       "      <th>test_f1_weighted</th>\n",
       "    </tr>\n",
       "    <tr>\n",
       "      <th>model_name</th>\n",
       "      <th>feature_selection</th>\n",
       "      <th>ftr_combo_name</th>\n",
       "      <th></th>\n",
       "    </tr>\n",
       "  </thead>\n",
       "  <tbody>\n",
       "    <tr>\n",
       "      <th rowspan=\"2\" valign=\"top\">XGBreg</th>\n",
       "      <th>mrmr</th>\n",
       "      <th>RoadNet+Segment_TOTAL_~2014</th>\n",
       "      <td>0.391959</td>\n",
       "    </tr>\n",
       "    <tr>\n",
       "      <th>None</th>\n",
       "      <th>RoadNet+Segment_TOTAL_~2014</th>\n",
       "      <td>0.391959</td>\n",
       "    </tr>\n",
       "  </tbody>\n",
       "</table>\n",
       "</div>"
      ],
      "text/plain": [
       "                                                          test_f1_weighted\n",
       "model_name feature_selection ftr_combo_name                               \n",
       "XGBreg     mrmr              RoadNet+Segment_TOTAL_~2014          0.391959\n",
       "           None              RoadNet+Segment_TOTAL_~2014          0.391959"
      ]
     },
     "execution_count": 74,
     "metadata": {},
     "output_type": "execute_result"
    },
    {
     "data": {
      "image/png": "[encoded data removed]",
      "text/plain": [
       "<matplotlib.figure.Figure at 0x7f4dc4cec278>"
      ]
     },
     "metadata": {},
     "output_type": "display_data"
    }
   ],
   "source": [
    "f1_type = f1_choices[0]\n",
    "print('f1_type =', f1_type)\n",
    "\n",
    "down_means_to_plot = down_means[[f1_type]].sort_values(f1_type, ascending=True)\n",
    "down_stds_to_plot = down_stds[[f1_type]]\n",
    "\n",
    "down_means_to_plot.iloc[-5:].plot(kind='barh', figsize=(10,7), xerr=stds_to_plot)\n",
    "down_means_to_plot.iloc[:-3:-1,:]"
   ]
  },
  {
   "cell_type": "code",
   "execution_count": 75,
   "metadata": {
    "collapsed": true,
    "scrolled": true
   },
   "outputs": [],
   "source": [
    "key_cols = ['model_name', 'feature_selection']\n",
    "table = get_paper_table(down_means, f1_type, key_cols)\n",
    "table.to_csv('deliverables/EXP3 downsampling table.csv', encoding='utf8')"
   ]
  }
 ],
 "metadata": {
  "kernelspec": {
   "display_name": "Python [default]",
   "language": "python",
   "name": "python3"
  },
  "language_info": {
   "codemirror_mode": {
    "name": "ipython",
    "version": 3
   },
   "file_extension": ".py",
   "mimetype": "text/x-python",
   "name": "python",
   "nbconvert_exporter": "python",
   "pygments_lexer": "ipython3",
   "version": "3.6.2"
  }
 },
 "nbformat": 4,
 "nbformat_minor": 2
}
