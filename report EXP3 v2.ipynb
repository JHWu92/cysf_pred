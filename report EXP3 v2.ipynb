{
 "cells": [
  {
   "cell_type": "code",
   "execution_count": null,
   "metadata": {
    "collapsed": true
   },
   "outputs": [],
   "source": [
    "# best 3 solutions based on EXP1 in turns of f1 weighted is:\n",
    "# XGBcls, RoadNet+Segment TOTAL, 0.5284741533025521\n",
    "# XGBreg, RoadNet+Segment NO_TOTAL, 0.541270\n",
    "# GDBcls, RoadNet+Segment TOTAL, 0.5107103184755486\n",
    "# with ~2014, min-max, no feature selection"
   ]
  },
  {
   "cell_type": "code",
   "execution_count": null,
   "metadata": {
    "collapsed": true
   },
   "outputs": [],
   "source": [
    "import pandas as pd\n",
    "%matplotlib inline"
   ]
  },
  {
   "cell_type": "code",
   "execution_count": null,
   "metadata": {
    "collapsed": true
   },
   "outputs": [],
   "source": [
    "from src.experiment_based_function import SEEDS"
   ]
  },
  {
   "cell_type": "code",
   "execution_count": null,
   "metadata": {
    "collapsed": true
   },
   "outputs": [],
   "source": [
    "f1_choices = ['test_f1_weighted', 'test_f1_macro', 'test_f1_micro']"
   ]
  },
  {
   "cell_type": "markdown",
   "metadata": {},
   "source": [
    "# Upsample result"
   ]
  },
  {
   "cell_type": "code",
   "execution_count": null,
   "metadata": {
    "collapsed": true
   },
   "outputs": [],
   "source": [
    "def get_up_result(upsample_type, eval_or_grid):\n",
    "    res = []\n",
    "\n",
    "    for smote_kind in ['regular', 'svm']:\n",
    "        for seed in SEEDS:\n",
    "            exp_path = 'data/up_down_experiment_v2/seed_%d' % seed\n",
    "            smote_path = '%s/%s_%s' % (exp_path, upsample_type, smote_kind)\n",
    "            try:\n",
    "                df = pd.read_csv('%s/%s_res.csv' % (smote_path, eval_or_grid), index_col=0)\n",
    "                df['seed'] = seed\n",
    "                df['smote_kind'] = smote_kind\n",
    "                res.append(df)\n",
    "            except FileNotFoundError:\n",
    "                print('no %s_res in' % eval_or_grid, smote_path)\n",
    "\n",
    "    res = pd.concat(res, ignore_index=True)\n",
    "    return res"
   ]
  },
  {
   "cell_type": "code",
   "execution_count": null,
   "metadata": {},
   "outputs": [],
   "source": [
    "keys = ['smote_kind', 'model_name', 'feature_selection', 'ftr_combo_name']"
   ]
  },
  {
   "cell_type": "code",
   "execution_count": null,
   "metadata": {
    "collapsed": true
   },
   "outputs": [],
   "source": [
    "up_eval_res = get_up_result('upsample_smote', 'eval')"
   ]
  },
  {
   "cell_type": "code",
   "execution_count": null,
   "metadata": {
    "collapsed": true
   },
   "outputs": [],
   "source": [
    "up_eval_res[['up_y_dist', 'y_dist']].iloc[::-1]"
   ]
  },
  {
   "cell_type": "code",
   "execution_count": null,
   "metadata": {
    "collapsed": true
   },
   "outputs": [],
   "source": [
    "means = up_eval_res.groupby(keys).mean()[f1_choices]\n",
    "stds = up_eval_res.groupby(keys).std()[f1_choices]"
   ]
  },
  {
   "cell_type": "code",
   "execution_count": null,
   "metadata": {
    "collapsed": true
   },
   "outputs": [],
   "source": [
    "means = up_eval_res.groupby(keys).mean()[f1_choices]\n",
    "stds = up_eval_res.groupby(keys).std()[f1_choices]"
   ]
  },
  {
   "cell_type": "code",
   "execution_count": null,
   "metadata": {},
   "outputs": [],
   "source": [
    "f1_type = f1_choices[0]\n",
    "print('f1_type =', f1_type)\n",
    "\n",
    "means_to_plot = means[[f1_type]].sort_values(f1_type, ascending=True)\n",
    "stds_to_plot = stds[[f1_type]]\n",
    "\n",
    "means_to_plot.iloc[-5:].plot(kind='barh', figsize=(10,7), xerr=stds_to_plot)\n",
    "means_to_plot.iloc[:-3:-1,:]"
   ]
  },
  {
   "cell_type": "code",
   "execution_count": null,
   "metadata": {},
   "outputs": [],
   "source": [
    "on_train_grid_res = get_up_result('upsample_smote', 'grid')"
   ]
  },
  {
   "cell_type": "code",
   "execution_count": null,
   "metadata": {
    "scrolled": true
   },
   "outputs": [],
   "source": [
    "on_train_grid_res[on_train_grid_res['kind']=='cls'].groupby(keys).mean()[['mean_test']]"
   ]
  },
  {
   "cell_type": "markdown",
   "metadata": {},
   "source": [
    "# downsample result"
   ]
  },
  {
   "cell_type": "code",
   "execution_count": null,
   "metadata": {
    "collapsed": true
   },
   "outputs": [],
   "source": [
    "from csl_downsampling_exp3_v2 import DOWN_SEEDS"
   ]
  },
  {
   "cell_type": "code",
   "execution_count": null,
   "metadata": {
    "collapsed": true
   },
   "outputs": [],
   "source": [
    "def get_down_result(eval_or_grid):\n",
    "    res = []\n",
    "\n",
    "    for seed in SEEDS:\n",
    "        exp_path = 'data/up_down_experiment_v2/seed_%d' % seed\n",
    "        smote_path = '%s/downsample' % (exp_path)\n",
    "\n",
    "        try:\n",
    "            df = pd.read_csv('%s/%s_res.csv' % (smote_path, eval_or_grid), index_col=0)\n",
    "            df['seed'] = seed\n",
    "            res.append(df)\n",
    "        except FileNotFoundError:\n",
    "            print('no %s_res in' % eval_or_grid, smote_path)\n",
    "\n",
    "    res = pd.concat(res, ignore_index=True)\n",
    "    return res"
   ]
  },
  {
   "cell_type": "code",
   "execution_count": null,
   "metadata": {},
   "outputs": [],
   "source": [
    "down_res = get_down_result('eval')"
   ]
  },
  {
   "cell_type": "code",
   "execution_count": null,
   "metadata": {
    "collapsed": true
   },
   "outputs": [],
   "source": [
    "down_keys = ['model_name', 'feature_selection', 'ftr_combo_name']"
   ]
  },
  {
   "cell_type": "code",
   "execution_count": null,
   "metadata": {},
   "outputs": [],
   "source": [
    "means = down_res.groupby(down_keys).mean()[f1_choices]\n",
    "stds = down_res.groupby(down_keys).std()[f1_choices]"
   ]
  },
  {
   "cell_type": "code",
   "execution_count": null,
   "metadata": {
    "scrolled": true
   },
   "outputs": [],
   "source": [
    "# down_res.groupby(down_keys).count()[f1_choices]"
   ]
  },
  {
   "cell_type": "code",
   "execution_count": null,
   "metadata": {},
   "outputs": [],
   "source": [
    "f1_type = f1_choices[0]\n",
    "print('f1_type =', f1_type)\n",
    "\n",
    "means_to_plot = means[[f1_type]].sort_values(f1_type, ascending=True)\n",
    "stds_to_plot = stds[[f1_type]]\n",
    "\n",
    "means_to_plot.iloc[-5:].plot(kind='barh', figsize=(10,7), xerr=stds_to_plot)\n",
    "means_to_plot.iloc[:-3:-1,:]"
   ]
  },
  {
   "cell_type": "code",
   "execution_count": null,
   "metadata": {
    "collapsed": true
   },
   "outputs": [],
   "source": []
  }
 ],
 "metadata": {
  "kernelspec": {
   "display_name": "Python [default]",
   "language": "python",
   "name": "python3"
  },
  "language_info": {
   "codemirror_mode": {
    "name": "ipython",
    "version": 3
   },
   "file_extension": ".py",
   "mimetype": "text/x-python",
   "name": "python",
   "nbconvert_exporter": "python",
   "pygments_lexer": "ipython3",
   "version": "3.6.2"
  }
 },
 "nbformat": 4,
 "nbformat_minor": 2
}
