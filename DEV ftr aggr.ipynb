{
 "cells": [
  {
   "cell_type": "code",
   "execution_count": 27,
   "metadata": {
    "collapsed": true
   },
   "outputs": [],
   "source": [
    "import pandas as pd\n",
    "from src.constants import fn_features_dc, dir_data, features_for_total\n",
    "from wKit.ML.dprep import fillna_group_mean\n",
    "from wKit.ML.feature_selection import has_value_thres\n",
    "from src.ftr_aggregate import filter_total, filter_year"
   ]
  },
  {
   "cell_type": "code",
   "execution_count": 48,
   "metadata": {},
   "outputs": [],
   "source": [
    "def load_features(lts, drop_na_thres=0.1, how='TOTAL', years=(2014,2015,2016,2017)):\n",
    "    \"\"\"\n",
    "    filter data with year month by year\n",
    "    filter data to either total count only or divided by different types\n",
    "    filter data(columns) if has values< thres (whole population is decided by lts)\n",
    "    fill na with group means for ['moving', 'parking', 'crash']\n",
    "    \"\"\"\n",
    "    seg_type = pd.read_csv('data/seg_street_type.csv')\n",
    "    fillna_by_group_names = ['moving', 'parking', 'crash']\n",
    "    joint_features = []\n",
    "    for name, fn in fn_features_dc.items():\n",
    "        print 'loading', name, fn\n",
    "        ftr = pd.read_csv(dir_data + fn, index_col=0)\n",
    "        ftr = filter_year(ftr, years=years)\n",
    "\n",
    "        if name in features_for_total:\n",
    "            ftr = filter_total(ftr, name, how=how)\n",
    "        \n",
    "        # ftr aggregated to one item matches one segment\n",
    "        ftr = ftr.groupby(level=0).sum()\n",
    "        \n",
    "        # get complete list of segments\n",
    "        ftr = lts.merge(ftr, left_index=True, right_index=True, how='left').drop('LTS', axis=1)\n",
    "        \n",
    "        # filter columns with too many NA\n",
    "        keep_col = has_value_thres(ftr, thres=drop_na_thres)\n",
    "        keep_col = keep_col[keep_col].index.tolist()\n",
    "        print 'all columns #:', ftr.shape[1], 'columns pass NA thres:', len(keep_col),'\\n'\n",
    "        ftr = ftr[keep_col]\n",
    "        \n",
    "        # fillna by means of segment types, if applicable\n",
    "        if name in fillna_by_group_names:\n",
    "            ftr = fillna_group_mean(ftr, seg_type)\n",
    "        \n",
    "        joint_features.append(ftr)\n",
    "    \n",
    "    joint_features = reduce(lambda x, y: pd.merge(x, y, left_index=True, right_index=True, how='outer'), joint_features)\n",
    "    \n",
    "    print 'fill the rest NA with 0'\n",
    "    joint_features.fillna(0, inplace=True)\n",
    "    return joint_features"
   ]
  },
  {
   "cell_type": "code",
   "execution_count": 8,
   "metadata": {},
   "outputs": [],
   "source": [
    "lts  = pd.read_csv('data/feature_lts_dc.csv',index_col=0)"
   ]
  },
  {
   "cell_type": "code",
   "execution_count": 49,
   "metadata": {
    "collapsed": true
   },
   "outputs": [
    {
     "name": "stdout",
     "output_type": "stream",
     "text": [
      "loading seg_attr feature_seg_attribute_dc.csv\n",
      "all columns #: 20 columns pass NA thres: 20 \n",
      "\n",
      "loading crash feature_crash_dc.csv\n",
      "all columns #: 49 columns pass NA thres: 11 \n",
      "\n",
      "loading 311 feature_311_dc.csv\n",
      "all columns #: 72 columns pass NA thres: 72 \n",
      "\n",
      "loading parking feature_parking_violations_dc.csv\n",
      "all columns #: 254 columns pass NA thres: 36 \n",
      "\n",
      "loading v0 feature_vision0_dc.csv\n",
      "all columns #: 20 columns pass NA thres: 20 \n",
      "\n",
      "loading moving feature_mov_violations_dc.csv\n",
      "all columns #: 349 columns pass NA thres: 8 \n",
      "\n",
      "loading poi feature_poi_dc.csv\n",
      "all columns #: 10 columns pass NA thres: 10 \n",
      "\n",
      "loading bk_osm feature_bk_facs_dc.csv\n",
      "all columns #: 13 columns pass NA thres: 13 \n",
      "\n",
      "loading net_SaE feature_seg_as_edge_dc.csv\n",
      "all columns #: 3 columns pass NA thres: 3 \n",
      "\n",
      "loading net_SaN feature_seg_as_node_dc.csv\n",
      "all columns #: 20 columns pass NA thres: 20 \n",
      "\n",
      "loading crime feature_crime_dc.csv\n",
      "all columns #: 12 columns pass NA thres: 11 \n",
      "\n",
      "loading bk_opendc feature_bk_opendc_dc.csv\n",
      "all columns #: 6 columns pass NA thres: 6 \n",
      "\n",
      "fill the rest NA with 0\n"
     ]
    }
   ],
   "source": [
    "ftrs = load_features(lts, how='NO_TOTAL')"
   ]
  },
  {
   "cell_type": "code",
   "execution_count": 51,
   "metadata": {},
   "outputs": [
    {
     "data": {
      "text/plain": [
       "(13293, 230)"
      ]
     },
     "execution_count": 51,
     "metadata": {},
     "output_type": "execute_result"
    }
   ],
   "source": [
    "ftrs.shape"
   ]
  },
  {
   "cell_type": "code",
   "execution_count": 9,
   "metadata": {},
   "outputs": [
    {
     "data": {
      "text/plain": [
       "(13293, 21)"
      ]
     },
     "execution_count": 9,
     "metadata": {},
     "output_type": "execute_result"
    }
   ],
   "source": [
    "lts.merge(dfs[0], left_index=True, right_index=True, how='outer').shape"
   ]
  },
  {
   "cell_type": "code",
   "execution_count": 11,
   "metadata": {},
   "outputs": [],
   "source": [
    "years = (2014, 2015, 2016, 2017)\n",
    "total_or_not = 'TOTAL'"
   ]
  },
  {
   "cell_type": "code",
   "execution_count": 21,
   "metadata": {},
   "outputs": [
    {
     "data": {
      "text/plain": [
       "(13293, 65)"
      ]
     },
     "execution_count": 21,
     "metadata": {},
     "output_type": "execute_result"
    }
   ],
   "source": [
    "from src.ftr_aggregate import load_joint_features\n",
    "\n",
    "ftr, col2code = load_joint_features(years=years, how=total_or_not, na=None)\n",
    "\n",
    "ftr = lts.merge(ftr, left_index=True, right_index=True, how='left').drop('LTS', axis=1)\n",
    "ftr.shape"
   ]
  },
  {
   "cell_type": "code",
   "execution_count": 22,
   "metadata": {
    "scrolled": true
   },
   "outputs": [
    {
     "data": {
      "text/plain": [
       "v0_total                       8542\n",
       "moving_total                   6096\n",
       "crash_total                    3812\n",
       "parking_total                  2812\n",
       "311_total_not_parking_meter     584\n",
       "311_total                       584\n",
       "crime_total                     432\n",
       "ud_bridge_SgAsEg                  0\n",
       "d_btw_cntr_SgAsEg                 0\n",
       "STREETTYPE_ST                     0\n",
       "SEGMENTTYPE_3                     0\n",
       "SEGMENTTYPE_2                     0\n",
       "SEGMENTTYPE_1                     0\n",
       "ud_btw_cntr_SgAsEg                0\n",
       "STREETTYPE_WAY                    0\n",
       "poi_total                         0\n",
       "d_auth_score_SgAsNd               0\n",
       "STREETTYPE_TER                    0\n",
       "bikable_yes                       0\n",
       "STREETTYPE_RD                     0\n",
       "d_clo_cntr_SgAsNd                 0\n",
       "STREETTYPE_PL                     0\n",
       "STREETTYPE_PKWY                   0\n",
       "STREETTYPE_OTHER                  0\n",
       "STREETTYPE_LN                     0\n",
       "STREETTYPE_DR                     0\n",
       "STREETTYPE_CT                     0\n",
       "STREETTYPE_CRES                   0\n",
       "STREETTYPE_CIR                    0\n",
       "STREETTYPE_BLVD                   0\n",
       "                               ... \n",
       "d_far_cntr_SgAsNd                 0\n",
       "d_hub_score_SgAsNd                0\n",
       "side_walk_right                   0\n",
       "side_walk_no                      0\n",
       "side_walk_left                    0\n",
       "side_walk_both                    0\n",
       "cycle_way_right                   0\n",
       "cycle_way_one                     0\n",
       "cycle_way_both                    0\n",
       "cycle_lane_right                  0\n",
       "cycle_lane_one                    0\n",
       "cycle_lane_both                   0\n",
       "is_shared                         0\n",
       "bkdc_total                        0\n",
       "ud_page_rank_SgAsNd               0\n",
       "ud_node_ecc_SgAsNd                0\n",
       "ud_hub_score_SgAsNd               0\n",
       "ud_far_cntr_SgAsNd                0\n",
       "ud_eig_cntr_SgAsNd                0\n",
       "ud_deg_cntr_SgAsNd                0\n",
       "ud_clo_cntr_SgAsNd                0\n",
       "ud_btw_cntr_SgAsNd                0\n",
       "ud_bridge_SgAsNd                  0\n",
       "ud_auth_score_SgAsNd              0\n",
       "ud_art_pt_SgAsNd                  0\n",
       "d_page_rank_SgAsNd                0\n",
       "d_out_deg_SgAsNd                  0\n",
       "d_node_ecc_SgAsNd                 0\n",
       "bikable_no                        0\n",
       "SHAPE_Length                      0\n",
       "Length: 65, dtype: int64"
      ]
     },
     "execution_count": 22,
     "metadata": {},
     "output_type": "execute_result"
    }
   ],
   "source": [
    "ftr.isnull().sum().sort_values(ascending=False)"
   ]
  },
  {
   "cell_type": "code",
   "execution_count": null,
   "metadata": {
    "collapsed": true
   },
   "outputs": [],
   "source": []
  }
 ],
 "metadata": {
  "anaconda-cloud": {},
  "kernelspec": {
   "display_name": "Python 3",
   "language": "python",
   "name": "python3"
  },
  "language_info": {
   "codemirror_mode": {
    "name": "ipython",
    "version": 3
   },
   "file_extension": ".py",
   "mimetype": "text/x-python",
   "name": "python",
   "nbconvert_exporter": "python",
   "pygments_lexer": "ipython3",
   "version": "3.6.1"
  }
 },
 "nbformat": 4,
 "nbformat_minor": 2
}
