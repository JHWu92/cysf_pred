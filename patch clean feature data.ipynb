{
 "cells": [
  {
   "cell_type": "markdown",
   "metadata": {},
   "source": [
    "patch purpose:\n",
    "\n",
    "1. drop lts==10\n",
    "2. for those applicable, fillna with 0\n",
    "3. replace street type with small population with \"other\""
   ]
  },
  {
   "cell_type": "code",
   "execution_count": 1,
   "metadata": {
    "collapsed": true
   },
   "outputs": [],
   "source": [
    "from src.constants import fn_features_dc, fn_target_lts_dc, dir_data"
   ]
  },
  {
   "cell_type": "code",
   "execution_count": 2,
   "metadata": {
    "collapsed": true
   },
   "outputs": [],
   "source": [
    "import pandas as pd"
   ]
  },
  {
   "cell_type": "code",
   "execution_count": 3,
   "metadata": {
    "collapsed": false
   },
   "outputs": [],
   "source": [
    "lts = pd.read_csv(dir_data+fn_target_lts_dc, index_col=0)\n",
    "lts = lts[lts.LTS != 10].dropna()\n",
    "lts.to_csv(dir_data+fn_target_lts_dc)"
   ]
  },
  {
   "cell_type": "code",
   "execution_count": 4,
   "metadata": {
    "collapsed": false
   },
   "outputs": [
    {
     "data": {
      "text/plain": [
       "(13293, 1)"
      ]
     },
     "execution_count": 4,
     "metadata": {},
     "output_type": "execute_result"
    }
   ],
   "source": [
    "lts.shape"
   ]
  },
  {
   "cell_type": "code",
   "execution_count": 5,
   "metadata": {
    "collapsed": false
   },
   "outputs": [],
   "source": [
    "seg_attr = pd.read_csv(dir_data+fn_features_dc['seg_attr'],index_col=0)\n",
    "\n",
    "streettype = seg_attr.STREETTYPE.value_counts()\n",
    "other = streettype[streettype<=20].index\n",
    "seg_attr.STREETTYPE = seg_attr.STREETTYPE.apply(lambda x: x if x not in other else 'OTHER')\n",
    "\n",
    "stype = seg_attr.STREETTYPE.to_frame()\n",
    "stype.index.name = 'index'\n",
    "stype.columns = ['name']\n",
    "stype.to_csv(dir_data + 'seg_street_type.csv')\n",
    "\n",
    "\n",
    "seg_attr.SEGMENTTYPE = seg_attr.SEGMENTTYPE.astype(str)\n",
    "seg_attr = pd.get_dummies(seg_attr)\n",
    "lts.drop('LTS', axis=1).merge(seg_attr, how='left', left_index=True, right_index=True).fillna(0).to_csv(dir_data+fn_features_dc['seg_attr'])"
   ]
  },
  {
   "cell_type": "code",
   "execution_count": 7,
   "metadata": {
    "collapsed": true
   },
   "outputs": [],
   "source": [
    "nais0 = ['311','bk_opendc', 'bk_osm', 'poi', 'net_SaE', 'net_SaN', 'v0']"
   ]
  },
  {
   "cell_type": "code",
   "execution_count": 8,
   "metadata": {
    "collapsed": false
   },
   "outputs": [],
   "source": [
    "for fn in nais0:\n",
    "    df = pd.read_csv(dir_data+fn_features_dc[fn], index_col=0)\n",
    "    df = pd.get_dummies(df)\n",
    "    if 'index_seg' in df.columns:\n",
    "        df.set_index('index_seg', inplace=True)\n",
    "    new_df = lts.drop('LTS', axis=1).merge(\n",
    "        df, right_index=True, left_index=True, how='left').fillna(0)\n",
    "    new_df.to_csv(dir_data+fn_features_dc[fn])\n",
    "#     break"
   ]
  },
  {
   "cell_type": "code",
   "execution_count": 9,
   "metadata": {
    "collapsed": true
   },
   "outputs": [],
   "source": [
    "for key, fn in fn_features_dc.items():\n",
    "    df = pd.read_csv(dir_data+fn, index_col=0)\n",
    "    if 'index_seg' in df.columns:\n",
    "        df.set_index('index_seg', inplace=True)\n",
    "        df.to_csv(dir_data + fn)"
   ]
  },
  {
   "cell_type": "code",
   "execution_count": null,
   "metadata": {
    "collapsed": true
   },
   "outputs": [],
   "source": []
  }
 ],
 "metadata": {
  "anaconda-cloud": {},
  "kernelspec": {
   "display_name": "Python [default]",
   "language": "python",
   "name": "python2"
  },
  "language_info": {
   "codemirror_mode": {
    "name": "ipython",
    "version": 2
   },
   "file_extension": ".py",
   "mimetype": "text/x-python",
   "name": "python",
   "nbconvert_exporter": "python",
   "pygments_lexer": "ipython2",
   "version": "2.7.13"
  }
 },
 "nbformat": 4,
 "nbformat_minor": 2
}
