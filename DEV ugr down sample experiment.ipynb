{
 "cells": [
  {
   "cell_type": "code",
   "execution_count": 7,
   "metadata": {
    "collapsed": true
   },
   "outputs": [],
   "source": [
    "import pandas as pd\n",
    "import pickle"
   ]
  },
  {
   "cell_type": "code",
   "execution_count": 2,
   "metadata": {
    "collapsed": true
   },
   "outputs": [],
   "source": [
    "y_all = pd.read_csv('data/y_ugr_all.csv', index_col=0)"
   ]
  },
  {
   "cell_type": "code",
   "execution_count": 11,
   "metadata": {},
   "outputs": [],
   "source": [
    "totals = ['NO_TOTAL', 'TOTAL']\n",
    "years_choices = [('~2014', (2014, 2015, 2016, 2017)), ('~2016', (2016, 2017)), ]\n",
    "features_org = {}\n",
    "features_all = {}\n",
    "\n",
    "for total_or_not in totals:\n",
    "    for year_type, years in years_choices:\n",
    "        ftr = pd.read_csv('data/x_%s_%s.csv' % (total_or_not, year_type), index_col=0)\n",
    "        cols_by_type = pickle.load(open('data/x_%s_%s_cols_by_type.pkl' % (total_or_not, year_type), 'rb'))\n",
    "        features_org[(total_or_not, year_type)] = (ftr, cols_by_type)\n",
    "        features_all[(total_or_not, year_type)] = (ftr.loc[y_all.index], cols_by_type)"
   ]
  },
  {
   "cell_type": "code",
   "execution_count": null,
   "metadata": {
    "collapsed": true
   },
   "outputs": [],
   "source": [
    "test_y = y_all.ugr\n",
    "\n",
    "for seed in [0, 100, 972, 5258, 7821, 40918, 57852, 168352, 291592, 789729423]:\n",
    "    for frac in [0.2, 0.4, 0.6, 0.8]:\n",
    "        exp_path = 'data/downsample_experiment/seed_%d/frac_%.2f' % (seed, frac)\n",
    "        mkdirs_if_not_exist(exp_path)\n",
    "        print(dtm.now(), 'experiment top dir =', exp_path)\n",
    "        y_frac = pd.read_csv('data/downsample_experiment/seed_%d/y_ugr_all_frac_%.2f.csv' % (seed, frac))\n",
    "        train_y = y_frac.ugr\n",
    "        \n",
    "        for total_or_not in ['NO_TOTAL', 'TOTAL']:\n",
    "            for year_type, years in [('~2014', (2014, 2015, 2016, 2017)), ('~2016', (2016, 2017)), ]:\n",
    "\n",
    "                print(dtm.now(), 'loading features', total_or_not, year_type)\n",
    "                ftr_org, cols_by_type = features_org[(total_or_not, year_type)]\n",
    "                train_x = ftr_org.loc[train_y.index]\n",
    "                test_x = features_all[(total_or_not, year_type)][0]\n",
    "                ftr_name = train_x.columns\n",
    "                \n",
    "                max_cut_cols = get_max_cut_cols(cols_by_type)\n",
    "                \n",
    "                for max_cut in (True, False,):\n",
    "                    for selection_type in ['None', 'rfecv_linsvc', 'mrmr']:\n",
    "                        exp_param = '#'.join(\n",
    "                            [total_or_not, year_type, 'max_cut' if max_cut else 'minmax_only', selection_type])\n",
    "                        exp_param_path = '%s/%s' % (exp_path, exp_param)\n",
    "                        mkdirs_if_not_exist(exp_param_path)\n",
    "                        print(dtm.now(), 'experiment with', exp_param)\n",
    "                        gridcv_ready = scale_and_selection(train_x, train_y, test_x, test_y, selection_type, max_cut)\n",
    "                        grid_eval(gridcv_ready, exp_param_path, ftr_name)"
   ]
  },
  {
   "cell_type": "code",
   "execution_count": 15,
   "metadata": {},
   "outputs": [
    {
     "data": {
      "text/plain": [
       "(13522, 64)"
      ]
     },
     "execution_count": 15,
     "metadata": {},
     "output_type": "execute_result"
    }
   ],
   "source": [
    "ftr.shape"
   ]
  }
 ],
 "metadata": {
  "kernelspec": {
   "display_name": "Python 3",
   "language": "python",
   "name": "python3"
  },
  "language_info": {
   "codemirror_mode": {
    "name": "ipython",
    "version": 3
   },
   "file_extension": ".py",
   "mimetype": "text/x-python",
   "name": "python",
   "nbconvert_exporter": "python",
   "pygments_lexer": "ipython3",
   "version": "3.6.1"
  }
 },
 "nbformat": 4,
 "nbformat_minor": 2
}
