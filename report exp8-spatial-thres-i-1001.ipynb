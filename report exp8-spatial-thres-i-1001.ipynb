{
 "cells": [
  {
   "cell_type": "code",
   "execution_count": 64,
   "metadata": {
    "collapsed": true
   },
   "outputs": [],
   "source": [
    "from src.experiment_based_function import SEEDS\n",
    "import pandas as pd\n",
    "%matplotlib inline"
   ]
  },
  {
   "cell_type": "code",
   "execution_count": 65,
   "metadata": {
    "collapsed": true
   },
   "outputs": [],
   "source": [
    "import os\n",
    "import glob\n"
   ]
  },
  {
   "cell_type": "code",
   "execution_count": 66,
   "metadata": {
    "collapsed": true
   },
   "outputs": [],
   "source": [
    "eval_or_grid='eval'"
   ]
  },
  {
   "cell_type": "code",
   "execution_count": 67,
   "metadata": {
    "collapsed": true
   },
   "outputs": [],
   "source": [
    "def get_exp8_result(eval_or_grid='eval'):\n",
    "    res = []    \n",
    "    for fn in glob.glob('experiment_1001/exp8-spatial-thres-i/*/*/%s_res.csv' % eval_or_grid):\n",
    "        _, i_thres, seed, _ = fn.split(os.path.sep)\n",
    "        seed = seed.replace('seed_','')\n",
    "        df = pd.read_csv(fn, index_col=0)\n",
    "        df['seed'] = seed\n",
    "        df['i_thres']=i_thres\n",
    "        res.append(df)\n",
    "    return pd.concat(res)"
   ]
  },
  {
   "cell_type": "code",
   "execution_count": 68,
   "metadata": {
    "collapsed": true
   },
   "outputs": [],
   "source": [
    "col_mapping = {' ': ' ',\n",
    " 'RoadNet': 'RoadNet+Spatial',\n",
    " 'Segment_NO_TOTAL_~2014+Spatial': 'Social type+Spatial', \n",
    " 'Segment_TOTAL_~2014+Spatial': 'Social total+Spatial',\n",
    " 'RoadNet+Segment_NO_TOTAL_~2014+Spatial': 'RoadNet+Social type+Spatial', \n",
    " 'RoadNet+Segment_TOTAL_~2014+Spatial': 'RoadNet+Social total+Spatial'}\n"
   ]
  },
  {
   "cell_type": "code",
   "execution_count": 69,
   "metadata": {},
   "outputs": [],
   "source": [
    "eval_res = get_exp8_result('eval')\n",
    "\n",
    "eval_res.ftr_combo_name = eval_res.ftr_combo_name.apply(lambda x: col_mapping[x.split('-')[0]])"
   ]
  },
  {
   "cell_type": "code",
   "execution_count": 70,
   "metadata": {
    "scrolled": true
   },
   "outputs": [
    {
     "data": {
      "text/plain": [
       "(Index(['#ftr_all', '#ftr_keep', '#test_sample', '#train_sample',\n",
       "        'ftr_combo_name', 'model_name', 'test_acc', 'test_f1_macro',\n",
       "        'test_f1_micro', 'test_f1_weighted', 'test_mse', 'test_n_classes',\n",
       "        'test_precision_macro', 'test_precision_micro',\n",
       "        'test_precision_weighted', 'test_recall_macro', 'test_recall_micro',\n",
       "        'test_recall_weighted', 'train_acc', 'train_f1_macro', 'train_f1_micro',\n",
       "        'train_f1_weighted', 'train_mse', 'train_n_classes',\n",
       "        'train_precision_macro', 'train_precision_micro',\n",
       "        'train_precision_weighted', 'train_recall_macro', 'train_recall_micro',\n",
       "        'train_recall_weighted', 'y_dist', 'seed', 'i_thres'],\n",
       "       dtype='object'), (600, 33))"
      ]
     },
     "execution_count": 70,
     "metadata": {},
     "output_type": "execute_result"
    }
   ],
   "source": [
    "eval_res.columns, eval_res.shape"
   ]
  },
  {
   "cell_type": "code",
   "execution_count": 71,
   "metadata": {},
   "outputs": [
    {
     "name": "stdout",
     "output_type": "stream",
     "text": [
      "train {5: 600}\n",
      "test {5: 480, 4: 120}\n",
      "train test\n",
      "(5, 5)    480\n",
      "(5, 4)    120\n",
      "dtype: int64\n"
     ]
    }
   ],
   "source": [
    "print('train', eval_res.train_n_classes.value_counts().to_dict())\n",
    "print('test', eval_res.test_n_classes.value_counts().to_dict())\n",
    "\n",
    "\n",
    "print('train', 'test')\n",
    "print(eval_res.apply(lambda x: (x.train_n_classes, x.test_n_classes), axis=1).value_counts())"
   ]
  },
  {
   "cell_type": "code",
   "execution_count": 72,
   "metadata": {
    "collapsed": true
   },
   "outputs": [],
   "source": [
    "f1_choices = ['test_f1_weighted', 'test_f1_macro', 'test_f1_micro']"
   ]
  },
  {
   "cell_type": "code",
   "execution_count": 73,
   "metadata": {
    "collapsed": true
   },
   "outputs": [],
   "source": [
    "keys = ['model_name', 'i_thres', 'ftr_combo_name']\n",
    "means = eval_res.groupby(keys).mean()[f1_choices]\n",
    "stds = eval_res.groupby(keys).std()[f1_choices]\n"
   ]
  },
  {
   "cell_type": "code",
   "execution_count": 74,
   "metadata": {
    "scrolled": true
   },
   "outputs": [
    {
     "data": {
      "text/plain": [
       "0.65505617977528074"
      ]
     },
     "execution_count": 74,
     "metadata": {},
     "output_type": "execute_result"
    }
   ],
   "source": [
    "means.test_f1_micro.max()"
   ]
  },
  {
   "cell_type": "code",
   "execution_count": 75,
   "metadata": {
    "collapsed": true
   },
   "outputs": [],
   "source": [
    "def deliverable_table(table):\n",
    "    table = table[['RoadNet+Spatial', \n",
    "                   'Social total+Spatial',\n",
    "                   'Social type+Spatial',\n",
    "                   'RoadNet+Social total+Spatial',\n",
    "                   'RoadNet+Social type+Spatial']]\n",
    "\n",
    "    table.index.name=None\n",
    "    return table"
   ]
  },
  {
   "cell_type": "code",
   "execution_count": 76,
   "metadata": {
    "collapsed": true
   },
   "outputs": [],
   "source": [
    "from IPython.display import display"
   ]
  },
  {
   "cell_type": "code",
   "execution_count": 77,
   "metadata": {
    "scrolled": true
   },
   "outputs": [
    {
     "data": {
      "text/html": [
       "<div>\n",
       "<style>\n",
       "    .dataframe thead tr:only-child th {\n",
       "        text-align: right;\n",
       "    }\n",
       "\n",
       "    .dataframe thead th {\n",
       "        text-align: left;\n",
       "    }\n",
       "\n",
       "    .dataframe tbody tr th {\n",
       "        vertical-align: top;\n",
       "    }\n",
       "</style>\n",
       "<table border=\"1\" class=\"dataframe\">\n",
       "  <thead>\n",
       "    <tr style=\"text-align: right;\">\n",
       "      <th>f1_micro i=0.1</th>\n",
       "      <th>RoadNet+Spatial</th>\n",
       "      <th>Social total+Spatial</th>\n",
       "      <th>Social type+Spatial</th>\n",
       "      <th>RoadNet+Social total+Spatial</th>\n",
       "      <th>RoadNet+Social type+Spatial</th>\n",
       "    </tr>\n",
       "  </thead>\n",
       "  <tbody>\n",
       "    <tr>\n",
       "      <th>BAGcls</th>\n",
       "      <td>0.619101</td>\n",
       "      <td>0.542697</td>\n",
       "      <td>0.597753</td>\n",
       "      <td>0.623596</td>\n",
       "      <td>0.623596</td>\n",
       "    </tr>\n",
       "    <tr>\n",
       "      <th>XGBcls</th>\n",
       "      <td>0.611236</td>\n",
       "      <td>0.538202</td>\n",
       "      <td>0.601124</td>\n",
       "      <td>0.621348</td>\n",
       "      <td>0.629213</td>\n",
       "    </tr>\n",
       "  </tbody>\n",
       "</table>\n",
       "</div>"
      ],
      "text/plain": [
       "f1_micro i=0.1  RoadNet+Spatial  Social total+Spatial  Social type+Spatial  \\\n",
       "BAGcls                 0.619101              0.542697             0.597753   \n",
       "XGBcls                 0.611236              0.538202             0.601124   \n",
       "\n",
       "f1_micro i=0.1  RoadNet+Social total+Spatial  RoadNet+Social type+Spatial  \n",
       "BAGcls                              0.623596                     0.623596  \n",
       "XGBcls                              0.621348                     0.629213  "
      ]
     },
     "metadata": {},
     "output_type": "display_data"
    },
    {
     "data": {
      "text/html": [
       "<div>\n",
       "<style>\n",
       "    .dataframe thead tr:only-child th {\n",
       "        text-align: right;\n",
       "    }\n",
       "\n",
       "    .dataframe thead th {\n",
       "        text-align: left;\n",
       "    }\n",
       "\n",
       "    .dataframe tbody tr th {\n",
       "        vertical-align: top;\n",
       "    }\n",
       "</style>\n",
       "<table border=\"1\" class=\"dataframe\">\n",
       "  <thead>\n",
       "    <tr style=\"text-align: right;\">\n",
       "      <th>f1_micro i=0.3</th>\n",
       "      <th>RoadNet+Spatial</th>\n",
       "      <th>Social total+Spatial</th>\n",
       "      <th>Social type+Spatial</th>\n",
       "      <th>RoadNet+Social total+Spatial</th>\n",
       "      <th>RoadNet+Social type+Spatial</th>\n",
       "    </tr>\n",
       "  </thead>\n",
       "  <tbody>\n",
       "    <tr>\n",
       "      <th>BAGcls</th>\n",
       "      <td>0.621348</td>\n",
       "      <td>0.542697</td>\n",
       "      <td>0.605618</td>\n",
       "      <td>0.631461</td>\n",
       "      <td>0.634831</td>\n",
       "    </tr>\n",
       "    <tr>\n",
       "      <th>XGBcls</th>\n",
       "      <td>0.606742</td>\n",
       "      <td>0.538202</td>\n",
       "      <td>0.607865</td>\n",
       "      <td>0.614607</td>\n",
       "      <td>0.642697</td>\n",
       "    </tr>\n",
       "  </tbody>\n",
       "</table>\n",
       "</div>"
      ],
      "text/plain": [
       "f1_micro i=0.3  RoadNet+Spatial  Social total+Spatial  Social type+Spatial  \\\n",
       "BAGcls                 0.621348              0.542697             0.605618   \n",
       "XGBcls                 0.606742              0.538202             0.607865   \n",
       "\n",
       "f1_micro i=0.3  RoadNet+Social total+Spatial  RoadNet+Social type+Spatial  \n",
       "BAGcls                              0.631461                     0.634831  \n",
       "XGBcls                              0.614607                     0.642697  "
      ]
     },
     "metadata": {},
     "output_type": "display_data"
    },
    {
     "data": {
      "text/html": [
       "<div>\n",
       "<style>\n",
       "    .dataframe thead tr:only-child th {\n",
       "        text-align: right;\n",
       "    }\n",
       "\n",
       "    .dataframe thead th {\n",
       "        text-align: left;\n",
       "    }\n",
       "\n",
       "    .dataframe tbody tr th {\n",
       "        vertical-align: top;\n",
       "    }\n",
       "</style>\n",
       "<table border=\"1\" class=\"dataframe\">\n",
       "  <thead>\n",
       "    <tr style=\"text-align: right;\">\n",
       "      <th>f1_micro i=0.5</th>\n",
       "      <th>RoadNet+Spatial</th>\n",
       "      <th>Social total+Spatial</th>\n",
       "      <th>Social type+Spatial</th>\n",
       "      <th>RoadNet+Social total+Spatial</th>\n",
       "      <th>RoadNet+Social type+Spatial</th>\n",
       "    </tr>\n",
       "  </thead>\n",
       "  <tbody>\n",
       "    <tr>\n",
       "      <th>BAGcls</th>\n",
       "      <td>0.606742</td>\n",
       "      <td>0.558427</td>\n",
       "      <td>0.619101</td>\n",
       "      <td>0.612360</td>\n",
       "      <td>0.641573</td>\n",
       "    </tr>\n",
       "    <tr>\n",
       "      <th>XGBcls</th>\n",
       "      <td>0.592135</td>\n",
       "      <td>0.559551</td>\n",
       "      <td>0.606742</td>\n",
       "      <td>0.624719</td>\n",
       "      <td>0.655056</td>\n",
       "    </tr>\n",
       "  </tbody>\n",
       "</table>\n",
       "</div>"
      ],
      "text/plain": [
       "f1_micro i=0.5  RoadNet+Spatial  Social total+Spatial  Social type+Spatial  \\\n",
       "BAGcls                 0.606742              0.558427             0.619101   \n",
       "XGBcls                 0.592135              0.559551             0.606742   \n",
       "\n",
       "f1_micro i=0.5  RoadNet+Social total+Spatial  RoadNet+Social type+Spatial  \n",
       "BAGcls                              0.612360                     0.641573  \n",
       "XGBcls                              0.624719                     0.655056  "
      ]
     },
     "metadata": {},
     "output_type": "display_data"
    },
    {
     "data": {
      "text/html": [
       "<div>\n",
       "<style>\n",
       "    .dataframe thead tr:only-child th {\n",
       "        text-align: right;\n",
       "    }\n",
       "\n",
       "    .dataframe thead th {\n",
       "        text-align: left;\n",
       "    }\n",
       "\n",
       "    .dataframe tbody tr th {\n",
       "        vertical-align: top;\n",
       "    }\n",
       "</style>\n",
       "<table border=\"1\" class=\"dataframe\">\n",
       "  <thead>\n",
       "    <tr style=\"text-align: right;\">\n",
       "      <th>f1_micro i=0.7</th>\n",
       "      <th>RoadNet+Spatial</th>\n",
       "      <th>Social total+Spatial</th>\n",
       "      <th>Social type+Spatial</th>\n",
       "      <th>RoadNet+Social total+Spatial</th>\n",
       "      <th>RoadNet+Social type+Spatial</th>\n",
       "    </tr>\n",
       "  </thead>\n",
       "  <tbody>\n",
       "    <tr>\n",
       "      <th>BAGcls</th>\n",
       "      <td>0.619101</td>\n",
       "      <td>0.564045</td>\n",
       "      <td>0.606742</td>\n",
       "      <td>0.62809</td>\n",
       "      <td>0.647191</td>\n",
       "    </tr>\n",
       "    <tr>\n",
       "      <th>XGBcls</th>\n",
       "      <td>0.574157</td>\n",
       "      <td>0.559551</td>\n",
       "      <td>0.606742</td>\n",
       "      <td>0.61236</td>\n",
       "      <td>0.647191</td>\n",
       "    </tr>\n",
       "  </tbody>\n",
       "</table>\n",
       "</div>"
      ],
      "text/plain": [
       "f1_micro i=0.7  RoadNet+Spatial  Social total+Spatial  Social type+Spatial  \\\n",
       "BAGcls                 0.619101              0.564045             0.606742   \n",
       "XGBcls                 0.574157              0.559551             0.606742   \n",
       "\n",
       "f1_micro i=0.7  RoadNet+Social total+Spatial  RoadNet+Social type+Spatial  \n",
       "BAGcls                               0.62809                     0.647191  \n",
       "XGBcls                               0.61236                     0.647191  "
      ]
     },
     "metadata": {},
     "output_type": "display_data"
    },
    {
     "data": {
      "text/html": [
       "<div>\n",
       "<style>\n",
       "    .dataframe thead tr:only-child th {\n",
       "        text-align: right;\n",
       "    }\n",
       "\n",
       "    .dataframe thead th {\n",
       "        text-align: left;\n",
       "    }\n",
       "\n",
       "    .dataframe tbody tr th {\n",
       "        vertical-align: top;\n",
       "    }\n",
       "</style>\n",
       "<table border=\"1\" class=\"dataframe\">\n",
       "  <thead>\n",
       "    <tr style=\"text-align: right;\">\n",
       "      <th>f1_micro i=0.8</th>\n",
       "      <th>RoadNet+Spatial</th>\n",
       "      <th>Social total+Spatial</th>\n",
       "      <th>Social type+Spatial</th>\n",
       "      <th>RoadNet+Social total+Spatial</th>\n",
       "      <th>RoadNet+Social type+Spatial</th>\n",
       "    </tr>\n",
       "  </thead>\n",
       "  <tbody>\n",
       "    <tr>\n",
       "      <th>BAGcls</th>\n",
       "      <td>0.606742</td>\n",
       "      <td>0.532584</td>\n",
       "      <td>0.616854</td>\n",
       "      <td>0.631461</td>\n",
       "      <td>0.638202</td>\n",
       "    </tr>\n",
       "    <tr>\n",
       "      <th>XGBcls</th>\n",
       "      <td>0.579775</td>\n",
       "      <td>0.547191</td>\n",
       "      <td>0.603371</td>\n",
       "      <td>0.634831</td>\n",
       "      <td>0.648315</td>\n",
       "    </tr>\n",
       "  </tbody>\n",
       "</table>\n",
       "</div>"
      ],
      "text/plain": [
       "f1_micro i=0.8  RoadNet+Spatial  Social total+Spatial  Social type+Spatial  \\\n",
       "BAGcls                 0.606742              0.532584             0.616854   \n",
       "XGBcls                 0.579775              0.547191             0.603371   \n",
       "\n",
       "f1_micro i=0.8  RoadNet+Social total+Spatial  RoadNet+Social type+Spatial  \n",
       "BAGcls                              0.631461                     0.638202  \n",
       "XGBcls                              0.634831                     0.648315  "
      ]
     },
     "metadata": {},
     "output_type": "display_data"
    }
   ],
   "source": [
    "f1_type = f1_choices[2]\n",
    "for i_thres in [0.1, 0.3, 0.5, 0.7, 0.8]:\n",
    "    tmp = means.reset_index()\n",
    "    table = tmp[tmp.i_thres==str(i_thres)].reset_index().pivot(index='model_name', columns='ftr_combo_name', values=f1_type)\n",
    "\n",
    "    dtb = deliverable_table(table)\n",
    "    dtb.columns.name=f1_type.replace('test_', '')+' i='+str(i_thres)\n",
    "    display(dtb)\n"
   ]
  },
  {
   "cell_type": "code",
   "execution_count": 78,
   "metadata": {},
   "outputs": [
    {
     "data": {
      "text/html": [
       "<div>\n",
       "<style>\n",
       "    .dataframe thead tr:only-child th {\n",
       "        text-align: right;\n",
       "    }\n",
       "\n",
       "    .dataframe thead th {\n",
       "        text-align: left;\n",
       "    }\n",
       "\n",
       "    .dataframe tbody tr th {\n",
       "        vertical-align: top;\n",
       "    }\n",
       "</style>\n",
       "<table border=\"1\" class=\"dataframe\">\n",
       "  <thead>\n",
       "    <tr style=\"text-align: right;\">\n",
       "      <th>f1_micro i=0.8</th>\n",
       "      <th>RoadNet+Spatial</th>\n",
       "      <th>Social total+Spatial</th>\n",
       "      <th>Social type+Spatial</th>\n",
       "      <th>RoadNet+Social total+Spatial</th>\n",
       "      <th>RoadNet+Social type+Spatial</th>\n",
       "    </tr>\n",
       "  </thead>\n",
       "  <tbody>\n",
       "    <tr>\n",
       "      <th>BAGcls</th>\n",
       "      <td>0.569663</td>\n",
       "      <td>0.540449</td>\n",
       "      <td>0.553933</td>\n",
       "      <td>0.557303</td>\n",
       "      <td>0.574157</td>\n",
       "    </tr>\n",
       "    <tr>\n",
       "      <th>XGBcls</th>\n",
       "      <td>0.571910</td>\n",
       "      <td>0.500000</td>\n",
       "      <td>0.548315</td>\n",
       "      <td>0.575281</td>\n",
       "      <td>0.565169</td>\n",
       "    </tr>\n",
       "  </tbody>\n",
       "</table>\n",
       "</div>"
      ],
      "text/plain": [
       "f1_micro i=0.8  RoadNet+Spatial  Social total+Spatial  Social type+Spatial  \\\n",
       "BAGcls                 0.569663              0.540449             0.553933   \n",
       "XGBcls                 0.571910              0.500000             0.548315   \n",
       "\n",
       "f1_micro i=0.8  RoadNet+Social total+Spatial  RoadNet+Social type+Spatial  \n",
       "BAGcls                              0.557303                     0.574157  \n",
       "XGBcls                              0.575281                     0.565169  "
      ]
     },
     "metadata": {},
     "output_type": "display_data"
    }
   ],
   "source": [
    "\n",
    "tmp = means.reset_index()\n",
    "table = tmp[tmp.i_thres=='Only'].reset_index().pivot(index='model_name', columns='ftr_combo_name', values=f1_type)\n",
    "\n",
    "dtb = deliverable_table(table)\n",
    "dtb.columns.name=f1_type.replace('test_', '')+' i='+str(i_thres)\n",
    "display(dtb)"
   ]
  }
 ],
 "metadata": {
  "kernelspec": {
   "display_name": "Python 3",
   "language": "python",
   "name": "python3"
  },
  "language_info": {
   "codemirror_mode": {
    "name": "ipython",
    "version": 3
   },
   "file_extension": ".py",
   "mimetype": "text/x-python",
   "name": "python",
   "nbconvert_exporter": "python",
   "pygments_lexer": "ipython3",
   "version": "3.6.1"
  }
 },
 "nbformat": 4,
 "nbformat_minor": 2
}
