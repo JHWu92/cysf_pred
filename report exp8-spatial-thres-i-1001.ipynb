{
 "cells": [
  {
   "cell_type": "code",
   "execution_count": 1,
   "metadata": {
    "collapsed": true
   },
   "outputs": [],
   "source": [
    "from src.experiment_based_function import SEEDS\n",
    "import pandas as pd\n",
    "%matplotlib inline"
   ]
  },
  {
   "cell_type": "code",
   "execution_count": 2,
   "metadata": {
    "collapsed": true
   },
   "outputs": [],
   "source": [
    "import os\n",
    "import glob\n"
   ]
  },
  {
   "cell_type": "code",
   "execution_count": 3,
   "metadata": {
    "collapsed": true
   },
   "outputs": [],
   "source": [
    "eval_or_grid='eval'"
   ]
  },
  {
   "cell_type": "code",
   "execution_count": 4,
   "metadata": {
    "collapsed": true
   },
   "outputs": [],
   "source": [
    "def get_exp8_result(eval_or_grid='eval'):\n",
    "    res = []    \n",
    "    for fn in glob.glob('experiment_1001/exp8-spatial-thres-i/*/*/%s_res.csv' % eval_or_grid):\n",
    "        _, i_thres, seed, _ = fn.split(os.path.sep)\n",
    "        seed = seed.replace('seed_','')\n",
    "        df = pd.read_csv(fn, index_col=0)\n",
    "        df['seed'] = seed\n",
    "        df['i_thres']=i_thres\n",
    "        res.append(df)\n",
    "    return pd.concat(res)"
   ]
  },
  {
   "cell_type": "code",
   "execution_count": 5,
   "metadata": {
    "collapsed": true
   },
   "outputs": [],
   "source": [
    "col_mapping = {' ': ' ',\n",
    " 'RoadNet': 'RoadNet+Spatial',\n",
    " 'Segment_NO_TOTAL_~2014+Spatial': 'Social type+Spatial', \n",
    " 'Segment_TOTAL_~2014+Spatial': 'Social total+Spatial',\n",
    " 'RoadNet+Segment_NO_TOTAL_~2014+Spatial': 'RoadNet+Social type+Spatial', \n",
    " 'RoadNet+Segment_TOTAL_~2014+Spatial': 'RoadNet+Social total+Spatial'}\n"
   ]
  },
  {
   "cell_type": "code",
   "execution_count": 6,
   "metadata": {
    "collapsed": true
   },
   "outputs": [],
   "source": [
    "eval_res = get_exp8_result('eval')\n",
    "\n",
    "eval_res.ftr_combo_name = eval_res.ftr_combo_name.apply(lambda x: col_mapping[x.split('-')[0]] if x.split('-')[0] in col_mapping else x.split('-')[0])"
   ]
  },
  {
   "cell_type": "code",
   "execution_count": 7,
   "metadata": {
    "scrolled": false
   },
   "outputs": [
    {
     "data": {
      "text/plain": [
       "(Index(['#ftr_all', '#ftr_keep', '#test_sample', '#train_sample',\n",
       "        'feature_selection', 'ftr_combo_name', 'i_thres', 'model_name', 'seed',\n",
       "        'test_acc', 'test_f1_macro', 'test_f1_micro', 'test_f1_weighted',\n",
       "        'test_mse', 'test_n_classes', 'test_precision_macro',\n",
       "        'test_precision_micro', 'test_precision_weighted', 'test_recall_macro',\n",
       "        'test_recall_micro', 'test_recall_weighted', 'train_acc',\n",
       "        'train_f1_macro', 'train_f1_micro', 'train_f1_weighted', 'train_mse',\n",
       "        'train_n_classes', 'train_precision_macro', 'train_precision_micro',\n",
       "        'train_precision_weighted', 'train_recall_macro', 'train_recall_micro',\n",
       "        'train_recall_weighted', 'y_dist'],\n",
       "       dtype='object'), (1500, 34))"
      ]
     },
     "execution_count": 7,
     "metadata": {},
     "output_type": "execute_result"
    }
   ],
   "source": [
    "eval_res.columns, eval_res.shape"
   ]
  },
  {
   "cell_type": "code",
   "execution_count": 15,
   "metadata": {},
   "outputs": [
    {
     "data": {
      "text/plain": [
       "None    800\n",
       "Name: feature_selection, dtype: int64"
      ]
     },
     "execution_count": 15,
     "metadata": {},
     "output_type": "execute_result"
    }
   ],
   "source": [
    "eval_res.feature_selection.value_counts()"
   ]
  },
  {
   "cell_type": "code",
   "execution_count": 8,
   "metadata": {},
   "outputs": [
    {
     "name": "stdout",
     "output_type": "stream",
     "text": [
      "train {5: 1500}\n",
      "test {5: 1200, 4: 300}\n",
      "train test\n",
      "(5, 5)    1200\n",
      "(5, 4)     300\n",
      "dtype: int64\n"
     ]
    }
   ],
   "source": [
    "print('train', eval_res.train_n_classes.value_counts().to_dict())\n",
    "print('test', eval_res.test_n_classes.value_counts().to_dict())\n",
    "\n",
    "\n",
    "print('train', 'test')\n",
    "print(eval_res.apply(lambda x: (x.train_n_classes, x.test_n_classes), axis=1).value_counts())"
   ]
  },
  {
   "cell_type": "code",
   "execution_count": 9,
   "metadata": {
    "collapsed": true
   },
   "outputs": [],
   "source": [
    "f1_choices = ['test_f1_weighted', 'test_f1_macro', 'test_f1_micro']"
   ]
  },
  {
   "cell_type": "code",
   "execution_count": 10,
   "metadata": {
    "collapsed": true
   },
   "outputs": [],
   "source": [
    "keys = ['model_name', 'i_thres', 'ftr_combo_name']\n",
    "means = eval_res.groupby(keys).mean()[f1_choices]\n",
    "stds = eval_res.groupby(keys).std()[f1_choices]\n"
   ]
  },
  {
   "cell_type": "code",
   "execution_count": 11,
   "metadata": {},
   "outputs": [
    {
     "data": {
      "text/plain": [
       "<matplotlib.axes._subplots.AxesSubplot at 0x2b800eee278>"
      ]
     },
     "execution_count": 11,
     "metadata": {},
     "output_type": "execute_result"
    },
    {
     "data": {
      "image/png": "[encoded data removed]",
      "text/plain": [
       "<matplotlib.figure.Figure at 0x2b800eacc88>"
      ]
     },
     "metadata": {},
     "output_type": "display_data"
    }
   ],
   "source": [
    "means[means.index.get_level_values(1)!='Only'].groupby('i_thres').apply(lambda x: x.test_f1_micro.max()).plot()"
   ]
  },
  {
   "cell_type": "code",
   "execution_count": 12,
   "metadata": {},
   "outputs": [
    {
     "data": {
      "text/html": [
       "<div>\n",
       "<style>\n",
       "    .dataframe thead tr:only-child th {\n",
       "        text-align: right;\n",
       "    }\n",
       "\n",
       "    .dataframe thead th {\n",
       "        text-align: left;\n",
       "    }\n",
       "\n",
       "    .dataframe tbody tr th {\n",
       "        vertical-align: top;\n",
       "    }\n",
       "</style>\n",
       "<table border=\"1\" class=\"dataframe\">\n",
       "  <thead>\n",
       "    <tr style=\"text-align: right;\">\n",
       "      <th></th>\n",
       "      <th></th>\n",
       "      <th></th>\n",
       "      <th>test_f1_weighted</th>\n",
       "      <th>test_f1_macro</th>\n",
       "      <th>test_f1_micro</th>\n",
       "    </tr>\n",
       "    <tr>\n",
       "      <th>model_name</th>\n",
       "      <th>i_thres</th>\n",
       "      <th>ftr_combo_name</th>\n",
       "      <th></th>\n",
       "      <th></th>\n",
       "      <th></th>\n",
       "    </tr>\n",
       "  </thead>\n",
       "  <tbody>\n",
       "    <tr>\n",
       "      <th rowspan=\"10\" valign=\"top\">BAGcls</th>\n",
       "      <th rowspan=\"5\" valign=\"top\">0.54</th>\n",
       "      <th>RoadNet+Social total+Spatial</th>\n",
       "      <td>0.597857</td>\n",
       "      <td>0.388580</td>\n",
       "      <td>0.620225</td>\n",
       "    </tr>\n",
       "    <tr>\n",
       "      <th>RoadNet+Social type+Spatial</th>\n",
       "      <td>0.613584</td>\n",
       "      <td>0.404049</td>\n",
       "      <td>0.635955</td>\n",
       "    </tr>\n",
       "    <tr>\n",
       "      <th>RoadNet+Spatial</th>\n",
       "      <td>0.591176</td>\n",
       "      <td>0.439314</td>\n",
       "      <td>0.610112</td>\n",
       "    </tr>\n",
       "    <tr>\n",
       "      <th>Social total+Spatial</th>\n",
       "      <td>0.542717</td>\n",
       "      <td>0.328923</td>\n",
       "      <td>0.564045</td>\n",
       "    </tr>\n",
       "    <tr>\n",
       "      <th>Social type+Spatial</th>\n",
       "      <td>0.599082</td>\n",
       "      <td>0.420415</td>\n",
       "      <td>0.620225</td>\n",
       "    </tr>\n",
       "    <tr>\n",
       "      <th rowspan=\"5\" valign=\"top\">0.62</th>\n",
       "      <th>RoadNet+Social total+Spatial</th>\n",
       "      <td>0.596059</td>\n",
       "      <td>0.386773</td>\n",
       "      <td>0.616854</td>\n",
       "    </tr>\n",
       "    <tr>\n",
       "      <th>RoadNet+Social type+Spatial</th>\n",
       "      <td>0.614964</td>\n",
       "      <td>0.430850</td>\n",
       "      <td>0.637079</td>\n",
       "    </tr>\n",
       "    <tr>\n",
       "      <th>RoadNet+Spatial</th>\n",
       "      <td>0.573978</td>\n",
       "      <td>0.402514</td>\n",
       "      <td>0.593258</td>\n",
       "    </tr>\n",
       "    <tr>\n",
       "      <th>Social total+Spatial</th>\n",
       "      <td>0.542717</td>\n",
       "      <td>0.328923</td>\n",
       "      <td>0.564045</td>\n",
       "    </tr>\n",
       "    <tr>\n",
       "      <th>Social type+Spatial</th>\n",
       "      <td>0.599444</td>\n",
       "      <td>0.434244</td>\n",
       "      <td>0.620225</td>\n",
       "    </tr>\n",
       "    <tr>\n",
       "      <th rowspan=\"10\" valign=\"top\">XGBcls</th>\n",
       "      <th rowspan=\"5\" valign=\"top\">0.54</th>\n",
       "      <th>RoadNet+Social total+Spatial</th>\n",
       "      <td>0.588775</td>\n",
       "      <td>0.380779</td>\n",
       "      <td>0.612360</td>\n",
       "    </tr>\n",
       "    <tr>\n",
       "      <th>RoadNet+Social type+Spatial</th>\n",
       "      <td>0.638617</td>\n",
       "      <td>0.439816</td>\n",
       "      <td>0.658427</td>\n",
       "    </tr>\n",
       "    <tr>\n",
       "      <th>RoadNet+Spatial</th>\n",
       "      <td>0.583298</td>\n",
       "      <td>0.400594</td>\n",
       "      <td>0.603371</td>\n",
       "    </tr>\n",
       "    <tr>\n",
       "      <th>Social total+Spatial</th>\n",
       "      <td>0.539795</td>\n",
       "      <td>0.338856</td>\n",
       "      <td>0.559551</td>\n",
       "    </tr>\n",
       "    <tr>\n",
       "      <th>Social type+Spatial</th>\n",
       "      <td>0.594321</td>\n",
       "      <td>0.437413</td>\n",
       "      <td>0.610112</td>\n",
       "    </tr>\n",
       "    <tr>\n",
       "      <th rowspan=\"5\" valign=\"top\">0.62</th>\n",
       "      <th>RoadNet+Social total+Spatial</th>\n",
       "      <td>0.597419</td>\n",
       "      <td>0.381594</td>\n",
       "      <td>0.620225</td>\n",
       "    </tr>\n",
       "    <tr>\n",
       "      <th>RoadNet+Social type+Spatial</th>\n",
       "      <td>0.637058</td>\n",
       "      <td>0.442221</td>\n",
       "      <td>0.658427</td>\n",
       "    </tr>\n",
       "    <tr>\n",
       "      <th>RoadNet+Spatial</th>\n",
       "      <td>0.565697</td>\n",
       "      <td>0.395345</td>\n",
       "      <td>0.583146</td>\n",
       "    </tr>\n",
       "    <tr>\n",
       "      <th>Social total+Spatial</th>\n",
       "      <td>0.539795</td>\n",
       "      <td>0.338856</td>\n",
       "      <td>0.559551</td>\n",
       "    </tr>\n",
       "    <tr>\n",
       "      <th>Social type+Spatial</th>\n",
       "      <td>0.589724</td>\n",
       "      <td>0.454997</td>\n",
       "      <td>0.610112</td>\n",
       "    </tr>\n",
       "  </tbody>\n",
       "</table>\n",
       "</div>"
      ],
      "text/plain": [
       "                                                 test_f1_weighted  \\\n",
       "model_name i_thres ftr_combo_name                                   \n",
       "BAGcls     0.54    RoadNet+Social total+Spatial          0.597857   \n",
       "                   RoadNet+Social type+Spatial           0.613584   \n",
       "                   RoadNet+Spatial                       0.591176   \n",
       "                   Social total+Spatial                  0.542717   \n",
       "                   Social type+Spatial                   0.599082   \n",
       "           0.62    RoadNet+Social total+Spatial          0.596059   \n",
       "                   RoadNet+Social type+Spatial           0.614964   \n",
       "                   RoadNet+Spatial                       0.573978   \n",
       "                   Social total+Spatial                  0.542717   \n",
       "                   Social type+Spatial                   0.599444   \n",
       "XGBcls     0.54    RoadNet+Social total+Spatial          0.588775   \n",
       "                   RoadNet+Social type+Spatial           0.638617   \n",
       "                   RoadNet+Spatial                       0.583298   \n",
       "                   Social total+Spatial                  0.539795   \n",
       "                   Social type+Spatial                   0.594321   \n",
       "           0.62    RoadNet+Social total+Spatial          0.597419   \n",
       "                   RoadNet+Social type+Spatial           0.637058   \n",
       "                   RoadNet+Spatial                       0.565697   \n",
       "                   Social total+Spatial                  0.539795   \n",
       "                   Social type+Spatial                   0.589724   \n",
       "\n",
       "                                                 test_f1_macro  test_f1_micro  \n",
       "model_name i_thres ftr_combo_name                                              \n",
       "BAGcls     0.54    RoadNet+Social total+Spatial       0.388580       0.620225  \n",
       "                   RoadNet+Social type+Spatial        0.404049       0.635955  \n",
       "                   RoadNet+Spatial                    0.439314       0.610112  \n",
       "                   Social total+Spatial               0.328923       0.564045  \n",
       "                   Social type+Spatial                0.420415       0.620225  \n",
       "           0.62    RoadNet+Social total+Spatial       0.386773       0.616854  \n",
       "                   RoadNet+Social type+Spatial        0.430850       0.637079  \n",
       "                   RoadNet+Spatial                    0.402514       0.593258  \n",
       "                   Social total+Spatial               0.328923       0.564045  \n",
       "                   Social type+Spatial                0.434244       0.620225  \n",
       "XGBcls     0.54    RoadNet+Social total+Spatial       0.380779       0.612360  \n",
       "                   RoadNet+Social type+Spatial        0.439816       0.658427  \n",
       "                   RoadNet+Spatial                    0.400594       0.603371  \n",
       "                   Social total+Spatial               0.338856       0.559551  \n",
       "                   Social type+Spatial                0.437413       0.610112  \n",
       "           0.62    RoadNet+Social total+Spatial       0.381594       0.620225  \n",
       "                   RoadNet+Social type+Spatial        0.442221       0.658427  \n",
       "                   RoadNet+Spatial                    0.395345       0.583146  \n",
       "                   Social total+Spatial               0.338856       0.559551  \n",
       "                   Social type+Spatial                0.454997       0.610112  "
      ]
     },
     "execution_count": 12,
     "metadata": {},
     "output_type": "execute_result"
    }
   ],
   "source": [
    "means[means.index.get_level_values(1).isin(['0.54', '0.62'])]"
   ]
  },
  {
   "cell_type": "code",
   "execution_count": 13,
   "metadata": {
    "scrolled": true
   },
   "outputs": [
    {
     "data": {
      "text/plain": [
       "i_thres\n",
       "0.0     0.635955\n",
       "0.1     0.629213\n",
       "0.3     0.642697\n",
       "0.5     0.655056\n",
       "0.52    0.649438\n",
       "0.54    0.658427\n",
       "0.57    0.648315\n",
       "0.60    0.644944\n",
       "0.62    0.658427\n",
       "0.64    0.651685\n",
       "0.68    0.652809\n",
       "0.69    0.652809\n",
       "0.7     0.647191\n",
       "0.8     0.648315\n",
       "dtype: float64"
      ]
     },
     "execution_count": 13,
     "metadata": {},
     "output_type": "execute_result"
    }
   ],
   "source": [
    "means[means.index.get_level_values(1)!='Only'].groupby('i_thres').apply(lambda x: x.test_f1_micro.max())"
   ]
  },
  {
   "cell_type": "code",
   "execution_count": 14,
   "metadata": {
    "scrolled": true
   },
   "outputs": [
    {
     "data": {
      "text/plain": [
       "i_thres\n",
       "0.0     0.421244\n",
       "0.1     0.414080\n",
       "0.3     0.433601\n",
       "0.5     0.436164\n",
       "0.52    0.436164\n",
       "0.54    0.439816\n",
       "0.57    0.445774\n",
       "0.60    0.454997\n",
       "0.62    0.454997\n",
       "0.64    0.457463\n",
       "0.68    0.486380\n",
       "0.69    0.457463\n",
       "0.7     0.443329\n",
       "0.8     0.452443\n",
       "dtype: float64"
      ]
     },
     "execution_count": 14,
     "metadata": {},
     "output_type": "execute_result"
    }
   ],
   "source": [
    "means[means.index.get_level_values(1)!='Only'].groupby('i_thres').apply(lambda x: x.test_f1_macro.max())"
   ]
  },
  {
   "cell_type": "code",
   "execution_count": 15,
   "metadata": {
    "collapsed": true
   },
   "outputs": [],
   "source": [
    "def deliverable_table(table):\n",
    "    table = table[['RoadNet+Spatial', \n",
    "                   'Social total+Spatial',\n",
    "                   'Social type+Spatial',\n",
    "                   'RoadNet+Social total+Spatial',\n",
    "                   'RoadNet+Social type+Spatial']]\n",
    "\n",
    "    table.index.name=None\n",
    "    return table"
   ]
  },
  {
   "cell_type": "code",
   "execution_count": 16,
   "metadata": {
    "collapsed": true
   },
   "outputs": [],
   "source": [
    "from IPython.display import display"
   ]
  },
  {
   "cell_type": "code",
   "execution_count": 17,
   "metadata": {},
   "outputs": [
    {
     "data": {
      "text/plain": [
       "[0.0, 0.1, 0.3, 0.5, 0.52, 0.54, 0.57, 0.6, 0.62, 0.64, 0.68, 0.69, 0.7, 0.8]"
      ]
     },
     "execution_count": 17,
     "metadata": {},
     "output_type": "execute_result"
    }
   ],
   "source": [
    "[float(j) for j in means.reset_index().i_thres.unique()[:-1]]"
   ]
  },
  {
   "cell_type": "code",
   "execution_count": 18,
   "metadata": {
    "scrolled": true
   },
   "outputs": [
    {
     "data": {
      "text/html": [
       "<div>\n",
       "<style>\n",
       "    .dataframe thead tr:only-child th {\n",
       "        text-align: right;\n",
       "    }\n",
       "\n",
       "    .dataframe thead th {\n",
       "        text-align: left;\n",
       "    }\n",
       "\n",
       "    .dataframe tbody tr th {\n",
       "        vertical-align: top;\n",
       "    }\n",
       "</style>\n",
       "<table border=\"1\" class=\"dataframe\">\n",
       "  <thead>\n",
       "    <tr style=\"text-align: right;\">\n",
       "      <th>f1_micro i=0.0</th>\n",
       "      <th>RoadNet+Spatial</th>\n",
       "      <th>Social total+Spatial</th>\n",
       "      <th>Social type+Spatial</th>\n",
       "      <th>RoadNet+Social total+Spatial</th>\n",
       "      <th>RoadNet+Social type+Spatial</th>\n",
       "    </tr>\n",
       "  </thead>\n",
       "  <tbody>\n",
       "    <tr>\n",
       "      <th>BAGcls</th>\n",
       "      <td>0.616854</td>\n",
       "      <td>0.559551</td>\n",
       "      <td>0.597753</td>\n",
       "      <td>0.620225</td>\n",
       "      <td>0.613483</td>\n",
       "    </tr>\n",
       "    <tr>\n",
       "      <th>XGBcls</th>\n",
       "      <td>0.615730</td>\n",
       "      <td>0.547191</td>\n",
       "      <td>0.594382</td>\n",
       "      <td>0.628090</td>\n",
       "      <td>0.635955</td>\n",
       "    </tr>\n",
       "  </tbody>\n",
       "</table>\n",
       "</div>"
      ],
      "text/plain": [
       "f1_micro i=0.0  RoadNet+Spatial  Social total+Spatial  Social type+Spatial  \\\n",
       "BAGcls                 0.616854              0.559551             0.597753   \n",
       "XGBcls                 0.615730              0.547191             0.594382   \n",
       "\n",
       "f1_micro i=0.0  RoadNet+Social total+Spatial  RoadNet+Social type+Spatial  \n",
       "BAGcls                              0.620225                     0.613483  \n",
       "XGBcls                              0.628090                     0.635955  "
      ]
     },
     "metadata": {},
     "output_type": "display_data"
    },
    {
     "data": {
      "text/html": [
       "<div>\n",
       "<style>\n",
       "    .dataframe thead tr:only-child th {\n",
       "        text-align: right;\n",
       "    }\n",
       "\n",
       "    .dataframe thead th {\n",
       "        text-align: left;\n",
       "    }\n",
       "\n",
       "    .dataframe tbody tr th {\n",
       "        vertical-align: top;\n",
       "    }\n",
       "</style>\n",
       "<table border=\"1\" class=\"dataframe\">\n",
       "  <thead>\n",
       "    <tr style=\"text-align: right;\">\n",
       "      <th>f1_micro i=0.1</th>\n",
       "      <th>RoadNet+Spatial</th>\n",
       "      <th>Social total+Spatial</th>\n",
       "      <th>Social type+Spatial</th>\n",
       "      <th>RoadNet+Social total+Spatial</th>\n",
       "      <th>RoadNet+Social type+Spatial</th>\n",
       "    </tr>\n",
       "  </thead>\n",
       "  <tbody>\n",
       "    <tr>\n",
       "      <th>BAGcls</th>\n",
       "      <td>0.619101</td>\n",
       "      <td>0.542697</td>\n",
       "      <td>0.597753</td>\n",
       "      <td>0.623596</td>\n",
       "      <td>0.623596</td>\n",
       "    </tr>\n",
       "    <tr>\n",
       "      <th>XGBcls</th>\n",
       "      <td>0.611236</td>\n",
       "      <td>0.538202</td>\n",
       "      <td>0.601124</td>\n",
       "      <td>0.621348</td>\n",
       "      <td>0.629213</td>\n",
       "    </tr>\n",
       "  </tbody>\n",
       "</table>\n",
       "</div>"
      ],
      "text/plain": [
       "f1_micro i=0.1  RoadNet+Spatial  Social total+Spatial  Social type+Spatial  \\\n",
       "BAGcls                 0.619101              0.542697             0.597753   \n",
       "XGBcls                 0.611236              0.538202             0.601124   \n",
       "\n",
       "f1_micro i=0.1  RoadNet+Social total+Spatial  RoadNet+Social type+Spatial  \n",
       "BAGcls                              0.623596                     0.623596  \n",
       "XGBcls                              0.621348                     0.629213  "
      ]
     },
     "metadata": {},
     "output_type": "display_data"
    },
    {
     "data": {
      "text/html": [
       "<div>\n",
       "<style>\n",
       "    .dataframe thead tr:only-child th {\n",
       "        text-align: right;\n",
       "    }\n",
       "\n",
       "    .dataframe thead th {\n",
       "        text-align: left;\n",
       "    }\n",
       "\n",
       "    .dataframe tbody tr th {\n",
       "        vertical-align: top;\n",
       "    }\n",
       "</style>\n",
       "<table border=\"1\" class=\"dataframe\">\n",
       "  <thead>\n",
       "    <tr style=\"text-align: right;\">\n",
       "      <th>f1_micro i=0.3</th>\n",
       "      <th>RoadNet+Spatial</th>\n",
       "      <th>Social total+Spatial</th>\n",
       "      <th>Social type+Spatial</th>\n",
       "      <th>RoadNet+Social total+Spatial</th>\n",
       "      <th>RoadNet+Social type+Spatial</th>\n",
       "    </tr>\n",
       "  </thead>\n",
       "  <tbody>\n",
       "    <tr>\n",
       "      <th>BAGcls</th>\n",
       "      <td>0.621348</td>\n",
       "      <td>0.542697</td>\n",
       "      <td>0.605618</td>\n",
       "      <td>0.631461</td>\n",
       "      <td>0.634831</td>\n",
       "    </tr>\n",
       "    <tr>\n",
       "      <th>XGBcls</th>\n",
       "      <td>0.606742</td>\n",
       "      <td>0.538202</td>\n",
       "      <td>0.607865</td>\n",
       "      <td>0.614607</td>\n",
       "      <td>0.642697</td>\n",
       "    </tr>\n",
       "  </tbody>\n",
       "</table>\n",
       "</div>"
      ],
      "text/plain": [
       "f1_micro i=0.3  RoadNet+Spatial  Social total+Spatial  Social type+Spatial  \\\n",
       "BAGcls                 0.621348              0.542697             0.605618   \n",
       "XGBcls                 0.606742              0.538202             0.607865   \n",
       "\n",
       "f1_micro i=0.3  RoadNet+Social total+Spatial  RoadNet+Social type+Spatial  \n",
       "BAGcls                              0.631461                     0.634831  \n",
       "XGBcls                              0.614607                     0.642697  "
      ]
     },
     "metadata": {},
     "output_type": "display_data"
    },
    {
     "data": {
      "text/html": [
       "<div>\n",
       "<style>\n",
       "    .dataframe thead tr:only-child th {\n",
       "        text-align: right;\n",
       "    }\n",
       "\n",
       "    .dataframe thead th {\n",
       "        text-align: left;\n",
       "    }\n",
       "\n",
       "    .dataframe tbody tr th {\n",
       "        vertical-align: top;\n",
       "    }\n",
       "</style>\n",
       "<table border=\"1\" class=\"dataframe\">\n",
       "  <thead>\n",
       "    <tr style=\"text-align: right;\">\n",
       "      <th>f1_micro i=0.5</th>\n",
       "      <th>RoadNet+Spatial</th>\n",
       "      <th>Social total+Spatial</th>\n",
       "      <th>Social type+Spatial</th>\n",
       "      <th>RoadNet+Social total+Spatial</th>\n",
       "      <th>RoadNet+Social type+Spatial</th>\n",
       "    </tr>\n",
       "  </thead>\n",
       "  <tbody>\n",
       "    <tr>\n",
       "      <th>BAGcls</th>\n",
       "      <td>0.606742</td>\n",
       "      <td>0.558427</td>\n",
       "      <td>0.619101</td>\n",
       "      <td>0.612360</td>\n",
       "      <td>0.641573</td>\n",
       "    </tr>\n",
       "    <tr>\n",
       "      <th>XGBcls</th>\n",
       "      <td>0.592135</td>\n",
       "      <td>0.559551</td>\n",
       "      <td>0.606742</td>\n",
       "      <td>0.624719</td>\n",
       "      <td>0.655056</td>\n",
       "    </tr>\n",
       "  </tbody>\n",
       "</table>\n",
       "</div>"
      ],
      "text/plain": [
       "f1_micro i=0.5  RoadNet+Spatial  Social total+Spatial  Social type+Spatial  \\\n",
       "BAGcls                 0.606742              0.558427             0.619101   \n",
       "XGBcls                 0.592135              0.559551             0.606742   \n",
       "\n",
       "f1_micro i=0.5  RoadNet+Social total+Spatial  RoadNet+Social type+Spatial  \n",
       "BAGcls                              0.612360                     0.641573  \n",
       "XGBcls                              0.624719                     0.655056  "
      ]
     },
     "metadata": {},
     "output_type": "display_data"
    },
    {
     "data": {
      "text/html": [
       "<div>\n",
       "<style>\n",
       "    .dataframe thead tr:only-child th {\n",
       "        text-align: right;\n",
       "    }\n",
       "\n",
       "    .dataframe thead th {\n",
       "        text-align: left;\n",
       "    }\n",
       "\n",
       "    .dataframe tbody tr th {\n",
       "        vertical-align: top;\n",
       "    }\n",
       "</style>\n",
       "<table border=\"1\" class=\"dataframe\">\n",
       "  <thead>\n",
       "    <tr style=\"text-align: right;\">\n",
       "      <th>f1_micro i=0.52</th>\n",
       "      <th>RoadNet+Spatial</th>\n",
       "      <th>Social total+Spatial</th>\n",
       "      <th>Social type+Spatial</th>\n",
       "      <th>RoadNet+Social total+Spatial</th>\n",
       "      <th>RoadNet+Social type+Spatial</th>\n",
       "    </tr>\n",
       "  </thead>\n",
       "  <tbody>\n",
       "    <tr>\n",
       "      <th>BAGcls</th>\n",
       "      <td>0.606742</td>\n",
       "      <td>0.547191</td>\n",
       "      <td>0.601124</td>\n",
       "      <td>0.614607</td>\n",
       "      <td>0.622472</td>\n",
       "    </tr>\n",
       "    <tr>\n",
       "      <th>XGBcls</th>\n",
       "      <td>0.592135</td>\n",
       "      <td>0.538202</td>\n",
       "      <td>0.608989</td>\n",
       "      <td>0.626966</td>\n",
       "      <td>0.649438</td>\n",
       "    </tr>\n",
       "  </tbody>\n",
       "</table>\n",
       "</div>"
      ],
      "text/plain": [
       "f1_micro i=0.52  RoadNet+Spatial  Social total+Spatial  Social type+Spatial  \\\n",
       "BAGcls                  0.606742              0.547191             0.601124   \n",
       "XGBcls                  0.592135              0.538202             0.608989   \n",
       "\n",
       "f1_micro i=0.52  RoadNet+Social total+Spatial  RoadNet+Social type+Spatial  \n",
       "BAGcls                               0.614607                     0.622472  \n",
       "XGBcls                               0.626966                     0.649438  "
      ]
     },
     "metadata": {},
     "output_type": "display_data"
    },
    {
     "data": {
      "text/html": [
       "<div>\n",
       "<style>\n",
       "    .dataframe thead tr:only-child th {\n",
       "        text-align: right;\n",
       "    }\n",
       "\n",
       "    .dataframe thead th {\n",
       "        text-align: left;\n",
       "    }\n",
       "\n",
       "    .dataframe tbody tr th {\n",
       "        vertical-align: top;\n",
       "    }\n",
       "</style>\n",
       "<table border=\"1\" class=\"dataframe\">\n",
       "  <thead>\n",
       "    <tr style=\"text-align: right;\">\n",
       "      <th>f1_micro i=0.54</th>\n",
       "      <th>RoadNet+Spatial</th>\n",
       "      <th>Social total+Spatial</th>\n",
       "      <th>Social type+Spatial</th>\n",
       "      <th>RoadNet+Social total+Spatial</th>\n",
       "      <th>RoadNet+Social type+Spatial</th>\n",
       "    </tr>\n",
       "  </thead>\n",
       "  <tbody>\n",
       "    <tr>\n",
       "      <th>BAGcls</th>\n",
       "      <td>0.610112</td>\n",
       "      <td>0.564045</td>\n",
       "      <td>0.620225</td>\n",
       "      <td>0.620225</td>\n",
       "      <td>0.635955</td>\n",
       "    </tr>\n",
       "    <tr>\n",
       "      <th>XGBcls</th>\n",
       "      <td>0.603371</td>\n",
       "      <td>0.559551</td>\n",
       "      <td>0.610112</td>\n",
       "      <td>0.612360</td>\n",
       "      <td>0.658427</td>\n",
       "    </tr>\n",
       "  </tbody>\n",
       "</table>\n",
       "</div>"
      ],
      "text/plain": [
       "f1_micro i=0.54  RoadNet+Spatial  Social total+Spatial  Social type+Spatial  \\\n",
       "BAGcls                  0.610112              0.564045             0.620225   \n",
       "XGBcls                  0.603371              0.559551             0.610112   \n",
       "\n",
       "f1_micro i=0.54  RoadNet+Social total+Spatial  RoadNet+Social type+Spatial  \n",
       "BAGcls                               0.620225                     0.635955  \n",
       "XGBcls                               0.612360                     0.658427  "
      ]
     },
     "metadata": {},
     "output_type": "display_data"
    },
    {
     "data": {
      "text/html": [
       "<div>\n",
       "<style>\n",
       "    .dataframe thead tr:only-child th {\n",
       "        text-align: right;\n",
       "    }\n",
       "\n",
       "    .dataframe thead th {\n",
       "        text-align: left;\n",
       "    }\n",
       "\n",
       "    .dataframe tbody tr th {\n",
       "        vertical-align: top;\n",
       "    }\n",
       "</style>\n",
       "<table border=\"1\" class=\"dataframe\">\n",
       "  <thead>\n",
       "    <tr style=\"text-align: right;\">\n",
       "      <th>f1_micro i=0.57</th>\n",
       "      <th>RoadNet+Spatial</th>\n",
       "      <th>Social total+Spatial</th>\n",
       "      <th>Social type+Spatial</th>\n",
       "      <th>RoadNet+Social total+Spatial</th>\n",
       "      <th>RoadNet+Social type+Spatial</th>\n",
       "    </tr>\n",
       "  </thead>\n",
       "  <tbody>\n",
       "    <tr>\n",
       "      <th>BAGcls</th>\n",
       "      <td>0.604494</td>\n",
       "      <td>0.564045</td>\n",
       "      <td>0.620225</td>\n",
       "      <td>0.624719</td>\n",
       "      <td>0.638202</td>\n",
       "    </tr>\n",
       "    <tr>\n",
       "      <th>XGBcls</th>\n",
       "      <td>0.596629</td>\n",
       "      <td>0.559551</td>\n",
       "      <td>0.610112</td>\n",
       "      <td>0.620225</td>\n",
       "      <td>0.648315</td>\n",
       "    </tr>\n",
       "  </tbody>\n",
       "</table>\n",
       "</div>"
      ],
      "text/plain": [
       "f1_micro i=0.57  RoadNet+Spatial  Social total+Spatial  Social type+Spatial  \\\n",
       "BAGcls                  0.604494              0.564045             0.620225   \n",
       "XGBcls                  0.596629              0.559551             0.610112   \n",
       "\n",
       "f1_micro i=0.57  RoadNet+Social total+Spatial  RoadNet+Social type+Spatial  \n",
       "BAGcls                               0.624719                     0.638202  \n",
       "XGBcls                               0.620225                     0.648315  "
      ]
     },
     "metadata": {},
     "output_type": "display_data"
    },
    {
     "data": {
      "text/html": [
       "<div>\n",
       "<style>\n",
       "    .dataframe thead tr:only-child th {\n",
       "        text-align: right;\n",
       "    }\n",
       "\n",
       "    .dataframe thead th {\n",
       "        text-align: left;\n",
       "    }\n",
       "\n",
       "    .dataframe tbody tr th {\n",
       "        vertical-align: top;\n",
       "    }\n",
       "</style>\n",
       "<table border=\"1\" class=\"dataframe\">\n",
       "  <thead>\n",
       "    <tr style=\"text-align: right;\">\n",
       "      <th>f1_micro i=0.60</th>\n",
       "      <th>RoadNet+Spatial</th>\n",
       "      <th>Social total+Spatial</th>\n",
       "      <th>Social type+Spatial</th>\n",
       "      <th>RoadNet+Social total+Spatial</th>\n",
       "      <th>RoadNet+Social type+Spatial</th>\n",
       "    </tr>\n",
       "  </thead>\n",
       "  <tbody>\n",
       "    <tr>\n",
       "      <th>BAGcls</th>\n",
       "      <td>0.606742</td>\n",
       "      <td>0.564045</td>\n",
       "      <td>0.620225</td>\n",
       "      <td>0.616854</td>\n",
       "      <td>0.635955</td>\n",
       "    </tr>\n",
       "    <tr>\n",
       "      <th>XGBcls</th>\n",
       "      <td>0.594382</td>\n",
       "      <td>0.559551</td>\n",
       "      <td>0.610112</td>\n",
       "      <td>0.624719</td>\n",
       "      <td>0.644944</td>\n",
       "    </tr>\n",
       "  </tbody>\n",
       "</table>\n",
       "</div>"
      ],
      "text/plain": [
       "f1_micro i=0.60  RoadNet+Spatial  Social total+Spatial  Social type+Spatial  \\\n",
       "BAGcls                  0.606742              0.564045             0.620225   \n",
       "XGBcls                  0.594382              0.559551             0.610112   \n",
       "\n",
       "f1_micro i=0.60  RoadNet+Social total+Spatial  RoadNet+Social type+Spatial  \n",
       "BAGcls                               0.616854                     0.635955  \n",
       "XGBcls                               0.624719                     0.644944  "
      ]
     },
     "metadata": {},
     "output_type": "display_data"
    },
    {
     "data": {
      "text/html": [
       "<div>\n",
       "<style>\n",
       "    .dataframe thead tr:only-child th {\n",
       "        text-align: right;\n",
       "    }\n",
       "\n",
       "    .dataframe thead th {\n",
       "        text-align: left;\n",
       "    }\n",
       "\n",
       "    .dataframe tbody tr th {\n",
       "        vertical-align: top;\n",
       "    }\n",
       "</style>\n",
       "<table border=\"1\" class=\"dataframe\">\n",
       "  <thead>\n",
       "    <tr style=\"text-align: right;\">\n",
       "      <th>f1_micro i=0.62</th>\n",
       "      <th>RoadNet+Spatial</th>\n",
       "      <th>Social total+Spatial</th>\n",
       "      <th>Social type+Spatial</th>\n",
       "      <th>RoadNet+Social total+Spatial</th>\n",
       "      <th>RoadNet+Social type+Spatial</th>\n",
       "    </tr>\n",
       "  </thead>\n",
       "  <tbody>\n",
       "    <tr>\n",
       "      <th>BAGcls</th>\n",
       "      <td>0.593258</td>\n",
       "      <td>0.564045</td>\n",
       "      <td>0.620225</td>\n",
       "      <td>0.616854</td>\n",
       "      <td>0.637079</td>\n",
       "    </tr>\n",
       "    <tr>\n",
       "      <th>XGBcls</th>\n",
       "      <td>0.583146</td>\n",
       "      <td>0.559551</td>\n",
       "      <td>0.610112</td>\n",
       "      <td>0.620225</td>\n",
       "      <td>0.658427</td>\n",
       "    </tr>\n",
       "  </tbody>\n",
       "</table>\n",
       "</div>"
      ],
      "text/plain": [
       "f1_micro i=0.62  RoadNet+Spatial  Social total+Spatial  Social type+Spatial  \\\n",
       "BAGcls                  0.593258              0.564045             0.620225   \n",
       "XGBcls                  0.583146              0.559551             0.610112   \n",
       "\n",
       "f1_micro i=0.62  RoadNet+Social total+Spatial  RoadNet+Social type+Spatial  \n",
       "BAGcls                               0.616854                     0.637079  \n",
       "XGBcls                               0.620225                     0.658427  "
      ]
     },
     "metadata": {},
     "output_type": "display_data"
    },
    {
     "data": {
      "text/html": [
       "<div>\n",
       "<style>\n",
       "    .dataframe thead tr:only-child th {\n",
       "        text-align: right;\n",
       "    }\n",
       "\n",
       "    .dataframe thead th {\n",
       "        text-align: left;\n",
       "    }\n",
       "\n",
       "    .dataframe tbody tr th {\n",
       "        vertical-align: top;\n",
       "    }\n",
       "</style>\n",
       "<table border=\"1\" class=\"dataframe\">\n",
       "  <thead>\n",
       "    <tr style=\"text-align: right;\">\n",
       "      <th>f1_micro i=0.64</th>\n",
       "      <th>RoadNet+Spatial</th>\n",
       "      <th>Social total+Spatial</th>\n",
       "      <th>Social type+Spatial</th>\n",
       "      <th>RoadNet+Social total+Spatial</th>\n",
       "      <th>RoadNet+Social type+Spatial</th>\n",
       "    </tr>\n",
       "  </thead>\n",
       "  <tbody>\n",
       "    <tr>\n",
       "      <th>BAGcls</th>\n",
       "      <td>0.593258</td>\n",
       "      <td>0.564045</td>\n",
       "      <td>0.626966</td>\n",
       "      <td>0.616854</td>\n",
       "      <td>0.632584</td>\n",
       "    </tr>\n",
       "    <tr>\n",
       "      <th>XGBcls</th>\n",
       "      <td>0.583146</td>\n",
       "      <td>0.559551</td>\n",
       "      <td>0.611236</td>\n",
       "      <td>0.620225</td>\n",
       "      <td>0.651685</td>\n",
       "    </tr>\n",
       "  </tbody>\n",
       "</table>\n",
       "</div>"
      ],
      "text/plain": [
       "f1_micro i=0.64  RoadNet+Spatial  Social total+Spatial  Social type+Spatial  \\\n",
       "BAGcls                  0.593258              0.564045             0.626966   \n",
       "XGBcls                  0.583146              0.559551             0.611236   \n",
       "\n",
       "f1_micro i=0.64  RoadNet+Social total+Spatial  RoadNet+Social type+Spatial  \n",
       "BAGcls                               0.616854                     0.632584  \n",
       "XGBcls                               0.620225                     0.651685  "
      ]
     },
     "metadata": {},
     "output_type": "display_data"
    },
    {
     "data": {
      "text/html": [
       "<div>\n",
       "<style>\n",
       "    .dataframe thead tr:only-child th {\n",
       "        text-align: right;\n",
       "    }\n",
       "\n",
       "    .dataframe thead th {\n",
       "        text-align: left;\n",
       "    }\n",
       "\n",
       "    .dataframe tbody tr th {\n",
       "        vertical-align: top;\n",
       "    }\n",
       "</style>\n",
       "<table border=\"1\" class=\"dataframe\">\n",
       "  <thead>\n",
       "    <tr style=\"text-align: right;\">\n",
       "      <th>f1_micro i=0.68</th>\n",
       "      <th>RoadNet+Spatial</th>\n",
       "      <th>Social total+Spatial</th>\n",
       "      <th>Social type+Spatial</th>\n",
       "      <th>RoadNet+Social total+Spatial</th>\n",
       "      <th>RoadNet+Social type+Spatial</th>\n",
       "    </tr>\n",
       "  </thead>\n",
       "  <tbody>\n",
       "    <tr>\n",
       "      <th>BAGcls</th>\n",
       "      <td>0.612360</td>\n",
       "      <td>0.564045</td>\n",
       "      <td>0.626966</td>\n",
       "      <td>0.610112</td>\n",
       "      <td>0.639326</td>\n",
       "    </tr>\n",
       "    <tr>\n",
       "      <th>XGBcls</th>\n",
       "      <td>0.568539</td>\n",
       "      <td>0.559551</td>\n",
       "      <td>0.611236</td>\n",
       "      <td>0.626966</td>\n",
       "      <td>0.652809</td>\n",
       "    </tr>\n",
       "  </tbody>\n",
       "</table>\n",
       "</div>"
      ],
      "text/plain": [
       "f1_micro i=0.68  RoadNet+Spatial  Social total+Spatial  Social type+Spatial  \\\n",
       "BAGcls                  0.612360              0.564045             0.626966   \n",
       "XGBcls                  0.568539              0.559551             0.611236   \n",
       "\n",
       "f1_micro i=0.68  RoadNet+Social total+Spatial  RoadNet+Social type+Spatial  \n",
       "BAGcls                               0.610112                     0.639326  \n",
       "XGBcls                               0.626966                     0.652809  "
      ]
     },
     "metadata": {},
     "output_type": "display_data"
    },
    {
     "data": {
      "text/html": [
       "<div>\n",
       "<style>\n",
       "    .dataframe thead tr:only-child th {\n",
       "        text-align: right;\n",
       "    }\n",
       "\n",
       "    .dataframe thead th {\n",
       "        text-align: left;\n",
       "    }\n",
       "\n",
       "    .dataframe tbody tr th {\n",
       "        vertical-align: top;\n",
       "    }\n",
       "</style>\n",
       "<table border=\"1\" class=\"dataframe\">\n",
       "  <thead>\n",
       "    <tr style=\"text-align: right;\">\n",
       "      <th>f1_micro i=0.69</th>\n",
       "      <th>RoadNet+Spatial</th>\n",
       "      <th>Social total+Spatial</th>\n",
       "      <th>Social type+Spatial</th>\n",
       "      <th>RoadNet+Social total+Spatial</th>\n",
       "      <th>RoadNet+Social type+Spatial</th>\n",
       "    </tr>\n",
       "  </thead>\n",
       "  <tbody>\n",
       "    <tr>\n",
       "      <th>BAGcls</th>\n",
       "      <td>0.619101</td>\n",
       "      <td>0.564045</td>\n",
       "      <td>0.626966</td>\n",
       "      <td>0.62809</td>\n",
       "      <td>0.624719</td>\n",
       "    </tr>\n",
       "    <tr>\n",
       "      <th>XGBcls</th>\n",
       "      <td>0.574157</td>\n",
       "      <td>0.559551</td>\n",
       "      <td>0.611236</td>\n",
       "      <td>0.61236</td>\n",
       "      <td>0.652809</td>\n",
       "    </tr>\n",
       "  </tbody>\n",
       "</table>\n",
       "</div>"
      ],
      "text/plain": [
       "f1_micro i=0.69  RoadNet+Spatial  Social total+Spatial  Social type+Spatial  \\\n",
       "BAGcls                  0.619101              0.564045             0.626966   \n",
       "XGBcls                  0.574157              0.559551             0.611236   \n",
       "\n",
       "f1_micro i=0.69  RoadNet+Social total+Spatial  RoadNet+Social type+Spatial  \n",
       "BAGcls                                0.62809                     0.624719  \n",
       "XGBcls                                0.61236                     0.652809  "
      ]
     },
     "metadata": {},
     "output_type": "display_data"
    },
    {
     "data": {
      "text/html": [
       "<div>\n",
       "<style>\n",
       "    .dataframe thead tr:only-child th {\n",
       "        text-align: right;\n",
       "    }\n",
       "\n",
       "    .dataframe thead th {\n",
       "        text-align: left;\n",
       "    }\n",
       "\n",
       "    .dataframe tbody tr th {\n",
       "        vertical-align: top;\n",
       "    }\n",
       "</style>\n",
       "<table border=\"1\" class=\"dataframe\">\n",
       "  <thead>\n",
       "    <tr style=\"text-align: right;\">\n",
       "      <th>f1_micro i=0.7</th>\n",
       "      <th>RoadNet+Spatial</th>\n",
       "      <th>Social total+Spatial</th>\n",
       "      <th>Social type+Spatial</th>\n",
       "      <th>RoadNet+Social total+Spatial</th>\n",
       "      <th>RoadNet+Social type+Spatial</th>\n",
       "    </tr>\n",
       "  </thead>\n",
       "  <tbody>\n",
       "    <tr>\n",
       "      <th>BAGcls</th>\n",
       "      <td>0.619101</td>\n",
       "      <td>0.564045</td>\n",
       "      <td>0.606742</td>\n",
       "      <td>0.62809</td>\n",
       "      <td>0.647191</td>\n",
       "    </tr>\n",
       "    <tr>\n",
       "      <th>XGBcls</th>\n",
       "      <td>0.574157</td>\n",
       "      <td>0.559551</td>\n",
       "      <td>0.606742</td>\n",
       "      <td>0.61236</td>\n",
       "      <td>0.647191</td>\n",
       "    </tr>\n",
       "  </tbody>\n",
       "</table>\n",
       "</div>"
      ],
      "text/plain": [
       "f1_micro i=0.7  RoadNet+Spatial  Social total+Spatial  Social type+Spatial  \\\n",
       "BAGcls                 0.619101              0.564045             0.606742   \n",
       "XGBcls                 0.574157              0.559551             0.606742   \n",
       "\n",
       "f1_micro i=0.7  RoadNet+Social total+Spatial  RoadNet+Social type+Spatial  \n",
       "BAGcls                               0.62809                     0.647191  \n",
       "XGBcls                               0.61236                     0.647191  "
      ]
     },
     "metadata": {},
     "output_type": "display_data"
    },
    {
     "data": {
      "text/html": [
       "<div>\n",
       "<style>\n",
       "    .dataframe thead tr:only-child th {\n",
       "        text-align: right;\n",
       "    }\n",
       "\n",
       "    .dataframe thead th {\n",
       "        text-align: left;\n",
       "    }\n",
       "\n",
       "    .dataframe tbody tr th {\n",
       "        vertical-align: top;\n",
       "    }\n",
       "</style>\n",
       "<table border=\"1\" class=\"dataframe\">\n",
       "  <thead>\n",
       "    <tr style=\"text-align: right;\">\n",
       "      <th>f1_micro i=0.8</th>\n",
       "      <th>RoadNet+Spatial</th>\n",
       "      <th>Social total+Spatial</th>\n",
       "      <th>Social type+Spatial</th>\n",
       "      <th>RoadNet+Social total+Spatial</th>\n",
       "      <th>RoadNet+Social type+Spatial</th>\n",
       "    </tr>\n",
       "  </thead>\n",
       "  <tbody>\n",
       "    <tr>\n",
       "      <th>BAGcls</th>\n",
       "      <td>0.606742</td>\n",
       "      <td>0.532584</td>\n",
       "      <td>0.616854</td>\n",
       "      <td>0.631461</td>\n",
       "      <td>0.638202</td>\n",
       "    </tr>\n",
       "    <tr>\n",
       "      <th>XGBcls</th>\n",
       "      <td>0.579775</td>\n",
       "      <td>0.547191</td>\n",
       "      <td>0.603371</td>\n",
       "      <td>0.634831</td>\n",
       "      <td>0.648315</td>\n",
       "    </tr>\n",
       "  </tbody>\n",
       "</table>\n",
       "</div>"
      ],
      "text/plain": [
       "f1_micro i=0.8  RoadNet+Spatial  Social total+Spatial  Social type+Spatial  \\\n",
       "BAGcls                 0.606742              0.532584             0.616854   \n",
       "XGBcls                 0.579775              0.547191             0.603371   \n",
       "\n",
       "f1_micro i=0.8  RoadNet+Social total+Spatial  RoadNet+Social type+Spatial  \n",
       "BAGcls                              0.631461                     0.638202  \n",
       "XGBcls                              0.634831                     0.648315  "
      ]
     },
     "metadata": {},
     "output_type": "display_data"
    }
   ],
   "source": [
    "f1_type = f1_choices[2]\n",
    "for i_thres in [0.0, 0.1, 0.3, 0.5, 0.52, 0.54, 0.57, '0.60', 0.62, 0.64, 0.68, 0.69, 0.7, 0.8]:\n",
    "    tmp = means.reset_index()\n",
    "    table = tmp[tmp.i_thres==str(i_thres)].reset_index().pivot(index='model_name', columns='ftr_combo_name', values=f1_type)\n",
    "\n",
    "    dtb = deliverable_table(table)\n",
    "    dtb.columns.name=f1_type.replace('test_', '')+' i='+str(i_thres)\n",
    "    display(dtb)\n"
   ]
  },
  {
   "cell_type": "code",
   "execution_count": 78,
   "metadata": {},
   "outputs": [
    {
     "data": {
      "text/html": [
       "<div>\n",
       "<style>\n",
       "    .dataframe thead tr:only-child th {\n",
       "        text-align: right;\n",
       "    }\n",
       "\n",
       "    .dataframe thead th {\n",
       "        text-align: left;\n",
       "    }\n",
       "\n",
       "    .dataframe tbody tr th {\n",
       "        vertical-align: top;\n",
       "    }\n",
       "</style>\n",
       "<table border=\"1\" class=\"dataframe\">\n",
       "  <thead>\n",
       "    <tr style=\"text-align: right;\">\n",
       "      <th>f1_micro i=0.8</th>\n",
       "      <th>RoadNet+Spatial</th>\n",
       "      <th>Social total+Spatial</th>\n",
       "      <th>Social type+Spatial</th>\n",
       "      <th>RoadNet+Social total+Spatial</th>\n",
       "      <th>RoadNet+Social type+Spatial</th>\n",
       "    </tr>\n",
       "  </thead>\n",
       "  <tbody>\n",
       "    <tr>\n",
       "      <th>BAGcls</th>\n",
       "      <td>0.569663</td>\n",
       "      <td>0.540449</td>\n",
       "      <td>0.553933</td>\n",
       "      <td>0.557303</td>\n",
       "      <td>0.574157</td>\n",
       "    </tr>\n",
       "    <tr>\n",
       "      <th>XGBcls</th>\n",
       "      <td>0.571910</td>\n",
       "      <td>0.500000</td>\n",
       "      <td>0.548315</td>\n",
       "      <td>0.575281</td>\n",
       "      <td>0.565169</td>\n",
       "    </tr>\n",
       "  </tbody>\n",
       "</table>\n",
       "</div>"
      ],
      "text/plain": [
       "f1_micro i=0.8  RoadNet+Spatial  Social total+Spatial  Social type+Spatial  \\\n",
       "BAGcls                 0.569663              0.540449             0.553933   \n",
       "XGBcls                 0.571910              0.500000             0.548315   \n",
       "\n",
       "f1_micro i=0.8  RoadNet+Social total+Spatial  RoadNet+Social type+Spatial  \n",
       "BAGcls                              0.557303                     0.574157  \n",
       "XGBcls                              0.575281                     0.565169  "
      ]
     },
     "metadata": {},
     "output_type": "display_data"
    }
   ],
   "source": [
    "\n",
    "tmp = means.reset_index()\n",
    "table = tmp[tmp.i_thres=='Only'].reset_index().pivot(index='model_name', columns='ftr_combo_name', values=f1_type)\n",
    "\n",
    "dtb = deliverable_table(table)\n",
    "dtb.columns.name=f1_type.replace('test_', '')+' i='+str(i_thres)\n",
    "display(dtb)"
   ]
  }
 ],
 "metadata": {
  "kernelspec": {
   "display_name": "Python 3",
   "language": "python",
   "name": "python3"
  },
  "language_info": {
   "codemirror_mode": {
    "name": "ipython",
    "version": 3
   },
   "file_extension": ".py",
   "mimetype": "text/x-python",
   "name": "python",
   "nbconvert_exporter": "python",
   "pygments_lexer": "ipython3",
   "version": "3.6.1"
  }
 },
 "nbformat": 4,
 "nbformat_minor": 2
}
