{
 "cells": [
  {
   "cell_type": "code",
   "execution_count": 27,
   "metadata": {
    "collapsed": true
   },
   "outputs": [],
   "source": [
    "import pandas as pd"
   ]
  },
  {
   "cell_type": "code",
   "execution_count": 28,
   "metadata": {
    "collapsed": true
   },
   "outputs": [],
   "source": [
    "import numpy as np\n",
    "import pickle\n",
    "ROAD_NET_FTR = ['seg_attr', 'net_SaN', 'net_SaE', 'bk_osm', 'bk_opendc', 'elevation']\n",
    "SEGMENT_FTR = ['poi', 'crash', '311', 'v0', 'crime', 'moving', 'parking']"
   ]
  },
  {
   "cell_type": "code",
   "execution_count": 43,
   "metadata": {
    "collapsed": true
   },
   "outputs": [],
   "source": [
    "\n",
    "def neighbor_ftr(total_or_type, i_thres):\n",
    "    total_or_type = '-total' if total_or_type else ''\n",
    "    df_db_binary = pd.read_csv('spatial-corr/moran-i-distanceband-binary%s.csv' % total_or_type, index_col=0)\n",
    "    db_150 = df_db_binary.db_b == 150\n",
    "    sig_rand = df_db_binary.p_rand < 0.05\n",
    "    pass_i_thres = df_db_binary.I.abs() >= i_thres\n",
    "    keep_cols = df_db_binary[db_150 & sig_rand & pass_i_thres].column\n",
    "    keep_cols = (keep_cols + '_neighbor').tolist()\n",
    "    return keep_cols\n",
    "\n",
    "def features(keep_categories, total_or_type):\n",
    "    fn = 'data/x_TOTAL_~2014_cols_by_type.pkl' if total_or_type else 'data/x_NO_TOTAL_~2014_cols_by_type.pkl'\n",
    "    cols_dict = pickle.load(open(fn, 'rb'))\n",
    "    keep_ftr = []\n",
    "    for ftr_type, ftr_cols in cols_dict.items():\n",
    "        if ftr_type in keep_categories:\n",
    "            keep_ftr += ftr_cols\n",
    "    return keep_ftr"
   ]
  },
  {
   "cell_type": "code",
   "execution_count": 54,
   "metadata": {},
   "outputs": [],
   "source": [
    "i_thres = 0.5\n",
    "IS_TOTAL = True\n",
    "IS_TYPE = False\n",
    "\n",
    "# different type of columns\n",
    "rcol_type = features(ROAD_NET_FTR, IS_TYPE)\n",
    "scol_type = features(SEGMENT_FTR, IS_TYPE)\n",
    "nb_col_type = neighbor_ftr(IS_TYPE, i_thres)\n",
    "nb_rcol_type = [c + '_neighbor' for c in rcol_type if c + '_neighbor' in nb_col_type]\n",
    "nb_scol_type = [c + '_neighbor' for c in scol_type if c + '_neighbor' in nb_col_type]\n",
    "\n",
    "rcol_total = features(ROAD_NET_FTR, IS_TOTAL)\n",
    "scol_total = features(SEGMENT_FTR, IS_TOTAL)\n",
    "nb_col_total = neighbor_ftr(IS_TOTAL, i_thres)\n",
    "nb_rcol_total = [c + '_neighbor' for c in rcol_total if c + '_neighbor' in nb_col_total]\n",
    "nb_scol_total = [c + '_neighbor' for c in scol_total if c + '_neighbor' in nb_col_total]\n",
    "\n",
    "# self and neighbor features\n",
    "x_nb_type = pd.read_csv('spatial-corr/x-neighbor-db-150-binary.csv', index_col=0)\n",
    "x_nb_total = pd.read_csv('spatial-corr/x_total-neighbor-db-150-binary.csv', index_col=0)\n",
    "x_type = pd.read_csv('data/x_NO_TOTAL_~2014.csv',index_col=0)\n",
    "x_total = pd.read_csv('data/x_TOTAL_~2014.csv',index_col=0)\n",
    "\n",
    "# final feature\n",
    "Xs = {}\n",
    "Xs['RoadNet+Spatial'] = x_type[rcol_type].join(x_nb_type[nb_rcol_type])\n",
    "Xs['Social type+Spatial'] = x_type[scol_type].join(x_nb_type[nb_scol_type])\n",
    "Xs['RoadNet+Social type+Spatial'] = x_type[rcol_type+scol_type].join(x_nb_type[nb_rcol_type+nb_scol_type])\n",
    "\n",
    "Xs['Social total+Spatial'] = x_total[scol_total].join(x_nb_total[nb_scol_total])\n",
    "Xs['RoadNet+Social total+Spatial'] = x_total[rcol_total+scol_total].join(x_nb_total[nb_rcol_total+nb_scol_total])"
   ]
  },
  {
   "cell_type": "code",
   "execution_count": 58,
   "metadata": {},
   "outputs": [
    {
     "data": {
      "text/plain": [
       "(66, 231, 16, 29)"
      ]
     },
     "execution_count": 58,
     "metadata": {},
     "output_type": "execute_result"
    }
   ],
   "source": [
    "len(rcol_total) + len(scol_total), len(rcol_type)+len(scol_type), len(nb_col_total), len(nb_col_type)"
   ]
  },
  {
   "cell_type": "code",
   "execution_count": 61,
   "metadata": {},
   "outputs": [
    {
     "data": {
      "text/plain": [
       "(75, 185, 12)"
      ]
     },
     "execution_count": 61,
     "metadata": {},
     "output_type": "execute_result"
    }
   ],
   "source": [
    "len(nb_rcol_type) + len(rcol_type),\\\n",
    "len(nb_scol_type) + len(scol_type),\\\n",
    "len(nb_scol_total) + len(scol_total),\\\n"
   ]
  },
  {
   "cell_type": "code",
   "execution_count": 56,
   "metadata": {},
   "outputs": [
    {
     "name": "stdout",
     "output_type": "stream",
     "text": [
      "RoadNet+Spatial (13522, 75)\n",
      "Social type+Spatial (13522, 185)\n",
      "RoadNet+Social type+Spatial (13522, 260)\n",
      "Social total+Spatial (13522, 12)\n",
      "RoadNet+Social total+Spatial (13522, 82)\n"
     ]
    }
   ],
   "source": [
    "for k, v in Xs.items():\n",
    "    print(k, v.shape)"
   ]
  },
  {
   "cell_type": "code",
   "execution_count": 69,
   "metadata": {},
   "outputs": [
    {
     "name": "stdout",
     "output_type": "stream",
     "text": [
      "0.52 27 15\n",
      "0.54 25 13\n",
      "0.57 22 10\n",
      "0.6 20 9\n",
      "0.62 19 8\n",
      "0.64 18 8\n",
      "0.68 16 6\n",
      "0.69 15 5\n"
     ]
    }
   ],
   "source": [
    "prev = 29\n",
    "prev_total = 16\n",
    "good_i = []\n",
    "for i_thres in np.arange(0.51,0.7,0.01):\n",
    "    keep_cols_type = neighbor_ftr(False, i_thres)\n",
    "    keep_cols_total = neighbor_ftr(True, i_thres)\n",
    "\n",
    "    if not (len(keep_cols_type)==prev and len(keep_cols_total)==prev_total):\n",
    "        print(i_thres, len(keep_cols_type), len(keep_cols_total), )\n",
    "        good_i.append(i_thres)\n",
    "    prev = len(keep_cols_type)\n",
    "    prev_total = len(keep_cols_total)"
   ]
  },
  {
   "cell_type": "code",
   "execution_count": 67,
   "metadata": {},
   "outputs": [
    {
     "data": {
      "text/plain": [
       "[0.52, 0.54, 0.57, 0.6, 0.62, 0.64, 0.68, 0.69]"
      ]
     },
     "execution_count": 67,
     "metadata": {},
     "output_type": "execute_result"
    }
   ],
   "source": [
    "[0.52, 0.54, 0.57, 0.60, 0.62, 0.64, 0.68, 0.69]"
   ]
  },
  {
   "cell_type": "code",
   "execution_count": null,
   "metadata": {
    "collapsed": true
   },
   "outputs": [],
   "source": []
  }
 ],
 "metadata": {
  "kernelspec": {
   "display_name": "Python 3",
   "language": "python",
   "name": "python3"
  },
  "language_info": {
   "codemirror_mode": {
    "name": "ipython",
    "version": 3
   },
   "file_extension": ".py",
   "mimetype": "text/x-python",
   "name": "python",
   "nbconvert_exporter": "python",
   "pygments_lexer": "ipython3",
   "version": "3.6.1"
  }
 },
 "nbformat": 4,
 "nbformat_minor": 2
}
