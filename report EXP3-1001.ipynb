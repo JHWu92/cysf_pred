{
 "cells": [
  {
   "cell_type": "code",
   "execution_count": 1,
   "metadata": {
    "collapsed": true
   },
   "outputs": [],
   "source": [
    "# best 3 solutions based on EXP1 in turns of f1 weighted is:\n",
    "# XGBcls, RoadNet+Segment NO_TOTAL, 0.633558\n",
    "# BAGcls, RoadNet+Segment NO_TOTAL, 0.627140\n",
    "# GDBcls, RoadNet+Segment NO_TOTAL， 0.624862\n",
    "# with ~2014, min-max, no feature selection"
   ]
  },
  {
   "cell_type": "code",
   "execution_count": 2,
   "metadata": {
    "collapsed": true
   },
   "outputs": [],
   "source": [
    "import pandas as pd\n",
    "%matplotlib inline"
   ]
  },
  {
   "cell_type": "code",
   "execution_count": 3,
   "metadata": {
    "collapsed": true
   },
   "outputs": [],
   "source": [
    "from src.experiment_based_function import SEEDS"
   ]
  },
  {
   "cell_type": "code",
   "execution_count": 4,
   "metadata": {
    "collapsed": true
   },
   "outputs": [],
   "source": [
    "f1_choices = ['test_f1_weighted', 'test_f1_macro', 'test_f1_micro']"
   ]
  },
  {
   "cell_type": "code",
   "execution_count": 5,
   "metadata": {
    "collapsed": true
   },
   "outputs": [],
   "source": [
    "def get_paper_table(means, f1_type, key_cols):\n",
    "    cols_name_convert = {'RoadNet': 'RoadNet', 'RoadNet+Segment_NO_TOTAL_~2014': 'RoadNet+Segment type',\n",
    "     'RoadNet+Segment_TOTAL_~2014': 'RoadNet+Segment total', 'Segment_NO_TOTAL_~2014': 'Segment type',\n",
    "     'Segment_TOTAL_~2014': 'Segment total'}\n",
    "    means_for_pivot = means.reset_index()\n",
    "    means_for_pivot['key'] = means_for_pivot.apply(lambda x: tuple([x[col] for col in key_cols]), axis=1)\n",
    "    table = means_for_pivot.reset_index().pivot(index='key', columns='ftr_combo_name', values=f1_type)\n",
    "    table.index = pd.MultiIndex.from_tuples(table.index, names=key_cols)    \n",
    "    table.columns.name = f1_type\n",
    "    table.columns = [cols_name_convert[col] for col in table.columns]\n",
    "    return table[['RoadNet', 'Segment total', 'Segment type', 'RoadNet+Segment total', 'RoadNet+Segment type']]"
   ]
  },
  {
   "cell_type": "markdown",
   "metadata": {},
   "source": [
    "# Upsample result"
   ]
  },
  {
   "cell_type": "code",
   "execution_count": 14,
   "metadata": {
    "collapsed": true
   },
   "outputs": [],
   "source": [
    "def get_up_result(upsample_type, eval_or_grid):\n",
    "    res = []\n",
    "    has_res_cnt = {'regular':0, 'svm':0}\n",
    "    for smote_kind in ['regular', 'svm']:\n",
    "        for seed in SEEDS:\n",
    "            exp_path = 'experiment_1001/exp3/seed_%d' % seed\n",
    "            smote_path = '%s/%s_%s' % (exp_path, upsample_type, smote_kind)\n",
    "            try:\n",
    "                df = pd.read_csv('%s/%s_res.csv' % (smote_path, eval_or_grid), index_col=0)\n",
    "                df['seed'] = seed\n",
    "                df['smote_kind'] = smote_kind\n",
    "                has_res_cnt[smote_kind]+=1\n",
    "                res.append(df)\n",
    "                \n",
    "            except FileNotFoundError:\n",
    "                print('no %s_res in' % eval_or_grid, smote_path)\n",
    "\n",
    "    res = pd.concat(res, ignore_index=True)\n",
    "    print(has_res_cnt)\n",
    "    return res"
   ]
  },
  {
   "cell_type": "code",
   "execution_count": 10,
   "metadata": {
    "collapsed": true
   },
   "outputs": [],
   "source": [
    "keys = ['smote_kind', 'model_name', 'feature_selection', 'ftr_combo_name']"
   ]
  },
  {
   "cell_type": "code",
   "execution_count": 15,
   "metadata": {},
   "outputs": [
    {
     "name": "stdout",
     "output_type": "stream",
     "text": [
      "no eval_res in experiment_1001/exp3/seed_972/upsample_smote_regular\n",
      "no eval_res in experiment_1001/exp3/seed_7821/upsample_smote_regular\n",
      "no eval_res in experiment_1001/exp3/seed_57852/upsample_smote_regular\n",
      "no eval_res in experiment_1001/exp3/seed_168352/upsample_smote_regular\n",
      "no eval_res in experiment_1001/exp3/seed_789729423/upsample_smote_regular\n",
      "no eval_res in experiment_1001/exp3/seed_972/upsample_smote_svm\n",
      "no eval_res in experiment_1001/exp3/seed_7821/upsample_smote_svm\n",
      "no eval_res in experiment_1001/exp3/seed_57852/upsample_smote_svm\n",
      "no eval_res in experiment_1001/exp3/seed_168352/upsample_smote_svm\n",
      "no eval_res in experiment_1001/exp3/seed_789729423/upsample_smote_svm\n",
      "{'regular': 5, 'svm': 5}\n"
     ]
    }
   ],
   "source": [
    "up_eval_res = get_up_result('upsample_smote', 'eval')"
   ]
  },
  {
   "cell_type": "code",
   "execution_count": 10,
   "metadata": {
    "collapsed": true,
    "scrolled": true
   },
   "outputs": [],
   "source": [
    "# up_eval_res[['up_y_dist', 'y_dist']].iloc[::-1]"
   ]
  },
  {
   "cell_type": "code",
   "execution_count": 16,
   "metadata": {
    "collapsed": true
   },
   "outputs": [],
   "source": [
    "up_means = up_eval_res.groupby(keys).mean()[f1_choices]\n",
    "up_stds = up_eval_res.groupby(keys).std()[f1_choices]"
   ]
  },
  {
   "cell_type": "code",
   "execution_count": 36,
   "metadata": {
    "scrolled": true
   },
   "outputs": [
    {
     "name": "stdout",
     "output_type": "stream",
     "text": [
      "f1_type = test_f1_micro\n"
     ]
    },
    {
     "data": {
      "text/html": [
       "<div>\n",
       "<style>\n",
       "    .dataframe thead tr:only-child th {\n",
       "        text-align: right;\n",
       "    }\n",
       "\n",
       "    .dataframe thead th {\n",
       "        text-align: left;\n",
       "    }\n",
       "\n",
       "    .dataframe tbody tr th {\n",
       "        vertical-align: top;\n",
       "    }\n",
       "</style>\n",
       "<table border=\"1\" class=\"dataframe\">\n",
       "  <thead>\n",
       "    <tr style=\"text-align: right;\">\n",
       "      <th></th>\n",
       "      <th></th>\n",
       "      <th></th>\n",
       "      <th></th>\n",
       "      <th>test_f1_micro</th>\n",
       "    </tr>\n",
       "    <tr>\n",
       "      <th>smote_kind</th>\n",
       "      <th>model_name</th>\n",
       "      <th>feature_selection</th>\n",
       "      <th>ftr_combo_name</th>\n",
       "      <th></th>\n",
       "    </tr>\n",
       "  </thead>\n",
       "  <tbody>\n",
       "    <tr>\n",
       "      <th rowspan=\"2\" valign=\"top\">regular</th>\n",
       "      <th rowspan=\"2\" valign=\"top\">XGBcls</th>\n",
       "      <th>None</th>\n",
       "      <th>RoadNet+Segment_NO_TOTAL_~2014</th>\n",
       "      <td>0.662921</td>\n",
       "    </tr>\n",
       "    <tr>\n",
       "      <th>mrmr</th>\n",
       "      <th>RoadNet+Segment_NO_TOTAL_~2014</th>\n",
       "      <td>0.662921</td>\n",
       "    </tr>\n",
       "    <tr>\n",
       "      <th rowspan=\"2\" valign=\"top\">svm</th>\n",
       "      <th rowspan=\"2\" valign=\"top\">XGBcls</th>\n",
       "      <th>None</th>\n",
       "      <th>RoadNet+Segment_NO_TOTAL_~2014</th>\n",
       "      <td>0.653933</td>\n",
       "    </tr>\n",
       "    <tr>\n",
       "      <th>mrmr</th>\n",
       "      <th>RoadNet+Segment_NO_TOTAL_~2014</th>\n",
       "      <td>0.651685</td>\n",
       "    </tr>\n",
       "    <tr>\n",
       "      <th>regular</th>\n",
       "      <th>BAGcls</th>\n",
       "      <th>None</th>\n",
       "      <th>RoadNet</th>\n",
       "      <td>0.649438</td>\n",
       "    </tr>\n",
       "  </tbody>\n",
       "</table>\n",
       "</div>"
      ],
      "text/plain": [
       "                                                                        test_f1_micro\n",
       "smote_kind model_name feature_selection ftr_combo_name                               \n",
       "regular    XGBcls     None              RoadNet+Segment_NO_TOTAL_~2014       0.662921\n",
       "                      mrmr              RoadNet+Segment_NO_TOTAL_~2014       0.662921\n",
       "svm        XGBcls     None              RoadNet+Segment_NO_TOTAL_~2014       0.653933\n",
       "                      mrmr              RoadNet+Segment_NO_TOTAL_~2014       0.651685\n",
       "regular    BAGcls     None              RoadNet                              0.649438"
      ]
     },
     "execution_count": 36,
     "metadata": {},
     "output_type": "execute_result"
    },
    {
     "data": {
      "image/png": "[encoded data removed]",
      "text/plain": [
       "<matplotlib.figure.Figure at 0x7ff77095ef28>"
      ]
     },
     "metadata": {},
     "output_type": "display_data"
    }
   ],
   "source": [
    "f1_type = f1_choices[2]\n",
    "print('f1_type =', f1_type)\n",
    "\n",
    "up_means_to_plot = up_means[[f1_type]].sort_values(f1_type, ascending=True)\n",
    "up_stds_to_plot = up_stds[[f1_type]]\n",
    "\n",
    "table_top_n = 5\n",
    "plot_top_n = 5\n",
    "up_means_to_plot.iloc[-plot_top_n:].plot(kind='barh', figsize=(10,7), xerr=up_stds_to_plot)\n",
    "up_means_to_plot.iloc[:-(table_top_n+1):-1,:]"
   ]
  },
  {
   "cell_type": "code",
   "execution_count": 21,
   "metadata": {},
   "outputs": [
    {
     "name": "stdout",
     "output_type": "stream",
     "text": [
      "f1_type = test_f1_weighted\n"
     ]
    },
    {
     "data": {
      "text/html": [
       "<div>\n",
       "<style>\n",
       "    .dataframe thead tr:only-child th {\n",
       "        text-align: right;\n",
       "    }\n",
       "\n",
       "    .dataframe thead th {\n",
       "        text-align: left;\n",
       "    }\n",
       "\n",
       "    .dataframe tbody tr th {\n",
       "        vertical-align: top;\n",
       "    }\n",
       "</style>\n",
       "<table border=\"1\" class=\"dataframe\">\n",
       "  <thead>\n",
       "    <tr style=\"text-align: right;\">\n",
       "      <th></th>\n",
       "      <th></th>\n",
       "      <th></th>\n",
       "      <th>RoadNet</th>\n",
       "      <th>Segment total</th>\n",
       "      <th>Segment type</th>\n",
       "      <th>RoadNet+Segment total</th>\n",
       "      <th>RoadNet+Segment type</th>\n",
       "    </tr>\n",
       "    <tr>\n",
       "      <th>model_name</th>\n",
       "      <th>feature_selection</th>\n",
       "      <th>smote_kind</th>\n",
       "      <th></th>\n",
       "      <th></th>\n",
       "      <th></th>\n",
       "      <th></th>\n",
       "      <th></th>\n",
       "    </tr>\n",
       "  </thead>\n",
       "  <tbody>\n",
       "    <tr>\n",
       "      <th rowspan=\"6\" valign=\"top\">BAGcls</th>\n",
       "      <th rowspan=\"2\" valign=\"top\">None</th>\n",
       "      <th>regular</th>\n",
       "      <td>0.646238</td>\n",
       "      <td>0.505151</td>\n",
       "      <td>0.604942</td>\n",
       "      <td>0.624170</td>\n",
       "      <td>0.639987</td>\n",
       "    </tr>\n",
       "    <tr>\n",
       "      <th>svm</th>\n",
       "      <td>0.623334</td>\n",
       "      <td>0.498085</td>\n",
       "      <td>0.598525</td>\n",
       "      <td>0.621838</td>\n",
       "      <td>0.621371</td>\n",
       "    </tr>\n",
       "    <tr>\n",
       "      <th rowspan=\"2\" valign=\"top\">mrmr</th>\n",
       "      <th>regular</th>\n",
       "      <td>0.646238</td>\n",
       "      <td>0.484934</td>\n",
       "      <td>0.605907</td>\n",
       "      <td>0.628971</td>\n",
       "      <td>0.639987</td>\n",
       "    </tr>\n",
       "    <tr>\n",
       "      <th>svm</th>\n",
       "      <td>0.623334</td>\n",
       "      <td>0.517128</td>\n",
       "      <td>0.594149</td>\n",
       "      <td>0.621838</td>\n",
       "      <td>0.632323</td>\n",
       "    </tr>\n",
       "    <tr>\n",
       "      <th rowspan=\"2\" valign=\"top\">rfecv_linsvc</th>\n",
       "      <th>regular</th>\n",
       "      <td>0.620642</td>\n",
       "      <td>0.463884</td>\n",
       "      <td>0.583703</td>\n",
       "      <td>0.630611</td>\n",
       "      <td>0.634495</td>\n",
       "    </tr>\n",
       "    <tr>\n",
       "      <th>svm</th>\n",
       "      <td>0.631424</td>\n",
       "      <td>0.473156</td>\n",
       "      <td>0.590893</td>\n",
       "      <td>0.616957</td>\n",
       "      <td>0.613069</td>\n",
       "    </tr>\n",
       "    <tr>\n",
       "      <th rowspan=\"6\" valign=\"top\">GDBcls</th>\n",
       "      <th rowspan=\"2\" valign=\"top\">None</th>\n",
       "      <th>regular</th>\n",
       "      <td>0.614571</td>\n",
       "      <td>0.523703</td>\n",
       "      <td>0.616089</td>\n",
       "      <td>0.605247</td>\n",
       "      <td>0.625234</td>\n",
       "    </tr>\n",
       "    <tr>\n",
       "      <th>svm</th>\n",
       "      <td>0.618329</td>\n",
       "      <td>0.516251</td>\n",
       "      <td>0.615228</td>\n",
       "      <td>0.608838</td>\n",
       "      <td>0.606998</td>\n",
       "    </tr>\n",
       "    <tr>\n",
       "      <th rowspan=\"2\" valign=\"top\">mrmr</th>\n",
       "      <th>regular</th>\n",
       "      <td>0.614571</td>\n",
       "      <td>0.507752</td>\n",
       "      <td>0.608437</td>\n",
       "      <td>0.612679</td>\n",
       "      <td>0.625234</td>\n",
       "    </tr>\n",
       "    <tr>\n",
       "      <th>svm</th>\n",
       "      <td>0.618329</td>\n",
       "      <td>0.520819</td>\n",
       "      <td>0.610388</td>\n",
       "      <td>0.608838</td>\n",
       "      <td>0.611481</td>\n",
       "    </tr>\n",
       "    <tr>\n",
       "      <th rowspan=\"2\" valign=\"top\">rfecv_linsvc</th>\n",
       "      <th>regular</th>\n",
       "      <td>0.615223</td>\n",
       "      <td>0.466241</td>\n",
       "      <td>0.590379</td>\n",
       "      <td>0.623035</td>\n",
       "      <td>0.611577</td>\n",
       "    </tr>\n",
       "    <tr>\n",
       "      <th>svm</th>\n",
       "      <td>0.627429</td>\n",
       "      <td>0.502538</td>\n",
       "      <td>0.596546</td>\n",
       "      <td>0.609870</td>\n",
       "      <td>0.623112</td>\n",
       "    </tr>\n",
       "    <tr>\n",
       "      <th rowspan=\"6\" valign=\"top\">XGBcls</th>\n",
       "      <th rowspan=\"2\" valign=\"top\">None</th>\n",
       "      <th>regular</th>\n",
       "      <td>0.591457</td>\n",
       "      <td>0.521873</td>\n",
       "      <td>0.594880</td>\n",
       "      <td>0.625204</td>\n",
       "      <td>0.644303</td>\n",
       "    </tr>\n",
       "    <tr>\n",
       "      <th>svm</th>\n",
       "      <td>0.580810</td>\n",
       "      <td>0.522227</td>\n",
       "      <td>0.600715</td>\n",
       "      <td>0.618985</td>\n",
       "      <td>0.635111</td>\n",
       "    </tr>\n",
       "    <tr>\n",
       "      <th rowspan=\"2\" valign=\"top\">mrmr</th>\n",
       "      <th>regular</th>\n",
       "      <td>0.591457</td>\n",
       "      <td>0.505751</td>\n",
       "      <td>0.601832</td>\n",
       "      <td>0.620724</td>\n",
       "      <td>0.644303</td>\n",
       "    </tr>\n",
       "    <tr>\n",
       "      <th>svm</th>\n",
       "      <td>0.580810</td>\n",
       "      <td>0.508340</td>\n",
       "      <td>0.615612</td>\n",
       "      <td>0.618985</td>\n",
       "      <td>0.631659</td>\n",
       "    </tr>\n",
       "    <tr>\n",
       "      <th rowspan=\"2\" valign=\"top\">rfecv_linsvc</th>\n",
       "      <th>regular</th>\n",
       "      <td>0.596307</td>\n",
       "      <td>0.500303</td>\n",
       "      <td>0.591661</td>\n",
       "      <td>0.629418</td>\n",
       "      <td>0.619908</td>\n",
       "    </tr>\n",
       "    <tr>\n",
       "      <th>svm</th>\n",
       "      <td>0.594591</td>\n",
       "      <td>0.506434</td>\n",
       "      <td>0.568745</td>\n",
       "      <td>0.603030</td>\n",
       "      <td>0.625300</td>\n",
       "    </tr>\n",
       "  </tbody>\n",
       "</table>\n",
       "</div>"
      ],
      "text/plain": [
       "                                          RoadNet  Segment total  \\\n",
       "model_name feature_selection smote_kind                            \n",
       "BAGcls     None              regular     0.646238       0.505151   \n",
       "                             svm         0.623334       0.498085   \n",
       "           mrmr              regular     0.646238       0.484934   \n",
       "                             svm         0.623334       0.517128   \n",
       "           rfecv_linsvc      regular     0.620642       0.463884   \n",
       "                             svm         0.631424       0.473156   \n",
       "GDBcls     None              regular     0.614571       0.523703   \n",
       "                             svm         0.618329       0.516251   \n",
       "           mrmr              regular     0.614571       0.507752   \n",
       "                             svm         0.618329       0.520819   \n",
       "           rfecv_linsvc      regular     0.615223       0.466241   \n",
       "                             svm         0.627429       0.502538   \n",
       "XGBcls     None              regular     0.591457       0.521873   \n",
       "                             svm         0.580810       0.522227   \n",
       "           mrmr              regular     0.591457       0.505751   \n",
       "                             svm         0.580810       0.508340   \n",
       "           rfecv_linsvc      regular     0.596307       0.500303   \n",
       "                             svm         0.594591       0.506434   \n",
       "\n",
       "                                         Segment type  RoadNet+Segment total  \\\n",
       "model_name feature_selection smote_kind                                        \n",
       "BAGcls     None              regular         0.604942               0.624170   \n",
       "                             svm             0.598525               0.621838   \n",
       "           mrmr              regular         0.605907               0.628971   \n",
       "                             svm             0.594149               0.621838   \n",
       "           rfecv_linsvc      regular         0.583703               0.630611   \n",
       "                             svm             0.590893               0.616957   \n",
       "GDBcls     None              regular         0.616089               0.605247   \n",
       "                             svm             0.615228               0.608838   \n",
       "           mrmr              regular         0.608437               0.612679   \n",
       "                             svm             0.610388               0.608838   \n",
       "           rfecv_linsvc      regular         0.590379               0.623035   \n",
       "                             svm             0.596546               0.609870   \n",
       "XGBcls     None              regular         0.594880               0.625204   \n",
       "                             svm             0.600715               0.618985   \n",
       "           mrmr              regular         0.601832               0.620724   \n",
       "                             svm             0.615612               0.618985   \n",
       "           rfecv_linsvc      regular         0.591661               0.629418   \n",
       "                             svm             0.568745               0.603030   \n",
       "\n",
       "                                         RoadNet+Segment type  \n",
       "model_name feature_selection smote_kind                        \n",
       "BAGcls     None              regular                 0.639987  \n",
       "                             svm                     0.621371  \n",
       "           mrmr              regular                 0.639987  \n",
       "                             svm                     0.632323  \n",
       "           rfecv_linsvc      regular                 0.634495  \n",
       "                             svm                     0.613069  \n",
       "GDBcls     None              regular                 0.625234  \n",
       "                             svm                     0.606998  \n",
       "           mrmr              regular                 0.625234  \n",
       "                             svm                     0.611481  \n",
       "           rfecv_linsvc      regular                 0.611577  \n",
       "                             svm                     0.623112  \n",
       "XGBcls     None              regular                 0.644303  \n",
       "                             svm                     0.635111  \n",
       "           mrmr              regular                 0.644303  \n",
       "                             svm                     0.631659  \n",
       "           rfecv_linsvc      regular                 0.619908  \n",
       "                             svm                     0.625300  "
      ]
     },
     "execution_count": 21,
     "metadata": {},
     "output_type": "execute_result"
    }
   ],
   "source": [
    "f1_type = f1_choices[0]\n",
    "print('f1_type =', f1_type)\n",
    "\n",
    "key_cols = ['model_name', 'feature_selection', 'smote_kind']\n",
    "table = get_paper_table(up_means, f1_type, key_cols)\n",
    "table.to_csv('deliverables/experiment_1001/EXP3 upsampling table %s.csv' % f1_type, encoding='utf8')\n",
    "table"
   ]
  },
  {
   "cell_type": "code",
   "execution_count": null,
   "metadata": {
    "collapsed": true
   },
   "outputs": [],
   "source": [
    "on_train_grid_res = get_up_result('upsample_smote', 'grid')"
   ]
  },
  {
   "cell_type": "code",
   "execution_count": null,
   "metadata": {
    "collapsed": true,
    "scrolled": true
   },
   "outputs": [],
   "source": [
    "on_train_grid_res[on_train_grid_res['kind']=='cls'].groupby(keys).mean()[['mean_test']]"
   ]
  },
  {
   "cell_type": "markdown",
   "metadata": {},
   "source": [
    "# downsample result"
   ]
  },
  {
   "cell_type": "code",
   "execution_count": 22,
   "metadata": {
    "collapsed": true
   },
   "outputs": [],
   "source": [
    "from csl_exp3_down_1001 import DOWN_SEEDS"
   ]
  },
  {
   "cell_type": "code",
   "execution_count": 26,
   "metadata": {
    "collapsed": true
   },
   "outputs": [],
   "source": [
    "def get_down_result(eval_or_grid):\n",
    "    res = []\n",
    "\n",
    "    has_res_cnt = 0\n",
    "    for seed in SEEDS:\n",
    "        exp_path = 'experiment_1001/exp3/seed_%d' % seed\n",
    "        smote_path = '%s/downsample' % (exp_path)\n",
    "\n",
    "        try:\n",
    "            df = pd.read_csv('%s/%s_res.csv' % (smote_path, eval_or_grid), index_col=0)\n",
    "            df['seed'] = seed\n",
    "            has_res_cnt+=1\n",
    "            res.append(df)\n",
    "        except FileNotFoundError:\n",
    "            print('no %s_res in' % eval_or_grid, smote_path)\n",
    "\n",
    "    res = pd.concat(res, ignore_index=True)\n",
    "    print(has_res_cnt)\n",
    "\n",
    "    return res"
   ]
  },
  {
   "cell_type": "code",
   "execution_count": 27,
   "metadata": {},
   "outputs": [
    {
     "name": "stdout",
     "output_type": "stream",
     "text": [
      "no eval_res in experiment_1001/exp3/seed_57852/downsample\n",
      "no eval_res in experiment_1001/exp3/seed_168352/downsample\n",
      "no eval_res in experiment_1001/exp3/seed_291592/downsample\n",
      "no eval_res in experiment_1001/exp3/seed_789729423/downsample\n",
      "6\n"
     ]
    }
   ],
   "source": [
    "down_res = get_down_result('eval')"
   ]
  },
  {
   "cell_type": "code",
   "execution_count": 28,
   "metadata": {
    "collapsed": true
   },
   "outputs": [],
   "source": [
    "down_keys = ['model_name', 'feature_selection', 'ftr_combo_name']"
   ]
  },
  {
   "cell_type": "code",
   "execution_count": 29,
   "metadata": {
    "collapsed": true
   },
   "outputs": [],
   "source": [
    "down_means = down_res.groupby(down_keys).mean()[f1_choices]\n",
    "down_stds = down_res.groupby(down_keys).std()[f1_choices]"
   ]
  },
  {
   "cell_type": "code",
   "execution_count": 17,
   "metadata": {
    "collapsed": true,
    "scrolled": true
   },
   "outputs": [],
   "source": [
    "# down_res.groupby(down_keys).count()[f1_choices]"
   ]
  },
  {
   "cell_type": "code",
   "execution_count": 31,
   "metadata": {},
   "outputs": [
    {
     "name": "stdout",
     "output_type": "stream",
     "text": [
      "f1_type = test_f1_weighted\n"
     ]
    },
    {
     "data": {
      "text/html": [
       "<div>\n",
       "<style>\n",
       "    .dataframe thead tr:only-child th {\n",
       "        text-align: right;\n",
       "    }\n",
       "\n",
       "    .dataframe thead th {\n",
       "        text-align: left;\n",
       "    }\n",
       "\n",
       "    .dataframe tbody tr th {\n",
       "        vertical-align: top;\n",
       "    }\n",
       "</style>\n",
       "<table border=\"1\" class=\"dataframe\">\n",
       "  <thead>\n",
       "    <tr style=\"text-align: right;\">\n",
       "      <th></th>\n",
       "      <th></th>\n",
       "      <th></th>\n",
       "      <th>test_f1_weighted</th>\n",
       "    </tr>\n",
       "    <tr>\n",
       "      <th>model_name</th>\n",
       "      <th>feature_selection</th>\n",
       "      <th>ftr_combo_name</th>\n",
       "      <th></th>\n",
       "    </tr>\n",
       "  </thead>\n",
       "  <tbody>\n",
       "    <tr>\n",
       "      <th rowspan=\"2\" valign=\"top\">GDBcls</th>\n",
       "      <th>None</th>\n",
       "      <th>RoadNet+Segment_NO_TOTAL_~2014</th>\n",
       "      <td>0.36099</td>\n",
       "    </tr>\n",
       "    <tr>\n",
       "      <th>mrmr</th>\n",
       "      <th>RoadNet+Segment_NO_TOTAL_~2014</th>\n",
       "      <td>0.36099</td>\n",
       "    </tr>\n",
       "  </tbody>\n",
       "</table>\n",
       "</div>"
      ],
      "text/plain": [
       "                                                             test_f1_weighted\n",
       "model_name feature_selection ftr_combo_name                                  \n",
       "GDBcls     None              RoadNet+Segment_NO_TOTAL_~2014           0.36099\n",
       "           mrmr              RoadNet+Segment_NO_TOTAL_~2014           0.36099"
      ]
     },
     "execution_count": 31,
     "metadata": {},
     "output_type": "execute_result"
    },
    {
     "data": {
      "image/png": "[encoded data removed]",
      "text/plain": [
       "<matplotlib.figure.Figure at 0x7ff7727723c8>"
      ]
     },
     "metadata": {},
     "output_type": "display_data"
    }
   ],
   "source": [
    "f1_type = f1_choices[0]\n",
    "print('f1_type =', f1_type)\n",
    "\n",
    "down_means_to_plot = down_means[[f1_type]].sort_values(f1_type, ascending=True)\n",
    "down_stds_to_plot = down_stds[[f1_type]]\n",
    "\n",
    "down_means_to_plot.iloc[-5:].plot(kind='barh', figsize=(10,7), xerr=down_stds_to_plot)\n",
    "down_means_to_plot.iloc[:-3:-1,:]"
   ]
  },
  {
   "cell_type": "code",
   "execution_count": 34,
   "metadata": {
    "scrolled": true
   },
   "outputs": [
    {
     "name": "stdout",
     "output_type": "stream",
     "text": [
      "f1_type = test_f1_weighted\n"
     ]
    }
   ],
   "source": [
    "f1_type = f1_choices[0]\n",
    "print('f1_type =', f1_type)\n",
    "key_cols = ['model_name', 'feature_selection']\n",
    "table = get_paper_table(down_means, f1_type, key_cols)\n",
    "table.to_csv('deliverables/experiment_1001/EXP3 downsampling table %s.csv' % f1_type, encoding='utf8')"
   ]
  }
 ],
 "metadata": {
  "kernelspec": {
   "display_name": "Python [default]",
   "language": "python",
   "name": "python3"
  },
  "language_info": {
   "codemirror_mode": {
    "name": "ipython",
    "version": 3
   },
   "file_extension": ".py",
   "mimetype": "text/x-python",
   "name": "python",
   "nbconvert_exporter": "python",
   "pygments_lexer": "ipython3",
   "version": "3.6.2"
  }
 },
 "nbformat": 4,
 "nbformat_minor": 2
}
