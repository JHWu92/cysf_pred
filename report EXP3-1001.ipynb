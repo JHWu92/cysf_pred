{
 "cells": [
  {
   "cell_type": "code",
   "execution_count": 1,
   "metadata": {
    "collapsed": true
   },
   "outputs": [],
   "source": [
    "# best 3 solutions based on EXP1 in turns of f1 micro is:\n",
    "# XGBcls: RoadNet+Social type, 0.6561797753\n",
    "# BAGcls: RoadNet+Social type, 0.6539325843\n",
    "# RFreg: RoadNet+Social total, 0.6494382022\n",
    "# with ~2014, min-max, no feature selection"
   ]
  },
  {
   "cell_type": "code",
   "execution_count": 1,
   "metadata": {
    "collapsed": true
   },
   "outputs": [],
   "source": [
    "import pandas as pd\n",
    "%matplotlib inline"
   ]
  },
  {
   "cell_type": "code",
   "execution_count": 2,
   "metadata": {
    "collapsed": true
   },
   "outputs": [],
   "source": [
    "from src.experiment_based_function import SEEDS"
   ]
  },
  {
   "cell_type": "code",
   "execution_count": 3,
   "metadata": {
    "collapsed": true
   },
   "outputs": [],
   "source": [
    "f1_choices = ['test_f1_weighted', 'test_f1_macro', 'test_f1_micro']"
   ]
  },
  {
   "cell_type": "code",
   "execution_count": 4,
   "metadata": {
    "collapsed": true
   },
   "outputs": [],
   "source": [
    "def get_paper_table(means, f1_type, key_cols):\n",
    "    cols_name_convert = {'RoadNet': 'RoadNet', 'RoadNet+Segment_NO_TOTAL_~2014': 'RoadNet+Segment type',\n",
    "     'RoadNet+Segment_TOTAL_~2014': 'RoadNet+Segment total', 'Segment_NO_TOTAL_~2014': 'Segment type',\n",
    "     'Segment_TOTAL_~2014': 'Segment total'}\n",
    "    means_for_pivot = means.reset_index()\n",
    "    means_for_pivot['key'] = means_for_pivot.apply(lambda x: tuple([x[col] for col in key_cols]), axis=1)\n",
    "    table = means_for_pivot.reset_index().pivot(index='key', columns='ftr_combo_name', values=f1_type)\n",
    "    table.index = pd.MultiIndex.from_tuples(table.index, names=key_cols)    \n",
    "    table.columns.name = f1_type\n",
    "    table.columns = [cols_name_convert[col] for col in table.columns]\n",
    "    return table[['RoadNet', 'Segment total', 'Segment type', 'RoadNet+Segment total', 'RoadNet+Segment type']]"
   ]
  },
  {
   "cell_type": "markdown",
   "metadata": {},
   "source": [
    "# Upsample result"
   ]
  },
  {
   "cell_type": "code",
   "execution_count": 20,
   "metadata": {
    "collapsed": true
   },
   "outputs": [],
   "source": [
    "from zipfile import ZipFile\n",
    "import re\n",
    "from pandas.compat import StringIO"
   ]
  },
  {
   "cell_type": "code",
   "execution_count": 41,
   "metadata": {
    "collapsed": true
   },
   "outputs": [],
   "source": [
    "def get_up_result(eval_or_grid):\n",
    "    res = []\n",
    "    has_res_cnt = {'regular':0, 'svm':0}\n",
    "    with ZipFile('experiment_1001/exp3+RFreg-res.zip') as myzip:\n",
    "        for smote_kind in ['regular', 'svm']:\n",
    "            for seed in SEEDS:\n",
    "                smote_path = 'exp3/seed_%d/upsample_smote_%s' % (seed, smote_kind)\n",
    "                fn = '%s/%s_res.csv' % (smote_path, eval_or_grid)\n",
    "                try:\n",
    "                    df = pd.read_csv(StringIO(myzip.read(fn).decode('utf-8')), index_col=0)\n",
    "                    df['seed'] = seed\n",
    "                    df['smote_kind'] = smote_kind\n",
    "                    has_res_cnt[smote_kind]+=1\n",
    "                    res.append(df)\n",
    "\n",
    "                except KeyError:\n",
    "                    print('no %s_res in' % eval_or_grid, smote_path)\n",
    "\n",
    "    res = pd.concat(res, ignore_index=True)\n",
    "    print(has_res_cnt)\n",
    "    return res"
   ]
  },
  {
   "cell_type": "code",
   "execution_count": 44,
   "metadata": {
    "collapsed": true
   },
   "outputs": [],
   "source": [
    "keys = ['smote_kind', 'model_name', 'feature_selection', 'ftr_combo_name']"
   ]
  },
  {
   "cell_type": "code",
   "execution_count": 43,
   "metadata": {},
   "outputs": [
    {
     "name": "stdout",
     "output_type": "stream",
     "text": [
      "no eval_res in exp3/seed_972/upsample_smote_regular\n",
      "no eval_res in exp3/seed_7821/upsample_smote_regular\n",
      "no eval_res in exp3/seed_57852/upsample_smote_regular\n",
      "no eval_res in exp3/seed_168352/upsample_smote_regular\n",
      "no eval_res in exp3/seed_789729423/upsample_smote_regular\n",
      "no eval_res in exp3/seed_972/upsample_smote_svm\n",
      "no eval_res in exp3/seed_7821/upsample_smote_svm\n",
      "no eval_res in exp3/seed_57852/upsample_smote_svm\n",
      "no eval_res in exp3/seed_168352/upsample_smote_svm\n",
      "no eval_res in exp3/seed_789729423/upsample_smote_svm\n",
      "{'regular': 5, 'svm': 5}\n"
     ]
    }
   ],
   "source": [
    "up_eval_res = get_up_result('eval')"
   ]
  },
  {
   "cell_type": "code",
   "execution_count": 10,
   "metadata": {
    "collapsed": true,
    "scrolled": true
   },
   "outputs": [],
   "source": [
    "# up_eval_res[['up_y_dist', 'y_dist']].iloc[::-1]"
   ]
  },
  {
   "cell_type": "code",
   "execution_count": 45,
   "metadata": {
    "collapsed": true
   },
   "outputs": [],
   "source": [
    "up_means = up_eval_res.groupby(keys).mean()[f1_choices]\n",
    "up_stds = up_eval_res.groupby(keys).std()[f1_choices]"
   ]
  },
  {
   "cell_type": "code",
   "execution_count": 46,
   "metadata": {
    "scrolled": true
   },
   "outputs": [
    {
     "name": "stdout",
     "output_type": "stream",
     "text": [
      "f1_type = test_f1_micro\n"
     ]
    },
    {
     "data": {
      "text/html": [
       "<div>\n",
       "<style>\n",
       "    .dataframe thead tr:only-child th {\n",
       "        text-align: right;\n",
       "    }\n",
       "\n",
       "    .dataframe thead th {\n",
       "        text-align: left;\n",
       "    }\n",
       "\n",
       "    .dataframe tbody tr th {\n",
       "        vertical-align: top;\n",
       "    }\n",
       "</style>\n",
       "<table border=\"1\" class=\"dataframe\">\n",
       "  <thead>\n",
       "    <tr style=\"text-align: right;\">\n",
       "      <th></th>\n",
       "      <th></th>\n",
       "      <th></th>\n",
       "      <th></th>\n",
       "      <th>test_f1_micro</th>\n",
       "    </tr>\n",
       "    <tr>\n",
       "      <th>smote_kind</th>\n",
       "      <th>model_name</th>\n",
       "      <th>feature_selection</th>\n",
       "      <th>ftr_combo_name</th>\n",
       "      <th></th>\n",
       "    </tr>\n",
       "  </thead>\n",
       "  <tbody>\n",
       "    <tr>\n",
       "      <th rowspan=\"2\" valign=\"top\">regular</th>\n",
       "      <th rowspan=\"2\" valign=\"top\">XGBcls</th>\n",
       "      <th>mrmr</th>\n",
       "      <th>RoadNet+Segment_NO_TOTAL_~2014</th>\n",
       "      <td>0.662921</td>\n",
       "    </tr>\n",
       "    <tr>\n",
       "      <th>None</th>\n",
       "      <th>RoadNet+Segment_NO_TOTAL_~2014</th>\n",
       "      <td>0.662921</td>\n",
       "    </tr>\n",
       "    <tr>\n",
       "      <th rowspan=\"3\" valign=\"top\">svm</th>\n",
       "      <th rowspan=\"2\" valign=\"top\">RFreg</th>\n",
       "      <th>mrmr</th>\n",
       "      <th>RoadNet+Segment_TOTAL_~2014</th>\n",
       "      <td>0.660674</td>\n",
       "    </tr>\n",
       "    <tr>\n",
       "      <th>None</th>\n",
       "      <th>RoadNet+Segment_TOTAL_~2014</th>\n",
       "      <td>0.660674</td>\n",
       "    </tr>\n",
       "    <tr>\n",
       "      <th>XGBcls</th>\n",
       "      <th>None</th>\n",
       "      <th>RoadNet+Segment_NO_TOTAL_~2014</th>\n",
       "      <td>0.653933</td>\n",
       "    </tr>\n",
       "  </tbody>\n",
       "</table>\n",
       "</div>"
      ],
      "text/plain": [
       "                                                                        test_f1_micro\n",
       "smote_kind model_name feature_selection ftr_combo_name                               \n",
       "regular    XGBcls     mrmr              RoadNet+Segment_NO_TOTAL_~2014       0.662921\n",
       "                      None              RoadNet+Segment_NO_TOTAL_~2014       0.662921\n",
       "svm        RFreg      mrmr              RoadNet+Segment_TOTAL_~2014          0.660674\n",
       "                      None              RoadNet+Segment_TOTAL_~2014          0.660674\n",
       "           XGBcls     None              RoadNet+Segment_NO_TOTAL_~2014       0.653933"
      ]
     },
     "execution_count": 46,
     "metadata": {},
     "output_type": "execute_result"
    },
    {
     "data": {
      "image/png": "[encoded data removed]",
      "text/plain": [
       "<matplotlib.figure.Figure at 0x7f963d2324e0>"
      ]
     },
     "metadata": {},
     "output_type": "display_data"
    }
   ],
   "source": [
    "f1_type = f1_choices[2]\n",
    "print('f1_type =', f1_type)\n",
    "\n",
    "up_means_to_plot = up_means[[f1_type]].sort_values(f1_type, ascending=True)\n",
    "up_stds_to_plot = up_stds[[f1_type]]\n",
    "\n",
    "table_top_n = 5\n",
    "plot_top_n = 5\n",
    "up_means_to_plot.iloc[-plot_top_n:].plot(kind='barh', figsize=(10,7), xerr=up_stds_to_plot)\n",
    "up_means_to_plot.iloc[:-(table_top_n+1):-1,:]"
   ]
  },
  {
   "cell_type": "code",
   "execution_count": 65,
   "metadata": {
    "scrolled": true
   },
   "outputs": [
    {
     "name": "stdout",
     "output_type": "stream",
     "text": [
      "f1_type = test_f1_micro\n"
     ]
    },
    {
     "data": {
      "text/html": [
       "<div>\n",
       "<style>\n",
       "    .dataframe thead tr:only-child th {\n",
       "        text-align: right;\n",
       "    }\n",
       "\n",
       "    .dataframe thead th {\n",
       "        text-align: left;\n",
       "    }\n",
       "\n",
       "    .dataframe tbody tr th {\n",
       "        vertical-align: top;\n",
       "    }\n",
       "</style>\n",
       "<table border=\"1\" class=\"dataframe\">\n",
       "  <thead>\n",
       "    <tr style=\"text-align: right;\">\n",
       "      <th></th>\n",
       "      <th></th>\n",
       "      <th></th>\n",
       "      <th>RoadNet</th>\n",
       "      <th>Segment total</th>\n",
       "      <th>Segment type</th>\n",
       "      <th>RoadNet+Segment total</th>\n",
       "      <th>RoadNet+Segment type</th>\n",
       "    </tr>\n",
       "    <tr>\n",
       "      <th>model_name</th>\n",
       "      <th>feature_selection</th>\n",
       "      <th>smote_kind</th>\n",
       "      <th></th>\n",
       "      <th></th>\n",
       "      <th></th>\n",
       "      <th></th>\n",
       "      <th></th>\n",
       "    </tr>\n",
       "  </thead>\n",
       "  <tbody>\n",
       "    <tr>\n",
       "      <th rowspan=\"6\" valign=\"top\">BAGcls</th>\n",
       "      <th rowspan=\"2\" valign=\"top\">None</th>\n",
       "      <th>regular</th>\n",
       "      <td>0.649438</td>\n",
       "      <td>0.496629</td>\n",
       "      <td>0.613483</td>\n",
       "      <td>0.629213</td>\n",
       "      <td>0.644944</td>\n",
       "    </tr>\n",
       "    <tr>\n",
       "      <th>svm</th>\n",
       "      <td>0.633708</td>\n",
       "      <td>0.505618</td>\n",
       "      <td>0.611236</td>\n",
       "      <td>0.633708</td>\n",
       "      <td>0.629213</td>\n",
       "    </tr>\n",
       "    <tr>\n",
       "      <th rowspan=\"2\" valign=\"top\">mrmr</th>\n",
       "      <th>regular</th>\n",
       "      <td>0.649438</td>\n",
       "      <td>0.480899</td>\n",
       "      <td>0.613483</td>\n",
       "      <td>0.633708</td>\n",
       "      <td>0.644944</td>\n",
       "    </tr>\n",
       "    <tr>\n",
       "      <th>svm</th>\n",
       "      <td>0.633708</td>\n",
       "      <td>0.523596</td>\n",
       "      <td>0.604494</td>\n",
       "      <td>0.633708</td>\n",
       "      <td>0.640449</td>\n",
       "    </tr>\n",
       "    <tr>\n",
       "      <th rowspan=\"2\" valign=\"top\">rfecv_linsvc</th>\n",
       "      <th>regular</th>\n",
       "      <td>0.622472</td>\n",
       "      <td>0.447191</td>\n",
       "      <td>0.595506</td>\n",
       "      <td>0.635955</td>\n",
       "      <td>0.642697</td>\n",
       "    </tr>\n",
       "    <tr>\n",
       "      <th>svm</th>\n",
       "      <td>0.644944</td>\n",
       "      <td>0.474157</td>\n",
       "      <td>0.604494</td>\n",
       "      <td>0.617978</td>\n",
       "      <td>0.622472</td>\n",
       "    </tr>\n",
       "    <tr>\n",
       "      <th rowspan=\"6\" valign=\"top\">GDBcls</th>\n",
       "      <th rowspan=\"2\" valign=\"top\">None</th>\n",
       "      <th>regular</th>\n",
       "      <td>0.617978</td>\n",
       "      <td>0.523596</td>\n",
       "      <td>0.629213</td>\n",
       "      <td>0.615730</td>\n",
       "      <td>0.640449</td>\n",
       "    </tr>\n",
       "    <tr>\n",
       "      <th>svm</th>\n",
       "      <td>0.629213</td>\n",
       "      <td>0.521348</td>\n",
       "      <td>0.633708</td>\n",
       "      <td>0.624719</td>\n",
       "      <td>0.631461</td>\n",
       "    </tr>\n",
       "    <tr>\n",
       "      <th rowspan=\"2\" valign=\"top\">mrmr</th>\n",
       "      <th>regular</th>\n",
       "      <td>0.617978</td>\n",
       "      <td>0.503371</td>\n",
       "      <td>0.622472</td>\n",
       "      <td>0.622472</td>\n",
       "      <td>0.640449</td>\n",
       "    </tr>\n",
       "    <tr>\n",
       "      <th>svm</th>\n",
       "      <td>0.629213</td>\n",
       "      <td>0.525843</td>\n",
       "      <td>0.629213</td>\n",
       "      <td>0.624719</td>\n",
       "      <td>0.633708</td>\n",
       "    </tr>\n",
       "    <tr>\n",
       "      <th rowspan=\"2\" valign=\"top\">rfecv_linsvc</th>\n",
       "      <th>regular</th>\n",
       "      <td>0.620225</td>\n",
       "      <td>0.458427</td>\n",
       "      <td>0.608989</td>\n",
       "      <td>0.626966</td>\n",
       "      <td>0.622472</td>\n",
       "    </tr>\n",
       "    <tr>\n",
       "      <th>svm</th>\n",
       "      <td>0.638202</td>\n",
       "      <td>0.507865</td>\n",
       "      <td>0.613483</td>\n",
       "      <td>0.629213</td>\n",
       "      <td>0.638202</td>\n",
       "    </tr>\n",
       "    <tr>\n",
       "      <th rowspan=\"6\" valign=\"top\">RFreg</th>\n",
       "      <th rowspan=\"2\" valign=\"top\">None</th>\n",
       "      <th>regular</th>\n",
       "      <td>0.595506</td>\n",
       "      <td>0.494382</td>\n",
       "      <td>0.528090</td>\n",
       "      <td>0.644944</td>\n",
       "      <td>0.611236</td>\n",
       "    </tr>\n",
       "    <tr>\n",
       "      <th>svm</th>\n",
       "      <td>0.615730</td>\n",
       "      <td>0.525843</td>\n",
       "      <td>0.573034</td>\n",
       "      <td>0.660674</td>\n",
       "      <td>0.617978</td>\n",
       "    </tr>\n",
       "    <tr>\n",
       "      <th rowspan=\"2\" valign=\"top\">mrmr</th>\n",
       "      <th>regular</th>\n",
       "      <td>0.595506</td>\n",
       "      <td>0.532584</td>\n",
       "      <td>0.530337</td>\n",
       "      <td>0.651685</td>\n",
       "      <td>0.611236</td>\n",
       "    </tr>\n",
       "    <tr>\n",
       "      <th>svm</th>\n",
       "      <td>0.615730</td>\n",
       "      <td>0.541573</td>\n",
       "      <td>0.575281</td>\n",
       "      <td>0.660674</td>\n",
       "      <td>0.617978</td>\n",
       "    </tr>\n",
       "    <tr>\n",
       "      <th rowspan=\"2\" valign=\"top\">rfecv_linsvc</th>\n",
       "      <th>regular</th>\n",
       "      <td>0.604494</td>\n",
       "      <td>0.501124</td>\n",
       "      <td>0.566292</td>\n",
       "      <td>0.642697</td>\n",
       "      <td>0.591011</td>\n",
       "    </tr>\n",
       "    <tr>\n",
       "      <th>svm</th>\n",
       "      <td>0.615730</td>\n",
       "      <td>0.521348</td>\n",
       "      <td>0.582022</td>\n",
       "      <td>0.649438</td>\n",
       "      <td>0.615730</td>\n",
       "    </tr>\n",
       "    <tr>\n",
       "      <th rowspan=\"6\" valign=\"top\">XGBcls</th>\n",
       "      <th rowspan=\"2\" valign=\"top\">None</th>\n",
       "      <th>regular</th>\n",
       "      <td>0.600000</td>\n",
       "      <td>0.519101</td>\n",
       "      <td>0.608989</td>\n",
       "      <td>0.631461</td>\n",
       "      <td>0.662921</td>\n",
       "    </tr>\n",
       "    <tr>\n",
       "      <th>svm</th>\n",
       "      <td>0.593258</td>\n",
       "      <td>0.521348</td>\n",
       "      <td>0.617978</td>\n",
       "      <td>0.631461</td>\n",
       "      <td>0.653933</td>\n",
       "    </tr>\n",
       "    <tr>\n",
       "      <th rowspan=\"2\" valign=\"top\">mrmr</th>\n",
       "      <th>regular</th>\n",
       "      <td>0.600000</td>\n",
       "      <td>0.498876</td>\n",
       "      <td>0.615730</td>\n",
       "      <td>0.626966</td>\n",
       "      <td>0.662921</td>\n",
       "    </tr>\n",
       "    <tr>\n",
       "      <th>svm</th>\n",
       "      <td>0.593258</td>\n",
       "      <td>0.510112</td>\n",
       "      <td>0.631461</td>\n",
       "      <td>0.631461</td>\n",
       "      <td>0.651685</td>\n",
       "    </tr>\n",
       "    <tr>\n",
       "      <th rowspan=\"2\" valign=\"top\">rfecv_linsvc</th>\n",
       "      <th>regular</th>\n",
       "      <td>0.602247</td>\n",
       "      <td>0.487640</td>\n",
       "      <td>0.606742</td>\n",
       "      <td>0.633708</td>\n",
       "      <td>0.640449</td>\n",
       "    </tr>\n",
       "    <tr>\n",
       "      <th>svm</th>\n",
       "      <td>0.608989</td>\n",
       "      <td>0.507865</td>\n",
       "      <td>0.582022</td>\n",
       "      <td>0.608989</td>\n",
       "      <td>0.640449</td>\n",
       "    </tr>\n",
       "  </tbody>\n",
       "</table>\n",
       "</div>"
      ],
      "text/plain": [
       "                                          RoadNet  Segment total  \\\n",
       "model_name feature_selection smote_kind                            \n",
       "BAGcls     None              regular     0.649438       0.496629   \n",
       "                             svm         0.633708       0.505618   \n",
       "           mrmr              regular     0.649438       0.480899   \n",
       "                             svm         0.633708       0.523596   \n",
       "           rfecv_linsvc      regular     0.622472       0.447191   \n",
       "                             svm         0.644944       0.474157   \n",
       "GDBcls     None              regular     0.617978       0.523596   \n",
       "                             svm         0.629213       0.521348   \n",
       "           mrmr              regular     0.617978       0.503371   \n",
       "                             svm         0.629213       0.525843   \n",
       "           rfecv_linsvc      regular     0.620225       0.458427   \n",
       "                             svm         0.638202       0.507865   \n",
       "RFreg      None              regular     0.595506       0.494382   \n",
       "                             svm         0.615730       0.525843   \n",
       "           mrmr              regular     0.595506       0.532584   \n",
       "                             svm         0.615730       0.541573   \n",
       "           rfecv_linsvc      regular     0.604494       0.501124   \n",
       "                             svm         0.615730       0.521348   \n",
       "XGBcls     None              regular     0.600000       0.519101   \n",
       "                             svm         0.593258       0.521348   \n",
       "           mrmr              regular     0.600000       0.498876   \n",
       "                             svm         0.593258       0.510112   \n",
       "           rfecv_linsvc      regular     0.602247       0.487640   \n",
       "                             svm         0.608989       0.507865   \n",
       "\n",
       "                                         Segment type  RoadNet+Segment total  \\\n",
       "model_name feature_selection smote_kind                                        \n",
       "BAGcls     None              regular         0.613483               0.629213   \n",
       "                             svm             0.611236               0.633708   \n",
       "           mrmr              regular         0.613483               0.633708   \n",
       "                             svm             0.604494               0.633708   \n",
       "           rfecv_linsvc      regular         0.595506               0.635955   \n",
       "                             svm             0.604494               0.617978   \n",
       "GDBcls     None              regular         0.629213               0.615730   \n",
       "                             svm             0.633708               0.624719   \n",
       "           mrmr              regular         0.622472               0.622472   \n",
       "                             svm             0.629213               0.624719   \n",
       "           rfecv_linsvc      regular         0.608989               0.626966   \n",
       "                             svm             0.613483               0.629213   \n",
       "RFreg      None              regular         0.528090               0.644944   \n",
       "                             svm             0.573034               0.660674   \n",
       "           mrmr              regular         0.530337               0.651685   \n",
       "                             svm             0.575281               0.660674   \n",
       "           rfecv_linsvc      regular         0.566292               0.642697   \n",
       "                             svm             0.582022               0.649438   \n",
       "XGBcls     None              regular         0.608989               0.631461   \n",
       "                             svm             0.617978               0.631461   \n",
       "           mrmr              regular         0.615730               0.626966   \n",
       "                             svm             0.631461               0.631461   \n",
       "           rfecv_linsvc      regular         0.606742               0.633708   \n",
       "                             svm             0.582022               0.608989   \n",
       "\n",
       "                                         RoadNet+Segment type  \n",
       "model_name feature_selection smote_kind                        \n",
       "BAGcls     None              regular                 0.644944  \n",
       "                             svm                     0.629213  \n",
       "           mrmr              regular                 0.644944  \n",
       "                             svm                     0.640449  \n",
       "           rfecv_linsvc      regular                 0.642697  \n",
       "                             svm                     0.622472  \n",
       "GDBcls     None              regular                 0.640449  \n",
       "                             svm                     0.631461  \n",
       "           mrmr              regular                 0.640449  \n",
       "                             svm                     0.633708  \n",
       "           rfecv_linsvc      regular                 0.622472  \n",
       "                             svm                     0.638202  \n",
       "RFreg      None              regular                 0.611236  \n",
       "                             svm                     0.617978  \n",
       "           mrmr              regular                 0.611236  \n",
       "                             svm                     0.617978  \n",
       "           rfecv_linsvc      regular                 0.591011  \n",
       "                             svm                     0.615730  \n",
       "XGBcls     None              regular                 0.662921  \n",
       "                             svm                     0.653933  \n",
       "           mrmr              regular                 0.662921  \n",
       "                             svm                     0.651685  \n",
       "           rfecv_linsvc      regular                 0.640449  \n",
       "                             svm                     0.640449  "
      ]
     },
     "execution_count": 65,
     "metadata": {},
     "output_type": "execute_result"
    }
   ],
   "source": [
    "f1_type = f1_choices[2]\n",
    "print('f1_type =', f1_type)\n",
    "\n",
    "key_cols = ['model_name', 'feature_selection', 'smote_kind']\n",
    "table = get_paper_table(up_means, f1_type, key_cols)\n",
    "table.to_csv('deliverables/experiment_1001/EXP3 upsampling table %s.csv' % f1_type, encoding='utf8')\n",
    "table"
   ]
  },
  {
   "cell_type": "code",
   "execution_count": null,
   "metadata": {
    "collapsed": true
   },
   "outputs": [],
   "source": [
    "on_train_grid_res = get_up_result('upsample_smote', 'grid')"
   ]
  },
  {
   "cell_type": "code",
   "execution_count": null,
   "metadata": {
    "collapsed": true,
    "scrolled": true
   },
   "outputs": [],
   "source": [
    "on_train_grid_res[on_train_grid_res['kind']=='cls'].groupby(keys).mean()[['mean_test']]"
   ]
  },
  {
   "cell_type": "markdown",
   "metadata": {},
   "source": [
    "# downsample result"
   ]
  },
  {
   "cell_type": "code",
   "execution_count": 22,
   "metadata": {
    "collapsed": true
   },
   "outputs": [],
   "source": [
    "from csl_exp3_down_1001 import DOWN_SEEDS"
   ]
  },
  {
   "cell_type": "code",
   "execution_count": 57,
   "metadata": {},
   "outputs": [],
   "source": [
    "def get_down_result(eval_or_grid):\n",
    "    res = []\n",
    "    has_res_cnt = 0\n",
    "    with ZipFile('experiment_1001/exp3+RFreg-res.zip') as myzip:\n",
    "        for seed in SEEDS:\n",
    "            smote_path = 'exp3/seed_%d/downsample' % (seed)\n",
    "            fn = '%s/%s_res.csv' % (smote_path, eval_or_grid)\n",
    "            try:\n",
    "                df = pd.read_csv(StringIO(myzip.read(fn).decode('utf-8')), index_col=0)\n",
    "                df['seed'] = seed\n",
    "                has_res_cnt+=1\n",
    "                res.append(df)\n",
    "\n",
    "            except KeyError:\n",
    "                print('no %s_res in' % eval_or_grid, smote_path)\n",
    "\n",
    "    res = pd.concat(res, ignore_index=True)\n",
    "    print(has_res_cnt)\n",
    "    return res"
   ]
  },
  {
   "cell_type": "code",
   "execution_count": 26,
   "metadata": {
    "collapsed": true
   },
   "outputs": [],
   "source": [
    "def get_down_result(eval_or_grid):\n",
    "    res = []\n",
    "\n",
    "    has_res_cnt = 0\n",
    "    for seed in SEEDS:\n",
    "        exp_path = 'experiment_1001/exp3/seed_%d' % seed\n",
    "        smote_path = '%s/downsample' % (exp_path)\n",
    "\n",
    "        try:\n",
    "            df = pd.read_csv('%s/%s_res.csv' % (smote_path, eval_or_grid), index_col=0)\n",
    "            df['seed'] = seed\n",
    "            has_res_cnt+=1\n",
    "            res.append(df)\n",
    "        except FileNotFoundError:\n",
    "            print('no %s_res in' % eval_or_grid, smote_path)\n",
    "\n",
    "    res = pd.concat(res, ignore_index=True)\n",
    "    print(has_res_cnt)\n",
    "\n",
    "    return res"
   ]
  },
  {
   "cell_type": "code",
   "execution_count": 58,
   "metadata": {},
   "outputs": [
    {
     "name": "stdout",
     "output_type": "stream",
     "text": [
      "no eval_res in exp3/seed_57852/downsample\n",
      "no eval_res in exp3/seed_168352/downsample\n",
      "no eval_res in exp3/seed_291592/downsample\n",
      "no eval_res in exp3/seed_789729423/downsample\n",
      "6\n"
     ]
    }
   ],
   "source": [
    "down_res = get_down_result('eval')"
   ]
  },
  {
   "cell_type": "code",
   "execution_count": 59,
   "metadata": {
    "collapsed": true
   },
   "outputs": [],
   "source": [
    "down_keys = ['model_name', 'feature_selection', 'ftr_combo_name']"
   ]
  },
  {
   "cell_type": "code",
   "execution_count": 60,
   "metadata": {
    "collapsed": true
   },
   "outputs": [],
   "source": [
    "down_means = down_res.groupby(down_keys).mean()[f1_choices]\n",
    "down_stds = down_res.groupby(down_keys).std()[f1_choices]"
   ]
  },
  {
   "cell_type": "code",
   "execution_count": 17,
   "metadata": {
    "collapsed": true,
    "scrolled": true
   },
   "outputs": [],
   "source": [
    "# down_res.groupby(down_keys).count()[f1_choices]"
   ]
  },
  {
   "cell_type": "code",
   "execution_count": 61,
   "metadata": {
    "scrolled": true
   },
   "outputs": [
    {
     "name": "stdout",
     "output_type": "stream",
     "text": [
      "f1_type = test_f1_weighted\n"
     ]
    },
    {
     "data": {
      "text/html": [
       "<div>\n",
       "<style>\n",
       "    .dataframe thead tr:only-child th {\n",
       "        text-align: right;\n",
       "    }\n",
       "\n",
       "    .dataframe thead th {\n",
       "        text-align: left;\n",
       "    }\n",
       "\n",
       "    .dataframe tbody tr th {\n",
       "        vertical-align: top;\n",
       "    }\n",
       "</style>\n",
       "<table border=\"1\" class=\"dataframe\">\n",
       "  <thead>\n",
       "    <tr style=\"text-align: right;\">\n",
       "      <th></th>\n",
       "      <th></th>\n",
       "      <th></th>\n",
       "      <th>test_f1_weighted</th>\n",
       "    </tr>\n",
       "    <tr>\n",
       "      <th>model_name</th>\n",
       "      <th>feature_selection</th>\n",
       "      <th>ftr_combo_name</th>\n",
       "      <th></th>\n",
       "    </tr>\n",
       "  </thead>\n",
       "  <tbody>\n",
       "    <tr>\n",
       "      <th rowspan=\"2\" valign=\"top\">RFreg</th>\n",
       "      <th>None</th>\n",
       "      <th>RoadNet+Segment_TOTAL_~2014</th>\n",
       "      <td>0.411583</td>\n",
       "    </tr>\n",
       "    <tr>\n",
       "      <th>mrmr</th>\n",
       "      <th>RoadNet+Segment_TOTAL_~2014</th>\n",
       "      <td>0.411583</td>\n",
       "    </tr>\n",
       "  </tbody>\n",
       "</table>\n",
       "</div>"
      ],
      "text/plain": [
       "                                                          test_f1_weighted\n",
       "model_name feature_selection ftr_combo_name                               \n",
       "RFreg      None              RoadNet+Segment_TOTAL_~2014          0.411583\n",
       "           mrmr              RoadNet+Segment_TOTAL_~2014          0.411583"
      ]
     },
     "execution_count": 61,
     "metadata": {},
     "output_type": "execute_result"
    },
    {
     "data": {
      "image/png": "[encoded data removed]",
      "text/plain": [
       "<matplotlib.figure.Figure at 0x7f963d2702e8>"
      ]
     },
     "metadata": {},
     "output_type": "display_data"
    }
   ],
   "source": [
    "f1_type = f1_choices[0]\n",
    "print('f1_type =', f1_type)\n",
    "\n",
    "down_means_to_plot = down_means[[f1_type]].sort_values(f1_type, ascending=True)\n",
    "down_stds_to_plot = down_stds[[f1_type]]\n",
    "\n",
    "down_means_to_plot.iloc[-5:].plot(kind='barh', figsize=(10,7), xerr=down_stds_to_plot)\n",
    "down_means_to_plot.iloc[:-3:-1,:]"
   ]
  },
  {
   "cell_type": "code",
   "execution_count": 66,
   "metadata": {
    "scrolled": true
   },
   "outputs": [
    {
     "name": "stdout",
     "output_type": "stream",
     "text": [
      "f1_type = test_f1_weighted\n"
     ]
    }
   ],
   "source": [
    "f1_type = f1_choices[0]\n",
    "print('f1_type =', f1_type)\n",
    "key_cols = ['model_name', 'feature_selection']\n",
    "table = get_paper_table(down_means, f1_type, key_cols)\n",
    "table.to_csv('deliverables/experiment_1001/EXP3 downsampling table %s.csv' % f1_type, encoding='utf8')"
   ]
  },
  {
   "cell_type": "code",
   "execution_count": null,
   "metadata": {
    "collapsed": true
   },
   "outputs": [],
   "source": []
  }
 ],
 "metadata": {
  "kernelspec": {
   "display_name": "Python [default]",
   "language": "python",
   "name": "python3"
  },
  "language_info": {
   "codemirror_mode": {
    "name": "ipython",
    "version": 3
   },
   "file_extension": ".py",
   "mimetype": "text/x-python",
   "name": "python",
   "nbconvert_exporter": "python",
   "pygments_lexer": "ipython3",
   "version": "3.6.2"
  }
 },
 "nbformat": 4,
 "nbformat_minor": 2
}
