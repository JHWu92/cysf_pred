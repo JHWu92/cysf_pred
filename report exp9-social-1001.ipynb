{
 "cells": [
  {
   "cell_type": "code",
   "execution_count": 1,
   "metadata": {
    "collapsed": true
   },
   "outputs": [],
   "source": []
  },
  {
   "cell_type": "code",
   "execution_count": 1,
   "metadata": {
    "collapsed": true
   },
   "outputs": [],
   "source": [
    "from src.experiment_based_function import SEEDS\n",
    "import pandas as pd\n",
    "%matplotlib inline"
   ]
  },
  {
   "cell_type": "code",
   "execution_count": 2,
   "metadata": {
    "collapsed": true
   },
   "outputs": [],
   "source": [
    "import os\n",
    "import glob\n",
    "from zipfile import ZipFile\n",
    "import re\n",
    "from pandas.compat import StringIO"
   ]
  },
  {
   "cell_type": "code",
   "execution_count": 3,
   "metadata": {
    "collapsed": true
   },
   "outputs": [],
   "source": [
    "eval_or_grid='eval'"
   ]
  },
  {
   "cell_type": "code",
   "execution_count": 19,
   "metadata": {
    "collapsed": true
   },
   "outputs": [],
   "source": [
    "def get_exp9_result(eval_or_grid='eval'):\n",
    "    res = []    \n",
    "    for fn in glob.glob('experiment_1001/exp9_social/*/*/%s_res.csv' % eval_or_grid):\n",
    "        _, fam_or_not, seed, _ = fn.split(os.path.sep)\n",
    "        seed = seed.replace('seed_','')\n",
    "        df = pd.read_csv(fn, index_col=0)\n",
    "        df['fam_or_not'] = fam_or_not\n",
    "        df['seed'] = seed\n",
    "        res.append(df)\n",
    "    return pd.concat(res)"
   ]
  },
  {
   "cell_type": "code",
   "execution_count": 20,
   "metadata": {
    "collapsed": true
   },
   "outputs": [],
   "source": [
    "eval_res = get_exp9_result('eval')"
   ]
  },
  {
   "cell_type": "code",
   "execution_count": 21,
   "metadata": {
    "scrolled": true
   },
   "outputs": [
    {
     "data": {
      "text/plain": [
       "(Index(['#ftr_all', '#ftr_keep', '#test_sample', '#train_sample',\n",
       "        'feature_selection', 'ftr_combo_name', 'model_name', 'test_acc',\n",
       "        'test_f1_macro', 'test_f1_micro', 'test_f1_weighted', 'test_mse',\n",
       "        'test_n_classes', 'test_precision_macro', 'test_precision_micro',\n",
       "        'test_precision_weighted', 'test_recall_macro', 'test_recall_micro',\n",
       "        'test_recall_weighted', 'train_acc', 'train_f1_macro', 'train_f1_micro',\n",
       "        'train_f1_weighted', 'train_mse', 'train_n_classes',\n",
       "        'train_precision_macro', 'train_precision_micro',\n",
       "        'train_precision_weighted', 'train_recall_macro', 'train_recall_micro',\n",
       "        'train_recall_weighted', 'upsample', 'y_dist', 'y_dist_up',\n",
       "        'fam_or_not', 'seed'],\n",
       "       dtype='object'), (300, 36))"
      ]
     },
     "execution_count": 21,
     "metadata": {},
     "output_type": "execute_result"
    }
   ],
   "source": [
    "eval_res.columns, eval_res.shape"
   ]
  },
  {
   "cell_type": "code",
   "execution_count": 23,
   "metadata": {},
   "outputs": [
    {
     "name": "stdout",
     "output_type": "stream",
     "text": [
      "train {5: 300}\n",
      "test {5: 270, 4: 30}\n",
      "train test\n",
      "(5, 5)    270\n",
      "(5, 4)     30\n",
      "dtype: int64\n"
     ]
    }
   ],
   "source": [
    "print('train', eval_res.train_n_classes.value_counts().to_dict())\n",
    "print('test', eval_res.test_n_classes.value_counts().to_dict())\n",
    "\n",
    "print('train', 'test')\n",
    "print(eval_res.apply(lambda x: (x.train_n_classes, x.test_n_classes), axis=1).value_counts())"
   ]
  },
  {
   "cell_type": "code",
   "execution_count": 24,
   "metadata": {
    "collapsed": true
   },
   "outputs": [],
   "source": [
    "f1_choices = ['test_f1_weighted', 'test_f1_macro', 'test_f1_micro']"
   ]
  },
  {
   "cell_type": "code",
   "execution_count": 41,
   "metadata": {
    "collapsed": true
   },
   "outputs": [],
   "source": [
    "keys = ['fam_or_not', 'upsample', 'ftr_combo_name', 'model_name', 'feature_selection']\n",
    "keys = ['fam_or_not', 'ftr_combo_name', 'model_name']\n"
   ]
  },
  {
   "cell_type": "code",
   "execution_count": 42,
   "metadata": {
    "scrolled": true
   },
   "outputs": [],
   "source": [
    "info = eval_res.groupby(['fam_or_not','upsample']).mean()[['#test_sample', '#train_sample','test_n_classes','train_n_classes', ]]"
   ]
  },
  {
   "cell_type": "code",
   "execution_count": 43,
   "metadata": {
    "collapsed": true
   },
   "outputs": [],
   "source": [
    "means = eval_res.groupby(keys).mean()[f1_choices]\n",
    "stds = eval_res.groupby(keys).std()[f1_choices]\n",
    "# means = means.reset_index().merge(info.reset_index(), how='left').set_index(keys)"
   ]
  },
  {
   "cell_type": "code",
   "execution_count": 44,
   "metadata": {},
   "outputs": [
    {
     "name": "stdout",
     "output_type": "stream",
     "text": [
      "f1_type = test_f1_micro\n"
     ]
    },
    {
     "data": {
      "text/html": [
       "<div>\n",
       "<style>\n",
       "    .dataframe thead tr:only-child th {\n",
       "        text-align: right;\n",
       "    }\n",
       "\n",
       "    .dataframe thead th {\n",
       "        text-align: left;\n",
       "    }\n",
       "\n",
       "    .dataframe tbody tr th {\n",
       "        vertical-align: top;\n",
       "    }\n",
       "</style>\n",
       "<table border=\"1\" class=\"dataframe\">\n",
       "  <thead>\n",
       "    <tr style=\"text-align: right;\">\n",
       "      <th></th>\n",
       "      <th></th>\n",
       "      <th></th>\n",
       "      <th>test_f1_micro</th>\n",
       "    </tr>\n",
       "    <tr>\n",
       "      <th>fam_or_not</th>\n",
       "      <th>ftr_combo_name</th>\n",
       "      <th>model_name</th>\n",
       "      <th></th>\n",
       "    </tr>\n",
       "  </thead>\n",
       "  <tbody>\n",
       "    <tr>\n",
       "      <th rowspan=\"7\" valign=\"top\">not_familiar</th>\n",
       "      <th>RoadNet+Segment_TOTAL_~2014</th>\n",
       "      <th>BAGcls</th>\n",
       "      <td>0.591250</td>\n",
       "    </tr>\n",
       "    <tr>\n",
       "      <th>RoadNet+Segment_NO_TOTAL_~2014</th>\n",
       "      <th>BAGcls</th>\n",
       "      <td>0.585000</td>\n",
       "    </tr>\n",
       "    <tr>\n",
       "      <th>RoadNet+Segment_TOTAL_~2014</th>\n",
       "      <th>XGBcls</th>\n",
       "      <td>0.560000</td>\n",
       "    </tr>\n",
       "    <tr>\n",
       "      <th>Segment_NO_TOTAL_~2014</th>\n",
       "      <th>BAGcls</th>\n",
       "      <td>0.537500</td>\n",
       "    </tr>\n",
       "    <tr>\n",
       "      <th>RoadNet+Segment_NO_TOTAL_~2014</th>\n",
       "      <th>XGBcls</th>\n",
       "      <td>0.532500</td>\n",
       "    </tr>\n",
       "    <tr>\n",
       "      <th rowspan=\"2\" valign=\"top\">RoadNet</th>\n",
       "      <th>BAGcls</th>\n",
       "      <td>0.528750</td>\n",
       "    </tr>\n",
       "    <tr>\n",
       "      <th>XGBcls</th>\n",
       "      <td>0.523750</td>\n",
       "    </tr>\n",
       "    <tr>\n",
       "      <th rowspan=\"3\" valign=\"top\">familiar</th>\n",
       "      <th>RoadNet+Segment_TOTAL_~2014</th>\n",
       "      <th>BAGcls</th>\n",
       "      <td>0.517808</td>\n",
       "    </tr>\n",
       "    <tr>\n",
       "      <th>RoadNet</th>\n",
       "      <th>RFreg</th>\n",
       "      <td>0.516438</td>\n",
       "    </tr>\n",
       "    <tr>\n",
       "      <th>RoadNet+Segment_TOTAL_~2014</th>\n",
       "      <th>RFreg</th>\n",
       "      <td>0.516438</td>\n",
       "    </tr>\n",
       "  </tbody>\n",
       "</table>\n",
       "</div>"
      ],
      "text/plain": [
       "                                                        test_f1_micro\n",
       "fam_or_not   ftr_combo_name                 model_name               \n",
       "not_familiar RoadNet+Segment_TOTAL_~2014    BAGcls           0.591250\n",
       "             RoadNet+Segment_NO_TOTAL_~2014 BAGcls           0.585000\n",
       "             RoadNet+Segment_TOTAL_~2014    XGBcls           0.560000\n",
       "             Segment_NO_TOTAL_~2014         BAGcls           0.537500\n",
       "             RoadNet+Segment_NO_TOTAL_~2014 XGBcls           0.532500\n",
       "             RoadNet                        BAGcls           0.528750\n",
       "                                            XGBcls           0.523750\n",
       "familiar     RoadNet+Segment_TOTAL_~2014    BAGcls           0.517808\n",
       "             RoadNet                        RFreg            0.516438\n",
       "             RoadNet+Segment_TOTAL_~2014    RFreg            0.516438"
      ]
     },
     "execution_count": 44,
     "metadata": {},
     "output_type": "execute_result"
    },
    {
     "data": {
      "image/png": "[encoded data removed]",
      "text/plain": [
       "<matplotlib.figure.Figure at 0x23daa5bdd68>"
      ]
     },
     "metadata": {},
     "output_type": "display_data"
    }
   ],
   "source": [
    "f1_type = f1_choices[2]\n",
    "print('f1_type =', f1_type)\n",
    "\n",
    "means_to_plot = means[[f1_type]].sort_values(f1_type, ascending=True)\n",
    "stds_to_plot = stds[[f1_type]]\n",
    "\n",
    "df_top_n = 10\n",
    "plot_top_n = 5\n",
    "means_to_plot.iloc[-plot_top_n:].plot(kind='barh', figsize=(10,7), xerr=stds_to_plot)\n",
    "means.loc[means_to_plot.iloc[:-(df_top_n+1):-1,:].index].drop([x for x in f1_choices if x != f1_type], axis=1)"
   ]
  },
  {
   "cell_type": "code",
   "execution_count": 31,
   "metadata": {},
   "outputs": [
    {
     "name": "stdout",
     "output_type": "stream",
     "text": [
      "f1_type = test_f1_micro\n"
     ]
    },
    {
     "data": {
      "text/html": [
       "<div>\n",
       "<style>\n",
       "    .dataframe thead tr:only-child th {\n",
       "        text-align: right;\n",
       "    }\n",
       "\n",
       "    .dataframe thead th {\n",
       "        text-align: left;\n",
       "    }\n",
       "\n",
       "    .dataframe tbody tr th {\n",
       "        vertical-align: top;\n",
       "    }\n",
       "</style>\n",
       "<table border=\"1\" class=\"dataframe\">\n",
       "  <thead>\n",
       "    <tr style=\"text-align: right;\">\n",
       "      <th></th>\n",
       "      <th></th>\n",
       "      <th></th>\n",
       "      <th></th>\n",
       "      <th></th>\n",
       "      <th>test_f1_micro</th>\n",
       "      <th>#test_sample</th>\n",
       "      <th>#train_sample</th>\n",
       "      <th>test_n_classes</th>\n",
       "      <th>train_n_classes</th>\n",
       "    </tr>\n",
       "    <tr>\n",
       "      <th>fam_or_not</th>\n",
       "      <th>upsample</th>\n",
       "      <th>ftr_combo_name</th>\n",
       "      <th>model_name</th>\n",
       "      <th>feature_selection</th>\n",
       "      <th></th>\n",
       "      <th></th>\n",
       "      <th></th>\n",
       "      <th></th>\n",
       "      <th></th>\n",
       "    </tr>\n",
       "  </thead>\n",
       "  <tbody>\n",
       "    <tr>\n",
       "      <th rowspan=\"7\" valign=\"top\">not_familiar</th>\n",
       "      <th rowspan=\"7\" valign=\"top\">None</th>\n",
       "      <th>RoadNet+Segment_TOTAL_~2014</th>\n",
       "      <th>BAGcls</th>\n",
       "      <th>None</th>\n",
       "      <td>0.591250</td>\n",
       "      <td>80.0</td>\n",
       "      <td>316.0</td>\n",
       "      <td>4.9</td>\n",
       "      <td>5.0</td>\n",
       "    </tr>\n",
       "    <tr>\n",
       "      <th>RoadNet+Segment_NO_TOTAL_~2014</th>\n",
       "      <th>BAGcls</th>\n",
       "      <th>None</th>\n",
       "      <td>0.585000</td>\n",
       "      <td>80.0</td>\n",
       "      <td>316.0</td>\n",
       "      <td>4.9</td>\n",
       "      <td>5.0</td>\n",
       "    </tr>\n",
       "    <tr>\n",
       "      <th>RoadNet+Segment_TOTAL_~2014</th>\n",
       "      <th>XGBcls</th>\n",
       "      <th>None</th>\n",
       "      <td>0.560000</td>\n",
       "      <td>80.0</td>\n",
       "      <td>316.0</td>\n",
       "      <td>4.9</td>\n",
       "      <td>5.0</td>\n",
       "    </tr>\n",
       "    <tr>\n",
       "      <th>Segment_NO_TOTAL_~2014</th>\n",
       "      <th>BAGcls</th>\n",
       "      <th>None</th>\n",
       "      <td>0.537500</td>\n",
       "      <td>80.0</td>\n",
       "      <td>316.0</td>\n",
       "      <td>4.9</td>\n",
       "      <td>5.0</td>\n",
       "    </tr>\n",
       "    <tr>\n",
       "      <th>RoadNet+Segment_NO_TOTAL_~2014</th>\n",
       "      <th>XGBcls</th>\n",
       "      <th>None</th>\n",
       "      <td>0.532500</td>\n",
       "      <td>80.0</td>\n",
       "      <td>316.0</td>\n",
       "      <td>4.9</td>\n",
       "      <td>5.0</td>\n",
       "    </tr>\n",
       "    <tr>\n",
       "      <th rowspan=\"2\" valign=\"top\">RoadNet</th>\n",
       "      <th>BAGcls</th>\n",
       "      <th>None</th>\n",
       "      <td>0.528750</td>\n",
       "      <td>80.0</td>\n",
       "      <td>316.0</td>\n",
       "      <td>4.9</td>\n",
       "      <td>5.0</td>\n",
       "    </tr>\n",
       "    <tr>\n",
       "      <th>XGBcls</th>\n",
       "      <th>None</th>\n",
       "      <td>0.523750</td>\n",
       "      <td>80.0</td>\n",
       "      <td>316.0</td>\n",
       "      <td>4.9</td>\n",
       "      <td>5.0</td>\n",
       "    </tr>\n",
       "    <tr>\n",
       "      <th rowspan=\"3\" valign=\"top\">familiar</th>\n",
       "      <th rowspan=\"3\" valign=\"top\">None</th>\n",
       "      <th>RoadNet+Segment_TOTAL_~2014</th>\n",
       "      <th>BAGcls</th>\n",
       "      <th>None</th>\n",
       "      <td>0.517808</td>\n",
       "      <td>73.0</td>\n",
       "      <td>290.0</td>\n",
       "      <td>4.9</td>\n",
       "      <td>5.0</td>\n",
       "    </tr>\n",
       "    <tr>\n",
       "      <th>RoadNet</th>\n",
       "      <th>RFreg</th>\n",
       "      <th>None</th>\n",
       "      <td>0.516438</td>\n",
       "      <td>73.0</td>\n",
       "      <td>290.0</td>\n",
       "      <td>4.9</td>\n",
       "      <td>5.0</td>\n",
       "    </tr>\n",
       "    <tr>\n",
       "      <th>RoadNet+Segment_TOTAL_~2014</th>\n",
       "      <th>RFreg</th>\n",
       "      <th>None</th>\n",
       "      <td>0.516438</td>\n",
       "      <td>73.0</td>\n",
       "      <td>290.0</td>\n",
       "      <td>4.9</td>\n",
       "      <td>5.0</td>\n",
       "    </tr>\n",
       "  </tbody>\n",
       "</table>\n",
       "</div>"
      ],
      "text/plain": [
       "                                                                                   test_f1_micro  \\\n",
       "fam_or_not   upsample ftr_combo_name                 model_name feature_selection                  \n",
       "not_familiar None     RoadNet+Segment_TOTAL_~2014    BAGcls     None                    0.591250   \n",
       "                      RoadNet+Segment_NO_TOTAL_~2014 BAGcls     None                    0.585000   \n",
       "                      RoadNet+Segment_TOTAL_~2014    XGBcls     None                    0.560000   \n",
       "                      Segment_NO_TOTAL_~2014         BAGcls     None                    0.537500   \n",
       "                      RoadNet+Segment_NO_TOTAL_~2014 XGBcls     None                    0.532500   \n",
       "                      RoadNet                        BAGcls     None                    0.528750   \n",
       "                                                     XGBcls     None                    0.523750   \n",
       "familiar     None     RoadNet+Segment_TOTAL_~2014    BAGcls     None                    0.517808   \n",
       "                      RoadNet                        RFreg      None                    0.516438   \n",
       "                      RoadNet+Segment_TOTAL_~2014    RFreg      None                    0.516438   \n",
       "\n",
       "                                                                                   #test_sample  \\\n",
       "fam_or_not   upsample ftr_combo_name                 model_name feature_selection                 \n",
       "not_familiar None     RoadNet+Segment_TOTAL_~2014    BAGcls     None                       80.0   \n",
       "                      RoadNet+Segment_NO_TOTAL_~2014 BAGcls     None                       80.0   \n",
       "                      RoadNet+Segment_TOTAL_~2014    XGBcls     None                       80.0   \n",
       "                      Segment_NO_TOTAL_~2014         BAGcls     None                       80.0   \n",
       "                      RoadNet+Segment_NO_TOTAL_~2014 XGBcls     None                       80.0   \n",
       "                      RoadNet                        BAGcls     None                       80.0   \n",
       "                                                     XGBcls     None                       80.0   \n",
       "familiar     None     RoadNet+Segment_TOTAL_~2014    BAGcls     None                       73.0   \n",
       "                      RoadNet                        RFreg      None                       73.0   \n",
       "                      RoadNet+Segment_TOTAL_~2014    RFreg      None                       73.0   \n",
       "\n",
       "                                                                                   #train_sample  \\\n",
       "fam_or_not   upsample ftr_combo_name                 model_name feature_selection                  \n",
       "not_familiar None     RoadNet+Segment_TOTAL_~2014    BAGcls     None                       316.0   \n",
       "                      RoadNet+Segment_NO_TOTAL_~2014 BAGcls     None                       316.0   \n",
       "                      RoadNet+Segment_TOTAL_~2014    XGBcls     None                       316.0   \n",
       "                      Segment_NO_TOTAL_~2014         BAGcls     None                       316.0   \n",
       "                      RoadNet+Segment_NO_TOTAL_~2014 XGBcls     None                       316.0   \n",
       "                      RoadNet                        BAGcls     None                       316.0   \n",
       "                                                     XGBcls     None                       316.0   \n",
       "familiar     None     RoadNet+Segment_TOTAL_~2014    BAGcls     None                       290.0   \n",
       "                      RoadNet                        RFreg      None                       290.0   \n",
       "                      RoadNet+Segment_TOTAL_~2014    RFreg      None                       290.0   \n",
       "\n",
       "                                                                                   test_n_classes  \\\n",
       "fam_or_not   upsample ftr_combo_name                 model_name feature_selection                   \n",
       "not_familiar None     RoadNet+Segment_TOTAL_~2014    BAGcls     None                          4.9   \n",
       "                      RoadNet+Segment_NO_TOTAL_~2014 BAGcls     None                          4.9   \n",
       "                      RoadNet+Segment_TOTAL_~2014    XGBcls     None                          4.9   \n",
       "                      Segment_NO_TOTAL_~2014         BAGcls     None                          4.9   \n",
       "                      RoadNet+Segment_NO_TOTAL_~2014 XGBcls     None                          4.9   \n",
       "                      RoadNet                        BAGcls     None                          4.9   \n",
       "                                                     XGBcls     None                          4.9   \n",
       "familiar     None     RoadNet+Segment_TOTAL_~2014    BAGcls     None                          4.9   \n",
       "                      RoadNet                        RFreg      None                          4.9   \n",
       "                      RoadNet+Segment_TOTAL_~2014    RFreg      None                          4.9   \n",
       "\n",
       "                                                                                   train_n_classes  \n",
       "fam_or_not   upsample ftr_combo_name                 model_name feature_selection                   \n",
       "not_familiar None     RoadNet+Segment_TOTAL_~2014    BAGcls     None                           5.0  \n",
       "                      RoadNet+Segment_NO_TOTAL_~2014 BAGcls     None                           5.0  \n",
       "                      RoadNet+Segment_TOTAL_~2014    XGBcls     None                           5.0  \n",
       "                      Segment_NO_TOTAL_~2014         BAGcls     None                           5.0  \n",
       "                      RoadNet+Segment_NO_TOTAL_~2014 XGBcls     None                           5.0  \n",
       "                      RoadNet                        BAGcls     None                           5.0  \n",
       "                                                     XGBcls     None                           5.0  \n",
       "familiar     None     RoadNet+Segment_TOTAL_~2014    BAGcls     None                           5.0  \n",
       "                      RoadNet                        RFreg      None                           5.0  \n",
       "                      RoadNet+Segment_TOTAL_~2014    RFreg      None                           5.0  "
      ]
     },
     "execution_count": 31,
     "metadata": {},
     "output_type": "execute_result"
    },
    {
     "data": {
      "image/png": "[encoded data removed]",
      "text/plain": [
       "<matplotlib.figure.Figure at 0x23daa09af28>"
      ]
     },
     "metadata": {},
     "output_type": "display_data"
    }
   ],
   "source": [
    "f1_type = f1_choices[2]\n",
    "print('f1_type =', f1_type)\n",
    "\n",
    "means_to_plot = means[[f1_type]].sort_values(f1_type, ascending=True)\n",
    "stds_to_plot = stds[[f1_type]]\n",
    "\n",
    "df_top_n = 10\n",
    "plot_top_n = 5\n",
    "means_to_plot.iloc[-plot_top_n:].plot(kind='barh', figsize=(10,7), xerr=stds_to_plot)\n",
    "means.loc[means_to_plot.iloc[:-(df_top_n+1):-1,:].index].drop([x for x in f1_choices if x != f1_type], axis=1)"
   ]
  },
  {
   "cell_type": "code",
   "execution_count": 37,
   "metadata": {
    "collapsed": true
   },
   "outputs": [],
   "source": [
    "def get_paper_table(means, f1_type, key_cols):\n",
    "    cols_name_convert = {'RoadNet': 'RoadNet', 'RoadNet+Segment_NO_TOTAL_~2014': 'RoadNet+Segment type',\n",
    "     'RoadNet+Segment_TOTAL_~2014': 'RoadNet+Segment total', 'Segment_NO_TOTAL_~2014': 'Segment type',\n",
    "     'Segment_TOTAL_~2014': 'Segment total'}\n",
    "    means_for_pivot = means.reset_index()\n",
    "    means_for_pivot['key'] = means_for_pivot.apply(lambda x: tuple([x[col] for col in key_cols]), axis=1)\n",
    "    table = means_for_pivot.reset_index().pivot(index='key', columns='ftr_combo_name', values=f1_type)\n",
    "    table.index = pd.MultiIndex.from_tuples(table.index, names=key_cols)    \n",
    "    table.columns.name = f1_type\n",
    "    table.columns = [cols_name_convert[col] for col in table.columns]\n",
    "    return table[['RoadNet', 'Segment total', 'Segment type', 'RoadNet+Segment total', 'RoadNet+Segment type']]"
   ]
  },
  {
   "cell_type": "code",
   "execution_count": 45,
   "metadata": {},
   "outputs": [],
   "source": [
    "key_cols = [k for k in keys if k!='ftr_combo_name']\n",
    "table = get_paper_table(means, f1_type, key_cols)"
   ]
  },
  {
   "cell_type": "code",
   "execution_count": 47,
   "metadata": {
    "collapsed": true
   },
   "outputs": [],
   "source": [
    "# table.to_csv('deliverables/experiment_1001/exp9.csv', encoding='utf8')"
   ]
  },
  {
   "cell_type": "code",
   "execution_count": 46,
   "metadata": {},
   "outputs": [
    {
     "data": {
      "text/html": [
       "<div>\n",
       "<style>\n",
       "    .dataframe thead tr:only-child th {\n",
       "        text-align: right;\n",
       "    }\n",
       "\n",
       "    .dataframe thead th {\n",
       "        text-align: left;\n",
       "    }\n",
       "\n",
       "    .dataframe tbody tr th {\n",
       "        vertical-align: top;\n",
       "    }\n",
       "</style>\n",
       "<table border=\"1\" class=\"dataframe\">\n",
       "  <thead>\n",
       "    <tr style=\"text-align: right;\">\n",
       "      <th></th>\n",
       "      <th></th>\n",
       "      <th>RoadNet</th>\n",
       "      <th>Segment total</th>\n",
       "      <th>Segment type</th>\n",
       "      <th>RoadNet+Segment total</th>\n",
       "      <th>RoadNet+Segment type</th>\n",
       "    </tr>\n",
       "    <tr>\n",
       "      <th>fam_or_not</th>\n",
       "      <th>model_name</th>\n",
       "      <th></th>\n",
       "      <th></th>\n",
       "      <th></th>\n",
       "      <th></th>\n",
       "      <th></th>\n",
       "    </tr>\n",
       "  </thead>\n",
       "  <tbody>\n",
       "    <tr>\n",
       "      <th rowspan=\"3\" valign=\"top\">familiar</th>\n",
       "      <th>BAGcls</th>\n",
       "      <td>0.505479</td>\n",
       "      <td>0.441096</td>\n",
       "      <td>0.494521</td>\n",
       "      <td>0.517808</td>\n",
       "      <td>0.506849</td>\n",
       "    </tr>\n",
       "    <tr>\n",
       "      <th>RFreg</th>\n",
       "      <td>0.516438</td>\n",
       "      <td>0.450685</td>\n",
       "      <td>0.445205</td>\n",
       "      <td>0.516438</td>\n",
       "      <td>0.479452</td>\n",
       "    </tr>\n",
       "    <tr>\n",
       "      <th>XGBcls</th>\n",
       "      <td>0.480822</td>\n",
       "      <td>0.447945</td>\n",
       "      <td>0.486301</td>\n",
       "      <td>0.494521</td>\n",
       "      <td>0.498630</td>\n",
       "    </tr>\n",
       "    <tr>\n",
       "      <th rowspan=\"3\" valign=\"top\">not_familiar</th>\n",
       "      <th>BAGcls</th>\n",
       "      <td>0.528750</td>\n",
       "      <td>0.456250</td>\n",
       "      <td>0.537500</td>\n",
       "      <td>0.591250</td>\n",
       "      <td>0.585000</td>\n",
       "    </tr>\n",
       "    <tr>\n",
       "      <th>RFreg</th>\n",
       "      <td>0.478750</td>\n",
       "      <td>0.452500</td>\n",
       "      <td>0.458750</td>\n",
       "      <td>0.506250</td>\n",
       "      <td>0.478750</td>\n",
       "    </tr>\n",
       "    <tr>\n",
       "      <th>XGBcls</th>\n",
       "      <td>0.523750</td>\n",
       "      <td>0.470000</td>\n",
       "      <td>0.511250</td>\n",
       "      <td>0.560000</td>\n",
       "      <td>0.532500</td>\n",
       "    </tr>\n",
       "  </tbody>\n",
       "</table>\n",
       "</div>"
      ],
      "text/plain": [
       "                          RoadNet  Segment total  Segment type  \\\n",
       "fam_or_not   model_name                                          \n",
       "familiar     BAGcls      0.505479       0.441096      0.494521   \n",
       "             RFreg       0.516438       0.450685      0.445205   \n",
       "             XGBcls      0.480822       0.447945      0.486301   \n",
       "not_familiar BAGcls      0.528750       0.456250      0.537500   \n",
       "             RFreg       0.478750       0.452500      0.458750   \n",
       "             XGBcls      0.523750       0.470000      0.511250   \n",
       "\n",
       "                         RoadNet+Segment total  RoadNet+Segment type  \n",
       "fam_or_not   model_name                                               \n",
       "familiar     BAGcls                   0.517808              0.506849  \n",
       "             RFreg                    0.516438              0.479452  \n",
       "             XGBcls                   0.494521              0.498630  \n",
       "not_familiar BAGcls                   0.591250              0.585000  \n",
       "             RFreg                    0.506250              0.478750  \n",
       "             XGBcls                   0.560000              0.532500  "
      ]
     },
     "execution_count": 46,
     "metadata": {},
     "output_type": "execute_result"
    }
   ],
   "source": [
    "table"
   ]
  }
 ],
 "metadata": {
  "kernelspec": {
   "display_name": "Python 3",
   "language": "python",
   "name": "python3"
  },
  "language_info": {
   "codemirror_mode": {
    "name": "ipython",
    "version": 3
   },
   "file_extension": ".py",
   "mimetype": "text/x-python",
   "name": "python",
   "nbconvert_exporter": "python",
   "pygments_lexer": "ipython3",
   "version": "3.6.1"
  }
 },
 "nbformat": 4,
 "nbformat_minor": 2
}
