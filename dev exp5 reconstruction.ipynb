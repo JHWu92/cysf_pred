{
 "cells": [
  {
   "cell_type": "code",
   "execution_count": 5,
   "metadata": {
    "collapsed": true
   },
   "outputs": [],
   "source": [
    "import pandas as pd\n",
    "import glob\n",
    "\n",
    "import os\n",
    "\n",
    "from wKit.utility.file_sys import mkdirs_if_not_exist"
   ]
  },
  {
   "cell_type": "code",
   "execution_count": 17,
   "metadata": {
    "collapsed": true
   },
   "outputs": [],
   "source": [
    "def load_xs():\n",
    "    Xs = {'RoadNet': pd.read_csv('data/x_RoadNet.csv', index_col=0)}\n",
    "\n",
    "    for ftr_type in ['Segment', 'RoadNet+Segment']:\n",
    "        for total_or_not in ['NO_TOTAL', 'TOTAL']:\n",
    "            feature_combo_name = '%s_%s_%s' % (ftr_type, total_or_not, '~2014')\n",
    "            Xs[feature_combo_name] = pd.read_csv('data/x_%s.csv' % feature_combo_name, index_col=0)\n",
    "\n",
    "    return Xs"
   ]
  },
  {
   "cell_type": "code",
   "execution_count": 13,
   "metadata": {
    "collapsed": true
   },
   "outputs": [],
   "source": [
    "def init_model_params(name):\n",
    "    params = grid_cv_default_params()\n",
    "    if name == 'XGBcls':\n",
    "        model = xgboost.XGBClassifier()\n",
    "        param = params['cls']['XGBcls']\n",
    "    elif name == 'BAGcls':\n",
    "        model = BaggingClassifier()\n",
    "        param = params['cls']['BAGcls']\n",
    "    elif name == 'GDBcls':\n",
    "        model = GradientBoostingClassifier()\n",
    "        param = params['cls']['GDBcls']\n",
    "    else: raise('no model')\n",
    "    return model, param"
   ]
  },
  {
   "cell_type": "code",
   "execution_count": 22,
   "metadata": {
    "collapsed": true
   },
   "outputs": [],
   "source": [
    "def exp5_recon(train_y, test_y, Xs, frac, sample_seed, exp_path):\n",
    "    \"\"\"\n",
    "    train_y: segment level computed by frac% of ratings\n",
    "    test_y: segment level computed by 100% of ratings\n",
    "    \"\"\"\n",
    "    \n",
    "    train_n_classes = train_y.round().nunique()\n",
    "    test_n_classes = test_y.round().nunique()\n",
    "    print('====n classes, train: %d, test: %d' % (train_n_classes, test_n_classes))\n",
    "    y_dist = train_y.round().value_counts().to_dict()\n",
    "    print('====train_y: distr=%s' % (y_dist))\n",
    "    \n",
    "    train_idx = train_y.index\n",
    "    test_idx = test_y.index\n",
    "    \n",
    "    # store result\n",
    "    grid_res_list, eval_res_list = [], []\n",
    "\n",
    "    # iterate combos\n",
    "    for ftr_combo_name, X in Xs.items():\n",
    "        print('========ftr_combo_name=%s' % ftr_combo_name)\n",
    "        train_x, test_x = X.loc[train_idx], X.loc[test_idx]\n",
    "        feature_names = train_x.columns\n",
    "\n",
    "        for model_name, up_name, fselect_type in MODEL_UP_FSEL_NAMES:\n",
    "            print('============%s,%s,%s' % (model_name, up_name, fselect_type))\n",
    "    return"
   ]
  },
  {
   "cell_type": "code",
   "execution_count": 23,
   "metadata": {},
   "outputs": [],
   "source": [
    "def main():\n",
    "    redo = False\n",
    "    test_y = pd.read_csv('data/y_csl_all-2017-10-01.csv', index_col=0).csl\n",
    "    Xs = load_xs()\n",
    "\n",
    "    for fn in glob.glob('data/exp5_reconstruction/1001/*'):\n",
    "        _, frac, sample_seed = fn[:-4].split('#')\n",
    "        exp_path = 'experiment_1001/exp5_recon/%s#%s' % (frac, sample_seed)\n",
    "        if os.path.exists(exp_path) and not redo:\n",
    "            print('exists:', exp_path)\n",
    "            continue\n",
    "        print('exp on:', exp_path)\n",
    "        mkdirs_if_not_exist(exp_path)\n",
    "        train_y = pd.read_csv(fn, index_col=0).csl\n",
    "        exp5_recon(train_y, test_y, Xs, frac, sample_seed, exp_path)\n",
    "        break"
   ]
  },
  {
   "cell_type": "code",
   "execution_count": 24,
   "metadata": {},
   "outputs": [
    {
     "name": "stdout",
     "output_type": "stream",
     "text": [
      "exists: experiment_1001/exp5_recon/10#1151\n",
      "exists: experiment_1001/exp5_recon/10#2097\n",
      "exists: experiment_1001/exp5_recon/10#4737\n",
      "exists: experiment_1001/exp5_recon/10#4934\n",
      "exp on: experiment_1001/exp5_recon/10#5237\n",
      "====n classes, train: 5, test: 5\n",
      "====train_y: distr={3.0: 72, 4.0: 61, 2.0: 32, 5.0: 7, 1.0: 4}\n",
      "========ftr_combo_name=RoadNet\n",
      "============XGBcls,None,None\n",
      "============BAGcls,None,None\n",
      "============GDBcls,None,None\n",
      "========ftr_combo_name=Segment_NO_TOTAL_~2014\n",
      "============XGBcls,None,None\n",
      "============BAGcls,None,None\n",
      "============GDBcls,None,None\n",
      "========ftr_combo_name=Segment_TOTAL_~2014\n",
      "============XGBcls,None,None\n",
      "============BAGcls,None,None\n",
      "============GDBcls,None,None\n",
      "========ftr_combo_name=RoadNet+Segment_NO_TOTAL_~2014\n",
      "============XGBcls,None,None\n",
      "============BAGcls,None,None\n",
      "============GDBcls,None,None\n",
      "========ftr_combo_name=RoadNet+Segment_TOTAL_~2014\n",
      "============XGBcls,None,None\n",
      "============BAGcls,None,None\n",
      "============GDBcls,None,None\n"
     ]
    }
   ],
   "source": [
    "\n",
    "MODEL_UP_FSEL_NAMES = [\n",
    "    ('XGBcls', 'None', 'None'),\n",
    "    # ('XGBcls', 'svm', 'None'),\n",
    "    ('BAGcls', 'None', 'None'),\n",
    "    # ('XGBreg', 'svm', 'rfecv_linsvc'),\n",
    "    ('GDBcls', 'None', 'None'),\n",
    "    # ('GDBcls', 'svm', 'mrmr'),\n",
    "]\n",
    "SMOTE_SEED = 10\n",
    "main()"
   ]
  },
  {
   "cell_type": "code",
   "execution_count": null,
   "metadata": {
    "collapsed": true
   },
   "outputs": [],
   "source": []
  }
 ],
 "metadata": {
  "kernelspec": {
   "display_name": "Python [default]",
   "language": "python",
   "name": "python3"
  },
  "language_info": {
   "codemirror_mode": {
    "name": "ipython",
    "version": 3
   },
   "file_extension": ".py",
   "mimetype": "text/x-python",
   "name": "python",
   "nbconvert_exporter": "python",
   "pygments_lexer": "ipython3",
   "version": "3.6.2"
  }
 },
 "nbformat": 4,
 "nbformat_minor": 2
}
