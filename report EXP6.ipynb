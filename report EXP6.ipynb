{
 "cells": [
  {
   "cell_type": "code",
   "execution_count": 1,
   "metadata": {
    "collapsed": true
   },
   "outputs": [],
   "source": [
    "import glob\n",
    "import pandas as pd\n",
    "import os\n",
    "\n",
    "%matplotlib inline"
   ]
  },
  {
   "cell_type": "code",
   "execution_count": 2,
   "metadata": {
    "collapsed": true
   },
   "outputs": [],
   "source": [
    "def feature_counts(directory):\n",
    "    fn = directory+ '/feature_names.txt'\n",
    "    with open(fn) as f:\n",
    "        lines = f.readlines()\n",
    "        keep = int(lines[1].split('\\t')[1])\n",
    "        remove = int(lines[2].split('\\t')[1])\n",
    "    return keep, remove"
   ]
  },
  {
   "cell_type": "code",
   "execution_count": 6,
   "metadata": {
    "collapsed": true
   },
   "outputs": [],
   "source": [
    "def load_majority_vote(exp_path):\n",
    "    fn = exp_path+'/majority_vote.csv'\n",
    "    res = pd.read_csv(fn)\n",
    "    return res\n",
    "\n",
    "def load_roadnet(exp_path):\n",
    "    fselects = ['None']\n",
    "    res = []\n",
    "    for selection_type in fselects:\n",
    "        exp_param_path = '%s/%s#%s' %(exp_path, 'RoadNet', selection_type)\n",
    "        fn = '%s/cv_5_best_models_evaluation.csv' %(exp_param_path)\n",
    "        cv_res = pd.read_csv(fn)\n",
    "        cv_res.columns = ['kind', 'model'] + cv_res.columns[2:].tolist()\n",
    "        cv_res['feature_select'] = selection_type\n",
    "        cv_res['scale'] = 'min-max'\n",
    "        cv_res['feature'] = 'RoadNet'\n",
    "        keep, remove = feature_counts(exp_param_path)\n",
    "        cv_res['# ftr keep'] = keep\n",
    "        cv_res['# ftr remove'] = remove\n",
    "        res.append(cv_res)\n",
    "    res = pd.concat(res)\n",
    "    return res \n",
    "\n",
    "def load_else(exp_path):\n",
    "    \n",
    "    totals = ['NO_TOTAL', 'TOTAL']\n",
    "    years_choices = ['~2014']\n",
    "    feature_types = ['Segment', 'RoadNet+Segment']\n",
    "    res = []\n",
    "    for total_or_not in totals:\n",
    "        for year in years_choices:\n",
    "            for ftr_type in feature_types:\n",
    "                for max_cut in ( False,):\n",
    "                    for selection_type in ['None']:\n",
    "                        scale_type = 'max-cutoff' if max_cut else 'min-max'\n",
    "                        exp_param = '#'.join([ftr_type, total_or_not, year, scale_type, selection_type])\n",
    "                        fn = '%s/%s/cv_5_best_models_evaluation.csv' % (exp_path, exp_param)\n",
    "                        cv_res = pd.read_csv(fn)\n",
    "                        cv_res.columns = ['kind', 'model'] + cv_res.columns[2:].tolist()\n",
    "                        cv_res['feature_select'] = selection_type\n",
    "                        cv_res['scale'] = scale_type\n",
    "                        cv_res['feature'] = ftr_type\n",
    "                        cv_res['time period'] = year\n",
    "                        cv_res['total or by type'] = total_or_not\n",
    "                        keep, remove = feature_counts('%s/%s' % (exp_path, exp_param))\n",
    "                        cv_res['# ftr keep'] = keep\n",
    "                        cv_res['# ftr remove'] = remove\n",
    "                        res.append(cv_res)\n",
    "    res = pd.concat(res)\n",
    "\n",
    "    return res \n",
    "\n",
    "def load_one_run(seed,weight_name):\n",
    "    exp_path = 'experiment_1001/exp6/%s/seed_%d' % (weight_name, seed)\n",
    "    major = load_majority_vote(exp_path)\n",
    "    roadnet = load_roadnet(exp_path)\n",
    "    res_else = load_else(exp_path)\n",
    "    res = pd.concat([major, roadnet, res_else], ignore_index=True)\n",
    "    res['seed'] = seed\n",
    "    res['weight_name'] = weight_name\n",
    "    return res\n",
    "\n",
    "def load_all_run(weight_name):\n",
    "    all_run = []\n",
    "    for seed in [0, 100, 972, 5258, 7821, 40918, 57852, 168352, 291592, 789729423]:\n",
    "        one_run_res = load_one_run(seed, weight_name)\n",
    "        all_run.append(one_run_res)\n",
    "    all_run_res = pd.concat(all_run, ignore_index=True)\n",
    "    all_run_res.fillna('', inplace=True)\n",
    "    all_run_res['key'] = all_run_res.apply(lambda x: '%s %s %s %s %s %s'.strip() % (x['feature'], x['total or by type'], x['time period'], x['model'], x['scale'], x['feature_select']), axis=1)        \n",
    "#     all_run_res['key'] = all_run_res.apply(lambda x: '%s %s %s %s'.strip() % (x['feature'], x['total or by type'], x['model'], x['scale']), axis=1)        \n",
    "    return all_run_res"
   ]
  },
  {
   "cell_type": "code",
   "execution_count": 7,
   "metadata": {
    "collapsed": true
   },
   "outputs": [],
   "source": [
    "def get_all_res():\n",
    "    all_res = {}\n",
    "    for weight_name in ['4level']:\n",
    "        res = load_all_run(weight_name)\n",
    "        res['col_name'] = res.apply(lambda x: x['feature']+' '+x['total or by type'],axis=1)\n",
    "        all_res[weight_name] = res\n",
    "    return all_res"
   ]
  },
  {
   "cell_type": "code",
   "execution_count": 9,
   "metadata": {},
   "outputs": [],
   "source": [
    "all_res = get_all_res()"
   ]
  },
  {
   "cell_type": "markdown",
   "metadata": {},
   "source": [
    "Drop useless columns"
   ]
  },
  {
   "cell_type": "code",
   "execution_count": 10,
   "metadata": {
    "collapsed": true
   },
   "outputs": [],
   "source": [
    "def clean_res(res):\n",
    "    col_mapping = {' ': ' ',\n",
    "     'RoadNet ': 'RoadNet',\n",
    "     'Segment NO_TOTAL': 'Social type', \n",
    "     'RoadNet+Segment NO_TOTAL': 'RoadNet+Social type',\n",
    "     'Segment TOTAL': 'Social total', \n",
    "     'RoadNet+Segment TOTAL': 'RoadNet+Social total'}\n",
    "    clean_res = res.drop(['feature', 'total or by type', 'time period', 'scale', 'feature_select',\n",
    "                      'kind', '# ftr remove', '# ftr keep', \n",
    "                      'train_acc', 'train_f1_macro', 'train_f1_micro', 'train_f1_weighted', 'train_mse',\n",
    "                      'test_acc', 'test_mse',\n",
    "                      'seed',\n",
    "                      'key',\n",
    "                     ], axis=1)\n",
    "    clean_res.col_name = clean_res.col_name.apply(lambda x: col_mapping[x])\n",
    "    return clean_res\n",
    "\n",
    "def get_clean_mean_std(all_res):\n",
    "    all_clean_res = {}\n",
    "    all_means = {}\n",
    "    all_stds = {}\n",
    "    for weight_name, res in all_res.items():\n",
    "        c_res = clean_res(res)\n",
    "        all_clean_res[weight_name] = c_res\n",
    "        means = c_res.groupby(['col_name', 'model']).mean()\n",
    "        all_means[weight_name] = means\n",
    "        stds = c_res.groupby(['col_name', 'model']).std()\n",
    "        all_stds[weight_name] = stds\n",
    "    return all_clean_res, all_means, all_stds\n"
   ]
  },
  {
   "cell_type": "code",
   "execution_count": 11,
   "metadata": {
    "collapsed": true
   },
   "outputs": [],
   "source": [
    "\n",
    "\n",
    "all_clean_res, all_means, all_stds = get_clean_mean_std(all_res)"
   ]
  },
  {
   "cell_type": "markdown",
   "metadata": {},
   "source": [
    "## produce dtb(deliverable table) for paper"
   ]
  },
  {
   "cell_type": "code",
   "execution_count": 12,
   "metadata": {
    "collapsed": true
   },
   "outputs": [],
   "source": [
    "def deliverable_table(table):\n",
    "    table.loc['majority_vote'] = table.loc['majority_vote', ' ']\n",
    "    table.drop(' ', axis=1, inplace=True)\n",
    "#     table.columns = ['RoadNet', 'RoadNet+Social type', 'RoadNet+Social total', 'Social type', 'Social total']\n",
    "    table = table[['RoadNet', 'Social total', 'Social type', 'RoadNet+Social total', 'RoadNet+Social type']]\n",
    "    table = table.loc[['majority_vote', 'ols', 'lasso', 'ridge', 'logistics', 'linearSVM', 'linearSVR',\n",
    "               'SVM', 'SVR', 'MLPcls', 'MLPreg', 'DTcls', 'DTreg', 'RFcls', 'RFreg',\n",
    "               'ADAcls', 'ADAreg', 'BAGcls', 'BAGreg', 'GDBcls', 'GDBreg', 'XGBcls', 'XGBreg',\n",
    "          ]]\n",
    "    return table"
   ]
  },
  {
   "cell_type": "code",
   "execution_count": 17,
   "metadata": {
    "collapsed": true,
    "scrolled": true
   },
   "outputs": [],
   "source": [
    "f1_choices = ['test_f1_macro', 'test_f1_micro']\n",
    "for weight_name, means in all_means.items():\n",
    "    for f1_type in f1_choices:    \n",
    "        table = means.reset_index().pivot(index='model', columns='col_name', values=f1_type)\n",
    "        dtb = deliverable_table(table)\n",
    "        dtb.to_csv('deliverables/experiment_1001/EXP6 %s %s.csv' % (weight_name, f1_type))\n"
   ]
  },
  {
   "cell_type": "markdown",
   "metadata": {},
   "source": [
    "## error bar of top N solution"
   ]
  },
  {
   "cell_type": "code",
   "execution_count": 18,
   "metadata": {
    "collapsed": true
   },
   "outputs": [],
   "source": [
    "from IPython.display import display"
   ]
  },
  {
   "cell_type": "code",
   "execution_count": 19,
   "metadata": {
    "collapsed": true
   },
   "outputs": [],
   "source": [
    "weight_names = ['4level']"
   ]
  },
  {
   "cell_type": "code",
   "execution_count": 20,
   "metadata": {},
   "outputs": [
    {
     "name": "stdout",
     "output_type": "stream",
     "text": [
      "4level\n",
      "test_f1_macro:  RoadNet+Social type MLPcls 0.494; RoadNet DTcls 0.456; RoadNet+Social type SVM 0.450\n",
      "test_f1_micro:  RoadNet+Social type GDBcls 0.671; RoadNet+Social total GDBcls 0.670; RoadNet+Social type RFcls 0.669\n"
     ]
    }
   ],
   "source": [
    "weight_name = weight_names[0]\n",
    "print(weight_name)\n",
    "for f1_type in f1_choices:\n",
    "    means_to_plot = all_means[weight_name].sort_values(f1_type, ascending=False).head(3)\n",
    "    index_to_plot = means_to_plot.index\n",
    "\n",
    "    print(f1_type+': ', '; '.join(['%s %s %.3f' % (f, m, f1) for (f, m), f1 in means_to_plot[f1_type].iteritems()]))\n"
   ]
  },
  {
   "cell_type": "code",
   "execution_count": 24,
   "metadata": {},
   "outputs": [
    {
     "name": "stdout",
     "output_type": "stream",
     "text": [
      "4level test_f1_micro:  RoadNet+Social type GDBcls 0.671; RoadNet+Social total GDBcls 0.670; RoadNet+Social type RFcls 0.669\n"
     ]
    },
    {
     "data": {
      "text/html": [
       "<div>\n",
       "<style>\n",
       "    .dataframe thead tr:only-child th {\n",
       "        text-align: right;\n",
       "    }\n",
       "\n",
       "    .dataframe thead th {\n",
       "        text-align: left;\n",
       "    }\n",
       "\n",
       "    .dataframe tbody tr th {\n",
       "        vertical-align: top;\n",
       "    }\n",
       "</style>\n",
       "<table border=\"1\" class=\"dataframe\">\n",
       "  <thead>\n",
       "    <tr style=\"text-align: right;\">\n",
       "      <th></th>\n",
       "      <th></th>\n",
       "      <th>test_f1_macro</th>\n",
       "      <th>test_f1_micro</th>\n",
       "    </tr>\n",
       "    <tr>\n",
       "      <th>col_name</th>\n",
       "      <th>model</th>\n",
       "      <th></th>\n",
       "      <th></th>\n",
       "    </tr>\n",
       "  </thead>\n",
       "  <tbody>\n",
       "    <tr>\n",
       "      <th>RoadNet+Social type</th>\n",
       "      <th>GDBcls</th>\n",
       "      <td>0.417834</td>\n",
       "      <td>0.670787</td>\n",
       "    </tr>\n",
       "    <tr>\n",
       "      <th>RoadNet+Social total</th>\n",
       "      <th>GDBcls</th>\n",
       "      <td>0.428008</td>\n",
       "      <td>0.669663</td>\n",
       "    </tr>\n",
       "    <tr>\n",
       "      <th>RoadNet+Social type</th>\n",
       "      <th>RFcls</th>\n",
       "      <td>0.373690</td>\n",
       "      <td>0.668539</td>\n",
       "    </tr>\n",
       "  </tbody>\n",
       "</table>\n",
       "</div>"
      ],
      "text/plain": [
       "                             test_f1_macro  test_f1_micro\n",
       "col_name             model                               \n",
       "RoadNet+Social type  GDBcls       0.417834       0.670787\n",
       "RoadNet+Social total GDBcls       0.428008       0.669663\n",
       "RoadNet+Social type  RFcls        0.373690       0.668539"
      ]
     },
     "metadata": {},
     "output_type": "display_data"
    },
    {
     "data": {
      "text/plain": [
       "<matplotlib.axes._subplots.AxesSubplot at 0x7faf708f2748>"
      ]
     },
     "execution_count": 24,
     "metadata": {},
     "output_type": "execute_result"
    },
    {
     "data": {
      "image/png": "[encoded data removed]",
      "text/plain": [
       "<matplotlib.figure.Figure at 0x7faf70816518>"
      ]
     },
     "metadata": {},
     "output_type": "display_data"
    }
   ],
   "source": [
    "f1_type=f1_choices[1]\n",
    "weight_name = weight_names[0]\n",
    "means_to_plot = all_means[weight_name].sort_values(f1_type, ascending=False).head(3).drop('test_f1_weighted', axis=1)\n",
    "index_to_plot = means_to_plot.index\n",
    "stds_to_plot = all_stds[weight_name].loc[index_to_plot].drop('test_f1_weighted', axis=1)\n",
    "\n",
    "print(weight_name, f1_type+': ', '; '.join(['%s %s %.3f' % (f, m, f1) for (f, m), f1 in means_to_plot[f1_type].iteritems()]))\n",
    "\n",
    "display(means_to_plot)\n",
    "means_to_plot.sort_values(f1_type).plot(kind='barh', xerr=stds_to_plot, figsize=(10,7))"
   ]
  },
  {
   "cell_type": "code",
   "execution_count": null,
   "metadata": {
    "collapsed": true
   },
   "outputs": [],
   "source": []
  }
 ],
 "metadata": {
  "kernelspec": {
   "display_name": "Python [default]",
   "language": "python",
   "name": "python3"
  },
  "language_info": {
   "codemirror_mode": {
    "name": "ipython",
    "version": 3
   },
   "file_extension": ".py",
   "mimetype": "text/x-python",
   "name": "python",
   "nbconvert_exporter": "python",
   "pygments_lexer": "ipython3",
   "version": "3.6.2"
  }
 },
 "nbformat": 4,
 "nbformat_minor": 2
}
