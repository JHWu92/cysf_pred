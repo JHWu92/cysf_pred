{
 "cells": [
  {
   "cell_type": "code",
   "execution_count": 3,
   "metadata": {
    "collapsed": true
   },
   "outputs": [],
   "source": [
    "import geopandas as gpd\n",
    "import pandas as pd\n",
    "import pysal\n",
    "import pickle\n",
    "%matplotlib inline"
   ]
  },
  {
   "cell_type": "code",
   "execution_count": 4,
   "metadata": {
    "collapsed": true
   },
   "outputs": [],
   "source": [
    "def crs_prepossess(gpdf, bfr_crs, init_crs=4326):\n",
    "    \"\"\"\n",
    "    create a shallow copy of gpdf; check the init crs of gpdf, if None, assign init_crs; change crs of copy to bfr_crs\n",
    "    :param gpdf: geopandas.GeoDataFrame\n",
    "    :param init_crs: init_crs epsg code\n",
    "    :param bfr_crs: target crs epsg code used for buffering\n",
    "    :return: a shallow copy of gpdf in bfr_crs\n",
    "    \"\"\"\n",
    "    gpdf_crs = gpdf.copy()\n",
    "    if gpdf_crs.crs == None:\n",
    "        gpdf_crs.crs = {'init': u'epsg:{}'.format(init_crs)}\n",
    "    return gpdf_crs.to_crs(epsg=bfr_crs)"
   ]
  },
  {
   "cell_type": "code",
   "execution_count": 5,
   "metadata": {
    "collapsed": true
   },
   "outputs": [],
   "source": [
    "def find_col_type(column):\n",
    "    for t, array in cols_by_type.items():\n",
    "        if column in array:\n",
    "            return t\n",
    "    return 'None'"
   ]
  },
  {
   "cell_type": "code",
   "execution_count": 6,
   "metadata": {
    "collapsed": true
   },
   "outputs": [],
   "source": [
    "\n",
    "cols_by_type=pickle.load(open('data/x_NO_TOTAL_~2014_cols_by_type.pkl' , 'rb'))\n",
    "\n",
    "seg = gpd.read_file('d:/★★学习工作/Life in Maryland/Research Project：CyclingSafe/Cycling_safety/open_data_analysis/data/segments_dc.geojson')\n",
    "csl = pd.read_csv('data/y_csl_all-2017-10-01.csv',index_col=0)\n",
    "x = pd.read_csv('data/x_NO_TOTAL_~2014.csv',index_col=0)\n",
    "x_total = pd.read_csv('data/x_TOTAL_~2014.csv', index_col=0)\n",
    "csl.index.name = 'index'\n",
    "x.index.name = 'index'\n",
    "x_total.index.name = 'index'"
   ]
  },
  {
   "cell_type": "code",
   "execution_count": 7,
   "metadata": {
    "collapsed": true
   },
   "outputs": [],
   "source": [
    "geom_seg = crs_prepossess(seg[['geometry']], 3559)"
   ]
  },
  {
   "cell_type": "code",
   "execution_count": 8,
   "metadata": {
    "collapsed": true
   },
   "outputs": [],
   "source": [
    "ks = [1,2,3,4,5,6,7,8, 9, 10]\n",
    "ws_knn = {k: pysal.weights.KNN.from_dataframe(geom_seg[['geometry']], k=k) for k in ks}"
   ]
  },
  {
   "cell_type": "code",
   "execution_count": 9,
   "metadata": {
    "scrolled": true
   },
   "outputs": [
    {
     "name": "stderr",
     "output_type": "stream",
     "text": [
      "D:\\ProgramFiles\\Anaconda3\\lib\\site-packages\\scipy\\sparse\\data.py:103: RuntimeWarning: divide by zero encountered in reciprocal\n",
      "  return self._with_data(data ** n)\n"
     ]
    }
   ],
   "source": [
    "dbs = [10, 50, 100, 150, 200, 300, 400]\n",
    "ws_db_notbinary = {db: pysal.weights.DistanceBand.from_dataframe(geom_seg[['geometry']], threshold=db, binary=False, silent=True) for db in dbs}\n",
    "ws_db_binary = {db: pysal.weights.DistanceBand.from_dataframe(geom_seg[['geometry']], threshold=db, binary=True, silent=True) for db in dbs}"
   ]
  },
  {
   "cell_type": "code",
   "execution_count": 10,
   "metadata": {
    "scrolled": true
   },
   "outputs": [
    {
     "data": {
      "text/html": [
       "<div>\n",
       "<style>\n",
       "    .dataframe thead tr:only-child th {\n",
       "        text-align: right;\n",
       "    }\n",
       "\n",
       "    .dataframe thead th {\n",
       "        text-align: left;\n",
       "    }\n",
       "\n",
       "    .dataframe tbody tr th {\n",
       "        vertical-align: top;\n",
       "    }\n",
       "</style>\n",
       "<table border=\"1\" class=\"dataframe\">\n",
       "  <thead>\n",
       "    <tr style=\"text-align: right;\">\n",
       "      <th>band</th>\n",
       "      <th>10</th>\n",
       "      <th>50</th>\n",
       "      <th>100</th>\n",
       "      <th>150</th>\n",
       "      <th>200</th>\n",
       "      <th>300</th>\n",
       "      <th>400</th>\n",
       "    </tr>\n",
       "  </thead>\n",
       "  <tbody>\n",
       "    <tr>\n",
       "      <th>num_islands</th>\n",
       "      <td>13469</td>\n",
       "      <td>10234</td>\n",
       "      <td>1436</td>\n",
       "      <td>211</td>\n",
       "      <td>79</td>\n",
       "      <td>21</td>\n",
       "      <td>11</td>\n",
       "    </tr>\n",
       "  </tbody>\n",
       "</table>\n",
       "</div>"
      ],
      "text/plain": [
       "band           10     50    100  150  200  300  400\n",
       "num_islands  13469  10234  1436  211   79   21   11"
      ]
     },
     "execution_count": 10,
     "metadata": {},
     "output_type": "execute_result"
    }
   ],
   "source": [
    "islands = [ws_db_notbinary[db].islands.__len__() for db in dbs]\n",
    "pd.DataFrame(list(zip(dbs, islands)), columns=['band', 'num_islands']).set_index('band').T"
   ]
  },
  {
   "cell_type": "code",
   "execution_count": 11,
   "metadata": {
    "collapsed": true
   },
   "outputs": [],
   "source": [
    "def compute_moran_i(ws, param_list, x, pname):\n",
    "    res = []\n",
    "\n",
    "    for i, cname in enumerate(x):\n",
    "        if i % 40 == 0:\n",
    "            print('i=', i, cname)\n",
    "            \n",
    "        data = x[cname]\n",
    "        for p in param_list:\n",
    "            w = ws[p]\n",
    "            mi = pysal.Moran(data, w, two_tailed=True, permutations=999)\n",
    "            res.append({\n",
    "                'column':cname, \n",
    "                pname:p,\n",
    "                'I': mi.I, \n",
    "                'EI': mi.EI, \n",
    "                'p_norm': mi.p_norm * 2,\n",
    "                'p_rand': mi.p_rand * 2,\n",
    "                'p_sim': mi.p_sim * 2, \n",
    "                'p_z_sim': mi.p_z_sim * 2,\n",
    "                'z_norm': mi.z_norm,\n",
    "                'z_rand': mi.z_rand,\n",
    "            })\n",
    "    print('done computing', pname)\n",
    "    df = pd.DataFrame(res)\n",
    "    return df[['column', pname, 'I', 'EI', 'p_norm', 'p_rand', 'z_norm', 'z_rand', 'p_sim', 'p_z_sim']]"
   ]
  },
  {
   "cell_type": "code",
   "execution_count": 12,
   "metadata": {
    "collapsed": true
   },
   "outputs": [],
   "source": [
    "# df_knn = compute_moran_i(ws_knn, ks, x, 'knn')\n",
    "# df_db_notbinary = compute_moran_i(ws_db_notbinary, dbs, x, 'db_nb')\n",
    "# df_db_binary = compute_moran_i(ws_db_binary, dbs, x, 'db_b')"
   ]
  },
  {
   "cell_type": "code",
   "execution_count": 13,
   "metadata": {
    "collapsed": true
   },
   "outputs": [],
   "source": [
    "# df_knn.to_csv('spatial-corr/moran-i-knn.csv')\n",
    "# df_db_notbinary.to_csv('spatial-corr/moran-i-distanceband-not-binary.csv')\n",
    "# df_db_binary.to_csv('spatial-corr/moran-i-distanceband-binary.csv')"
   ]
  },
  {
   "cell_type": "code",
   "execution_count": 14,
   "metadata": {
    "collapsed": true
   },
   "outputs": [],
   "source": [
    "df_knn = pd.read_csv('spatial-corr/moran-i-knn.csv', index_col=0)\n",
    "df_db_notbinary = pd.read_csv('spatial-corr/moran-i-distanceband-not-binary.csv', index_col=0)\n",
    "df_db_binary = pd.read_csv('spatial-corr/moran-i-distanceband-binary.csv', index_col=0)"
   ]
  },
  {
   "cell_type": "code",
   "execution_count": 15,
   "metadata": {
    "collapsed": true
   },
   "outputs": [],
   "source": [
    "# df_knn_total = compute_moran_i(ws_knn, ks, x_total, 'knn')\n",
    "# df_db_notbinary_total = compute_moran_i(ws_db_notbinary, dbs, x_total, 'db_nb')\n",
    "# df_db_binary_total = compute_moran_i(ws_db_binary, dbs, x_total, 'db_b')"
   ]
  },
  {
   "cell_type": "code",
   "execution_count": 16,
   "metadata": {
    "collapsed": true
   },
   "outputs": [],
   "source": [
    "# df_knn_total.to_csv('spatial-corr/moran-i-knn-total.csv')\n",
    "# df_db_notbinary_total.to_csv('spatial-corr/moran-i-distanceband-not-binary-total.csv')\n",
    "# df_db_binary_total.to_csv('spatial-corr/moran-i-distanceband-binary-total.csv')"
   ]
  },
  {
   "cell_type": "code",
   "execution_count": 17,
   "metadata": {
    "collapsed": true
   },
   "outputs": [],
   "source": [
    "df_knn_total = pd.read_csv('spatial-corr/moran-i-knn-total.csv', index_col=0)\n",
    "df_db_notbinary_total = pd.read_csv('spatial-corr/moran-i-distanceband-not-binary-total.csv', index_col=0)\n",
    "df_db_binary_total = pd.read_csv('spatial-corr/moran-i-distanceband-binary-total.csv', index_col=0)"
   ]
  },
  {
   "cell_type": "markdown",
   "metadata": {},
   "source": [
    "## largest i per group"
   ]
  },
  {
   "cell_type": "code",
   "execution_count": 21,
   "metadata": {
    "collapsed": true
   },
   "outputs": [],
   "source": [
    "def largest_i_per_group(df):\n",
    "    return df.sort_values(by='I', ascending=False)[:1]"
   ]
  },
  {
   "cell_type": "code",
   "execution_count": 29,
   "metadata": {
    "collapsed": true
   },
   "outputs": [],
   "source": [
    "def get_largest_i(df):\n",
    "    largesI = df[df.p_norm<0.05].groupby('column').apply(largest_i_per_group)\n",
    "    largesI['ftr_type'] = largesI.column.apply(find_col_type)\n",
    "    return largesI.sort_values('I', ascending=False)\n"
   ]
  },
  {
   "cell_type": "code",
   "execution_count": 49,
   "metadata": {
    "collapsed": true
   },
   "outputs": [],
   "source": [
    "df_knn_largest_I = get_largest_i(df_knn)\n",
    "df_db_binary_largest_I = get_largest_i(df_db_binary)\n",
    "df_db_notbinary_largest_I = get_largest_i(df_db_notbinary)"
   ]
  },
  {
   "cell_type": "code",
   "execution_count": 50,
   "metadata": {
    "collapsed": true
   },
   "outputs": [],
   "source": [
    "df_knn_largest_I.drop(['p_sim','p_z_sim','EI'], axis=1).to_csv('spatial-corr/features-morani-knn.csv')\n",
    "df_db_binary_largest_I.drop(['p_sim','p_z_sim','EI'], axis=1).to_csv('spatial-corr/features-morani-distband-binary.csv')\n",
    "df_db_notbinary_largest_I.drop(['p_sim','p_z_sim','EI'], axis=1).to_csv('spatial-corr/features-morani-distband-not-binary.csv')"
   ]
  },
  {
   "cell_type": "code",
   "execution_count": 44,
   "metadata": {
    "collapsed": true
   },
   "outputs": [
    {
     "name": "stdout",
     "output_type": "stream",
     "text": [
      "(204, 11)\n"
     ]
    },
    {
     "data": {
      "text/plain": [
       "<matplotlib.axes._subplots.AxesSubplot at 0x17955a704e0>"
      ]
     },
     "execution_count": 44,
     "metadata": {},
     "output_type": "execute_result"
    },
    {
     "data": {
      "image/png": "[encoded data removed]",
      "text/plain": [
       "<matplotlib.figure.Figure at 0x17955a18668>"
      ]
     },
     "metadata": {},
     "output_type": "display_data"
    }
   ],
   "source": [
    "\n",
    "print(df_knn_largest_I.shape)\n",
    "df_knn_largest_I.I.hist()"
   ]
  },
  {
   "cell_type": "code",
   "execution_count": 56,
   "metadata": {},
   "outputs": [
    {
     "name": "stdout",
     "output_type": "stream",
     "text": [
      "(204, 11)\n"
     ]
    },
    {
     "data": {
      "text/plain": [
       "<matplotlib.axes._subplots.AxesSubplot at 0x17956503940>"
      ]
     },
     "execution_count": 56,
     "metadata": {},
     "output_type": "execute_result"
    },
    {
     "data": {
      "image/png": "[encoded data removed]",
      "text/plain": [
       "<matplotlib.figure.Figure at 0x179564ac978>"
      ]
     },
     "metadata": {},
     "output_type": "display_data"
    }
   ],
   "source": [
    "df = df_db_notbinary_largest_I\n",
    "print(df.shape)\n",
    "df[df.I<=1].I.hist()"
   ]
  },
  {
   "cell_type": "markdown",
   "metadata": {},
   "source": [
    "## which w has most sig "
   ]
  },
  {
   "cell_type": "code",
   "execution_count": 18,
   "metadata": {},
   "outputs": [
    {
     "name": "stdout",
     "output_type": "stream",
     "text": [
      "(13522, 231)\n"
     ]
    }
   ],
   "source": [
    "print(x.shape)"
   ]
  },
  {
   "cell_type": "code",
   "execution_count": 19,
   "metadata": {},
   "outputs": [
    {
     "data": {
      "text/plain": [
       "knn\n",
       "1     197\n",
       "2     199\n",
       "3     202\n",
       "4     202\n",
       "5     203\n",
       "6     203\n",
       "7     203\n",
       "8     203\n",
       "9     204\n",
       "10    204\n",
       "dtype: int64"
      ]
     },
     "execution_count": 19,
     "metadata": {},
     "output_type": "execute_result"
    }
   ],
   "source": [
    "def most_sig(df):\n",
    "    return((df.p_rand<0.001).sum())\n",
    "    \n",
    "df_knn.groupby('knn').apply(most_sig)"
   ]
  },
  {
   "cell_type": "code",
   "execution_count": 20,
   "metadata": {},
   "outputs": [
    {
     "data": {
      "text/plain": [
       "db_b\n",
       "10      28\n",
       "50     155\n",
       "100    200\n",
       "150    204\n",
       "200    204\n",
       "300    203\n",
       "400    203\n",
       "dtype: int64"
      ]
     },
     "execution_count": 20,
     "metadata": {},
     "output_type": "execute_result"
    }
   ],
   "source": [
    "df_db_binary.groupby('db_b').apply(most_sig)"
   ]
  },
  {
   "cell_type": "code",
   "execution_count": 21,
   "metadata": {},
   "outputs": [
    {
     "name": "stdout",
     "output_type": "stream",
     "text": [
      "(13522, 66)\n"
     ]
    },
    {
     "data": {
      "text/plain": [
       "db_b\n",
       "10     16\n",
       "50     54\n",
       "100    64\n",
       "150    64\n",
       "200    64\n",
       "300    64\n",
       "400    64\n",
       "dtype: int64"
      ]
     },
     "execution_count": 21,
     "metadata": {},
     "output_type": "execute_result"
    }
   ],
   "source": [
    "print(x_total.shape)\n",
    "df_db_binary_total.groupby('db_b').apply(most_sig)"
   ]
  },
  {
   "cell_type": "markdown",
   "metadata": {},
   "source": [
    "## features based on Autocorrelation"
   ]
  },
  {
   "cell_type": "markdown",
   "metadata": {},
   "source": [
    "### for by type"
   ]
  },
  {
   "cell_type": "code",
   "execution_count": 23,
   "metadata": {
    "collapsed": true
   },
   "outputs": [],
   "source": [
    "i_thres=0\n"
   ]
  },
  {
   "cell_type": "code",
   "execution_count": 24,
   "metadata": {
    "collapsed": true
   },
   "outputs": [],
   "source": [
    "db_150 = df_db_binary.db_b==150\n",
    "sig_rand = df_db_binary.p_rand<0.05\n",
    "sig_cols = df_db_binary[db_150 & sig_rand].column.tolist()"
   ]
  },
  {
   "cell_type": "code",
   "execution_count": 37,
   "metadata": {},
   "outputs": [
    {
     "data": {
      "text/plain": [
       "<matplotlib.axes._subplots.AxesSubplot at 0x1e213fbf0f0>"
      ]
     },
     "execution_count": 37,
     "metadata": {},
     "output_type": "execute_result"
    },
    {
     "data": {
      "image/png": "[encoded data removed]",
      "text/plain": [
       "<matplotlib.figure.Figure at 0x1e213f65e10>"
      ]
     },
     "metadata": {},
     "output_type": "display_data"
    }
   ],
   "source": [
    "df_db_binary[db_150 & sig_rand].I.plot(kind='hist',title='Moran I distribution of \"average per type\" representation')"
   ]
  },
  {
   "cell_type": "code",
   "execution_count": 25,
   "metadata": {},
   "outputs": [
    {
     "data": {
      "text/plain": [
       "array([  16, 2818, 2819, 2820, 3267, 5786, 5787], dtype=int32)"
      ]
     },
     "execution_count": 25,
     "metadata": {},
     "output_type": "execute_result"
    }
   ],
   "source": [
    "ws_db_binary[150].neighbors[0]"
   ]
  },
  {
   "cell_type": "code",
   "execution_count": 58,
   "metadata": {
    "collapsed": true
   },
   "outputs": [],
   "source": [
    "res = {}\n",
    "for col in sig_cols:\n",
    "    column = x[col]\n",
    "    new_col = {}\n",
    "    for i, neighbor in ws_db_binary[150].neighbors.items():\n",
    "        new_col[i] = column[neighbor].mean()\n",
    "        res[col+'_neighbor'] = new_col\n"
   ]
  },
  {
   "cell_type": "code",
   "execution_count": 59,
   "metadata": {
    "collapsed": true
   },
   "outputs": [],
   "source": [
    "x_neighbor = pd.DataFrame(res)"
   ]
  },
  {
   "cell_type": "code",
   "execution_count": 61,
   "metadata": {
    "collapsed": true
   },
   "outputs": [],
   "source": [
    "# x_neighbor.to_csv('spatial-corr/x-neighbor-db-150-binary.csv')"
   ]
  },
  {
   "cell_type": "code",
   "execution_count": 34,
   "metadata": {
    "collapsed": true
   },
   "outputs": [],
   "source": [
    "x_neighbor = pd.read_csv('spatial-corr/x-neighbor-db-150-binary.csv', index_col=0)"
   ]
  },
  {
   "cell_type": "code",
   "execution_count": 39,
   "metadata": {},
   "outputs": [
    {
     "name": "stdout",
     "output_type": "stream",
     "text": [
      "0 204\n",
      "0.1 176\n",
      "0.3 69\n",
      "0.5 29\n",
      "0.7 14\n",
      "0.8 7\n",
      "0.9 0\n"
     ]
    }
   ],
   "source": [
    "for i_thres in [0, 0.1, 0.3, 0.5, 0.7, 0.8, 0.9]:\n",
    "    pass_i_thres = df_db_binary.I.abs()>=i_thres\n",
    "    keep_cols = df_db_binary[db_150 & sig_rand & pass_i_thres].column\n",
    "    keep_cols = (keep_cols+'_neighbor').tolist()\n",
    "#     x_neighbor[keep_cols].to_csv('spatial-corr/x-neighbor-db-150-binary-i-%0.1f.csv' % i_thres)\n",
    "    print(i_thres, len(keep_cols))"
   ]
  },
  {
   "cell_type": "markdown",
   "metadata": {},
   "source": [
    "### for total"
   ]
  },
  {
   "cell_type": "code",
   "execution_count": 41,
   "metadata": {
    "collapsed": true
   },
   "outputs": [],
   "source": [
    "db_150_total = df_db_binary_total.db_b==150\n",
    "sig_rand_total = df_db_binary_total.p_rand<0.05\n",
    "sig_cols_total = df_db_binary_total[db_150_total & sig_rand_total].column.tolist()"
   ]
  },
  {
   "cell_type": "code",
   "execution_count": 43,
   "metadata": {},
   "outputs": [
    {
     "data": {
      "text/plain": [
       "<matplotlib.axes._subplots.AxesSubplot at 0x1e214141208>"
      ]
     },
     "execution_count": 43,
     "metadata": {},
     "output_type": "execute_result"
    },
    {
     "data": {
      "image/png": "[encoded data removed]",
      "text/plain": [
       "<matplotlib.figure.Figure at 0x1e214135ba8>"
      ]
     },
     "metadata": {},
     "output_type": "display_data"
    }
   ],
   "source": [
    "df_db_binary_total[db_150_total & sig_rand_total].I.plot(kind='hist',title='Moran I distribution of \"average across type\" representation')"
   ]
  },
  {
   "cell_type": "code",
   "execution_count": 75,
   "metadata": {
    "collapsed": true
   },
   "outputs": [],
   "source": [
    "res_total = {}\n",
    "for col in sig_cols_total:\n",
    "    column = x_total[col]\n",
    "    new_col = {}\n",
    "    for i, neighbor in ws_db_binary[150].neighbors.items():\n",
    "        new_col[i] = column[neighbor].mean()\n",
    "        res_total[col+'_neighbor'] = new_col\n"
   ]
  },
  {
   "cell_type": "code",
   "execution_count": 76,
   "metadata": {
    "collapsed": true
   },
   "outputs": [],
   "source": [
    "x_neighbor_total = pd.DataFrame(res_total)"
   ]
  },
  {
   "cell_type": "code",
   "execution_count": 89,
   "metadata": {
    "collapsed": true
   },
   "outputs": [],
   "source": [
    "x_neighbor_total.to_csv('spatial-corr/x_total-neighbor-db-150-binary.csv')"
   ]
  },
  {
   "cell_type": "code",
   "execution_count": 81,
   "metadata": {
    "scrolled": true
   },
   "outputs": [
    {
     "data": {
      "text/plain": [
       "148.42857142857142"
      ]
     },
     "execution_count": 81,
     "metadata": {},
     "output_type": "execute_result"
    }
   ],
   "source": [
    "x_total['crime_total'][ws_db_binary[150].neighbors[10]].mean()"
   ]
  },
  {
   "cell_type": "code",
   "execution_count": 84,
   "metadata": {},
   "outputs": [
    {
     "data": {
      "text/plain": [
       "148.42857142857142"
      ]
     },
     "execution_count": 84,
     "metadata": {},
     "output_type": "execute_result"
    }
   ],
   "source": [
    "x_neighbor_total['crime_total_neighbor'][10]"
   ]
  },
  {
   "cell_type": "code",
   "execution_count": 64,
   "metadata": {
    "collapsed": true
   },
   "outputs": [
    {
     "data": {
      "text/plain": [
       "0        104.658886\n",
       "1        139.736116\n",
       "2        124.670219\n",
       "3        144.087532\n",
       "4        131.400003\n",
       "5        121.677280\n",
       "6        129.971130\n",
       "7        140.609054\n",
       "8        122.961322\n",
       "9        101.207537\n",
       "10        96.456270\n",
       "11        84.854613\n",
       "12        85.740517\n",
       "13       134.345257\n",
       "14        93.040086\n",
       "15        84.969293\n",
       "16       150.405056\n",
       "17       144.965182\n",
       "18       165.464633\n",
       "19       164.031447\n",
       "20       109.636242\n",
       "21       107.265854\n",
       "22        81.292169\n",
       "23        84.939074\n",
       "24        90.660515\n",
       "25       136.729714\n",
       "26       132.765079\n",
       "27       108.702887\n",
       "28       117.201217\n",
       "29       127.698943\n",
       "            ...    \n",
       "13492     49.598000\n",
       "13493     93.324704\n",
       "13494     74.333905\n",
       "13495     74.726887\n",
       "13496     24.402475\n",
       "13497     85.331897\n",
       "13498     75.976080\n",
       "13499     75.714933\n",
       "13500    128.262553\n",
       "13501           NaN\n",
       "13502     54.883443\n",
       "13503     75.922190\n",
       "13504     75.515839\n",
       "13505     75.515839\n",
       "13506    378.387636\n",
       "13507     64.619689\n",
       "13508      0.000000\n",
       "13509     76.847104\n",
       "13510     61.949539\n",
       "13511     83.166600\n",
       "13512     49.196322\n",
       "13513           NaN\n",
       "13514     82.227263\n",
       "13515    106.527980\n",
       "13516     60.871421\n",
       "13517     91.767953\n",
       "13518     32.850122\n",
       "13519     78.443707\n",
       "13520     41.460707\n",
       "13521     57.600339\n",
       "Name: SHAPE_Length_neighbor, Length: 13522, dtype: float64"
      ]
     },
     "execution_count": 64,
     "metadata": {},
     "output_type": "execute_result"
    }
   ],
   "source": [
    "x_neighbor['SHAPE_Length_neighbor']"
   ]
  },
  {
   "cell_type": "code",
   "execution_count": 52,
   "metadata": {
    "collapsed": true
   },
   "outputs": [],
   "source": [
    "x_neighbor_total = pd.read_csv('spatial-corr/x_total-neighbor-db-150-binary.csv', index_col=0)"
   ]
  },
  {
   "cell_type": "code",
   "execution_count": 44,
   "metadata": {},
   "outputs": [
    {
     "name": "stdout",
     "output_type": "stream",
     "text": [
      "0 64\n",
      "0.1 60\n",
      "0.3 27\n",
      "0.5 16\n",
      "0.7 5\n",
      "0.8 2\n",
      "0.9 0\n"
     ]
    }
   ],
   "source": [
    "for i_thres_total in [0, 0.1, 0.3, 0.5, 0.7, 0.8, 0.9]:\n",
    "    pass_i_thres_total = df_db_binary_total.I.abs()>=i_thres_total\n",
    "    keep_cols_total = df_db_binary_total[db_150_total & sig_rand_total & pass_i_thres_total].column\n",
    "    keep_cols_total = (keep_cols_total+'_neighbor').tolist()\n",
    "#     x_neighbor_total[keep_cols_total].to_csv('spatial-corr/x_total-neighbor-db-150-binary-i-%0.1f.csv' % i_thres_total)\n",
    "    print(i_thres_total, len(keep_cols_total))"
   ]
  },
  {
   "cell_type": "markdown",
   "metadata": {},
   "source": [
    "# Moran for CSL"
   ]
  },
  {
   "cell_type": "code",
   "execution_count": 109,
   "metadata": {
    "collapsed": true
   },
   "outputs": [],
   "source": [
    "seg_csl = csl.join(geom_seg).reset_index()\n",
    "\n",
    "y = seg_csl.csl"
   ]
  },
  {
   "cell_type": "code",
   "execution_count": 110,
   "metadata": {
    "collapsed": true
   },
   "outputs": [
    {
     "data": {
      "text/html": [
       "<div>\n",
       "<style>\n",
       "    .dataframe thead tr:only-child th {\n",
       "        text-align: right;\n",
       "    }\n",
       "\n",
       "    .dataframe thead th {\n",
       "        text-align: left;\n",
       "    }\n",
       "\n",
       "    .dataframe tbody tr th {\n",
       "        vertical-align: top;\n",
       "    }\n",
       "</style>\n",
       "<table border=\"1\" class=\"dataframe\">\n",
       "  <thead>\n",
       "    <tr style=\"text-align: right;\">\n",
       "      <th></th>\n",
       "      <th>index</th>\n",
       "      <th>csl</th>\n",
       "      <th>geometry</th>\n",
       "    </tr>\n",
       "  </thead>\n",
       "  <tbody>\n",
       "    <tr>\n",
       "      <th>0</th>\n",
       "      <td>97</td>\n",
       "      <td>3.354839</td>\n",
       "      <td>LINESTRING (398596.2266464538 136323.170924826...</td>\n",
       "    </tr>\n",
       "    <tr>\n",
       "      <th>1</th>\n",
       "      <td>98</td>\n",
       "      <td>3.466667</td>\n",
       "      <td>LINESTRING (398596.2016429628 136476.912831046...</td>\n",
       "    </tr>\n",
       "    <tr>\n",
       "      <th>2</th>\n",
       "      <td>101</td>\n",
       "      <td>2.636364</td>\n",
       "      <td>LINESTRING (398594.2058833765 136882.818725917...</td>\n",
       "    </tr>\n",
       "    <tr>\n",
       "      <th>3</th>\n",
       "      <td>102</td>\n",
       "      <td>3.073171</td>\n",
       "      <td>LINESTRING (398594.7340700076 136925.870609674...</td>\n",
       "    </tr>\n",
       "    <tr>\n",
       "      <th>4</th>\n",
       "      <td>103</td>\n",
       "      <td>2.686275</td>\n",
       "      <td>LINESTRING (398596.8716300512 137053.344448108...</td>\n",
       "    </tr>\n",
       "    <tr>\n",
       "      <th>5</th>\n",
       "      <td>104</td>\n",
       "      <td>4.200000</td>\n",
       "      <td>LINESTRING (398596.6816270133 137185.944475026...</td>\n",
       "    </tr>\n",
       "    <tr>\n",
       "      <th>6</th>\n",
       "      <td>126</td>\n",
       "      <td>3.000000</td>\n",
       "      <td>LINESTRING (398357.2342854695 136329.369920676...</td>\n",
       "    </tr>\n",
       "    <tr>\n",
       "      <th>7</th>\n",
       "      <td>127</td>\n",
       "      <td>3.395062</td>\n",
       "      <td>LINESTRING (398358.0230948051 136476.494388065...</td>\n",
       "    </tr>\n",
       "    <tr>\n",
       "      <th>8</th>\n",
       "      <td>128</td>\n",
       "      <td>3.476190</td>\n",
       "      <td>LINESTRING (398357.7917167192 136610.684352811...</td>\n",
       "    </tr>\n",
       "    <tr>\n",
       "      <th>9</th>\n",
       "      <td>131</td>\n",
       "      <td>1.000000</td>\n",
       "      <td>LINESTRING (398358.0315822557 137031.104438184...</td>\n",
       "    </tr>\n",
       "    <tr>\n",
       "      <th>10</th>\n",
       "      <td>132</td>\n",
       "      <td>2.523810</td>\n",
       "      <td>LINESTRING (398358.0415817581 137053.084442649...</td>\n",
       "    </tr>\n",
       "    <tr>\n",
       "      <th>11</th>\n",
       "      <td>134</td>\n",
       "      <td>2.571429</td>\n",
       "      <td>LINESTRING (398358.3115757817 137319.324496716...</td>\n",
       "    </tr>\n",
       "    <tr>\n",
       "      <th>12</th>\n",
       "      <td>135</td>\n",
       "      <td>3.000000</td>\n",
       "      <td>LINESTRING (398357.9687002253 137341.028876111...</td>\n",
       "    </tr>\n",
       "    <tr>\n",
       "      <th>13</th>\n",
       "      <td>136</td>\n",
       "      <td>3.565217</td>\n",
       "      <td>LINESTRING (398357.6260120034 137369.684444423...</td>\n",
       "    </tr>\n",
       "    <tr>\n",
       "      <th>14</th>\n",
       "      <td>137</td>\n",
       "      <td>3.655738</td>\n",
       "      <td>LINESTRING (398357.711570832 137532.9045400641...</td>\n",
       "    </tr>\n",
       "    <tr>\n",
       "      <th>15</th>\n",
       "      <td>138</td>\n",
       "      <td>3.909091</td>\n",
       "      <td>LINESTRING (398357.5818812887 137621.844558121...</td>\n",
       "    </tr>\n",
       "    <tr>\n",
       "      <th>16</th>\n",
       "      <td>139</td>\n",
       "      <td>4.121212</td>\n",
       "      <td>LINESTRING (398357.2616292363 137709.724575957...</td>\n",
       "    </tr>\n",
       "    <tr>\n",
       "      <th>17</th>\n",
       "      <td>140</td>\n",
       "      <td>3.872340</td>\n",
       "      <td>LINESTRING (398358.3615011015 137857.774606037...</td>\n",
       "    </tr>\n",
       "    <tr>\n",
       "      <th>18</th>\n",
       "      <td>179</td>\n",
       "      <td>3.200000</td>\n",
       "      <td>LINESTRING (398681.8141136852 135774.032565249...</td>\n",
       "    </tr>\n",
       "    <tr>\n",
       "      <th>19</th>\n",
       "      <td>180</td>\n",
       "      <td>2.666667</td>\n",
       "      <td>LINESTRING (398681.151673958 135866.664209047,...</td>\n",
       "    </tr>\n",
       "    <tr>\n",
       "      <th>20</th>\n",
       "      <td>181</td>\n",
       "      <td>3.291667</td>\n",
       "      <td>LINESTRING (398682.761672241 135956.8942274062...</td>\n",
       "    </tr>\n",
       "    <tr>\n",
       "      <th>21</th>\n",
       "      <td>182</td>\n",
       "      <td>3.089552</td>\n",
       "      <td>LINESTRING (398678.3916697566 136027.764241692...</td>\n",
       "    </tr>\n",
       "    <tr>\n",
       "      <th>22</th>\n",
       "      <td>183</td>\n",
       "      <td>2.857143</td>\n",
       "      <td>LINESTRING (398678.8216660817 136193.964275457...</td>\n",
       "    </tr>\n",
       "    <tr>\n",
       "      <th>23</th>\n",
       "      <td>250</td>\n",
       "      <td>3.750000</td>\n",
       "      <td>LINESTRING (398098.5116048084 136476.994319797...</td>\n",
       "    </tr>\n",
       "    <tr>\n",
       "      <th>24</th>\n",
       "      <td>251</td>\n",
       "      <td>2.567568</td>\n",
       "      <td>LINESTRING (398098.6619144644 136603.970470586...</td>\n",
       "    </tr>\n",
       "    <tr>\n",
       "      <th>25</th>\n",
       "      <td>252</td>\n",
       "      <td>2.432432</td>\n",
       "      <td>LINESTRING (398098.8215365579 136733.924371977...</td>\n",
       "    </tr>\n",
       "    <tr>\n",
       "      <th>26</th>\n",
       "      <td>253</td>\n",
       "      <td>2.666667</td>\n",
       "      <td>LINESTRING (398098.853845627 136885.6504027838...</td>\n",
       "    </tr>\n",
       "    <tr>\n",
       "      <th>27</th>\n",
       "      <td>254</td>\n",
       "      <td>3.818182</td>\n",
       "      <td>LINESTRING (398099.1815305413 137002.984426618...</td>\n",
       "    </tr>\n",
       "    <tr>\n",
       "      <th>28</th>\n",
       "      <td>255</td>\n",
       "      <td>3.000000</td>\n",
       "      <td>LINESTRING (398098.8640273818 137139.661391860...</td>\n",
       "    </tr>\n",
       "    <tr>\n",
       "      <th>29</th>\n",
       "      <td>256</td>\n",
       "      <td>3.000000</td>\n",
       "      <td>LINESTRING (398098.6435262816 137186.25815132,...</td>\n",
       "    </tr>\n",
       "    <tr>\n",
       "      <th>...</th>\n",
       "      <td>...</td>\n",
       "      <td>...</td>\n",
       "      <td>...</td>\n",
       "    </tr>\n",
       "    <tr>\n",
       "      <th>420</th>\n",
       "      <td>11485</td>\n",
       "      <td>3.000000</td>\n",
       "      <td>LINESTRING (401417.4622564945 134586.974011097...</td>\n",
       "    </tr>\n",
       "    <tr>\n",
       "      <th>421</th>\n",
       "      <td>11886</td>\n",
       "      <td>3.500000</td>\n",
       "      <td>LINESTRING (398357.5891517256 136719.224312348...</td>\n",
       "    </tr>\n",
       "    <tr>\n",
       "      <th>422</th>\n",
       "      <td>11960</td>\n",
       "      <td>2.409091</td>\n",
       "      <td>LINESTRING (399213.622257599 136929.2815618861...</td>\n",
       "    </tr>\n",
       "    <tr>\n",
       "      <th>423</th>\n",
       "      <td>12047</td>\n",
       "      <td>2.000000</td>\n",
       "      <td>LINESTRING (399706.171524161 137836.0881946796...</td>\n",
       "    </tr>\n",
       "    <tr>\n",
       "      <th>424</th>\n",
       "      <td>12064</td>\n",
       "      <td>3.944444</td>\n",
       "      <td>LINESTRING (395976.1711440845 135103.803993016...</td>\n",
       "    </tr>\n",
       "    <tr>\n",
       "      <th>425</th>\n",
       "      <td>12065</td>\n",
       "      <td>3.346939</td>\n",
       "      <td>LINESTRING (395646.5010689439 135479.414124346...</td>\n",
       "    </tr>\n",
       "    <tr>\n",
       "      <th>426</th>\n",
       "      <td>12259</td>\n",
       "      <td>4.272727</td>\n",
       "      <td>LINESTRING (399949.541870103 135774.7342190914...</td>\n",
       "    </tr>\n",
       "    <tr>\n",
       "      <th>427</th>\n",
       "      <td>12260</td>\n",
       "      <td>4.000000</td>\n",
       "      <td>LINESTRING (400041.5919512223 135774.804221190...</td>\n",
       "    </tr>\n",
       "    <tr>\n",
       "      <th>428</th>\n",
       "      <td>12261</td>\n",
       "      <td>4.000000</td>\n",
       "      <td>LINESTRING (400134.6419700501 135774.824223301...</td>\n",
       "    </tr>\n",
       "    <tr>\n",
       "      <th>429</th>\n",
       "      <td>12262</td>\n",
       "      <td>3.800000</td>\n",
       "      <td>LINESTRING (400331.8020099377 135774.444227690...</td>\n",
       "    </tr>\n",
       "    <tr>\n",
       "      <th>430</th>\n",
       "      <td>12263</td>\n",
       "      <td>3.972603</td>\n",
       "      <td>LINESTRING (400436.8520311911 135774.554230095...</td>\n",
       "    </tr>\n",
       "    <tr>\n",
       "      <th>431</th>\n",
       "      <td>12264</td>\n",
       "      <td>4.069444</td>\n",
       "      <td>LINESTRING (400541.4220523424 135774.334232419...</td>\n",
       "    </tr>\n",
       "    <tr>\n",
       "      <th>432</th>\n",
       "      <td>12265</td>\n",
       "      <td>4.073529</td>\n",
       "      <td>LINESTRING (400638.0620718955 135774.244234591...</td>\n",
       "    </tr>\n",
       "    <tr>\n",
       "      <th>433</th>\n",
       "      <td>12453</td>\n",
       "      <td>3.166667</td>\n",
       "      <td>LINESTRING (398945.5388601524 135525.703958281...</td>\n",
       "    </tr>\n",
       "    <tr>\n",
       "      <th>434</th>\n",
       "      <td>12565</td>\n",
       "      <td>2.979592</td>\n",
       "      <td>LINESTRING (398681.8141136852 135774.032565249...</td>\n",
       "    </tr>\n",
       "    <tr>\n",
       "      <th>435</th>\n",
       "      <td>12566</td>\n",
       "      <td>2.750000</td>\n",
       "      <td>LINESTRING (398682.9716788816 135665.294168192...</td>\n",
       "    </tr>\n",
       "    <tr>\n",
       "      <th>436</th>\n",
       "      <td>12567</td>\n",
       "      <td>2.852459</td>\n",
       "      <td>LINESTRING (398683.4916805816 135594.687153864...</td>\n",
       "    </tr>\n",
       "    <tr>\n",
       "      <th>437</th>\n",
       "      <td>12568</td>\n",
       "      <td>2.909091</td>\n",
       "      <td>LINESTRING (398682.9731820283 135526.034139912...</td>\n",
       "    </tr>\n",
       "    <tr>\n",
       "      <th>438</th>\n",
       "      <td>12847</td>\n",
       "      <td>3.333333</td>\n",
       "      <td>LINESTRING (399213.3117892535 135528.354152379...</td>\n",
       "    </tr>\n",
       "    <tr>\n",
       "      <th>439</th>\n",
       "      <td>12848</td>\n",
       "      <td>3.217391</td>\n",
       "      <td>LINESTRING (398945.5388601524 135525.703958281...</td>\n",
       "    </tr>\n",
       "    <tr>\n",
       "      <th>440</th>\n",
       "      <td>12849</td>\n",
       "      <td>2.828947</td>\n",
       "      <td>LINESTRING (398801.9451436045 135525.552642500...</td>\n",
       "    </tr>\n",
       "    <tr>\n",
       "      <th>441</th>\n",
       "      <td>12898</td>\n",
       "      <td>4.062500</td>\n",
       "      <td>LINESTRING (396820.1824318492 135455.717458525...</td>\n",
       "    </tr>\n",
       "    <tr>\n",
       "      <th>442</th>\n",
       "      <td>12942</td>\n",
       "      <td>2.750000</td>\n",
       "      <td>LINESTRING (398682.9716788816 135665.294168192...</td>\n",
       "    </tr>\n",
       "    <tr>\n",
       "      <th>443</th>\n",
       "      <td>13305</td>\n",
       "      <td>1.000000</td>\n",
       "      <td>LINESTRING (401257.2321709766 136928.174482993...</td>\n",
       "    </tr>\n",
       "    <tr>\n",
       "      <th>444</th>\n",
       "      <td>13306</td>\n",
       "      <td>2.000000</td>\n",
       "      <td>LINESTRING (401374.4780696586 136929.754360974...</td>\n",
       "    </tr>\n",
       "    <tr>\n",
       "      <th>445</th>\n",
       "      <td>13435</td>\n",
       "      <td>2.750000</td>\n",
       "      <td>LINESTRING (400734.3621200577 134508.673979709...</td>\n",
       "    </tr>\n",
       "    <tr>\n",
       "      <th>446</th>\n",
       "      <td>13447</td>\n",
       "      <td>4.000000</td>\n",
       "      <td>LINESTRING (396168.2149250638 135452.374880628...</td>\n",
       "    </tr>\n",
       "    <tr>\n",
       "      <th>447</th>\n",
       "      <td>13449</td>\n",
       "      <td>3.921569</td>\n",
       "      <td>LINESTRING (396099.2773485429 135455.705379752...</td>\n",
       "    </tr>\n",
       "    <tr>\n",
       "      <th>448</th>\n",
       "      <td>13477</td>\n",
       "      <td>3.566667</td>\n",
       "      <td>LINESTRING (397745.0415865562 136886.424394935...</td>\n",
       "    </tr>\n",
       "    <tr>\n",
       "      <th>449</th>\n",
       "      <td>13478</td>\n",
       "      <td>3.333333</td>\n",
       "      <td>LINESTRING (397745.1880839543 137002.753481059...</td>\n",
       "    </tr>\n",
       "  </tbody>\n",
       "</table>\n",
       "<p>450 rows × 3 columns</p>\n",
       "</div>"
      ],
      "text/plain": [
       "     index       csl                                           geometry\n",
       "0       97  3.354839  LINESTRING (398596.2266464538 136323.170924826...\n",
       "1       98  3.466667  LINESTRING (398596.2016429628 136476.912831046...\n",
       "2      101  2.636364  LINESTRING (398594.2058833765 136882.818725917...\n",
       "3      102  3.073171  LINESTRING (398594.7340700076 136925.870609674...\n",
       "4      103  2.686275  LINESTRING (398596.8716300512 137053.344448108...\n",
       "5      104  4.200000  LINESTRING (398596.6816270133 137185.944475026...\n",
       "6      126  3.000000  LINESTRING (398357.2342854695 136329.369920676...\n",
       "7      127  3.395062  LINESTRING (398358.0230948051 136476.494388065...\n",
       "8      128  3.476190  LINESTRING (398357.7917167192 136610.684352811...\n",
       "9      131  1.000000  LINESTRING (398358.0315822557 137031.104438184...\n",
       "10     132  2.523810  LINESTRING (398358.0415817581 137053.084442649...\n",
       "11     134  2.571429  LINESTRING (398358.3115757817 137319.324496716...\n",
       "12     135  3.000000  LINESTRING (398357.9687002253 137341.028876111...\n",
       "13     136  3.565217  LINESTRING (398357.6260120034 137369.684444423...\n",
       "14     137  3.655738  LINESTRING (398357.711570832 137532.9045400641...\n",
       "15     138  3.909091  LINESTRING (398357.5818812887 137621.844558121...\n",
       "16     139  4.121212  LINESTRING (398357.2616292363 137709.724575957...\n",
       "17     140  3.872340  LINESTRING (398358.3615011015 137857.774606037...\n",
       "18     179  3.200000  LINESTRING (398681.8141136852 135774.032565249...\n",
       "19     180  2.666667  LINESTRING (398681.151673958 135866.664209047,...\n",
       "20     181  3.291667  LINESTRING (398682.761672241 135956.8942274062...\n",
       "21     182  3.089552  LINESTRING (398678.3916697566 136027.764241692...\n",
       "22     183  2.857143  LINESTRING (398678.8216660817 136193.964275457...\n",
       "23     250  3.750000  LINESTRING (398098.5116048084 136476.994319797...\n",
       "24     251  2.567568  LINESTRING (398098.6619144644 136603.970470586...\n",
       "25     252  2.432432  LINESTRING (398098.8215365579 136733.924371977...\n",
       "26     253  2.666667  LINESTRING (398098.853845627 136885.6504027838...\n",
       "27     254  3.818182  LINESTRING (398099.1815305413 137002.984426618...\n",
       "28     255  3.000000  LINESTRING (398098.8640273818 137139.661391860...\n",
       "29     256  3.000000  LINESTRING (398098.6435262816 137186.25815132,...\n",
       "..     ...       ...                                                ...\n",
       "420  11485  3.000000  LINESTRING (401417.4622564945 134586.974011097...\n",
       "421  11886  3.500000  LINESTRING (398357.5891517256 136719.224312348...\n",
       "422  11960  2.409091  LINESTRING (399213.622257599 136929.2815618861...\n",
       "423  12047  2.000000  LINESTRING (399706.171524161 137836.0881946796...\n",
       "424  12064  3.944444  LINESTRING (395976.1711440845 135103.803993016...\n",
       "425  12065  3.346939  LINESTRING (395646.5010689439 135479.414124346...\n",
       "426  12259  4.272727  LINESTRING (399949.541870103 135774.7342190914...\n",
       "427  12260  4.000000  LINESTRING (400041.5919512223 135774.804221190...\n",
       "428  12261  4.000000  LINESTRING (400134.6419700501 135774.824223301...\n",
       "429  12262  3.800000  LINESTRING (400331.8020099377 135774.444227690...\n",
       "430  12263  3.972603  LINESTRING (400436.8520311911 135774.554230095...\n",
       "431  12264  4.069444  LINESTRING (400541.4220523424 135774.334232419...\n",
       "432  12265  4.073529  LINESTRING (400638.0620718955 135774.244234591...\n",
       "433  12453  3.166667  LINESTRING (398945.5388601524 135525.703958281...\n",
       "434  12565  2.979592  LINESTRING (398681.8141136852 135774.032565249...\n",
       "435  12566  2.750000  LINESTRING (398682.9716788816 135665.294168192...\n",
       "436  12567  2.852459  LINESTRING (398683.4916805816 135594.687153864...\n",
       "437  12568  2.909091  LINESTRING (398682.9731820283 135526.034139912...\n",
       "438  12847  3.333333  LINESTRING (399213.3117892535 135528.354152379...\n",
       "439  12848  3.217391  LINESTRING (398945.5388601524 135525.703958281...\n",
       "440  12849  2.828947  LINESTRING (398801.9451436045 135525.552642500...\n",
       "441  12898  4.062500  LINESTRING (396820.1824318492 135455.717458525...\n",
       "442  12942  2.750000  LINESTRING (398682.9716788816 135665.294168192...\n",
       "443  13305  1.000000  LINESTRING (401257.2321709766 136928.174482993...\n",
       "444  13306  2.000000  LINESTRING (401374.4780696586 136929.754360974...\n",
       "445  13435  2.750000  LINESTRING (400734.3621200577 134508.673979709...\n",
       "446  13447  4.000000  LINESTRING (396168.2149250638 135452.374880628...\n",
       "447  13449  3.921569  LINESTRING (396099.2773485429 135455.705379752...\n",
       "448  13477  3.566667  LINESTRING (397745.0415865562 136886.424394935...\n",
       "449  13478  3.333333  LINESTRING (397745.1880839543 137002.753481059...\n",
       "\n",
       "[450 rows x 3 columns]"
      ]
     },
     "execution_count": 110,
     "metadata": {},
     "output_type": "execute_result"
    }
   ],
   "source": [
    "seg_csl"
   ]
  },
  {
   "cell_type": "code",
   "execution_count": 151,
   "metadata": {
    "collapsed": true
   },
   "outputs": [],
   "source": [
    "def y_knn_moran():\n",
    "    res = []\n",
    "    for k in [1,2,3,4,5,6,7,8, 9, 10]:\n",
    "        w = pysal.weights.KNN.from_dataframe(seg_csl[['geometry']], k=k)\n",
    "        mi = pysal.Moran(y,w,two_tailed=True, permutations=999)\n",
    "        res.append((k, mi.I, mi.EI, mi.p_norm, mi.p_rand, mi.p_sim, mi.p_z_sim, mi.z_norm, mi.z_rand))\n",
    "    y_df_knn = pd.DataFrame(res)\n",
    "    y_df_knn.columns = ['k', 'I', 'EI', 'p_norm', 'p_rand', 'p_sim', 'p_z_sim', 'z_norm', 'z_rand']\n",
    "    y_df_knn.set_index('k',inplace=True)\n",
    "    return y_df_knn"
   ]
  },
  {
   "cell_type": "code",
   "execution_count": 154,
   "metadata": {},
   "outputs": [
    {
     "data": {
      "text/html": [
       "<div>\n",
       "<style>\n",
       "    .dataframe thead tr:only-child th {\n",
       "        text-align: right;\n",
       "    }\n",
       "\n",
       "    .dataframe thead th {\n",
       "        text-align: left;\n",
       "    }\n",
       "\n",
       "    .dataframe tbody tr th {\n",
       "        vertical-align: top;\n",
       "    }\n",
       "</style>\n",
       "<table border=\"1\" class=\"dataframe\">\n",
       "  <thead>\n",
       "    <tr style=\"text-align: right;\">\n",
       "      <th></th>\n",
       "      <th>I</th>\n",
       "      <th>EI</th>\n",
       "      <th>p_norm</th>\n",
       "      <th>p_rand</th>\n",
       "      <th>p_sim</th>\n",
       "      <th>p_z_sim</th>\n",
       "      <th>z_norm</th>\n",
       "      <th>z_rand</th>\n",
       "    </tr>\n",
       "    <tr>\n",
       "      <th>k</th>\n",
       "      <th></th>\n",
       "      <th></th>\n",
       "      <th></th>\n",
       "      <th></th>\n",
       "      <th></th>\n",
       "      <th></th>\n",
       "      <th></th>\n",
       "      <th></th>\n",
       "    </tr>\n",
       "  </thead>\n",
       "  <tbody>\n",
       "    <tr>\n",
       "      <th>1</th>\n",
       "      <td>0.553485</td>\n",
       "      <td>-0.002227</td>\n",
       "      <td>0.0</td>\n",
       "      <td>0.0</td>\n",
       "      <td>0.001</td>\n",
       "      <td>0.0</td>\n",
       "      <td>9.580850</td>\n",
       "      <td>11.697648</td>\n",
       "    </tr>\n",
       "    <tr>\n",
       "      <th>2</th>\n",
       "      <td>0.554943</td>\n",
       "      <td>-0.002227</td>\n",
       "      <td>0.0</td>\n",
       "      <td>0.0</td>\n",
       "      <td>0.001</td>\n",
       "      <td>0.0</td>\n",
       "      <td>12.453631</td>\n",
       "      <td>15.196297</td>\n",
       "    </tr>\n",
       "    <tr>\n",
       "      <th>3</th>\n",
       "      <td>0.510821</td>\n",
       "      <td>-0.002227</td>\n",
       "      <td>0.0</td>\n",
       "      <td>0.0</td>\n",
       "      <td>0.001</td>\n",
       "      <td>0.0</td>\n",
       "      <td>14.013379</td>\n",
       "      <td>17.083941</td>\n",
       "    </tr>\n",
       "    <tr>\n",
       "      <th>4</th>\n",
       "      <td>0.456902</td>\n",
       "      <td>-0.002227</td>\n",
       "      <td>0.0</td>\n",
       "      <td>0.0</td>\n",
       "      <td>0.001</td>\n",
       "      <td>0.0</td>\n",
       "      <td>14.500473</td>\n",
       "      <td>17.661231</td>\n",
       "    </tr>\n",
       "    <tr>\n",
       "      <th>5</th>\n",
       "      <td>0.407120</td>\n",
       "      <td>-0.002227</td>\n",
       "      <td>0.0</td>\n",
       "      <td>0.0</td>\n",
       "      <td>0.001</td>\n",
       "      <td>0.0</td>\n",
       "      <td>14.451868</td>\n",
       "      <td>17.585877</td>\n",
       "    </tr>\n",
       "    <tr>\n",
       "      <th>6</th>\n",
       "      <td>0.369557</td>\n",
       "      <td>-0.002227</td>\n",
       "      <td>0.0</td>\n",
       "      <td>0.0</td>\n",
       "      <td>0.001</td>\n",
       "      <td>0.0</td>\n",
       "      <td>14.398179</td>\n",
       "      <td>17.503944</td>\n",
       "    </tr>\n",
       "    <tr>\n",
       "      <th>7</th>\n",
       "      <td>0.340758</td>\n",
       "      <td>-0.002227</td>\n",
       "      <td>0.0</td>\n",
       "      <td>0.0</td>\n",
       "      <td>0.001</td>\n",
       "      <td>0.0</td>\n",
       "      <td>14.417794</td>\n",
       "      <td>17.510164</td>\n",
       "    </tr>\n",
       "    <tr>\n",
       "      <th>8</th>\n",
       "      <td>0.319585</td>\n",
       "      <td>-0.002227</td>\n",
       "      <td>0.0</td>\n",
       "      <td>0.0</td>\n",
       "      <td>0.001</td>\n",
       "      <td>0.0</td>\n",
       "      <td>14.493063</td>\n",
       "      <td>17.584380</td>\n",
       "    </tr>\n",
       "    <tr>\n",
       "      <th>9</th>\n",
       "      <td>0.293606</td>\n",
       "      <td>-0.002227</td>\n",
       "      <td>0.0</td>\n",
       "      <td>0.0</td>\n",
       "      <td>0.001</td>\n",
       "      <td>0.0</td>\n",
       "      <td>14.141535</td>\n",
       "      <td>17.141381</td>\n",
       "    </tr>\n",
       "    <tr>\n",
       "      <th>10</th>\n",
       "      <td>0.282055</td>\n",
       "      <td>-0.002227</td>\n",
       "      <td>0.0</td>\n",
       "      <td>0.0</td>\n",
       "      <td>0.001</td>\n",
       "      <td>0.0</td>\n",
       "      <td>14.349043</td>\n",
       "      <td>17.375973</td>\n",
       "    </tr>\n",
       "  </tbody>\n",
       "</table>\n",
       "</div>"
      ],
      "text/plain": [
       "           I        EI  p_norm  p_rand  p_sim  p_z_sim     z_norm     z_rand\n",
       "k                                                                           \n",
       "1   0.553485 -0.002227     0.0     0.0  0.001      0.0   9.580850  11.697648\n",
       "2   0.554943 -0.002227     0.0     0.0  0.001      0.0  12.453631  15.196297\n",
       "3   0.510821 -0.002227     0.0     0.0  0.001      0.0  14.013379  17.083941\n",
       "4   0.456902 -0.002227     0.0     0.0  0.001      0.0  14.500473  17.661231\n",
       "5   0.407120 -0.002227     0.0     0.0  0.001      0.0  14.451868  17.585877\n",
       "6   0.369557 -0.002227     0.0     0.0  0.001      0.0  14.398179  17.503944\n",
       "7   0.340758 -0.002227     0.0     0.0  0.001      0.0  14.417794  17.510164\n",
       "8   0.319585 -0.002227     0.0     0.0  0.001      0.0  14.493063  17.584380\n",
       "9   0.293606 -0.002227     0.0     0.0  0.001      0.0  14.141535  17.141381\n",
       "10  0.282055 -0.002227     0.0     0.0  0.001      0.0  14.349043  17.375973"
      ]
     },
     "execution_count": 154,
     "metadata": {},
     "output_type": "execute_result"
    }
   ],
   "source": [
    "y_df_knn=y_knn_moran()\n",
    "y_df_knn.to_csv('spatial-corr/moran-i-y-knn.csv')\n",
    "y_df_knn"
   ]
  },
  {
   "cell_type": "code",
   "execution_count": 137,
   "metadata": {},
   "outputs": [
    {
     "data": {
      "text/plain": [
       "450"
      ]
     },
     "execution_count": 137,
     "metadata": {},
     "output_type": "execute_result"
    }
   ],
   "source": [
    "seg_csl.shape[0]"
   ]
  },
  {
   "cell_type": "code",
   "execution_count": 164,
   "metadata": {
    "collapsed": true
   },
   "outputs": [],
   "source": [
    "def y_db_moran(y, seg_csl, binary=False):\n",
    "    res = []\n",
    "    for d in dbs:\n",
    "        w = pysal.weights.DistanceBand.from_dataframe(seg_csl, threshold=d, binary=binary, silent=True)\n",
    "        mi = pysal.Moran(y,w,two_tailed=True, permutations=999)\n",
    "        res.append((d, mi.I, mi.EI, mi.p_norm, mi.p_rand, mi.p_sim, mi.p_z_sim, mi.z_norm, mi.z_rand, len(w.islands)/seg_csl.shape[0]))\n",
    "    df = pd.DataFrame(res)\n",
    "    df.columns = ['db', 'I', 'EI', 'p_norm', 'p_rand', 'p_sim', 'p_z_sim', 'z_norm', 'z_rand', 'pcnt_islands']\n",
    "    return df"
   ]
  },
  {
   "cell_type": "code",
   "execution_count": 165,
   "metadata": {
    "collapsed": true
   },
   "outputs": [
    {
     "name": "stderr",
     "output_type": "stream",
     "text": [
      "D:\\ProgramFiles\\Anaconda3\\lib\\site-packages\\pysal\\esda\\moran.py:188: RuntimeWarning: invalid value encountered in double_scalars\n",
      "  self.VI_norm = v_num / v_den - (1.0 / (n - 1)) ** 2\n",
      "D:\\ProgramFiles\\Anaconda3\\lib\\site-packages\\pysal\\esda\\moran.py:192: RuntimeWarning: divide by zero encountered in double_scalars\n",
      "  vi = (1 / (((n - 1) ** 3) * s02)) * ((n * ((n * n - 3 * n + 3)\n",
      "D:\\ProgramFiles\\Anaconda3\\lib\\site-packages\\pysal\\esda\\moran.py:195: RuntimeWarning: invalid value encountered in double_scalars\n",
      "  s2 + 6 * s02)))\n",
      "D:\\ProgramFiles\\Anaconda3\\lib\\site-packages\\pysal\\esda\\moran.py:202: RuntimeWarning: divide by zero encountered in double_scalars\n",
      "  return self.n / self.w.s0 * inum / self.z2ss\n",
      "D:\\ProgramFiles\\Anaconda3\\lib\\site-packages\\pysal\\esda\\moran.py:202: RuntimeWarning: invalid value encountered in double_scalars\n",
      "  return self.n / self.w.s0 * inum / self.z2ss\n",
      "D:\\ProgramFiles\\Anaconda3\\lib\\site-packages\\scipy\\stats\\_distn_infrastructure.py:879: RuntimeWarning: invalid value encountered in greater\n",
      "  return (self.a < x) & (x < self.b)\n",
      "D:\\ProgramFiles\\Anaconda3\\lib\\site-packages\\scipy\\stats\\_distn_infrastructure.py:879: RuntimeWarning: invalid value encountered in less\n",
      "  return (self.a < x) & (x < self.b)\n",
      "D:\\ProgramFiles\\Anaconda3\\lib\\site-packages\\scipy\\stats\\_distn_infrastructure.py:1735: RuntimeWarning: invalid value encountered in greater_equal\n",
      "  cond2 = (x >= self.b) & cond0\n",
      "D:\\ProgramFiles\\Anaconda3\\lib\\site-packages\\pysal\\esda\\moran.py:160: RuntimeWarning: invalid value encountered in greater_equal\n",
      "  above = sim >= self.I\n"
     ]
    }
   ],
   "source": [
    "y_df_db_binary = y_db_moran(y, seg_csl, True)"
   ]
  },
  {
   "cell_type": "code",
   "execution_count": 166,
   "metadata": {},
   "outputs": [
    {
     "data": {
      "text/html": [
       "<div>\n",
       "<style>\n",
       "    .dataframe thead tr:only-child th {\n",
       "        text-align: right;\n",
       "    }\n",
       "\n",
       "    .dataframe thead th {\n",
       "        text-align: left;\n",
       "    }\n",
       "\n",
       "    .dataframe tbody tr th {\n",
       "        vertical-align: top;\n",
       "    }\n",
       "</style>\n",
       "<table border=\"1\" class=\"dataframe\">\n",
       "  <thead>\n",
       "    <tr style=\"text-align: right;\">\n",
       "      <th></th>\n",
       "      <th>db</th>\n",
       "      <th>I</th>\n",
       "      <th>EI</th>\n",
       "      <th>p_norm</th>\n",
       "      <th>p_rand</th>\n",
       "      <th>p_sim</th>\n",
       "      <th>p_z_sim</th>\n",
       "      <th>z_norm</th>\n",
       "      <th>z_rand</th>\n",
       "      <th>pcnt_islands</th>\n",
       "    </tr>\n",
       "  </thead>\n",
       "  <tbody>\n",
       "    <tr>\n",
       "      <th>0</th>\n",
       "      <td>10</td>\n",
       "      <td>NaN</td>\n",
       "      <td>-0.002227</td>\n",
       "      <td>NaN</td>\n",
       "      <td>NaN</td>\n",
       "      <td>0.001</td>\n",
       "      <td>NaN</td>\n",
       "      <td>NaN</td>\n",
       "      <td>NaN</td>\n",
       "      <td>1.000000</td>\n",
       "    </tr>\n",
       "    <tr>\n",
       "      <th>1</th>\n",
       "      <td>50</td>\n",
       "      <td>0.906813</td>\n",
       "      <td>-0.002227</td>\n",
       "      <td>0.000001</td>\n",
       "      <td>2.983049e-09</td>\n",
       "      <td>0.001</td>\n",
       "      <td>5.621375e-07</td>\n",
       "      <td>4.858226</td>\n",
       "      <td>5.932528</td>\n",
       "      <td>0.886667</td>\n",
       "    </tr>\n",
       "    <tr>\n",
       "      <th>2</th>\n",
       "      <td>100</td>\n",
       "      <td>0.562882</td>\n",
       "      <td>-0.002227</td>\n",
       "      <td>0.000000</td>\n",
       "      <td>0.000000e+00</td>\n",
       "      <td>0.001</td>\n",
       "      <td>0.000000e+00</td>\n",
       "      <td>9.155715</td>\n",
       "      <td>11.175891</td>\n",
       "      <td>0.295556</td>\n",
       "    </tr>\n",
       "    <tr>\n",
       "      <th>3</th>\n",
       "      <td>150</td>\n",
       "      <td>0.515658</td>\n",
       "      <td>-0.002227</td>\n",
       "      <td>0.000000</td>\n",
       "      <td>0.000000e+00</td>\n",
       "      <td>0.001</td>\n",
       "      <td>0.000000e+00</td>\n",
       "      <td>12.149401</td>\n",
       "      <td>14.820376</td>\n",
       "      <td>0.055556</td>\n",
       "    </tr>\n",
       "    <tr>\n",
       "      <th>4</th>\n",
       "      <td>200</td>\n",
       "      <td>0.453124</td>\n",
       "      <td>-0.002227</td>\n",
       "      <td>0.000000</td>\n",
       "      <td>0.000000e+00</td>\n",
       "      <td>0.001</td>\n",
       "      <td>0.000000e+00</td>\n",
       "      <td>13.078427</td>\n",
       "      <td>15.938740</td>\n",
       "      <td>0.024444</td>\n",
       "    </tr>\n",
       "    <tr>\n",
       "      <th>5</th>\n",
       "      <td>300</td>\n",
       "      <td>0.357936</td>\n",
       "      <td>-0.002227</td>\n",
       "      <td>0.000000</td>\n",
       "      <td>0.000000e+00</td>\n",
       "      <td>0.001</td>\n",
       "      <td>0.000000e+00</td>\n",
       "      <td>14.231467</td>\n",
       "      <td>17.297475</td>\n",
       "      <td>0.008889</td>\n",
       "    </tr>\n",
       "    <tr>\n",
       "      <th>6</th>\n",
       "      <td>400</td>\n",
       "      <td>0.236543</td>\n",
       "      <td>-0.002227</td>\n",
       "      <td>0.000000</td>\n",
       "      <td>0.000000e+00</td>\n",
       "      <td>0.001</td>\n",
       "      <td>0.000000e+00</td>\n",
       "      <td>11.844820</td>\n",
       "      <td>14.349943</td>\n",
       "      <td>0.002222</td>\n",
       "    </tr>\n",
       "  </tbody>\n",
       "</table>\n",
       "</div>"
      ],
      "text/plain": [
       "    db         I        EI    p_norm        p_rand  p_sim       p_z_sim  \\\n",
       "0   10       NaN -0.002227       NaN           NaN  0.001           NaN   \n",
       "1   50  0.906813 -0.002227  0.000001  2.983049e-09  0.001  5.621375e-07   \n",
       "2  100  0.562882 -0.002227  0.000000  0.000000e+00  0.001  0.000000e+00   \n",
       "3  150  0.515658 -0.002227  0.000000  0.000000e+00  0.001  0.000000e+00   \n",
       "4  200  0.453124 -0.002227  0.000000  0.000000e+00  0.001  0.000000e+00   \n",
       "5  300  0.357936 -0.002227  0.000000  0.000000e+00  0.001  0.000000e+00   \n",
       "6  400  0.236543 -0.002227  0.000000  0.000000e+00  0.001  0.000000e+00   \n",
       "\n",
       "      z_norm     z_rand  pcnt_islands  \n",
       "0        NaN        NaN      1.000000  \n",
       "1   4.858226   5.932528      0.886667  \n",
       "2   9.155715  11.175891      0.295556  \n",
       "3  12.149401  14.820376      0.055556  \n",
       "4  13.078427  15.938740      0.024444  \n",
       "5  14.231467  17.297475      0.008889  \n",
       "6  11.844820  14.349943      0.002222  "
      ]
     },
     "execution_count": 166,
     "metadata": {},
     "output_type": "execute_result"
    }
   ],
   "source": [
    "y_df_db_binary.to_csv('spatial-corr/moran-i-y-distanceband-binary.csv')\n",
    "y_df_db_binary"
   ]
  },
  {
   "cell_type": "code",
   "execution_count": 167,
   "metadata": {
    "collapsed": true
   },
   "outputs": [
    {
     "name": "stderr",
     "output_type": "stream",
     "text": [
      "D:\\ProgramFiles\\Anaconda3\\lib\\site-packages\\scipy\\sparse\\data.py:103: RuntimeWarning: divide by zero encountered in reciprocal\n",
      "  return self._with_data(data ** n)\n",
      "D:\\ProgramFiles\\Anaconda3\\lib\\site-packages\\pysal\\esda\\moran.py:188: RuntimeWarning: invalid value encountered in double_scalars\n",
      "  self.VI_norm = v_num / v_den - (1.0 / (n - 1)) ** 2\n",
      "D:\\ProgramFiles\\Anaconda3\\lib\\site-packages\\pysal\\esda\\moran.py:192: RuntimeWarning: divide by zero encountered in double_scalars\n",
      "  vi = (1 / (((n - 1) ** 3) * s02)) * ((n * ((n * n - 3 * n + 3)\n",
      "D:\\ProgramFiles\\Anaconda3\\lib\\site-packages\\pysal\\esda\\moran.py:195: RuntimeWarning: invalid value encountered in double_scalars\n",
      "  s2 + 6 * s02)))\n",
      "D:\\ProgramFiles\\Anaconda3\\lib\\site-packages\\pysal\\esda\\moran.py:202: RuntimeWarning: divide by zero encountered in double_scalars\n",
      "  return self.n / self.w.s0 * inum / self.z2ss\n",
      "D:\\ProgramFiles\\Anaconda3\\lib\\site-packages\\pysal\\esda\\moran.py:202: RuntimeWarning: invalid value encountered in double_scalars\n",
      "  return self.n / self.w.s0 * inum / self.z2ss\n",
      "D:\\ProgramFiles\\Anaconda3\\lib\\site-packages\\scipy\\stats\\_distn_infrastructure.py:879: RuntimeWarning: invalid value encountered in greater\n",
      "  return (self.a < x) & (x < self.b)\n",
      "D:\\ProgramFiles\\Anaconda3\\lib\\site-packages\\scipy\\stats\\_distn_infrastructure.py:879: RuntimeWarning: invalid value encountered in less\n",
      "  return (self.a < x) & (x < self.b)\n",
      "D:\\ProgramFiles\\Anaconda3\\lib\\site-packages\\scipy\\stats\\_distn_infrastructure.py:1735: RuntimeWarning: invalid value encountered in greater_equal\n",
      "  cond2 = (x >= self.b) & cond0\n",
      "D:\\ProgramFiles\\Anaconda3\\lib\\site-packages\\pysal\\esda\\moran.py:160: RuntimeWarning: invalid value encountered in greater_equal\n",
      "  above = sim >= self.I\n"
     ]
    }
   ],
   "source": [
    "y_df_db_nonbinary = y_db_moran(y, seg_csl, False)"
   ]
  },
  {
   "cell_type": "code",
   "execution_count": 168,
   "metadata": {},
   "outputs": [
    {
     "data": {
      "text/html": [
       "<div>\n",
       "<style>\n",
       "    .dataframe thead tr:only-child th {\n",
       "        text-align: right;\n",
       "    }\n",
       "\n",
       "    .dataframe thead th {\n",
       "        text-align: left;\n",
       "    }\n",
       "\n",
       "    .dataframe tbody tr th {\n",
       "        vertical-align: top;\n",
       "    }\n",
       "</style>\n",
       "<table border=\"1\" class=\"dataframe\">\n",
       "  <thead>\n",
       "    <tr style=\"text-align: right;\">\n",
       "      <th></th>\n",
       "      <th>db</th>\n",
       "      <th>I</th>\n",
       "      <th>EI</th>\n",
       "      <th>p_norm</th>\n",
       "      <th>p_rand</th>\n",
       "      <th>p_sim</th>\n",
       "      <th>p_z_sim</th>\n",
       "      <th>z_norm</th>\n",
       "      <th>z_rand</th>\n",
       "      <th>pcnt_islands</th>\n",
       "    </tr>\n",
       "  </thead>\n",
       "  <tbody>\n",
       "    <tr>\n",
       "      <th>0</th>\n",
       "      <td>10</td>\n",
       "      <td>NaN</td>\n",
       "      <td>-0.002227</td>\n",
       "      <td>NaN</td>\n",
       "      <td>NaN</td>\n",
       "      <td>0.001</td>\n",
       "      <td>NaN</td>\n",
       "      <td>NaN</td>\n",
       "      <td>NaN</td>\n",
       "      <td>1.000000</td>\n",
       "    </tr>\n",
       "    <tr>\n",
       "      <th>1</th>\n",
       "      <td>50</td>\n",
       "      <td>0.900155</td>\n",
       "      <td>-0.002227</td>\n",
       "      <td>0.000001</td>\n",
       "      <td>4.187048e-09</td>\n",
       "      <td>0.001</td>\n",
       "      <td>0.000003</td>\n",
       "      <td>4.812432</td>\n",
       "      <td>5.876629</td>\n",
       "      <td>0.886667</td>\n",
       "    </tr>\n",
       "    <tr>\n",
       "      <th>2</th>\n",
       "      <td>100</td>\n",
       "      <td>0.565565</td>\n",
       "      <td>-0.002227</td>\n",
       "      <td>0.000000</td>\n",
       "      <td>0.000000e+00</td>\n",
       "      <td>0.001</td>\n",
       "      <td>0.000000</td>\n",
       "      <td>9.143949</td>\n",
       "      <td>11.161680</td>\n",
       "      <td>0.295556</td>\n",
       "    </tr>\n",
       "    <tr>\n",
       "      <th>3</th>\n",
       "      <td>150</td>\n",
       "      <td>0.527431</td>\n",
       "      <td>-0.002227</td>\n",
       "      <td>0.000000</td>\n",
       "      <td>0.000000e+00</td>\n",
       "      <td>0.001</td>\n",
       "      <td>0.000000</td>\n",
       "      <td>12.151339</td>\n",
       "      <td>14.824157</td>\n",
       "      <td>0.055556</td>\n",
       "    </tr>\n",
       "    <tr>\n",
       "      <th>4</th>\n",
       "      <td>200</td>\n",
       "      <td>0.486102</td>\n",
       "      <td>-0.002227</td>\n",
       "      <td>0.000000</td>\n",
       "      <td>0.000000e+00</td>\n",
       "      <td>0.001</td>\n",
       "      <td>0.000000</td>\n",
       "      <td>13.408815</td>\n",
       "      <td>16.345801</td>\n",
       "      <td>0.024444</td>\n",
       "    </tr>\n",
       "    <tr>\n",
       "      <th>5</th>\n",
       "      <td>300</td>\n",
       "      <td>0.418000</td>\n",
       "      <td>-0.002227</td>\n",
       "      <td>0.000000</td>\n",
       "      <td>0.000000e+00</td>\n",
       "      <td>0.001</td>\n",
       "      <td>0.000000</td>\n",
       "      <td>15.023114</td>\n",
       "      <td>18.279101</td>\n",
       "      <td>0.008889</td>\n",
       "    </tr>\n",
       "    <tr>\n",
       "      <th>6</th>\n",
       "      <td>400</td>\n",
       "      <td>0.327735</td>\n",
       "      <td>-0.002227</td>\n",
       "      <td>0.000000</td>\n",
       "      <td>0.000000e+00</td>\n",
       "      <td>0.001</td>\n",
       "      <td>0.000000</td>\n",
       "      <td>14.179222</td>\n",
       "      <td>17.216955</td>\n",
       "      <td>0.002222</td>\n",
       "    </tr>\n",
       "  </tbody>\n",
       "</table>\n",
       "</div>"
      ],
      "text/plain": [
       "    db         I        EI    p_norm        p_rand  p_sim   p_z_sim  \\\n",
       "0   10       NaN -0.002227       NaN           NaN  0.001       NaN   \n",
       "1   50  0.900155 -0.002227  0.000001  4.187048e-09  0.001  0.000003   \n",
       "2  100  0.565565 -0.002227  0.000000  0.000000e+00  0.001  0.000000   \n",
       "3  150  0.527431 -0.002227  0.000000  0.000000e+00  0.001  0.000000   \n",
       "4  200  0.486102 -0.002227  0.000000  0.000000e+00  0.001  0.000000   \n",
       "5  300  0.418000 -0.002227  0.000000  0.000000e+00  0.001  0.000000   \n",
       "6  400  0.327735 -0.002227  0.000000  0.000000e+00  0.001  0.000000   \n",
       "\n",
       "      z_norm     z_rand  pcnt_islands  \n",
       "0        NaN        NaN      1.000000  \n",
       "1   4.812432   5.876629      0.886667  \n",
       "2   9.143949  11.161680      0.295556  \n",
       "3  12.151339  14.824157      0.055556  \n",
       "4  13.408815  16.345801      0.024444  \n",
       "5  15.023114  18.279101      0.008889  \n",
       "6  14.179222  17.216955      0.002222  "
      ]
     },
     "execution_count": 168,
     "metadata": {},
     "output_type": "execute_result"
    }
   ],
   "source": [
    "y_df_db_nonbinary.to_csv('spatial-corr/moran-i-y-distanceband-non-binary.csv')\n",
    "y_df_db_nonbinary"
   ]
  },
  {
   "cell_type": "code",
   "execution_count": null,
   "metadata": {
    "collapsed": true
   },
   "outputs": [],
   "source": []
  }
 ],
 "metadata": {
  "kernelspec": {
   "display_name": "Python 3",
   "language": "python",
   "name": "python3"
  },
  "language_info": {
   "codemirror_mode": {
    "name": "ipython",
    "version": 3
   },
   "file_extension": ".py",
   "mimetype": "text/x-python",
   "name": "python",
   "nbconvert_exporter": "python",
   "pygments_lexer": "ipython3",
   "version": "3.6.1"
  }
 },
 "nbformat": 4,
 "nbformat_minor": 2
}
